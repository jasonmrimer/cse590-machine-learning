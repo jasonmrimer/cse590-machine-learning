{
 "cells": [
  {
   "cell_type": "code",
   "execution_count": null,
   "metadata": {},
   "outputs": [],
   "source": [
    "import itertools\n",
    "from sklearn.neighbors import KNeighborsRegressor, KNeighborsClassifier\n",
    "import pandas as pd\n",
    "import numpy as np\n",
    "import matplotlib.pyplot as plt\n",
    "from sklearn.linear_model import LinearRegression, Ridge, Lasso, LogisticRegression\n",
    "from sklearn.svm import SVC\n",
    "from sklearn.neighbors import NearestNeighbors"
   ]
  },
  {
   "cell_type": "markdown",
   "metadata": {},
   "source": [
    "# Classification"
   ]
  },
  {
   "cell_type": "code",
   "execution_count": null,
   "metadata": {
    "scrolled": true
   },
   "outputs": [],
   "source": [
    "train_set = pd.read_csv(\"./spam_train.csv\")\n",
    "test_set = pd.read_csv(\"./spam_test.csv\")"
   ]
  },
  {
   "cell_type": "code",
   "execution_count": null,
   "metadata": {},
   "outputs": [],
   "source": [
    "X_train = np.array(train_set[list(train_set.columns[1:-1])])\n",
    "y_train = np.array(train_set[\"class\"])\n",
    "X_test = np.array(test_set[list(test_set.columns[1:-1])])\n",
    "y_test = np.array(test_set[\"class\"])"
   ]
  },
  {
   "cell_type": "markdown",
   "metadata": {},
   "source": [
    "## KNN"
   ]
  },
  {
   "cell_type": "code",
   "execution_count": null,
   "metadata": {},
   "outputs": [],
   "source": [
    "accuracies_test = []\n",
    "accuracies_train = []\n",
    "for k in range(1,21):\n",
    "    knn = KNeighborsClassifier(n_neighbors=k)\n",
    "    knn.fit(X_train, y_train)\n",
    "    predictions_test = knn.predict(X_test)\n",
    "    predictions_train = knn.predict(X_train) \n",
    "    accuracies_test.append(np.round(np.sum(predictions_test==y_test)*100/len(y_test), 2))\n",
    "    accuracies_train.append(np.round(np.sum(predictions_train==y_train)*100/len(y_train), 2))"
   ]
  },
  {
   "cell_type": "code",
   "execution_count": null,
   "metadata": {
    "scrolled": true
   },
   "outputs": [],
   "source": [
    "plt.plot(np.arange(1,21),accuracies_train, marker=\"o\", label=\"Train\")\n",
    "plt.plot(np.arange(1,21),accuracies_test, marker=\"o\", label = \"Test\")\n",
    "_ = plt.xticks(np.arange(1,21))\n",
    "plt.xlabel(\"K\")\n",
    "plt.ylabel(\"Accuracy\")\n",
    "plt.legend()"
   ]
  },
  {
   "cell_type": "markdown",
   "metadata": {},
   "source": [
    "### ANALYSIS of Misclassified"
   ]
  },
  {
   "cell_type": "code",
   "execution_count": null,
   "metadata": {},
   "outputs": [],
   "source": [
    "optimal_k = 5\n",
    "knn = KNeighborsClassifier(n_neighbors=optimal_k)\n",
    "knn.fit(X_train, y_train)\n",
    "y_pred = knn.predict(X_test)"
   ]
  },
  {
   "cell_type": "code",
   "execution_count": null,
   "metadata": {},
   "outputs": [],
   "source": [
    "# Indices of misclassified samples\n",
    "misclassified_indices = np.where((y_pred!=y_test))[0]\n",
    "misclassified_indices"
   ]
  },
  {
   "cell_type": "code",
   "execution_count": null,
   "metadata": {},
   "outputs": [],
   "source": [
    "#Identify k nearest neighbors from the training set for each misclassified test sample\n",
    "k = 3\n",
    "nn = NearestNeighbors(n_neighbors=k)\n",
    "nn.fit(X_train)\n",
    "distances, indices = nn.kneighbors(X_test[misclassified_indices])"
   ]
  },
  {
   "cell_type": "code",
   "execution_count": null,
   "metadata": {},
   "outputs": [],
   "source": [
    "columns = [\"Misclassified Test idx\", \"True Class\", \"Pred Class\"]\n",
    "for i in range(k):\n",
    "    columns+= [\"Neigbor#{}_idx\".format(i+1), \"Neigbor#{}_True Class\".format(i+1), \"Neigbor#{}_Distance\".format(i+1)]\n",
    "\n",
    "df = pd.DataFrame(columns = columns)\n",
    "\n",
    "df[\"Misclassified Test idx\"] = misclassified_indices\n",
    "df[\"True Class\"] =  y_test[misclassified_indices]\n",
    "df[\"Pred Class\"] = y_pred[misclassified_indices]\n",
    "for i in range(k):\n",
    "    df[\"Neigbor#{}_idx\".format(i+1)] = indices[:,i]\n",
    "    df[\"Neigbor#{}_True Class\".format(i+1)] = y_train[indices[:,i]]\n",
    "    df[\"Neigbor#{}_Distance\".format(i+1)] = np.around(distances[:,i], decimals=2)"
   ]
  },
  {
   "cell_type": "code",
   "execution_count": null,
   "metadata": {},
   "outputs": [],
   "source": [
    "df"
   ]
  },
  {
   "cell_type": "code",
   "execution_count": null,
   "metadata": {},
   "outputs": [],
   "source": [
    "idx = 243 #between 0 and 243\n",
    "print(\"Test sample {} is misclassified.\".format(misclassified_indices[idx]))\n",
    "print(\"True class: {}\".format(y_test[misclassified_indices][idx]))\n",
    "print(\"Predicted class: {}\".format(y_pred[misclassified_indices][idx]))\n",
    "for i in range(k):\n",
    "    print(\"Neighbor#{}: Train index {} ; True Class {} ; Distance {:.2f}\".format(i+1, indices[idx,i], y_train[indices[idx,i]], distances[idx, i]))"
   ]
  },
  {
   "cell_type": "markdown",
   "metadata": {},
   "source": [
    "## Logistic Regression"
   ]
  },
  {
   "cell_type": "code",
   "execution_count": null,
   "metadata": {
    "scrolled": true
   },
   "outputs": [],
   "source": [
    "accuracies_test = []\n",
    "accuracies_train = []\n",
    "c_vals = [0.1,1.0,2.0,3.0,4.0,5.0]\n",
    "for i in c_vals:\n",
    "    clf = LogisticRegression(random_state=0, C=i, solver = \"liblinear\").fit(X_train, y_train)\n",
    "    accuracies_test.append(100*clf.score(X_test, y_test))\n",
    "    accuracies_train.append(100*clf.score(X_train, y_train))"
   ]
  },
  {
   "cell_type": "code",
   "execution_count": null,
   "metadata": {
    "scrolled": true
   },
   "outputs": [],
   "source": [
    "plt.plot(c_vals,accuracies_train, marker=\"o\", label=\"Train\")\n",
    "plt.plot(c_vals,accuracies_test, marker=\"o\", label = \"Test\")\n",
    "_ = plt.xticks(c_vals)\n",
    "plt.xlabel(\"C\")\n",
    "plt.ylabel(\"Accuracy\")\n",
    "plt.legend()"
   ]
  },
  {
   "cell_type": "markdown",
   "metadata": {},
   "source": [
    "### ANALYSIS of Misclassified"
   ]
  },
  {
   "cell_type": "code",
   "execution_count": null,
   "metadata": {},
   "outputs": [],
   "source": [
    "optimal_C = 1.0\n",
    "clf = LogisticRegression(random_state=0, C=i, solver = \"liblinear\")\n",
    "clf.fit(X_train, y_train)\n",
    "y_pred = clf.predict(X_test)"
   ]
  },
  {
   "cell_type": "code",
   "execution_count": null,
   "metadata": {},
   "outputs": [],
   "source": [
    "# Indices of misclassified samples\n",
    "misclassified_indices = np.where((y_pred!=y_test))[0]"
   ]
  },
  {
   "cell_type": "code",
   "execution_count": null,
   "metadata": {},
   "outputs": [],
   "source": [
    "#Identify k nearest neighbors from the training set for each misclassified test sample\n",
    "k = 3\n",
    "nn = NearestNeighbors(n_neighbors=k)\n",
    "nn.fit(X_train)\n",
    "distances, indices = nn.kneighbors(X_test[misclassified_indices])"
   ]
  },
  {
   "cell_type": "code",
   "execution_count": null,
   "metadata": {},
   "outputs": [],
   "source": [
    "columns = [\"Misclassified Test idx\", \"True Class\", \"Pred Class\"]\n",
    "for i in range(k):\n",
    "    columns+= [\"Neigbor#{}_idx\".format(i+1), \"Neigbor#{}_True Class\".format(i+1), \"Neigbor#{}_Distance\".format(i+1)]\n",
    "\n",
    "df = pd.DataFrame(columns = columns)\n",
    "\n",
    "df[\"Misclassified Test idx\"] = misclassified_indices\n",
    "df[\"True Class\"] =  y_test[misclassified_indices]\n",
    "df[\"Pred Class\"] = y_pred[misclassified_indices]\n",
    "for i in range(k):\n",
    "    df[\"Neigbor#{}_idx\".format(i+1)] = indices[:,i]\n",
    "    df[\"Neigbor#{}_True Class\".format(i+1)] = y_train[indices[:,i]]\n",
    "    df[\"Neigbor#{}_Distance\".format(i+1)] = np.around(distances[:,i], decimals=2)"
   ]
  },
  {
   "cell_type": "code",
   "execution_count": null,
   "metadata": {},
   "outputs": [],
   "source": [
    "df"
   ]
  },
  {
   "cell_type": "code",
   "execution_count": null,
   "metadata": {},
   "outputs": [],
   "source": [
    "idx = 1 #between 0 and 87\n",
    "print(\"Test sample {} is misclassified.\".format(misclassified_indices[idx]))\n",
    "print(\"True class: {}\".format(y_test[misclassified_indices][idx]))\n",
    "print(\"Predicted class: {}\".format(y_pred[misclassified_indices][idx]))\n",
    "for i in range(k):\n",
    "    print(\"Neighbor#{}: Train index {} ; True Class {} ; Distance {:.2f}\".format(i+1, indices[idx,i], y_train[indices[idx,i]], distances[idx, i]))"
   ]
  },
  {
   "cell_type": "markdown",
   "metadata": {},
   "source": [
    "## Linear Support Vector Machines Classifier"
   ]
  },
  {
   "cell_type": "code",
   "execution_count": null,
   "metadata": {},
   "outputs": [],
   "source": [
    "accuracies_test = []\n",
    "accuracies_train = []\n",
    "c_vals = [0.1,1.0,5.0, 10.0, 15.0, 20.0]\n",
    "for i in c_vals:\n",
    "#     clf = make_pipeline(StandardScaler(), SVC(gamma='auto', C=i)).fit(X_train, y_train)\n",
    "    clf =  SVC(gamma='auto', C=i).fit(X_train, y_train)\n",
    "    accuracies_test.append(100*clf.score(X_test, y_test))\n",
    "    accuracies_train.append(100*clf.score(X_train, y_train))"
   ]
  },
  {
   "cell_type": "code",
   "execution_count": null,
   "metadata": {},
   "outputs": [],
   "source": [
    "plt.plot(c_vals,accuracies_train, marker=\"o\", label=\"Train\")\n",
    "plt.plot(c_vals,accuracies_test, marker=\"o\", label = \"Test\")\n",
    "_ = plt.xticks(c_vals)\n",
    "plt.xlabel(\"C\")\n",
    "plt.ylabel(\"Accuracy\")\n",
    "plt.legend()"
   ]
  },
  {
   "cell_type": "code",
   "execution_count": null,
   "metadata": {},
   "outputs": [],
   "source": [
    "optimal_C = 5.0\n",
    "clf = SVC(gamma='auto', C=i)\n",
    "clf.fit(X_train, y_train)\n",
    "y_pred = clf.predict(X_test)"
   ]
  },
  {
   "cell_type": "code",
   "execution_count": null,
   "metadata": {},
   "outputs": [],
   "source": [
    "# Indices of misclassified samples\n",
    "misclassified_indices = np.where((y_pred!=y_test))[0]"
   ]
  },
  {
   "cell_type": "code",
   "execution_count": null,
   "metadata": {},
   "outputs": [],
   "source": [
    "#Identify k nearest neighbors from the training set for each misclassified test sample\n",
    "k = 3\n",
    "nn = NearestNeighbors(n_neighbors=k)\n",
    "nn.fit(X_train)\n",
    "distances, indices = nn.kneighbors(X_test[misclassified_indices])"
   ]
  },
  {
   "cell_type": "code",
   "execution_count": null,
   "metadata": {},
   "outputs": [],
   "source": [
    "columns = [\"Misclassified Test idx\", \"True Class\", \"Pred Class\"]\n",
    "for i in range(k):\n",
    "    columns+= [\"Neigbor#{}_idx\".format(i+1), \"Neigbor#{}_True Class\".format(i+1), \"Neigbor#{}_Distance\".format(i+1)]\n",
    "\n",
    "df = pd.DataFrame(columns = columns)\n",
    "\n",
    "df[\"Misclassified Test idx\"] = misclassified_indices\n",
    "df[\"True Class\"] =  y_test[misclassified_indices]\n",
    "df[\"Pred Class\"] = y_pred[misclassified_indices]\n",
    "for i in range(k):\n",
    "    df[\"Neigbor#{}_idx\".format(i+1)] = indices[:,i]\n",
    "    df[\"Neigbor#{}_True Class\".format(i+1)] = y_train[indices[:,i]]\n",
    "    df[\"Neigbor#{}_Distance\".format(i+1)] = np.around(distances[:,i], decimals=2)"
   ]
  },
  {
   "cell_type": "code",
   "execution_count": null,
   "metadata": {},
   "outputs": [],
   "source": [
    "df"
   ]
  },
  {
   "cell_type": "code",
   "execution_count": null,
   "metadata": {},
   "outputs": [],
   "source": [
    "idx = 3 #between 0 and 89\n",
    "print(\"Test sample {} is misclassified.\".format(misclassified_indices[idx]))\n",
    "print(\"True class: {}\".format(y_test[misclassified_indices][idx]))\n",
    "print(\"Predicted class: {}\".format(y_pred[misclassified_indices][idx]))\n",
    "for i in range(k):\n",
    "    print(\"Neighbor#{}: Train index {} ; True Class {} ; Distance {:.2f}\".format(i+1, indices[idx,i], y_train[indices[idx,i]], distances[idx, i]))"
   ]
  }
 ],
 "metadata": {
  "kernelspec": {
   "display_name": "Python 3",
   "language": "python",
   "name": "python3"
  },
  "language_info": {
   "codemirror_mode": {
    "name": "ipython",
    "version": 3
   },
   "file_extension": ".py",
   "mimetype": "text/x-python",
   "name": "python",
   "nbconvert_exporter": "python",
   "pygments_lexer": "ipython3",
   "version": "3.8.5"
  }
 },
 "nbformat": 4,
 "nbformat_minor": 2
}
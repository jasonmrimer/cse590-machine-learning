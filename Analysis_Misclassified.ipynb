{
 "cells": [
  {
   "cell_type": "code",
   "execution_count": 1,
   "metadata": {},
   "outputs": [],
   "source": [
    "import itertools\n",
    "from sklearn.neighbors import KNeighborsRegressor, KNeighborsClassifier\n",
    "import pandas as pd\n",
    "import numpy as np\n",
    "import matplotlib.pyplot as plt\n",
    "from sklearn.linear_model import LinearRegression, Ridge, Lasso, LogisticRegression\n",
    "from sklearn.svm import SVC\n",
    "from sklearn.neighbors import NearestNeighbors"
   ]
  },
  {
   "cell_type": "markdown",
   "metadata": {},
   "source": [
    "# Classification"
   ]
  },
  {
   "cell_type": "code",
   "execution_count": 2,
   "metadata": {
    "scrolled": true
   },
   "outputs": [],
   "source": [
    "train_set = pd.read_csv(\"./spam_train.csv\")\n",
    "test_set = pd.read_csv(\"./spam_test.csv\")"
   ]
  },
  {
   "cell_type": "code",
   "execution_count": 3,
   "metadata": {},
   "outputs": [],
   "source": [
    "X_train = np.array(train_set[list(train_set.columns[1:-1])])\n",
    "y_train = np.array(train_set[\"class\"])\n",
    "X_test = np.array(test_set[list(test_set.columns[1:-1])])\n",
    "y_test = np.array(test_set[\"class\"])"
   ]
  },
  {
   "cell_type": "markdown",
   "metadata": {},
   "source": [
    "## KNN"
   ]
  },
  {
   "cell_type": "code",
   "execution_count": 4,
   "metadata": {},
   "outputs": [],
   "source": [
    "accuracies_test = []\n",
    "accuracies_train = []\n",
    "for k in range(1,21):\n",
    "    knn = KNeighborsClassifier(n_neighbors=k)\n",
    "    knn.fit(X_train, y_train)\n",
    "    predictions_test = knn.predict(X_test)\n",
    "    predictions_train = knn.predict(X_train) \n",
    "    accuracies_test.append(np.round(np.sum(predictions_test==y_test)*100/len(y_test), 2))\n",
    "    accuracies_train.append(np.round(np.sum(predictions_train==y_train)*100/len(y_train), 2))"
   ]
  },
  {
   "cell_type": "code",
   "execution_count": 5,
   "metadata": {
    "scrolled": true
   },
   "outputs": [
    {
     "data": {
      "text/plain": "<matplotlib.legend.Legend at 0x13bd78df0>"
     },
     "execution_count": 5,
     "metadata": {},
     "output_type": "execute_result"
    },
    {
     "data": {
      "text/plain": "<Figure size 432x288 with 1 Axes>",
      "image/png": "[encoded data removed]"
     },
     "metadata": {
      "needs_background": "light"
     },
     "output_type": "display_data"
    }
   ],
   "source": [
    "plt.plot(np.arange(1,21),accuracies_train, marker=\"o\", label=\"Train\")\n",
    "plt.plot(np.arange(1,21),accuracies_test, marker=\"o\", label = \"Test\")\n",
    "_ = plt.xticks(np.arange(1,21))\n",
    "plt.xlabel(\"K\")\n",
    "plt.ylabel(\"Accuracy\")\n",
    "plt.legend()"
   ]
  },
  {
   "cell_type": "markdown",
   "metadata": {},
   "source": [
    "### ANALYSIS of Misclassified"
   ]
  },
  {
   "cell_type": "code",
   "execution_count": 6,
   "metadata": {},
   "outputs": [],
   "source": [
    "optimal_k = 5\n",
    "knn = KNeighborsClassifier(n_neighbors=optimal_k)\n",
    "knn.fit(X_train, y_train)\n",
    "y_pred = knn.predict(X_test)"
   ]
  },
  {
   "cell_type": "code",
   "execution_count": 7,
   "metadata": {},
   "outputs": [
    {
     "data": {
      "text/plain": "array([   0,    2,    8,    9,   11,   14,   22,   24,   29,   32,   36,\n         46,   51,   52,   53,   60,   66,   67,   69,   71,   73,   75,\n         87,   90,   93,   94,   98,  101,  117,  124,  137,  141,  146,\n        148,  154,  155,  157,  162,  173,  196,  202,  205,  206,  207,\n        211,  216,  221,  225,  235,  237,  241,  245,  252,  268,  269,\n        271,  275,  279,  285,  289,  293,  295,  296,  297,  298,  303,\n        304,  308,  309,  311,  321,  325,  328,  331,  337,  342,  349,\n        354,  369,  370,  374,  380,  382,  395,  397,  398,  410,  413,\n        417,  420,  423,  426,  430,  431,  440,  444,  450,  451,  455,\n        457,  483,  487,  488,  491,  493,  496,  499,  509,  510,  518,\n        522,  526,  532,  540,  542,  558,  561,  563,  576,  578,  590,\n        595,  601,  609,  612,  627,  629,  640,  644,  645,  656,  657,\n        681,  683,  686,  688,  693,  696,  697,  710,  715,  717,  719,\n        720,  734,  744,  754,  756,  757,  760,  762,  765,  769,  774,\n        775,  785,  792,  800,  805,  809,  810,  815,  820,  823,  828,\n        832,  835,  844,  848,  861,  862,  867,  871,  872,  876,  880,\n        887,  888,  890,  895,  911,  915,  918,  919,  928,  931,  938,\n        940,  941,  942,  949,  952,  955,  956,  958,  965,  970,  977,\n        978,  985,  988,  989,  993,  994,  996,  998, 1001, 1004, 1006,\n       1011, 1014, 1021, 1026, 1028, 1033, 1045, 1047, 1054, 1061, 1067,\n       1068, 1074, 1078, 1080, 1081, 1082, 1090, 1091, 1098, 1099, 1102,\n       1106, 1107, 1112, 1117, 1122, 1124, 1126, 1127, 1129, 1134, 1137,\n       1139, 1147])"
     },
     "execution_count": 7,
     "metadata": {},
     "output_type": "execute_result"
    }
   ],
   "source": [
    "# Indices of misclassified samples\n",
    "misclassified_indices = np.where((y_pred!=y_test))[0]\n",
    "misclassified_indices"
   ]
  },
  {
   "cell_type": "code",
   "execution_count": 8,
   "metadata": {},
   "outputs": [],
   "source": [
    "#Identify k nearest neighbors from the training set for each misclassified test sample\n",
    "k = 3\n",
    "nn = NearestNeighbors(n_neighbors=k)\n",
    "nn.fit(X_train)\n",
    "distances, indices = nn.kneighbors(X_test[misclassified_indices])"
   ]
  },
  {
   "cell_type": "code",
   "execution_count": 9,
   "metadata": {},
   "outputs": [],
   "source": [
    "columns = [\"Misclassified Test idx\", \"True Class\", \"Pred Class\"]\n",
    "for i in range(k):\n",
    "    columns+= [\"Neigbor#{}_idx\".format(i+1), \"Neigbor#{}_True Class\".format(i+1), \"Neigbor#{}_Distance\".format(i+1)]\n",
    "\n",
    "df = pd.DataFrame(columns = columns)\n",
    "\n",
    "df[\"Misclassified Test idx\"] = misclassified_indices\n",
    "df[\"True Class\"] =  y_test[misclassified_indices]\n",
    "df[\"Pred Class\"] = y_pred[misclassified_indices]\n",
    "for i in range(k):\n",
    "    df[\"Neigbor#{}_idx\".format(i+1)] = indices[:,i]\n",
    "    df[\"Neigbor#{}_True Class\".format(i+1)] = y_train[indices[:,i]]\n",
    "    df[\"Neigbor#{}_Distance\".format(i+1)] = np.around(distances[:,i], decimals=2)"
   ]
  },
  {
   "cell_type": "code",
   "execution_count": 10,
   "metadata": {},
   "outputs": [
    {
     "data": {
      "text/plain": "     Misclassified Test idx  True Class  Pred Class  Neigbor#1_idx  \\\n0                         0           0           1           2757   \n1                         2           1           0           2084   \n2                         8           1           0           2378   \n3                         9           0           1            909   \n4                        11           1           0           3221   \n..                      ...         ...         ...            ...   \n239                    1129           1           0           1207   \n240                    1134           1           0            499   \n241                    1137           1           0           1588   \n242                    1139           0           1           1735   \n243                    1147           1           0            331   \n\n     Neigbor#1_True Class  Neigbor#1_Distance  Neigbor#2_idx  \\\n0                       1                2.81            922   \n1                       0                2.62             86   \n2                       1                2.25            811   \n3                       1                5.23           2690   \n4                       1                0.00           1162   \n..                    ...                 ...            ...   \n239                     1                3.02           3174   \n240                     0                9.12           3078   \n241                     1                2.00           1854   \n242                     0                3.16           2483   \n243                     0                4.91           3047   \n\n     Neigbor#2_True Class  Neigbor#2_Distance  Neigbor#3_idx  \\\n0                       1                3.38           1155   \n1                       1                2.85           1093   \n2                       0                3.15           2824   \n3                       0                5.53           3301   \n4                       0                4.97           3139   \n..                    ...                 ...            ...   \n239                     0                4.64           2744   \n240                     1               10.20           1056   \n241                     1                5.21            360   \n242                     1                6.24            865   \n243                     1                4.99            153   \n\n     Neigbor#3_True Class  Neigbor#3_Distance  \n0                       1                3.44  \n1                       1                2.85  \n2                       0                3.17  \n3                       1                6.42  \n4                       0                5.28  \n..                    ...                 ...  \n239                     0                5.86  \n240                     0               12.19  \n241                     0                7.20  \n242                     1                6.42  \n243                     0                5.14  \n\n[244 rows x 12 columns]",
      "text/html": "<div>\n<style scoped>\n    .dataframe tbody tr th:only-of-type {\n        vertical-align: middle;\n    }\n\n    .dataframe tbody tr th {\n        vertical-align: top;\n    }\n\n    .dataframe thead th {\n        text-align: right;\n    }\n</style>\n<table border=\"1\" class=\"dataframe\">\n  <thead>\n    <tr style=\"text-align: right;\">\n      <th></th>\n      <th>Misclassified Test idx</th>\n      <th>True Class</th>\n      <th>Pred Class</th>\n      <th>Neigbor#1_idx</th>\n      <th>Neigbor#1_True Class</th>\n      <th>Neigbor#1_Distance</th>\n      <th>Neigbor#2_idx</th>\n      <th>Neigbor#2_True Class</th>\n      <th>Neigbor#2_Distance</th>\n      <th>Neigbor#3_idx</th>\n      <th>Neigbor#3_True Class</th>\n      <th>Neigbor#3_Distance</th>\n    </tr>\n  </thead>\n  <tbody>\n    <tr>\n      <th>0</th>\n      <td>0</td>\n      <td>0</td>\n      <td>1</td>\n      <td>2757</td>\n      <td>1</td>\n      <td>2.81</td>\n      <td>922</td>\n      <td>1</td>\n      <td>3.38</td>\n      <td>1155</td>\n      <td>1</td>\n      <td>3.44</td>\n    </tr>\n    <tr>\n      <th>1</th>\n      <td>2</td>\n      <td>1</td>\n      <td>0</td>\n      <td>2084</td>\n      <td>0</td>\n      <td>2.62</td>\n      <td>86</td>\n      <td>1</td>\n      <td>2.85</td>\n      <td>1093</td>\n      <td>1</td>\n      <td>2.85</td>\n    </tr>\n    <tr>\n      <th>2</th>\n      <td>8</td>\n      <td>1</td>\n      <td>0</td>\n      <td>2378</td>\n      <td>1</td>\n      <td>2.25</td>\n      <td>811</td>\n      <td>0</td>\n      <td>3.15</td>\n      <td>2824</td>\n      <td>0</td>\n      <td>3.17</td>\n    </tr>\n    <tr>\n      <th>3</th>\n      <td>9</td>\n      <td>0</td>\n      <td>1</td>\n      <td>909</td>\n      <td>1</td>\n      <td>5.23</td>\n      <td>2690</td>\n      <td>0</td>\n      <td>5.53</td>\n      <td>3301</td>\n      <td>1</td>\n      <td>6.42</td>\n    </tr>\n    <tr>\n      <th>4</th>\n      <td>11</td>\n      <td>1</td>\n      <td>0</td>\n      <td>3221</td>\n      <td>1</td>\n      <td>0.00</td>\n      <td>1162</td>\n      <td>0</td>\n      <td>4.97</td>\n      <td>3139</td>\n      <td>0</td>\n      <td>5.28</td>\n    </tr>\n    <tr>\n      <th>...</th>\n      <td>...</td>\n      <td>...</td>\n      <td>...</td>\n      <td>...</td>\n      <td>...</td>\n      <td>...</td>\n      <td>...</td>\n      <td>...</td>\n      <td>...</td>\n      <td>...</td>\n      <td>...</td>\n      <td>...</td>\n    </tr>\n    <tr>\n      <th>239</th>\n      <td>1129</td>\n      <td>1</td>\n      <td>0</td>\n      <td>1207</td>\n      <td>1</td>\n      <td>3.02</td>\n      <td>3174</td>\n      <td>0</td>\n      <td>4.64</td>\n      <td>2744</td>\n      <td>0</td>\n      <td>5.86</td>\n    </tr>\n    <tr>\n      <th>240</th>\n      <td>1134</td>\n      <td>1</td>\n      <td>0</td>\n      <td>499</td>\n      <td>0</td>\n      <td>9.12</td>\n      <td>3078</td>\n      <td>1</td>\n      <td>10.20</td>\n      <td>1056</td>\n      <td>0</td>\n      <td>12.19</td>\n    </tr>\n    <tr>\n      <th>241</th>\n      <td>1137</td>\n      <td>1</td>\n      <td>0</td>\n      <td>1588</td>\n      <td>1</td>\n      <td>2.00</td>\n      <td>1854</td>\n      <td>1</td>\n      <td>5.21</td>\n      <td>360</td>\n      <td>0</td>\n      <td>7.20</td>\n    </tr>\n    <tr>\n      <th>242</th>\n      <td>1139</td>\n      <td>0</td>\n      <td>1</td>\n      <td>1735</td>\n      <td>0</td>\n      <td>3.16</td>\n      <td>2483</td>\n      <td>1</td>\n      <td>6.24</td>\n      <td>865</td>\n      <td>1</td>\n      <td>6.42</td>\n    </tr>\n    <tr>\n      <th>243</th>\n      <td>1147</td>\n      <td>1</td>\n      <td>0</td>\n      <td>331</td>\n      <td>0</td>\n      <td>4.91</td>\n      <td>3047</td>\n      <td>1</td>\n      <td>4.99</td>\n      <td>153</td>\n      <td>0</td>\n      <td>5.14</td>\n    </tr>\n  </tbody>\n</table>\n<p>244 rows × 12 columns</p>\n</div>"
     },
     "execution_count": 10,
     "metadata": {},
     "output_type": "execute_result"
    }
   ],
   "source": [
    "df"
   ]
  },
  {
   "cell_type": "code",
   "execution_count": 11,
   "metadata": {},
   "outputs": [
    {
     "name": "stdout",
     "output_type": "stream",
     "text": [
      "Test sample 1147 is misclassified.\n",
      "True class: 1\n",
      "Predicted class: 0\n",
      "Neighbor#1: Train index 331 ; True Class 0 ; Distance 4.91\n",
      "Neighbor#2: Train index 3047 ; True Class 1 ; Distance 4.99\n",
      "Neighbor#3: Train index 153 ; True Class 0 ; Distance 5.14\n"
     ]
    }
   ],
   "source": [
    "idx = 243 #between 0 and 243\n",
    "print(\"Test sample {} is misclassified.\".format(misclassified_indices[idx]))\n",
    "print(\"True class: {}\".format(y_test[misclassified_indices][idx]))\n",
    "print(\"Predicted class: {}\".format(y_pred[misclassified_indices][idx]))\n",
    "for i in range(k):\n",
    "    print(\"Neighbor#{}: Train index {} ; True Class {} ; Distance {:.2f}\".format(i+1, indices[idx,i], y_train[indices[idx,i]], distances[idx, i]))"
   ]
  },
  {
   "cell_type": "markdown",
   "metadata": {},
   "source": [
    "## Logistic Regression"
   ]
  },
  {
   "cell_type": "code",
   "execution_count": 12,
   "metadata": {
    "scrolled": true
   },
   "outputs": [],
   "source": [
    "accuracies_test = []\n",
    "accuracies_train = []\n",
    "c_vals = [0.1,1.0,2.0,3.0,4.0,5.0]\n",
    "for i in c_vals:\n",
    "    clf = LogisticRegression(random_state=0, C=i, solver = \"liblinear\").fit(X_train, y_train)\n",
    "    accuracies_test.append(100*clf.score(X_test, y_test))\n",
    "    accuracies_train.append(100*clf.score(X_train, y_train))"
   ]
  },
  {
   "cell_type": "code",
   "execution_count": 13,
   "metadata": {
    "scrolled": true
   },
   "outputs": [
    {
     "data": {
      "text/plain": "<matplotlib.legend.Legend at 0x13be87e20>"
     },
     "execution_count": 13,
     "metadata": {},
     "output_type": "execute_result"
    },
    {
     "data": {
      "text/plain": "<Figure size 432x288 with 1 Axes>",
      "image/png": "[encoded data removed]"
     },
     "metadata": {
      "needs_background": "light"
     },
     "output_type": "display_data"
    }
   ],
   "source": [
    "plt.plot(c_vals,accuracies_train, marker=\"o\", label=\"Train\")\n",
    "plt.plot(c_vals,accuracies_test, marker=\"o\", label = \"Test\")\n",
    "_ = plt.xticks(c_vals)\n",
    "plt.xlabel(\"C\")\n",
    "plt.ylabel(\"Accuracy\")\n",
    "plt.legend()"
   ]
  },
  {
   "cell_type": "markdown",
   "metadata": {},
   "source": [
    "### ANALYSIS of Misclassified"
   ]
  },
  {
   "cell_type": "code",
   "execution_count": 14,
   "metadata": {},
   "outputs": [],
   "source": [
    "optimal_C = 1.0\n",
    "clf = LogisticRegression(random_state=0, C=i, solver = \"liblinear\")\n",
    "clf.fit(X_train, y_train)\n",
    "y_pred = clf.predict(X_test)"
   ]
  },
  {
   "cell_type": "code",
   "execution_count": 15,
   "metadata": {},
   "outputs": [],
   "source": [
    "# Indices of misclassified samples\n",
    "misclassified_indices = np.where((y_pred!=y_test))[0]"
   ]
  },
  {
   "cell_type": "code",
   "execution_count": 16,
   "metadata": {},
   "outputs": [],
   "source": [
    "#Identify k nearest neighbors from the training set for each misclassified test sample\n",
    "k = 3\n",
    "nn = NearestNeighbors(n_neighbors=k)\n",
    "nn.fit(X_train)\n",
    "distances, indices = nn.kneighbors(X_test[misclassified_indices])"
   ]
  },
  {
   "cell_type": "code",
   "execution_count": 17,
   "metadata": {},
   "outputs": [],
   "source": [
    "columns = [\"Misclassified Test idx\", \"True Class\", \"Pred Class\"]\n",
    "for i in range(k):\n",
    "    columns+= [\"Neigbor#{}_idx\".format(i+1), \"Neigbor#{}_True Class\".format(i+1), \"Neigbor#{}_Distance\".format(i+1)]\n",
    "\n",
    "df = pd.DataFrame(columns = columns)\n",
    "\n",
    "df[\"Misclassified Test idx\"] = misclassified_indices\n",
    "df[\"True Class\"] =  y_test[misclassified_indices]\n",
    "df[\"Pred Class\"] = y_pred[misclassified_indices]\n",
    "for i in range(k):\n",
    "    df[\"Neigbor#{}_idx\".format(i+1)] = indices[:,i]\n",
    "    df[\"Neigbor#{}_True Class\".format(i+1)] = y_train[indices[:,i]]\n",
    "    df[\"Neigbor#{}_Distance\".format(i+1)] = np.around(distances[:,i], decimals=2)"
   ]
  },
  {
   "cell_type": "code",
   "execution_count": 18,
   "metadata": {},
   "outputs": [
    {
     "data": {
      "text/plain": "    Misclassified Test idx  True Class  Pred Class  Neigbor#1_idx  \\\n0                       22           1           0           3181   \n1                       26           1           0           3415   \n2                       32           1           0            935   \n3                       52           1           0           2233   \n4                       53           1           0           2147   \n..                     ...         ...         ...            ...   \n83                    1120           0           1           3120   \n84                    1125           1           0           2598   \n85                    1131           1           0           1580   \n86                    1141           1           0             62   \n87                    1144           0           1           1290   \n\n    Neigbor#1_True Class  Neigbor#1_Distance  Neigbor#2_idx  \\\n0                      1                4.17           3440   \n1                      0                4.56           3054   \n2                      0                2.04           3177   \n3                      1                0.55           2747   \n4                      0                4.96           1391   \n..                   ...                 ...            ...   \n83                     0                5.42           1034   \n84                     1                1.01             12   \n85                     0                3.00           3131   \n86                     1                0.00            631   \n87                     0                7.49           3078   \n\n    Neigbor#2_True Class  Neigbor#2_Distance  Neigbor#3_idx  \\\n0                      0                4.40           1792   \n1                      1                5.01           2961   \n2                      0                2.09           2100   \n3                      0                2.46           3417   \n4                      0                7.80           1990   \n..                   ...                 ...            ...   \n83                     1                5.90           1097   \n84                     1                5.19           2918   \n85                     1                5.23            386   \n86                     1                0.00           1734   \n87                     1                8.16            499   \n\n    Neigbor#3_True Class  Neigbor#3_Distance  \n0                      0                4.41  \n1                      0               11.85  \n2                      1                2.39  \n3                      1                3.30  \n4                      0                8.55  \n..                   ...                 ...  \n83                     0                6.06  \n84                     0                5.42  \n85                     0                5.29  \n86                     1                0.00  \n87                     0                9.04  \n\n[88 rows x 12 columns]",
      "text/html": "<div>\n<style scoped>\n    .dataframe tbody tr th:only-of-type {\n        vertical-align: middle;\n    }\n\n    .dataframe tbody tr th {\n        vertical-align: top;\n    }\n\n    .dataframe thead th {\n        text-align: right;\n    }\n</style>\n<table border=\"1\" class=\"dataframe\">\n  <thead>\n    <tr style=\"text-align: right;\">\n      <th></th>\n      <th>Misclassified Test idx</th>\n      <th>True Class</th>\n      <th>Pred Class</th>\n      <th>Neigbor#1_idx</th>\n      <th>Neigbor#1_True Class</th>\n      <th>Neigbor#1_Distance</th>\n      <th>Neigbor#2_idx</th>\n      <th>Neigbor#2_True Class</th>\n      <th>Neigbor#2_Distance</th>\n      <th>Neigbor#3_idx</th>\n      <th>Neigbor#3_True Class</th>\n      <th>Neigbor#3_Distance</th>\n    </tr>\n  </thead>\n  <tbody>\n    <tr>\n      <th>0</th>\n      <td>22</td>\n      <td>1</td>\n      <td>0</td>\n      <td>3181</td>\n      <td>1</td>\n      <td>4.17</td>\n      <td>3440</td>\n      <td>0</td>\n      <td>4.40</td>\n      <td>1792</td>\n      <td>0</td>\n      <td>4.41</td>\n    </tr>\n    <tr>\n      <th>1</th>\n      <td>26</td>\n      <td>1</td>\n      <td>0</td>\n      <td>3415</td>\n      <td>0</td>\n      <td>4.56</td>\n      <td>3054</td>\n      <td>1</td>\n      <td>5.01</td>\n      <td>2961</td>\n      <td>0</td>\n      <td>11.85</td>\n    </tr>\n    <tr>\n      <th>2</th>\n      <td>32</td>\n      <td>1</td>\n      <td>0</td>\n      <td>935</td>\n      <td>0</td>\n      <td>2.04</td>\n      <td>3177</td>\n      <td>0</td>\n      <td>2.09</td>\n      <td>2100</td>\n      <td>1</td>\n      <td>2.39</td>\n    </tr>\n    <tr>\n      <th>3</th>\n      <td>52</td>\n      <td>1</td>\n      <td>0</td>\n      <td>2233</td>\n      <td>1</td>\n      <td>0.55</td>\n      <td>2747</td>\n      <td>0</td>\n      <td>2.46</td>\n      <td>3417</td>\n      <td>1</td>\n      <td>3.30</td>\n    </tr>\n    <tr>\n      <th>4</th>\n      <td>53</td>\n      <td>1</td>\n      <td>0</td>\n      <td>2147</td>\n      <td>0</td>\n      <td>4.96</td>\n      <td>1391</td>\n      <td>0</td>\n      <td>7.80</td>\n      <td>1990</td>\n      <td>0</td>\n      <td>8.55</td>\n    </tr>\n    <tr>\n      <th>...</th>\n      <td>...</td>\n      <td>...</td>\n      <td>...</td>\n      <td>...</td>\n      <td>...</td>\n      <td>...</td>\n      <td>...</td>\n      <td>...</td>\n      <td>...</td>\n      <td>...</td>\n      <td>...</td>\n      <td>...</td>\n    </tr>\n    <tr>\n      <th>83</th>\n      <td>1120</td>\n      <td>0</td>\n      <td>1</td>\n      <td>3120</td>\n      <td>0</td>\n      <td>5.42</td>\n      <td>1034</td>\n      <td>1</td>\n      <td>5.90</td>\n      <td>1097</td>\n      <td>0</td>\n      <td>6.06</td>\n    </tr>\n    <tr>\n      <th>84</th>\n      <td>1125</td>\n      <td>1</td>\n      <td>0</td>\n      <td>2598</td>\n      <td>1</td>\n      <td>1.01</td>\n      <td>12</td>\n      <td>1</td>\n      <td>5.19</td>\n      <td>2918</td>\n      <td>0</td>\n      <td>5.42</td>\n    </tr>\n    <tr>\n      <th>85</th>\n      <td>1131</td>\n      <td>1</td>\n      <td>0</td>\n      <td>1580</td>\n      <td>0</td>\n      <td>3.00</td>\n      <td>3131</td>\n      <td>1</td>\n      <td>5.23</td>\n      <td>386</td>\n      <td>0</td>\n      <td>5.29</td>\n    </tr>\n    <tr>\n      <th>86</th>\n      <td>1141</td>\n      <td>1</td>\n      <td>0</td>\n      <td>62</td>\n      <td>1</td>\n      <td>0.00</td>\n      <td>631</td>\n      <td>1</td>\n      <td>0.00</td>\n      <td>1734</td>\n      <td>1</td>\n      <td>0.00</td>\n    </tr>\n    <tr>\n      <th>87</th>\n      <td>1144</td>\n      <td>0</td>\n      <td>1</td>\n      <td>1290</td>\n      <td>0</td>\n      <td>7.49</td>\n      <td>3078</td>\n      <td>1</td>\n      <td>8.16</td>\n      <td>499</td>\n      <td>0</td>\n      <td>9.04</td>\n    </tr>\n  </tbody>\n</table>\n<p>88 rows × 12 columns</p>\n</div>"
     },
     "execution_count": 18,
     "metadata": {},
     "output_type": "execute_result"
    }
   ],
   "source": [
    "df"
   ]
  },
  {
   "cell_type": "code",
   "execution_count": 19,
   "metadata": {},
   "outputs": [
    {
     "name": "stdout",
     "output_type": "stream",
     "text": [
      "Test sample 26 is misclassified.\n",
      "True class: 1\n",
      "Predicted class: 0\n",
      "Neighbor#1: Train index 3415 ; True Class 0 ; Distance 4.56\n",
      "Neighbor#2: Train index 3054 ; True Class 1 ; Distance 5.01\n",
      "Neighbor#3: Train index 2961 ; True Class 0 ; Distance 11.85\n"
     ]
    }
   ],
   "source": [
    "idx = 1 #between 0 and 87\n",
    "print(\"Test sample {} is misclassified.\".format(misclassified_indices[idx]))\n",
    "print(\"True class: {}\".format(y_test[misclassified_indices][idx]))\n",
    "print(\"Predicted class: {}\".format(y_pred[misclassified_indices][idx]))\n",
    "for i in range(k):\n",
    "    print(\"Neighbor#{}: Train index {} ; True Class {} ; Distance {:.2f}\".format(i+1, indices[idx,i], y_train[indices[idx,i]], distances[idx, i]))"
   ]
  },
  {
   "cell_type": "markdown",
   "metadata": {},
   "source": [
    "## Linear Support Vector Machines Classifier"
   ]
  },
  {
   "cell_type": "code",
   "execution_count": 20,
   "metadata": {},
   "outputs": [],
   "source": [
    "accuracies_test = []\n",
    "accuracies_train = []\n",
    "c_vals = [0.1,1.0,5.0, 10.0, 15.0, 20.0]\n",
    "for i in c_vals:\n",
    "#     clf = make_pipeline(StandardScaler(), SVC(gamma='auto', C=i)).fit(X_train, y_train)\n",
    "    clf =  SVC(gamma='auto', C=i).fit(X_train, y_train)\n",
    "    accuracies_test.append(100*clf.score(X_test, y_test))\n",
    "    accuracies_train.append(100*clf.score(X_train, y_train))"
   ]
  },
  {
   "cell_type": "code",
   "execution_count": 21,
   "metadata": {},
   "outputs": [
    {
     "data": {
      "text/plain": "<matplotlib.legend.Legend at 0x13bf544c0>"
     },
     "execution_count": 21,
     "metadata": {},
     "output_type": "execute_result"
    },
    {
     "data": {
      "text/plain": "<Figure size 432x288 with 1 Axes>",
      "image/png": "[encoded data removed]"
     },
     "metadata": {
      "needs_background": "light"
     },
     "output_type": "display_data"
    }
   ],
   "source": [
    "plt.plot(c_vals,accuracies_train, marker=\"o\", label=\"Train\")\n",
    "plt.plot(c_vals,accuracies_test, marker=\"o\", label = \"Test\")\n",
    "_ = plt.xticks(c_vals)\n",
    "plt.xlabel(\"C\")\n",
    "plt.ylabel(\"Accuracy\")\n",
    "plt.legend()"
   ]
  },
  {
   "cell_type": "code",
   "execution_count": 22,
   "metadata": {},
   "outputs": [],
   "source": [
    "optimal_C = 5.0\n",
    "clf = SVC(gamma='auto', C=i)\n",
    "clf.fit(X_train, y_train)\n",
    "y_pred = clf.predict(X_test)"
   ]
  },
  {
   "cell_type": "code",
   "execution_count": 23,
   "metadata": {},
   "outputs": [],
   "source": [
    "# Indices of misclassified samples\n",
    "misclassified_indices = np.where((y_pred!=y_test))[0]"
   ]
  },
  {
   "cell_type": "code",
   "execution_count": 24,
   "metadata": {},
   "outputs": [],
   "source": [
    "#Identify k nearest neighbors from the training set for each misclassified test sample\n",
    "k = 3\n",
    "nn = NearestNeighbors(n_neighbors=k)\n",
    "nn.fit(X_train)\n",
    "distances, indices = nn.kneighbors(X_test[misclassified_indices])"
   ]
  },
  {
   "cell_type": "code",
   "execution_count": 25,
   "metadata": {},
   "outputs": [],
   "source": [
    "columns = [\"Misclassified Test idx\", \"True Class\", \"Pred Class\"]\n",
    "for i in range(k):\n",
    "    columns+= [\"Neigbor#{}_idx\".format(i+1), \"Neigbor#{}_True Class\".format(i+1), \"Neigbor#{}_Distance\".format(i+1)]\n",
    "\n",
    "df = pd.DataFrame(columns = columns)\n",
    "\n",
    "df[\"Misclassified Test idx\"] = misclassified_indices\n",
    "df[\"True Class\"] =  y_test[misclassified_indices]\n",
    "df[\"Pred Class\"] = y_pred[misclassified_indices]\n",
    "for i in range(k):\n",
    "    df[\"Neigbor#{}_idx\".format(i+1)] = indices[:,i]\n",
    "    df[\"Neigbor#{}_True Class\".format(i+1)] = y_train[indices[:,i]]\n",
    "    df[\"Neigbor#{}_Distance\".format(i+1)] = np.around(distances[:,i], decimals=2)"
   ]
  },
  {
   "cell_type": "code",
   "execution_count": 26,
   "metadata": {},
   "outputs": [
    {
     "data": {
      "text/plain": "     Misclassified Test idx  True Class  Pred Class  Neigbor#1_idx  \\\n0                         0           0           1           2757   \n1                         8           1           0           2378   \n2                        17           0           1           1306   \n3                        22           1           0           3181   \n4                        24           1           0            123   \n..                      ...         ...         ...            ...   \n170                    1126           1           0           2640   \n171                    1127           0           1           2133   \n172                    1131           1           0           1580   \n173                    1134           1           0            499   \n174                    1144           0           1           1290   \n\n     Neigbor#1_True Class  Neigbor#1_Distance  Neigbor#2_idx  \\\n0                       1                2.81            922   \n1                       1                2.25            811   \n2                       1                5.52           1794   \n3                       1                4.17           3440   \n4                       1                3.54           3040   \n..                    ...                 ...            ...   \n170                     0                3.91            895   \n171                     0                9.18           1393   \n172                     0                3.00           3131   \n173                     0                9.12           3078   \n174                     0                7.49           3078   \n\n     Neigbor#2_True Class  Neigbor#2_Distance  Neigbor#3_idx  \\\n0                       1                3.38           1155   \n1                       0                3.15           2824   \n2                       0               16.29           1753   \n3                       0                4.40           1792   \n4                       0                3.71           1059   \n..                    ...                 ...            ...   \n170                     0                5.28           3082   \n171                     1                9.29           2722   \n172                     1                5.23            386   \n173                     1               10.20           1056   \n174                     1                8.16            499   \n\n     Neigbor#3_True Class  Neigbor#3_Distance  \n0                       1                3.44  \n1                       0                3.17  \n2                       0               20.37  \n3                       0                4.41  \n4                       0                4.43  \n..                    ...                 ...  \n170                     1                6.41  \n171                     1               11.15  \n172                     0                5.29  \n173                     0               12.19  \n174                     0                9.04  \n\n[175 rows x 12 columns]",
      "text/html": "<div>\n<style scoped>\n    .dataframe tbody tr th:only-of-type {\n        vertical-align: middle;\n    }\n\n    .dataframe tbody tr th {\n        vertical-align: top;\n    }\n\n    .dataframe thead th {\n        text-align: right;\n    }\n</style>\n<table border=\"1\" class=\"dataframe\">\n  <thead>\n    <tr style=\"text-align: right;\">\n      <th></th>\n      <th>Misclassified Test idx</th>\n      <th>True Class</th>\n      <th>Pred Class</th>\n      <th>Neigbor#1_idx</th>\n      <th>Neigbor#1_True Class</th>\n      <th>Neigbor#1_Distance</th>\n      <th>Neigbor#2_idx</th>\n      <th>Neigbor#2_True Class</th>\n      <th>Neigbor#2_Distance</th>\n      <th>Neigbor#3_idx</th>\n      <th>Neigbor#3_True Class</th>\n      <th>Neigbor#3_Distance</th>\n    </tr>\n  </thead>\n  <tbody>\n    <tr>\n      <th>0</th>\n      <td>0</td>\n      <td>0</td>\n      <td>1</td>\n      <td>2757</td>\n      <td>1</td>\n      <td>2.81</td>\n      <td>922</td>\n      <td>1</td>\n      <td>3.38</td>\n      <td>1155</td>\n      <td>1</td>\n      <td>3.44</td>\n    </tr>\n    <tr>\n      <th>1</th>\n      <td>8</td>\n      <td>1</td>\n      <td>0</td>\n      <td>2378</td>\n      <td>1</td>\n      <td>2.25</td>\n      <td>811</td>\n      <td>0</td>\n      <td>3.15</td>\n      <td>2824</td>\n      <td>0</td>\n      <td>3.17</td>\n    </tr>\n    <tr>\n      <th>2</th>\n      <td>17</td>\n      <td>0</td>\n      <td>1</td>\n      <td>1306</td>\n      <td>1</td>\n      <td>5.52</td>\n      <td>1794</td>\n      <td>0</td>\n      <td>16.29</td>\n      <td>1753</td>\n      <td>0</td>\n      <td>20.37</td>\n    </tr>\n    <tr>\n      <th>3</th>\n      <td>22</td>\n      <td>1</td>\n      <td>0</td>\n      <td>3181</td>\n      <td>1</td>\n      <td>4.17</td>\n      <td>3440</td>\n      <td>0</td>\n      <td>4.40</td>\n      <td>1792</td>\n      <td>0</td>\n      <td>4.41</td>\n    </tr>\n    <tr>\n      <th>4</th>\n      <td>24</td>\n      <td>1</td>\n      <td>0</td>\n      <td>123</td>\n      <td>1</td>\n      <td>3.54</td>\n      <td>3040</td>\n      <td>0</td>\n      <td>3.71</td>\n      <td>1059</td>\n      <td>0</td>\n      <td>4.43</td>\n    </tr>\n    <tr>\n      <th>...</th>\n      <td>...</td>\n      <td>...</td>\n      <td>...</td>\n      <td>...</td>\n      <td>...</td>\n      <td>...</td>\n      <td>...</td>\n      <td>...</td>\n      <td>...</td>\n      <td>...</td>\n      <td>...</td>\n      <td>...</td>\n    </tr>\n    <tr>\n      <th>170</th>\n      <td>1126</td>\n      <td>1</td>\n      <td>0</td>\n      <td>2640</td>\n      <td>0</td>\n      <td>3.91</td>\n      <td>895</td>\n      <td>0</td>\n      <td>5.28</td>\n      <td>3082</td>\n      <td>1</td>\n      <td>6.41</td>\n    </tr>\n    <tr>\n      <th>171</th>\n      <td>1127</td>\n      <td>0</td>\n      <td>1</td>\n      <td>2133</td>\n      <td>0</td>\n      <td>9.18</td>\n      <td>1393</td>\n      <td>1</td>\n      <td>9.29</td>\n      <td>2722</td>\n      <td>1</td>\n      <td>11.15</td>\n    </tr>\n    <tr>\n      <th>172</th>\n      <td>1131</td>\n      <td>1</td>\n      <td>0</td>\n      <td>1580</td>\n      <td>0</td>\n      <td>3.00</td>\n      <td>3131</td>\n      <td>1</td>\n      <td>5.23</td>\n      <td>386</td>\n      <td>0</td>\n      <td>5.29</td>\n    </tr>\n    <tr>\n      <th>173</th>\n      <td>1134</td>\n      <td>1</td>\n      <td>0</td>\n      <td>499</td>\n      <td>0</td>\n      <td>9.12</td>\n      <td>3078</td>\n      <td>1</td>\n      <td>10.20</td>\n      <td>1056</td>\n      <td>0</td>\n      <td>12.19</td>\n    </tr>\n    <tr>\n      <th>174</th>\n      <td>1144</td>\n      <td>0</td>\n      <td>1</td>\n      <td>1290</td>\n      <td>0</td>\n      <td>7.49</td>\n      <td>3078</td>\n      <td>1</td>\n      <td>8.16</td>\n      <td>499</td>\n      <td>0</td>\n      <td>9.04</td>\n    </tr>\n  </tbody>\n</table>\n<p>175 rows × 12 columns</p>\n</div>"
     },
     "execution_count": 26,
     "metadata": {},
     "output_type": "execute_result"
    }
   ],
   "source": [
    "df"
   ]
  },
  {
   "cell_type": "code",
   "execution_count": 27,
   "metadata": {},
   "outputs": [
    {
     "name": "stdout",
     "output_type": "stream",
     "text": [
      "Test sample 22 is misclassified.\n",
      "True class: 1\n",
      "Predicted class: 0\n",
      "Neighbor#1: Train index 3181 ; True Class 1 ; Distance 4.17\n",
      "Neighbor#2: Train index 3440 ; True Class 0 ; Distance 4.40\n",
      "Neighbor#3: Train index 1792 ; True Class 0 ; Distance 4.41\n"
     ]
    }
   ],
   "source": [
    "idx = 3 #between 0 and 89\n",
    "print(\"Test sample {} is misclassified.\".format(misclassified_indices[idx]))\n",
    "print(\"True class: {}\".format(y_test[misclassified_indices][idx]))\n",
    "print(\"Predicted class: {}\".format(y_pred[misclassified_indices][idx]))\n",
    "for i in range(k):\n",
    "    print(\"Neighbor#{}: Train index {} ; True Class {} ; Distance {:.2f}\".format(i+1, indices[idx,i], y_train[indices[idx,i]], distances[idx, i]))"
   ]
  }
 ],
 "metadata": {
  "kernelspec": {
   "display_name": "Python 3",
   "language": "python",
   "name": "python3"
  },
  "language_info": {
   "codemirror_mode": {
    "name": "ipython",
    "version": 3
   },
   "file_extension": ".py",
   "mimetype": "text/x-python",
   "name": "python",
   "nbconvert_exporter": "python",
   "pygments_lexer": "ipython3",
   "version": "3.8.5"
  }
 },
 "nbformat": 4,
 "nbformat_minor": 2
}
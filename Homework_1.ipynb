{
 "cells": [
  {
   "cell_type": "markdown",
   "source": [
    "Homework 1"
   ],
   "metadata": {
    "collapsed": false,
    "pycharm": {
     "name": "#%% md\n"
    }
   }
  },
  {
   "cell_type": "code",
   "execution_count": null,
   "metadata": {
    "colab": {
     "base_uri": "https://localhost:8080/"
    },
    "id": "PFhwEesoehMZ",
    "outputId": "70160415-df15-4e0b-b085-ed79667c5666"
   },
   "outputs": [],
   "source": [
    "import mglearn as mglearn\n",
    "import np as np\n",
    "import pandas as pd\n",
    "import numpy as np\n",
    "import matplotlib.pyplot as plt\n",
    "import math\n",
    "\n",
    "!pip install numpy scipy scikit-learn matplotlib pandas"
   ]
  },
  {
   "cell_type": "code",
   "execution_count": null,
   "outputs": [],
   "source": [
    "train_set = pd.read_csv(\"./wine_train.csv\")\n",
    "test_set = pd.read_csv(\"./wine_test.csv\")\n",
    "\n",
    "X_train = np.array(train_set[list(train_set.columns[1:-1])])\n",
    "y_train = np.array(train_set[\"quality\"])\n",
    "X_test = np.array(test_set[list(test_set.columns[1:-1])])\n",
    "y_test = np.array(test_set[\"quality\"])\n",
    "\n",
    "print(len(X_train))"
   ],
   "metadata": {
    "collapsed": false,
    "pycharm": {
     "name": "#%%\n"
    }
   }
  },
  {
   "cell_type": "markdown",
   "source": [
    "## KNN"
   ],
   "metadata": {
    "collapsed": false,
    "pycharm": {
     "name": "#%% md\n"
    }
   }
  },
  {
   "cell_type": "code",
   "execution_count": null,
   "outputs": [],
   "source": [
    "from sklearn.neighbors import KNeighborsClassifier\n",
    "from sklearn.neighbors import KNeighborsRegressor\n",
    "#\n",
    "# clf = KNeighborsClassifier(n_neighbors=1)\n",
    "# clf.fit(X_train, y_train)\n",
    "\n",
    "plt.style.use('_mpl-gallery')\n",
    "x = np.linspace(1, 20, 20)\n",
    "results = []\n",
    "for neighbor_count in x:\n",
    "    clf = KNeighborsRegressor(n_neighbors=int(neighbor_count))\n",
    "    clf.fit(X_train, y_train)\n",
    "    results.append(\n",
    "        [\n",
    "            neighbor_count,\n",
    "            clf.score(X_train, y_train),\n",
    "            clf.score(X_test, y_test)\n",
    "        ]\n",
    "    )\n",
    "    # print(neighbor_count, \" | Test set accuracy: {:.2f}\".format(clf.score(X_test, y_test)))\n",
    "#\n",
    "fig, ax = plt.subplots()\n",
    "fig.set_figheight(4)\n",
    "fig.set_figwidth(4)\n",
    "x = [neighbors[0] for neighbors in results]\n",
    "plt.title(\"KNN\")\n",
    "plt.xlabel(\"Neighbors\")\n",
    "plt.ylabel(\"Accuracy (0 - 1)\")\n",
    "plt.plot(x, [train[1] for train in results], label='Training Score')\n",
    "plt.plot(x, [test[2] for test in results], label='Testing Score')\n",
    "plt.legend()\n",
    "# fig = plt.figure()\n",
    "plt.show()\n",
    "#\n",
    "\n",
    "print(\"Test set predictions: {}\".format(clf.predict(X_test)))\n",
    "print(\"Test set accuracy: {:.2f}\".format(clf.score(X_test, y_test)))\n",
    "clf = KNeighborsRegressor(n_neighbors=int(17))\n",
    "clf.fit(X_train, y_train)\n",
    "\n",
    "print( clf.score(X_train, y_train))\n",
    "print( clf.score(X_test, y_test))"
   ],
   "metadata": {
    "collapsed": false,
    "pycharm": {
     "name": "#%%\n"
    }
   }
  },
  {
   "cell_type": "markdown",
   "source": [],
   "metadata": {
    "collapsed": false
   }
  },
  {
   "cell_type": "markdown",
   "source": [],
   "metadata": {
    "collapsed": false
   }
  },
  {
   "cell_type": "markdown",
   "source": [],
   "metadata": {
    "collapsed": false
   }
  },
  {
   "cell_type": "code",
   "execution_count": null,
   "metadata": {
    "colab": {
     "base_uri": "https://localhost:8080/"
    },
    "id": "i0vY4tmpehMc",
    "outputId": "5a201b8c-4243-4265-dc36-572db23eb577"
   },
   "outputs": [],
   "source": [
    "from scipy.stats import norm\n",
    "from matplotlib import mlab\n",
    "from statistics import mean, stdev\n",
    "from sklearn.linear_model import LinearRegression\n",
    "\n",
    "lr = LinearRegression().fit(X_train, y_train)\n",
    "# print(\"lr.coef_: {}\".format(lr.coef_))\n",
    "# print(\"lr.intercept_: {}\".format(lr.intercept_))\n",
    "# print(\"Training set score: {:.2f}\".format(lr.score(X_train, y_train)))\n",
    "# print(\"Test set score: {:.2f}\".format(lr.score(X_test, y_test)))\n",
    "residuals = np.diff(y_test - lr.predict(X_test))\n",
    "\n",
    "# mu = mean(residuals)\n",
    "# sigma = stdev(residuals)\n",
    "fig = plt.figure()\n",
    "fig.set_figheight(40)\n",
    "fig.set_figwidth(40)\n",
    "mu, std = norm.fit(residuals)\n",
    "\n",
    "plt.hist(residuals, bins=20, density=True)\n",
    "# best_fit = norm.pdf(bins, mu, std)\n",
    "xmin, xmax = plt.xlim()\n",
    "x = np.linspace(xmin, xmax, 100)\n",
    "p = norm.pdf(x, mu, std)\n",
    "plt.plot(x, p, 'k', linewidth=4)\n",
    "\n",
    "plt.title(\"OLS\")\n",
    "plt.xlabel(\"Standardized Residuals\")\n",
    "plt.ylabel(\"Count\")\n",
    "plt.show()\n",
    "\n",
    "print(lr.score(X_train,y_train))\n",
    "print(lr.score(X_test,y_test))"
   ]
  },
  {
   "cell_type": "markdown",
   "source": [],
   "metadata": {
    "collapsed": false
   }
  },
  {
   "cell_type": "markdown",
   "source": [
    "## Ridge Regression"
   ],
   "metadata": {
    "collapsed": false,
    "pycharm": {
     "name": "#%% md\n"
    }
   }
  },
  {
   "cell_type": "code",
   "execution_count": null,
   "metadata": {
    "colab": {
     "base_uri": "https://localhost:8080/"
    },
    "id": "ug8R3LgzehMd",
    "outputId": "8bbfb7bd-234c-409a-9eed-42f560ba9144"
   },
   "outputs": [],
   "source": [
    "from sklearn.linear_model import Ridge\n",
    "\n",
    "# go from .00001 to 10000 and then zoom into a good region\n",
    "results = []\n",
    "for x in range(1, 20, 1):\n",
    "    y = .00001 * (math.pow(10, x))\n",
    "    ridge = Ridge(alpha=y).fit(X_train, y_train)\n",
    "    score_train = ridge.score(X_train, y_train)\n",
    "    score_test = ridge.score(X_test, y_test)\n",
    "    results.append([y, score_train, score_test])\n",
    "\n",
    "    # print(\"ridge: \", y)\n",
    "    # print(\"Training set score: {:.2f}\".format(score_train))\n",
    "    # print(\"Test set score: {:.2f}\".format(score_test))\n",
    "\n",
    "x = np.linspace(.00001, 100000000000000)\n",
    "fig, ax = plt.subplots()\n",
    "ax.set_xscale('log')\n",
    "ax.plot([alpha[0] for alpha in results], [train[1] for train in results])\n",
    "ax.plot([alpha[0] for alpha in results], [test[2] for test in results])\n",
    "plt.show()\n",
    "print(results)\n",
    "\n",
    "\n",
    "# ridge1 = Ridge(alpha=1).fit(X_train, y_train)\n",
    "# print(\"Training set score: {:.2f}\".format(ridge1.score(X_train, y_train)))\n",
    "# print(\"Test set score: {:.2f}\".format(ridge1.score(X_test, y_test)))\n",
    "#\n",
    "# ridge10 = Ridge(alpha=100).fit(X_train, y_train)\n",
    "# print(\"Training set score: {:.2f}\".format(ridge10.score(X_train, y_train)))\n",
    "# print(\"Test set score: {:.2f}\".format(ridge10.score(X_test, y_test)))\n",
    "#\n",
    "# ridge01 = Ridge(alpha=0.1).fit(X_train, y_train)\n",
    "# print(\"Training set score: {:.2f}\".format(ridge01.score(X_train, y_train)))\n",
    "# print(\"Test set score: {:.2f}\".format(ridge01.score(X_test, y_test)))"
   ]
  },
  {
   "cell_type": "code",
   "execution_count": null,
   "outputs": [],
   "source": [
    "results = []\n",
    "for x in range(1, 20, 1):\n",
    "    y = .00001 * (math.pow(10, x * 0.5))\n",
    "    ridge = Ridge(alpha=y).fit(X_train, y_train)\n",
    "    score_train = ridge.score(X_train, y_train)\n",
    "    score_test = ridge.score(X_test, y_test)\n",
    "    results.append([y, score_train, score_test])\n",
    "\n",
    "    # print(\"ridge: \", y)\n",
    "    # print(\"Training set score: {:.2f}\".format(score_train))\n",
    "    # print(\"Test set score: {:.2f}\".format(score_test))\n",
    "\n",
    "fig, ax = plt.subplots()\n",
    "ax.set_xscale('log')\n",
    "ax.plot([alpha[0] for alpha in results], [train[1] for train in results])\n",
    "ax.plot([alpha[0] for alpha in results], [test[2] for test in results])\n",
    "plt.show()\n",
    "print(results)"
   ],
   "metadata": {
    "collapsed": false,
    "pycharm": {
     "name": "#%%\n"
    }
   }
  },
  {
   "cell_type": "code",
   "execution_count": null,
   "outputs": [],
   "source": [
    "results = []\n",
    "for x in range(1, 100, 1):\n",
    "    y = x\n",
    "    ridge = Ridge(alpha=y).fit(X_train, y_train)\n",
    "    score_train = ridge.score(X_train, y_train)\n",
    "    score_test = ridge.score(X_test, y_test)\n",
    "    results.append([y, score_train, score_test])\n",
    "\n",
    "    # print(\"ridge: \", y)\n",
    "    # print(\"Training set score: {:.2f}\".format(score_train))\n",
    "    # print(\"Test set score: {:.2f}\".format(score_test))\n",
    "\n",
    "fig, ax = plt.subplots()\n",
    "ax.plot([alpha[0] for alpha in results], [train[1] for train in results])\n",
    "ax.plot([alpha[0] for alpha in results], [test[2] for test in results])\n",
    "plt.show()\n",
    "print(results)"
   ],
   "metadata": {
    "collapsed": false,
    "pycharm": {
     "name": "#%%\n"
    }
   }
  },
  {
   "cell_type": "code",
   "execution_count": null,
   "outputs": [],
   "source": [
    "results = []\n",
    "for x in range(1, 20, 1):\n",
    "    y = x\n",
    "    ridge = Ridge(alpha=y).fit(X_train, y_train)\n",
    "    score_train = ridge.score(X_train, y_train)\n",
    "    score_test = ridge.score(X_test, y_test)\n",
    "    results.append([y, score_train, score_test])\n",
    "\n",
    "    # print(\"ridge: \", y)\n",
    "    # print(\"Training set score: {:.2f}\".format(score_train))\n",
    "    # print(\"Test set score: {:.2f}\".format(score_test))\n",
    "\n",
    "fig, ax = plt.subplots()\n",
    "ax.plot([alpha[0] for alpha in results], [train[1] for train in results])\n",
    "ax.plot([alpha[0] for alpha in results], [test[2] for test in results])\n",
    "plt.show()\n",
    "print(results)"
   ],
   "metadata": {
    "collapsed": false,
    "pycharm": {
     "name": "#%%\n"
    }
   }
  },
  {
   "cell_type": "code",
   "execution_count": null,
   "metadata": {
    "colab": {
     "base_uri": "https://localhost:8080/"
    },
    "id": "kzg6qB2KehMe",
    "outputId": "3846ad7e-f6d4-4050-a76a-caf1b2fa35d3"
   },
   "outputs": [],
   "source": [
    "\n",
    "ridge1 = Ridge(alpha=5).fit(X_train, y_train)\n",
    "ridge5 = Ridge(alpha=10).fit(X_train, y_train)\n",
    "ridge10 = Ridge(alpha=100).fit(X_train, y_train)\n",
    "fig = plt.figure()\n",
    "fig.set_figwidth(4)\n",
    "fig.set_figheight(4)\n",
    "\n",
    "plt.plot(ridge1.coef_, 's', label=\"Ridge alpha = .0001\")\n",
    "plt.plot(ridge5.coef_, '^', label=\"Ridge alpha = 10\")\n",
    "plt.plot(ridge10.coef_, 'v', label=\"Ridge alpha = 100\")\n",
    "\n",
    "plt.xlabel(\"Coefficient index\")\n",
    "plt.ylabel(\"Coefficient magnitude\")\n",
    "plt.hlines(0, 0, len(lr.coef_))\n",
    "plt.ylim(-1.5, 1)\n",
    "plt.legend()\n",
    "\n",
    "print(ridge1.score(X_train, y_train))\n",
    "print(ridge1.score(X_test, y_test))"
   ]
  },
  {
   "cell_type": "markdown",
   "metadata": {
    "id": "zPrjYr4JehMe"
   },
   "source": [
    "## LASSO"
   ]
  },
  {
   "cell_type": "code",
   "execution_count": null,
   "metadata": {
    "colab": {
     "base_uri": "https://localhost:8080/"
    },
    "id": "ncwoJoBTehMf",
    "outputId": "29a82568-5504-4959-ca76-1d0915867c49"
   },
   "outputs": [],
   "source": [
    "from sklearn.linear_model import Lasso\n",
    "\n",
    "results = []\n",
    "for x in range(1, 10, 1):\n",
    "    alpha = .00001 * (math.pow(10, x))\n",
    "    for y in range(1, 6, 1):\n",
    "        iteration_count = 10 * (math.pow(10, y))\n",
    "        lasso = Lasso(alpha=alpha, max_iter=iteration_count).fit(X_train, y_train)\n",
    "        features = np.sum(lasso.coef_ != 0)\n",
    "        results.append(\n",
    "            [\n",
    "                alpha,\n",
    "                iteration_count,\n",
    "                features\n",
    "            ]\n",
    "        )\n",
    "\n",
    "ax = plt.axes(projection='3d')\n",
    "# ax.set_xscale('log')\n",
    "# ax.set_yscale('log')\n",
    "ax.scatter3D(\n",
    "    [alpha[0] for alpha in results],\n",
    "    [iterations[1] for iterations in results],\n",
    "    [features[2] for features in results]\n",
    ")"
   ]
  },
  {
   "cell_type": "code",
   "execution_count": null,
   "outputs": [],
   "source": [
    "from sklearn.linear_model import Lasso\n",
    "\n",
    "results = []\n",
    "alphas = np.linspace(0.0001, 0.05, 100)\n",
    "for alpha in alphas:\n",
    "    iteration_counts = np.linspace(10, 10000, 25)\n",
    "    for iteration_count in iteration_counts:\n",
    "        lasso = Lasso(alpha=alpha, max_iter=iteration_count).fit(X_train, y_train)\n",
    "        features = np.sum(lasso.coef_ != 0)\n",
    "        results.append(\n",
    "            [\n",
    "                alpha,\n",
    "                iteration_count,\n",
    "                features\n",
    "            ]\n",
    "        )\n",
    "\n",
    "ax = plt.axes(projection='3d')\n",
    "# ax.set_xscale('log')\n",
    "# ax.set_yscale('log')\n",
    "ax.scatter3D(\n",
    "    [alpha[0] for alpha in results],\n",
    "    [iterations[1] for iterations in results],\n",
    "    [features[2] for features in results]\n",
    ")"
   ],
   "metadata": {
    "collapsed": false,
    "pycharm": {
     "name": "#%%\n"
    }
   }
  },
  {
   "cell_type": "code",
   "execution_count": null,
   "outputs": [],
   "source": [
    "from sklearn.linear_model import Lasso\n",
    "\n",
    "results = []\n",
    "alphas = np.linspace(0.0001, 0.05, 100)\n",
    "iterations = np.linspace(100, 10000, 20)\n",
    "X, Y = np.meshgrid(alphas, iterations)\n",
    "\n",
    "\n",
    "def f(x, y):\n",
    "    lasso = Lasso(alpha=x, max_iter=y).fit(X_train, y_train)\n",
    "    return lasso.score(X_test, y_test)\n",
    "\n",
    "\n",
    "z_func_np = np.frompyfunc(z_func_np, 2, 1)\n",
    "#\n",
    "# for alpha in alphas:\n",
    "#     for interation_count in iterations:\n",
    "#         lasso = Lasso(alpha=alpha, max_iter=iteration_count).fit(X_train, y_train)\n",
    "#         features = np.sum(lasso.coef_ != 0)\n",
    "#         results.append(\n",
    "#             [\n",
    "#                 alpha,\n",
    "#                 iteration_count,\n",
    "#                 lasso.score(X_test, y_test)\n",
    "#             ]\n",
    "#         )\n",
    "#\n",
    "# print(len(results))\n",
    "#\n",
    "# def f(x, y):\n",
    "#     lasso = Lasso(alpha=x.any(), max_iter=y.any()).fit(X_train, y_train)\n",
    "#     return lasso.score(X_test, y_test)\n",
    "\n",
    "\n",
    "# x = [alpha[0] for alpha in results]\n",
    "# y = [iteration_count[1] for iteration_count in results]\n",
    "# z = [score[2] for score in results]\n",
    "# X, Y = np.meshgrid(x, y)\n",
    "Z = z_func_np(X, Y)\n",
    "\n",
    "fig = plt.figure()\n",
    "ax = plt.axes(projection='3d')\n",
    "ax.contour3D(X, Y, Z, cmap='viridis')\n",
    "# ax.set_xscale('log')\n",
    "# ax.set_yscale('log')\n",
    "# ax.plot_wireframe(X, Y, Z)\n",
    "# ax.plot_surface(X, Y, Z, 50, cmap='binary')"
   ],
   "metadata": {
    "collapsed": false,
    "pycharm": {
     "name": "#%%\n"
    }
   }
  },
  {
   "cell_type": "code",
   "execution_count": null,
   "outputs": [],
   "source": [
    "from sklearn.linear_model import Lasso\n",
    "\n",
    "results = []\n",
    "alphas = np.linspace(0.0001, 0.05, 100)\n",
    "features = []\n",
    "for alpha in alphas:\n",
    "    lasso = Lasso(alpha=alpha, max_iter=1000).fit(X_train, y_train)\n",
    "    features.append(np.sum(lasso.coef_ != 0))\n",
    "\n",
    "X, Y = np.meshgrid(alphas, features)\n",
    "\n",
    "\n",
    "def z_func(x, y):\n",
    "    lasso = Lasso(alpha=x, max_iter=1000).fit(X_train, y_train)\n",
    "    return lasso.score(X_test, y_test)\n",
    "\n",
    "\n",
    "z_func_np = np.frompyfunc(z_func, 2, 1)\n",
    "Z = z_func_np(X, Y)\n",
    "\n",
    "fig = plt.figure()\n",
    "ax = plt.axes(projection='3d')\n",
    "ax.contour3D(X, Y, Z, cmap='viridis')"
   ],
   "metadata": {
    "collapsed": false,
    "pycharm": {
     "name": "#%%\n"
    }
   }
  },
  {
   "cell_type": "code",
   "execution_count": null,
   "outputs": [],
   "source": [
    "from sklearn.linear_model import Lasso\n",
    "\n",
    "results = []\n",
    "alphas = np.linspace(0.01, 0.02, 100)\n",
    "features = []\n",
    "for alpha in alphas:\n",
    "    lasso = Lasso(alpha=alpha, max_iter=1000).fit(X_train, y_train)\n",
    "    features.append(np.sum(lasso.coef_ != 0))\n",
    "\n",
    "X, Y = np.meshgrid(alphas, features)\n",
    "\n",
    "\n",
    "def z_func(x, y):\n",
    "    lasso = Lasso(alpha=x, max_iter=1000).fit(X_train, y_train)\n",
    "    return lasso.score(X_test, y_test)\n",
    "\n",
    "\n",
    "z_func_np = np.frompyfunc(z_func, 2, 1)\n",
    "Z = z_func_np(X, Y)\n",
    "\n",
    "fig = plt.figure()\n",
    "ax = plt.axes(projection='3d')\n",
    "ax.contour3D(X, Y, Z, cmap='viridis')"
   ],
   "metadata": {
    "collapsed": false,
    "pycharm": {
     "name": "#%%\n"
    }
   }
  },
  {
   "cell_type": "code",
   "execution_count": null,
   "outputs": [],
   "source": [
    "from sklearn.linear_model import Lasso\n",
    "\n",
    "results = []\n",
    "for x in range(1, 70, 1):\n",
    "    alpha = .000001 * (math.pow(10, x * .1))\n",
    "    # for y in range(1, 10000, 100):\n",
    "    iteration_count = 10000\n",
    "    lasso = Lasso(alpha=alpha, max_iter=iteration_count).fit(X_train, y_train)\n",
    "    features = np.sum(lasso.coef_ != 0)\n",
    "    results.append(\n",
    "        [\n",
    "            alpha,\n",
    "            iteration_count,\n",
    "            features\n",
    "        ]\n",
    "    )\n",
    "\n",
    "plt.plot(\n",
    "    [alpha[0] for alpha in results],\n",
    "    [features[2] for features in results]\n",
    ")\n",
    "plt.show()"
   ],
   "metadata": {
    "collapsed": false,
    "pycharm": {
     "name": "#%%\n"
    }
   }
  },
  {
   "cell_type": "code",
   "execution_count": null,
   "outputs": [],
   "source": [
    "from sklearn.linear_model import Lasso\n",
    "\n",
    "results = []\n",
    "alphas = np.linspace(0.01, 0.02, 100)\n",
    "for alpha in alphas:\n",
    "    # alpha = .000001 * (math.pow(10, x*.1))\n",
    "    # for y in range(1, 10000, 100):\n",
    "    iteration_count = 10000\n",
    "    lasso = Lasso(alpha=alpha, max_iter=iteration_count).fit(X_train, y_train)\n",
    "    features = np.sum(lasso.coef_ != 0)\n",
    "    results.append(\n",
    "        [\n",
    "            alpha,\n",
    "            lasso.score(X_test, y_test),\n",
    "            features\n",
    "        ]\n",
    "    )\n",
    "\n",
    "fig = plt.figure()\n",
    "fig.set_figheight(4)\n",
    "fig.set_figwidth(4)\n",
    "\n",
    "plt.title(\"LASSO - Score for final alpha\")\n",
    "plt.xlabel(\"alpha\")\n",
    "plt.ylabel(\"score\")\n",
    "plt.plot(\n",
    "    [alpha[0] for alpha in results],\n",
    "    [features[1] for features in results]\n",
    ")\n",
    "\n",
    "plt.show()\n",
    "\n",
    "lasso = Lasso(alpha=0.01, max_iter=1000).fit(X_train, y_train)\n",
    "print(    lasso.score(X_train, y_train))\n",
    "print(    lasso.score(X_test, y_test))\n",
    "print(        np.sum(lasso.coef_ != 0)\n",
    ")"
   ],
   "metadata": {
    "collapsed": false,
    "pycharm": {
     "name": "#%%\n"
    }
   }
  },
  {
   "cell_type": "code",
   "execution_count": null,
   "outputs": [],
   "source": [
    "\n",
    "lasso = Lasso().fit(X_train, y_train)\n",
    "print(\"Training set score: {:.2f}\".format(lasso.score(X_train, y_train)))\n",
    "print(\"Test set score: {:.2f}\".format(lasso.score(X_test, y_test)))\n",
    "print(\"Number of features used: {}\".format(np.sum(lasso.coef_ != 0)))"
   ],
   "metadata": {
    "collapsed": false,
    "pycharm": {
     "name": "#%%\n"
    }
   }
  },
  {
   "cell_type": "code",
   "execution_count": null,
   "outputs": [],
   "source": [
    "lasso = Lasso(alpha=0.01, max_iter=100000).fit(X_train, y_train)\n",
    "print(\"Training set score: {:.2f}\".format(lasso.score(X_train, y_train)))\n",
    "print(\"Test set score: {:.2f}\".format(lasso.score(X_test, y_test)))\n",
    "print(\"Number of features used: {}\".format(np.sum(lasso.coef_ != 0)))"
   ],
   "metadata": {
    "collapsed": false,
    "pycharm": {
     "name": "#%%\n"
    }
   }
  },
  {
   "cell_type": "code",
   "execution_count": null,
   "outputs": [],
   "source": [
    "lasso = Lasso(alpha=0.01, max_iter=100000).fit(X_train, y_train)\n",
    "print(\"Training set score: {:.2f}\".format(lasso.score(X_train, y_train)))\n",
    "print(\"Test set score: {:.2f}\".format(lasso.score(X_test, y_test)))\n",
    "print(\"Number of features used: {}\".format(np.sum(lasso.coef_ != 0)))"
   ],
   "metadata": {
    "collapsed": false,
    "pycharm": {
     "name": "#%%\n"
    }
   }
  }
 ],
 "metadata": {
  "colab": {
   "collapsed_sections": [],
   "name": "Getting started.ipynb",
   "provenance": []
  },
  "kernelspec": {
   "display_name": "Python 3",
   "language": "python",
   "name": "python3"
  },
  "language_info": {
   "codemirror_mode": {
    "name": "ipython",
    "version": 3
   },
   "file_extension": ".py",
   "mimetype": "text/x-python",
   "name": "python",
   "nbconvert_exporter": "python",
   "pygments_lexer": "ipython3",
   "version": "3.8.5"
  }
 },
 "nbformat": 4,
 "nbformat_minor": 1
}
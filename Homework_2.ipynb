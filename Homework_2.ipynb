{
 "cells": [
  {
   "cell_type": "code",
   "execution_count": 35,
   "metadata": {
    "collapsed": true
   },
   "outputs": [
    {
     "name": "stdout",
     "output_type": "stream",
     "text": [
      "Invalid -W option ignored: unknown warning category: 'ConvergenceWarning'\r\n",
      "Requirement already satisfied: numpy in ./venv/lib/python3.9/site-packages (1.22.1)\r\n",
      "Requirement already satisfied: scipy in ./venv/lib/python3.9/site-packages (1.7.3)\r\n",
      "Requirement already satisfied: scikit-learn in ./venv/lib/python3.9/site-packages (1.0.2)\r\n",
      "Requirement already satisfied: matplotlib in ./venv/lib/python3.9/site-packages (3.5.1)\r\n",
      "Requirement already satisfied: pandas in ./venv/lib/python3.9/site-packages (1.4.0)\r\n",
      "Requirement already satisfied: threadpoolctl>=2.0.0 in ./venv/lib/python3.9/site-packages (from scikit-learn) (3.0.0)\r\n",
      "Requirement already satisfied: joblib>=0.11 in ./venv/lib/python3.9/site-packages (from scikit-learn) (1.1.0)\r\n",
      "Requirement already satisfied: fonttools>=4.22.0 in ./venv/lib/python3.9/site-packages (from matplotlib) (4.29.0)\r\n",
      "Requirement already satisfied: cycler>=0.10 in ./venv/lib/python3.9/site-packages (from matplotlib) (0.11.0)\r\n",
      "Requirement already satisfied: pyparsing>=2.2.1 in ./venv/lib/python3.9/site-packages (from matplotlib) (3.0.7)\r\n",
      "Requirement already satisfied: packaging>=20.0 in ./venv/lib/python3.9/site-packages (from matplotlib) (21.3)\r\n",
      "Requirement already satisfied: pillow>=6.2.0 in ./venv/lib/python3.9/site-packages (from matplotlib) (9.0.0)\r\n",
      "Requirement already satisfied: python-dateutil>=2.7 in ./venv/lib/python3.9/site-packages (from matplotlib) (2.8.2)\r\n",
      "Requirement already satisfied: kiwisolver>=1.0.1 in ./venv/lib/python3.9/site-packages (from matplotlib) (1.3.2)\r\n",
      "Requirement already satisfied: pytz>=2020.1 in ./venv/lib/python3.9/site-packages (from pandas) (2021.3)\r\n",
      "Requirement already satisfied: six>=1.5 in ./venv/lib/python3.9/site-packages (from python-dateutil>=2.7->matplotlib) (1.16.0)\r\n",
      "\u001B[33mWARNING: You are using pip version 21.3.1; however, version 22.0.3 is available.\r\n",
      "You should consider upgrading via the '/Users/engineer/workspace/cse590-machine-learning/venv/bin/python -m pip install --upgrade pip' command.\u001B[0m\r\n"
     ]
    }
   ],
   "source": [
    "import mglearn as mglearn\n",
    "import np as np\n",
    "import pandas as pd\n",
    "import numpy as np\n",
    "import matplotlib.pyplot as plt\n",
    "import math\n",
    "from sklearn.svm import LinearSVC\n",
    "from sklearn.linear_model import LogisticRegression\n",
    "from sklearn.model_selection import cross_val_score\n",
    "\n",
    "!pip install numpy scipy scikit-learn matplotlib pandas"
   ]
  },
  {
   "cell_type": "markdown",
   "source": [
    "# Train the Classifiers"
   ],
   "metadata": {
    "collapsed": false,
    "pycharm": {
     "name": "#%% md\n"
    }
   }
  },
  {
   "cell_type": "markdown",
   "source": [
    "## Import data, setup models"
   ],
   "metadata": {
    "collapsed": false,
    "pycharm": {
     "name": "#%% md\n"
    }
   }
  },
  {
   "cell_type": "code",
   "execution_count": 38,
   "outputs": [
    {
     "name": "stdout",
     "output_type": "stream",
     "text": [
      "Logistic Regression Training score: 0.929\n",
      "Logistic Regression Testing score: 0.912\n",
      "LinearSVC Training score: 0.856\n",
      "LinearSVC Testing score: 0.851\n"
     ]
    }
   ],
   "source": [
    "import os\n",
    "import warnings\n",
    "import sys\n",
    "\n",
    "if not sys.warnoptions:\n",
    "    warnings.simplefilter(\"ignore\")\n",
    "    os.environ[\"PYTHONWARNINGS\"] = ('ignore::UserWarning,ignore::ConvergenceWarning,ignore::RuntimeWarning')\n",
    "train_set = pd.read_csv(\"./spam_train.csv\")\n",
    "test_set = pd.read_csv(\"./spam_test.csv\")\n",
    "\n",
    "X_train = np.array(train_set[list(train_set.columns[1:-1])])\n",
    "y_train = np.array(train_set[\"class\"])\n",
    "X_test = np.array(test_set[list(test_set.columns[1:-1])])\n",
    "y_test = np.array(test_set[\"class\"])\n",
    "\n",
    "# noinspection ConvergenceWarning\n",
    "logreg = LogisticRegression().fit(X_train, y_train)\n",
    "print(\"Logistic Regression Training score: {:.3f}\".format(logreg.score(X_train, y_train)))\n",
    "print(\"Logistic Regression Testing score: {:.3f}\".format(logreg.score(X_test, y_test)))\n",
    "\n",
    "\n",
    "lsvc = LinearSVC().fit(X_train, y_train)\n",
    "print(\"LinearSVC Training score: {:.3f}\".format(lsvc.score(X_train, y_train)))\n",
    "print(\"LinearSVC Testing score: {:.3f}\".format(lsvc.score(X_test, y_test)))"
   ],
   "metadata": {
    "collapsed": false,
    "pycharm": {
     "name": "#%%\n"
    }
   }
  },
  {
   "cell_type": "markdown",
   "source": [
    "## 5-fold Cross-validation on Logistic Regression"
   ],
   "metadata": {
    "collapsed": false,
    "pycharm": {
     "name": "#%% md\n"
    }
   }
  },
  {
   "cell_type": "code",
   "execution_count": 37,
   "outputs": [
    {
     "name": "stdout",
     "output_type": "stream",
     "text": [
      "[1.00000000e+00 2.78255940e+00 7.74263683e+00 2.15443469e+01\n",
      " 5.99484250e+01 1.66810054e+02 4.64158883e+02 1.29154967e+03\n",
      " 3.59381366e+03 1.00000000e+04]\n",
      "{'C': 21.544346900318832}\n",
      "[10.         11.96128333 14.30722989 17.11328304 20.46968272 24.48436747\n",
      " 29.28644565 35.03034741 41.90079106 50.11872336]\n",
      "{'C': 11.961283330787534}\n",
      "[10.         11.96128333 14.30722989 17.11328304 20.46968272 24.48436747\n",
      " 29.28644565 35.03034741 41.90079106 50.11872336]\n",
      "{'C': 11.961283330787534}\n"
     ]
    }
   ],
   "source": [
    "# create a log scale of c to find best ranges\n",
    "c_vals = np.logspace(0,4,10)\n",
    "hyperparameters = dict(C=c_vals)\n",
    "print(c_vals)\n",
    "\n",
    "# Find best parameters using grid search\n",
    "from sklearn.model_selection import GridSearchCV\n",
    "# noinspection ConvergenceWarning\n",
    "clf = GridSearchCV(logreg, hyperparameters, cv=5)\n",
    "#Fit model\n",
    "clf.fit(X_train,y_train)\n",
    "# scores_logreg = cross_val_score(logreg, X_train, y_train, cv=5)\n",
    "# print(scores_logreg)\n",
    "print(clf.best_params_)\n",
    "\n",
    "# create a log scale of c to find best ranges\n",
    "c_vals = np.logspace(1,1.7,10)\n",
    "hyperparameters = dict(C=c_vals)\n",
    "print(c_vals)\n",
    "\n",
    "# Find best parameters using grid search\n",
    "from sklearn.model_selection import GridSearchCV\n",
    "clf = GridSearchCV(logreg, hyperparameters, cv=5)\n",
    "#Fit model\n",
    "clf.fit(X_train,y_train)\n",
    "# scores_logreg = cross_val_score(logreg, X_train, y_train, cv=5)\n",
    "# print(scores_logreg)\n",
    "print(clf.best_params_)\n",
    "\n",
    "# create a log scale of c to find best ranges\n",
    "c_vals = np.logspace(1,1.7,10)\n",
    "hyperparameters = dict(C=c_vals)\n",
    "print(c_vals)\n",
    "\n",
    "# Find best parameters using grid search\n",
    "from sklearn.model_selection import GridSearchCV\n",
    "clf = GridSearchCV(logreg, hyperparameters, cv=5)\n",
    "#Fit model\n",
    "clf.fit(X_train,y_train)\n",
    "# scores_logreg = cross_val_score(logreg, X_train, y_train, cv=5)\n",
    "# print(scores_logreg)\n",
    "print(clf.best_params_)"
   ],
   "metadata": {
    "collapsed": false,
    "pycharm": {
     "name": "#%%\n"
    }
   }
  },
  {
   "cell_type": "code",
   "execution_count": 37,
   "outputs": [],
   "source": [],
   "metadata": {
    "collapsed": false,
    "pycharm": {
     "name": "#%%\n"
    }
   }
  }
 ],
 "metadata": {
  "kernelspec": {
   "display_name": "Python 3",
   "language": "python",
   "name": "python3"
  },
  "language_info": {
   "codemirror_mode": {
    "name": "ipython",
    "version": 2
   },
   "file_extension": ".py",
   "mimetype": "text/x-python",
   "name": "python",
   "nbconvert_exporter": "python",
   "pygments_lexer": "ipython2",
   "version": "2.7.6"
  }
 },
 "nbformat": 4,
 "nbformat_minor": 0
}
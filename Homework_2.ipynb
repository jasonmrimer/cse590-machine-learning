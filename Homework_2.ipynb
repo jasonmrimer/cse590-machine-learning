{
 "cells": [
  {
   "cell_type": "code",
   "execution_count": 2,
   "metadata": {
    "collapsed": true
   },
   "outputs": [
    {
     "name": "stdout",
     "output_type": "stream",
     "text": [
      "Invalid -W option ignored: unknown warning category: 'ConvergenceWarning'\r\n",
      "Requirement already satisfied: numpy in ./venv/lib/python3.9/site-packages (1.22.1)\r\n",
      "Requirement already satisfied: scipy in ./venv/lib/python3.9/site-packages (1.7.3)\r\n",
      "Requirement already satisfied: scikit-learn in ./venv/lib/python3.9/site-packages (1.0.2)\r\n",
      "Requirement already satisfied: matplotlib in ./venv/lib/python3.9/site-packages (3.5.1)\r\n",
      "Requirement already satisfied: pandas in ./venv/lib/python3.9/site-packages (1.4.0)\r\n",
      "Requirement already satisfied: joblib>=0.11 in ./venv/lib/python3.9/site-packages (from scikit-learn) (1.1.0)\r\n",
      "Requirement already satisfied: threadpoolctl>=2.0.0 in ./venv/lib/python3.9/site-packages (from scikit-learn) (3.0.0)\r\n",
      "Requirement already satisfied: pyparsing>=2.2.1 in ./venv/lib/python3.9/site-packages (from matplotlib) (3.0.7)\r\n",
      "Requirement already satisfied: packaging>=20.0 in ./venv/lib/python3.9/site-packages (from matplotlib) (21.3)\r\n",
      "Requirement already satisfied: cycler>=0.10 in ./venv/lib/python3.9/site-packages (from matplotlib) (0.11.0)\r\n",
      "Requirement already satisfied: fonttools>=4.22.0 in ./venv/lib/python3.9/site-packages (from matplotlib) (4.29.0)\r\n",
      "Requirement already satisfied: python-dateutil>=2.7 in ./venv/lib/python3.9/site-packages (from matplotlib) (2.8.2)\r\n",
      "Requirement already satisfied: kiwisolver>=1.0.1 in ./venv/lib/python3.9/site-packages (from matplotlib) (1.3.2)\r\n",
      "Requirement already satisfied: pillow>=6.2.0 in ./venv/lib/python3.9/site-packages (from matplotlib) (9.0.0)\r\n",
      "Requirement already satisfied: pytz>=2020.1 in ./venv/lib/python3.9/site-packages (from pandas) (2021.3)\r\n",
      "Requirement already satisfied: six>=1.5 in ./venv/lib/python3.9/site-packages (from python-dateutil>=2.7->matplotlib) (1.16.0)\r\n",
      "\u001B[33mWARNING: You are using pip version 21.3.1; however, version 22.0.3 is available.\r\n",
      "You should consider upgrading via the '/Users/engineer/workspace/cse590-machine-learning/venv/bin/python -m pip install --upgrade pip' command.\u001B[0m\r\n"
     ]
    }
   ],
   "source": [
    "import mglearn as mglearn\n",
    "import np as np\n",
    "import pandas as pd\n",
    "import numpy as np\n",
    "import matplotlib.pyplot as plt\n",
    "import math\n",
    "from sklearn.svm import LinearSVC\n",
    "from sklearn.linear_model import LogisticRegression\n",
    "from sklearn.model_selection import cross_val_score\n",
    "\n",
    "!pip install numpy scipy scikit-learn matplotlib pandas"
   ]
  },
  {
   "cell_type": "markdown",
   "source": [
    "# Train the Classifiers"
   ],
   "metadata": {
    "collapsed": false,
    "pycharm": {
     "name": "#%% md\n"
    }
   }
  },
  {
   "cell_type": "markdown",
   "source": [
    "## Import data, setup models"
   ],
   "metadata": {
    "collapsed": false,
    "pycharm": {
     "name": "#%% md\n"
    }
   }
  },
  {
   "cell_type": "code",
   "execution_count": 34,
   "outputs": [
    {
     "name": "stdout",
     "output_type": "stream",
     "text": [
      "KNN Training score: 0.99971014\n",
      "KNN Testing score: 0.80278019\n",
      "Logistic Regression Training score: 0.92869565\n",
      "Logistic Regression Testing score: 0.91225022\n",
      "LinearSVC Training score: 0.86550725\n",
      "LinearSVC Testing score: 0.86099044\n"
     ]
    }
   ],
   "source": [
    "from sklearn.neighbors import KNeighborsClassifier\n",
    "import os\n",
    "import warnings\n",
    "import sys\n",
    "\n",
    "if not sys.warnoptions:\n",
    "    warnings.simplefilter(\"ignore\")\n",
    "    os.environ[\"PYTHONWARNINGS\"] = ('ignore::UserWarning,ignore::ConvergenceWarning,ignore::RuntimeWarning')\n",
    "train_set = pd.read_csv(\"./spam_train.csv\")\n",
    "test_set = pd.read_csv(\"./spam_test.csv\")\n",
    "\n",
    "X_train = np.array(train_set[list(train_set.columns[1:-1])])\n",
    "y_train = np.array(train_set[\"class\"])\n",
    "X_test = np.array(test_set[list(test_set.columns[1:-1])])\n",
    "y_test = np.array(test_set[\"class\"])\n",
    "\n",
    "np.random.seed(2)\n",
    "\n",
    "knn = KNeighborsClassifier(n_neighbors=int(1)).fit(X_train, y_train)\n",
    "print(\"KNN Training score: {:.8f}\".format(knn.score(X_train, y_train)))\n",
    "print(\n",
    "    \"KNN Testing score: {:.8f}\".format(knn.score(X_test, y_test))\n",
    ")\n",
    "\n",
    "\n",
    "logreg = LogisticRegression().fit(X_train, y_train)\n",
    "print(\"Logistic Regression Training score: {:.8f}\".format(logreg.score(X_train, y_train)))\n",
    "print(\n",
    "    \"Logistic Regression Testing score: {:.8f}\".format(logreg.score(X_test, y_test))\n",
    ")\n",
    "\n",
    "lsvc = LinearSVC().fit(X_train, y_train)\n",
    "print(\"LinearSVC Training score: {:.8f}\".format(lsvc.score(X_train, y_train)))\n",
    "print(\"LinearSVC Testing score: {:.8f}\".format(lsvc.score(X_test, y_test)))"
   ],
   "metadata": {
    "collapsed": false,
    "pycharm": {
     "name": "#%%\n"
    }
   }
  },
  {
   "cell_type": "markdown",
   "source": [
    "## KNN validator"
   ],
   "metadata": {
    "collapsed": false,
    "pycharm": {
     "name": "#%% md\n"
    }
   }
  },
  {
   "cell_type": "code",
   "execution_count": 21,
   "outputs": [
    {
     "data": {
      "text/plain": "<Figure size 288x288 with 1 Axes>",
      "image/png": "[encoded data removed]"
     },
     "metadata": {
      "needs_background": "light"
     },
     "output_type": "display_data"
    },
    {
     "name": "stdout",
     "output_type": "stream",
     "text": [
      "Test set predictions: [1 0 0 ... 1 0 1]\n",
      "Test set accuracy: 0.77\n",
      "0.8704347826086957\n",
      "0.788010425716768\n"
     ]
    }
   ],
   "source": [
    "plt.style.use('_mpl-gallery')\n",
    "x = np.linspace(1, 20, 20)\n",
    "results = []\n",
    "for neighbor_count in x:\n",
    "    clf = KNeighborsClassifier(n_neighbors=int(neighbor_count))\n",
    "    clf.fit(X_train, y_train)\n",
    "    results.append(\n",
    "        [\n",
    "            neighbor_count,\n",
    "            clf.score(X_train, y_train),\n",
    "            clf.score(X_test, y_test)\n",
    "        ]\n",
    "    )\n",
    "\n",
    "fig, ax = plt.subplots()\n",
    "fig.set_figheight(4)\n",
    "fig.set_figwidth(4)\n",
    "x = [neighbors[0] for neighbors in results]\n",
    "plt.title(\"KNN\")\n",
    "plt.xlabel(\"Neighbors\")\n",
    "plt.ylabel(\"Accuracy (0 - 1)\")\n",
    "plt.plot(x, [train[1] for train in results], label='Training Score')\n",
    "plt.plot(x, [test[2] for test in results], label='Testing Score')\n",
    "plt.legend()\n",
    "# fig = plt.figure()\n",
    "plt.show()\n",
    "#\n",
    "\n",
    "print(\"Test set predictions: {}\".format(clf.predict(X_test)))\n",
    "print(\"Test set accuracy: {:.2f}\".format(clf.score(X_test, y_test)))\n",
    "clf = KNeighborsClassifier(n_neighbors=int(5))\n",
    "clf.fit(X_train, y_train)\n",
    "\n",
    "print( clf.score(X_train, y_train))\n",
    "print( clf.score(X_test, y_test))"
   ],
   "metadata": {
    "collapsed": false,
    "pycharm": {
     "name": "#%%\n"
    }
   }
  },
  {
   "cell_type": "markdown",
   "source": [
    "## 5-fold Cross-validation on Logistic Regression"
   ],
   "metadata": {
    "collapsed": false,
    "pycharm": {
     "name": "#%% md\n"
    }
   }
  },
  {
   "cell_type": "code",
   "execution_count": 23,
   "outputs": [
    {
     "name": "stdout",
     "output_type": "stream",
     "text": [
      "[19.         19.04040404 19.08080808 19.12121212 19.16161616 19.2020202\n",
      " 19.24242424 19.28282828 19.32323232 19.36363636 19.4040404  19.44444444\n",
      " 19.48484848 19.52525253 19.56565657 19.60606061 19.64646465 19.68686869\n",
      " 19.72727273 19.76767677 19.80808081 19.84848485 19.88888889 19.92929293\n",
      " 19.96969697 20.01010101 20.05050505 20.09090909 20.13131313 20.17171717\n",
      " 20.21212121 20.25252525 20.29292929 20.33333333 20.37373737 20.41414141\n",
      " 20.45454545 20.49494949 20.53535354 20.57575758 20.61616162 20.65656566\n",
      " 20.6969697  20.73737374 20.77777778 20.81818182 20.85858586 20.8989899\n",
      " 20.93939394 20.97979798 21.02020202 21.06060606 21.1010101  21.14141414\n",
      " 21.18181818 21.22222222 21.26262626 21.3030303  21.34343434 21.38383838\n",
      " 21.42424242 21.46464646 21.50505051 21.54545455 21.58585859 21.62626263\n",
      " 21.66666667 21.70707071 21.74747475 21.78787879 21.82828283 21.86868687\n",
      " 21.90909091 21.94949495 21.98989899 22.03030303 22.07070707 22.11111111\n",
      " 22.15151515 22.19191919 22.23232323 22.27272727 22.31313131 22.35353535\n",
      " 22.39393939 22.43434343 22.47474747 22.51515152 22.55555556 22.5959596\n",
      " 22.63636364 22.67676768 22.71717172 22.75757576 22.7979798  22.83838384\n",
      " 22.87878788 22.91919192 22.95959596 23.        ]\n",
      "{'C': 20.252525252525253}\n"
     ]
    }
   ],
   "source": [
    "# logreg = LogisticRegression(C=19.737373737373737).fit(X_train, y_train)\n",
    "# print(\"Logistic Regression Training score: {:.8f}\".format(logreg.score(X_train, y_train)))\n",
    "# print(\"Logistic Regression Testing score: {:.8f}\".format(logreg.score(X_test, y_test)))\n",
    "#\n",
    "# logreg = LogisticRegression(C=20.252525252525253).fit(X_train, y_train)\n",
    "# print(\"Logistic Regression Training score: {:.8f}\".format(logreg.score(X_train, y_train)))\n",
    "# print(\"Logistic Regression Testing score: {:.8f}\".format(logreg.score(X_test, y_test)))\n",
    "\n",
    "\n",
    "# # # create a log scale of c to find best ranges\n",
    "# c_vals = np.logspace(0,4,10)\n",
    "# hyperparameters = dict(C=c_vals)\n",
    "# print(c_vals)\n",
    "#\n",
    "# # Find best parameters using grid search\n",
    "# from sklearn.model_selection import GridSearchCV\n",
    "# # noinspection ConvergenceWarning\n",
    "# clf = GridSearchCV(logreg, hyperparameters, cv=5)\n",
    "# #Fit model\n",
    "# clf.fit(X_train,y_train)\n",
    "# scores_logreg = cross_val_score(logreg, X_train, y_train, cv=5)\n",
    "# print(scores_logreg)\n",
    "# print(clf.best_params_)\n",
    "# #\n",
    "# # create a log scale of c to find best ranges\n",
    "# c_vals = np.logspace(1,1.7,10)\n",
    "# hyperparameters = dict(C=c_vals)\n",
    "# print(c_vals)\n",
    "#\n",
    "# # Find best parameters using grid search\n",
    "# from sklearn.model_selection import GridSearchCV\n",
    "# clf = GridSearchCV(logreg, hyperparameters, cv=5)\n",
    "# #Fit model\n",
    "# clf.fit(X_train,y_train)\n",
    "# # scores_logreg = cross_val_score(logreg, X_train, y_train, cv=5)\n",
    "# # print(scores_logreg)\n",
    "# print(clf.best_params_)\n",
    "#\n",
    "# # create a log scale of c to find best ranges\n",
    "c_vals = np.linspace(19,23,100)\n",
    "hyperparameters = dict(C=c_vals)\n",
    "print(c_vals)\n",
    "\n",
    "# Find best parameters using grid search\n",
    "from sklearn.model_selection import GridSearchCV\n",
    "clf = GridSearchCV(logreg, hyperparameters, cv=5)\n",
    "#Fit model\n",
    "clf.fit(X_train,y_train)\n",
    "# scores_logreg = cross_val_score(logreg, X_train, y_train, cv=5)\n",
    "# print(scores_logreg)\n",
    "print(clf.best_params_)"
   ],
   "metadata": {
    "collapsed": false,
    "pycharm": {
     "name": "#%%\n"
    }
   }
  },
  {
   "cell_type": "markdown",
   "source": [
    "## 5-fold cv for linearSVC"
   ],
   "metadata": {
    "collapsed": false,
    "pycharm": {
     "name": "#%% md\n"
    }
   }
  },
  {
   "cell_type": "code",
   "execution_count": 42,
   "outputs": [
    {
     "name": "stdout",
     "output_type": "stream",
     "text": [
      "Linear SVC Training score: 0.911\n",
      "Linear SVC Testing score: 0.901\n"
     ]
    }
   ],
   "source": [
    "np.random.seed(42)\n",
    "\n",
    "lsvc = LinearSVC(C=0.010101010101010102).fit(X_train, y_train)\n",
    "print(\"Linear SVC Training score: {:.3f}\".format(lsvc.score(X_train, y_train)))\n",
    "print(\"Linear SVC Testing score: {:.3f}\".format(lsvc.score(X_test, y_test)))\n",
    "#\n",
    "# lsvc = LinearSVC(C=0.75).fit(X_train, y_train)\n",
    "# print(\"Linear SVC Training score: {:.3f}\".format(lsvc.score(X_train, y_train)))\n",
    "# print(\"Linear SVC Testing score: {:.3f}\".format(lsvc.score(X_test, y_test)))\n",
    "\n",
    "#\n",
    "# # create a log scale of c to find best ranges\n",
    "# c_vals = np.logspace(-1,3,10)\n",
    "# hyperparameters = dict(C=c_vals)\n",
    "# print(c_vals)\n",
    "#\n",
    "# # Find best parameters using grid search\n",
    "# from sklearn.model_selection import GridSearchCV\n",
    "# # noinspection ConvergenceWarning\n",
    "# clf = GridSearchCV(lsvc, hyperparameters, cv=5)\n",
    "# #Fit model\n",
    "# clf.fit(X_train,y_train)\n",
    "# # scores_logreg = cross_val_score(logreg, X_train, y_train, cv=5)\n",
    "# # print(scores_logreg)\n",
    "# print(clf.best_params_)\n",
    "#\n",
    "# lsvc = LinearSVC(C=clf.best_params_['C']).fit(X_train, y_train)\n",
    "# print(\"Linear SVC Training score: {:.3f}\".format(lsvc.score(X_train, y_train)))\n",
    "# print(\"Linear SVC Testing score: {:.3f}\".format(lsvc.score(X_test, y_test)))\n",
    "# # create a log scale of c to find best ranges\n",
    "# c_vals = np.logspace(3,4,10)\n",
    "# hyperparameters = dict(C=c_vals)\n",
    "# print(c_vals)\n",
    "#\n",
    "# # Find best parameters using grid search\n",
    "# from sklearn.model_selection import GridSearchCV\n",
    "# clf = GridSearchCV(lsvc, hyperparameters, cv=5)\n",
    "# #Fit model\n",
    "# clf.fit(X_train,y_train)\n",
    "# # scores_logreg = cross_val_score(logreg, X_train, y_train, cv=5)\n",
    "# # print(scores_logreg)\n",
    "# print(clf.best_params_)\n",
    "#\n",
    "\n",
    "# # create a log scale of c to find best ranges\n",
    "# c_vals = np.linspace(0,1,100)\n",
    "# hyperparameters = dict(C=c_vals)\n",
    "# # print(c_vals)\n",
    "\n",
    "# # Find best parameters using grid search\n",
    "# from sklearn.model_selection import GridSearchCV\n",
    "# clf = GridSearchCV(lsvc, hyperparameters, cv=5)\n",
    "# #Fit model\n",
    "# clf.fit(X_train,y_train)\n",
    "# # scores_logreg = cross_val_score(logreg, X_train, y_train, cv=5)\n",
    "# # print(scores_logreg)\n",
    "# print(clf.best_params_)"
   ],
   "metadata": {
    "collapsed": false,
    "pycharm": {
     "name": "#%%\n"
    }
   }
  },
  {
   "cell_type": "code",
   "execution_count": 27,
   "outputs": [],
   "source": [],
   "metadata": {
    "collapsed": false,
    "pycharm": {
     "name": "#%%\n"
    }
   }
  },
  {
   "cell_type": "code",
   "execution_count": null,
   "outputs": [],
   "source": [],
   "metadata": {
    "collapsed": false,
    "pycharm": {
     "name": "#%%\n"
    }
   }
  }
 ],
 "metadata": {
  "kernelspec": {
   "display_name": "Python 3",
   "language": "python",
   "name": "python3"
  },
  "language_info": {
   "codemirror_mode": {
    "name": "ipython",
    "version": 2
   },
   "file_extension": ".py",
   "mimetype": "text/x-python",
   "name": "python",
   "nbconvert_exporter": "python",
   "pygments_lexer": "ipython2",
   "version": "2.7.6"
  }
 },
 "nbformat": 4,
 "nbformat_minor": 0
}
{
 "cells": [
  {
   "cell_type": "markdown",
   "metadata": {
    "id": "LTSrEp-9cRQE"
   },
   "source": [
    "# **System requirements**\n",
    "\n",
    "Before installing Anaconda Individual Edition, review the system requirements listed in this link: https://docs.anaconda.com/anaconda/install/.\n",
    "\n",
    "If you don’t want the hundreds of packages included with Anaconda, you can Miniconda, a mini version of Anaconda that includes just conda, its dependencies, and Python.\n",
    "\n",
    "- Installing Anaconda on Windows: https://docs.anaconda.com/anaconda/install/windows/\n",
    "- Installing Anaconda on macOS: https://docs.anaconda.com/anaconda/install/mac-os/\n",
    "- Installing Anaconda on Linux: https://docs.anaconda.com/anaconda/install/linux/\n",
    "- Verifying your Anaconda installation: https://docs.anaconda.com/anaconda/install/verify-install/\n",
    "\n",
    "## **Getting started with Anaconda**\n",
    "Anaconda Individual Edition contains conda and Anaconda Navigator, as well as Python and hundreds of scientific packages. When you installed Anaconda, you installed all these too.\n",
    "\n",
    "Conda works on your command line interface such as Anaconda Prompt on Windows and terminal on macOS and Linux. Navigator is a desktop graphical user interface that allows you to launch applications and easily manage conda packages, environments, and channels without using command-line commands.\n",
    "\n",
    "You can try both conda and Navigator to see which is right for you to manage your packages and environments. You can even switch between them, and the work you do with one can be viewed in the other.\n",
    "\n",
    "### Demo: \"Hello, Anaconda!\" \n",
    "- Link: https://docs.anaconda.com/anaconda/user-guide/getting-started/"
   ]
  },
  {
   "cell_type": "markdown",
   "metadata": {
    "id": "RDwJJGi6ehMT"
   },
   "source": [
    "# Prerequesites"
   ]
  },
  {
   "cell_type": "markdown",
   "metadata": {
    "id": "8wKclrhMehMX"
   },
   "source": [
    "### **Python**\n",
    "You first need to set up a Python environment (if you do not have done so already). The easiest way to do this is by installing Anaconda. We will be using Python 3, so be sure to install the right version.\n",
    "link: https://docs.anaconda.com/anaconda/user-guide/getting-started/\n",
    "\n",
    "#### **Why Python?**\n",
    "Many data-heavy applications are now developed in Python\n",
    "- Highly readable, less complexity, fast prototyping\n",
    "- Easy to offload number crunching to underlying C/Fortran/...\n",
    "- Easy to install and import many rich libraries\n",
    "- numpy: efficient data structures\n",
    "- scipy: fast numerical recipes\n",
    "- matplotlib: high-quality graphs\n",
    "- scikit-learn: machine learning algorithms\n",
    "\n",
    "### **Required packages**\n",
    "Next, you'll need to install several packages that we'll be using extensively. You'll need to run these commands on the command line.\n",
    "\n",
    "#### **Installing packages with conda**\n",
    "If you are using Anaconda, you can use the conda package manager to install all packages:\n",
    "\n",
    "conda install numpy scipy scikit-learn matplotlib pandas pillow\n",
    "\n",
    "#### **Installing packages with pip**\n",
    "With most other setups (not conda), you can use pip to install all packages. Pip is the Python Package index. It is included in most Python installations.\n",
    "\n",
    "pip install numpy scipy scikit-learn matplotlib pandas pillow"
   ]
  },
  {
   "cell_type": "code",
   "execution_count": null,
   "metadata": {
    "colab": {
     "base_uri": "https://localhost:8080/"
    },
    "id": "PFhwEesoehMZ",
    "outputId": "70160415-df15-4e0b-b085-ed79667c5666"
   },
   "outputs": [],
   "source": [
    "!pip install numpy scipy scikit-learn matplotlib pandas "
   ]
  },
  {
   "cell_type": "markdown",
   "metadata": {
    "id": "-mcN1rkLehMZ"
   },
   "source": [
    "### **Virtual environments**\n",
    "If you are not using Anaconda, and you already have a custom Python environment set up, possibly using a different Python version, it may be wise to set up a virtual environment for this course so that it does not affect your existing environment: https://docs.python-guide.org/dev/virtualenvs/"
   ]
  },
  {
   "cell_type": "markdown",
   "metadata": {
    "id": "orsA8-gTehMb"
   },
   "source": [
    "## **Alternative environments for running the notebooks**\n",
    "\n",
    "#### **Google Colab**\n",
    "Google Colab allows you to run a notebook on Google Drive (with limited GPU support): https://colab.research.google.com/notebooks/gpu.ipynb A more detailed tutorial can be found here (you won't need PyTorch for this course, but you can check it out): https://towardsdatascience.com/fast-ai-lesson-1-on-google-colab-free-gpu-d2af89f53604\n",
    "\n",
    "There are limitations (obviously): right now GPU usage is limited to 12h and RAM is shared among multiple users.\n",
    "\n",
    "Note: You need to upload your course notebooks to colab yourself (File > Upload Notebook). You can install additional packages from within notebooks with '!pip install package'."
   ]
  },
  {
   "cell_type": "markdown",
   "metadata": {
    "id": "SWnzt2jqehMc"
   },
   "source": [
    "## **Hands-on Numpy arrays**\n",
    "\n",
    "\n",
    "A numpy array is a grid of values, all of the same type, and is indexed by a tuple of nonnegative integers. The number of dimensions is the rank of the array; the shape of an array is a tuple of integers giving the size of the array along each dimension."
   ]
  },
  {
   "cell_type": "code",
   "execution_count": null,
   "metadata": {
    "colab": {
     "base_uri": "https://localhost:8080/"
    },
    "id": "i0vY4tmpehMc",
    "outputId": "5a201b8c-4243-4265-dc36-572db23eb577"
   },
   "outputs": [],
   "source": [
    "import numpy as np\n",
    "#Scalar\n",
    "x = np.array(12)\n",
    "print(x.ndim)"
   ]
  },
  {
   "cell_type": "code",
   "execution_count": null,
   "metadata": {
    "colab": {
     "base_uri": "https://localhost:8080/"
    },
    "id": "64BmOjstehMc",
    "outputId": "32066e9e-3e37-435e-ceba-3f881883b19f"
   },
   "outputs": [],
   "source": [
    "#Vectors (1D tensors)\n",
    "x = np.array([12, 3, 6, 14, 7])\n",
    "x.ndim"
   ]
  },
  {
   "cell_type": "code",
   "execution_count": null,
   "metadata": {
    "colab": {
     "base_uri": "https://localhost:8080/"
    },
    "id": "F_q6ozGMehMd",
    "outputId": "b1a0c339-d489-4b40-f8d4-d59a3f419221"
   },
   "outputs": [],
   "source": [
    "#Matrices (2D tensors)\n",
    "x = np.array([[5, 78, 2, 34, 0],\n",
    "[6, 79, 3, 35, 1],\n",
    "[7, 80, 4, 36, 2]])\n",
    "x.ndim"
   ]
  },
  {
   "cell_type": "code",
   "execution_count": null,
   "metadata": {
    "colab": {
     "base_uri": "https://localhost:8080/"
    },
    "id": "ug8R3LgzehMd",
    "outputId": "8bbfb7bd-234c-409a-9eed-42f560ba9144"
   },
   "outputs": [],
   "source": [
    "#3D tensors and higher-dimensional tensors\n",
    "x = np.array([[[5, 78, 2, 34, 0],\n",
    "[6, 79, 3, 35, 1],\n",
    "[7, 80, 4, 36, 2]],\n",
    "[[5, 78, 2, 34, 0],\n",
    "[6, 79, 3, 35, 1],\n",
    "[7, 80, 4, 36, 2]],\n",
    "[[5, 78, 2, 34, 0],\n",
    "[6, 79, 3, 35, 1],\n",
    "[7, 80, 4, 36, 2]]])\n",
    "x.ndim"
   ]
  },
  {
   "cell_type": "code",
   "execution_count": null,
   "metadata": {
    "colab": {
     "base_uri": "https://localhost:8080/"
    },
    "id": "kzg6qB2KehMe",
    "outputId": "3846ad7e-f6d4-4050-a76a-caf1b2fa35d3"
   },
   "outputs": [],
   "source": [
    "#Useful properties of ndarrays:\n",
    "my_array = np.array([[1, 0, 3], [0, 1, 2]])\n",
    "my_array.ndim     # number of dimensions (axes), also called the rank\n",
    "my_array.shape    # a matrix with n rows and m columns has shape (n,m)\n",
    "my_array.size     # the total number of elements of the array\n",
    "my_array.dtype    # type of the elements in the array\n"
   ]
  },
  {
   "cell_type": "markdown",
   "metadata": {
    "id": "zPrjYr4JehMe"
   },
   "source": [
    "#### Indexing and Slicing\n",
    "Arrays can be indexed and sliced using [start:stop:stepsize]. Defaults are [0:ndim:1]\n",
    "\n",
    "For multi-dimensional arrays, axes are comma-separated: [x,y,z]."
   ]
  },
  {
   "cell_type": "code",
   "execution_count": null,
   "metadata": {
    "colab": {
     "base_uri": "https://localhost:8080/"
    },
    "id": "ncwoJoBTehMf",
    "outputId": "29a82568-5504-4959-ca76-1d0915867c49"
   },
   "outputs": [],
   "source": [
    "a = np.arange(10)**2\n",
    "print(a)\n",
    "print(a[3:10:2])\n",
    "print(a[-1])\n",
    "print(a[::-1])"
   ]
  },
  {
   "cell_type": "code",
   "execution_count": null,
   "metadata": {
    "colab": {
     "base_uri": "https://localhost:8080/"
    },
    "id": "9G-sNz_MehMf",
    "outputId": "7920298b-3dd4-456c-c538-fe847abdfef6"
   },
   "outputs": [],
   "source": [
    "b = np.arange(16).reshape(4,4)\n",
    "print(b)\n",
    "b[2,3] # row 2, column 3"
   ]
  },
  {
   "cell_type": "code",
   "execution_count": null,
   "metadata": {
    "colab": {
     "base_uri": "https://localhost:8080/"
    },
    "id": "VqFiMUCbehMf",
    "outputId": "a5d8e155-2758-423f-d7bd-3f445e580737"
   },
   "outputs": [],
   "source": [
    "b[0:3,1] # Values 0 to 3 in column 1 \n",
    "b[ : ,1] # The whole column 1\n",
    "b[1:3, : ] # Rows 1:3, all columns"
   ]
  },
  {
   "cell_type": "markdown",
   "metadata": {
    "id": "SHE8lXgeehMg"
   },
   "source": [
    "### Tensor operations"
   ]
  },
  {
   "cell_type": "code",
   "execution_count": null,
   "metadata": {
    "id": "DAs5RVNrehMg"
   },
   "outputs": [],
   "source": [
    "#Element-wise operations\n",
    "import numpy as np\n",
    "x = np.random.random((32, 10))\n",
    "y = np.random.random((32, 10))\n",
    "z = x + y\n",
    "z = np.maximum(z, 0.)"
   ]
  },
  {
   "cell_type": "code",
   "execution_count": null,
   "outputs": [],
   "source": [
    "Lab1_1_GettingStarted.ipynb"
   ],
   "metadata": {
    "collapsed": false,
    "pycharm": {
     "name": "#%%\n"
    }
   }
  },
  {
   "cell_type": "code",
   "execution_count": null,
   "metadata": {
    "id": "IAFZ1Cj_ehMg"
   },
   "outputs": [],
   "source": [
    "#Brocasting\n",
    "import numpy as np\n",
    "x = np.random.random((64, 3, 32, 10))\n",
    "y = np.random.random((32, 10))\n",
    "z = np.maximum(x, y)"
   ]
  },
  {
   "cell_type": "code",
   "execution_count": null,
   "metadata": {
    "id": "wg60Zov-ehMg"
   },
   "outputs": [],
   "source": [
    "#Dot product\n",
    "#An element-wise product is done with the * operator in Numpy, Keras, Theano,\n",
    "#and TensorFlow. dot uses a different syntax in TensorFlow, but in both Numpy and\n",
    "#Keras it’s done using the standard dot operator:\n",
    "import numpy as np\n",
    "x = np.random.random((1, 10))\n",
    "y = np.random.random((10, 1))\n",
    "z = np.dot(x, y)"
   ]
  },
  {
   "cell_type": "markdown",
   "metadata": {
    "id": "YleAnJSi1TIT"
   },
   "source": [
    "## **SciPy**"
   ]
  },
  {
   "cell_type": "code",
   "execution_count": null,
   "metadata": {
    "colab": {
     "base_uri": "https://localhost:8080/"
    },
    "id": "oEwRM8is1Wp8",
    "outputId": "af6c29dc-95ac-481a-d0d3-84395babe26c"
   },
   "outputs": [],
   "source": [
    "from scipy import sparse\n",
    "\n",
    "# Create a 2D NumPy array with a diagonal of ones, and zeros everywhere else\n",
    "eye = np.eye(4)\n",
    "print(\"NumPy array:\\n\", eye)"
   ]
  },
  {
   "cell_type": "code",
   "execution_count": null,
   "metadata": {
    "colab": {
     "base_uri": "https://localhost:8080/"
    },
    "id": "PtoXHRWX1Xz_",
    "outputId": "ded32e9c-710b-45ca-d26f-ae7af4492870"
   },
   "outputs": [],
   "source": [
    "# Convert the NumPy array to a SciPy sparse matrix in CSR format\n",
    "# Only the nonzero entries are stored\n",
    "sparse_matrix = sparse.csr_matrix(eye)\n",
    "print(\"\\nSciPy sparse CSR matrix:\\n\", sparse_matrix)"
   ]
  },
  {
   "cell_type": "markdown",
   "metadata": {
    "id": "frxw4fPL1wJ9"
   },
   "source": [
    "## **MatPlotLib**"
   ]
  },
  {
   "cell_type": "code",
   "execution_count": null,
   "metadata": {
    "colab": {
     "base_uri": "https://localhost:8080/",
     "height": 282
    },
    "id": "5k5i-2LS1nHa",
    "outputId": "5ed290bf-71c4-4c0f-b86a-3a3809314ec9"
   },
   "outputs": [],
   "source": [
    "%matplotlib inline\n",
    "import matplotlib.pyplot as plt\n",
    "\n",
    "# Generate a sequence of numbers from -10 to 10 with 100 steps in between\n",
    "x = np.linspace(-10, 10, 100)\n",
    "# Create a second array using sine\n",
    "y = np.sin(x)\n",
    "# The plot function makes a line chart of one array against another\n",
    "plt.plot(x, y, marker=\"x\")"
   ]
  },
  {
   "cell_type": "code",
   "execution_count": null,
   "metadata": {
    "id": "Kiuv0d8k1vI-"
   },
   "outputs": [],
   "source": []
  }
 ],
 "metadata": {
  "colab": {
   "collapsed_sections": [],
   "name": "Getting started.ipynb",
   "provenance": []
  },
  "kernelspec": {
   "display_name": "Python 3",
   "language": "python",
   "name": "python3"
  },
  "language_info": {
   "codemirror_mode": {
    "name": "ipython",
    "version": 3
   },
   "file_extension": ".py",
   "mimetype": "text/x-python",
   "name": "python",
   "nbconvert_exporter": "python",
   "pygments_lexer": "ipython3",
   "version": "3.8.5"
  }
 },
 "nbformat": 4,
 "nbformat_minor": 1
}
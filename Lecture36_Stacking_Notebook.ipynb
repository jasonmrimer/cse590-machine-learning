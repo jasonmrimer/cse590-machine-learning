{
 "cells": [
  {
   "cell_type": "markdown",
   "metadata": {},
   "source": [
    "# Applying Stacking for Regression:  Diabetes dataset\n"
   ]
  },
  {
   "cell_type": "code",
   "execution_count": 1,
   "metadata": {},
   "outputs": [],
   "source": [
    "# Libraries and data loading\n",
    "from sklearn.datasets import load_diabetes\n",
    "from sklearn.neighbors import KNeighborsRegressor\n",
    "from sklearn.tree import DecisionTreeRegressor\n",
    "from sklearn.linear_model import LinearRegression, Ridge\n",
    "from sklearn.model_selection import KFold\n",
    "from sklearn import metrics\n",
    "import numpy as np\n",
    "diabetes = load_diabetes()\n",
    "\n",
    "train_x, train_y = diabetes.data[:400], diabetes.target[:400]\n",
    "test_x, test_y = diabetes.data[400:], diabetes.target[400:]"
   ]
  },
  {
   "cell_type": "code",
   "execution_count": 3,
   "metadata": {},
   "outputs": [
    {
     "data": {
      "text/plain": [
       "(400, 10)"
      ]
     },
     "execution_count": 3,
     "metadata": {},
     "output_type": "execute_result"
    }
   ],
   "source": [
    "train_x.shape\n"
   ]
  },
  {
   "cell_type": "code",
   "execution_count": 5,
   "metadata": {},
   "outputs": [
    {
     "data": {
      "text/plain": [
       "(42, 10)"
      ]
     },
     "execution_count": 5,
     "metadata": {},
     "output_type": "execute_result"
    }
   ],
   "source": [
    "test_x.shape"
   ]
  },
  {
   "cell_type": "code",
   "execution_count": 6,
   "metadata": {},
   "outputs": [],
   "source": [
    "# Create the ensemble's base learners and meta learner\n",
    "# Append base learners to a list for ease of access\n",
    "base_learners = []\n",
    "\n",
    "knn = KNeighborsRegressor(n_neighbors=5)\n",
    "base_learners.append(knn)\n",
    "\n",
    "dtr = DecisionTreeRegressor(max_depth=4, random_state=123456)\n",
    "base_learners.append(dtr)\n",
    "\n",
    "ridge = Ridge()\n",
    "base_learners.append(ridge)\n",
    "\n",
    "meta_learner = LinearRegression()"
   ]
  },
  {
   "cell_type": "code",
   "execution_count": 7,
   "metadata": {},
   "outputs": [],
   "source": [
    "# Create the training meta data\n",
    "\n",
    "# Create variables to store meta data and their targets\n",
    "meta_data = np.zeros((len(base_learners), len(train_x)))\n",
    "meta_targets = np.zeros(len(train_x))\n",
    "\n",
    "# Create the cross-validation folds\n",
    "KF = KFold(n_splits=5)\n",
    "meta_index = 0\n",
    "for train_indices, test_indices in KF.split(train_x):\n",
    "    # Train each learner on the K-1 folds and create meta data for the Kth fold\n",
    "    for i in range(len(base_learners)):\n",
    "        learner = base_learners[i]\n",
    "\n",
    "        learner.fit(train_x[train_indices], train_y[train_indices])\n",
    "        predictions = learner.predict(train_x[test_indices])\n",
    "\n",
    "        meta_data[i][meta_index:meta_index+len(test_indices)] = predictions\n",
    "\n",
    "    meta_targets[meta_index:meta_index+len(test_indices)] = train_y[test_indices]\n",
    "    meta_index += len(test_indices)\n",
    "\n",
    "# Transpose the meta data to be fed into the meta learner\n",
    "meta_data = meta_data.transpose()"
   ]
  },
  {
   "cell_type": "code",
   "execution_count": 8,
   "metadata": {},
   "outputs": [
    {
     "data": {
      "text/plain": [
       "(400, 3)"
      ]
     },
     "execution_count": 8,
     "metadata": {},
     "output_type": "execute_result"
    }
   ],
   "source": [
    "meta_data.shape"
   ]
  },
  {
   "cell_type": "code",
   "execution_count": 9,
   "metadata": {},
   "outputs": [],
   "source": [
    "# Create the meta data for the test set and evaluate the base learners\n",
    "test_meta_data = np.zeros((len(base_learners), len(test_x)))\n",
    "base_errors = []\n",
    "base_r2 = []\n",
    "for i in range(len(base_learners)):\n",
    "    learner = base_learners[i]\n",
    "    learner.fit(train_x, train_y)\n",
    "    predictions = learner.predict(test_x)\n",
    "    test_meta_data[i] = predictions\n",
    "\n",
    "    err = metrics.mean_squared_error(test_y, predictions)\n",
    "    r2 = metrics.r2_score(test_y, predictions)\n",
    "\n",
    "    base_errors.append(err)\n",
    "    base_r2.append(r2)\n",
    "\n",
    "test_meta_data = test_meta_data.transpose()"
   ]
  },
  {
   "cell_type": "code",
   "execution_count": 10,
   "metadata": {},
   "outputs": [
    {
     "data": {
      "text/plain": [
       "(42, 3)"
      ]
     },
     "execution_count": 10,
     "metadata": {},
     "output_type": "execute_result"
    }
   ],
   "source": [
    "test_meta_data.shape"
   ]
  },
  {
   "cell_type": "code",
   "execution_count": 12,
   "metadata": {},
   "outputs": [],
   "source": [
    "# Fit the meta learner on the train set and evaluate it on the test set\n",
    "meta_learner.fit(meta_data, meta_targets)\n",
    "ensemble_predictions = meta_learner.predict(test_meta_data)\n",
    "\n",
    "err = metrics.mean_squared_error(test_y, ensemble_predictions)\n",
    "r2 = metrics.r2_score(test_y, ensemble_predictions)\n"
   ]
  },
  {
   "cell_type": "code",
   "execution_count": 13,
   "metadata": {},
   "outputs": [
    {
     "name": "stdout",
     "output_type": "stream",
     "text": [
      "ERROR  R2  Name\n",
      "--------------------\n",
      "2697.8 0.51 KNeighborsRegressor\n",
      "3142.5 0.43 DecisionTreeRegressor\n",
      "2564.8 0.54 Ridge\n",
      "2066.6 0.63 Ensemble\n"
     ]
    }
   ],
   "source": [
    "# Print the results\n",
    "print('ERROR  R2  Name')\n",
    "print('-'*20)\n",
    "for i in range(len(base_learners)):\n",
    "    learner = base_learners[i]\n",
    "\n",
    "    print(f'{base_errors[i]:.1f} {base_r2[i]:.2f} {learner.__class__.__name__}')\n",
    "print(f'{err:.1f} {r2:.2f} Ensemble')"
   ]
  },
  {
   "cell_type": "code",
   "execution_count": 14,
   "metadata": {},
   "outputs": [
    {
     "data": {
      "text/plain": [
       "<matplotlib.legend.Legend at 0x1aa1d8bb0d0>"
      ]
     },
     "execution_count": 14,
     "metadata": {},
     "output_type": "execute_result"
    },
    {
     "data": {
      "image/png": "[encoded data removed]",
      "text/plain": [
       "<Figure size 432x288 with 1 Axes>"
      ]
     },
     "metadata": {
      "needs_background": "light"
     },
     "output_type": "display_data"
    }
   ],
   "source": [
    "import matplotlib.pyplot as plt\n",
    "\n",
    "knn_d = test_meta_data[:,0]-test_y\n",
    "dtr_d = test_meta_data[:,1]-test_y\n",
    "ridge_d = test_meta_data[:,2]-test_y\n",
    "meta_d =  ensemble_predictions-test_y\n",
    "\n",
    "plt.plot(knn_d, label='KNN')\n",
    "plt.plot(dtr_d, label='DTree')\n",
    "plt.plot(ridge_d, label='Ridge')\n",
    "plt.plot(meta_d, label='Ensemble')\n",
    "plt.legend()"
   ]
  },
  {
   "cell_type": "markdown",
   "metadata": {},
   "source": [
    "# Applying Stacking for Classification:  Breast Cancer dataset"
   ]
  },
  {
   "cell_type": "code",
   "execution_count": 15,
   "metadata": {},
   "outputs": [],
   "source": [
    "# Libraries and data loading\n",
    "from sklearn.datasets import load_breast_cancer\n",
    "from sklearn.neighbors import KNeighborsClassifier\n",
    "from sklearn.tree import DecisionTreeClassifier\n",
    "from sklearn.neural_network import MLPClassifier\n",
    "from sklearn.naive_bayes import GaussianNB\n",
    "from sklearn.linear_model import LogisticRegression\n",
    "from sklearn.model_selection import KFold\n",
    "from sklearn import metrics\n",
    "import numpy as np\n",
    "bc = load_breast_cancer()\n",
    "\n",
    "\n",
    "train_x, train_y = bc.data[:400], bc.target[:400]\n",
    "test_x, test_y = bc.data[400:], bc.target[400:]"
   ]
  },
  {
   "cell_type": "code",
   "execution_count": 16,
   "metadata": {},
   "outputs": [
    {
     "data": {
      "text/plain": [
       "(400, 30)"
      ]
     },
     "execution_count": 16,
     "metadata": {},
     "output_type": "execute_result"
    }
   ],
   "source": [
    "train_x.shape"
   ]
  },
  {
   "cell_type": "code",
   "execution_count": 17,
   "metadata": {},
   "outputs": [
    {
     "data": {
      "text/plain": [
       "(169, 30)"
      ]
     },
     "execution_count": 17,
     "metadata": {},
     "output_type": "execute_result"
    }
   ],
   "source": [
    "test_x.shape"
   ]
  },
  {
   "cell_type": "code",
   "execution_count": 18,
   "metadata": {},
   "outputs": [],
   "source": [
    "# Create the ensemble's base learners and meta learner\n",
    "# Append base learners to a list for ease of access\n",
    "base_learners = []\n",
    "\n",
    "knn = KNeighborsClassifier(n_neighbors=2)\n",
    "base_learners.append(knn)\n",
    "\n",
    "dtr = DecisionTreeClassifier(max_depth=4, random_state=123456)\n",
    "base_learners.append(dtr)\n",
    "\n",
    "mlpc = MLPClassifier(hidden_layer_sizes =(100, ), solver='lbfgs', random_state=123456)\n",
    "base_learners.append(mlpc)\n",
    "\n",
    "\n",
    "meta_learner = LogisticRegression(solver='lbfgs')"
   ]
  },
  {
   "cell_type": "code",
   "execution_count": 19,
   "metadata": {},
   "outputs": [
    {
     "name": "stderr",
     "output_type": "stream",
     "text": [
      "C:\\Users\\15025\\Anaconda3\\lib\\site-packages\\sklearn\\neural_network\\_multilayer_perceptron.py:471: ConvergenceWarning: lbfgs failed to converge (status=1):\n",
      "STOP: TOTAL NO. of ITERATIONS REACHED LIMIT.\n",
      "\n",
      "Increase the number of iterations (max_iter) or scale the data as shown in:\n",
      "    https://scikit-learn.org/stable/modules/preprocessing.html\n",
      "  self.n_iter_ = _check_optimize_result(\"lbfgs\", opt_res, self.max_iter)\n",
      "C:\\Users\\15025\\Anaconda3\\lib\\site-packages\\sklearn\\neural_network\\_multilayer_perceptron.py:471: ConvergenceWarning: lbfgs failed to converge (status=1):\n",
      "STOP: TOTAL NO. of ITERATIONS REACHED LIMIT.\n",
      "\n",
      "Increase the number of iterations (max_iter) or scale the data as shown in:\n",
      "    https://scikit-learn.org/stable/modules/preprocessing.html\n",
      "  self.n_iter_ = _check_optimize_result(\"lbfgs\", opt_res, self.max_iter)\n",
      "C:\\Users\\15025\\Anaconda3\\lib\\site-packages\\sklearn\\neural_network\\_multilayer_perceptron.py:471: ConvergenceWarning: lbfgs failed to converge (status=1):\n",
      "STOP: TOTAL NO. of ITERATIONS REACHED LIMIT.\n",
      "\n",
      "Increase the number of iterations (max_iter) or scale the data as shown in:\n",
      "    https://scikit-learn.org/stable/modules/preprocessing.html\n",
      "  self.n_iter_ = _check_optimize_result(\"lbfgs\", opt_res, self.max_iter)\n",
      "C:\\Users\\15025\\Anaconda3\\lib\\site-packages\\sklearn\\neural_network\\_multilayer_perceptron.py:471: ConvergenceWarning: lbfgs failed to converge (status=1):\n",
      "STOP: TOTAL NO. of ITERATIONS REACHED LIMIT.\n",
      "\n",
      "Increase the number of iterations (max_iter) or scale the data as shown in:\n",
      "    https://scikit-learn.org/stable/modules/preprocessing.html\n",
      "  self.n_iter_ = _check_optimize_result(\"lbfgs\", opt_res, self.max_iter)\n"
     ]
    }
   ],
   "source": [
    "# Create the training meta data\n",
    "\n",
    "# Create variables to store meta data and their targets\n",
    "meta_data = np.zeros((len(base_learners), len(train_x)))\n",
    "meta_targets = np.zeros(len(train_x))\n",
    "\n",
    "# Create the cross-validation folds\n",
    "KF = KFold(n_splits=5)\n",
    "meta_index = 0\n",
    "for train_indices, test_indices in KF.split(train_x):\n",
    "    # Train each learner on the K-1 folds and create meta data for the Kth fold\n",
    "    for i in range(len(base_learners)):\n",
    "        learner = base_learners[i]\n",
    "\n",
    "        learner.fit(train_x[train_indices], train_y[train_indices])\n",
    "        predictions = learner.predict_proba(train_x[test_indices])[:,0]\n",
    "\n",
    "        meta_data[i][meta_index:meta_index+len(test_indices)] = predictions\n",
    "\n",
    "    meta_targets[meta_index:meta_index+len(test_indices)] = train_y[test_indices]\n",
    "    meta_index += len(test_indices)\n",
    "\n",
    "# Transpose the meta data to be fed into the meta learner\n",
    "meta_data = meta_data.transpose()"
   ]
  },
  {
   "cell_type": "code",
   "execution_count": 20,
   "metadata": {},
   "outputs": [
    {
     "data": {
      "text/plain": [
       "(400, 3)"
      ]
     },
     "execution_count": 20,
     "metadata": {},
     "output_type": "execute_result"
    }
   ],
   "source": [
    "meta_data.shape"
   ]
  },
  {
   "cell_type": "code",
   "execution_count": 21,
   "metadata": {},
   "outputs": [
    {
     "name": "stderr",
     "output_type": "stream",
     "text": [
      "C:\\Users\\15025\\Anaconda3\\lib\\site-packages\\sklearn\\neural_network\\_multilayer_perceptron.py:471: ConvergenceWarning: lbfgs failed to converge (status=1):\n",
      "STOP: TOTAL NO. of ITERATIONS REACHED LIMIT.\n",
      "\n",
      "Increase the number of iterations (max_iter) or scale the data as shown in:\n",
      "    https://scikit-learn.org/stable/modules/preprocessing.html\n",
      "  self.n_iter_ = _check_optimize_result(\"lbfgs\", opt_res, self.max_iter)\n"
     ]
    }
   ],
   "source": [
    "# Create the meta data for the test set and evaluate the base learners\n",
    "test_meta_data = np.zeros((len(base_learners), len(test_x)))\n",
    "base_acc = []\n",
    "for i in range(len(base_learners)):\n",
    "    learner = base_learners[i]\n",
    "    learner.fit(train_x, train_y)\n",
    "    predictions = learner.predict_proba(test_x)[:,0]\n",
    "    test_meta_data[i] = predictions\n",
    "\n",
    "    acc = metrics.accuracy_score(test_y, learner.predict(test_x))\n",
    "\n",
    "\n",
    "    base_acc.append(acc)\n",
    "\n",
    "test_meta_data = test_meta_data.transpose()"
   ]
  },
  {
   "cell_type": "code",
   "execution_count": 22,
   "metadata": {},
   "outputs": [],
   "source": [
    "# Fit the meta learner on the train set and evaluate it on the test set\n",
    "meta_learner.fit(meta_data, meta_targets)\n",
    "ensemble_predictions = meta_learner.predict(test_meta_data)\n",
    "\n",
    "acc = metrics.accuracy_score(test_y, ensemble_predictions)"
   ]
  },
  {
   "cell_type": "code",
   "execution_count": 23,
   "metadata": {},
   "outputs": [
    {
     "name": "stdout",
     "output_type": "stream",
     "text": [
      "Acc  Name\n",
      "--------------------\n",
      "0.86 KNeighborsClassifier\n",
      "0.88 DecisionTreeClassifier\n",
      "0.92 MLPClassifier\n",
      "0.94 Ensemble\n"
     ]
    }
   ],
   "source": [
    "# Print the results\n",
    "print('Acc  Name')\n",
    "print('-'*20)\n",
    "for i in range(len(base_learners)):\n",
    "    learner = base_learners[i]\n",
    "\n",
    "    print(f'{base_acc[i]:.2f} {learner.__class__.__name__}')\n",
    "print(f'{acc:.2f} Ensemble')"
   ]
  },
  {
   "cell_type": "code",
   "execution_count": 24,
   "metadata": {},
   "outputs": [
    {
     "name": "stdout",
     "output_type": "stream",
     "text": [
      "[-1.          0.         -0.27855635]\n",
      "[-0.5         0.         -0.41468405]\n",
      "[ 0.00000000e+00 -1.00000000e+00 -5.54156966e-04]\n",
      "[ 0.        0.       -0.031367]\n",
      "[ 0.         -0.97685185 -0.2437451 ]\n",
      "[0.         0.02314815 0.28720736]\n",
      "[-0.5         0.         -0.02858243]\n",
      "[-1.          0.         -0.21626077]\n",
      "[ 0.         -0.97685185 -0.10865132]\n",
      "[-0.5         0.         -0.79926213]\n"
     ]
    }
   ],
   "source": [
    "base_errors = (test_meta_data.transpose() - test_y).transpose()\n",
    "prediction_errors = ensemble_predictions - test_y\n",
    "\n",
    "for i in range(len(prediction_errors)):\n",
    "    if not prediction_errors[i] == 0.0:\n",
    "        print(base_errors[i,:])"
   ]
  },
  {
   "cell_type": "code",
   "execution_count": null,
   "metadata": {},
   "outputs": [],
   "source": []
  }
 ],
 "metadata": {
  "kernelspec": {
   "display_name": "Python 3",
   "language": "python",
   "name": "python3"
  },
  "language_info": {
   "codemirror_mode": {
    "name": "ipython",
    "version": 3
   },
   "file_extension": ".py",
   "mimetype": "text/x-python",
   "name": "python",
   "nbconvert_exporter": "python",
   "pygments_lexer": "ipython3",
   "version": "3.8.5"
  }
 },
 "nbformat": 4,
 "nbformat_minor": 4
}

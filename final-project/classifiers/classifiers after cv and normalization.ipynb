{
 "cells": [
  {
   "cell_type": "code",
   "execution_count": 1,
   "metadata": {
    "collapsed": true
   },
   "outputs": [],
   "source": [
    "\n",
    "import pandas as pd\n",
    "from sklearn import metrics\n",
    "from sklearn.calibration import CalibratedClassifierCV\n",
    "from sklearn.decomposition import PCA\n",
    "from sklearn.ensemble import RandomForestClassifier, GradientBoostingClassifier\n",
    "from sklearn.linear_model import LogisticRegression\n",
    "from sklearn.model_selection import train_test_split\n",
    "from sklearn.naive_bayes import MultinomialNB\n",
    "from sklearn.neighbors import KNeighborsClassifier\n",
    "from sklearn.neural_network import MLPClassifier\n",
    "from sklearn.preprocessing import StandardScaler, RobustScaler, MinMaxScaler\n",
    "from sklearn.svm import LinearSVC, SVC\n",
    "from sklearn.metrics import roc_auc_score, roc_curve, confusion_matrix\n"
   ]
  },
  {
   "cell_type": "code",
   "execution_count": 3,
   "outputs": [],
   "source": [
    "X = pd.read_csv(\"../dataset/extracted_features.csv\").values\n",
    "y = pd.read_csv(\"../dataset/labels.csv\").values\n",
    "# images = pd.read_csv(\"../dataset/raw_images.csv\").values\n",
    "X_train, X_test, y_train, y_test = train_test_split(X, y, test_size=0.2, random_state=42, shuffle=True, stratify=y)\n",
    "y_train = y_train.ravel()\n",
    "\n",
    "scaler_standard = StandardScaler().fit(X_train)\n",
    "X_train_standard = scaler_standard.transform(X_train)\n",
    "X_test_standard = scaler_standard.transform(X_test)\n",
    "\n",
    "scaler_robust = RobustScaler().fit(X_train)\n",
    "X_train_robust = scaler_robust.transform(X_train)\n",
    "X_test_robust = scaler_robust.transform(X_test)\n",
    "\n",
    "scaler_minmax = MinMaxScaler().fit(X_train)\n",
    "X_train_minmax = scaler_minmax.transform(X_train)\n",
    "X_test_minmax = scaler_minmax.transform(X_test)\n",
    "\n",
    "pca = PCA(n_components=56, random_state=42)\n",
    "X_train_pca = pca.fit_transform(X_train_standard)\n",
    "X_test_pca = pca.transform(X_test_standard)\n"
   ],
   "metadata": {
    "collapsed": false,
    "pycharm": {
     "name": "#%%\n"
    }
   }
  },
  {
   "cell_type": "code",
   "execution_count": 10,
   "outputs": [
    {
     "name": "stdout",
     "output_type": "stream",
     "text": [
      "2219\n",
      "1775\n",
      "444\n"
     ]
    }
   ],
   "source": [],
   "metadata": {
    "collapsed": false,
    "pycharm": {
     "name": "#%%\n"
    }
   }
  },
  {
   "cell_type": "markdown",
   "source": [
    "## knn"
   ],
   "metadata": {
    "collapsed": false
   }
  },
  {
   "cell_type": "code",
   "execution_count": 4,
   "outputs": [
    {
     "name": "stdout",
     "output_type": "stream",
     "text": [
      "0.9092957746478874\n",
      "0.8536036036036037\n",
      "0.9744479873193376\n"
     ]
    }
   ],
   "source": [
    "\n",
    "knn = KNeighborsClassifier(n_neighbors=5).fit(X_train, y_train)\n",
    "y_pred_knn = knn.predict(X_test)\n",
    "# roc_knn = roc_curve(y_test, y_pred_knn)\n",
    "\n",
    "print(knn.score(X_train, y_train))\n",
    "print(knn.score(X_test, y_test))\n",
    "print(roc_auc_score(y_test, knn.predict_proba(X_test), multi_class='ovr'))"
   ],
   "metadata": {
    "collapsed": false,
    "pycharm": {
     "name": "#%%\n"
    }
   }
  },
  {
   "cell_type": "code",
   "execution_count": 6,
   "outputs": [
    {
     "name": "stdout",
     "output_type": "stream",
     "text": [
      "[0.96923077 0.8        0.69230769 0.87096774 0.92857143 0.8245614\n",
      " 0.92307692 0.90625    0.63333333]\n"
     ]
    }
   ],
   "source": [
    "matrix_knn = confusion_matrix(y_test, y_pred_knn)\n",
    "print(matrix_knn.diagonal() / matrix_knn.sum(axis=1))"
   ],
   "metadata": {
    "collapsed": false,
    "pycharm": {
     "name": "#%%\n"
    }
   }
  },
  {
   "cell_type": "markdown",
   "source": [
    "## logreg"
   ],
   "metadata": {
    "collapsed": false
   }
  },
  {
   "cell_type": "code",
   "execution_count": 9,
   "outputs": [
    {
     "name": "stdout",
     "output_type": "stream",
     "text": [
      "0.9425352112676056\n",
      "0.9234234234234234\n",
      "0.9928545380844199\n"
     ]
    }
   ],
   "source": [
    "logreg = LogisticRegression(C=4.817948717948719).fit(X_train_minmax, y_train)\n",
    "y_pred_logreg = logreg.predict(X_test_minmax)\n",
    "\n",
    "print(logreg.score(X_train_minmax, y_train))\n",
    "print(logreg.score(X_test_minmax, y_test))\n",
    "print(roc_auc_score(y_test, logreg.predict_proba(X_test_minmax), multi_class='ovr'))\n"
   ],
   "metadata": {
    "collapsed": false,
    "pycharm": {
     "name": "#%%\n"
    }
   }
  },
  {
   "cell_type": "markdown",
   "source": [],
   "metadata": {
    "collapsed": false
   }
  },
  {
   "cell_type": "markdown",
   "source": [
    "## Linear SVC"
   ],
   "metadata": {
    "collapsed": false
   }
  },
  {
   "cell_type": "code",
   "execution_count": 18,
   "outputs": [
    {
     "name": "stdout",
     "output_type": "stream",
     "text": [
      "0.9363380281690141\n",
      "0.918918918918919\n"
     ]
    },
    {
     "data": {
      "text/plain": "0.9878363185799935"
     },
     "execution_count": 18,
     "metadata": {},
     "output_type": "execute_result"
    }
   ],
   "source": [
    "lsvc = LinearSVC(C=1.6326530612244898)\n",
    "clf = CalibratedClassifierCV(lsvc).fit(X_train_minmax, y_train)\n",
    "y_pred_lsvc = clf.predict(X_test_minmax)\n",
    "\n",
    "print(clf.score(X_train_minmax, y_train))\n",
    "print(clf.score(X_test_minmax, y_test))\n",
    "roc_auc_score(y_test, clf.predict_proba(X_test_minmax), multi_class='ovr')\n"
   ],
   "metadata": {
    "collapsed": false,
    "pycharm": {
     "name": "#%%\n"
    }
   }
  },
  {
   "cell_type": "markdown",
   "source": [
    "## mulinomial naive bayes"
   ],
   "metadata": {
    "collapsed": false
   }
  },
  {
   "cell_type": "code",
   "execution_count": 11,
   "outputs": [
    {
     "name": "stdout",
     "output_type": "stream",
     "text": [
      "0.9014084507042254\n",
      "0.8986486486486487\n"
     ]
    },
    {
     "data": {
      "text/plain": "0.987718357451597"
     },
     "execution_count": 11,
     "metadata": {},
     "output_type": "execute_result"
    }
   ],
   "source": [
    "\n",
    "mnb = MultinomialNB(alpha=0.15789473684210525).fit(X_train, y_train)\n",
    "y_pred_mnb = mnb.predict(X_test)\n",
    "\n",
    "print(mnb.score(X_train, y_train))\n",
    "print(mnb.score(X_test, y_test))\n",
    "roc_auc_score(y_test, mnb.predict_proba(X_test), multi_class='ovr')\n",
    "\n"
   ],
   "metadata": {
    "collapsed": false,
    "pycharm": {
     "name": "#%%\n"
    }
   }
  },
  {
   "cell_type": "markdown",
   "source": [
    "# forests"
   ],
   "metadata": {
    "collapsed": false
   }
  },
  {
   "cell_type": "markdown",
   "source": [
    "## random forest"
   ],
   "metadata": {
    "collapsed": false
   }
  },
  {
   "cell_type": "code",
   "execution_count": 12,
   "outputs": [
    {
     "name": "stdout",
     "output_type": "stream",
     "text": [
      "0.9915492957746479\n",
      "0.8918918918918919\n"
     ]
    },
    {
     "data": {
      "text/plain": "0.9866071692017238"
     },
     "execution_count": 12,
     "metadata": {},
     "output_type": "execute_result"
    }
   ],
   "source": [
    "rf = RandomForestClassifier(max_features=5, n_estimators=500, random_state=42).fit(X_train, y_train)\n",
    "y_pred_rf = rf.predict(X_test)\n",
    "\n",
    "print(rf.score(X_train, y_train))\n",
    "print(rf.score(X_test, y_test))\n",
    "roc_auc_score(y_test, rf.predict_proba(X_test), multi_class='ovr')\n",
    "\n"
   ],
   "metadata": {
    "collapsed": false,
    "pycharm": {
     "name": "#%%\n"
    }
   }
  },
  {
   "cell_type": "markdown",
   "source": [
    "## gradient boost"
   ],
   "metadata": {
    "collapsed": false
   }
  },
  {
   "cell_type": "code",
   "execution_count": 13,
   "outputs": [
    {
     "name": "stdout",
     "output_type": "stream",
     "text": [
      "0.9819718309859155\n",
      "0.8873873873873874\n",
      "0.9893634599635737\n"
     ]
    }
   ],
   "source": [
    "gbrt = GradientBoostingClassifier(\n",
    "    n_estimators=500,\n",
    "    max_depth=1,\n",
    "    learning_rate=0.1,\n",
    ").fit(X_train_robust, y_train)\n",
    "y_pred_gbrt = gbrt.predict(X_test_robust)\n",
    "\n",
    "print(gbrt.score(X_train_robust, y_train))\n",
    "print(gbrt.score(X_test_robust, y_test))\n",
    "\n",
    "print(roc_auc_score(y_test, gbrt.predict_proba(X_test_robust), multi_class='ovr'))\n"
   ],
   "metadata": {
    "collapsed": false,
    "pycharm": {
     "name": "#%%\n"
    }
   }
  },
  {
   "cell_type": "markdown",
   "source": [
    "## ksvm"
   ],
   "metadata": {
    "collapsed": false
   }
  },
  {
   "cell_type": "code",
   "execution_count": 15,
   "outputs": [
    {
     "name": "stdout",
     "output_type": "stream",
     "text": [
      "0.9414084507042253\n",
      "0.9009009009009009\n",
      "0.9935144809138793\n"
     ]
    }
   ],
   "source": [
    "ksvm = SVC(C=5, degree=1, kernel='poly', probability=True).fit(X_train, y_train)\n",
    "y_pred_ksvm = ksvm.predict(X_test)\n",
    "\n",
    "print(ksvm.score(X_train, y_train))\n",
    "print(ksvm.score(X_test, y_test))\n",
    "print(roc_auc_score(y_test, ksvm.predict_proba(X_test), multi_class='ovr'))\n"
   ],
   "metadata": {
    "collapsed": false,
    "pycharm": {
     "name": "#%%\n"
    }
   }
  },
  {
   "cell_type": "markdown",
   "source": [
    "## MLP"
   ],
   "metadata": {
    "collapsed": false
   }
  },
  {
   "cell_type": "code",
   "execution_count": 16,
   "outputs": [
    {
     "name": "stdout",
     "output_type": "stream",
     "text": [
      "0.9847887323943662\n",
      "0.9436936936936937\n",
      "0.9969471380675198\n"
     ]
    },
    {
     "name": "stderr",
     "output_type": "stream",
     "text": [
      "/Users/engineer/workspace/cse590-machine-learning/venv/lib/python3.9/site-packages/sklearn/neural_network/_multilayer_perceptron.py:692: ConvergenceWarning: Stochastic Optimizer: Maximum iterations (200) reached and the optimization hasn't converged yet.\n",
      "  warnings.warn(\n"
     ]
    }
   ],
   "source": [
    "mlp = MLPClassifier(random_state=42, activation='relu', hidden_layer_sizes=256, alpha=0.05).fit(X_train_minmax, y_train)\n",
    "y_pred_mlp = mlp.predict(X_test_minmax)\n",
    "\n",
    "print(mlp.score(X_train_minmax, y_train))\n",
    "print(mlp.score(X_test_minmax, y_test))\n",
    "print(roc_auc_score(y_test, mlp.predict_proba(X_test_minmax), multi_class='ovr'))\n"
   ],
   "metadata": {
    "collapsed": false,
    "pycharm": {
     "name": "#%%\n"
    }
   }
  },
  {
   "cell_type": "code",
   "execution_count": 21,
   "outputs": [
    {
     "data": {
      "text/plain": "        knn    logreg      lsvc       mnb        rf      gbrt      ksvm  \\\n0  0.969231  0.984615  1.000000  0.984615  0.969231  0.938462  0.969231   \n1  0.800000  0.900000  0.950000  0.950000  0.800000  0.850000  0.850000   \n2  0.692308  0.884615  0.884615  0.884615  0.807692  0.923077  0.846154   \n3  0.870968  0.967742  0.935484  0.967742  0.903226  0.935484  0.935484   \n4  0.928571  0.964286  0.964286  0.910714  0.910714  0.928571  0.964286   \n5  0.824561  0.964912  0.964912  0.982456  0.947368  0.877193  0.964912   \n6  0.923077  0.923077  0.938462  0.923077  0.923077  0.907692  0.923077   \n7  0.906250  0.937500  0.921875  0.953125  0.875000  0.859375  0.875000   \n8  0.633333  0.766667  0.716667  0.583333  0.783333  0.783333  0.733333   \n\n        mlp  \n0  0.984615  \n1  0.950000  \n2  0.923077  \n3  1.000000  \n4  0.964286  \n5  0.964912  \n6  0.953846  \n7  0.921875  \n8  0.850000  ",
      "text/html": "<div>\n<style scoped>\n    .dataframe tbody tr th:only-of-type {\n        vertical-align: middle;\n    }\n\n    .dataframe tbody tr th {\n        vertical-align: top;\n    }\n\n    .dataframe thead th {\n        text-align: right;\n    }\n</style>\n<table border=\"1\" class=\"dataframe\">\n  <thead>\n    <tr style=\"text-align: right;\">\n      <th></th>\n      <th>knn</th>\n      <th>logreg</th>\n      <th>lsvc</th>\n      <th>mnb</th>\n      <th>rf</th>\n      <th>gbrt</th>\n      <th>ksvm</th>\n      <th>mlp</th>\n    </tr>\n  </thead>\n  <tbody>\n    <tr>\n      <th>0</th>\n      <td>0.969231</td>\n      <td>0.984615</td>\n      <td>1.000000</td>\n      <td>0.984615</td>\n      <td>0.969231</td>\n      <td>0.938462</td>\n      <td>0.969231</td>\n      <td>0.984615</td>\n    </tr>\n    <tr>\n      <th>1</th>\n      <td>0.800000</td>\n      <td>0.900000</td>\n      <td>0.950000</td>\n      <td>0.950000</td>\n      <td>0.800000</td>\n      <td>0.850000</td>\n      <td>0.850000</td>\n      <td>0.950000</td>\n    </tr>\n    <tr>\n      <th>2</th>\n      <td>0.692308</td>\n      <td>0.884615</td>\n      <td>0.884615</td>\n      <td>0.884615</td>\n      <td>0.807692</td>\n      <td>0.923077</td>\n      <td>0.846154</td>\n      <td>0.923077</td>\n    </tr>\n    <tr>\n      <th>3</th>\n      <td>0.870968</td>\n      <td>0.967742</td>\n      <td>0.935484</td>\n      <td>0.967742</td>\n      <td>0.903226</td>\n      <td>0.935484</td>\n      <td>0.935484</td>\n      <td>1.000000</td>\n    </tr>\n    <tr>\n      <th>4</th>\n      <td>0.928571</td>\n      <td>0.964286</td>\n      <td>0.964286</td>\n      <td>0.910714</td>\n      <td>0.910714</td>\n      <td>0.928571</td>\n      <td>0.964286</td>\n      <td>0.964286</td>\n    </tr>\n    <tr>\n      <th>5</th>\n      <td>0.824561</td>\n      <td>0.964912</td>\n      <td>0.964912</td>\n      <td>0.982456</td>\n      <td>0.947368</td>\n      <td>0.877193</td>\n      <td>0.964912</td>\n      <td>0.964912</td>\n    </tr>\n    <tr>\n      <th>6</th>\n      <td>0.923077</td>\n      <td>0.923077</td>\n      <td>0.938462</td>\n      <td>0.923077</td>\n      <td>0.923077</td>\n      <td>0.907692</td>\n      <td>0.923077</td>\n      <td>0.953846</td>\n    </tr>\n    <tr>\n      <th>7</th>\n      <td>0.906250</td>\n      <td>0.937500</td>\n      <td>0.921875</td>\n      <td>0.953125</td>\n      <td>0.875000</td>\n      <td>0.859375</td>\n      <td>0.875000</td>\n      <td>0.921875</td>\n    </tr>\n    <tr>\n      <th>8</th>\n      <td>0.633333</td>\n      <td>0.766667</td>\n      <td>0.716667</td>\n      <td>0.583333</td>\n      <td>0.783333</td>\n      <td>0.783333</td>\n      <td>0.733333</td>\n      <td>0.850000</td>\n    </tr>\n  </tbody>\n</table>\n</div>"
     },
     "execution_count": 21,
     "metadata": {},
     "output_type": "execute_result"
    }
   ],
   "source": [
    "matrix_knn = confusion_matrix(y_test, y_pred_knn)\n",
    "matrix_logreg = confusion_matrix(y_test, y_pred_logreg)\n",
    "matrix_lsvc = confusion_matrix(y_test, y_pred_lsvc)\n",
    "matrix_mnb = confusion_matrix(y_test, y_pred_mnb)\n",
    "matrix_rf = confusion_matrix(y_test, y_pred_rf)\n",
    "matrix_gbrt = confusion_matrix(y_test, y_pred_gbrt)\n",
    "matrix_ksvm = confusion_matrix(y_test, y_pred_ksvm)\n",
    "matrix_mlp = confusion_matrix(y_test, y_pred_mlp)\n",
    "class_scores_knn = matrix_knn.diagonal() / matrix_knn.sum(axis=1)\n",
    "class_scores_logreg = matrix_logreg.diagonal() / matrix_logreg.sum(axis=1)\n",
    "class_scores_lsvc = matrix_lsvc.diagonal() / matrix_lsvc.sum(axis=1)\n",
    "class_scores_mnb = matrix_mnb.diagonal() / matrix_mnb.sum(axis=1)\n",
    "class_scores_rf = matrix_rf.diagonal() / matrix_rf.sum(axis=1)\n",
    "class_scores_gbrt = matrix_gbrt.diagonal() / matrix_gbrt.sum(axis=1)\n",
    "class_scores_ksvm = matrix_ksvm.diagonal() / matrix_ksvm.sum(axis=1)\n",
    "class_scores_mlp = matrix_mlp.diagonal() / matrix_mlp.sum(axis=1)\n",
    "\n",
    "scores_data = {\n",
    "    'knn': class_scores_knn,\n",
    "    'logreg': class_scores_logreg,\n",
    "    'lsvc': class_scores_lsvc,\n",
    "    'mnb': class_scores_mnb,\n",
    "    'rf': class_scores_rf,\n",
    "    'gbrt': class_scores_gbrt,\n",
    "    'ksvm': class_scores_ksvm,\n",
    "    'mlp': class_scores_mlp,\n",
    "}\n",
    "scores_df = pd.DataFrame(data=scores_data)\n",
    "scores_df"
   ],
   "metadata": {
    "collapsed": false,
    "pycharm": {
     "name": "#%%\n"
    }
   }
  },
  {
   "cell_type": "code",
   "execution_count": null,
   "outputs": [],
   "source": [],
   "metadata": {
    "collapsed": false,
    "pycharm": {
     "name": "#%%\n"
    }
   }
  }
 ],
 "metadata": {
  "kernelspec": {
   "display_name": "Python 3",
   "language": "python",
   "name": "python3"
  },
  "language_info": {
   "codemirror_mode": {
    "name": "ipython",
    "version": 2
   },
   "file_extension": ".py",
   "mimetype": "text/x-python",
   "name": "python",
   "nbconvert_exporter": "python",
   "pygments_lexer": "ipython2",
   "version": "2.7.6"
  }
 },
 "nbformat": 4,
 "nbformat_minor": 0
}
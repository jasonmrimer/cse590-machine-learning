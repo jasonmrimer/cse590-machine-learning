{
 "cells": [
  {
   "cell_type": "code",
   "execution_count": 24,
   "metadata": {
    "collapsed": true
   },
   "outputs": [],
   "source": [
    "import numpy as np\n",
    "import pandas as pd\n",
    "from sklearn import metrics\n",
    "from sklearn.calibration import CalibratedClassifierCV\n",
    "from sklearn.decomposition import PCA\n",
    "from sklearn.ensemble import RandomForestClassifier, GradientBoostingClassifier\n",
    "from sklearn.feature_selection import SelectPercentile, SelectFromModel, RFE\n",
    "from sklearn.linear_model import LogisticRegression\n",
    "from sklearn.model_selection import train_test_split\n",
    "from sklearn.naive_bayes import MultinomialNB\n",
    "from sklearn.neighbors import KNeighborsClassifier\n",
    "from sklearn.neural_network import MLPClassifier\n",
    "from sklearn.preprocessing import StandardScaler, RobustScaler, MinMaxScaler\n",
    "from sklearn.svm import LinearSVC, SVC\n",
    "from sklearn.metrics import roc_auc_score, roc_curve, confusion_matrix, f1_score\n"
   ]
  },
  {
   "cell_type": "code",
   "execution_count": 9,
   "outputs": [],
   "source": [
    "X = pd.read_csv(\"../dataset/extracted_features.csv\").values\n",
    "y = pd.read_csv(\"../dataset/labels.csv\").values\n",
    "# images = pd.read_csv(\"../dataset/raw_images.csv\").values\n",
    "X_train_default, X_test_default, y_train, y_test = train_test_split(\n",
    "    X, y, test_size=0.2, random_state=42, shuffle=True, stratify=y\n",
    ")\n",
    "y_train = y_train.ravel()\n",
    "\n",
    "index_for_removal = np.array(\n",
    "    [\n",
    "        0, 10, 14, 17, 25, 26, 35, 39, 49, 59, 62,\n",
    "    ]\n",
    ")\n",
    "X_train_zero_variance = np.delete(X_train_default, index_for_removal, 1)\n",
    "X_test_zero_variance = np.delete(X_test_default, index_for_removal, 1)\n",
    "\n",
    "select = SelectPercentile(percentile=90)\n",
    "select.fit(X_train_zero_variance, y_train)\n",
    "X_train_univariate = select.transform(X_train_zero_variance)\n",
    "X_test_univariate = select.transform(X_test_zero_variance)\n",
    "\n",
    "rf = RandomForestClassifier(\n",
    "    n_estimators=200,\n",
    "    max_features=3,\n",
    ").fit(X_train_default, y_train)\n",
    "\n",
    "select_sfm = SelectFromModel(\n",
    "    rf,\n",
    "    threshold='0.1*mean',\n",
    ")\n",
    "select_sfm.fit(X_train_univariate, y_train)\n",
    "X_train_from_model = select_sfm.transform(X_train_univariate)\n",
    "X_test_from_model = select_sfm.transform(X_test_univariate)\n",
    "\n",
    "select_rfe = RFE(\n",
    "    RandomForestClassifier(\n",
    "        n_estimators=200, random_state=42\n",
    "    ),\n",
    "    n_features_to_select=40\n",
    ")\n",
    "\n",
    "select_rfe.fit(X_train_from_model, y_train)\n",
    "X_train_iterative = select_rfe.transform(X_train_from_model)\n",
    "X_test_iterative = select_rfe.transform(X_test_from_model)\n",
    "\n",
    "scaler_standard_default = StandardScaler().fit(X_train_default)\n",
    "X_train_standard_default = scaler_standard_default.transform(X_train_default)\n",
    "X_test_standard_default = scaler_standard_default.transform(X_test_default)\n",
    "\n",
    "scaler_standard_variance = StandardScaler().fit(X_train_zero_variance)\n",
    "X_train_standard_variance = scaler_standard_variance.transform(X_train_zero_variance)\n",
    "X_test_standard_variance = scaler_standard_variance.transform(X_test_zero_variance)\n",
    "\n",
    "scaler_standard_refined = StandardScaler().fit(X_train_iterative)\n",
    "X_train_standard_refined = scaler_standard_refined.transform(X_train_iterative)\n",
    "X_test_standard_refined = scaler_standard_refined.transform(X_test_iterative)\n",
    "\n",
    "scaler_robust_default = RobustScaler().fit(X_train_default)\n",
    "X_train_robust_default = scaler_robust_default.transform(X_train_default)\n",
    "X_test_robust_default = scaler_robust_default.transform(X_test_default)\n",
    "\n",
    "scaler_robust_variance = RobustScaler().fit(X_train_zero_variance)\n",
    "X_train_robust_variance = scaler_robust_variance.transform(X_train_zero_variance)\n",
    "X_test_robust_variance = scaler_robust_variance.transform(X_test_zero_variance)\n",
    "\n",
    "scaler_robust_refined = RobustScaler().fit(X_train_iterative)\n",
    "X_train_robust_refined = scaler_robust_refined.transform(X_train_iterative)\n",
    "X_test_robust_refined = scaler_robust_refined.transform(X_test_iterative)\n",
    "\n",
    "scaler_minmax_default = MinMaxScaler().fit(X_train_default)\n",
    "X_train_minmax_default = scaler_minmax_default.transform(X_train_default)\n",
    "X_test_minmax_default = scaler_minmax_default.transform(X_test_default)\n",
    "\n",
    "scaler_minmax_variance = MinMaxScaler().fit(X_train_zero_variance)\n",
    "X_train_minmax_variance = scaler_minmax_variance.transform(X_train_zero_variance)\n",
    "X_test_minmax_variance = scaler_minmax_variance.transform(X_test_zero_variance)\n",
    "\n",
    "scaler_minmax_refined = MinMaxScaler().fit(X_train_iterative)\n",
    "X_train_minmax_refined = scaler_minmax_refined.transform(X_train_iterative)\n",
    "X_test_minmax_refined = scaler_minmax_refined.transform(X_test_iterative)\n",
    "\n",
    "pca_default = PCA(n_components=56, random_state=42)\n",
    "X_train_pca_default = pca_default.fit_transform(X_train_standard_default)\n",
    "X_test_pca_default = pca_default.transform(X_test_standard_default)\n",
    "\n",
    "pca_refined = PCA(n_components=37, random_state=42)\n",
    "X_train_pca_refined = pca_refined.fit_transform(X_train_standard_refined)\n",
    "X_test_pca_refined = pca_refined.transform(X_test_standard_refined)\n"
   ],
   "metadata": {
    "collapsed": false,
    "pycharm": {
     "name": "#%%\n"
    }
   }
  },
  {
   "cell_type": "code",
   "execution_count": 1,
   "outputs": [
    {
     "data": {
      "text/plain": "'hw'"
     },
     "execution_count": 1,
     "metadata": {},
     "output_type": "execute_result"
    }
   ],
   "source": [
    "'hw'"
   ],
   "metadata": {
    "collapsed": false,
    "pycharm": {
     "name": "#%%\n"
    }
   }
  },
  {
   "cell_type": "markdown",
   "source": [
    "## knn"
   ],
   "metadata": {
    "collapsed": false
   }
  },
  {
   "cell_type": "code",
   "execution_count": 10,
   "outputs": [
    {
     "name": "stdout",
     "output_type": "stream",
     "text": [
      "0.9087323943661972\n",
      "0.8603603603603603\n",
      "0.9746155749769753\n"
     ]
    }
   ],
   "source": [
    "\n",
    "knn = KNeighborsClassifier(n_neighbors=5).fit(X_train_iterative, y_train)\n",
    "y_pred_knn = knn.predict(X_test_iterative)\n",
    "# roc_knn = roc_curve(y_test, y_pred_knn)\n",
    "\n",
    "print(knn.score(X_train_iterative, y_train))\n",
    "print(knn.score(X_test_iterative, y_test))\n",
    "print(roc_auc_score(y_test, knn.predict_proba(X_test_iterative), multi_class='ovr'))"
   ],
   "metadata": {
    "collapsed": false,
    "pycharm": {
     "name": "#%%\n"
    }
   }
  },
  {
   "cell_type": "code",
   "execution_count": 11,
   "outputs": [
    {
     "name": "stdout",
     "output_type": "stream",
     "text": [
      "[0.98461538 0.85       0.73076923 0.87096774 0.92857143 0.87719298\n",
      " 0.89230769 0.90625    0.61666667]\n"
     ]
    }
   ],
   "source": [
    "matrix_knn = confusion_matrix(y_test, y_pred_knn)\n",
    "print(matrix_knn.diagonal() / matrix_knn.sum(axis=1))"
   ],
   "metadata": {
    "collapsed": false,
    "pycharm": {
     "name": "#%%\n"
    }
   }
  },
  {
   "cell_type": "markdown",
   "source": [
    "## logreg"
   ],
   "metadata": {
    "collapsed": false
   }
  },
  {
   "cell_type": "code",
   "execution_count": 12,
   "outputs": [
    {
     "name": "stdout",
     "output_type": "stream",
     "text": [
      "0.9419718309859155\n",
      "0.9234234234234234\n",
      "0.9928309914836293\n"
     ]
    }
   ],
   "source": [
    "logreg = LogisticRegression(C=4.736842).fit(X_train_minmax_default, y_train)\n",
    "y_pred_logreg = logreg.predict(X_test_minmax_default)\n",
    "\n",
    "print(logreg.score(X_train_minmax_default, y_train))\n",
    "print(logreg.score(X_test_minmax_default, y_test))\n",
    "print(roc_auc_score(y_test, logreg.predict_proba(X_test_minmax_default), multi_class='ovr'))\n"
   ],
   "metadata": {
    "collapsed": false,
    "pycharm": {
     "name": "#%%\n"
    }
   }
  },
  {
   "cell_type": "markdown",
   "source": [],
   "metadata": {
    "collapsed": false
   }
  },
  {
   "cell_type": "markdown",
   "source": [
    "## Linear SVC"
   ],
   "metadata": {
    "collapsed": false
   }
  },
  {
   "cell_type": "code",
   "execution_count": 13,
   "outputs": [
    {
     "name": "stdout",
     "output_type": "stream",
     "text": [
      "0.9385915492957746\n",
      "0.9211711711711712\n"
     ]
    },
    {
     "data": {
      "text/plain": "0.9877975677362554"
     },
     "execution_count": 13,
     "metadata": {},
     "output_type": "execute_result"
    }
   ],
   "source": [
    "lsvc = LinearSVC(C=1.842105)\n",
    "clf = CalibratedClassifierCV(lsvc).fit(X_train_minmax_variance, y_train)\n",
    "y_pred_lsvc = clf.predict(X_test_minmax_variance)\n",
    "\n",
    "print(clf.score(X_train_minmax_variance, y_train))\n",
    "print(clf.score(X_test_minmax_variance, y_test))\n",
    "roc_auc_score(y_test, clf.predict_proba(X_test_minmax_variance), multi_class='ovr')\n"
   ],
   "metadata": {
    "collapsed": false,
    "pycharm": {
     "name": "#%%\n"
    }
   }
  },
  {
   "cell_type": "markdown",
   "source": [
    "## mulinomial naive bayes"
   ],
   "metadata": {
    "collapsed": false
   }
  },
  {
   "cell_type": "code",
   "execution_count": 14,
   "outputs": [
    {
     "name": "stdout",
     "output_type": "stream",
     "text": [
      "0.9014084507042254\n",
      "0.8986486486486487\n"
     ]
    },
    {
     "data": {
      "text/plain": "0.9877482490068411"
     },
     "execution_count": 14,
     "metadata": {},
     "output_type": "execute_result"
    }
   ],
   "source": [
    "\n",
    "mnb = MultinomialNB(alpha=0.210526).fit(X_train_default, y_train)\n",
    "y_pred_mnb = mnb.predict(X_test_default)\n",
    "\n",
    "print(mnb.score(X_train_default, y_train))\n",
    "print(mnb.score(X_test_default, y_test))\n",
    "roc_auc_score(y_test, mnb.predict_proba(X_test_default), multi_class='ovr')\n",
    "\n"
   ],
   "metadata": {
    "collapsed": false,
    "pycharm": {
     "name": "#%%\n"
    }
   }
  },
  {
   "cell_type": "markdown",
   "source": [
    "# forests"
   ],
   "metadata": {
    "collapsed": false
   }
  },
  {
   "cell_type": "markdown",
   "source": [
    "## random forest"
   ],
   "metadata": {
    "collapsed": false
   }
  },
  {
   "cell_type": "code",
   "execution_count": 15,
   "outputs": [
    {
     "name": "stdout",
     "output_type": "stream",
     "text": [
      "0.9915492957746479\n",
      "0.8918918918918919\n"
     ]
    },
    {
     "data": {
      "text/plain": "0.9853635108360425"
     },
     "execution_count": 15,
     "metadata": {},
     "output_type": "execute_result"
    }
   ],
   "source": [
    "rf = RandomForestClassifier(max_features=3, n_estimators=400, random_state=42).fit(X_train_zero_variance, y_train)\n",
    "y_pred_rf = rf.predict(X_test_zero_variance)\n",
    "\n",
    "print(rf.score(X_train_zero_variance, y_train))\n",
    "print(rf.score(X_test_zero_variance, y_test))\n",
    "roc_auc_score(y_test, rf.predict_proba(X_test_zero_variance), multi_class='ovr')\n",
    "\n"
   ],
   "metadata": {
    "collapsed": false,
    "pycharm": {
     "name": "#%%\n"
    }
   }
  },
  {
   "cell_type": "markdown",
   "source": [
    "## gradient boost"
   ],
   "metadata": {
    "collapsed": false
   }
  },
  {
   "cell_type": "code",
   "execution_count": 16,
   "outputs": [
    {
     "name": "stdout",
     "output_type": "stream",
     "text": [
      "0.9752112676056338\n",
      "0.8873873873873874\n",
      "0.9886846924736518\n"
     ]
    }
   ],
   "source": [
    "gbrt = GradientBoostingClassifier(\n",
    "    n_estimators=400,\n",
    "    max_depth=1,\n",
    "    learning_rate=0.1,\n",
    ").fit(X_train_zero_variance, y_train)\n",
    "y_pred_gbrt = gbrt.predict(X_test_zero_variance)\n",
    "\n",
    "print(gbrt.score(X_train_zero_variance, y_train))\n",
    "print(gbrt.score(X_test_zero_variance, y_test))\n",
    "\n",
    "print(roc_auc_score(y_test, gbrt.predict_proba(X_test_zero_variance), multi_class='ovr'))\n"
   ],
   "metadata": {
    "collapsed": false,
    "pycharm": {
     "name": "#%%\n"
    }
   }
  },
  {
   "cell_type": "markdown",
   "source": [
    "## ksvm"
   ],
   "metadata": {
    "collapsed": false
   }
  },
  {
   "cell_type": "code",
   "execution_count": 18,
   "outputs": [
    {
     "name": "stdout",
     "output_type": "stream",
     "text": [
      "0.9853521126760564\n",
      "0.9211711711711712\n",
      "0.9947236794465584\n"
     ]
    }
   ],
   "source": [
    "ksvm = SVC(\n",
    "    C=5,\n",
    "    degree=1,\n",
    "    kernel='rbf',\n",
    "    probability=True\n",
    ").fit(X_train_minmax_variance, y_train)\n",
    "y_pred_ksvm = ksvm.predict(X_test_minmax_variance)\n",
    "\n",
    "print(ksvm.score(X_train_minmax_variance, y_train))\n",
    "print(ksvm.score(X_test_minmax_variance, y_test))\n",
    "print(roc_auc_score(y_test, ksvm.predict_proba(X_test_minmax_variance), multi_class='ovr'))\n"
   ],
   "metadata": {
    "collapsed": false,
    "pycharm": {
     "name": "#%%\n"
    }
   }
  },
  {
   "cell_type": "markdown",
   "source": [
    "## MLP"
   ],
   "metadata": {
    "collapsed": false
   }
  },
  {
   "cell_type": "code",
   "execution_count": 20,
   "outputs": [
    {
     "name": "stdout",
     "output_type": "stream",
     "text": [
      "0.9870422535211267\n",
      "0.9504504504504504\n",
      "0.9972273902976444\n"
     ]
    },
    {
     "name": "stderr",
     "output_type": "stream",
     "text": [
      "/Users/engineer/workspace/cse590-machine-learning/venv/lib/python3.9/site-packages/sklearn/neural_network/_multilayer_perceptron.py:692: ConvergenceWarning: Stochastic Optimizer: Maximum iterations (200) reached and the optimization hasn't converged yet.\n",
      "  warnings.warn(\n"
     ]
    }
   ],
   "source": [
    "mlp = MLPClassifier(\n",
    "    random_state=42,\n",
    "    activation='relu',\n",
    "    hidden_layer_sizes=512,\n",
    "    alpha=0.01,\n",
    ").fit(X_train_minmax_default, y_train)\n",
    "y_pred_mlp = mlp.predict(X_test_minmax_default)\n",
    "\n",
    "print(mlp.score(X_train_minmax_default, y_train))\n",
    "print(mlp.score(X_test_minmax_default, y_test))\n",
    "print(roc_auc_score(y_test, mlp.predict_proba(X_test_minmax_default), multi_class='ovr'))\n"
   ],
   "metadata": {
    "collapsed": false,
    "pycharm": {
     "name": "#%%\n"
    }
   }
  },
  {
   "cell_type": "code",
   "execution_count": 22,
   "outputs": [
    {
     "data": {
      "text/plain": "        knn    logreg      lsvc       mnb        rf      gbrt      ksvm  \\\n0  0.984615  0.984615  1.000000  0.984615  0.984615  0.938462  0.953846   \n1  0.850000  0.900000  0.950000  0.950000  0.700000  0.850000  0.800000   \n2  0.730769  0.884615  0.884615  0.884615  0.807692  0.923077  0.923077   \n3  0.870968  0.967742  0.935484  0.967742  0.870968  0.935484  0.935484   \n4  0.928571  0.964286  0.964286  0.910714  0.892857  0.928571  0.946429   \n5  0.877193  0.964912  0.964912  0.982456  0.947368  0.877193  0.912281   \n6  0.892308  0.923077  0.953846  0.923077  0.938462  0.907692  0.923077   \n7  0.906250  0.937500  0.921875  0.953125  0.875000  0.859375  0.937500   \n8  0.616667  0.766667  0.716667  0.583333  0.816667  0.783333  0.883333   \n\n        mlp  \n0  0.984615  \n1  0.950000  \n2  0.923077  \n3  1.000000  \n4  0.964286  \n5  0.964912  \n6  0.938462  \n7  0.937500  \n8  0.900000  ",
      "text/html": "<div>\n<style scoped>\n    .dataframe tbody tr th:only-of-type {\n        vertical-align: middle;\n    }\n\n    .dataframe tbody tr th {\n        vertical-align: top;\n    }\n\n    .dataframe thead th {\n        text-align: right;\n    }\n</style>\n<table border=\"1\" class=\"dataframe\">\n  <thead>\n    <tr style=\"text-align: right;\">\n      <th></th>\n      <th>knn</th>\n      <th>logreg</th>\n      <th>lsvc</th>\n      <th>mnb</th>\n      <th>rf</th>\n      <th>gbrt</th>\n      <th>ksvm</th>\n      <th>mlp</th>\n    </tr>\n  </thead>\n  <tbody>\n    <tr>\n      <th>0</th>\n      <td>0.984615</td>\n      <td>0.984615</td>\n      <td>1.000000</td>\n      <td>0.984615</td>\n      <td>0.984615</td>\n      <td>0.938462</td>\n      <td>0.953846</td>\n      <td>0.984615</td>\n    </tr>\n    <tr>\n      <th>1</th>\n      <td>0.850000</td>\n      <td>0.900000</td>\n      <td>0.950000</td>\n      <td>0.950000</td>\n      <td>0.700000</td>\n      <td>0.850000</td>\n      <td>0.800000</td>\n      <td>0.950000</td>\n    </tr>\n    <tr>\n      <th>2</th>\n      <td>0.730769</td>\n      <td>0.884615</td>\n      <td>0.884615</td>\n      <td>0.884615</td>\n      <td>0.807692</td>\n      <td>0.923077</td>\n      <td>0.923077</td>\n      <td>0.923077</td>\n    </tr>\n    <tr>\n      <th>3</th>\n      <td>0.870968</td>\n      <td>0.967742</td>\n      <td>0.935484</td>\n      <td>0.967742</td>\n      <td>0.870968</td>\n      <td>0.935484</td>\n      <td>0.935484</td>\n      <td>1.000000</td>\n    </tr>\n    <tr>\n      <th>4</th>\n      <td>0.928571</td>\n      <td>0.964286</td>\n      <td>0.964286</td>\n      <td>0.910714</td>\n      <td>0.892857</td>\n      <td>0.928571</td>\n      <td>0.946429</td>\n      <td>0.964286</td>\n    </tr>\n    <tr>\n      <th>5</th>\n      <td>0.877193</td>\n      <td>0.964912</td>\n      <td>0.964912</td>\n      <td>0.982456</td>\n      <td>0.947368</td>\n      <td>0.877193</td>\n      <td>0.912281</td>\n      <td>0.964912</td>\n    </tr>\n    <tr>\n      <th>6</th>\n      <td>0.892308</td>\n      <td>0.923077</td>\n      <td>0.953846</td>\n      <td>0.923077</td>\n      <td>0.938462</td>\n      <td>0.907692</td>\n      <td>0.923077</td>\n      <td>0.938462</td>\n    </tr>\n    <tr>\n      <th>7</th>\n      <td>0.906250</td>\n      <td>0.937500</td>\n      <td>0.921875</td>\n      <td>0.953125</td>\n      <td>0.875000</td>\n      <td>0.859375</td>\n      <td>0.937500</td>\n      <td>0.937500</td>\n    </tr>\n    <tr>\n      <th>8</th>\n      <td>0.616667</td>\n      <td>0.766667</td>\n      <td>0.716667</td>\n      <td>0.583333</td>\n      <td>0.816667</td>\n      <td>0.783333</td>\n      <td>0.883333</td>\n      <td>0.900000</td>\n    </tr>\n  </tbody>\n</table>\n</div>"
     },
     "execution_count": 22,
     "metadata": {},
     "output_type": "execute_result"
    }
   ],
   "source": [
    "matrix_knn = confusion_matrix(y_test, y_pred_knn)\n",
    "matrix_logreg = confusion_matrix(y_test, y_pred_logreg)\n",
    "matrix_lsvc = confusion_matrix(y_test, y_pred_lsvc)\n",
    "matrix_mnb = confusion_matrix(y_test, y_pred_mnb)\n",
    "matrix_rf = confusion_matrix(y_test, y_pred_rf)\n",
    "matrix_gbrt = confusion_matrix(y_test, y_pred_gbrt)\n",
    "matrix_ksvm = confusion_matrix(y_test, y_pred_ksvm)\n",
    "matrix_mlp = confusion_matrix(y_test, y_pred_mlp)\n",
    "class_scores_knn = matrix_knn.diagonal() / matrix_knn.sum(axis=1)\n",
    "class_scores_logreg = matrix_logreg.diagonal() / matrix_logreg.sum(axis=1)\n",
    "class_scores_lsvc = matrix_lsvc.diagonal() / matrix_lsvc.sum(axis=1)\n",
    "class_scores_mnb = matrix_mnb.diagonal() / matrix_mnb.sum(axis=1)\n",
    "class_scores_rf = matrix_rf.diagonal() / matrix_rf.sum(axis=1)\n",
    "class_scores_gbrt = matrix_gbrt.diagonal() / matrix_gbrt.sum(axis=1)\n",
    "class_scores_ksvm = matrix_ksvm.diagonal() / matrix_ksvm.sum(axis=1)\n",
    "class_scores_mlp = matrix_mlp.diagonal() / matrix_mlp.sum(axis=1)\n",
    "\n",
    "scores_data = {\n",
    "    'knn': class_scores_knn,\n",
    "    'logreg': class_scores_logreg,\n",
    "    'lsvc': class_scores_lsvc,\n",
    "    'mnb': class_scores_mnb,\n",
    "    'rf': class_scores_rf,\n",
    "    'gbrt': class_scores_gbrt,\n",
    "    'ksvm': class_scores_ksvm,\n",
    "    'mlp': class_scores_mlp,\n",
    "}\n",
    "scores_df = pd.DataFrame(data=scores_data)\n",
    "scores_df"
   ],
   "metadata": {
    "collapsed": false,
    "pycharm": {
     "name": "#%%\n"
    }
   }
  },
  {
   "cell_type": "code",
   "execution_count": 29,
   "outputs": [],
   "source": [
    "f1_knn = f1_score(y_true=y_test, y_pred=y_pred_knn, average=None)\n",
    "f1_logreg = f1_score(y_true=y_test, y_pred=y_pred_logreg, average=None)\n",
    "f1_lsvc = f1_score(y_true=y_test, y_pred=y_pred_lsvc, average=None)\n",
    "f1_mnb = f1_score(y_true=y_test, y_pred=y_pred_mnb, average=None)\n",
    "f1_rf = f1_score(y_true=y_test, y_pred=y_pred_rf, average=None)\n",
    "f1_gbrt = f1_score(y_true=y_test, y_pred=y_pred_gbrt, average=None)\n",
    "f1_ksvm = f1_score(y_true=y_test, y_pred=y_pred_ksvm, average=None)\n",
    "f1_mlp = f1_score(y_true=y_test, y_pred=y_pred_mlp, average=None)"
   ],
   "metadata": {
    "collapsed": false,
    "pycharm": {
     "name": "#%%\n"
    }
   }
  },
  {
   "cell_type": "code",
   "execution_count": 32,
   "outputs": [
    {
     "name": "stdout",
     "output_type": "stream",
     "text": [
      "[0.88275862 0.80952381 0.79166667 0.84375    0.90434783 0.88495575\n",
      " 0.90625    0.88549618 0.7254902 ]\n"
     ]
    }
   ],
   "source": [
    "print(f1_knn)"
   ],
   "metadata": {
    "collapsed": false,
    "pycharm": {
     "name": "#%%\n"
    }
   }
  },
  {
   "cell_type": "code",
   "execution_count": 31,
   "outputs": [
    {
     "data": {
      "text/plain": "        knn    logreg      lsvc       mnb        rf      gbrt      ksvm  \\\n0  0.882759  0.984615  0.992366  0.984615  0.955224  0.945736  0.946565   \n1  0.809524  0.878049  0.904762  0.844444  0.736842  0.829268  0.842105   \n2  0.791667  0.920000  0.920000  0.779661  0.893617  0.888889  0.960000   \n3  0.843750  0.967742  0.950820  0.937500  0.900000  0.950820  0.950820   \n4  0.904348  0.939130  0.931034  0.894737  0.877193  0.912281  0.946429   \n5  0.884956  0.956522  0.956522  0.982456  0.939130  0.917431  0.945455   \n6  0.906250  0.937500  0.925373  0.937500  0.924242  0.893939  0.923077   \n7  0.885496  0.937500  0.921875  0.931298  0.881890  0.880000  0.937500   \n8  0.725490  0.773109  0.774775  0.679612  0.809917  0.764228  0.828125   \n\n        mlp  \n0  0.977099  \n1  0.926829  \n2  0.941176  \n3  0.968750  \n4  0.955752  \n5  0.973451  \n6  0.953125  \n7  0.937500  \n8  0.907563  ",
      "text/html": "<div>\n<style scoped>\n    .dataframe tbody tr th:only-of-type {\n        vertical-align: middle;\n    }\n\n    .dataframe tbody tr th {\n        vertical-align: top;\n    }\n\n    .dataframe thead th {\n        text-align: right;\n    }\n</style>\n<table border=\"1\" class=\"dataframe\">\n  <thead>\n    <tr style=\"text-align: right;\">\n      <th></th>\n      <th>knn</th>\n      <th>logreg</th>\n      <th>lsvc</th>\n      <th>mnb</th>\n      <th>rf</th>\n      <th>gbrt</th>\n      <th>ksvm</th>\n      <th>mlp</th>\n    </tr>\n  </thead>\n  <tbody>\n    <tr>\n      <th>0</th>\n      <td>0.882759</td>\n      <td>0.984615</td>\n      <td>0.992366</td>\n      <td>0.984615</td>\n      <td>0.955224</td>\n      <td>0.945736</td>\n      <td>0.946565</td>\n      <td>0.977099</td>\n    </tr>\n    <tr>\n      <th>1</th>\n      <td>0.809524</td>\n      <td>0.878049</td>\n      <td>0.904762</td>\n      <td>0.844444</td>\n      <td>0.736842</td>\n      <td>0.829268</td>\n      <td>0.842105</td>\n      <td>0.926829</td>\n    </tr>\n    <tr>\n      <th>2</th>\n      <td>0.791667</td>\n      <td>0.920000</td>\n      <td>0.920000</td>\n      <td>0.779661</td>\n      <td>0.893617</td>\n      <td>0.888889</td>\n      <td>0.960000</td>\n      <td>0.941176</td>\n    </tr>\n    <tr>\n      <th>3</th>\n      <td>0.843750</td>\n      <td>0.967742</td>\n      <td>0.950820</td>\n      <td>0.937500</td>\n      <td>0.900000</td>\n      <td>0.950820</td>\n      <td>0.950820</td>\n      <td>0.968750</td>\n    </tr>\n    <tr>\n      <th>4</th>\n      <td>0.904348</td>\n      <td>0.939130</td>\n      <td>0.931034</td>\n      <td>0.894737</td>\n      <td>0.877193</td>\n      <td>0.912281</td>\n      <td>0.946429</td>\n      <td>0.955752</td>\n    </tr>\n    <tr>\n      <th>5</th>\n      <td>0.884956</td>\n      <td>0.956522</td>\n      <td>0.956522</td>\n      <td>0.982456</td>\n      <td>0.939130</td>\n      <td>0.917431</td>\n      <td>0.945455</td>\n      <td>0.973451</td>\n    </tr>\n    <tr>\n      <th>6</th>\n      <td>0.906250</td>\n      <td>0.937500</td>\n      <td>0.925373</td>\n      <td>0.937500</td>\n      <td>0.924242</td>\n      <td>0.893939</td>\n      <td>0.923077</td>\n      <td>0.953125</td>\n    </tr>\n    <tr>\n      <th>7</th>\n      <td>0.885496</td>\n      <td>0.937500</td>\n      <td>0.921875</td>\n      <td>0.931298</td>\n      <td>0.881890</td>\n      <td>0.880000</td>\n      <td>0.937500</td>\n      <td>0.937500</td>\n    </tr>\n    <tr>\n      <th>8</th>\n      <td>0.725490</td>\n      <td>0.773109</td>\n      <td>0.774775</td>\n      <td>0.679612</td>\n      <td>0.809917</td>\n      <td>0.764228</td>\n      <td>0.828125</td>\n      <td>0.907563</td>\n    </tr>\n  </tbody>\n</table>\n</div>"
     },
     "execution_count": 31,
     "metadata": {},
     "output_type": "execute_result"
    }
   ],
   "source": [
    "pd.DataFrame(\n",
    "    data={\n",
    "        'knn': f1_knn,\n",
    "        'logreg': f1_logreg,\n",
    "        'lsvc': f1_lsvc,\n",
    "        'mnb': f1_mnb,\n",
    "        'rf': f1_rf,\n",
    "        'gbrt': f1_gbrt,\n",
    "        'ksvm': f1_ksvm,\n",
    "        'mlp': f1_mlp,\n",
    "    },\n",
    ")"
   ],
   "metadata": {
    "collapsed": false,
    "pycharm": {
     "name": "#%%\n"
    }
   }
  },
  {
   "cell_type": "code",
   "execution_count": null,
   "outputs": [],
   "source": [],
   "metadata": {
    "collapsed": false,
    "pycharm": {
     "name": "#%%\n"
    }
   }
  }
 ],
 "metadata": {
  "kernelspec": {
   "display_name": "Python 3",
   "language": "python",
   "name": "python3"
  },
  "language_info": {
   "codemirror_mode": {
    "name": "ipython",
    "version": 2
   },
   "file_extension": ".py",
   "mimetype": "text/x-python",
   "name": "python",
   "nbconvert_exporter": "python",
   "pygments_lexer": "ipython2",
   "version": "2.7.6"
  }
 },
 "nbformat": 4,
 "nbformat_minor": 0
}
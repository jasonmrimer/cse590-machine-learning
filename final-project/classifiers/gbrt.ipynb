{
 "cells": [
  {
   "cell_type": "code",
   "execution_count": 3,
   "metadata": {
    "collapsed": true
   },
   "outputs": [],
   "source": [
    "import numpy as np\n",
    "import pandas as pd\n",
    "import sklearn_evaluation\n",
    "from matplotlib import pyplot as plt\n",
    "from sklearn import metrics\n",
    "from sklearn.ensemble import RandomForestClassifier, GradientBoostingClassifier\n",
    "from sklearn.linear_model import LogisticRegression\n",
    "from sklearn.model_selection import train_test_split, GridSearchCV\n",
    "from sklearn.naive_bayes import MultinomialNB\n",
    "from sklearn.neighbors import KNeighborsClassifier\n",
    "from sklearn.neural_network import MLPClassifier\n",
    "from sklearn.svm import LinearSVC, SVC\n"
   ]
  },
  {
   "cell_type": "code",
   "execution_count": 4,
   "outputs": [],
   "source": [
    "\n",
    "X = pd.read_csv(\"../dataset/extracted_features.csv\").values\n",
    "y = pd.read_csv(\"../dataset/labels.csv\").values\n",
    "# images = pd.read_csv(\"../dataset/raw_images.csv\").values\n",
    "X_train, X_test, y_train, y_test = train_test_split(X, y, test_size=0.2, random_state=42, shuffle=True, stratify=y)\n",
    "y_train = y_train.ravel()\n"
   ],
   "metadata": {
    "collapsed": false,
    "pycharm": {
     "name": "#%%\n"
    }
   }
  },
  {
   "cell_type": "code",
   "execution_count": 23,
   "outputs": [],
   "source": [
    "def cross_validate_gradient(\n",
    "        n_estimators,\n",
    "        learning_rates,\n",
    "        max_depths\n",
    "):\n",
    "    parameters = {\n",
    "        'n_estimators': n_estimators,\n",
    "        'learning_rate': learning_rates,\n",
    "        'max_depth': max_depths,\n",
    "    }\n",
    "    classifier = GradientBoostingClassifier(\n",
    "        random_state=0,\n",
    "    )\n",
    "    grid_search = GridSearchCV(\n",
    "        classifier,\n",
    "        parameters, cv=4,\n",
    "        return_train_score=True\n",
    "    )\n",
    "    grid_search.fit(X_train, y_train)\n",
    "\n",
    "    print_grid_search_results(grid_search, parameters)\n",
    "    return grid_search\n",
    "\n",
    "\n",
    "def print_grid_search_results(grid_search, parameters):\n",
    "    for parameter in parameters:\n",
    "        print(f'Best {parameter}:', grid_search.best_params_[parameter])\n",
    "    print(\"Train score: \", grid_search.cv_results_['mean_train_score'])\n",
    "    print(\"Test score: \", grid_search.cv_results_['mean_test_score'])\n",
    "\n",
    "\n",
    "\n",
    "def graph_grid_search_random_forest(grid_search):\n",
    "    plt.title(\"GBRT\")\n",
    "    plt.xlabel(\"max_depth\")\n",
    "    plt.ylabel(\"n_estimators\")\n",
    "\n",
    "    sklearn_evaluation.evaluator.plot.grid_search(\n",
    "        grid_search.cv_results_,\n",
    "        change=[ \"n_estimators\", \"max_depth\"]\n",
    "    )\n",
    "\n",
    "    plt.legend()\n",
    "    plt.show()\n"
   ],
   "metadata": {
    "collapsed": false,
    "pycharm": {
     "name": "#%%\n"
    }
   }
  },
  {
   "cell_type": "code",
   "execution_count": 6,
   "outputs": [
    {
     "name": "stdout",
     "output_type": "stream",
     "text": [
      "Best n_estimators: 200\n",
      "Best learning_rate: 0.01\n",
      "Best max_depth: 3\n",
      "Train score:  [0.48600902 0.56056573 0.64732426 0.63173814 0.7081699  0.82084329\n",
      " 0.73746356 0.82816734 0.91680768]\n",
      "Test score:  [0.43493889 0.48732663 0.57352866 0.53353085 0.58593003 0.68451945\n",
      " 0.58875297 0.66761739 0.73804349]\n"
     ]
    }
   ],
   "source": [
    "n_estimators = [50, 100, 200]\n",
    "max_depths = [1, 2, 3]\n",
    "learning_rates = [0.01]\n",
    "\n",
    "gbrt_t1 = cross_validate_gradient( n_estimators, learning_rates, max_depths )"
   ],
   "metadata": {
    "collapsed": false,
    "pycharm": {
     "name": "#%%\n"
    }
   }
  },
  {
   "cell_type": "code",
   "execution_count": 18,
   "outputs": [
    {
     "name": "stderr",
     "output_type": "stream",
     "text": [
      "No artists with labels found to put in legend.  Note that artists whose label start with an underscore are ignored when legend() is called with no argument.\n"
     ]
    },
    {
     "data": {
      "text/plain": "<Figure size 432x288 with 2 Axes>",
      "image/png": "[encoded data removed]"
     },
     "metadata": {
      "needs_background": "light"
     },
     "output_type": "display_data"
    }
   ],
   "source": [
    "graph_grid_search_random_forest(gbrt_t1)"
   ],
   "metadata": {
    "collapsed": false,
    "pycharm": {
     "name": "#%%\n"
    }
   }
  },
  {
   "cell_type": "code",
   "execution_count": 7,
   "outputs": [
    {
     "name": "stdout",
     "output_type": "stream",
     "text": [
      "Best n_estimators: 500\n",
      "Best learning_rate: 0.1\n",
      "Best max_depth: 1\n",
      "Train score:  [0.64732426 0.70572784 0.79136081 0.91680768 0.9568073  0.98366229\n",
      " 0.98497652 0.99079823 0.99342726 0.95079748 0.97276963 0.98610307\n",
      " 0.99380292 0.99380292 0.99380292 0.99380292 0.99380292 0.99380292]\n",
      "Test score:  [0.57352866 0.6270527  0.69747499 0.73804349 0.78649488 0.81409259\n",
      " 0.75944878 0.77916743 0.80113197 0.83493736 0.84901902 0.86141531\n",
      " 0.85069677 0.85689555 0.85238978 0.83943806 0.84112216 0.84900631]\n"
     ]
    }
   ],
   "source": [
    "n_estimators = [200, 300, 500]\n",
    "max_depths = [1, 3, 5]\n",
    "learning_rates = [0.01, 0.1]\n",
    "\n",
    "gbrt_t2 = cross_validate_gradient( n_estimators, learning_rates, max_depths )"
   ],
   "metadata": {
    "collapsed": false,
    "pycharm": {
     "name": "#%%\n"
    }
   }
  },
  {
   "cell_type": "code",
   "execution_count": 21,
   "outputs": [
    {
     "name": "stdout",
     "output_type": "stream",
     "text": [
      "Best n_estimators: 500\n",
      "Best learning_rate: 0.1\n",
      "Best max_depth: 1\n",
      "Train score:  [0.95079748 0.97276963 0.98610307 0.99380292 0.99380292 0.99380292\n",
      " 0.99380292 0.99380292 0.99380292]\n",
      "Test score:  [0.83493736 0.84901902 0.86141531 0.85069677 0.85689555 0.85238978\n",
      " 0.83943806 0.84112216 0.84900631]\n"
     ]
    }
   ],
   "source": [
    "n_estimators = [200, 300, 500]\n",
    "max_depths = [1, 3, 5]\n",
    "learning_rates = [0.1]\n",
    "\n",
    "gbrt_t3 = cross_validate_gradient( n_estimators, learning_rates, max_depths )\n"
   ],
   "metadata": {
    "collapsed": false,
    "pycharm": {
     "name": "#%%\n"
    }
   }
  },
  {
   "cell_type": "code",
   "execution_count": 24,
   "outputs": [
    {
     "name": "stderr",
     "output_type": "stream",
     "text": [
      "No artists with labels found to put in legend.  Note that artists whose label start with an underscore are ignored when legend() is called with no argument.\n"
     ]
    },
    {
     "data": {
      "text/plain": "<Figure size 432x288 with 2 Axes>",
      "image/png": "[encoded data removed]"
     },
     "metadata": {
      "needs_background": "light"
     },
     "output_type": "display_data"
    }
   ],
   "source": [
    "graph_grid_search_random_forest(gbrt_t3)"
   ],
   "metadata": {
    "collapsed": false,
    "pycharm": {
     "name": "#%%\n"
    }
   }
  },
  {
   "cell_type": "code",
   "execution_count": 10,
   "outputs": [
    {
     "name": "stdout",
     "output_type": "stream",
     "text": [
      "Train score: 0.981972\n",
      "Test score: 0.887387\n"
     ]
    }
   ],
   "source": [
    "print(\"Train score: {:3f}\".format(gbrt_t2.score(X_train, y_train)))\n",
    "print(\"Test score: {:3f}\".format(gbrt_t2.score(X_test, y_test)))"
   ],
   "metadata": {
    "collapsed": false,
    "pycharm": {
     "name": "#%%\n"
    }
   }
  },
  {
   "cell_type": "code",
   "execution_count": null,
   "outputs": [],
   "source": [],
   "metadata": {
    "collapsed": false,
    "pycharm": {
     "name": "#%%\n"
    }
   }
  }
 ],
 "metadata": {
  "kernelspec": {
   "display_name": "Python 3",
   "language": "python",
   "name": "python3"
  },
  "language_info": {
   "codemirror_mode": {
    "name": "ipython",
    "version": 2
   },
   "file_extension": ".py",
   "mimetype": "text/x-python",
   "name": "python",
   "nbconvert_exporter": "python",
   "pygments_lexer": "ipython2",
   "version": "2.7.6"
  }
 },
 "nbformat": 4,
 "nbformat_minor": 0
}
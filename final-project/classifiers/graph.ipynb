{
 "cells": [
  {
   "cell_type": "code",
   "execution_count": 1,
   "metadata": {
    "collapsed": true
   },
   "outputs": [
    {
     "data": {
      "text/plain": "<AxesSubplot:title={'center':'multiple stacked bar plot'}>"
     },
     "execution_count": 1,
     "metadata": {},
     "output_type": "execute_result"
    },
    {
     "data": {
      "text/plain": "<Figure size 432x288 with 1 Axes>",
      "image/png": "[encoded data removed]"
     },
     "metadata": {
      "needs_background": "light"
     },
     "output_type": "display_data"
    }
   ],
   "source": [
    "import pandas as pd\n",
    "import matplotlib.cm as cm\n",
    "import numpy as np\n",
    "import matplotlib.pyplot as plt\n",
    "\n",
    "\n",
    "def plot_clustered_stacked(dfall, labels=None, title=\"multiple stacked bar plot\", H=\"/\", **kwargs):\n",
    "    \"\"\"Given a list of dataframes, with identical columns and index, create a clustered stacked bar plot.\n",
    "labels is a list of the names of the dataframe, used for the legend\n",
    "title is a string for the title of the plot\n",
    "H is the hatch used for identification of the different dataframe\"\"\"\n",
    "\n",
    "    n_df = len(dfall)\n",
    "    n_col = len(dfall[0].columns)\n",
    "    n_ind = len(dfall[0].index)\n",
    "    axe = plt.subplot(111)\n",
    "\n",
    "    for df in dfall:  # for each data frame\n",
    "        axe = df.plot(\n",
    "            kind=\"bar\",\n",
    "            linewidth=0,\n",
    "            stacked=True,\n",
    "            ax=axe,\n",
    "            legend=False,\n",
    "            grid=False,\n",
    "            **kwargs\n",
    "        )  # make bar plots\n",
    "\n",
    "    h, l = axe.get_legend_handles_labels()  # get the handles we want to modify\n",
    "    for i in range(0, n_df * n_col, n_col):  # len(h) = n_col * n_df\n",
    "        for j, pa in enumerate(h[i:i + n_col]):\n",
    "            for rect in pa.patches:  # for each index\n",
    "                rect.set_x(rect.get_x() + 1 / float(n_df + 1) * i / float(n_col))\n",
    "                rect.set_hatch(H * int(i / n_col))  #edited part\n",
    "                rect.set_width(1 / float(n_df + 1))\n",
    "\n",
    "    axe.set_xticks((np.arange(0, 2 * n_ind, 2) + 1 / float(n_df + 1)) / 2.)\n",
    "    axe.set_xticklabels(df.index, rotation=0)\n",
    "    axe.set_title(title)\n",
    "\n",
    "    # Add invisible data to add another legend\n",
    "    n = []\n",
    "    for i in range(n_df):\n",
    "        n.append(axe.bar(0, 0, color=\"gray\", hatch=H * i))\n",
    "\n",
    "    l1 = axe.legend(h[:n_col], l[:n_col], loc=[1.01, 0.5])\n",
    "    if labels is not None:\n",
    "        l2 = plt.legend(n, labels, loc=[1.01, 0.1])\n",
    "    axe.add_artist(l1)\n",
    "    return axe\n",
    "\n",
    "\n",
    "# create fake dataframes\n",
    "df1 = pd.DataFrame(\n",
    "    np.random.rand(4, 5),\n",
    "    index=[\"A\", \"B\", \"C\", \"D\"],\n",
    "    columns=[\"I\", \"J\", \"K\", \"L\", \"M\"]\n",
    ")\n",
    "df2 = pd.DataFrame(\n",
    "    np.random.rand(4, 5),\n",
    "    index=[\"A\", \"B\", \"C\", \"D\"],\n",
    "    columns=[\"I\", \"J\", \"K\", \"L\", \"M\"]\n",
    ")\n",
    "df3 = pd.DataFrame(\n",
    "    np.random.rand(4, 5),\n",
    "    index=[\"A\", \"B\", \"C\", \"D\"],\n",
    "    columns=[\"I\", \"J\", \"K\", \"L\", \"M\"]\n",
    ")\n",
    "\n",
    "# Then, just call :\n",
    "plot_clustered_stacked([df1, df2, df3], [\"df1\", \"df2\", \"df3\"])\n"
   ]
  },
  {
   "cell_type": "code",
   "execution_count": 25,
   "outputs": [
    {
     "name": "stdout",
     "output_type": "stream",
     "text": [
      "0\n",
      "2\n",
      "4\n"
     ]
    },
    {
     "data": {
      "text/plain": "<AxesSubplot:title={'center':'multiple stacked bar plot'}>"
     },
     "execution_count": 25,
     "metadata": {},
     "output_type": "execute_result"
    },
    {
     "data": {
      "text/plain": "<Figure size 432x288 with 1 Axes>",
      "image/png": "[encoded data removed]"
     },
     "metadata": {
      "needs_background": "light"
     },
     "output_type": "display_data"
    }
   ],
   "source": [
    "from itertools import islice, cycle\n",
    "import pandas as pd\n",
    "import matplotlib.cm as cm\n",
    "import numpy as np\n",
    "import matplotlib.pyplot as plt\n",
    "\n",
    "my_colors = {}\n",
    "for i in range(6):\n",
    "    my_colors[i] = {}\n",
    "\n",
    "my_colors[0][0] = 'g'\n",
    "my_colors[0][1] = 'b'\n",
    "my_colors[2][0] = 'r'\n",
    "my_colors[2][1] = 'y'\n",
    "my_colors[4][0] = 'c'\n",
    "my_colors[4][1] = 'm'\n",
    "\n",
    "\n",
    "def plot_clustered_stacked_revised(dfall, labels=None, title=\"multiple stacked bar plot\", H=\"/\", **kwargs):\n",
    "    \"\"\"Given a list of dataframes, with identical columns and index, create a clustered stacked bar plot.\n",
    "labels is a list of the names of the dataframe, used for the legend\n",
    "title is a string for the title of the plot\n",
    "H is the hatch used for identification of the different dataframe\"\"\"\n",
    "\n",
    "    df_count = len(dfall)\n",
    "    df_column_count = len(dfall[0].columns)\n",
    "    n_ind = len(dfall[0].index)\n",
    "    axe = plt.subplot(111)\n",
    "\n",
    "    for df in dfall:  # for each data frame\n",
    "        # my_colors = list(islice(cycle(['b', 'r', 'g', 'y']), None, len(df)))\n",
    "        axe = df.plot(\n",
    "            kind=\"bar\",\n",
    "            linewidth=0,\n",
    "            stacked=True,\n",
    "            ax=axe,\n",
    "            legend=False,\n",
    "            grid=False,\n",
    "            **kwargs,\n",
    "        )  # make bar plots\n",
    "\n",
    "    h, l = axe.get_legend_handles_labels()  # get the handles we want to modify\n",
    "    for col in range(0, df_count * df_column_count, df_column_count):  # len(h) = n_col * n_df\n",
    "        print(col)\n",
    "        for index, pa in enumerate(h[col:col + df_column_count]):\n",
    "            for rect in pa.patches:  # for each index\n",
    "                rect.set_x(rect.get_x() + 1 / float(df_count + 1) * col / float(df_column_count))\n",
    "                rect.set_hatch(H * int(col / df_column_count))  #edited part\n",
    "                rect.set_width(1 / float(df_count + 1))\n",
    "                rect.set_color(my_colors[col][index])\n",
    "\n",
    "    axe.set_xticks((np.arange(0, 2 * n_ind, 2) + 1 / float(df_count + 1)) / 2.)\n",
    "    axe.set_xticklabels(df.index, rotation=0)\n",
    "    axe.set_title(title)\n",
    "\n",
    "    # Add invisible data to add another legend\n",
    "    # n = []\n",
    "    # for i in range(n_df):\n",
    "    #     n.append(axe.bar(0, 0, color=\"gray\", hatch=H * i))\n",
    "    #\n",
    "    # l1 = axe.legend(h[:n_col], l[:n_col], loc=[1.01, 0.5])\n",
    "    # if labels is not None:\n",
    "    #     l2 = plt.legend(n, labels, loc=[1.01, 0.1])\n",
    "    # axe.add_artist(l1)\n",
    "    return axe\n",
    "\n",
    "\n",
    "def choose_color(column, index):\n",
    "    if column == 0 & index % 2 == 0:\n",
    "        return 'g'\n",
    "    if index % 2 == 0:\n",
    "        return 'blue'\n",
    "    return 'red'\n",
    "\n",
    "# create fake dataframes\n",
    "df1 = pd.DataFrame(\n",
    "    np.random.rand(4, 2),\n",
    "    index=[\"A\", \"B\", \"C\", \"D\"],\n",
    "    columns=[\"I\", \"J\"]\n",
    ")\n",
    "df2 = pd.DataFrame(\n",
    "    np.random.rand(4, 2),\n",
    "    index=[\"A\", \"B\", \"C\", \"D\"],\n",
    "    columns=[\"I\", \"J\"]\n",
    ")\n",
    "df3 = pd.DataFrame(\n",
    "    np.random.rand(4, 2),\n",
    "    index=[\"A\", \"B\", \"C\", \"D\"],\n",
    "    columns=[\"I\", \"J\"]\n",
    ")\n",
    "\n",
    "# Then, just call :\n",
    "plot_clustered_stacked_revised([df1, df2, df3], [\"df1\", \"df2\", \"df3\"], cmap=plt.cm.viridis)\n"
   ],
   "metadata": {
    "collapsed": false,
    "pycharm": {
     "name": "#%%\n"
    }
   }
  },
  {
   "cell_type": "code",
   "execution_count": 11,
   "outputs": [
    {
     "data": {
      "text/plain": "<AxesSubplot:xlabel='gender'>"
     },
     "execution_count": 11,
     "metadata": {},
     "output_type": "execute_result"
    },
    {
     "data": {
      "text/plain": "<Figure size 432x288 with 1 Axes>",
      "image/png": "[encoded data removed]"
     },
     "metadata": {
      "needs_background": "light"
     },
     "output_type": "display_data"
    }
   ],
   "source": [
    "import pandas as pd\n",
    "\n",
    "# try to simulate your data\n",
    "characters = 'Tank Support Marksman Mage Figher Assassin'.split(' ')\n",
    "random_weight = abs(np.random.randn(len(characters)))\n",
    "random_weight = random_weight / random_weight.sum()\n",
    "gender = 'male female'.split(' ')\n",
    "\n",
    "index1 = np.random.choice(characters, size=1000, p=random_weight)\n",
    "index2 = np.random.choice(gender, size=1000, p=[0.4, 0.6])\n",
    "multi_index = pd.MultiIndex.from_tuples(list(zip(index1, index2)), names=['character', 'gender'])\n",
    "\n",
    "data = pd.DataFrame(np.random.randn(1000), columns=['value'], index=multi_index)\n",
    "data.reset_index(inplace=True)\n",
    "\n",
    "# do your groupby\n",
    "group_counts = data.groupby(['character', 'gender']).count().reset_index()\n",
    "# do pivot table\n",
    "table = pd.pivot_table(group_counts, index='gender', columns='character', values='value')\n",
    "# set your own colors here\n",
    "table.plot(kind='bar', color=['r', 'g', 'b', 'k', 'm', 'y'])"
   ],
   "metadata": {
    "collapsed": false,
    "pycharm": {
     "name": "#%%\n"
    }
   }
  },
  {
   "cell_type": "code",
   "execution_count": null,
   "outputs": [],
   "source": [],
   "metadata": {
    "collapsed": false,
    "pycharm": {
     "name": "#%%\n"
    }
   }
  }
 ],
 "metadata": {
  "kernelspec": {
   "display_name": "Python 3",
   "language": "python",
   "name": "python3"
  },
  "language_info": {
   "codemirror_mode": {
    "name": "ipython",
    "version": 2
   },
   "file_extension": ".py",
   "mimetype": "text/x-python",
   "name": "python",
   "nbconvert_exporter": "python",
   "pygments_lexer": "ipython2",
   "version": "2.7.6"
  }
 },
 "nbformat": 4,
 "nbformat_minor": 0
}
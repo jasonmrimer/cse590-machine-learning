{
 "cells": [
  {
   "cell_type": "code",
   "execution_count": 2,
   "metadata": {
    "collapsed": true
   },
   "outputs": [
    {
     "name": "stdout",
     "output_type": "stream",
     "text": [
      "Requirement already satisfied: numpy in /Users/engineer/workspace/cse590-machine-learning/venv/lib/python3.9/site-packages (1.22.1)\r\n",
      "Requirement already satisfied: scipy in /Users/engineer/workspace/cse590-machine-learning/venv/lib/python3.9/site-packages (1.7.3)\r\n",
      "Requirement already satisfied: scikit-learn in /Users/engineer/workspace/cse590-machine-learning/venv/lib/python3.9/site-packages (1.0.2)\r\n",
      "Requirement already satisfied: matplotlib in /Users/engineer/workspace/cse590-machine-learning/venv/lib/python3.9/site-packages (3.5.1)\r\n",
      "Requirement already satisfied: pandas in /Users/engineer/workspace/cse590-machine-learning/venv/lib/python3.9/site-packages (1.4.0)\r\n",
      "Requirement already satisfied: joblib>=0.11 in /Users/engineer/workspace/cse590-machine-learning/venv/lib/python3.9/site-packages (from scikit-learn) (1.1.0)\r\n",
      "Requirement already satisfied: threadpoolctl>=2.0.0 in /Users/engineer/workspace/cse590-machine-learning/venv/lib/python3.9/site-packages (from scikit-learn) (3.0.0)\r\n",
      "Requirement already satisfied: kiwisolver>=1.0.1 in /Users/engineer/workspace/cse590-machine-learning/venv/lib/python3.9/site-packages (from matplotlib) (1.3.2)\r\n",
      "Requirement already satisfied: cycler>=0.10 in /Users/engineer/workspace/cse590-machine-learning/venv/lib/python3.9/site-packages (from matplotlib) (0.11.0)\r\n",
      "Requirement already satisfied: pyparsing>=2.2.1 in /Users/engineer/workspace/cse590-machine-learning/venv/lib/python3.9/site-packages (from matplotlib) (3.0.7)\r\n",
      "Requirement already satisfied: pillow>=6.2.0 in /Users/engineer/workspace/cse590-machine-learning/venv/lib/python3.9/site-packages (from matplotlib) (9.0.0)\r\n",
      "Requirement already satisfied: packaging>=20.0 in /Users/engineer/workspace/cse590-machine-learning/venv/lib/python3.9/site-packages (from matplotlib) (21.3)\r\n",
      "Requirement already satisfied: python-dateutil>=2.7 in /Users/engineer/workspace/cse590-machine-learning/venv/lib/python3.9/site-packages (from matplotlib) (2.8.2)\r\n",
      "Requirement already satisfied: fonttools>=4.22.0 in /Users/engineer/workspace/cse590-machine-learning/venv/lib/python3.9/site-packages (from matplotlib) (4.29.0)\r\n",
      "Requirement already satisfied: pytz>=2020.1 in /Users/engineer/workspace/cse590-machine-learning/venv/lib/python3.9/site-packages (from pandas) (2021.3)\r\n",
      "Requirement already satisfied: six>=1.5 in /Users/engineer/workspace/cse590-machine-learning/venv/lib/python3.9/site-packages (from python-dateutil>=2.7->matplotlib) (1.16.0)\r\n",
      "\u001B[33mWARNING: You are using pip version 21.3.1; however, version 22.0.4 is available.\r\n",
      "You should consider upgrading via the '/Users/engineer/workspace/cse590-machine-learning/venv/bin/python -m pip install --upgrade pip' command.\u001B[0m\r\n"
     ]
    }
   ],
   "source": [
    "\n",
    "\n",
    "import mglearn as mglearn\n",
    "\n",
    "!pip install numpy scipy scikit-learn matplotlib pandas\n",
    "from sklearn.decomposition import PCA\n",
    "import pandas as pd\n",
    "from matplotlib import pyplot as plt\n",
    "from sklearn.model_selection import train_test_split, GridSearchCV\n",
    "from sklearn.svm import SVC\n"
   ]
  },
  {
   "cell_type": "code",
   "execution_count": 3,
   "outputs": [],
   "source": [
    "\n",
    "X = pd.read_csv(\"../dataset/extracted_features.csv\").values\n",
    "y = pd.read_csv(\"../dataset/labels.csv\").values\n",
    "# images = pd.read_csv(\"../dataset/raw_images.csv\").values\n",
    "X_train, X_test, y_train, y_test = train_test_split(X, y, test_size=0.2, random_state=42, shuffle=True, stratify=y)\n",
    "y_train = y_train.ravel()\n"
   ],
   "metadata": {
    "collapsed": false,
    "pycharm": {
     "name": "#%%\n"
    }
   }
  },
  {
   "cell_type": "code",
   "execution_count": 4,
   "outputs": [],
   "source": [
    "def shape_params_linear_kernel(c_values):\n",
    "    hyper_params = dict(C=c_values)\n",
    "    return hyper_params\n",
    "\n",
    "\n",
    "def shape_params_polynomial_kernel(c_values, d_values):\n",
    "    hyper_params = shape_params_linear_kernel(c_values)\n",
    "    hyper_params['degree'] = d_values\n",
    "    return hyper_params\n",
    "\n",
    "\n",
    "def shape_params_radial_kernel(c_values, gamma_values):\n",
    "    hyper_params = shape_params_linear_kernel(c_values)\n",
    "    hyper_params['gamma'] = gamma_values\n",
    "    return hyper_params\n",
    "\n",
    "\n",
    "def run_grid_svm(kernel, hyper_parameters, X_data):\n",
    "    classifier = SVC(\n",
    "        kernel=kernel,\n",
    "        random_state=0\n",
    "    )\n",
    "    grid_search = GridSearchCV(\n",
    "        classifier,\n",
    "        hyper_parameters,\n",
    "        cv=4,\n",
    "        return_train_score=True\n",
    "    )\n",
    "    grid_search.fit(X_data, y_train)\n",
    "\n",
    "    print_grid_search_results(grid_search, hyper_parameters)\n",
    "    return grid_search\n",
    "\n",
    "\n",
    "def print_grid_search_results(grid_search, parameters):\n",
    "    for parameter in parameters:\n",
    "        print(f'Best {parameter}:', grid_search.best_params_[parameter])\n",
    "    print(\"Train score: \", grid_search.cv_results_['mean_train_score'])\n",
    "    print(\"Test score: \", grid_search.cv_results_['mean_test_score'])\n",
    "\n",
    "\n",
    "def preprocess_data(X_scaled):\n",
    "    pca = PCA(n_components=2)\n",
    "    pca.fit(X_scaled)\n",
    "\n",
    "    return pca.fit_transform(X_scaled)\n",
    "\n",
    "\n",
    "def display_preprocessed_2d(pca_data):\n",
    "    plt.figure(figsize=(32, 32))\n",
    "    mglearn.discrete_scatter(pca_data[:, 0], pca_data[:, 1], y_train)\n",
    "    plt.legend(\n",
    "        [\n",
    "            '0: T-shirt/top',\n",
    "            '1: Trouser',\n",
    "            '2: Pullover',\n",
    "            '3: Dress',\n",
    "            '4: Coat,',\n",
    "        ],\n",
    "        loc=\"best\"\n",
    "    )\n",
    "    plt.gca().set_aspect(\"equal\")\n",
    "    plt.xlabel(\"First principal component\")\n",
    "    plt.ylabel(\"Second principal component\")\n",
    "\n",
    "\n",
    "def scale(scaler, X_data):\n",
    "    return scaler.fit(X_data).transform(X_data)\n"
   ],
   "metadata": {
    "collapsed": false,
    "pycharm": {
     "name": "#%%\n"
    }
   }
  },
  {
   "cell_type": "code",
   "execution_count": 5,
   "outputs": [
    {
     "name": "stdout",
     "output_type": "stream",
     "text": [
      "Best C: 1\n",
      "Train score:  [0.99117346 0.99192464 0.99192464 0.99230029]\n",
      "Test score:  [0.86198346 0.85860381 0.85747768 0.85747768]\n"
     ]
    }
   ],
   "source": [
    "grid_results_linear_vanilla = run_grid_svm(\n",
    "    'linear',\n",
    "    shape_params_linear_kernel([1, 5, 10, 25]),\n",
    "    X_train\n",
    ")\n"
   ],
   "metadata": {
    "collapsed": false,
    "pycharm": {
     "name": "#%%\n"
    }
   }
  },
  {
   "cell_type": "code",
   "execution_count": 10,
   "outputs": [
    {
     "name": "stdout",
     "output_type": "stream",
     "text": [
      "train  0.984225352112676\n",
      "test  0.8671171171171171\n"
     ]
    }
   ],
   "source": [
    "print(\"train \", grid_results_linear_vanilla.score(X_train, y_train))\n",
    "\n",
    "print(\"test \", grid_results_linear_vanilla.score(X_test, y_test))"
   ],
   "metadata": {
    "collapsed": false,
    "pycharm": {
     "name": "#%%\n"
    }
   }
  },
  {
   "cell_type": "code",
   "execution_count": 6,
   "outputs": [
    {
     "name": "stdout",
     "output_type": "stream",
     "text": [
      "Best C: 5\n",
      "Best degree: 1\n",
      "Train score:  [0.90572691 0.87793489 0.82723045 0.94441258 0.92131571 0.8878884\n",
      " 0.9592485  0.93558745 0.90403928 0.97051625 0.9631922  0.91831144]\n",
      "Test score:  [0.88450598 0.8439451  0.77070496 0.90028445 0.86704467 0.82591437\n",
      " 0.89690989 0.86367519 0.82817044 0.89240157 0.86536056 0.82085189]\n"
     ]
    }
   ],
   "source": [
    "grid_results_poly_vanilla = run_grid_svm(\n",
    "    'poly',\n",
    "    shape_params_polynomial_kernel([1, 5, 10, 25], [1, 2, 3]),\n",
    "    X_train\n",
    ")"
   ],
   "metadata": {
    "collapsed": false,
    "pycharm": {
     "name": "#%%\n"
    }
   }
  },
  {
   "cell_type": "code",
   "execution_count": 11,
   "outputs": [
    {
     "name": "stdout",
     "output_type": "stream",
     "text": [
      "train  0.9414084507042253\n",
      "test  0.9009009009009009\n"
     ]
    }
   ],
   "source": [
    "print(\"train \", grid_results_poly_vanilla.score(X_train, y_train))\n",
    "\n",
    "print(\"test \", grid_results_poly_vanilla.score(X_test, y_test))"
   ],
   "metadata": {
    "collapsed": false,
    "pycharm": {
     "name": "#%%\n"
    }
   }
  },
  {
   "cell_type": "code",
   "execution_count": 7,
   "outputs": [
    {
     "name": "stdout",
     "output_type": "stream",
     "text": [
      "Best C: 1\n",
      "Best gamma: 1\n",
      "Train score:  [0.99380292 0.99380292 0.99380292 0.99380292 0.99380292 0.99380292\n",
      " 0.99380292 0.99380292 0.99380292]\n",
      "Test score:  [0.14873127 0.17069072 0.14704335 0.14873127 0.14929433 0.14704335\n",
      " 0.14873127 0.14929433 0.14704335]\n"
     ]
    }
   ],
   "source": [
    "grid_results_rbf_vanilla = run_grid_svm(\n",
    "    'rbf',\n",
    "    shape_params_radial_kernel([1, 25, 50], [.1, 1, 10]),\n",
    "    X_train\n",
    ")"
   ],
   "metadata": {
    "collapsed": false,
    "pycharm": {
     "name": "#%%\n"
    }
   }
  },
  {
   "cell_type": "code",
   "execution_count": 12,
   "outputs": [
    {
     "name": "stdout",
     "output_type": "stream",
     "text": [
      "train  0.9915492957746479\n",
      "test  0.1463963963963964\n"
     ]
    }
   ],
   "source": [
    "print(\"train \", grid_results_rbf_vanilla.score(X_train, y_train))\n",
    "\n",
    "print(\"test \", grid_results_rbf_vanilla.score(X_test, y_test))"
   ],
   "metadata": {
    "collapsed": false,
    "pycharm": {
     "name": "#%%\n"
    }
   }
  },
  {
   "cell_type": "code",
   "execution_count": null,
   "outputs": [],
   "source": [],
   "metadata": {
    "collapsed": false,
    "pycharm": {
     "name": "#%%\n"
    }
   }
  }
 ],
 "metadata": {
  "kernelspec": {
   "display_name": "Python 3",
   "language": "python",
   "name": "python3"
  },
  "language_info": {
   "codemirror_mode": {
    "name": "ipython",
    "version": 2
   },
   "file_extension": ".py",
   "mimetype": "text/x-python",
   "name": "python",
   "nbconvert_exporter": "python",
   "pygments_lexer": "ipython2",
   "version": "2.7.6"
  }
 },
 "nbformat": 4,
 "nbformat_minor": 0
}
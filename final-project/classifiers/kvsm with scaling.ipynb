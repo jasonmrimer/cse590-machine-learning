{
 "cells": [
  {
   "cell_type": "markdown",
   "source": [
    "# Kernel Support Vector Machines\n",
    "Apply 4-fold cross-validation to the provided training data subset to train your classifiers and\n",
    "identify their optimal parameters. In addition to the classifier’s parameters (e.g. regularization,\n",
    "kernel, Number of layers/nodes, learning rate, etc.), you should also consider the following 4 ways\n",
    "to preprocess and rescale the data:\n",
    "- No preprocessing\n",
    "- StandardScaler\n",
    "- RobustScaler\n",
    "- MinMaxScaler"
   ],
   "metadata": {
    "collapsed": false
   }
  },
  {
   "cell_type": "markdown",
   "source": [
    "import libraries"
   ],
   "metadata": {
    "collapsed": false
   }
  },
  {
   "cell_type": "code",
   "execution_count": 23,
   "outputs": [
    {
     "name": "stdout",
     "output_type": "stream",
     "text": [
      "Requirement already satisfied: numpy in /Users/engineer/workspace/cse590-machine-learning/venv/lib/python3.9/site-packages (1.22.1)\r\n",
      "Requirement already satisfied: scipy in /Users/engineer/workspace/cse590-machine-learning/venv/lib/python3.9/site-packages (1.7.3)\r\n",
      "Requirement already satisfied: scikit-learn in /Users/engineer/workspace/cse590-machine-learning/venv/lib/python3.9/site-packages (1.0.2)\r\n",
      "Requirement already satisfied: matplotlib in /Users/engineer/workspace/cse590-machine-learning/venv/lib/python3.9/site-packages (3.5.1)\r\n",
      "Requirement already satisfied: pandas in /Users/engineer/workspace/cse590-machine-learning/venv/lib/python3.9/site-packages (1.4.0)\r\n",
      "Requirement already satisfied: threadpoolctl>=2.0.0 in /Users/engineer/workspace/cse590-machine-learning/venv/lib/python3.9/site-packages (from scikit-learn) (3.0.0)\r\n",
      "Requirement already satisfied: joblib>=0.11 in /Users/engineer/workspace/cse590-machine-learning/venv/lib/python3.9/site-packages (from scikit-learn) (1.1.0)\r\n",
      "Requirement already satisfied: fonttools>=4.22.0 in /Users/engineer/workspace/cse590-machine-learning/venv/lib/python3.9/site-packages (from matplotlib) (4.29.0)\r\n",
      "Requirement already satisfied: kiwisolver>=1.0.1 in /Users/engineer/workspace/cse590-machine-learning/venv/lib/python3.9/site-packages (from matplotlib) (1.3.2)\r\n",
      "Requirement already satisfied: packaging>=20.0 in /Users/engineer/workspace/cse590-machine-learning/venv/lib/python3.9/site-packages (from matplotlib) (21.3)\r\n",
      "Requirement already satisfied: python-dateutil>=2.7 in /Users/engineer/workspace/cse590-machine-learning/venv/lib/python3.9/site-packages (from matplotlib) (2.8.2)\r\n",
      "Requirement already satisfied: cycler>=0.10 in /Users/engineer/workspace/cse590-machine-learning/venv/lib/python3.9/site-packages (from matplotlib) (0.11.0)\r\n",
      "Requirement already satisfied: pillow>=6.2.0 in /Users/engineer/workspace/cse590-machine-learning/venv/lib/python3.9/site-packages (from matplotlib) (9.0.0)\r\n",
      "Requirement already satisfied: pyparsing>=2.2.1 in /Users/engineer/workspace/cse590-machine-learning/venv/lib/python3.9/site-packages (from matplotlib) (3.0.7)\r\n",
      "Requirement already satisfied: pytz>=2020.1 in /Users/engineer/workspace/cse590-machine-learning/venv/lib/python3.9/site-packages (from pandas) (2021.3)\r\n",
      "Requirement already satisfied: six>=1.5 in /Users/engineer/workspace/cse590-machine-learning/venv/lib/python3.9/site-packages (from python-dateutil>=2.7->matplotlib) (1.16.0)\r\n",
      "\u001B[33mWARNING: You are using pip version 21.3.1; however, version 22.0.4 is available.\r\n",
      "You should consider upgrading via the '/Users/engineer/workspace/cse590-machine-learning/venv/bin/python -m pip install --upgrade pip' command.\u001B[0m\r\n",
      "Requirement already satisfied: numpy in /Users/engineer/workspace/cse590-machine-learning/venv/lib/python3.9/site-packages (1.22.1)\r\n",
      "Requirement already satisfied: scipy in /Users/engineer/workspace/cse590-machine-learning/venv/lib/python3.9/site-packages (1.7.3)\r\n",
      "Requirement already satisfied: scikit-learn in /Users/engineer/workspace/cse590-machine-learning/venv/lib/python3.9/site-packages (1.0.2)\r\n",
      "Requirement already satisfied: matplotlib in /Users/engineer/workspace/cse590-machine-learning/venv/lib/python3.9/site-packages (3.5.1)\r\n",
      "Requirement already satisfied: pandas in /Users/engineer/workspace/cse590-machine-learning/venv/lib/python3.9/site-packages (1.4.0)\r\n",
      "Requirement already satisfied: threadpoolctl>=2.0.0 in /Users/engineer/workspace/cse590-machine-learning/venv/lib/python3.9/site-packages (from scikit-learn) (3.0.0)\r\n",
      "Requirement already satisfied: joblib>=0.11 in /Users/engineer/workspace/cse590-machine-learning/venv/lib/python3.9/site-packages (from scikit-learn) (1.1.0)\r\n",
      "Requirement already satisfied: pyparsing>=2.2.1 in /Users/engineer/workspace/cse590-machine-learning/venv/lib/python3.9/site-packages (from matplotlib) (3.0.7)\r\n",
      "Requirement already satisfied: kiwisolver>=1.0.1 in /Users/engineer/workspace/cse590-machine-learning/venv/lib/python3.9/site-packages (from matplotlib) (1.3.2)\r\n",
      "Requirement already satisfied: packaging>=20.0 in /Users/engineer/workspace/cse590-machine-learning/venv/lib/python3.9/site-packages (from matplotlib) (21.3)\r\n",
      "Requirement already satisfied: pillow>=6.2.0 in /Users/engineer/workspace/cse590-machine-learning/venv/lib/python3.9/site-packages (from matplotlib) (9.0.0)\r\n",
      "Requirement already satisfied: python-dateutil>=2.7 in /Users/engineer/workspace/cse590-machine-learning/venv/lib/python3.9/site-packages (from matplotlib) (2.8.2)\r\n",
      "Requirement already satisfied: cycler>=0.10 in /Users/engineer/workspace/cse590-machine-learning/venv/lib/python3.9/site-packages (from matplotlib) (0.11.0)\r\n",
      "Requirement already satisfied: fonttools>=4.22.0 in /Users/engineer/workspace/cse590-machine-learning/venv/lib/python3.9/site-packages (from matplotlib) (4.29.0)\r\n",
      "Requirement already satisfied: pytz>=2020.1 in /Users/engineer/workspace/cse590-machine-learning/venv/lib/python3.9/site-packages (from pandas) (2021.3)\r\n",
      "Requirement already satisfied: six>=1.5 in /Users/engineer/workspace/cse590-machine-learning/venv/lib/python3.9/site-packages (from python-dateutil>=2.7->matplotlib) (1.16.0)\r\n",
      "\u001B[33mWARNING: You are using pip version 21.3.1; however, version 22.0.4 is available.\r\n",
      "You should consider upgrading via the '/Users/engineer/workspace/cse590-machine-learning/venv/bin/python -m pip install --upgrade pip' command.\u001B[0m\r\n"
     ]
    }
   ],
   "source": [
    "\n",
    "from sklearn.decomposition import PCA\n",
    "from sklearn.preprocessing import StandardScaler, RobustScaler, MinMaxScaler\n",
    "\n",
    "!pip install numpy scipy scikit-learn matplotlib pandas\n",
    "\n",
    "\n",
    "import mglearn as mglearn\n",
    "\n",
    "!pip install numpy scipy scikit-learn matplotlib pandas\n",
    "import pandas as pd\n",
    "from matplotlib import pyplot as plt\n",
    "from sklearn.model_selection import train_test_split, GridSearchCV\n",
    "from sklearn.svm import SVC\n"
   ],
   "metadata": {
    "collapsed": false,
    "pycharm": {
     "name": "#%%\n"
    }
   }
  },
  {
   "cell_type": "markdown",
   "source": [
    "setup data"
   ],
   "metadata": {
    "collapsed": false
   }
  },
  {
   "cell_type": "markdown",
   "source": [
    "general methods"
   ],
   "metadata": {
    "collapsed": false
   }
  },
  {
   "cell_type": "code",
   "execution_count": 24,
   "outputs": [],
   "source": [
    "def shape_params_linear_kernel(c_values):\n",
    "    hyper_params = dict(C=c_values)\n",
    "    return hyper_params\n",
    "\n",
    "\n",
    "def shape_params_polynomial_kernel(c_values, d_values):\n",
    "    hyper_params = shape_params_linear_kernel(c_values)\n",
    "    hyper_params['degree'] = d_values\n",
    "    return hyper_params\n",
    "\n",
    "\n",
    "def shape_params_radial_kernel(c_values, gamma_values):\n",
    "    hyper_params = shape_params_linear_kernel(c_values)\n",
    "    hyper_params['gamma'] = gamma_values\n",
    "    return hyper_params\n",
    "\n",
    "\n",
    "def run_grid_svm(kernel, hyper_parameters, X_data):\n",
    "    classifier = SVC(\n",
    "        kernel=kernel,\n",
    "        random_state=0\n",
    "    )\n",
    "    grid_search = GridSearchCV(\n",
    "        classifier,\n",
    "        hyper_parameters,\n",
    "        cv=4,\n",
    "        return_train_score=True\n",
    "    )\n",
    "    grid_search.fit(X_data, y_train)\n",
    "\n",
    "    print_grid_search_results(grid_search, hyper_parameters)\n",
    "    return grid_search\n",
    "\n",
    "\n",
    "def print_grid_search_results(grid_search, parameters):\n",
    "    for parameter in parameters:\n",
    "        print(f'Best {parameter}:', grid_search.best_params_[parameter])\n",
    "    print(\"Train score: \", grid_search.cv_results_['mean_train_score'])\n",
    "    print(\"Test score: \", grid_search.cv_results_['mean_test_score'])\n",
    "\n",
    "\n",
    "def preprocess_data(X_scaled):\n",
    "    pca = PCA(n_components=2)\n",
    "    pca.fit(X_scaled)\n",
    "\n",
    "    return pca.fit_transform(X_scaled)\n",
    "\n",
    "\n",
    "def display_preprocessed_2d(pca_data):\n",
    "    plt.figure(figsize=(32, 32))\n",
    "    mglearn.discrete_scatter(pca_data[:, 0], pca_data[:, 1], y_train)\n",
    "    plt.legend(\n",
    "        [\n",
    "            '0: T-shirt/top',\n",
    "            '1: Trouser',\n",
    "            '2: Pullover',\n",
    "            '3: Dress',\n",
    "            '4: Coat,',\n",
    "        ],\n",
    "        loc=\"best\"\n",
    "    )\n",
    "    plt.gca().set_aspect(\"equal\")\n",
    "    plt.xlabel(\"First principal component\")\n",
    "    plt.ylabel(\"Second principal component\")\n",
    "\n",
    "\n",
    "def scale(scaler, X_data):\n",
    "    return scaler.fit(X_data).transform(X_data)\n"
   ],
   "metadata": {
    "collapsed": false,
    "pycharm": {
     "name": "#%%\n"
    }
   }
  },
  {
   "cell_type": "code",
   "execution_count": 25,
   "outputs": [],
   "source": [
    "X = pd.read_csv(\"../dataset/extracted_features.csv\").values\n",
    "y = pd.read_csv(\"../dataset/labels.csv\").values\n",
    "# images = pd.read_csv(\"../dataset/raw_images.csv\").values\n",
    "X_train, X_test, y_train, y_test = train_test_split(X, y, test_size=0.2, random_state=42, shuffle=True, stratify=y)\n",
    "y_train = y_train.ravel()\n",
    "\n",
    "scaler_standard = StandardScaler().fit(X_train)\n",
    "X_train_standard = scaler_standard.transform(X_train)\n",
    "X_test_standard = scaler_standard.transform(X_test)\n",
    "\n",
    "scaler_robust = RobustScaler().fit(X_train)\n",
    "X_train_robust = scaler_robust.transform(X_train)\n",
    "X_test_robust = scaler_robust.transform(X_test)\n",
    "\n",
    "scaler_minmax = MinMaxScaler().fit(X_train)\n",
    "X_train_minmax = scaler_minmax.transform(X_train)\n",
    "X_test_minmax = scaler_minmax.transform(X_test)\n",
    "\n",
    "pca = PCA(n_components=56, random_state=42)\n",
    "X_train_pca = pca.fit_transform(X_train_standard)\n",
    "X_test_pca = pca.transform(X_test_standard)\n"
   ],
   "metadata": {
    "collapsed": false,
    "pycharm": {
     "name": "#%%\n"
    }
   }
  },
  {
   "cell_type": "markdown",
   "source": [],
   "metadata": {
    "collapsed": false
   }
  },
  {
   "cell_type": "code",
   "execution_count": 4,
   "outputs": [],
   "source": [
    "# scaler_standard = StandardScaler()\n",
    "# scaler_standard.fit(X_train)\n",
    "# X_train_scaled_standard = scaler_standard.transform(X_train)\n",
    "#\n",
    "# svm = SVC(C=1, kernel='linear')\n",
    "# svm.fit(X_train, y_train)\n",
    "# %time print('Accuracy test: ', svm.score(X_test, y_test))"
   ],
   "metadata": {
    "collapsed": false,
    "pycharm": {
     "name": "#%%\n"
    }
   }
  },
  {
   "cell_type": "markdown",
   "source": [
    "## Kernel Selection\n",
    "vary only the C values to point in the direction of the best kernel up front\n",
    "\n",
    "### C-only GridSearch on linear"
   ],
   "metadata": {
    "collapsed": false
   }
  },
  {
   "cell_type": "code",
   "execution_count": 5,
   "outputs": [],
   "source": [
    "# %time grid_results_svm_linear = run_grid_svm( 'linear', shape_params_linear_kernel(np.linspace(0,100,2)) )"
   ],
   "metadata": {
    "collapsed": false,
    "pycharm": {
     "name": "#%%\n"
    }
   }
  },
  {
   "cell_type": "markdown",
   "source": [
    "PCA Eigen"
   ],
   "metadata": {
    "collapsed": false
   }
  },
  {
   "cell_type": "code",
   "execution_count": 5,
   "outputs": [],
   "source": [],
   "metadata": {
    "collapsed": false,
    "pycharm": {
     "name": "#%%\n"
    }
   }
  },
  {
   "cell_type": "markdown",
   "source": [
    "## Standard Scaler"
   ],
   "metadata": {
    "collapsed": false
   }
  },
  {
   "cell_type": "markdown",
   "source": [
    "PCA vanilla"
   ],
   "metadata": {
    "collapsed": false
   }
  },
  {
   "cell_type": "code",
   "execution_count": 6,
   "outputs": [
    {
     "name": "stdout",
     "output_type": "stream",
     "text": [
      "Accuracy test:  0.8738738738738738\n",
      "CPU times: user 11.7 ms, sys: 306 µs, total: 12 ms\n",
      "Wall time: 12.2 ms\n"
     ]
    }
   ],
   "source": [
    "svm = SVC(C=1, kernel='linear')\n",
    "svm.fit(X_train_standard, y_train)\n",
    "%time print('Accuracy test: ', svm.score(X_test_standard, y_test))"
   ],
   "metadata": {
    "collapsed": false,
    "pycharm": {
     "name": "#%%\n"
    }
   }
  },
  {
   "cell_type": "markdown",
   "source": [],
   "metadata": {
    "collapsed": false
   }
  },
  {
   "cell_type": "markdown",
   "source": [
    "PCA with standard"
   ],
   "metadata": {
    "collapsed": false
   }
  },
  {
   "cell_type": "code",
   "execution_count": 26,
   "outputs": [
    {
     "name": "stdout",
     "output_type": "stream",
     "text": [
      "Best C: 5\n",
      "Best degree: 1\n",
      "Train score:  [0.9359624  0.89370898 0.74986576 0.95943535 0.96169084 0.90722997\n",
      " 0.96769882 0.97502344 0.94535257 0.97859119 0.98497624 0.96206636]\n",
      "Test score:  [0.90028191 0.80451289 0.63379929 0.90309214 0.84845977 0.77296865\n",
      " 0.89690353 0.85916179 0.81127855 0.88450217 0.84338204 0.82197929]\n"
     ]
    }
   ],
   "source": [
    "grid_standard = run_grid_svm(\n",
    "    'poly',\n",
    "    shape_params_polynomial_kernel([1, 5, 10, 25], [1, 2, 3]),\n",
    "    X_train_standard\n",
    ")\n"
   ],
   "metadata": {
    "collapsed": false,
    "pycharm": {
     "name": "#%%\n"
    }
   }
  },
  {
   "cell_type": "code",
   "execution_count": 27,
   "outputs": [
    {
     "name": "stdout",
     "output_type": "stream",
     "text": [
      "0.9847887323943662\n",
      "0.9076576576576577\n"
     ]
    }
   ],
   "source": [
    "\n",
    "svm_standard = SVC(\n",
    "    C=grid_standard.best_params_['C'],\n",
    "    degree=grid_standard.best_params_['degree']\n",
    ").fit(X_train_standard, y_train)\n",
    "\n",
    "print(svm_standard.score(X_train_standard, y_train))\n",
    "print(svm_standard.score(X_test_standard, y_test))"
   ],
   "metadata": {
    "collapsed": false,
    "pycharm": {
     "name": "#%%\n"
    }
   }
  },
  {
   "cell_type": "markdown",
   "source": [
    "## Robust Scaler"
   ],
   "metadata": {
    "collapsed": false
   }
  },
  {
   "cell_type": "code",
   "execution_count": 28,
   "outputs": [
    {
     "name": "stdout",
     "output_type": "stream",
     "text": [
      "Best C: 25\n",
      "Best degree: 1\n",
      "Train score:  [0.76694717 0.61746443 0.47643413 0.88469419 0.76957663 0.64206491\n",
      " 0.91192399 0.83173679 0.7068527  0.93896639 0.8923939  0.75361514]\n",
      "Test score:  [0.73014281 0.53803281 0.36957782 0.82422137 0.63549483 0.50930134\n",
      " 0.846191   0.68732079 0.54592586 0.85576561 0.71604717 0.56563816]\n"
     ]
    }
   ],
   "source": [
    "grid_robust = run_grid_svm(\n",
    "    'poly',\n",
    "    shape_params_polynomial_kernel([1, 5, 10, 25], [1, 2, 3]),\n",
    "    X_train_robust\n",
    ")\n"
   ],
   "metadata": {
    "collapsed": false,
    "pycharm": {
     "name": "#%%\n"
    }
   }
  },
  {
   "cell_type": "code",
   "execution_count": 29,
   "outputs": [
    {
     "name": "stdout",
     "output_type": "stream",
     "text": [
      "0.9808450704225352\n",
      "0.831081081081081\n"
     ]
    }
   ],
   "source": [
    "\n",
    "svm_robust = SVC(\n",
    "    C=grid_robust.best_params_['C'],\n",
    "    degree=grid_robust.best_params_['degree']\n",
    ").fit(X_train_robust, y_train)\n",
    "\n",
    "print(svm_robust.score(X_train_robust, y_train))\n",
    "print(svm_robust.score(X_test_robust, y_test))"
   ],
   "metadata": {
    "collapsed": false,
    "pycharm": {
     "name": "#%%\n"
    }
   }
  },
  {
   "cell_type": "markdown",
   "source": [
    "## MinMax Scaler"
   ],
   "metadata": {
    "collapsed": false
   }
  },
  {
   "cell_type": "code",
   "execution_count": 30,
   "outputs": [
    {
     "name": "stdout",
     "output_type": "stream",
     "text": [
      "Best C: 1\n",
      "Best degree: 1\n",
      "Train score:  [0.93183101 0.91605665 0.87023533 0.96075029 0.95229912 0.91643047\n",
      " 0.96863797 0.96751113 0.93239182 0.97727668 0.98065675 0.9372765 ]\n",
      "Test score:  [0.90535202 0.86929438 0.80507723 0.90310104 0.88057216 0.82649523\n",
      " 0.89690608 0.8788817  0.83832718 0.88675823 0.88732511 0.82424171]\n"
     ]
    }
   ],
   "source": [
    "grid_minmax = run_grid_svm(\n",
    "    'poly',\n",
    "    shape_params_polynomial_kernel([1, 5, 10, 25], [1, 2, 3]),\n",
    "    X_train_minmax\n",
    ")\n"
   ],
   "metadata": {
    "collapsed": false,
    "pycharm": {
     "name": "#%%\n"
    }
   }
  },
  {
   "cell_type": "code",
   "execution_count": 31,
   "outputs": [
    {
     "name": "stdout",
     "output_type": "stream",
     "text": [
      "0.9740845070422535\n",
      "0.9121621621621622\n"
     ]
    }
   ],
   "source": [
    "\n",
    "svm_minmax = SVC(\n",
    "    C=grid_minmax.best_params_['C'],\n",
    "    degree=grid_minmax.best_params_['degree']\n",
    ").fit(X_train_minmax, y_train)\n",
    "\n",
    "print(svm_minmax.score(X_train_minmax, y_train))\n",
    "print(svm_minmax.score(X_test_minmax, y_test))"
   ],
   "metadata": {
    "collapsed": false,
    "pycharm": {
     "name": "#%%\n"
    }
   }
  },
  {
   "cell_type": "markdown",
   "source": [
    "PCA"
   ],
   "metadata": {
    "collapsed": false
   }
  },
  {
   "cell_type": "code",
   "execution_count": 32,
   "outputs": [
    {
     "name": "stdout",
     "output_type": "stream",
     "text": [
      "Best C: 5\n",
      "Best degree: 1\n",
      "Train score:  [0.9359624  0.89370898 0.74986576 0.95943535 0.96169084 0.90722997\n",
      " 0.96769882 0.97502344 0.94535257 0.97859119 0.98497624 0.96206636]\n",
      "Test score:  [0.90028191 0.80451289 0.63379929 0.90309214 0.84845977 0.77296865\n",
      " 0.89690353 0.85916179 0.81127855 0.88450217 0.84338204 0.82197929]\n"
     ]
    }
   ],
   "source": [
    "grid_pca = run_grid_svm(\n",
    "    'poly',\n",
    "    shape_params_polynomial_kernel([1, 5, 10, 25], [1, 2, 3]),\n",
    "    X_train_pca\n",
    ")\n"
   ],
   "metadata": {
    "collapsed": false,
    "pycharm": {
     "name": "#%%\n"
    }
   }
  },
  {
   "cell_type": "code",
   "execution_count": 33,
   "outputs": [
    {
     "name": "stdout",
     "output_type": "stream",
     "text": [
      "0.9847887323943662\n",
      "0.9076576576576577\n"
     ]
    }
   ],
   "source": [
    "\n",
    "svm_pca = SVC(\n",
    "    C=grid_pca.best_params_['C'],\n",
    "    degree=grid_pca.best_params_['degree']\n",
    ").fit(X_train_pca, y_train)\n",
    "\n",
    "print(svm_pca.score(X_train_pca, y_train))\n",
    "print(svm_pca.score(X_test_pca, y_test))"
   ],
   "metadata": {
    "collapsed": false,
    "pycharm": {
     "name": "#%%\n"
    }
   }
  },
  {
   "cell_type": "markdown",
   "source": [
    "# Cross Validation"
   ],
   "metadata": {
    "collapsed": false
   }
  },
  {
   "cell_type": "markdown",
   "source": [
    "## Linear\n",
    "linear and standard"
   ],
   "metadata": {
    "collapsed": false
   }
  },
  {
   "cell_type": "code",
   "execution_count": 15,
   "outputs": [
    {
     "name": "stdout",
     "output_type": "stream",
     "text": [
      "Best C: 1\n",
      "Train score:  [0.98516365 0.99023432 0.99042215 0.99136129]\n",
      "Test score:  [0.83662274 0.82198056 0.82085697 0.81690791]\n"
     ]
    }
   ],
   "source": [
    "grid_results_linear_standard = run_grid_svm(\n",
    "    'linear',\n",
    "    shape_params_linear_kernel([1, 5, 10, 25]),\n",
    "    X_train_standard\n",
    ")"
   ],
   "metadata": {
    "collapsed": false,
    "pycharm": {
     "name": "#%%\n"
    }
   }
  },
  {
   "cell_type": "code",
   "execution_count": null,
   "outputs": [],
   "source": [
    "print(grid_results_linear_standard.cv_results_)"
   ],
   "metadata": {
    "collapsed": false,
    "pycharm": {
     "name": "#%%\n"
    }
   }
  },
  {
   "cell_type": "markdown",
   "source": [
    "linear and robust"
   ],
   "metadata": {
    "collapsed": false
   }
  },
  {
   "cell_type": "code",
   "execution_count": 16,
   "outputs": [
    {
     "name": "stdout",
     "output_type": "stream",
     "text": [
      "Best C: 0.1\n",
      "Train score:  [0.96582124 0.98516365 0.99042215 0.99192464]\n",
      "Test score:  [0.85858601 0.83662274 0.82085697 0.81634357]\n"
     ]
    }
   ],
   "source": [
    "grid_results_linear_robust = run_grid_svm(\n",
    "    'linear',\n",
    "    shape_params_linear_kernel([0.1, 1, 10, 100]),\n",
    "    X_train_robust\n",
    ")"
   ],
   "metadata": {
    "collapsed": false,
    "pycharm": {
     "name": "#%%\n"
    }
   }
  },
  {
   "cell_type": "markdown",
   "source": [
    "linear and minmax"
   ],
   "metadata": {
    "collapsed": false
   }
  },
  {
   "cell_type": "code",
   "execution_count": 18,
   "outputs": [
    {
     "name": "stdout",
     "output_type": "stream",
     "text": [
      "Best C: 10\n",
      "Train score:  [0.73784162 0.91924861 0.96394295 0.98309796]\n",
      "Test score:  [0.7262001  0.89859272 0.90253544 0.88394037]\n"
     ]
    }
   ],
   "source": [
    "grid_results_linear_minmax = run_grid_svm(\n",
    "    'linear',\n",
    "    shape_params_linear_kernel([0.1, 1, 10, 100]),\n",
    "    X_train_minmax\n",
    ")\n",
    "# svm = SVC(C=1, kernel='linear')\n",
    "# svm.fit(X_train_standard, y_train)\n",
    "# %time print('Accuracy test: ', svm.score(X_test_standard, y_test))"
   ],
   "metadata": {
    "collapsed": false,
    "pycharm": {
     "name": "#%%\n"
    }
   }
  },
  {
   "cell_type": "markdown",
   "source": [
    "## Poly\n",
    "poly and standard"
   ],
   "metadata": {
    "collapsed": false
   }
  },
  {
   "cell_type": "code",
   "execution_count": 19,
   "outputs": [
    {
     "name": "stdout",
     "output_type": "stream",
     "text": [
      "Best C: 25\n",
      "Best degree: 1\n",
      "Train score:  [0.76694717 0.61746443 0.47643413 0.88469419 0.76957663 0.64206491\n",
      " 0.91192399 0.83173679 0.7068527  0.93896639 0.8923939  0.75361514]\n",
      "Test score:  [0.73014281 0.53803281 0.36957782 0.82422137 0.63549483 0.50930134\n",
      " 0.846191   0.68732079 0.54592586 0.85576561 0.71604717 0.56563816]\n"
     ]
    }
   ],
   "source": [
    "grid_results_poly_standard = run_grid_svm(\n",
    "    'poly',\n",
    "    shape_params_polynomial_kernel([1, 5, 10, 25], [1, 2, 3]),\n",
    "    X_train_standard\n",
    ")"
   ],
   "metadata": {
    "collapsed": false,
    "pycharm": {
     "name": "#%%\n"
    }
   }
  },
  {
   "cell_type": "markdown",
   "source": [
    "poly and robust"
   ],
   "metadata": {
    "collapsed": false
   }
  },
  {
   "cell_type": "code",
   "execution_count": 21,
   "outputs": [
    {
     "name": "stdout",
     "output_type": "stream",
     "text": [
      "Best C: 25\n",
      "Best degree: 1\n",
      "Train score:  [0.76694717 0.61746443 0.47643413 0.88469419 0.76957663 0.64206491\n",
      " 0.91192399 0.83173679 0.7068527  0.93896639 0.8923939  0.75361514]\n",
      "Test score:  [0.73014281 0.53803281 0.36957782 0.82422137 0.63549483 0.50930134\n",
      " 0.846191   0.68732079 0.54592586 0.85576561 0.71604717 0.56563816]\n"
     ]
    }
   ],
   "source": [
    "grid_results_poly_robust = run_grid_svm(\n",
    "    'poly',\n",
    "    shape_params_polynomial_kernel([1, 5, 10, 25], [1, 2, 3]),\n",
    "    X_train_robust\n",
    ")"
   ],
   "metadata": {
    "collapsed": false,
    "pycharm": {
     "name": "#%%\n"
    }
   }
  },
  {
   "cell_type": "markdown",
   "source": [
    "poly and minmax"
   ],
   "metadata": {
    "collapsed": false
   }
  },
  {
   "cell_type": "code",
   "execution_count": 20,
   "outputs": [
    {
     "name": "stdout",
     "output_type": "stream",
     "text": [
      "Best C: 1\n",
      "Best degree: 1\n",
      "Train score:  [0.93183101 0.91605665 0.87023533 0.96075029 0.95229912 0.91643047\n",
      " 0.96863797 0.96751113 0.93239182 0.97727668 0.98065675 0.9372765 ]\n",
      "Test score:  [0.90535202 0.86929438 0.80507723 0.90310104 0.88057216 0.82649523\n",
      " 0.89690608 0.8788817  0.83832718 0.88675823 0.88732511 0.82424171]\n"
     ]
    }
   ],
   "source": [
    "grid_results_poly_minmax = run_grid_svm(\n",
    "    'poly',\n",
    "    shape_params_polynomial_kernel([1, 5, 10, 25], [1, 2, 3]),\n",
    "    X_train_minmax\n",
    ")"
   ],
   "metadata": {
    "collapsed": false,
    "pycharm": {
     "name": "#%%\n"
    }
   }
  },
  {
   "cell_type": "markdown",
   "source": [
    "## RBF\n",
    "rbf and standard"
   ],
   "metadata": {
    "collapsed": false
   }
  },
  {
   "cell_type": "code",
   "execution_count": 22,
   "outputs": [
    {
     "name": "stdout",
     "output_type": "stream",
     "text": [
      "Best C: 25\n",
      "Best gamma: 0.1\n",
      "Train score:  [0.99117374 0.99323944 0.99380292 0.99380292 0.99380292 0.99380292\n",
      " 0.99380292 0.99380292 0.99380292]\n",
      "Test score:  [0.21351275 0.14816947 0.14929687 0.22477783 0.1492956  0.14929687\n",
      " 0.22477783 0.1492956  0.14929687]\n"
     ]
    }
   ],
   "source": [
    "grid_results_rbf_standard = run_grid_svm(\n",
    "    'rbf',\n",
    "    shape_params_radial_kernel([1, 25, 50], [.1, 1, 10]),\n",
    "    X_train_standard\n",
    ")"
   ],
   "metadata": {
    "collapsed": false,
    "pycharm": {
     "name": "#%%\n"
    }
   }
  },
  {
   "cell_type": "markdown",
   "source": [
    "rbf and robust"
   ],
   "metadata": {
    "collapsed": false
   }
  },
  {
   "cell_type": "code",
   "source": [
    "# skip because accuracy terrible\n",
    "print('hwa')"
   ],
   "metadata": {
    "collapsed": false,
    "pycharm": {
     "name": "#%%\n"
    }
   },
   "execution_count": 1,
   "outputs": [
    {
     "name": "stdout",
     "output_type": "stream",
     "text": [
      "hwa\n"
     ]
    }
   ]
  },
  {
   "cell_type": "markdown",
   "source": [
    "robust and minmax"
   ],
   "metadata": {
    "collapsed": false
   }
  },
  {
   "cell_type": "code",
   "source": [
    "grid_results_rbf_minmax = run_grid_svm(\n",
    "    'rbf',\n",
    "    shape_params_radial_kernel([1, 25, 50], [1, 100, 1000]),\n",
    "    X_train_minmax\n",
    ")"
   ],
   "metadata": {
    "collapsed": false,
    "pycharm": {
     "name": "#%%\n"
    }
   },
   "execution_count": 6,
   "outputs": [
    {
     "name": "stdout",
     "output_type": "stream",
     "text": [
      "Best C: 25\n",
      "Best gamma: 1\n",
      "Train score:  [1. 1. 1. 1. 1. 1. 1. 1. 1.]\n",
      "Test score:  [0.33223217 0.27073553 0.20002001 0.35463465 0.27073553 0.20002001\n",
      " 0.35463465 0.27073553 0.20002001]\n"
     ]
    }
   ]
  },
  {
   "cell_type": "code",
   "execution_count": 36,
   "outputs": [
    {
     "name": "stdout",
     "output_type": "stream",
     "text": [
      "Accuracy test:  0.9099099099099099\n"
     ]
    }
   ],
   "source": [
    "svm = SVC(C=1, degree=1, kernel='poly')\n",
    "svm.fit(X_train, y_train)\n",
    "print('Accuracy test: ', svm.score(X_, y_test))"
   ],
   "metadata": {
    "collapsed": false,
    "pycharm": {
     "name": "#%%\n"
    }
   }
  },
  {
   "cell_type": "code",
   "execution_count": null,
   "outputs": [],
   "source": [],
   "metadata": {
    "collapsed": false,
    "pycharm": {
     "name": "#%%\n"
    }
   }
  },
  {
   "cell_type": "code",
   "execution_count": null,
   "outputs": [],
   "source": [],
   "metadata": {
    "collapsed": false,
    "pycharm": {
     "name": "#%%\n"
    }
   }
  },
  {
   "cell_type": "code",
   "execution_count": null,
   "outputs": [],
   "source": [],
   "metadata": {
    "collapsed": false,
    "pycharm": {
     "name": "#%%\n"
    }
   }
  },
  {
   "cell_type": "code",
   "execution_count": null,
   "outputs": [],
   "source": [],
   "metadata": {
    "collapsed": false,
    "pycharm": {
     "name": "#%%\n"
    }
   }
  },
  {
   "cell_type": "code",
   "execution_count": null,
   "outputs": [],
   "source": [
    "\n"
   ],
   "metadata": {
    "collapsed": false,
    "pycharm": {
     "name": "#%%\n"
    }
   }
  },
  {
   "cell_type": "markdown",
   "source": [
    "\n"
   ],
   "metadata": {
    "collapsed": false,
    "pycharm": {
     "name": "#%% md\n"
    }
   }
  }
 ],
 "metadata": {
  "kernelspec": {
   "display_name": "Python 3",
   "language": "python",
   "name": "python3"
  },
  "language_info": {
   "codemirror_mode": {
    "name": "ipython",
    "version": 2
   },
   "file_extension": ".py",
   "mimetype": "text/x-python",
   "name": "python",
   "nbconvert_exporter": "python",
   "pygments_lexer": "ipython2",
   "version": "2.7.6"
  }
 },
 "nbformat": 4,
 "nbformat_minor": 0
}
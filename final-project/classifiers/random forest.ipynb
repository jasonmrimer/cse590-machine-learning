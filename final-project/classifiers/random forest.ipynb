{
 "cells": [
  {
   "cell_type": "code",
   "execution_count": 1,
   "metadata": {
    "collapsed": true
   },
   "outputs": [],
   "source": [
    "import numpy as np\n",
    "import pandas as pd\n",
    "import sklearn_evaluation\n",
    "from matplotlib import pyplot as plt\n",
    "from sklearn import metrics\n",
    "from sklearn.decomposition import PCA\n",
    "from sklearn.ensemble import RandomForestClassifier, GradientBoostingClassifier\n",
    "from sklearn.linear_model import LogisticRegression\n",
    "from sklearn.model_selection import train_test_split, GridSearchCV\n",
    "from sklearn.naive_bayes import MultinomialNB\n",
    "from sklearn.neighbors import KNeighborsClassifier\n",
    "from sklearn.neural_network import MLPClassifier\n",
    "from sklearn.preprocessing import RobustScaler, MinMaxScaler, StandardScaler\n",
    "from sklearn.svm import LinearSVC, SVC\n"
   ]
  },
  {
   "cell_type": "code",
   "execution_count": 12,
   "outputs": [],
   "source": [
    "X = pd.read_csv(\"../dataset/extracted_features.csv\").values\n",
    "y = pd.read_csv(\"../dataset/labels.csv\").values\n",
    "# images = pd.read_csv(\"../dataset/raw_images.csv\").values\n",
    "X_train, X_test, y_train, y_test = train_test_split(X, y, test_size=0.2, random_state=42, shuffle=True, stratify=y)\n",
    "y_train = y_train.ravel()\n",
    "\n",
    "scaler_standard = StandardScaler().fit(X_train)\n",
    "X_train_standard = scaler_standard.transform(X_train)\n",
    "X_test_standard = scaler_standard.transform(X_test)\n",
    "\n",
    "scaler_robust = RobustScaler().fit(X_train)\n",
    "X_train_robust = scaler_robust.transform(X_train)\n",
    "X_test_robust = scaler_robust.transform(X_test)\n",
    "\n",
    "scaler_minmax = MinMaxScaler().fit(X_train)\n",
    "X_train_minmax = scaler_minmax.transform(X_train)\n",
    "X_test_minmax = scaler_minmax.transform(X_test)\n",
    "\n",
    "pca = PCA(n_components=56, random_state=42)\n",
    "X_train_pca = pca.fit_transform(X_train_standard)\n",
    "X_test_pca = pca.transform(X_test_standard)\n"
   ],
   "metadata": {
    "collapsed": false,
    "pycharm": {
     "name": "#%%\n"
    }
   }
  },
  {
   "cell_type": "code",
   "execution_count": null,
   "outputs": [],
   "source": [],
   "metadata": {
    "collapsed": false,
    "pycharm": {
     "name": "#%%\n"
    }
   }
  },
  {
   "cell_type": "code",
   "execution_count": null,
   "outputs": [],
   "source": [
    "np.random.seed(42)\n",
    "\n",
    "\n",
    "def grid_search_random_forest(n_estimators, max_features, X_train_data, max_depth=None, max_leaf_nodes=None):\n",
    "    parameters = {\n",
    "        'n_estimators': n_estimators,\n",
    "        'max_features': max_features,\n",
    "    }\n",
    "    include_additional_parameters(max_depth, max_leaf_nodes, parameters)\n",
    "\n",
    "    classifier = RandomForestClassifier(random_state=42)\n",
    "\n",
    "    grid_search = GridSearchCV(\n",
    "        classifier,\n",
    "        parameters,\n",
    "        cv=4,\n",
    "        return_train_score=True,\n",
    "    )\n",
    "\n",
    "    grid_search.fit(X_train_data, y_train)\n",
    "    print_grid_search_results(grid_search, parameters)\n",
    "    return grid_search\n",
    "\n",
    "\n",
    "def print_grid_search_results(grid_search, parameters):\n",
    "    for parameter in parameters:\n",
    "        print(f'Best {parameter}:', grid_search.best_params_[parameter])\n",
    "    predictions = grid_search.predict(X_test)\n",
    "    print(\"Accuracy: \", metrics.accuracy_score(y_test, predictions))\n",
    "\n",
    "\n",
    "def include_additional_parameters(max_depth, max_leaf_nodes, parameters):\n",
    "    if max_depth is not None:\n",
    "        parameters.update({'max_depth': max_depth})\n",
    "    if max_leaf_nodes is not None:\n",
    "        parameters.update({'max_leaf_nodes': max_leaf_nodes})\n",
    "\n",
    "\n",
    "def graph_grid_search_random_forest(grid_search):\n",
    "    print(grid_search.cv_results_)\n",
    "    plt.figure(figsize=[8,8])\n",
    "    sklearn_evaluation.evaluator.plot.grid_search(\n",
    "        grid_search.cv_results_,\n",
    "        change=(\"n_estimators\", \"max_features\")\n",
    "    )\n",
    "\n",
    "    plt.title(\"Random Forest\")\n",
    "    plt.xlabel(\"n_estimators\")\n",
    "    plt.ylabel(\"max_features\")\n",
    "    plt.legend()\n",
    "    plt.show()\n",
    "\n",
    "\n",
    "def plot_3d_heatmap(grid_results):\n",
    "    result_params = grid_results.cv_results_['params']\n",
    "    df = pd.DataFrame(result_params)\n",
    "    fig = plt.figure()\n",
    "    ax = fig.add_subplot(111, projection='3d')\n",
    "    x = df.loc[:, 'n_estimators']\n",
    "    y = df.loc[:, 'max_features']\n",
    "    z = df.loc[:, 'max_depth']\n",
    "    c = grid_results.cv_results_['mean_test_score']\n",
    "    img = ax.scatter(x, y, z, c=c, cmap=plt.hot())\n",
    "    fig.colorbar(img)\n",
    "    plt.show()"
   ],
   "metadata": {
    "collapsed": false,
    "pycharm": {
     "name": "#%%\n"
    }
   }
  },
  {
   "cell_type": "code",
   "execution_count": 6,
   "outputs": [
    {
     "name": "stdout",
     "output_type": "stream",
     "text": [
      "Best n_estimators: 40\n",
      "Best max_features: 5\n",
      "Accuracy:  0.8761261261261262\n"
     ]
    }
   ],
   "source": [
    "np.random.seed(42)\n",
    "\n",
    "n_estimators = np.linspace(20, 40, 3, dtype=int)\n",
    "max_features = np.linspace(1, 12, 6, dtype=int)\n",
    "\n",
    "grid_search = grid_search_random_forest(n_estimators, max_features, X_train)"
   ],
   "metadata": {
    "collapsed": false,
    "pycharm": {
     "name": "#%%\n"
    }
   }
  },
  {
   "cell_type": "code",
   "execution_count": 7,
   "outputs": [
    {
     "name": "stderr",
     "output_type": "stream",
     "text": [
      "No artists with labels found to put in legend.  Note that artists whose label start with an underscore are ignored when legend() is called with no argument.\n"
     ]
    },
    {
     "name": "stdout",
     "output_type": "stream",
     "text": [
      "{'mean_fit_time': array([0.03691816, 0.08627772, 0.07388002, 0.04197598, 0.06216496,\n",
      "       0.07743549, 0.04885006, 0.0650335 , 0.08770341, 0.04898036,\n",
      "       0.0763188 , 0.10223317, 0.05651122, 0.08592951, 0.10936999,\n",
      "       0.06166434, 0.09030008, 0.12527972]), 'std_fit_time': array([0.00240248, 0.0321369 , 0.00286486, 0.00122317, 0.00535539,\n",
      "       0.00196331, 0.00199098, 0.00169191, 0.00080884, 0.00244517,\n",
      "       0.00355624, 0.00156519, 0.00144965, 0.00322887, 0.00636734,\n",
      "       0.00087093, 0.00106074, 0.0041477 ]), 'mean_score_time': array([0.00350052, 0.00671315, 0.0066371 , 0.00355065, 0.00582874,\n",
      "       0.00668812, 0.00437117, 0.00480628, 0.0058257 , 0.00348973,\n",
      "       0.00564528, 0.00656825, 0.00374454, 0.00474674, 0.00552464,\n",
      "       0.00373894, 0.00417268, 0.006275  ]), 'std_score_time': array([0.0001353 , 0.00209009, 0.00055193, 0.00030727, 0.00084487,\n",
      "       0.00032394, 0.00133272, 0.00027661, 0.00057619, 0.00036966,\n",
      "       0.00093972, 0.00074189, 0.0009152 , 0.0007558 , 0.00017114,\n",
      "       0.00080452, 0.00012067, 0.00136597]), 'param_max_features': masked_array(data=[1, 1, 1, 3, 3, 3, 5, 5, 5, 7, 7, 7, 9, 9, 9, 12, 12,\n",
      "                   12],\n",
      "             mask=[False, False, False, False, False, False, False, False,\n",
      "                   False, False, False, False, False, False, False, False,\n",
      "                   False, False],\n",
      "       fill_value='?',\n",
      "            dtype=object), 'param_n_estimators': masked_array(data=[20, 30, 40, 20, 30, 40, 20, 30, 40, 20, 30, 40, 20, 30,\n",
      "                   40, 20, 30, 40],\n",
      "             mask=[False, False, False, False, False, False, False, False,\n",
      "                   False, False, False, False, False, False, False, False,\n",
      "                   False, False],\n",
      "       fill_value='?',\n",
      "            dtype=object), 'params': [{'max_features': 1, 'n_estimators': 20}, {'max_features': 1, 'n_estimators': 30}, {'max_features': 1, 'n_estimators': 40}, {'max_features': 3, 'n_estimators': 20}, {'max_features': 3, 'n_estimators': 30}, {'max_features': 3, 'n_estimators': 40}, {'max_features': 5, 'n_estimators': 20}, {'max_features': 5, 'n_estimators': 30}, {'max_features': 5, 'n_estimators': 40}, {'max_features': 7, 'n_estimators': 20}, {'max_features': 7, 'n_estimators': 30}, {'max_features': 7, 'n_estimators': 40}, {'max_features': 9, 'n_estimators': 20}, {'max_features': 9, 'n_estimators': 30}, {'max_features': 9, 'n_estimators': 40}, {'max_features': 12, 'n_estimators': 20}, {'max_features': 12, 'n_estimators': 30}, {'max_features': 12, 'n_estimators': 40}], 'split0_test_score': array([0.72972973, 0.76801802, 0.80630631, 0.78828829, 0.80855856,\n",
      "       0.83558559, 0.80855856, 0.82432432, 0.84234234, 0.78378378,\n",
      "       0.8018018 , 0.82432432, 0.79954955, 0.82207207, 0.83108108,\n",
      "       0.81306306, 0.81756757, 0.83783784]), 'split1_test_score': array([0.71846847, 0.76126126, 0.79954955, 0.76351351, 0.79279279,\n",
      "       0.80630631, 0.79279279, 0.81081081, 0.81306306, 0.79954955,\n",
      "       0.82207207, 0.84009009, 0.81981982, 0.82657658, 0.83333333,\n",
      "       0.81081081, 0.83108108, 0.82657658]), 'split2_test_score': array([0.74774775, 0.80855856, 0.82207207, 0.8018018 , 0.82657658,\n",
      "       0.84684685, 0.81756757, 0.8536036 , 0.8536036 , 0.81306306,\n",
      "       0.82657658, 0.83558559, 0.7972973 , 0.80630631, 0.83558559,\n",
      "       0.82207207, 0.85135135, 0.8536036 ]), 'split3_test_score': array([0.78781038, 0.81489842, 0.82844244, 0.79458239, 0.82392777,\n",
      "       0.84424379, 0.84198646, 0.85553047, 0.86004515, 0.83972912,\n",
      "       0.8510158 , 0.86004515, 0.80586907, 0.83069977, 0.83972912,\n",
      "       0.84198646, 0.84424379, 0.84650113]), 'mean_test_score': array([0.74593908, 0.78818406, 0.81409259, 0.7870465 , 0.81296392,\n",
      "       0.83324563, 0.81522634, 0.8360673 , 0.84226354, 0.80903138,\n",
      "       0.82536656, 0.84001129, 0.80563394, 0.82141368, 0.83493228,\n",
      "       0.8219831 , 0.83606095, 0.84112979]), 'std_test_score': array([0.0263337 , 0.02377122, 0.0116374 , 0.01440358, 0.01352583,\n",
      "       0.01610245, 0.01781368, 0.01911887, 0.01801011, 0.02053017,\n",
      "       0.01750357, 0.01291346, 0.00877231, 0.00924058, 0.00319472,\n",
      "       0.01229359, 0.01291859, 0.01008812]), 'rank_test_score': array([18, 16, 12, 17, 13,  7, 11,  4,  1, 14,  8,  3, 15, 10,  6,  9,  5,\n",
      "        2], dtype=int32), 'split0_train_score': array([0.99398948, 0.99398948, 0.99398948, 0.99398948, 0.99398948,\n",
      "       0.99398948, 0.99398948, 0.99398948, 0.99398948, 0.99398948,\n",
      "       0.99398948, 0.99398948, 0.99398948, 0.99398948, 0.99398948,\n",
      "       0.99398948, 0.99398948, 0.99398948]), 'split1_train_score': array([0.99398948, 0.99398948, 0.99398948, 0.99398948, 0.99398948,\n",
      "       0.99398948, 0.99398948, 0.99398948, 0.99398948, 0.99398948,\n",
      "       0.99398948, 0.99398948, 0.99398948, 0.99398948, 0.99398948,\n",
      "       0.99398948, 0.99398948, 0.99398948]), 'split2_train_score': array([0.99398948, 0.99398948, 0.99398948, 0.99398948, 0.99398948,\n",
      "       0.99398948, 0.99398948, 0.99398948, 0.99398948, 0.99398948,\n",
      "       0.99398948, 0.99398948, 0.99398948, 0.99398948, 0.99398948,\n",
      "       0.99398948, 0.99398948, 0.99398948]), 'split3_train_score': array([0.99324324, 0.99324324, 0.99324324, 0.99324324, 0.99324324,\n",
      "       0.99324324, 0.99324324, 0.99324324, 0.99324324, 0.99324324,\n",
      "       0.99324324, 0.99324324, 0.99324324, 0.99324324, 0.99324324,\n",
      "       0.99324324, 0.99324324, 0.99324324]), 'mean_train_score': array([0.99380292, 0.99380292, 0.99380292, 0.99380292, 0.99380292,\n",
      "       0.99380292, 0.99380292, 0.99380292, 0.99380292, 0.99380292,\n",
      "       0.99380292, 0.99380292, 0.99380292, 0.99380292, 0.99380292,\n",
      "       0.99380292, 0.99380292, 0.99380292]), 'std_train_score': array([0.00032313, 0.00032313, 0.00032313, 0.00032313, 0.00032313,\n",
      "       0.00032313, 0.00032313, 0.00032313, 0.00032313, 0.00032313,\n",
      "       0.00032313, 0.00032313, 0.00032313, 0.00032313, 0.00032313,\n",
      "       0.00032313, 0.00032313, 0.00032313])}\n"
     ]
    },
    {
     "data": {
      "text/plain": "<Figure size 432x288 with 2 Axes>",
      "image/png": "[encoded data removed]"
     },
     "metadata": {
      "needs_background": "light"
     },
     "output_type": "display_data"
    }
   ],
   "source": [
    "\n",
    "graph_grid_search_random_forest(grid_search)"
   ],
   "metadata": {
    "collapsed": false,
    "pycharm": {
     "name": "#%%\n"
    }
   }
  },
  {
   "cell_type": "code",
   "execution_count": 8,
   "outputs": [
    {
     "name": "stdout",
     "output_type": "stream",
     "text": [
      "Best n_estimators: 100\n",
      "Best max_features: 3\n",
      "Accuracy:  0.8581081081081081\n"
     ]
    }
   ],
   "source": [
    "np.random.seed(42)\n",
    "\n",
    "n_estimators = np.linspace(30, 100, 3, dtype=int)\n",
    "max_features = np.linspace(3, 16, 6, dtype=int)\n",
    "\n",
    "grid_search_t2 = grid_search_random_forest(n_estimators, max_features, X_train)"
   ],
   "metadata": {
    "collapsed": false,
    "pycharm": {
     "name": "#%%\n"
    }
   }
  },
  {
   "cell_type": "code",
   "execution_count": 9,
   "outputs": [
    {
     "name": "stderr",
     "output_type": "stream",
     "text": [
      "No artists with labels found to put in legend.  Note that artists whose label start with an underscore are ignored when legend() is called with no argument.\n"
     ]
    },
    {
     "name": "stdout",
     "output_type": "stream",
     "text": [
      "{'mean_fit_time': array([0.06055748, 0.14654946, 0.18804193, 0.0628078 , 0.13828421,\n",
      "       0.20972067, 0.08067131, 0.16210324, 0.24966496, 0.08707929,\n",
      "       0.18384796, 0.27751732, 0.09280497, 0.21048427, 0.32091427,\n",
      "       0.10647017, 0.23119074, 0.36182684]), 'std_fit_time': array([0.00317391, 0.03162527, 0.00699937, 0.00127062, 0.00428157,\n",
      "       0.00151314, 0.00230547, 0.0009734 , 0.00469132, 0.00408342,\n",
      "       0.00362789, 0.00219144, 0.00081921, 0.00390728, 0.00482571,\n",
      "       0.00232869, 0.00279473, 0.00377933]), 'mean_score_time': array([0.00495529, 0.01113856, 0.01305455, 0.00493979, 0.0093326 ,\n",
      "       0.01385677, 0.00466543, 0.0098145 , 0.01374769, 0.00433725,\n",
      "       0.00935847, 0.01435274, 0.00488156, 0.00835854, 0.01253247,\n",
      "       0.00434679, 0.00834852, 0.01293433]), 'std_score_time': array([0.00042789, 0.00201633, 0.00018292, 0.00050118, 0.00074098,\n",
      "       0.00061587, 0.00085877, 0.00122533, 0.0010847 , 0.00033784,\n",
      "       0.00082918, 0.00121137, 0.00047561, 0.00019134, 0.00038824,\n",
      "       0.0002979 , 0.0002594 , 0.00060554]), 'param_max_features': masked_array(data=[3, 3, 3, 5, 5, 5, 8, 8, 8, 10, 10, 10, 13, 13, 13, 16,\n",
      "                   16, 16],\n",
      "             mask=[False, False, False, False, False, False, False, False,\n",
      "                   False, False, False, False, False, False, False, False,\n",
      "                   False, False],\n",
      "       fill_value='?',\n",
      "            dtype=object), 'param_n_estimators': masked_array(data=[30, 65, 100, 30, 65, 100, 30, 65, 100, 30, 65, 100, 30,\n",
      "                   65, 100, 30, 65, 100],\n",
      "             mask=[False, False, False, False, False, False, False, False,\n",
      "                   False, False, False, False, False, False, False, False,\n",
      "                   False, False],\n",
      "       fill_value='?',\n",
      "            dtype=object), 'params': [{'max_features': 3, 'n_estimators': 30}, {'max_features': 3, 'n_estimators': 65}, {'max_features': 3, 'n_estimators': 100}, {'max_features': 5, 'n_estimators': 30}, {'max_features': 5, 'n_estimators': 65}, {'max_features': 5, 'n_estimators': 100}, {'max_features': 8, 'n_estimators': 30}, {'max_features': 8, 'n_estimators': 65}, {'max_features': 8, 'n_estimators': 100}, {'max_features': 10, 'n_estimators': 30}, {'max_features': 10, 'n_estimators': 65}, {'max_features': 10, 'n_estimators': 100}, {'max_features': 13, 'n_estimators': 30}, {'max_features': 13, 'n_estimators': 65}, {'max_features': 13, 'n_estimators': 100}, {'max_features': 16, 'n_estimators': 30}, {'max_features': 16, 'n_estimators': 65}, {'max_features': 16, 'n_estimators': 100}], 'split0_test_score': array([0.80855856, 0.86036036, 0.87837838, 0.82432432, 0.84684685,\n",
      "       0.86261261, 0.81981982, 0.86486486, 0.87162162, 0.82657658,\n",
      "       0.84234234, 0.86261261, 0.83333333, 0.84009009, 0.85585586,\n",
      "       0.81306306, 0.84459459, 0.84684685]), 'split1_test_score': array([0.79279279, 0.84684685, 0.86936937, 0.81081081, 0.82882883,\n",
      "       0.83783784, 0.8018018 , 0.83558559, 0.85135135, 0.81756757,\n",
      "       0.84009009, 0.83783784, 0.79954955, 0.84234234, 0.8490991 ,\n",
      "       0.81306306, 0.82432432, 0.84009009]), 'split2_test_score': array([0.82657658, 0.88288288, 0.88513514, 0.8536036 , 0.88063063,\n",
      "       0.88063063, 0.8490991 , 0.88513514, 0.88288288, 0.83108108,\n",
      "       0.85810811, 0.87162162, 0.81756757, 0.8490991 , 0.85810811,\n",
      "       0.82882883, 0.85585586, 0.86036036]), 'split3_test_score': array([0.82392777, 0.86455982, 0.86907449, 0.85553047, 0.86907449,\n",
      "       0.88036117, 0.84198646, 0.86907449, 0.88713318, 0.84875847,\n",
      "       0.86455982, 0.8758465 , 0.80586907, 0.83069977, 0.84198646,\n",
      "       0.81715576, 0.84424379, 0.84650113]), 'mean_test_score': array([0.81296392, 0.86366248, 0.87548934, 0.8360673 , 0.8563452 ,\n",
      "       0.86536056, 0.82817679, 0.86366502, 0.87324726, 0.83099592,\n",
      "       0.85127509, 0.86197964, 0.81407988, 0.84055783, 0.85126238,\n",
      "       0.81802768, 0.84225464, 0.84844961]), 'std_test_score': array([0.01352583, 0.01288312, 0.00670806, 0.01911887, 0.01999491,\n",
      "       0.01748746, 0.01866768, 0.0178894 , 0.01385404, 0.01135084,\n",
      "       0.01034495, 0.01473503, 0.01285892, 0.00658669, 0.00629854,\n",
      "       0.006456  , 0.01135695, 0.00738432]), 'rank_test_score': array([18,  5,  1, 13,  7,  3, 15,  4,  2, 14,  8,  6, 17, 12,  9, 16, 11,\n",
      "       10], dtype=int32), 'split0_train_score': array([0.99398948, 0.99398948, 0.99398948, 0.99398948, 0.99398948,\n",
      "       0.99398948, 0.99398948, 0.99398948, 0.99398948, 0.99398948,\n",
      "       0.99398948, 0.99398948, 0.99398948, 0.99398948, 0.99398948,\n",
      "       0.99398948, 0.99398948, 0.99398948]), 'split1_train_score': array([0.99398948, 0.99398948, 0.99398948, 0.99398948, 0.99398948,\n",
      "       0.99398948, 0.99398948, 0.99398948, 0.99398948, 0.99398948,\n",
      "       0.99398948, 0.99398948, 0.99398948, 0.99398948, 0.99398948,\n",
      "       0.99398948, 0.99398948, 0.99398948]), 'split2_train_score': array([0.99398948, 0.99398948, 0.99398948, 0.99398948, 0.99398948,\n",
      "       0.99398948, 0.99398948, 0.99398948, 0.99398948, 0.99398948,\n",
      "       0.99398948, 0.99398948, 0.99398948, 0.99398948, 0.99398948,\n",
      "       0.99398948, 0.99398948, 0.99398948]), 'split3_train_score': array([0.99324324, 0.99324324, 0.99324324, 0.99324324, 0.99324324,\n",
      "       0.99324324, 0.99324324, 0.99324324, 0.99324324, 0.99324324,\n",
      "       0.99324324, 0.99324324, 0.99324324, 0.99324324, 0.99324324,\n",
      "       0.99324324, 0.99324324, 0.99324324]), 'mean_train_score': array([0.99380292, 0.99380292, 0.99380292, 0.99380292, 0.99380292,\n",
      "       0.99380292, 0.99380292, 0.99380292, 0.99380292, 0.99380292,\n",
      "       0.99380292, 0.99380292, 0.99380292, 0.99380292, 0.99380292,\n",
      "       0.99380292, 0.99380292, 0.99380292]), 'std_train_score': array([0.00032313, 0.00032313, 0.00032313, 0.00032313, 0.00032313,\n",
      "       0.00032313, 0.00032313, 0.00032313, 0.00032313, 0.00032313,\n",
      "       0.00032313, 0.00032313, 0.00032313, 0.00032313, 0.00032313,\n",
      "       0.00032313, 0.00032313, 0.00032313])}\n"
     ]
    },
    {
     "data": {
      "text/plain": "<Figure size 432x288 with 2 Axes>",
      "image/png": "[encoded data removed]"
     },
     "metadata": {
      "needs_background": "light"
     },
     "output_type": "display_data"
    }
   ],
   "source": [
    "\n",
    "graph_grid_search_random_forest(grid_search_t2)\n"
   ],
   "metadata": {
    "collapsed": false,
    "pycharm": {
     "name": "#%%\n"
    }
   }
  },
  {
   "cell_type": "code",
   "execution_count": 10,
   "outputs": [
    {
     "name": "stdout",
     "output_type": "stream",
     "text": [
      "Best n_estimators: 500\n",
      "Best max_features: 5\n",
      "Accuracy:  0.8918918918918919\n"
     ]
    }
   ],
   "source": [
    "np.random.seed(42)\n",
    "\n",
    "n_estimators = np.linspace(100, 600, 6, dtype=int)\n",
    "max_features = np.linspace(1, 10, 10, dtype=int)\n",
    "\n",
    "grid_search_t3 = grid_search_random_forest(n_estimators, max_features, X_train)"
   ],
   "metadata": {
    "collapsed": false,
    "pycharm": {
     "name": "#%%\n"
    }
   }
  },
  {
   "cell_type": "code",
   "execution_count": 17,
   "outputs": [
    {
     "name": "stderr",
     "output_type": "stream",
     "text": [
      "No artists with labels found to put in legend.  Note that artists whose label start with an underscore are ignored when legend() is called with no argument.\n"
     ]
    },
    {
     "name": "stdout",
     "output_type": "stream",
     "text": [
      "{'mean_fit_time': array([0.19541281, 0.34704912, 0.51268709, 0.76099986, 0.92693728,\n",
      "       1.00647676, 0.18754828, 0.38010979, 0.7116431 , 0.91138792,\n",
      "       1.01773214, 1.21546614, 0.21837491, 0.4277792 , 0.6241262 ,\n",
      "       0.83479655, 1.02871519, 1.2344414 , 0.22353137, 0.44594651,\n",
      "       0.67288232, 0.900096  , 1.11692202, 1.34805197, 0.24077833,\n",
      "       0.46217877, 0.7071687 , 0.915766  , 1.18091309, 1.41573322,\n",
      "       0.25979078, 0.52299958, 0.7549808 , 1.01396877, 1.32168972,\n",
      "       1.54410827, 0.27591521, 0.54587322, 0.83742213, 1.11897123,\n",
      "       1.38302302, 1.64673185, 0.29241014, 0.58453351, 0.86675876,\n",
      "       1.15597045, 1.44294536, 1.74689221, 0.30807871, 0.61319649,\n",
      "       0.91609246, 1.21601152, 1.52747577, 1.86807573, 0.34579575,\n",
      "       0.64378572, 0.95990473, 1.34092599, 1.60565102, 2.010427  ]), 'std_fit_time': array([0.02643102, 0.00434695, 0.01932245, 0.078973  , 0.03503546,\n",
      "       0.03245722, 0.00320505, 0.00976533, 0.25015524, 0.11746726,\n",
      "       0.01876355, 0.03625336, 0.0053378 , 0.00527648, 0.01481019,\n",
      "       0.01653161, 0.00610086, 0.01311733, 0.00346432, 0.00686764,\n",
      "       0.00667653, 0.0114741 , 0.00701185, 0.01385024, 0.00451309,\n",
      "       0.00614424, 0.00966024, 0.0088918 , 0.02384087, 0.01313636,\n",
      "       0.00310368, 0.01886103, 0.02109693, 0.00935242, 0.04800126,\n",
      "       0.0026559 , 0.00376376, 0.00415305, 0.0178123 , 0.01969636,\n",
      "       0.00918192, 0.00815793, 0.00110139, 0.00426214, 0.00334438,\n",
      "       0.01128374, 0.01369225, 0.00693283, 0.00346618, 0.0016747 ,\n",
      "       0.00368339, 0.01037427, 0.01619686, 0.04548315, 0.01286983,\n",
      "       0.00477024, 0.01466277, 0.05112704, 0.00538828, 0.02621495]), 'mean_score_time': array([0.01768225, 0.0305481 , 0.06015891, 0.06345421, 0.08070552,\n",
      "       0.09838009, 0.01695973, 0.03254837, 0.049591  , 0.06590551,\n",
      "       0.08161807, 0.09845352, 0.0169149 , 0.03432268, 0.04811585,\n",
      "       0.06411099, 0.08067876, 0.09346795, 0.01657778, 0.03292435,\n",
      "       0.04774129, 0.06198937, 0.07737797, 0.10777992, 0.01647598,\n",
      "       0.03211081, 0.0477581 , 0.06148744, 0.07822472, 0.09432852,\n",
      "       0.01628679, 0.03220129, 0.04537654, 0.06188488, 0.08618522,\n",
      "       0.09088051, 0.0166989 , 0.0327388 , 0.04633749, 0.06286085,\n",
      "       0.07678527, 0.09213406, 0.01778013, 0.0326668 , 0.04731345,\n",
      "       0.06241781, 0.0926587 , 0.09166205, 0.01649559, 0.03264803,\n",
      "       0.04693025, 0.06221616, 0.07629365, 0.09074336, 0.01688975,\n",
      "       0.0318988 , 0.0463655 , 0.06378168, 0.07415557, 0.10019279]), 'std_score_time': array([0.00453074, 0.00155051, 0.02435983, 0.00613148, 0.00261269,\n",
      "       0.00645764, 0.00179089, 0.00265779, 0.00212274, 0.00269677,\n",
      "       0.00085559, 0.00220451, 0.00115404, 0.00249958, 0.00044944,\n",
      "       0.00082345, 0.00440043, 0.00066465, 0.00176204, 0.00036542,\n",
      "       0.0007386 , 0.00085653, 0.0006595 , 0.02569038, 0.00112103,\n",
      "       0.00158897, 0.00124485, 0.00133022, 0.00173974, 0.00293655,\n",
      "       0.00088701, 0.00094529, 0.0032785 , 0.00078175, 0.01146723,\n",
      "       0.00091932, 0.00134057, 0.00061683, 0.00150951, 0.00054417,\n",
      "       0.00082471, 0.00068612, 0.00128354, 0.00060988, 0.00048325,\n",
      "       0.00086497, 0.02681481, 0.00182551, 0.0010431 , 0.00043614,\n",
      "       0.00090906, 0.00085815, 0.00071156, 0.00321832, 0.00189143,\n",
      "       0.00115126, 0.00082486, 0.00674366, 0.00029731, 0.01482221]), 'param_max_features': masked_array(data=[1, 1, 1, 1, 1, 1, 2, 2, 2, 2, 2, 2, 3, 3, 3, 3, 3, 3,\n",
      "                   4, 4, 4, 4, 4, 4, 5, 5, 5, 5, 5, 5, 6, 6, 6, 6, 6, 6,\n",
      "                   7, 7, 7, 7, 7, 7, 8, 8, 8, 8, 8, 8, 9, 9, 9, 9, 9, 9,\n",
      "                   10, 10, 10, 10, 10, 10],\n",
      "             mask=[False, False, False, False, False, False, False, False,\n",
      "                   False, False, False, False, False, False, False, False,\n",
      "                   False, False, False, False, False, False, False, False,\n",
      "                   False, False, False, False, False, False, False, False,\n",
      "                   False, False, False, False, False, False, False, False,\n",
      "                   False, False, False, False, False, False, False, False,\n",
      "                   False, False, False, False, False, False, False, False,\n",
      "                   False, False, False, False],\n",
      "       fill_value='?',\n",
      "            dtype=object), 'param_n_estimators': masked_array(data=[100, 200, 300, 400, 500, 600, 100, 200, 300, 400, 500,\n",
      "                   600, 100, 200, 300, 400, 500, 600, 100, 200, 300, 400,\n",
      "                   500, 600, 100, 200, 300, 400, 500, 600, 100, 200, 300,\n",
      "                   400, 500, 600, 100, 200, 300, 400, 500, 600, 100, 200,\n",
      "                   300, 400, 500, 600, 100, 200, 300, 400, 500, 600, 100,\n",
      "                   200, 300, 400, 500, 600],\n",
      "             mask=[False, False, False, False, False, False, False, False,\n",
      "                   False, False, False, False, False, False, False, False,\n",
      "                   False, False, False, False, False, False, False, False,\n",
      "                   False, False, False, False, False, False, False, False,\n",
      "                   False, False, False, False, False, False, False, False,\n",
      "                   False, False, False, False, False, False, False, False,\n",
      "                   False, False, False, False, False, False, False, False,\n",
      "                   False, False, False, False],\n",
      "       fill_value='?',\n",
      "            dtype=object), 'params': [{'max_features': 1, 'n_estimators': 100}, {'max_features': 1, 'n_estimators': 200}, {'max_features': 1, 'n_estimators': 300}, {'max_features': 1, 'n_estimators': 400}, {'max_features': 1, 'n_estimators': 500}, {'max_features': 1, 'n_estimators': 600}, {'max_features': 2, 'n_estimators': 100}, {'max_features': 2, 'n_estimators': 200}, {'max_features': 2, 'n_estimators': 300}, {'max_features': 2, 'n_estimators': 400}, {'max_features': 2, 'n_estimators': 500}, {'max_features': 2, 'n_estimators': 600}, {'max_features': 3, 'n_estimators': 100}, {'max_features': 3, 'n_estimators': 200}, {'max_features': 3, 'n_estimators': 300}, {'max_features': 3, 'n_estimators': 400}, {'max_features': 3, 'n_estimators': 500}, {'max_features': 3, 'n_estimators': 600}, {'max_features': 4, 'n_estimators': 100}, {'max_features': 4, 'n_estimators': 200}, {'max_features': 4, 'n_estimators': 300}, {'max_features': 4, 'n_estimators': 400}, {'max_features': 4, 'n_estimators': 500}, {'max_features': 4, 'n_estimators': 600}, {'max_features': 5, 'n_estimators': 100}, {'max_features': 5, 'n_estimators': 200}, {'max_features': 5, 'n_estimators': 300}, {'max_features': 5, 'n_estimators': 400}, {'max_features': 5, 'n_estimators': 500}, {'max_features': 5, 'n_estimators': 600}, {'max_features': 6, 'n_estimators': 100}, {'max_features': 6, 'n_estimators': 200}, {'max_features': 6, 'n_estimators': 300}, {'max_features': 6, 'n_estimators': 400}, {'max_features': 6, 'n_estimators': 500}, {'max_features': 6, 'n_estimators': 600}, {'max_features': 7, 'n_estimators': 100}, {'max_features': 7, 'n_estimators': 200}, {'max_features': 7, 'n_estimators': 300}, {'max_features': 7, 'n_estimators': 400}, {'max_features': 7, 'n_estimators': 500}, {'max_features': 7, 'n_estimators': 600}, {'max_features': 8, 'n_estimators': 100}, {'max_features': 8, 'n_estimators': 200}, {'max_features': 8, 'n_estimators': 300}, {'max_features': 8, 'n_estimators': 400}, {'max_features': 8, 'n_estimators': 500}, {'max_features': 8, 'n_estimators': 600}, {'max_features': 9, 'n_estimators': 100}, {'max_features': 9, 'n_estimators': 200}, {'max_features': 9, 'n_estimators': 300}, {'max_features': 9, 'n_estimators': 400}, {'max_features': 9, 'n_estimators': 500}, {'max_features': 9, 'n_estimators': 600}, {'max_features': 10, 'n_estimators': 100}, {'max_features': 10, 'n_estimators': 200}, {'max_features': 10, 'n_estimators': 300}, {'max_features': 10, 'n_estimators': 400}, {'max_features': 10, 'n_estimators': 500}, {'max_features': 10, 'n_estimators': 600}], 'split0_test_score': array([0.8490991 , 0.85810811, 0.86036036, 0.86036036, 0.85810811,\n",
      "       0.87162162, 0.8490991 , 0.86486486, 0.86936937, 0.86711712,\n",
      "       0.86486486, 0.87387387, 0.87837838, 0.88288288, 0.87612613,\n",
      "       0.87612613, 0.87612613, 0.87612613, 0.86711712, 0.87612613,\n",
      "       0.87612613, 0.87162162, 0.87612613, 0.87837838, 0.86261261,\n",
      "       0.85810811, 0.85810811, 0.87387387, 0.87837838, 0.87612613,\n",
      "       0.86036036, 0.86936937, 0.86936937, 0.87162162, 0.86936937,\n",
      "       0.87162162, 0.8490991 , 0.85810811, 0.86711712, 0.86936937,\n",
      "       0.87162162, 0.86936937, 0.87162162, 0.86036036, 0.86936937,\n",
      "       0.86486486, 0.86486486, 0.86711712, 0.84684685, 0.86936937,\n",
      "       0.87162162, 0.86936937, 0.87837838, 0.87612613, 0.86261261,\n",
      "       0.86036036, 0.86261261, 0.85585586, 0.86036036, 0.86261261]), 'split1_test_score': array([0.84459459, 0.86261261, 0.86711712, 0.87612613, 0.87162162,\n",
      "       0.87612613, 0.86036036, 0.86486486, 0.86711712, 0.86936937,\n",
      "       0.86711712, 0.86486486, 0.86936937, 0.88063063, 0.87162162,\n",
      "       0.87162162, 0.86936937, 0.87387387, 0.86486486, 0.87162162,\n",
      "       0.88513514, 0.88288288, 0.88288288, 0.88288288, 0.83783784,\n",
      "       0.8536036 , 0.86261261, 0.86936937, 0.87837838, 0.87162162,\n",
      "       0.84684685, 0.86936937, 0.86936937, 0.86711712, 0.86036036,\n",
      "       0.87162162, 0.85810811, 0.86711712, 0.86036036, 0.87837838,\n",
      "       0.87837838, 0.87612613, 0.85135135, 0.86486486, 0.86486486,\n",
      "       0.86711712, 0.86936937, 0.87162162, 0.86036036, 0.85135135,\n",
      "       0.85135135, 0.86711712, 0.86711712, 0.86261261, 0.83783784,\n",
      "       0.85810811, 0.85135135, 0.86036036, 0.86036036, 0.86486486]), 'split2_test_score': array([0.86261261, 0.86711712, 0.87612613, 0.88738739, 0.89189189,\n",
      "       0.89189189, 0.88063063, 0.87387387, 0.89414414, 0.90540541,\n",
      "       0.90315315, 0.90540541, 0.88513514, 0.89189189, 0.88738739,\n",
      "       0.88288288, 0.89414414, 0.89189189, 0.85810811, 0.87837838,\n",
      "       0.88288288, 0.88738739, 0.88063063, 0.88513514, 0.88063063,\n",
      "       0.89414414, 0.88513514, 0.88963964, 0.89189189, 0.88738739,\n",
      "       0.87387387, 0.87162162, 0.87837838, 0.88063063, 0.88063063,\n",
      "       0.88738739, 0.87387387, 0.87387387, 0.88063063, 0.88288288,\n",
      "       0.88063063, 0.88963964, 0.88288288, 0.88063063, 0.88063063,\n",
      "       0.88513514, 0.88963964, 0.89189189, 0.86711712, 0.86711712,\n",
      "       0.87612613, 0.88513514, 0.87837838, 0.87837838, 0.87162162,\n",
      "       0.87162162, 0.88288288, 0.87837838, 0.87837838, 0.88063063]), 'split3_test_score': array([0.86230248, 0.88261851, 0.87358916, 0.88261851, 0.87810384,\n",
      "       0.87810384, 0.86004515, 0.88261851, 0.88261851, 0.88713318,\n",
      "       0.88939052, 0.88487585, 0.86907449, 0.88713318, 0.88713318,\n",
      "       0.89164786, 0.88487585, 0.89164786, 0.87358916, 0.88939052,\n",
      "       0.89616253, 0.89841986, 0.89390519, 0.89841986, 0.88036117,\n",
      "       0.90744921, 0.89616253, 0.89616253, 0.89841986, 0.89841986,\n",
      "       0.88487585, 0.89390519, 0.89616253, 0.89390519, 0.89164786,\n",
      "       0.89390519, 0.88487585, 0.88036117, 0.88261851, 0.89616253,\n",
      "       0.89841986, 0.89164786, 0.88713318, 0.87358916, 0.87133183,\n",
      "       0.88487585, 0.88261851, 0.88261851, 0.85553047, 0.87358916,\n",
      "       0.86681716, 0.8758465 , 0.87810384, 0.87133183, 0.8758465 ,\n",
      "       0.88487585, 0.87810384, 0.88487585, 0.88487585, 0.88487585]), 'mean_test_score': array([0.8546522 , 0.86761409, 0.86929819, 0.8766231 , 0.87493136,\n",
      "       0.87943587, 0.86253381, 0.87155553, 0.87831229, 0.88225627,\n",
      "       0.88113141, 0.882255  , 0.87548934, 0.88563465, 0.88056708,\n",
      "       0.88056962, 0.88112887, 0.88338494, 0.86591981, 0.87887916,\n",
      "       0.88507667, 0.88507794, 0.88338621, 0.88620407, 0.86536056,\n",
      "       0.87832627, 0.8755046 , 0.88226135, 0.88676713, 0.88338875,\n",
      "       0.86648923, 0.87606639, 0.87831991, 0.87831864, 0.87550205,\n",
      "       0.88113396, 0.86648923, 0.86986507, 0.87268165, 0.88169829,\n",
      "       0.88226262, 0.88169575, 0.87324726, 0.86986126, 0.87154917,\n",
      "       0.87549824, 0.8766231 , 0.87831229, 0.8574637 , 0.86535675,\n",
      "       0.86647906, 0.87436703, 0.87549443, 0.87211224, 0.86197964,\n",
      "       0.86874148, 0.86873767, 0.86986761, 0.87099374, 0.87324599]), 'std_test_score': array([0.00796692, 0.00922982, 0.00611709, 0.01020464, 0.01216245,\n",
      "       0.00756544, 0.01138973, 0.00737045, 0.0108915 , 0.01545099,\n",
      "       0.01592303, 0.01512837, 0.00670806, 0.00430149, 0.00688065,\n",
      "       0.00754801, 0.00931062, 0.0084231 , 0.00553146, 0.00653817,\n",
      "       0.00720806, 0.0096077 , 0.00654225, 0.00746056, 0.01748746,\n",
      "       0.02301269, 0.01571893, 0.01100267, 0.00870046, 0.01040594,\n",
      "       0.01428274, 0.0103402 , 0.01093831, 0.01022998, 0.01176722,\n",
      "       0.00978748, 0.01383167, 0.00824646, 0.00928313, 0.0096649 ,\n",
      "       0.00989998, 0.00928857, 0.01385404, 0.00782796, 0.00574351,\n",
      "       0.00954098, 0.00995299, 0.0096572 , 0.00738299, 0.00841314,\n",
      "       0.00933373, 0.00699426, 0.00483794, 0.00604623, 0.01473503,\n",
      "       0.01062926, 0.0125261 , 0.01208716, 0.01087869, 0.00965788]), 'rank_test_score': array([60, 50, 47, 27, 35, 20, 57, 41, 25, 11, 16, 12, 34,  3, 19, 18, 17,\n",
      "        8, 54, 21,  5,  4,  7,  2, 55, 22, 30, 10,  1,  6, 51, 29, 23, 24,\n",
      "       31, 15, 51, 45, 39, 13,  9, 14, 37, 46, 42, 32, 27, 25, 59, 56, 53,\n",
      "       36, 33, 40, 58, 48, 49, 44, 43, 38], dtype=int32), 'split0_train_score': array([0.99398948, 0.99398948, 0.99398948, 0.99398948, 0.99398948,\n",
      "       0.99398948, 0.99398948, 0.99398948, 0.99398948, 0.99398948,\n",
      "       0.99398948, 0.99398948, 0.99398948, 0.99398948, 0.99398948,\n",
      "       0.99398948, 0.99398948, 0.99398948, 0.99398948, 0.99398948,\n",
      "       0.99398948, 0.99398948, 0.99398948, 0.99398948, 0.99398948,\n",
      "       0.99398948, 0.99398948, 0.99398948, 0.99398948, 0.99398948,\n",
      "       0.99398948, 0.99398948, 0.99398948, 0.99398948, 0.99398948,\n",
      "       0.99398948, 0.99398948, 0.99398948, 0.99398948, 0.99398948,\n",
      "       0.99398948, 0.99398948, 0.99398948, 0.99398948, 0.99398948,\n",
      "       0.99398948, 0.99398948, 0.99398948, 0.99398948, 0.99398948,\n",
      "       0.99398948, 0.99398948, 0.99398948, 0.99398948, 0.99398948,\n",
      "       0.99398948, 0.99398948, 0.99398948, 0.99398948, 0.99398948]), 'split1_train_score': array([0.99398948, 0.99398948, 0.99398948, 0.99398948, 0.99398948,\n",
      "       0.99398948, 0.99398948, 0.99398948, 0.99398948, 0.99398948,\n",
      "       0.99398948, 0.99398948, 0.99398948, 0.99398948, 0.99398948,\n",
      "       0.99398948, 0.99398948, 0.99398948, 0.99398948, 0.99398948,\n",
      "       0.99398948, 0.99398948, 0.99398948, 0.99398948, 0.99398948,\n",
      "       0.99398948, 0.99398948, 0.99398948, 0.99398948, 0.99398948,\n",
      "       0.99398948, 0.99398948, 0.99398948, 0.99398948, 0.99398948,\n",
      "       0.99398948, 0.99398948, 0.99398948, 0.99398948, 0.99398948,\n",
      "       0.99398948, 0.99398948, 0.99398948, 0.99398948, 0.99398948,\n",
      "       0.99398948, 0.99398948, 0.99398948, 0.99398948, 0.99398948,\n",
      "       0.99398948, 0.99398948, 0.99398948, 0.99398948, 0.99398948,\n",
      "       0.99398948, 0.99398948, 0.99398948, 0.99398948, 0.99398948]), 'split2_train_score': array([0.99398948, 0.99398948, 0.99398948, 0.99398948, 0.99398948,\n",
      "       0.99398948, 0.99398948, 0.99398948, 0.99398948, 0.99398948,\n",
      "       0.99398948, 0.99398948, 0.99398948, 0.99398948, 0.99398948,\n",
      "       0.99398948, 0.99398948, 0.99398948, 0.99398948, 0.99398948,\n",
      "       0.99398948, 0.99398948, 0.99398948, 0.99398948, 0.99398948,\n",
      "       0.99398948, 0.99398948, 0.99398948, 0.99398948, 0.99398948,\n",
      "       0.99398948, 0.99398948, 0.99398948, 0.99398948, 0.99398948,\n",
      "       0.99398948, 0.99398948, 0.99398948, 0.99398948, 0.99398948,\n",
      "       0.99398948, 0.99398948, 0.99398948, 0.99398948, 0.99398948,\n",
      "       0.99398948, 0.99398948, 0.99398948, 0.99398948, 0.99398948,\n",
      "       0.99398948, 0.99398948, 0.99398948, 0.99398948, 0.99398948,\n",
      "       0.99398948, 0.99398948, 0.99398948, 0.99398948, 0.99398948]), 'split3_train_score': array([0.99324324, 0.99324324, 0.99324324, 0.99324324, 0.99324324,\n",
      "       0.99324324, 0.99324324, 0.99324324, 0.99324324, 0.99324324,\n",
      "       0.99324324, 0.99324324, 0.99324324, 0.99324324, 0.99324324,\n",
      "       0.99324324, 0.99324324, 0.99324324, 0.99324324, 0.99324324,\n",
      "       0.99324324, 0.99324324, 0.99324324, 0.99324324, 0.99324324,\n",
      "       0.99324324, 0.99324324, 0.99324324, 0.99324324, 0.99324324,\n",
      "       0.99324324, 0.99324324, 0.99324324, 0.99324324, 0.99324324,\n",
      "       0.99324324, 0.99324324, 0.99324324, 0.99324324, 0.99324324,\n",
      "       0.99324324, 0.99324324, 0.99324324, 0.99324324, 0.99324324,\n",
      "       0.99324324, 0.99324324, 0.99324324, 0.99324324, 0.99324324,\n",
      "       0.99324324, 0.99324324, 0.99324324, 0.99324324, 0.99324324,\n",
      "       0.99324324, 0.99324324, 0.99324324, 0.99324324, 0.99324324]), 'mean_train_score': array([0.99380292, 0.99380292, 0.99380292, 0.99380292, 0.99380292,\n",
      "       0.99380292, 0.99380292, 0.99380292, 0.99380292, 0.99380292,\n",
      "       0.99380292, 0.99380292, 0.99380292, 0.99380292, 0.99380292,\n",
      "       0.99380292, 0.99380292, 0.99380292, 0.99380292, 0.99380292,\n",
      "       0.99380292, 0.99380292, 0.99380292, 0.99380292, 0.99380292,\n",
      "       0.99380292, 0.99380292, 0.99380292, 0.99380292, 0.99380292,\n",
      "       0.99380292, 0.99380292, 0.99380292, 0.99380292, 0.99380292,\n",
      "       0.99380292, 0.99380292, 0.99380292, 0.99380292, 0.99380292,\n",
      "       0.99380292, 0.99380292, 0.99380292, 0.99380292, 0.99380292,\n",
      "       0.99380292, 0.99380292, 0.99380292, 0.99380292, 0.99380292,\n",
      "       0.99380292, 0.99380292, 0.99380292, 0.99380292, 0.99380292,\n",
      "       0.99380292, 0.99380292, 0.99380292, 0.99380292, 0.99380292]), 'std_train_score': array([0.00032313, 0.00032313, 0.00032313, 0.00032313, 0.00032313,\n",
      "       0.00032313, 0.00032313, 0.00032313, 0.00032313, 0.00032313,\n",
      "       0.00032313, 0.00032313, 0.00032313, 0.00032313, 0.00032313,\n",
      "       0.00032313, 0.00032313, 0.00032313, 0.00032313, 0.00032313,\n",
      "       0.00032313, 0.00032313, 0.00032313, 0.00032313, 0.00032313,\n",
      "       0.00032313, 0.00032313, 0.00032313, 0.00032313, 0.00032313,\n",
      "       0.00032313, 0.00032313, 0.00032313, 0.00032313, 0.00032313,\n",
      "       0.00032313, 0.00032313, 0.00032313, 0.00032313, 0.00032313,\n",
      "       0.00032313, 0.00032313, 0.00032313, 0.00032313, 0.00032313,\n",
      "       0.00032313, 0.00032313, 0.00032313, 0.00032313, 0.00032313,\n",
      "       0.00032313, 0.00032313, 0.00032313, 0.00032313, 0.00032313,\n",
      "       0.00032313, 0.00032313, 0.00032313, 0.00032313, 0.00032313])}\n"
     ]
    },
    {
     "data": {
      "text/plain": "<Figure size 576x576 with 2 Axes>",
      "image/png": "[encoded data removed]"
     },
     "metadata": {
      "needs_background": "light"
     },
     "output_type": "display_data"
    }
   ],
   "source": [
    "\n",
    "graph_grid_search_random_forest(grid_search_t3)"
   ],
   "metadata": {
    "collapsed": false,
    "pycharm": {
     "name": "#%%\n"
    }
   }
  },
  {
   "cell_type": "code",
   "execution_count": 18,
   "outputs": [
    {
     "name": "stdout",
     "output_type": "stream",
     "text": [
      "Train:  0.9915492957746479\n",
      "Test:  0.8918918918918919\n"
     ]
    }
   ],
   "source": [
    "rf = RandomForestClassifier(max_features=5, n_estimators=500).fit(X_train, y_train)\n",
    "y_predictions = rf.predict(X_test)\n",
    "print(\"Train: \", rf.score(X_train, y_train))\n",
    "print(\"Test: \", rf.score(X_test, y_test))"
   ],
   "metadata": {
    "collapsed": false,
    "pycharm": {
     "name": "#%%\n"
    }
   }
  },
  {
   "cell_type": "markdown",
   "source": [
    "standard"
   ],
   "metadata": {
    "collapsed": false
   }
  },
  {
   "cell_type": "code",
   "execution_count": 5,
   "outputs": [
    {
     "name": "stdout",
     "output_type": "stream",
     "text": [
      "Best n_estimators: 500\n",
      "Best max_features: 5\n",
      "Accuracy:  0.3783783783783784\n"
     ]
    }
   ],
   "source": [
    "\n",
    "np.random.seed(42)\n",
    "\n",
    "n_estimators = np.linspace(100, 600, 6, dtype=int)\n",
    "max_features = np.linspace(1, 10, 10, dtype=int)\n",
    "\n",
    "grid_search_standard = grid_search_random_forest(n_estimators, max_features, X_train_standard)\n"
   ],
   "metadata": {
    "collapsed": false,
    "pycharm": {
     "name": "#%%\n"
    }
   }
  },
  {
   "cell_type": "code",
   "execution_count": 6,
   "outputs": [
    {
     "name": "stdout",
     "output_type": "stream",
     "text": [
      "0.9915492957746479\n",
      "0.8918918918918919\n"
     ]
    }
   ],
   "source": [
    "rf_standard = RandomForestClassifier(\n",
    "    n_estimators=grid_search_standard.best_params_['n_estimators'],\n",
    "    max_features=grid_search_standard.best_params_['max_features'],\n",
    ").fit(X_train_standard, y_train)\n",
    "print(rf_standard.score(X_train_standard, y_train))\n",
    "print(rf_standard.score(X_test_standard, y_test))"
   ],
   "metadata": {
    "collapsed": false,
    "pycharm": {
     "name": "#%%\n"
    }
   }
  },
  {
   "cell_type": "markdown",
   "source": [
    "robust"
   ],
   "metadata": {
    "collapsed": false
   }
  },
  {
   "cell_type": "code",
   "execution_count": 7,
   "outputs": [
    {
     "name": "stdout",
     "output_type": "stream",
     "text": [
      "Best n_estimators: 500\n",
      "Best max_features: 5\n",
      "Accuracy:  0.6148648648648649\n"
     ]
    }
   ],
   "source": [
    "\n",
    "np.random.seed(42)\n",
    "\n",
    "n_estimators = np.linspace(100, 600, 6, dtype=int)\n",
    "max_features = np.linspace(1, 10, 10, dtype=int)\n",
    "\n",
    "grid_search_robust = grid_search_random_forest(n_estimators, max_features, X_train_robust)"
   ],
   "metadata": {
    "collapsed": false,
    "pycharm": {
     "name": "#%%\n"
    }
   }
  },
  {
   "cell_type": "code",
   "execution_count": 8,
   "outputs": [
    {
     "name": "stdout",
     "output_type": "stream",
     "text": [
      "0.9915492957746479\n",
      "0.8918918918918919\n"
     ]
    }
   ],
   "source": [
    "\n",
    "\n",
    "rf_robust = RandomForestClassifier(\n",
    "    n_estimators=grid_search_robust.best_params_['n_estimators'],\n",
    "    max_features=grid_search_robust.best_params_['max_features'],\n",
    ").fit(X_train_robust, y_train)\n",
    "print(rf_robust.score(X_train_robust, y_train))\n",
    "print(rf_robust.score(X_test_robust, y_test))"
   ],
   "metadata": {
    "collapsed": false,
    "pycharm": {
     "name": "#%%\n"
    }
   }
  },
  {
   "cell_type": "markdown",
   "source": [
    "minmax"
   ],
   "metadata": {
    "collapsed": false
   }
  },
  {
   "cell_type": "code",
   "execution_count": 9,
   "outputs": [
    {
     "name": "stdout",
     "output_type": "stream",
     "text": [
      "Best n_estimators: 500\n",
      "Best max_features: 5\n",
      "Accuracy:  0.5968468468468469\n"
     ]
    }
   ],
   "source": [
    "\n",
    "np.random.seed(42)\n",
    "\n",
    "n_estimators = np.linspace(100, 600, 6, dtype=int)\n",
    "max_features = np.linspace(1, 10, 10, dtype=int)\n",
    "\n",
    "grid_search_minmax = grid_search_random_forest(n_estimators, max_features, X_train_minmax)\n"
   ],
   "metadata": {
    "collapsed": false,
    "pycharm": {
     "name": "#%%\n"
    }
   }
  },
  {
   "cell_type": "code",
   "execution_count": 10,
   "outputs": [
    {
     "name": "stdout",
     "output_type": "stream",
     "text": [
      "0.9915492957746479\n",
      "0.8918918918918919\n"
     ]
    }
   ],
   "source": [
    "\n",
    "rf_minmax = RandomForestClassifier(\n",
    "    n_estimators=grid_search_minmax.best_params_['n_estimators'],\n",
    "    max_features=grid_search_minmax.best_params_['max_features'],\n",
    ").fit(X_train_minmax, y_train)\n",
    "print(rf_minmax.score(X_train_minmax, y_train))\n",
    "print(rf_minmax.score(X_test_minmax, y_test))\n"
   ],
   "metadata": {
    "collapsed": false,
    "pycharm": {
     "name": "#%%\n"
    }
   }
  },
  {
   "cell_type": "markdown",
   "source": [
    "pca"
   ],
   "metadata": {
    "collapsed": false
   }
  },
  {
   "cell_type": "code",
   "execution_count": 11,
   "outputs": [
    {
     "name": "stdout",
     "output_type": "stream",
     "text": [
      "Best n_estimators: 600\n",
      "Best max_features: 3\n"
     ]
    },
    {
     "ename": "ValueError",
     "evalue": "X has 64 features, but RandomForestClassifier is expecting 56 features as input.",
     "output_type": "error",
     "traceback": [
      "\u001B[0;31m---------------------------------------------------------------------------\u001B[0m",
      "\u001B[0;31mValueError\u001B[0m                                Traceback (most recent call last)",
      "Input \u001B[0;32mIn [11]\u001B[0m, in \u001B[0;36m<module>\u001B[0;34m\u001B[0m\n\u001B[1;32m      3\u001B[0m n_estimators \u001B[38;5;241m=\u001B[39m np\u001B[38;5;241m.\u001B[39mlinspace(\u001B[38;5;241m100\u001B[39m, \u001B[38;5;241m600\u001B[39m, \u001B[38;5;241m6\u001B[39m, dtype\u001B[38;5;241m=\u001B[39m\u001B[38;5;28mint\u001B[39m)\n\u001B[1;32m      4\u001B[0m max_features \u001B[38;5;241m=\u001B[39m np\u001B[38;5;241m.\u001B[39mlinspace(\u001B[38;5;241m1\u001B[39m, \u001B[38;5;241m10\u001B[39m, \u001B[38;5;241m10\u001B[39m, dtype\u001B[38;5;241m=\u001B[39m\u001B[38;5;28mint\u001B[39m)\n\u001B[0;32m----> 6\u001B[0m grid_search_pca \u001B[38;5;241m=\u001B[39m \u001B[43mgrid_search_random_forest\u001B[49m\u001B[43m(\u001B[49m\u001B[43mn_estimators\u001B[49m\u001B[43m,\u001B[49m\u001B[43m \u001B[49m\u001B[43mmax_features\u001B[49m\u001B[43m,\u001B[49m\u001B[43m \u001B[49m\u001B[43mX_train_pca\u001B[49m\u001B[43m)\u001B[49m\n",
      "Input \u001B[0;32mIn [3]\u001B[0m, in \u001B[0;36mgrid_search_random_forest\u001B[0;34m(n_estimators, max_features, X_train_data, max_depth, max_leaf_nodes)\u001B[0m\n\u001B[1;32m     13\u001B[0m grid_search \u001B[38;5;241m=\u001B[39m GridSearchCV(\n\u001B[1;32m     14\u001B[0m     classifier,\n\u001B[1;32m     15\u001B[0m     parameters,\n\u001B[1;32m     16\u001B[0m     cv\u001B[38;5;241m=\u001B[39m\u001B[38;5;241m4\u001B[39m,\n\u001B[1;32m     17\u001B[0m     return_train_score\u001B[38;5;241m=\u001B[39m\u001B[38;5;28;01mTrue\u001B[39;00m,\n\u001B[1;32m     18\u001B[0m )\n\u001B[1;32m     20\u001B[0m grid_search\u001B[38;5;241m.\u001B[39mfit(X_train_data, y_train)\n\u001B[0;32m---> 21\u001B[0m \u001B[43mprint_grid_search_results\u001B[49m\u001B[43m(\u001B[49m\u001B[43mgrid_search\u001B[49m\u001B[43m,\u001B[49m\u001B[43m \u001B[49m\u001B[43mparameters\u001B[49m\u001B[43m)\u001B[49m\n\u001B[1;32m     22\u001B[0m \u001B[38;5;28;01mreturn\u001B[39;00m grid_search\n",
      "Input \u001B[0;32mIn [3]\u001B[0m, in \u001B[0;36mprint_grid_search_results\u001B[0;34m(grid_search, parameters)\u001B[0m\n\u001B[1;32m     26\u001B[0m \u001B[38;5;28;01mfor\u001B[39;00m parameter \u001B[38;5;129;01min\u001B[39;00m parameters:\n\u001B[1;32m     27\u001B[0m     \u001B[38;5;28mprint\u001B[39m(\u001B[38;5;124mf\u001B[39m\u001B[38;5;124m'\u001B[39m\u001B[38;5;124mBest \u001B[39m\u001B[38;5;132;01m{\u001B[39;00mparameter\u001B[38;5;132;01m}\u001B[39;00m\u001B[38;5;124m:\u001B[39m\u001B[38;5;124m'\u001B[39m, grid_search\u001B[38;5;241m.\u001B[39mbest_params_[parameter])\n\u001B[0;32m---> 28\u001B[0m predictions \u001B[38;5;241m=\u001B[39m \u001B[43mgrid_search\u001B[49m\u001B[38;5;241;43m.\u001B[39;49m\u001B[43mpredict\u001B[49m\u001B[43m(\u001B[49m\u001B[43mX_test\u001B[49m\u001B[43m)\u001B[49m\n\u001B[1;32m     29\u001B[0m \u001B[38;5;28mprint\u001B[39m(\u001B[38;5;124m\"\u001B[39m\u001B[38;5;124mAccuracy: \u001B[39m\u001B[38;5;124m\"\u001B[39m, metrics\u001B[38;5;241m.\u001B[39maccuracy_score(y_test, predictions))\n",
      "File \u001B[0;32m~/workspace/cse590-machine-learning/venv/lib/python3.9/site-packages/sklearn/utils/metaestimators.py:113\u001B[0m, in \u001B[0;36m_AvailableIfDescriptor.__get__.<locals>.<lambda>\u001B[0;34m(*args, **kwargs)\u001B[0m\n\u001B[1;32m    110\u001B[0m         \u001B[38;5;28;01mraise\u001B[39;00m attr_err\n\u001B[1;32m    112\u001B[0m     \u001B[38;5;66;03m# lambda, but not partial, allows help() to work with update_wrapper\u001B[39;00m\n\u001B[0;32m--> 113\u001B[0m     out \u001B[38;5;241m=\u001B[39m \u001B[38;5;28;01mlambda\u001B[39;00m \u001B[38;5;241m*\u001B[39margs, \u001B[38;5;241m*\u001B[39m\u001B[38;5;241m*\u001B[39mkwargs: \u001B[38;5;28;43mself\u001B[39;49m\u001B[38;5;241;43m.\u001B[39;49m\u001B[43mfn\u001B[49m\u001B[43m(\u001B[49m\u001B[43mobj\u001B[49m\u001B[43m,\u001B[49m\u001B[43m \u001B[49m\u001B[38;5;241;43m*\u001B[39;49m\u001B[43margs\u001B[49m\u001B[43m,\u001B[49m\u001B[43m \u001B[49m\u001B[38;5;241;43m*\u001B[39;49m\u001B[38;5;241;43m*\u001B[39;49m\u001B[43mkwargs\u001B[49m\u001B[43m)\u001B[49m  \u001B[38;5;66;03m# noqa\u001B[39;00m\n\u001B[1;32m    114\u001B[0m \u001B[38;5;28;01melse\u001B[39;00m:\n\u001B[1;32m    116\u001B[0m     \u001B[38;5;28;01mdef\u001B[39;00m \u001B[38;5;21mfn\u001B[39m(\u001B[38;5;241m*\u001B[39margs, \u001B[38;5;241m*\u001B[39m\u001B[38;5;241m*\u001B[39mkwargs):\n",
      "File \u001B[0;32m~/workspace/cse590-machine-learning/venv/lib/python3.9/site-packages/sklearn/model_selection/_search.py:521\u001B[0m, in \u001B[0;36mBaseSearchCV.predict\u001B[0;34m(self, X)\u001B[0m\n\u001B[1;32m    503\u001B[0m \u001B[38;5;124;03m\"\"\"Call predict on the estimator with the best found parameters.\u001B[39;00m\n\u001B[1;32m    504\u001B[0m \n\u001B[1;32m    505\u001B[0m \u001B[38;5;124;03mOnly available if ``refit=True`` and the underlying estimator supports\u001B[39;00m\n\u001B[0;32m   (...)\u001B[0m\n\u001B[1;32m    518\u001B[0m \u001B[38;5;124;03m    the best found parameters.\u001B[39;00m\n\u001B[1;32m    519\u001B[0m \u001B[38;5;124;03m\"\"\"\u001B[39;00m\n\u001B[1;32m    520\u001B[0m check_is_fitted(\u001B[38;5;28mself\u001B[39m)\n\u001B[0;32m--> 521\u001B[0m \u001B[38;5;28;01mreturn\u001B[39;00m \u001B[38;5;28;43mself\u001B[39;49m\u001B[38;5;241;43m.\u001B[39;49m\u001B[43mbest_estimator_\u001B[49m\u001B[38;5;241;43m.\u001B[39;49m\u001B[43mpredict\u001B[49m\u001B[43m(\u001B[49m\u001B[43mX\u001B[49m\u001B[43m)\u001B[49m\n",
      "File \u001B[0;32m~/workspace/cse590-machine-learning/venv/lib/python3.9/site-packages/sklearn/ensemble/_forest.py:808\u001B[0m, in \u001B[0;36mForestClassifier.predict\u001B[0;34m(self, X)\u001B[0m\n\u001B[1;32m    787\u001B[0m \u001B[38;5;28;01mdef\u001B[39;00m \u001B[38;5;21mpredict\u001B[39m(\u001B[38;5;28mself\u001B[39m, X):\n\u001B[1;32m    788\u001B[0m     \u001B[38;5;124;03m\"\"\"\u001B[39;00m\n\u001B[1;32m    789\u001B[0m \u001B[38;5;124;03m    Predict class for X.\u001B[39;00m\n\u001B[1;32m    790\u001B[0m \n\u001B[0;32m   (...)\u001B[0m\n\u001B[1;32m    806\u001B[0m \u001B[38;5;124;03m        The predicted classes.\u001B[39;00m\n\u001B[1;32m    807\u001B[0m \u001B[38;5;124;03m    \"\"\"\u001B[39;00m\n\u001B[0;32m--> 808\u001B[0m     proba \u001B[38;5;241m=\u001B[39m \u001B[38;5;28;43mself\u001B[39;49m\u001B[38;5;241;43m.\u001B[39;49m\u001B[43mpredict_proba\u001B[49m\u001B[43m(\u001B[49m\u001B[43mX\u001B[49m\u001B[43m)\u001B[49m\n\u001B[1;32m    810\u001B[0m     \u001B[38;5;28;01mif\u001B[39;00m \u001B[38;5;28mself\u001B[39m\u001B[38;5;241m.\u001B[39mn_outputs_ \u001B[38;5;241m==\u001B[39m \u001B[38;5;241m1\u001B[39m:\n\u001B[1;32m    811\u001B[0m         \u001B[38;5;28;01mreturn\u001B[39;00m \u001B[38;5;28mself\u001B[39m\u001B[38;5;241m.\u001B[39mclasses_\u001B[38;5;241m.\u001B[39mtake(np\u001B[38;5;241m.\u001B[39margmax(proba, axis\u001B[38;5;241m=\u001B[39m\u001B[38;5;241m1\u001B[39m), axis\u001B[38;5;241m=\u001B[39m\u001B[38;5;241m0\u001B[39m)\n",
      "File \u001B[0;32m~/workspace/cse590-machine-learning/venv/lib/python3.9/site-packages/sklearn/ensemble/_forest.py:850\u001B[0m, in \u001B[0;36mForestClassifier.predict_proba\u001B[0;34m(self, X)\u001B[0m\n\u001B[1;32m    848\u001B[0m check_is_fitted(\u001B[38;5;28mself\u001B[39m)\n\u001B[1;32m    849\u001B[0m \u001B[38;5;66;03m# Check data\u001B[39;00m\n\u001B[0;32m--> 850\u001B[0m X \u001B[38;5;241m=\u001B[39m \u001B[38;5;28;43mself\u001B[39;49m\u001B[38;5;241;43m.\u001B[39;49m\u001B[43m_validate_X_predict\u001B[49m\u001B[43m(\u001B[49m\u001B[43mX\u001B[49m\u001B[43m)\u001B[49m\n\u001B[1;32m    852\u001B[0m \u001B[38;5;66;03m# Assign chunk of trees to jobs\u001B[39;00m\n\u001B[1;32m    853\u001B[0m n_jobs, _, _ \u001B[38;5;241m=\u001B[39m _partition_estimators(\u001B[38;5;28mself\u001B[39m\u001B[38;5;241m.\u001B[39mn_estimators, \u001B[38;5;28mself\u001B[39m\u001B[38;5;241m.\u001B[39mn_jobs)\n",
      "File \u001B[0;32m~/workspace/cse590-machine-learning/venv/lib/python3.9/site-packages/sklearn/ensemble/_forest.py:579\u001B[0m, in \u001B[0;36mBaseForest._validate_X_predict\u001B[0;34m(self, X)\u001B[0m\n\u001B[1;32m    576\u001B[0m \u001B[38;5;124;03m\"\"\"\u001B[39;00m\n\u001B[1;32m    577\u001B[0m \u001B[38;5;124;03mValidate X whenever one tries to predict, apply, predict_proba.\"\"\"\u001B[39;00m\n\u001B[1;32m    578\u001B[0m check_is_fitted(\u001B[38;5;28mself\u001B[39m)\n\u001B[0;32m--> 579\u001B[0m X \u001B[38;5;241m=\u001B[39m \u001B[38;5;28;43mself\u001B[39;49m\u001B[38;5;241;43m.\u001B[39;49m\u001B[43m_validate_data\u001B[49m\u001B[43m(\u001B[49m\u001B[43mX\u001B[49m\u001B[43m,\u001B[49m\u001B[43m \u001B[49m\u001B[43mdtype\u001B[49m\u001B[38;5;241;43m=\u001B[39;49m\u001B[43mDTYPE\u001B[49m\u001B[43m,\u001B[49m\u001B[43m \u001B[49m\u001B[43maccept_sparse\u001B[49m\u001B[38;5;241;43m=\u001B[39;49m\u001B[38;5;124;43m\"\u001B[39;49m\u001B[38;5;124;43mcsr\u001B[39;49m\u001B[38;5;124;43m\"\u001B[39;49m\u001B[43m,\u001B[49m\u001B[43m \u001B[49m\u001B[43mreset\u001B[49m\u001B[38;5;241;43m=\u001B[39;49m\u001B[38;5;28;43;01mFalse\u001B[39;49;00m\u001B[43m)\u001B[49m\n\u001B[1;32m    580\u001B[0m \u001B[38;5;28;01mif\u001B[39;00m issparse(X) \u001B[38;5;129;01mand\u001B[39;00m (X\u001B[38;5;241m.\u001B[39mindices\u001B[38;5;241m.\u001B[39mdtype \u001B[38;5;241m!=\u001B[39m np\u001B[38;5;241m.\u001B[39mintc \u001B[38;5;129;01mor\u001B[39;00m X\u001B[38;5;241m.\u001B[39mindptr\u001B[38;5;241m.\u001B[39mdtype \u001B[38;5;241m!=\u001B[39m np\u001B[38;5;241m.\u001B[39mintc):\n\u001B[1;32m    581\u001B[0m     \u001B[38;5;28;01mraise\u001B[39;00m \u001B[38;5;167;01mValueError\u001B[39;00m(\u001B[38;5;124m\"\u001B[39m\u001B[38;5;124mNo support for np.int64 index based sparse matrices\u001B[39m\u001B[38;5;124m\"\u001B[39m)\n",
      "File \u001B[0;32m~/workspace/cse590-machine-learning/venv/lib/python3.9/site-packages/sklearn/base.py:585\u001B[0m, in \u001B[0;36mBaseEstimator._validate_data\u001B[0;34m(self, X, y, reset, validate_separately, **check_params)\u001B[0m\n\u001B[1;32m    582\u001B[0m     out \u001B[38;5;241m=\u001B[39m X, y\n\u001B[1;32m    584\u001B[0m \u001B[38;5;28;01mif\u001B[39;00m \u001B[38;5;129;01mnot\u001B[39;00m no_val_X \u001B[38;5;129;01mand\u001B[39;00m check_params\u001B[38;5;241m.\u001B[39mget(\u001B[38;5;124m\"\u001B[39m\u001B[38;5;124mensure_2d\u001B[39m\u001B[38;5;124m\"\u001B[39m, \u001B[38;5;28;01mTrue\u001B[39;00m):\n\u001B[0;32m--> 585\u001B[0m     \u001B[38;5;28;43mself\u001B[39;49m\u001B[38;5;241;43m.\u001B[39;49m\u001B[43m_check_n_features\u001B[49m\u001B[43m(\u001B[49m\u001B[43mX\u001B[49m\u001B[43m,\u001B[49m\u001B[43m \u001B[49m\u001B[43mreset\u001B[49m\u001B[38;5;241;43m=\u001B[39;49m\u001B[43mreset\u001B[49m\u001B[43m)\u001B[49m\n\u001B[1;32m    587\u001B[0m \u001B[38;5;28;01mreturn\u001B[39;00m out\n",
      "File \u001B[0;32m~/workspace/cse590-machine-learning/venv/lib/python3.9/site-packages/sklearn/base.py:400\u001B[0m, in \u001B[0;36mBaseEstimator._check_n_features\u001B[0;34m(self, X, reset)\u001B[0m\n\u001B[1;32m    397\u001B[0m     \u001B[38;5;28;01mreturn\u001B[39;00m\n\u001B[1;32m    399\u001B[0m \u001B[38;5;28;01mif\u001B[39;00m n_features \u001B[38;5;241m!=\u001B[39m \u001B[38;5;28mself\u001B[39m\u001B[38;5;241m.\u001B[39mn_features_in_:\n\u001B[0;32m--> 400\u001B[0m     \u001B[38;5;28;01mraise\u001B[39;00m \u001B[38;5;167;01mValueError\u001B[39;00m(\n\u001B[1;32m    401\u001B[0m         \u001B[38;5;124mf\u001B[39m\u001B[38;5;124m\"\u001B[39m\u001B[38;5;124mX has \u001B[39m\u001B[38;5;132;01m{\u001B[39;00mn_features\u001B[38;5;132;01m}\u001B[39;00m\u001B[38;5;124m features, but \u001B[39m\u001B[38;5;132;01m{\u001B[39;00m\u001B[38;5;28mself\u001B[39m\u001B[38;5;241m.\u001B[39m\u001B[38;5;18m__class__\u001B[39m\u001B[38;5;241m.\u001B[39m\u001B[38;5;18m__name__\u001B[39m\u001B[38;5;132;01m}\u001B[39;00m\u001B[38;5;124m \u001B[39m\u001B[38;5;124m\"\u001B[39m\n\u001B[1;32m    402\u001B[0m         \u001B[38;5;124mf\u001B[39m\u001B[38;5;124m\"\u001B[39m\u001B[38;5;124mis expecting \u001B[39m\u001B[38;5;132;01m{\u001B[39;00m\u001B[38;5;28mself\u001B[39m\u001B[38;5;241m.\u001B[39mn_features_in_\u001B[38;5;132;01m}\u001B[39;00m\u001B[38;5;124m features as input.\u001B[39m\u001B[38;5;124m\"\u001B[39m\n\u001B[1;32m    403\u001B[0m     )\n",
      "\u001B[0;31mValueError\u001B[0m: X has 64 features, but RandomForestClassifier is expecting 56 features as input."
     ]
    }
   ],
   "source": [
    "\n",
    "np.random.seed(42)\n",
    "\n",
    "n_estimators = np.linspace(100, 600, 6, dtype=int)\n",
    "max_features = np.linspace(1, 10, 10, dtype=int)\n",
    "\n",
    "grid_search_pca = grid_search_random_forest(n_estimators, max_features, X_train_pca)\n"
   ],
   "metadata": {
    "collapsed": false,
    "pycharm": {
     "name": "#%%\n"
    }
   }
  },
  {
   "cell_type": "code",
   "execution_count": 14,
   "outputs": [
    {
     "name": "stdout",
     "output_type": "stream",
     "text": [
      "0.9915492957746479\n",
      "0.8738738738738738\n"
     ]
    }
   ],
   "source": [
    "\n",
    "rf_pca = RandomForestClassifier(\n",
    "    n_estimators=600,\n",
    "    max_features=3,\n",
    ").fit(X_train_pca, y_train)\n",
    "print(rf_pca.score(X_train_pca, y_train))\n",
    "print(rf_pca.score(X_test_pca, y_test))"
   ],
   "metadata": {
    "collapsed": false,
    "pycharm": {
     "name": "#%%\n"
    }
   }
  },
  {
   "cell_type": "code",
   "execution_count": null,
   "outputs": [],
   "source": [],
   "metadata": {
    "collapsed": false,
    "pycharm": {
     "name": "#%%\n"
    }
   }
  }
 ],
 "metadata": {
  "kernelspec": {
   "display_name": "Python 3",
   "language": "python",
   "name": "python3"
  },
  "language_info": {
   "codemirror_mode": {
    "name": "ipython",
    "version": 2
   },
   "file_extension": ".py",
   "mimetype": "text/x-python",
   "name": "python",
   "nbconvert_exporter": "python",
   "pygments_lexer": "ipython2",
   "version": "2.7.6"
  }
 },
 "nbformat": 4,
 "nbformat_minor": 0
}
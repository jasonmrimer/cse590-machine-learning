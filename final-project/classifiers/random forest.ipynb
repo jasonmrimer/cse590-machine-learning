{
 "cells": [
  {
   "cell_type": "code",
   "execution_count": 1,
   "metadata": {
    "collapsed": true
   },
   "outputs": [],
   "source": [
    "import numpy as np\n",
    "import pandas as pd\n",
    "import sklearn_evaluation\n",
    "from matplotlib import pyplot as plt\n",
    "from sklearn import metrics\n",
    "from sklearn.decomposition import PCA\n",
    "from sklearn.ensemble import RandomForestClassifier, GradientBoostingClassifier\n",
    "from sklearn.feature_selection import SelectPercentile\n",
    "from sklearn.linear_model import LogisticRegression\n",
    "from sklearn.model_selection import train_test_split, GridSearchCV\n",
    "from sklearn.naive_bayes import MultinomialNB\n",
    "from sklearn.neighbors import KNeighborsClassifier\n",
    "from sklearn.neural_network import MLPClassifier\n",
    "from sklearn.preprocessing import RobustScaler, MinMaxScaler, StandardScaler\n",
    "from sklearn.svm import LinearSVC, SVC\n"
   ]
  },
  {
   "cell_type": "code",
   "execution_count": 2,
   "outputs": [],
   "source": [
    "X = pd.read_csv(\"../dataset/extracted_features.csv\").values\n",
    "index_for_removal = np.array(\n",
    "    [\n",
    "        0, 10, 14, 17, 25, 26, 35, 39, 49, 59, 62,\n",
    "    ]\n",
    ")\n",
    "X_indexed = np.delete(X, index_for_removal, 1)\n",
    "\n",
    "y = pd.read_csv(\"../dataset/labels.csv\").values\n",
    "# images = pd.read_csv(\"../dataset/raw_images.csv\").values\n",
    "X_train, X_test, y_train, y_test = train_test_split(X_indexed, y, test_size=0.2, random_state=42, shuffle=True, stratify=y)\n",
    "y_train = y_train.ravel()\n",
    "\n",
    "select = SelectPercentile(percentile=90)\n",
    "select.fit(X_train, y_train)\n",
    "X_train = select.transform(X_train)\n",
    "X_test = select.transform(X_test)\n",
    "\n",
    "scaler_standard = StandardScaler().fit(X_train)\n",
    "X_train_standard = scaler_standard.transform(X_train)\n",
    "X_test_standard = scaler_standard.transform(X_test)\n",
    "\n",
    "scaler_robust = RobustScaler().fit(X_train)\n",
    "X_train_robust = scaler_robust.transform(X_train)\n",
    "X_test_robust = scaler_robust.transform(X_test)\n",
    "\n",
    "scaler_minmax = MinMaxScaler().fit(X_train)\n",
    "X_train_minmax = scaler_minmax.transform(X_train)\n",
    "X_test_minmax = scaler_minmax.transform(X_test)\n",
    "\n",
    "pca = PCA(n_components=40, random_state=42)\n",
    "X_train_pca = pca.fit_transform(X_train_standard)\n",
    "X_test_pca = pca.transform(X_test_standard)\n"
   ],
   "metadata": {
    "collapsed": false,
    "pycharm": {
     "name": "#%%\n"
    }
   }
  },
  {
   "cell_type": "code",
   "execution_count": null,
   "outputs": [],
   "source": [],
   "metadata": {
    "collapsed": false,
    "pycharm": {
     "name": "#%%\n"
    }
   }
  },
  {
   "cell_type": "code",
   "execution_count": 3,
   "outputs": [],
   "source": [
    "np.random.seed(42)\n",
    "\n",
    "\n",
    "def grid_search_random_forest(n_estimators, max_features, X_train_data, max_depth=None, max_leaf_nodes=None):\n",
    "    parameters = {\n",
    "        'n_estimators': n_estimators,\n",
    "        'max_features': max_features,\n",
    "    }\n",
    "    include_additional_parameters(max_depth, max_leaf_nodes, parameters)\n",
    "\n",
    "    classifier = RandomForestClassifier(random_state=42)\n",
    "\n",
    "    grid_search = GridSearchCV(\n",
    "        classifier,\n",
    "        parameters,\n",
    "        cv=4,\n",
    "        return_train_score=True,\n",
    "    )\n",
    "\n",
    "    grid_search.fit(X_train_data, y_train)\n",
    "    print_grid_search_results(grid_search, parameters)\n",
    "    return grid_search\n",
    "\n",
    "\n",
    "def print_grid_search_results(grid_search, parameters):\n",
    "    for parameter in parameters:\n",
    "        print(f'Best {parameter}:', grid_search.best_params_[parameter])\n",
    "    predictions = grid_search.predict(X_test)\n",
    "    print(\"Accuracy: \", metrics.accuracy_score(y_test, predictions))\n",
    "\n",
    "\n",
    "def include_additional_parameters(max_depth, max_leaf_nodes, parameters):\n",
    "    if max_depth is not None:\n",
    "        parameters.update({'max_depth': max_depth})\n",
    "    if max_leaf_nodes is not None:\n",
    "        parameters.update({'max_leaf_nodes': max_leaf_nodes})\n",
    "\n",
    "\n",
    "def graph_grid_search_random_forest(grid_search):\n",
    "    print(grid_search.cv_results_)\n",
    "    plt.figure(figsize=[8,8])\n",
    "    sklearn_evaluation.evaluator.plot.grid_search(\n",
    "        grid_search.cv_results_,\n",
    "        change=(\"n_estimators\", \"max_features\")\n",
    "    )\n",
    "\n",
    "    plt.title(\"Random Forest\")\n",
    "    plt.xlabel(\"n_estimators\")\n",
    "    plt.ylabel(\"max_features\")\n",
    "    plt.legend()\n",
    "    plt.show()\n",
    "\n",
    "\n",
    "def plot_3d_heatmap(grid_results):\n",
    "    result_params = grid_results.cv_results_['params']\n",
    "    df = pd.DataFrame(result_params)\n",
    "    fig = plt.figure()\n",
    "    ax = fig.add_subplot(111, projection='3d')\n",
    "    x = df.loc[:, 'n_estimators']\n",
    "    y = df.loc[:, 'max_features']\n",
    "    z = df.loc[:, 'max_depth']\n",
    "    c = grid_results.cv_results_['mean_test_score']\n",
    "    img = ax.scatter(x, y, z, c=c, cmap=plt.hot())\n",
    "    fig.colorbar(img)\n",
    "    plt.show()"
   ],
   "metadata": {
    "collapsed": false,
    "pycharm": {
     "name": "#%%\n"
    }
   }
  },
  {
   "cell_type": "code",
   "execution_count": 4,
   "outputs": [
    {
     "name": "stdout",
     "output_type": "stream",
     "text": [
      "Best n_estimators: 40\n",
      "Best max_features: 5\n",
      "Accuracy:  0.8648648648648649\n"
     ]
    }
   ],
   "source": [
    "np.random.seed(42)\n",
    "\n",
    "n_estimators = np.linspace(20, 40, 3, dtype=int)\n",
    "max_features = np.linspace(1, 12, 6, dtype=int)\n",
    "\n",
    "grid_search = grid_search_random_forest(n_estimators, max_features, X_train)"
   ],
   "metadata": {
    "collapsed": false,
    "pycharm": {
     "name": "#%%\n"
    }
   }
  },
  {
   "cell_type": "code",
   "execution_count": 5,
   "outputs": [
    {
     "name": "stderr",
     "output_type": "stream",
     "text": [
      "No artists with labels found to put in legend.  Note that artists whose label start with an underscore are ignored when legend() is called with no argument.\n"
     ]
    },
    {
     "name": "stdout",
     "output_type": "stream",
     "text": [
      "{'mean_fit_time': array([0.03796995, 0.0713324 , 0.07435244, 0.04429817, 0.06498426,\n",
      "       0.1016385 , 0.05917716, 0.0758422 , 0.09626007, 0.06134552,\n",
      "       0.08464617, 0.11332786, 0.06524342, 0.09079576, 0.12704039,\n",
      "       0.07793444, 0.11436999, 0.15066725]), 'std_fit_time': array([0.00077356, 0.01524846, 0.00159505, 0.00084028, 0.00208599,\n",
      "       0.01633757, 0.00555216, 0.00089834, 0.00091495, 0.00316103,\n",
      "       0.00155314, 0.0021619 , 0.00049076, 0.00122931, 0.00543564,\n",
      "       0.00223796, 0.00202086, 0.00356889]), 'mean_score_time': array([0.00379282, 0.00802749, 0.00676489, 0.00364637, 0.00507057,\n",
      "       0.00807828, 0.0042395 , 0.00562328, 0.00602943, 0.00347793,\n",
      "       0.00449777, 0.00577015, 0.00310713, 0.00497258, 0.00557452,\n",
      "       0.00332552, 0.00484216, 0.00572073]), 'std_score_time': array([0.0002066 , 0.00240645, 0.00016921, 0.00029902, 0.00021665,\n",
      "       0.00180455, 0.0009283 , 0.00073933, 0.00056325, 0.00048707,\n",
      "       0.00011432, 0.00033688, 0.0004043 , 0.00048184, 0.00037427,\n",
      "       0.00018962, 0.00043631, 0.00082851]), 'param_max_features': masked_array(data=[1, 1, 1, 3, 3, 3, 5, 5, 5, 7, 7, 7, 9, 9, 9, 12, 12,\n",
      "                   12],\n",
      "             mask=[False, False, False, False, False, False, False, False,\n",
      "                   False, False, False, False, False, False, False, False,\n",
      "                   False, False],\n",
      "       fill_value='?',\n",
      "            dtype=object), 'param_n_estimators': masked_array(data=[20, 30, 40, 20, 30, 40, 20, 30, 40, 20, 30, 40, 20, 30,\n",
      "                   40, 20, 30, 40],\n",
      "             mask=[False, False, False, False, False, False, False, False,\n",
      "                   False, False, False, False, False, False, False, False,\n",
      "                   False, False],\n",
      "       fill_value='?',\n",
      "            dtype=object), 'params': [{'max_features': 1, 'n_estimators': 20}, {'max_features': 1, 'n_estimators': 30}, {'max_features': 1, 'n_estimators': 40}, {'max_features': 3, 'n_estimators': 20}, {'max_features': 3, 'n_estimators': 30}, {'max_features': 3, 'n_estimators': 40}, {'max_features': 5, 'n_estimators': 20}, {'max_features': 5, 'n_estimators': 30}, {'max_features': 5, 'n_estimators': 40}, {'max_features': 7, 'n_estimators': 20}, {'max_features': 7, 'n_estimators': 30}, {'max_features': 7, 'n_estimators': 40}, {'max_features': 9, 'n_estimators': 20}, {'max_features': 9, 'n_estimators': 30}, {'max_features': 9, 'n_estimators': 40}, {'max_features': 12, 'n_estimators': 20}, {'max_features': 12, 'n_estimators': 30}, {'max_features': 12, 'n_estimators': 40}], 'split0_test_score': array([0.76351351, 0.78153153, 0.82432432, 0.7972973 , 0.81981982,\n",
      "       0.83333333, 0.81081081, 0.81981982, 0.83333333, 0.81306306,\n",
      "       0.83783784, 0.83558559, 0.83333333, 0.84234234, 0.84234234,\n",
      "       0.81531532, 0.81306306, 0.83333333]), 'split1_test_score': array([0.79054054, 0.8018018 , 0.80405405, 0.79279279, 0.82657658,\n",
      "       0.84684685, 0.80405405, 0.82432432, 0.83333333, 0.77477477,\n",
      "       0.8018018 , 0.82657658, 0.81081081, 0.82657658, 0.84234234,\n",
      "       0.77702703, 0.79504505, 0.83558559]), 'split2_test_score': array([0.75675676, 0.81081081, 0.82657658, 0.80405405, 0.82882883,\n",
      "       0.84684685, 0.83558559, 0.8536036 , 0.85585586, 0.81756757,\n",
      "       0.83108108, 0.84234234, 0.83558559, 0.84009009, 0.85585586,\n",
      "       0.80630631, 0.81306306, 0.83333333]), 'split3_test_score': array([0.79683973, 0.8261851 , 0.84198646, 0.82167043, 0.82392777,\n",
      "       0.83747178, 0.82392777, 0.84875847, 0.86455982, 0.80361174,\n",
      "       0.84198646, 0.84424379, 0.79909707, 0.81715576, 0.83521445,\n",
      "       0.83069977, 0.84424379, 0.8510158 ]), 'mean_test_score': array([0.77691263, 0.80508231, 0.82423535, 0.80395364, 0.82478825,\n",
      "       0.8411247 , 0.81859455, 0.83662655, 0.84677059, 0.80225429,\n",
      "       0.82817679, 0.83718707, 0.8197067 , 0.83154119, 0.84393875,\n",
      "       0.80733711, 0.81635374, 0.83831701]), 'std_test_score': array([0.01709243, 0.01615197, 0.01348959, 0.01098597, 0.00335224,\n",
      "       0.00590625, 0.01213622, 0.01474122, 0.01378512, 0.01664551,\n",
      "       0.01571717, 0.00691956, 0.01534371, 0.01026324, 0.00747041,\n",
      "       0.01955268, 0.01770291, 0.00738908]), 'rank_test_score': array([18, 15, 10, 16,  9,  3, 12,  6,  1, 17,  8,  5, 11,  7,  2, 14, 13,\n",
      "        4], dtype=int32), 'split0_train_score': array([0.99398948, 0.99398948, 0.99398948, 0.99398948, 0.99398948,\n",
      "       0.99398948, 0.99398948, 0.99398948, 0.99398948, 0.99398948,\n",
      "       0.99398948, 0.99398948, 0.99398948, 0.99398948, 0.99398948,\n",
      "       0.99398948, 0.99398948, 0.99398948]), 'split1_train_score': array([0.99398948, 0.99398948, 0.99398948, 0.99398948, 0.99398948,\n",
      "       0.99398948, 0.99398948, 0.99398948, 0.99398948, 0.99398948,\n",
      "       0.99398948, 0.99398948, 0.99323817, 0.99398948, 0.99398948,\n",
      "       0.99398948, 0.99398948, 0.99398948]), 'split2_train_score': array([0.99398948, 0.99398948, 0.99398948, 0.99398948, 0.99398948,\n",
      "       0.99398948, 0.99398948, 0.99398948, 0.99398948, 0.99398948,\n",
      "       0.99398948, 0.99398948, 0.99398948, 0.99398948, 0.99398948,\n",
      "       0.99398948, 0.99398948, 0.99398948]), 'split3_train_score': array([0.99324324, 0.99324324, 0.99324324, 0.99324324, 0.99324324,\n",
      "       0.99324324, 0.99324324, 0.99324324, 0.99324324, 0.99324324,\n",
      "       0.99324324, 0.99324324, 0.99324324, 0.99324324, 0.99324324,\n",
      "       0.99324324, 0.99324324, 0.99324324]), 'mean_train_score': array([0.99380292, 0.99380292, 0.99380292, 0.99380292, 0.99380292,\n",
      "       0.99380292, 0.99380292, 0.99380292, 0.99380292, 0.99380292,\n",
      "       0.99380292, 0.99380292, 0.99361509, 0.99380292, 0.99380292,\n",
      "       0.99380292, 0.99380292, 0.99380292]), 'std_train_score': array([0.00032313, 0.00032313, 0.00032313, 0.00032313, 0.00032313,\n",
      "       0.00032313, 0.00032313, 0.00032313, 0.00032313, 0.00032313,\n",
      "       0.00032313, 0.00032313, 0.00037439, 0.00032313, 0.00032313,\n",
      "       0.00032313, 0.00032313, 0.00032313])}\n"
     ]
    },
    {
     "data": {
      "text/plain": "<Figure size 576x576 with 2 Axes>",
      "image/png": "[encoded data removed]"
     },
     "metadata": {
      "needs_background": "light"
     },
     "output_type": "display_data"
    }
   ],
   "source": [
    "\n",
    "graph_grid_search_random_forest(grid_search)"
   ],
   "metadata": {
    "collapsed": false,
    "pycharm": {
     "name": "#%%\n"
    }
   }
  },
  {
   "cell_type": "code",
   "execution_count": 8,
   "outputs": [
    {
     "name": "stdout",
     "output_type": "stream",
     "text": [
      "Best n_estimators: 100\n",
      "Best max_features: 3\n",
      "Accuracy:  0.8581081081081081\n"
     ]
    }
   ],
   "source": [
    "np.random.seed(42)\n",
    "\n",
    "n_estimators = np.linspace(30, 100, 3, dtype=int)\n",
    "max_features = np.linspace(3, 16, 6, dtype=int)\n",
    "\n",
    "grid_search_t2 = grid_search_random_forest(n_estimators, max_features, X_train)"
   ],
   "metadata": {
    "collapsed": false,
    "pycharm": {
     "name": "#%%\n"
    }
   }
  },
  {
   "cell_type": "code",
   "execution_count": 9,
   "outputs": [
    {
     "name": "stderr",
     "output_type": "stream",
     "text": [
      "No artists with labels found to put in legend.  Note that artists whose label start with an underscore are ignored when legend() is called with no argument.\n"
     ]
    },
    {
     "name": "stdout",
     "output_type": "stream",
     "text": [
      "{'mean_fit_time': array([0.06055748, 0.14654946, 0.18804193, 0.0628078 , 0.13828421,\n",
      "       0.20972067, 0.08067131, 0.16210324, 0.24966496, 0.08707929,\n",
      "       0.18384796, 0.27751732, 0.09280497, 0.21048427, 0.32091427,\n",
      "       0.10647017, 0.23119074, 0.36182684]), 'std_fit_time': array([0.00317391, 0.03162527, 0.00699937, 0.00127062, 0.00428157,\n",
      "       0.00151314, 0.00230547, 0.0009734 , 0.00469132, 0.00408342,\n",
      "       0.00362789, 0.00219144, 0.00081921, 0.00390728, 0.00482571,\n",
      "       0.00232869, 0.00279473, 0.00377933]), 'mean_score_time': array([0.00495529, 0.01113856, 0.01305455, 0.00493979, 0.0093326 ,\n",
      "       0.01385677, 0.00466543, 0.0098145 , 0.01374769, 0.00433725,\n",
      "       0.00935847, 0.01435274, 0.00488156, 0.00835854, 0.01253247,\n",
      "       0.00434679, 0.00834852, 0.01293433]), 'std_score_time': array([0.00042789, 0.00201633, 0.00018292, 0.00050118, 0.00074098,\n",
      "       0.00061587, 0.00085877, 0.00122533, 0.0010847 , 0.00033784,\n",
      "       0.00082918, 0.00121137, 0.00047561, 0.00019134, 0.00038824,\n",
      "       0.0002979 , 0.0002594 , 0.00060554]), 'param_max_features': masked_array(data=[3, 3, 3, 5, 5, 5, 8, 8, 8, 10, 10, 10, 13, 13, 13, 16,\n",
      "                   16, 16],\n",
      "             mask=[False, False, False, False, False, False, False, False,\n",
      "                   False, False, False, False, False, False, False, False,\n",
      "                   False, False],\n",
      "       fill_value='?',\n",
      "            dtype=object), 'param_n_estimators': masked_array(data=[30, 65, 100, 30, 65, 100, 30, 65, 100, 30, 65, 100, 30,\n",
      "                   65, 100, 30, 65, 100],\n",
      "             mask=[False, False, False, False, False, False, False, False,\n",
      "                   False, False, False, False, False, False, False, False,\n",
      "                   False, False],\n",
      "       fill_value='?',\n",
      "            dtype=object), 'params': [{'max_features': 3, 'n_estimators': 30}, {'max_features': 3, 'n_estimators': 65}, {'max_features': 3, 'n_estimators': 100}, {'max_features': 5, 'n_estimators': 30}, {'max_features': 5, 'n_estimators': 65}, {'max_features': 5, 'n_estimators': 100}, {'max_features': 8, 'n_estimators': 30}, {'max_features': 8, 'n_estimators': 65}, {'max_features': 8, 'n_estimators': 100}, {'max_features': 10, 'n_estimators': 30}, {'max_features': 10, 'n_estimators': 65}, {'max_features': 10, 'n_estimators': 100}, {'max_features': 13, 'n_estimators': 30}, {'max_features': 13, 'n_estimators': 65}, {'max_features': 13, 'n_estimators': 100}, {'max_features': 16, 'n_estimators': 30}, {'max_features': 16, 'n_estimators': 65}, {'max_features': 16, 'n_estimators': 100}], 'split0_test_score': array([0.80855856, 0.86036036, 0.87837838, 0.82432432, 0.84684685,\n",
      "       0.86261261, 0.81981982, 0.86486486, 0.87162162, 0.82657658,\n",
      "       0.84234234, 0.86261261, 0.83333333, 0.84009009, 0.85585586,\n",
      "       0.81306306, 0.84459459, 0.84684685]), 'split1_test_score': array([0.79279279, 0.84684685, 0.86936937, 0.81081081, 0.82882883,\n",
      "       0.83783784, 0.8018018 , 0.83558559, 0.85135135, 0.81756757,\n",
      "       0.84009009, 0.83783784, 0.79954955, 0.84234234, 0.8490991 ,\n",
      "       0.81306306, 0.82432432, 0.84009009]), 'split2_test_score': array([0.82657658, 0.88288288, 0.88513514, 0.8536036 , 0.88063063,\n",
      "       0.88063063, 0.8490991 , 0.88513514, 0.88288288, 0.83108108,\n",
      "       0.85810811, 0.87162162, 0.81756757, 0.8490991 , 0.85810811,\n",
      "       0.82882883, 0.85585586, 0.86036036]), 'split3_test_score': array([0.82392777, 0.86455982, 0.86907449, 0.85553047, 0.86907449,\n",
      "       0.88036117, 0.84198646, 0.86907449, 0.88713318, 0.84875847,\n",
      "       0.86455982, 0.8758465 , 0.80586907, 0.83069977, 0.84198646,\n",
      "       0.81715576, 0.84424379, 0.84650113]), 'mean_test_score': array([0.81296392, 0.86366248, 0.87548934, 0.8360673 , 0.8563452 ,\n",
      "       0.86536056, 0.82817679, 0.86366502, 0.87324726, 0.83099592,\n",
      "       0.85127509, 0.86197964, 0.81407988, 0.84055783, 0.85126238,\n",
      "       0.81802768, 0.84225464, 0.84844961]), 'std_test_score': array([0.01352583, 0.01288312, 0.00670806, 0.01911887, 0.01999491,\n",
      "       0.01748746, 0.01866768, 0.0178894 , 0.01385404, 0.01135084,\n",
      "       0.01034495, 0.01473503, 0.01285892, 0.00658669, 0.00629854,\n",
      "       0.006456  , 0.01135695, 0.00738432]), 'rank_test_score': array([18,  5,  1, 13,  7,  3, 15,  4,  2, 14,  8,  6, 17, 12,  9, 16, 11,\n",
      "       10], dtype=int32), 'split0_train_score': array([0.99398948, 0.99398948, 0.99398948, 0.99398948, 0.99398948,\n",
      "       0.99398948, 0.99398948, 0.99398948, 0.99398948, 0.99398948,\n",
      "       0.99398948, 0.99398948, 0.99398948, 0.99398948, 0.99398948,\n",
      "       0.99398948, 0.99398948, 0.99398948]), 'split1_train_score': array([0.99398948, 0.99398948, 0.99398948, 0.99398948, 0.99398948,\n",
      "       0.99398948, 0.99398948, 0.99398948, 0.99398948, 0.99398948,\n",
      "       0.99398948, 0.99398948, 0.99398948, 0.99398948, 0.99398948,\n",
      "       0.99398948, 0.99398948, 0.99398948]), 'split2_train_score': array([0.99398948, 0.99398948, 0.99398948, 0.99398948, 0.99398948,\n",
      "       0.99398948, 0.99398948, 0.99398948, 0.99398948, 0.99398948,\n",
      "       0.99398948, 0.99398948, 0.99398948, 0.99398948, 0.99398948,\n",
      "       0.99398948, 0.99398948, 0.99398948]), 'split3_train_score': array([0.99324324, 0.99324324, 0.99324324, 0.99324324, 0.99324324,\n",
      "       0.99324324, 0.99324324, 0.99324324, 0.99324324, 0.99324324,\n",
      "       0.99324324, 0.99324324, 0.99324324, 0.99324324, 0.99324324,\n",
      "       0.99324324, 0.99324324, 0.99324324]), 'mean_train_score': array([0.99380292, 0.99380292, 0.99380292, 0.99380292, 0.99380292,\n",
      "       0.99380292, 0.99380292, 0.99380292, 0.99380292, 0.99380292,\n",
      "       0.99380292, 0.99380292, 0.99380292, 0.99380292, 0.99380292,\n",
      "       0.99380292, 0.99380292, 0.99380292]), 'std_train_score': array([0.00032313, 0.00032313, 0.00032313, 0.00032313, 0.00032313,\n",
      "       0.00032313, 0.00032313, 0.00032313, 0.00032313, 0.00032313,\n",
      "       0.00032313, 0.00032313, 0.00032313, 0.00032313, 0.00032313,\n",
      "       0.00032313, 0.00032313, 0.00032313])}\n"
     ]
    },
    {
     "data": {
      "text/plain": "<Figure size 432x288 with 2 Axes>",
      "image/png": "[encoded data removed]"
     },
     "metadata": {
      "needs_background": "light"
     },
     "output_type": "display_data"
    }
   ],
   "source": [
    "\n",
    "graph_grid_search_random_forest(grid_search_t2)\n"
   ],
   "metadata": {
    "collapsed": false,
    "pycharm": {
     "name": "#%%\n"
    }
   }
  },
  {
   "cell_type": "code",
   "execution_count": 6,
   "outputs": [
    {
     "name": "stdout",
     "output_type": "stream",
     "text": [
      "Best n_estimators: 200\n",
      "Best max_features: 3\n",
      "Accuracy:  0.8851351351351351\n"
     ]
    }
   ],
   "source": [
    "np.random.seed(42)\n",
    "\n",
    "n_estimators = np.linspace(100, 600, 6, dtype=int)\n",
    "max_features = np.linspace(1, 10, 10, dtype=int)\n",
    "\n",
    "grid_search_t3 = grid_search_random_forest(n_estimators, max_features, X_train)"
   ],
   "metadata": {
    "collapsed": false,
    "pycharm": {
     "name": "#%%\n"
    }
   }
  },
  {
   "cell_type": "code",
   "execution_count": 7,
   "outputs": [
    {
     "name": "stderr",
     "output_type": "stream",
     "text": [
      "No artists with labels found to put in legend.  Note that artists whose label start with an underscore are ignored when legend() is called with no argument.\n"
     ]
    },
    {
     "name": "stdout",
     "output_type": "stream",
     "text": [
      "{'mean_fit_time': array([0.19582123, 0.33844835, 0.52100241, 0.67975444, 0.83265251,\n",
      "       1.06195158, 0.19295621, 0.39399022, 0.60193324, 0.77871221,\n",
      "       0.95164746, 1.16585875, 0.21230781, 0.42682946, 0.65319705,\n",
      "       0.87950629, 1.03983963, 1.26211566, 0.23367208, 0.46834046,\n",
      "       0.69278675, 0.89893538, 1.16969049, 1.41492546, 0.25905794,\n",
      "       0.50358361, 0.73818952, 1.01600897, 1.30116457, 1.40419227,\n",
      "       0.24375927, 0.48283881, 0.77236336, 0.99729961, 1.27492201,\n",
      "       1.50258183, 0.2747075 , 0.54947919, 0.77016681, 1.04789245,\n",
      "       1.28647602, 1.53943133, 0.27853501, 0.56119692, 0.81275135,\n",
      "       1.08472222, 1.36418617, 1.66345483, 0.29238135, 0.58249938,\n",
      "       0.89847904, 1.23225319, 1.62803155, 1.86363852, 0.33063245,\n",
      "       0.66185582, 1.00023001, 1.35205173, 1.75325799, 2.07036167]), 'std_fit_time': array([0.02250676, 0.01214753, 0.0258554 , 0.01969701, 0.01266743,\n",
      "       0.07258922, 0.0051516 , 0.0142886 , 0.01691795, 0.02576536,\n",
      "       0.012766  , 0.0127421 , 0.00189667, 0.00467398, 0.00954624,\n",
      "       0.02342465, 0.01838467, 0.01906467, 0.00200287, 0.01109372,\n",
      "       0.00954728, 0.01036389, 0.0168482 , 0.02377526, 0.0023199 ,\n",
      "       0.01511427, 0.01240724, 0.02690596, 0.05177472, 0.10612385,\n",
      "       0.00264832, 0.00582295, 0.04787769, 0.01406099, 0.02537335,\n",
      "       0.01423499, 0.00222343, 0.03403462, 0.00501417, 0.02745452,\n",
      "       0.01087355, 0.0322625 , 0.00478796, 0.01338204, 0.00488233,\n",
      "       0.00976896, 0.00963259, 0.01654321, 0.00263617, 0.0031017 ,\n",
      "       0.02621544, 0.05534254, 0.06775928, 0.01860214, 0.00254932,\n",
      "       0.00504832, 0.00918245, 0.03289669, 0.05753971, 0.03159849]), 'mean_score_time': array([0.01652646, 0.03199023, 0.04619104, 0.06667334, 0.07621467,\n",
      "       0.09233731, 0.01647872, 0.03114927, 0.04753464, 0.06237483,\n",
      "       0.07668674, 0.0923298 , 0.01588547, 0.031084  , 0.04584455,\n",
      "       0.06086779, 0.07653618, 0.09061599, 0.01587778, 0.03164774,\n",
      "       0.04643232, 0.06026387, 0.07392573, 0.08929861, 0.01543927,\n",
      "       0.03082347, 0.0442462 , 0.05854148, 0.07485861, 0.07525802,\n",
      "       0.01419401, 0.02913171, 0.04186201, 0.05513984, 0.06620967,\n",
      "       0.07688451, 0.01444829, 0.02651978, 0.03822225, 0.0492624 ,\n",
      "       0.06498075, 0.07330137, 0.01346934, 0.02609563, 0.03719848,\n",
      "       0.0522576 , 0.06187952, 0.07829612, 0.01359022, 0.0249061 ,\n",
      "       0.03798556, 0.05276996, 0.07988173, 0.08269203, 0.01393723,\n",
      "       0.02921921, 0.04161328, 0.05530328, 0.07014459, 0.08504385]), 'std_score_time': array([0.00151477, 0.00259581, 0.00042983, 0.01179085, 0.00060682,\n",
      "       0.00120341, 0.00121844, 0.00223767, 0.00176051, 0.00123753,\n",
      "       0.00072008, 0.00070052, 0.00085643, 0.00068824, 0.00101927,\n",
      "       0.00033635, 0.00216262, 0.00082806, 0.00086324, 0.00095626,\n",
      "       0.00089087, 0.00139892, 0.00179068, 0.00157679, 0.0009263 ,\n",
      "       0.00068156, 0.00066152, 0.00226414, 0.00158302, 0.00192789,\n",
      "       0.00034509, 0.0025188 , 0.00249026, 0.00180079, 0.00275602,\n",
      "       0.00108038, 0.00192305, 0.00235143, 0.00161343, 0.00188093,\n",
      "       0.00197754, 0.00237538, 0.00027009, 0.001857  , 0.00139791,\n",
      "       0.00232659, 0.00161346, 0.00528337, 0.00114681, 0.00097886,\n",
      "       0.00365309, 0.00479716, 0.01795859, 0.00379896, 0.00194743,\n",
      "       0.00130668, 0.00287055, 0.00337188, 0.00473501, 0.00029253]), 'param_max_features': masked_array(data=[1, 1, 1, 1, 1, 1, 2, 2, 2, 2, 2, 2, 3, 3, 3, 3, 3, 3,\n",
      "                   4, 4, 4, 4, 4, 4, 5, 5, 5, 5, 5, 5, 6, 6, 6, 6, 6, 6,\n",
      "                   7, 7, 7, 7, 7, 7, 8, 8, 8, 8, 8, 8, 9, 9, 9, 9, 9, 9,\n",
      "                   10, 10, 10, 10, 10, 10],\n",
      "             mask=[False, False, False, False, False, False, False, False,\n",
      "                   False, False, False, False, False, False, False, False,\n",
      "                   False, False, False, False, False, False, False, False,\n",
      "                   False, False, False, False, False, False, False, False,\n",
      "                   False, False, False, False, False, False, False, False,\n",
      "                   False, False, False, False, False, False, False, False,\n",
      "                   False, False, False, False, False, False, False, False,\n",
      "                   False, False, False, False],\n",
      "       fill_value='?',\n",
      "            dtype=object), 'param_n_estimators': masked_array(data=[100, 200, 300, 400, 500, 600, 100, 200, 300, 400, 500,\n",
      "                   600, 100, 200, 300, 400, 500, 600, 100, 200, 300, 400,\n",
      "                   500, 600, 100, 200, 300, 400, 500, 600, 100, 200, 300,\n",
      "                   400, 500, 600, 100, 200, 300, 400, 500, 600, 100, 200,\n",
      "                   300, 400, 500, 600, 100, 200, 300, 400, 500, 600, 100,\n",
      "                   200, 300, 400, 500, 600],\n",
      "             mask=[False, False, False, False, False, False, False, False,\n",
      "                   False, False, False, False, False, False, False, False,\n",
      "                   False, False, False, False, False, False, False, False,\n",
      "                   False, False, False, False, False, False, False, False,\n",
      "                   False, False, False, False, False, False, False, False,\n",
      "                   False, False, False, False, False, False, False, False,\n",
      "                   False, False, False, False, False, False, False, False,\n",
      "                   False, False, False, False],\n",
      "       fill_value='?',\n",
      "            dtype=object), 'params': [{'max_features': 1, 'n_estimators': 100}, {'max_features': 1, 'n_estimators': 200}, {'max_features': 1, 'n_estimators': 300}, {'max_features': 1, 'n_estimators': 400}, {'max_features': 1, 'n_estimators': 500}, {'max_features': 1, 'n_estimators': 600}, {'max_features': 2, 'n_estimators': 100}, {'max_features': 2, 'n_estimators': 200}, {'max_features': 2, 'n_estimators': 300}, {'max_features': 2, 'n_estimators': 400}, {'max_features': 2, 'n_estimators': 500}, {'max_features': 2, 'n_estimators': 600}, {'max_features': 3, 'n_estimators': 100}, {'max_features': 3, 'n_estimators': 200}, {'max_features': 3, 'n_estimators': 300}, {'max_features': 3, 'n_estimators': 400}, {'max_features': 3, 'n_estimators': 500}, {'max_features': 3, 'n_estimators': 600}, {'max_features': 4, 'n_estimators': 100}, {'max_features': 4, 'n_estimators': 200}, {'max_features': 4, 'n_estimators': 300}, {'max_features': 4, 'n_estimators': 400}, {'max_features': 4, 'n_estimators': 500}, {'max_features': 4, 'n_estimators': 600}, {'max_features': 5, 'n_estimators': 100}, {'max_features': 5, 'n_estimators': 200}, {'max_features': 5, 'n_estimators': 300}, {'max_features': 5, 'n_estimators': 400}, {'max_features': 5, 'n_estimators': 500}, {'max_features': 5, 'n_estimators': 600}, {'max_features': 6, 'n_estimators': 100}, {'max_features': 6, 'n_estimators': 200}, {'max_features': 6, 'n_estimators': 300}, {'max_features': 6, 'n_estimators': 400}, {'max_features': 6, 'n_estimators': 500}, {'max_features': 6, 'n_estimators': 600}, {'max_features': 7, 'n_estimators': 100}, {'max_features': 7, 'n_estimators': 200}, {'max_features': 7, 'n_estimators': 300}, {'max_features': 7, 'n_estimators': 400}, {'max_features': 7, 'n_estimators': 500}, {'max_features': 7, 'n_estimators': 600}, {'max_features': 8, 'n_estimators': 100}, {'max_features': 8, 'n_estimators': 200}, {'max_features': 8, 'n_estimators': 300}, {'max_features': 8, 'n_estimators': 400}, {'max_features': 8, 'n_estimators': 500}, {'max_features': 8, 'n_estimators': 600}, {'max_features': 9, 'n_estimators': 100}, {'max_features': 9, 'n_estimators': 200}, {'max_features': 9, 'n_estimators': 300}, {'max_features': 9, 'n_estimators': 400}, {'max_features': 9, 'n_estimators': 500}, {'max_features': 9, 'n_estimators': 600}, {'max_features': 10, 'n_estimators': 100}, {'max_features': 10, 'n_estimators': 200}, {'max_features': 10, 'n_estimators': 300}, {'max_features': 10, 'n_estimators': 400}, {'max_features': 10, 'n_estimators': 500}, {'max_features': 10, 'n_estimators': 600}], 'split0_test_score': array([0.83558559, 0.8536036 , 0.85810811, 0.86486486, 0.87162162,\n",
      "       0.86936937, 0.86036036, 0.86036036, 0.87162162, 0.87387387,\n",
      "       0.87162162, 0.88063063, 0.86261261, 0.88288288, 0.88288288,\n",
      "       0.87612613, 0.87387387, 0.87162162, 0.86036036, 0.86711712,\n",
      "       0.87612613, 0.88063063, 0.87387387, 0.87612613, 0.85585586,\n",
      "       0.85810811, 0.86036036, 0.86261261, 0.87162162, 0.86486486,\n",
      "       0.85135135, 0.86486486, 0.85810811, 0.86711712, 0.86261261,\n",
      "       0.85810811, 0.86261261, 0.86936937, 0.86486486, 0.86486486,\n",
      "       0.86261261, 0.86261261, 0.86261261, 0.85585586, 0.86261261,\n",
      "       0.86261261, 0.85810811, 0.85810811, 0.86711712, 0.86486486,\n",
      "       0.86486486, 0.85810811, 0.86261261, 0.86036036, 0.85585586,\n",
      "       0.86711712, 0.86261261, 0.86486486, 0.86486486, 0.86486486]), 'split1_test_score': array([0.8490991 , 0.86261261, 0.86036036, 0.86261261, 0.86711712,\n",
      "       0.87162162, 0.86711712, 0.87387387, 0.86486486, 0.86936937,\n",
      "       0.87387387, 0.86711712, 0.88288288, 0.88738739, 0.87162162,\n",
      "       0.87162162, 0.88063063, 0.87837838, 0.86261261, 0.87162162,\n",
      "       0.86936937, 0.87612613, 0.87162162, 0.87612613, 0.8536036 ,\n",
      "       0.85810811, 0.86261261, 0.86486486, 0.87162162, 0.86486486,\n",
      "       0.85810811, 0.86261261, 0.86486486, 0.86486486, 0.86036036,\n",
      "       0.86261261, 0.86261261, 0.8536036 , 0.86036036, 0.85810811,\n",
      "       0.86036036, 0.86936937, 0.86036036, 0.86936937, 0.86711712,\n",
      "       0.86486486, 0.86486486, 0.85585586, 0.84684685, 0.86036036,\n",
      "       0.86036036, 0.86036036, 0.86486486, 0.86711712, 0.83558559,\n",
      "       0.85585586, 0.86261261, 0.86486486, 0.86486486, 0.86261261]), 'split2_test_score': array([0.86711712, 0.87837838, 0.88513514, 0.88288288, 0.87837838,\n",
      "       0.87387387, 0.87837838, 0.89189189, 0.88738739, 0.89414414,\n",
      "       0.89189189, 0.89189189, 0.87162162, 0.87837838, 0.88513514,\n",
      "       0.89414414, 0.88963964, 0.89189189, 0.87162162, 0.88738739,\n",
      "       0.88513514, 0.88738739, 0.88738739, 0.88738739, 0.86261261,\n",
      "       0.87837838, 0.87612613, 0.88063063, 0.88063063, 0.89414414,\n",
      "       0.87387387, 0.88513514, 0.88513514, 0.87837838, 0.88063063,\n",
      "       0.88288288, 0.86711712, 0.86936937, 0.87162162, 0.87612613,\n",
      "       0.87837838, 0.87387387, 0.86711712, 0.87162162, 0.87837838,\n",
      "       0.86936937, 0.86936937, 0.87162162, 0.86711712, 0.86036036,\n",
      "       0.86936937, 0.86711712, 0.86486486, 0.85810811, 0.85585586,\n",
      "       0.86936937, 0.86936937, 0.87162162, 0.86936937, 0.87162162]), 'split3_test_score': array([0.85778781, 0.86681716, 0.8758465 , 0.87810384, 0.87810384,\n",
      "       0.87810384, 0.87358916, 0.8758465 , 0.88036117, 0.88487585,\n",
      "       0.88487585, 0.88487585, 0.88261851, 0.89616253, 0.89616253,\n",
      "       0.88487585, 0.88713318, 0.89164786, 0.87810384, 0.88487585,\n",
      "       0.88939052, 0.88713318, 0.89616253, 0.89390519, 0.88487585,\n",
      "       0.89390519, 0.89616253, 0.89616253, 0.88939052, 0.89390519,\n",
      "       0.86681716, 0.8758465 , 0.87358916, 0.8758465 , 0.88036117,\n",
      "       0.87810384, 0.87358916, 0.86455982, 0.86004515, 0.86907449,\n",
      "       0.87133183, 0.87133183, 0.8510158 , 0.86907449, 0.86681716,\n",
      "       0.86907449, 0.87133183, 0.87133183, 0.83521445, 0.84650113,\n",
      "       0.85327314, 0.86681716, 0.85778781, 0.86681716, 0.84650113,\n",
      "       0.85553047, 0.85327314, 0.8510158 , 0.84650113, 0.85778781]), 'mean_test_score': array([0.8523974 , 0.86535294, 0.86986253, 0.87211605, 0.87380524,\n",
      "       0.87324218, 0.86986126, 0.87549316, 0.87605876, 0.88056581,\n",
      "       0.88056581, 0.88112887, 0.87493391, 0.88620279, 0.88395054,\n",
      "       0.88169193, 0.88281933, 0.88338494, 0.86817461, 0.87775049,\n",
      "       0.88000529, 0.88281933, 0.88226135, 0.88338621, 0.86423698,\n",
      "       0.87212495, 0.87381541, 0.87606766, 0.8783161 , 0.87944477,\n",
      "       0.86253762, 0.87211478, 0.87042432, 0.87155172, 0.87099119,\n",
      "       0.87042686, 0.86648288, 0.86422554, 0.864223  , 0.8670434 ,\n",
      "       0.86817079, 0.86929692, 0.86027647, 0.86648033, 0.86873132,\n",
      "       0.86648033, 0.86591854, 0.86422935, 0.85407388, 0.85802168,\n",
      "       0.86196693, 0.86310069, 0.86253254, 0.86310069, 0.84844961,\n",
      "       0.8619682 , 0.86196693, 0.86309179, 0.86140006, 0.86422173]), 'std_test_score': array([0.0116108 , 0.00890733, 0.01115256, 0.00858303, 0.00471409,\n",
      "       0.00322721, 0.00678668, 0.01118779, 0.00854166, 0.00965777,\n",
      "       0.00824071, 0.0090341 , 0.00844134, 0.00657349, 0.00871318,\n",
      "       0.00862532, 0.00612245, 0.00871902, 0.00711459, 0.00857718,\n",
      "       0.00778731, 0.00471874, 0.01003833, 0.00761702, 0.01236844,\n",
      "       0.01505347, 0.01424144, 0.01352003, 0.00737618, 0.01458015,\n",
      "       0.00853783, 0.009032  , 0.01011213, 0.00568832, 0.00953848,\n",
      "       0.01033081, 0.00449609, 0.00643924, 0.00467777, 0.0065423 ,\n",
      "       0.0071778 , 0.00417656, 0.00587408, 0.00621266, 0.00584752,\n",
      "       0.0028568 , 0.00508245, 0.00729171, 0.01367626, 0.00690093,\n",
      "       0.00594469, 0.00394902, 0.00288957, 0.00394902, 0.00835142,\n",
      "       0.00632641, 0.00572739, 0.00749792, 0.00879627, 0.00497887]), 'rank_test_score': array([59, 41, 30, 24, 21, 22, 31, 18, 17, 10, 10,  9, 19,  1,  2,  8,  6,\n",
      "        4, 34, 15, 12,  5,  7,  3, 42, 23, 20, 16, 14, 13, 50, 25, 29, 26,\n",
      "       27, 28, 37, 44, 45, 36, 35, 32, 56, 38, 33, 38, 40, 43, 58, 57, 53,\n",
      "       47, 51, 48, 60, 52, 53, 49, 55, 46], dtype=int32), 'split0_train_score': array([0.99398948, 0.99398948, 0.99398948, 0.99398948, 0.99398948,\n",
      "       0.99398948, 0.99398948, 0.99398948, 0.99398948, 0.99398948,\n",
      "       0.99398948, 0.99398948, 0.99398948, 0.99398948, 0.99398948,\n",
      "       0.99398948, 0.99398948, 0.99398948, 0.99398948, 0.99398948,\n",
      "       0.99398948, 0.99398948, 0.99398948, 0.99398948, 0.99398948,\n",
      "       0.99398948, 0.99398948, 0.99398948, 0.99398948, 0.99398948,\n",
      "       0.99398948, 0.99398948, 0.99398948, 0.99398948, 0.99398948,\n",
      "       0.99398948, 0.99398948, 0.99398948, 0.99398948, 0.99398948,\n",
      "       0.99398948, 0.99398948, 0.99398948, 0.99398948, 0.99398948,\n",
      "       0.99398948, 0.99398948, 0.99398948, 0.99398948, 0.99398948,\n",
      "       0.99398948, 0.99398948, 0.99398948, 0.99398948, 0.99398948,\n",
      "       0.99398948, 0.99398948, 0.99398948, 0.99398948, 0.99398948]), 'split1_train_score': array([0.99398948, 0.99398948, 0.99398948, 0.99398948, 0.99398948,\n",
      "       0.99398948, 0.99398948, 0.99398948, 0.99398948, 0.99398948,\n",
      "       0.99398948, 0.99398948, 0.99398948, 0.99398948, 0.99398948,\n",
      "       0.99398948, 0.99398948, 0.99398948, 0.99398948, 0.99398948,\n",
      "       0.99398948, 0.99398948, 0.99398948, 0.99398948, 0.99398948,\n",
      "       0.99398948, 0.99398948, 0.99398948, 0.99398948, 0.99398948,\n",
      "       0.99398948, 0.99398948, 0.99398948, 0.99398948, 0.99398948,\n",
      "       0.99398948, 0.99398948, 0.99398948, 0.99398948, 0.99398948,\n",
      "       0.99398948, 0.99398948, 0.99398948, 0.99398948, 0.99398948,\n",
      "       0.99398948, 0.99398948, 0.99398948, 0.99398948, 0.99398948,\n",
      "       0.99398948, 0.99398948, 0.99398948, 0.99398948, 0.99398948,\n",
      "       0.99398948, 0.99398948, 0.99398948, 0.99398948, 0.99398948]), 'split2_train_score': array([0.99398948, 0.99398948, 0.99398948, 0.99398948, 0.99398948,\n",
      "       0.99398948, 0.99398948, 0.99398948, 0.99398948, 0.99398948,\n",
      "       0.99398948, 0.99398948, 0.99398948, 0.99398948, 0.99398948,\n",
      "       0.99398948, 0.99398948, 0.99398948, 0.99398948, 0.99398948,\n",
      "       0.99398948, 0.99398948, 0.99398948, 0.99398948, 0.99398948,\n",
      "       0.99398948, 0.99398948, 0.99398948, 0.99398948, 0.99398948,\n",
      "       0.99398948, 0.99398948, 0.99398948, 0.99398948, 0.99398948,\n",
      "       0.99398948, 0.99398948, 0.99398948, 0.99398948, 0.99398948,\n",
      "       0.99398948, 0.99398948, 0.99398948, 0.99398948, 0.99398948,\n",
      "       0.99398948, 0.99398948, 0.99398948, 0.99398948, 0.99398948,\n",
      "       0.99398948, 0.99398948, 0.99398948, 0.99398948, 0.99398948,\n",
      "       0.99398948, 0.99398948, 0.99398948, 0.99398948, 0.99398948]), 'split3_train_score': array([0.99324324, 0.99324324, 0.99324324, 0.99324324, 0.99324324,\n",
      "       0.99324324, 0.99324324, 0.99324324, 0.99324324, 0.99324324,\n",
      "       0.99324324, 0.99324324, 0.99324324, 0.99324324, 0.99324324,\n",
      "       0.99324324, 0.99324324, 0.99324324, 0.99324324, 0.99324324,\n",
      "       0.99324324, 0.99324324, 0.99324324, 0.99324324, 0.99324324,\n",
      "       0.99324324, 0.99324324, 0.99324324, 0.99324324, 0.99324324,\n",
      "       0.99324324, 0.99324324, 0.99324324, 0.99324324, 0.99324324,\n",
      "       0.99324324, 0.99324324, 0.99324324, 0.99324324, 0.99324324,\n",
      "       0.99324324, 0.99324324, 0.99324324, 0.99324324, 0.99324324,\n",
      "       0.99324324, 0.99324324, 0.99324324, 0.99324324, 0.99324324,\n",
      "       0.99324324, 0.99324324, 0.99324324, 0.99324324, 0.99324324,\n",
      "       0.99324324, 0.99324324, 0.99324324, 0.99324324, 0.99324324]), 'mean_train_score': array([0.99380292, 0.99380292, 0.99380292, 0.99380292, 0.99380292,\n",
      "       0.99380292, 0.99380292, 0.99380292, 0.99380292, 0.99380292,\n",
      "       0.99380292, 0.99380292, 0.99380292, 0.99380292, 0.99380292,\n",
      "       0.99380292, 0.99380292, 0.99380292, 0.99380292, 0.99380292,\n",
      "       0.99380292, 0.99380292, 0.99380292, 0.99380292, 0.99380292,\n",
      "       0.99380292, 0.99380292, 0.99380292, 0.99380292, 0.99380292,\n",
      "       0.99380292, 0.99380292, 0.99380292, 0.99380292, 0.99380292,\n",
      "       0.99380292, 0.99380292, 0.99380292, 0.99380292, 0.99380292,\n",
      "       0.99380292, 0.99380292, 0.99380292, 0.99380292, 0.99380292,\n",
      "       0.99380292, 0.99380292, 0.99380292, 0.99380292, 0.99380292,\n",
      "       0.99380292, 0.99380292, 0.99380292, 0.99380292, 0.99380292,\n",
      "       0.99380292, 0.99380292, 0.99380292, 0.99380292, 0.99380292]), 'std_train_score': array([0.00032313, 0.00032313, 0.00032313, 0.00032313, 0.00032313,\n",
      "       0.00032313, 0.00032313, 0.00032313, 0.00032313, 0.00032313,\n",
      "       0.00032313, 0.00032313, 0.00032313, 0.00032313, 0.00032313,\n",
      "       0.00032313, 0.00032313, 0.00032313, 0.00032313, 0.00032313,\n",
      "       0.00032313, 0.00032313, 0.00032313, 0.00032313, 0.00032313,\n",
      "       0.00032313, 0.00032313, 0.00032313, 0.00032313, 0.00032313,\n",
      "       0.00032313, 0.00032313, 0.00032313, 0.00032313, 0.00032313,\n",
      "       0.00032313, 0.00032313, 0.00032313, 0.00032313, 0.00032313,\n",
      "       0.00032313, 0.00032313, 0.00032313, 0.00032313, 0.00032313,\n",
      "       0.00032313, 0.00032313, 0.00032313, 0.00032313, 0.00032313,\n",
      "       0.00032313, 0.00032313, 0.00032313, 0.00032313, 0.00032313,\n",
      "       0.00032313, 0.00032313, 0.00032313, 0.00032313, 0.00032313])}\n"
     ]
    },
    {
     "data": {
      "text/plain": "<Figure size 576x576 with 2 Axes>",
      "image/png": "[encoded data removed]"
     },
     "metadata": {
      "needs_background": "light"
     },
     "output_type": "display_data"
    }
   ],
   "source": [
    "\n",
    "graph_grid_search_random_forest(grid_search_t3)"
   ],
   "metadata": {
    "collapsed": false,
    "pycharm": {
     "name": "#%%\n"
    }
   }
  },
  {
   "cell_type": "code",
   "execution_count": 18,
   "outputs": [
    {
     "name": "stdout",
     "output_type": "stream",
     "text": [
      "Train:  0.9915492957746479\n",
      "Test:  0.8918918918918919\n"
     ]
    }
   ],
   "source": [
    "rf = RandomForestClassifier(max_features=5, n_estimators=500).fit(X_train, y_train)\n",
    "y_predictions = rf.predict(X_test)\n",
    "print(\"Train: \", rf.score(X_train, y_train))\n",
    "print(\"Test: \", rf.score(X_test, y_test))"
   ],
   "metadata": {
    "collapsed": false,
    "pycharm": {
     "name": "#%%\n"
    }
   }
  },
  {
   "cell_type": "markdown",
   "source": [
    "standard"
   ],
   "metadata": {
    "collapsed": false
   }
  },
  {
   "cell_type": "code",
   "execution_count": 5,
   "outputs": [
    {
     "name": "stdout",
     "output_type": "stream",
     "text": [
      "Best n_estimators: 500\n",
      "Best max_features: 5\n",
      "Accuracy:  0.3783783783783784\n"
     ]
    }
   ],
   "source": [
    "\n",
    "np.random.seed(42)\n",
    "\n",
    "n_estimators = np.linspace(100, 600, 6, dtype=int)\n",
    "max_features = np.linspace(1, 10, 10, dtype=int)\n",
    "\n",
    "grid_search_standard = grid_search_random_forest(n_estimators, max_features, X_train_standard)\n"
   ],
   "metadata": {
    "collapsed": false,
    "pycharm": {
     "name": "#%%\n"
    }
   }
  },
  {
   "cell_type": "code",
   "execution_count": 6,
   "outputs": [
    {
     "name": "stdout",
     "output_type": "stream",
     "text": [
      "0.9915492957746479\n",
      "0.8918918918918919\n"
     ]
    }
   ],
   "source": [
    "rf_standard = RandomForestClassifier(\n",
    "    n_estimators=grid_search_standard.best_params_['n_estimators'],\n",
    "    max_features=grid_search_standard.best_params_['max_features'],\n",
    ").fit(X_train_standard, y_train)\n",
    "print(rf_standard.score(X_train_standard, y_train))\n",
    "print(rf_standard.score(X_test_standard, y_test))"
   ],
   "metadata": {
    "collapsed": false,
    "pycharm": {
     "name": "#%%\n"
    }
   }
  },
  {
   "cell_type": "markdown",
   "source": [
    "robust"
   ],
   "metadata": {
    "collapsed": false
   }
  },
  {
   "cell_type": "code",
   "execution_count": 7,
   "outputs": [
    {
     "name": "stdout",
     "output_type": "stream",
     "text": [
      "Best n_estimators: 500\n",
      "Best max_features: 5\n",
      "Accuracy:  0.6148648648648649\n"
     ]
    }
   ],
   "source": [
    "\n",
    "np.random.seed(42)\n",
    "\n",
    "n_estimators = np.linspace(100, 600, 6, dtype=int)\n",
    "max_features = np.linspace(1, 10, 10, dtype=int)\n",
    "\n",
    "grid_search_robust = grid_search_random_forest(n_estimators, max_features, X_train_robust)"
   ],
   "metadata": {
    "collapsed": false,
    "pycharm": {
     "name": "#%%\n"
    }
   }
  },
  {
   "cell_type": "code",
   "execution_count": 8,
   "outputs": [
    {
     "name": "stdout",
     "output_type": "stream",
     "text": [
      "0.9915492957746479\n",
      "0.8918918918918919\n"
     ]
    }
   ],
   "source": [
    "\n",
    "\n",
    "rf_robust = RandomForestClassifier(\n",
    "    n_estimators=grid_search_robust.best_params_['n_estimators'],\n",
    "    max_features=grid_search_robust.best_params_['max_features'],\n",
    ").fit(X_train_robust, y_train)\n",
    "print(rf_robust.score(X_train_robust, y_train))\n",
    "print(rf_robust.score(X_test_robust, y_test))"
   ],
   "metadata": {
    "collapsed": false,
    "pycharm": {
     "name": "#%%\n"
    }
   }
  },
  {
   "cell_type": "markdown",
   "source": [
    "minmax"
   ],
   "metadata": {
    "collapsed": false
   }
  },
  {
   "cell_type": "code",
   "execution_count": 9,
   "outputs": [
    {
     "name": "stdout",
     "output_type": "stream",
     "text": [
      "Best n_estimators: 500\n",
      "Best max_features: 5\n",
      "Accuracy:  0.5968468468468469\n"
     ]
    }
   ],
   "source": [
    "\n",
    "np.random.seed(42)\n",
    "\n",
    "n_estimators = np.linspace(100, 600, 6, dtype=int)\n",
    "max_features = np.linspace(1, 10, 10, dtype=int)\n",
    "\n",
    "grid_search_minmax = grid_search_random_forest(n_estimators, max_features, X_train_minmax)\n"
   ],
   "metadata": {
    "collapsed": false,
    "pycharm": {
     "name": "#%%\n"
    }
   }
  },
  {
   "cell_type": "code",
   "execution_count": 10,
   "outputs": [
    {
     "name": "stdout",
     "output_type": "stream",
     "text": [
      "0.9915492957746479\n",
      "0.8918918918918919\n"
     ]
    }
   ],
   "source": [
    "\n",
    "rf_minmax = RandomForestClassifier(\n",
    "    n_estimators=grid_search_minmax.best_params_['n_estimators'],\n",
    "    max_features=grid_search_minmax.best_params_['max_features'],\n",
    ").fit(X_train_minmax, y_train)\n",
    "print(rf_minmax.score(X_train_minmax, y_train))\n",
    "print(rf_minmax.score(X_test_minmax, y_test))\n"
   ],
   "metadata": {
    "collapsed": false,
    "pycharm": {
     "name": "#%%\n"
    }
   }
  },
  {
   "cell_type": "markdown",
   "source": [
    "pca"
   ],
   "metadata": {
    "collapsed": false
   }
  },
  {
   "cell_type": "code",
   "execution_count": 11,
   "outputs": [
    {
     "name": "stdout",
     "output_type": "stream",
     "text": [
      "Best n_estimators: 600\n",
      "Best max_features: 3\n"
     ]
    },
    {
     "ename": "ValueError",
     "evalue": "X has 64 features, but RandomForestClassifier is expecting 56 features as input.",
     "output_type": "error",
     "traceback": [
      "\u001B[0;31m---------------------------------------------------------------------------\u001B[0m",
      "\u001B[0;31mValueError\u001B[0m                                Traceback (most recent call last)",
      "Input \u001B[0;32mIn [11]\u001B[0m, in \u001B[0;36m<module>\u001B[0;34m\u001B[0m\n\u001B[1;32m      3\u001B[0m n_estimators \u001B[38;5;241m=\u001B[39m np\u001B[38;5;241m.\u001B[39mlinspace(\u001B[38;5;241m100\u001B[39m, \u001B[38;5;241m600\u001B[39m, \u001B[38;5;241m6\u001B[39m, dtype\u001B[38;5;241m=\u001B[39m\u001B[38;5;28mint\u001B[39m)\n\u001B[1;32m      4\u001B[0m max_features \u001B[38;5;241m=\u001B[39m np\u001B[38;5;241m.\u001B[39mlinspace(\u001B[38;5;241m1\u001B[39m, \u001B[38;5;241m10\u001B[39m, \u001B[38;5;241m10\u001B[39m, dtype\u001B[38;5;241m=\u001B[39m\u001B[38;5;28mint\u001B[39m)\n\u001B[0;32m----> 6\u001B[0m grid_search_pca \u001B[38;5;241m=\u001B[39m \u001B[43mgrid_search_random_forest\u001B[49m\u001B[43m(\u001B[49m\u001B[43mn_estimators\u001B[49m\u001B[43m,\u001B[49m\u001B[43m \u001B[49m\u001B[43mmax_features\u001B[49m\u001B[43m,\u001B[49m\u001B[43m \u001B[49m\u001B[43mX_train_pca\u001B[49m\u001B[43m)\u001B[49m\n",
      "Input \u001B[0;32mIn [3]\u001B[0m, in \u001B[0;36mgrid_search_random_forest\u001B[0;34m(n_estimators, max_features, X_train_data, max_depth, max_leaf_nodes)\u001B[0m\n\u001B[1;32m     13\u001B[0m grid_search \u001B[38;5;241m=\u001B[39m GridSearchCV(\n\u001B[1;32m     14\u001B[0m     classifier,\n\u001B[1;32m     15\u001B[0m     parameters,\n\u001B[1;32m     16\u001B[0m     cv\u001B[38;5;241m=\u001B[39m\u001B[38;5;241m4\u001B[39m,\n\u001B[1;32m     17\u001B[0m     return_train_score\u001B[38;5;241m=\u001B[39m\u001B[38;5;28;01mTrue\u001B[39;00m,\n\u001B[1;32m     18\u001B[0m )\n\u001B[1;32m     20\u001B[0m grid_search\u001B[38;5;241m.\u001B[39mfit(X_train_data, y_train)\n\u001B[0;32m---> 21\u001B[0m \u001B[43mprint_grid_search_results\u001B[49m\u001B[43m(\u001B[49m\u001B[43mgrid_search\u001B[49m\u001B[43m,\u001B[49m\u001B[43m \u001B[49m\u001B[43mparameters\u001B[49m\u001B[43m)\u001B[49m\n\u001B[1;32m     22\u001B[0m \u001B[38;5;28;01mreturn\u001B[39;00m grid_search\n",
      "Input \u001B[0;32mIn [3]\u001B[0m, in \u001B[0;36mprint_grid_search_results\u001B[0;34m(grid_search, parameters)\u001B[0m\n\u001B[1;32m     26\u001B[0m \u001B[38;5;28;01mfor\u001B[39;00m parameter \u001B[38;5;129;01min\u001B[39;00m parameters:\n\u001B[1;32m     27\u001B[0m     \u001B[38;5;28mprint\u001B[39m(\u001B[38;5;124mf\u001B[39m\u001B[38;5;124m'\u001B[39m\u001B[38;5;124mBest \u001B[39m\u001B[38;5;132;01m{\u001B[39;00mparameter\u001B[38;5;132;01m}\u001B[39;00m\u001B[38;5;124m:\u001B[39m\u001B[38;5;124m'\u001B[39m, grid_search\u001B[38;5;241m.\u001B[39mbest_params_[parameter])\n\u001B[0;32m---> 28\u001B[0m predictions \u001B[38;5;241m=\u001B[39m \u001B[43mgrid_search\u001B[49m\u001B[38;5;241;43m.\u001B[39;49m\u001B[43mpredict\u001B[49m\u001B[43m(\u001B[49m\u001B[43mX_test\u001B[49m\u001B[43m)\u001B[49m\n\u001B[1;32m     29\u001B[0m \u001B[38;5;28mprint\u001B[39m(\u001B[38;5;124m\"\u001B[39m\u001B[38;5;124mAccuracy: \u001B[39m\u001B[38;5;124m\"\u001B[39m, metrics\u001B[38;5;241m.\u001B[39maccuracy_score(y_test, predictions))\n",
      "File \u001B[0;32m~/workspace/cse590-machine-learning/venv/lib/python3.9/site-packages/sklearn/utils/metaestimators.py:113\u001B[0m, in \u001B[0;36m_AvailableIfDescriptor.__get__.<locals>.<lambda>\u001B[0;34m(*args, **kwargs)\u001B[0m\n\u001B[1;32m    110\u001B[0m         \u001B[38;5;28;01mraise\u001B[39;00m attr_err\n\u001B[1;32m    112\u001B[0m     \u001B[38;5;66;03m# lambda, but not partial, allows help() to work with update_wrapper\u001B[39;00m\n\u001B[0;32m--> 113\u001B[0m     out \u001B[38;5;241m=\u001B[39m \u001B[38;5;28;01mlambda\u001B[39;00m \u001B[38;5;241m*\u001B[39margs, \u001B[38;5;241m*\u001B[39m\u001B[38;5;241m*\u001B[39mkwargs: \u001B[38;5;28;43mself\u001B[39;49m\u001B[38;5;241;43m.\u001B[39;49m\u001B[43mfn\u001B[49m\u001B[43m(\u001B[49m\u001B[43mobj\u001B[49m\u001B[43m,\u001B[49m\u001B[43m \u001B[49m\u001B[38;5;241;43m*\u001B[39;49m\u001B[43margs\u001B[49m\u001B[43m,\u001B[49m\u001B[43m \u001B[49m\u001B[38;5;241;43m*\u001B[39;49m\u001B[38;5;241;43m*\u001B[39;49m\u001B[43mkwargs\u001B[49m\u001B[43m)\u001B[49m  \u001B[38;5;66;03m# noqa\u001B[39;00m\n\u001B[1;32m    114\u001B[0m \u001B[38;5;28;01melse\u001B[39;00m:\n\u001B[1;32m    116\u001B[0m     \u001B[38;5;28;01mdef\u001B[39;00m \u001B[38;5;21mfn\u001B[39m(\u001B[38;5;241m*\u001B[39margs, \u001B[38;5;241m*\u001B[39m\u001B[38;5;241m*\u001B[39mkwargs):\n",
      "File \u001B[0;32m~/workspace/cse590-machine-learning/venv/lib/python3.9/site-packages/sklearn/model_selection/_search.py:521\u001B[0m, in \u001B[0;36mBaseSearchCV.predict\u001B[0;34m(self, X)\u001B[0m\n\u001B[1;32m    503\u001B[0m \u001B[38;5;124;03m\"\"\"Call predict on the estimator with the best found parameters.\u001B[39;00m\n\u001B[1;32m    504\u001B[0m \n\u001B[1;32m    505\u001B[0m \u001B[38;5;124;03mOnly available if ``refit=True`` and the underlying estimator supports\u001B[39;00m\n\u001B[0;32m   (...)\u001B[0m\n\u001B[1;32m    518\u001B[0m \u001B[38;5;124;03m    the best found parameters.\u001B[39;00m\n\u001B[1;32m    519\u001B[0m \u001B[38;5;124;03m\"\"\"\u001B[39;00m\n\u001B[1;32m    520\u001B[0m check_is_fitted(\u001B[38;5;28mself\u001B[39m)\n\u001B[0;32m--> 521\u001B[0m \u001B[38;5;28;01mreturn\u001B[39;00m \u001B[38;5;28;43mself\u001B[39;49m\u001B[38;5;241;43m.\u001B[39;49m\u001B[43mbest_estimator_\u001B[49m\u001B[38;5;241;43m.\u001B[39;49m\u001B[43mpredict\u001B[49m\u001B[43m(\u001B[49m\u001B[43mX\u001B[49m\u001B[43m)\u001B[49m\n",
      "File \u001B[0;32m~/workspace/cse590-machine-learning/venv/lib/python3.9/site-packages/sklearn/ensemble/_forest.py:808\u001B[0m, in \u001B[0;36mForestClassifier.predict\u001B[0;34m(self, X)\u001B[0m\n\u001B[1;32m    787\u001B[0m \u001B[38;5;28;01mdef\u001B[39;00m \u001B[38;5;21mpredict\u001B[39m(\u001B[38;5;28mself\u001B[39m, X):\n\u001B[1;32m    788\u001B[0m     \u001B[38;5;124;03m\"\"\"\u001B[39;00m\n\u001B[1;32m    789\u001B[0m \u001B[38;5;124;03m    Predict class for X.\u001B[39;00m\n\u001B[1;32m    790\u001B[0m \n\u001B[0;32m   (...)\u001B[0m\n\u001B[1;32m    806\u001B[0m \u001B[38;5;124;03m        The predicted classes.\u001B[39;00m\n\u001B[1;32m    807\u001B[0m \u001B[38;5;124;03m    \"\"\"\u001B[39;00m\n\u001B[0;32m--> 808\u001B[0m     proba \u001B[38;5;241m=\u001B[39m \u001B[38;5;28;43mself\u001B[39;49m\u001B[38;5;241;43m.\u001B[39;49m\u001B[43mpredict_proba\u001B[49m\u001B[43m(\u001B[49m\u001B[43mX\u001B[49m\u001B[43m)\u001B[49m\n\u001B[1;32m    810\u001B[0m     \u001B[38;5;28;01mif\u001B[39;00m \u001B[38;5;28mself\u001B[39m\u001B[38;5;241m.\u001B[39mn_outputs_ \u001B[38;5;241m==\u001B[39m \u001B[38;5;241m1\u001B[39m:\n\u001B[1;32m    811\u001B[0m         \u001B[38;5;28;01mreturn\u001B[39;00m \u001B[38;5;28mself\u001B[39m\u001B[38;5;241m.\u001B[39mclasses_\u001B[38;5;241m.\u001B[39mtake(np\u001B[38;5;241m.\u001B[39margmax(proba, axis\u001B[38;5;241m=\u001B[39m\u001B[38;5;241m1\u001B[39m), axis\u001B[38;5;241m=\u001B[39m\u001B[38;5;241m0\u001B[39m)\n",
      "File \u001B[0;32m~/workspace/cse590-machine-learning/venv/lib/python3.9/site-packages/sklearn/ensemble/_forest.py:850\u001B[0m, in \u001B[0;36mForestClassifier.predict_proba\u001B[0;34m(self, X)\u001B[0m\n\u001B[1;32m    848\u001B[0m check_is_fitted(\u001B[38;5;28mself\u001B[39m)\n\u001B[1;32m    849\u001B[0m \u001B[38;5;66;03m# Check data\u001B[39;00m\n\u001B[0;32m--> 850\u001B[0m X \u001B[38;5;241m=\u001B[39m \u001B[38;5;28;43mself\u001B[39;49m\u001B[38;5;241;43m.\u001B[39;49m\u001B[43m_validate_X_predict\u001B[49m\u001B[43m(\u001B[49m\u001B[43mX\u001B[49m\u001B[43m)\u001B[49m\n\u001B[1;32m    852\u001B[0m \u001B[38;5;66;03m# Assign chunk of trees to jobs\u001B[39;00m\n\u001B[1;32m    853\u001B[0m n_jobs, _, _ \u001B[38;5;241m=\u001B[39m _partition_estimators(\u001B[38;5;28mself\u001B[39m\u001B[38;5;241m.\u001B[39mn_estimators, \u001B[38;5;28mself\u001B[39m\u001B[38;5;241m.\u001B[39mn_jobs)\n",
      "File \u001B[0;32m~/workspace/cse590-machine-learning/venv/lib/python3.9/site-packages/sklearn/ensemble/_forest.py:579\u001B[0m, in \u001B[0;36mBaseForest._validate_X_predict\u001B[0;34m(self, X)\u001B[0m\n\u001B[1;32m    576\u001B[0m \u001B[38;5;124;03m\"\"\"\u001B[39;00m\n\u001B[1;32m    577\u001B[0m \u001B[38;5;124;03mValidate X whenever one tries to predict, apply, predict_proba.\"\"\"\u001B[39;00m\n\u001B[1;32m    578\u001B[0m check_is_fitted(\u001B[38;5;28mself\u001B[39m)\n\u001B[0;32m--> 579\u001B[0m X \u001B[38;5;241m=\u001B[39m \u001B[38;5;28;43mself\u001B[39;49m\u001B[38;5;241;43m.\u001B[39;49m\u001B[43m_validate_data\u001B[49m\u001B[43m(\u001B[49m\u001B[43mX\u001B[49m\u001B[43m,\u001B[49m\u001B[43m \u001B[49m\u001B[43mdtype\u001B[49m\u001B[38;5;241;43m=\u001B[39;49m\u001B[43mDTYPE\u001B[49m\u001B[43m,\u001B[49m\u001B[43m \u001B[49m\u001B[43maccept_sparse\u001B[49m\u001B[38;5;241;43m=\u001B[39;49m\u001B[38;5;124;43m\"\u001B[39;49m\u001B[38;5;124;43mcsr\u001B[39;49m\u001B[38;5;124;43m\"\u001B[39;49m\u001B[43m,\u001B[49m\u001B[43m \u001B[49m\u001B[43mreset\u001B[49m\u001B[38;5;241;43m=\u001B[39;49m\u001B[38;5;28;43;01mFalse\u001B[39;49;00m\u001B[43m)\u001B[49m\n\u001B[1;32m    580\u001B[0m \u001B[38;5;28;01mif\u001B[39;00m issparse(X) \u001B[38;5;129;01mand\u001B[39;00m (X\u001B[38;5;241m.\u001B[39mindices\u001B[38;5;241m.\u001B[39mdtype \u001B[38;5;241m!=\u001B[39m np\u001B[38;5;241m.\u001B[39mintc \u001B[38;5;129;01mor\u001B[39;00m X\u001B[38;5;241m.\u001B[39mindptr\u001B[38;5;241m.\u001B[39mdtype \u001B[38;5;241m!=\u001B[39m np\u001B[38;5;241m.\u001B[39mintc):\n\u001B[1;32m    581\u001B[0m     \u001B[38;5;28;01mraise\u001B[39;00m \u001B[38;5;167;01mValueError\u001B[39;00m(\u001B[38;5;124m\"\u001B[39m\u001B[38;5;124mNo support for np.int64 index based sparse matrices\u001B[39m\u001B[38;5;124m\"\u001B[39m)\n",
      "File \u001B[0;32m~/workspace/cse590-machine-learning/venv/lib/python3.9/site-packages/sklearn/base.py:585\u001B[0m, in \u001B[0;36mBaseEstimator._validate_data\u001B[0;34m(self, X, y, reset, validate_separately, **check_params)\u001B[0m\n\u001B[1;32m    582\u001B[0m     out \u001B[38;5;241m=\u001B[39m X, y\n\u001B[1;32m    584\u001B[0m \u001B[38;5;28;01mif\u001B[39;00m \u001B[38;5;129;01mnot\u001B[39;00m no_val_X \u001B[38;5;129;01mand\u001B[39;00m check_params\u001B[38;5;241m.\u001B[39mget(\u001B[38;5;124m\"\u001B[39m\u001B[38;5;124mensure_2d\u001B[39m\u001B[38;5;124m\"\u001B[39m, \u001B[38;5;28;01mTrue\u001B[39;00m):\n\u001B[0;32m--> 585\u001B[0m     \u001B[38;5;28;43mself\u001B[39;49m\u001B[38;5;241;43m.\u001B[39;49m\u001B[43m_check_n_features\u001B[49m\u001B[43m(\u001B[49m\u001B[43mX\u001B[49m\u001B[43m,\u001B[49m\u001B[43m \u001B[49m\u001B[43mreset\u001B[49m\u001B[38;5;241;43m=\u001B[39;49m\u001B[43mreset\u001B[49m\u001B[43m)\u001B[49m\n\u001B[1;32m    587\u001B[0m \u001B[38;5;28;01mreturn\u001B[39;00m out\n",
      "File \u001B[0;32m~/workspace/cse590-machine-learning/venv/lib/python3.9/site-packages/sklearn/base.py:400\u001B[0m, in \u001B[0;36mBaseEstimator._check_n_features\u001B[0;34m(self, X, reset)\u001B[0m\n\u001B[1;32m    397\u001B[0m     \u001B[38;5;28;01mreturn\u001B[39;00m\n\u001B[1;32m    399\u001B[0m \u001B[38;5;28;01mif\u001B[39;00m n_features \u001B[38;5;241m!=\u001B[39m \u001B[38;5;28mself\u001B[39m\u001B[38;5;241m.\u001B[39mn_features_in_:\n\u001B[0;32m--> 400\u001B[0m     \u001B[38;5;28;01mraise\u001B[39;00m \u001B[38;5;167;01mValueError\u001B[39;00m(\n\u001B[1;32m    401\u001B[0m         \u001B[38;5;124mf\u001B[39m\u001B[38;5;124m\"\u001B[39m\u001B[38;5;124mX has \u001B[39m\u001B[38;5;132;01m{\u001B[39;00mn_features\u001B[38;5;132;01m}\u001B[39;00m\u001B[38;5;124m features, but \u001B[39m\u001B[38;5;132;01m{\u001B[39;00m\u001B[38;5;28mself\u001B[39m\u001B[38;5;241m.\u001B[39m\u001B[38;5;18m__class__\u001B[39m\u001B[38;5;241m.\u001B[39m\u001B[38;5;18m__name__\u001B[39m\u001B[38;5;132;01m}\u001B[39;00m\u001B[38;5;124m \u001B[39m\u001B[38;5;124m\"\u001B[39m\n\u001B[1;32m    402\u001B[0m         \u001B[38;5;124mf\u001B[39m\u001B[38;5;124m\"\u001B[39m\u001B[38;5;124mis expecting \u001B[39m\u001B[38;5;132;01m{\u001B[39;00m\u001B[38;5;28mself\u001B[39m\u001B[38;5;241m.\u001B[39mn_features_in_\u001B[38;5;132;01m}\u001B[39;00m\u001B[38;5;124m features as input.\u001B[39m\u001B[38;5;124m\"\u001B[39m\n\u001B[1;32m    403\u001B[0m     )\n",
      "\u001B[0;31mValueError\u001B[0m: X has 64 features, but RandomForestClassifier is expecting 56 features as input."
     ]
    }
   ],
   "source": [
    "\n",
    "np.random.seed(42)\n",
    "\n",
    "n_estimators = np.linspace(100, 600, 6, dtype=int)\n",
    "max_features = np.linspace(1, 10, 10, dtype=int)\n",
    "\n",
    "grid_search_pca = grid_search_random_forest(n_estimators, max_features, X_train_pca)\n"
   ],
   "metadata": {
    "collapsed": false,
    "pycharm": {
     "name": "#%%\n"
    }
   }
  },
  {
   "cell_type": "code",
   "execution_count": 14,
   "outputs": [
    {
     "name": "stdout",
     "output_type": "stream",
     "text": [
      "0.9915492957746479\n",
      "0.8738738738738738\n"
     ]
    }
   ],
   "source": [
    "\n",
    "rf_pca = RandomForestClassifier(\n",
    "    n_estimators=600,\n",
    "    max_features=3,\n",
    ").fit(X_train_pca, y_train)\n",
    "print(rf_pca.score(X_train_pca, y_train))\n",
    "print(rf_pca.score(X_test_pca, y_test))"
   ],
   "metadata": {
    "collapsed": false,
    "pycharm": {
     "name": "#%%\n"
    }
   }
  },
  {
   "cell_type": "code",
   "execution_count": null,
   "outputs": [],
   "source": [],
   "metadata": {
    "collapsed": false,
    "pycharm": {
     "name": "#%%\n"
    }
   }
  }
 ],
 "metadata": {
  "kernelspec": {
   "display_name": "Python 3",
   "language": "python",
   "name": "python3"
  },
  "language_info": {
   "codemirror_mode": {
    "name": "ipython",
    "version": 2
   },
   "file_extension": ".py",
   "mimetype": "text/x-python",
   "name": "python",
   "nbconvert_exporter": "python",
   "pygments_lexer": "ipython2",
   "version": "2.7.6"
  }
 },
 "nbformat": 4,
 "nbformat_minor": 0
}
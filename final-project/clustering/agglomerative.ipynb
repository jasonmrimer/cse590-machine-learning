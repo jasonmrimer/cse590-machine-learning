{
 "cells": [
  {
   "cell_type": "code",
   "execution_count": 6,
   "metadata": {
    "collapsed": true
   },
   "outputs": [
    {
     "name": "stdout",
     "output_type": "stream",
     "text": [
      "Requirement already satisfied: numpy in /Users/engineer/workspace/cse590-machine-learning/venv/lib/python3.9/site-packages (1.22.1)\r\n",
      "Requirement already satisfied: scipy in /Users/engineer/workspace/cse590-machine-learning/venv/lib/python3.9/site-packages (1.7.3)\r\n",
      "Requirement already satisfied: scikit-learn in /Users/engineer/workspace/cse590-machine-learning/venv/lib/python3.9/site-packages (1.0.2)\r\n",
      "Requirement already satisfied: matplotlib in /Users/engineer/workspace/cse590-machine-learning/venv/lib/python3.9/site-packages (3.5.1)\r\n",
      "Requirement already satisfied: pandas in /Users/engineer/workspace/cse590-machine-learning/venv/lib/python3.9/site-packages (1.4.0)\r\n",
      "Requirement already satisfied: threadpoolctl>=2.0.0 in /Users/engineer/workspace/cse590-machine-learning/venv/lib/python3.9/site-packages (from scikit-learn) (3.0.0)\r\n",
      "Requirement already satisfied: joblib>=0.11 in /Users/engineer/workspace/cse590-machine-learning/venv/lib/python3.9/site-packages (from scikit-learn) (1.1.0)\r\n",
      "Requirement already satisfied: pillow>=6.2.0 in /Users/engineer/workspace/cse590-machine-learning/venv/lib/python3.9/site-packages (from matplotlib) (9.0.0)\r\n",
      "Requirement already satisfied: fonttools>=4.22.0 in /Users/engineer/workspace/cse590-machine-learning/venv/lib/python3.9/site-packages (from matplotlib) (4.29.0)\r\n",
      "Requirement already satisfied: cycler>=0.10 in /Users/engineer/workspace/cse590-machine-learning/venv/lib/python3.9/site-packages (from matplotlib) (0.11.0)\r\n",
      "Requirement already satisfied: kiwisolver>=1.0.1 in /Users/engineer/workspace/cse590-machine-learning/venv/lib/python3.9/site-packages (from matplotlib) (1.3.2)\r\n",
      "Requirement already satisfied: pyparsing>=2.2.1 in /Users/engineer/workspace/cse590-machine-learning/venv/lib/python3.9/site-packages (from matplotlib) (3.0.7)\r\n",
      "Requirement already satisfied: python-dateutil>=2.7 in /Users/engineer/workspace/cse590-machine-learning/venv/lib/python3.9/site-packages (from matplotlib) (2.8.2)\r\n",
      "Requirement already satisfied: packaging>=20.0 in /Users/engineer/workspace/cse590-machine-learning/venv/lib/python3.9/site-packages (from matplotlib) (21.3)\r\n",
      "Requirement already satisfied: pytz>=2020.1 in /Users/engineer/workspace/cse590-machine-learning/venv/lib/python3.9/site-packages (from pandas) (2021.3)\r\n",
      "Requirement already satisfied: six>=1.5 in /Users/engineer/workspace/cse590-machine-learning/venv/lib/python3.9/site-packages (from python-dateutil>=2.7->matplotlib) (1.16.0)\r\n",
      "\u001B[33mWARNING: You are using pip version 21.3.1; however, version 22.0.4 is available.\r\n",
      "You should consider upgrading via the '/Users/engineer/workspace/cse590-machine-learning/venv/bin/python -m pip install --upgrade pip' command.\u001B[0m\r\n"
     ]
    }
   ],
   "source": [
    "\n",
    "import matplotlib.pyplot as plt\n",
    "import np as np\n",
    "import numpy as np\n",
    "import pandas as pd\n",
    "from matplotlib import cm\n",
    "from scipy.cluster.hierarchy import dendrogram, linkage\n",
    "from sklearn.cluster import KMeans, AgglomerativeClustering\n",
    "from sklearn.decomposition import PCA\n",
    "from sklearn.metrics import silhouette_samples\n",
    "from sklearn.model_selection import train_test_split\n",
    "from sklearn.preprocessing import StandardScaler, RobustScaler, MinMaxScaler\n",
    "\n",
    "!pip install numpy scipy scikit-learn matplotlib pandas\n",
    "from sklearn.model_selection import GridSearchCV\n"
   ]
  },
  {
   "cell_type": "code",
   "execution_count": 2,
   "outputs": [],
   "source": [
    "X = pd.read_csv(\"../dataset/extracted_features.csv\").values\n",
    "y = pd.read_csv(\"../dataset/labels.csv\").values.ravel()\n",
    "# images = pd.read_csv(\"../dataset/raw_images.csv\").values\n",
    "# X_train, X_test, y_train, y_test = train_test_split(X, y, test_size=0.2, random_state=42, shuffle=True, stratify=y)\n",
    "# y_train = y_train.ravel()\n",
    "\n",
    "scaler_standard = StandardScaler().fit(X)\n",
    "X_standard = scaler_standard.transform(X)\n",
    "\n",
    "scaler_robust = RobustScaler().fit(X)\n",
    "X_robust = scaler_robust.transform(X)\n",
    "\n",
    "scaler_minmax = MinMaxScaler().fit(X)\n",
    "X_minmax = scaler_minmax.transform(X)\n"
   ],
   "metadata": {
    "collapsed": false,
    "pycharm": {
     "name": "#%%\n"
    }
   }
  },
  {
   "cell_type": "code",
   "execution_count": 3,
   "outputs": [],
   "source": [
    "def shape_parameters(n_clusters):\n",
    "    return dict(n_clusters=n_clusters)\n",
    "\n",
    "\n",
    "def run_grid_kmeans(hyper_parameters, X_data):\n",
    "    clusterer = KMeans()\n",
    "    grid_search = GridSearchCV(\n",
    "        estimator=clusterer,\n",
    "        param_grid=hyper_parameters,\n",
    "        cv=2\n",
    "    )\n",
    "    grid_search.fit(X_data)\n",
    "\n",
    "    return grid_search\n",
    "\n",
    "\n",
    "def display_dendrogram(X_data, linkage_type):\n",
    "    linkage_array = linkage(X_data, linkage_type)\n",
    "    # fig = plt.figure(figsize=(128, 32))\n",
    "    dendro = dendrogram(linkage_array, truncate_mode='level', p=10)\n",
    "    plt.show(dendro)\n",
    "\n",
    "\n",
    "def display_images(image_collection, image_indices):\n",
    "    fig, axes = plt.subplots(ncols=len(image_indices))\n",
    "    for i in range(0, len(image_indices)):\n",
    "        ax = axes[i]\n",
    "        ax.imshow(image_collection[image_indices[i]].reshape(32, 32, 3))\n",
    "        for spine in ax.spines.values():\n",
    "            spine.set_visible(False)\n",
    "        ax.tick_params(\n",
    "            bottom=False, labelbottom=False,\n",
    "            left=False, labelleft=False\n",
    "        )\n",
    "        ax.grid(False)\n",
    "    plt.show()\n",
    "\n",
    "\n",
    "def display_silhouette_plot(X_data, agg_labels):\n",
    "    cluster_labels = np.unique(agg_labels)\n",
    "    n_clusters = cluster_labels.shape[0]\n",
    "    silhouette_values = silhouette_samples(\n",
    "        X_data,\n",
    "        agg_labels,\n",
    "        metric='euclidean'\n",
    "    )\n",
    "    y_ax_lower, y_ax_upper = 0, 0\n",
    "    y_ticks = []\n",
    "\n",
    "    for i, c in enumerate(cluster_labels):\n",
    "        c_silhouette_values = silhouette_values[agg_labels == c]\n",
    "        c_silhouette_values.sort()\n",
    "        y_ax_upper += len(c_silhouette_values)\n",
    "        color = cm.jet(float(i) / n_clusters)\n",
    "        plt.barh(\n",
    "            range(y_ax_lower, y_ax_upper),\n",
    "            c_silhouette_values,\n",
    "            height=1.0,\n",
    "            edgecolor='none',\n",
    "            color=color\n",
    "        )\n",
    "        y_ticks.append((y_ax_lower + y_ax_upper) / 2.)\n",
    "        y_ax_lower += len(c_silhouette_values)\n",
    "    silhouette_average = np.mean(silhouette_values)\n",
    "    plt.axvline(silhouette_average, color='red', linestyle='--')\n",
    "    plt.yticks(y_ticks, cluster_labels + 1)\n",
    "    plt.ylabel('Cluster')\n",
    "    plt.xlabel('Silhouette Coefficient')\n",
    "    plt.tight_layout()\n",
    "    plt.show()\n",
    "\n",
    "\n",
    "def index_from_value(value_list_primary, value_list_refined):\n",
    "    indices = []\n",
    "    for val in value_list_refined:\n",
    "        indices.append(np.where(value_list_primary == val)[0][0])\n",
    "    return indices\n",
    "\n",
    "def get_core_indices(silhouette_values, pred_labels, core):\n",
    "    core_silhouettes = silhouette_values[pred_labels == core]\n",
    "    core_silhouettes = np.sort(core_silhouettes)[::-1][0:5]\n",
    "    return index_from_value(silhouette_values, core_silhouettes)\n",
    "\n",
    "def get_boundary_indices(silhouette_values, pred_labels, core):\n",
    "    core_silhouettes = silhouette_values[pred_labels == core]\n",
    "    boundary_silhouettes = list(filter(lambda _silhouette: -.001 < _silhouette < 0.001, core_silhouettes))\n",
    "    return index_from_value(silhouette_values, boundary_silhouettes)\n"
   ],
   "metadata": {
    "collapsed": false,
    "pycharm": {
     "name": "#%%\n"
    }
   }
  },
  {
   "cell_type": "code",
   "execution_count": 41,
   "outputs": [],
   "source": [],
   "metadata": {
    "collapsed": false,
    "pycharm": {
     "name": "#%%\n"
    }
   }
  },
  {
   "cell_type": "markdown",
   "source": [
    "## Ward linkage"
   ],
   "metadata": {
    "collapsed": false
   }
  },
  {
   "cell_type": "markdown",
   "source": [
    "ward dendrogram"
   ],
   "metadata": {
    "collapsed": false
   }
  },
  {
   "cell_type": "code",
   "execution_count": 8,
   "outputs": [
    {
     "data": {
      "text/plain": "<Figure size 432x288 with 1 Axes>",
      "image/png": "[encoded data removed]"
     },
     "metadata": {
      "needs_background": "light"
     },
     "output_type": "display_data"
    },
    {
     "data": {
      "text/plain": "<Figure size 432x288 with 1 Axes>",
      "image/png": "[encoded data removed]"
     },
     "metadata": {
      "needs_background": "light"
     },
     "output_type": "display_data"
    }
   ],
   "source": [
    "pca = PCA(n_components=56, random_state=42)\n",
    "X_pca = pca.fit_transform(X_standard)\n",
    "\n",
    "display_dendrogram(X, 'ward')\n",
    "display_dendrogram(X_pca, 'ward')\n"
   ],
   "metadata": {
    "collapsed": false,
    "pycharm": {
     "name": "#%%\n"
    }
   }
  },
  {
   "cell_type": "markdown",
   "source": [
    "wrad silhouette"
   ],
   "metadata": {
    "collapsed": false
   }
  },
  {
   "cell_type": "code",
   "execution_count": 30,
   "outputs": [],
   "source": [
    "agg_ward = AgglomerativeClustering(\n",
    "    n_clusters=4,\n",
    "    linkage='ward'\n",
    ")\n",
    "y_agg_ward = agg_ward.fit_predict(X)"
   ],
   "metadata": {
    "collapsed": false,
    "pycharm": {
     "name": "#%%\n"
    }
   }
  },
  {
   "cell_type": "markdown",
   "source": [
    "## ward standard scaler"
   ],
   "metadata": {
    "collapsed": false
   }
  },
  {
   "cell_type": "code",
   "execution_count": 4,
   "outputs": [
    {
     "data": {
      "text/plain": "<Figure size 432x288 with 1 Axes>",
      "image/png": "[encoded data removed]"
     },
     "metadata": {
      "needs_background": "light"
     },
     "output_type": "display_data"
    }
   ],
   "source": [
    "display_dendrogram(X_standard, 'ward')\n"
   ],
   "metadata": {
    "collapsed": false,
    "pycharm": {
     "name": "#%%\n"
    }
   }
  },
  {
   "cell_type": "code",
   "execution_count": 43,
   "outputs": [],
   "source": [
    "agg_ward_scaled_standard = AgglomerativeClustering(\n",
    "    n_clusters=13,\n",
    "    linkage='ward'\n",
    ")\n",
    "y_agg_ward_scaled_standard = agg_ward_scaled_standard.fit_predict(X_standard)"
   ],
   "metadata": {
    "collapsed": false,
    "pycharm": {
     "name": "#%%\n"
    }
   }
  },
  {
   "cell_type": "code",
   "execution_count": 44,
   "outputs": [
    {
     "data": {
      "text/plain": "<Figure size 576x396 with 1 Axes>",
      "image/png": "[encoded data removed]"
     },
     "metadata": {},
     "output_type": "display_data"
    }
   ],
   "source": [
    "display_silhouette_plot(X_data=X_standard, agg_labels=y_agg_ward_scaled_standard)"
   ],
   "metadata": {
    "collapsed": false,
    "pycharm": {
     "name": "#%%\n"
    }
   }
  },
  {
   "cell_type": "markdown",
   "source": [
    "## ward minmax scaler"
   ],
   "metadata": {
    "collapsed": false
   }
  },
  {
   "cell_type": "code",
   "execution_count": 48,
   "outputs": [
    {
     "data": {
      "text/plain": "<Figure size 576x396 with 1 Axes>",
      "image/png": "[encoded data removed]"
     },
     "metadata": {},
     "output_type": "display_data"
    }
   ],
   "source": [
    "display_dendrogram(X_minmax, 'ward')\n"
   ],
   "metadata": {
    "collapsed": false,
    "pycharm": {
     "name": "#%%\n"
    }
   }
  },
  {
   "cell_type": "code",
   "execution_count": 49,
   "outputs": [],
   "source": [
    "agg_ward_scaled_minmax = AgglomerativeClustering(\n",
    "    n_clusters=8,\n",
    "    linkage='ward'\n",
    ")\n",
    "y_agg_ward_scaled_minmax = agg_ward_scaled_minmax.fit_predict(X_minmax)"
   ],
   "metadata": {
    "collapsed": false,
    "pycharm": {
     "name": "#%%\n"
    }
   }
  },
  {
   "cell_type": "code",
   "execution_count": 50,
   "outputs": [
    {
     "data": {
      "text/plain": "<Figure size 576x396 with 1 Axes>",
      "image/png": "[encoded data removed]"
     },
     "metadata": {},
     "output_type": "display_data"
    }
   ],
   "source": [
    "display_silhouette_plot(X_data=X_minmax, agg_labels=y_agg_ward_scaled_minmax)\n"
   ],
   "metadata": {
    "collapsed": false,
    "pycharm": {
     "name": "#%%\n"
    }
   }
  },
  {
   "cell_type": "markdown",
   "source": [
    "## Singe-link\n",
    "dendrogram"
   ],
   "metadata": {
    "collapsed": false
   }
  },
  {
   "cell_type": "code",
   "execution_count": 9,
   "outputs": [
    {
     "name": "stdout",
     "output_type": "stream",
     "text": [
      "9000\n"
     ]
    },
    {
     "data": {
      "text/plain": "<Figure size 576x396 with 1 Axes>",
      "image/png": "[encoded data removed]"
     },
     "metadata": {},
     "output_type": "display_data"
    }
   ],
   "source": [
    "import sys\n",
    "sys.setrecursionlimit(9000)\n",
    "print(sys.getrecursionlimit())\n",
    "\n",
    "display_dendrogram(X, 'single')\n",
    "sys.setrecursionlimit(1000)\n"
   ],
   "metadata": {
    "collapsed": false,
    "pycharm": {
     "name": "#%%\n"
    }
   }
  },
  {
   "cell_type": "code",
   "execution_count": 9,
   "outputs": [],
   "source": [],
   "metadata": {
    "collapsed": false,
    "pycharm": {
     "name": "#%%\n"
    }
   }
  },
  {
   "cell_type": "code",
   "execution_count": 9,
   "outputs": [],
   "source": [],
   "metadata": {
    "collapsed": false,
    "pycharm": {
     "name": "#%%\n"
    }
   }
  },
  {
   "cell_type": "markdown",
   "source": [
    "single silhouette"
   ],
   "metadata": {
    "collapsed": false
   }
  },
  {
   "cell_type": "code",
   "execution_count": 21,
   "outputs": [],
   "source": [
    "import sys\n",
    "sys.setrecursionlimit(10000)\n",
    "\n",
    "agg_single = AgglomerativeClustering(\n",
    "    linkage='single',\n",
    "    n_clusters=9\n",
    ")\n",
    "y_agg_single = agg_single.fit_predict(X)\n",
    "\n",
    "sys.setrecursionlimit(1000)\n"
   ],
   "metadata": {
    "collapsed": false,
    "pycharm": {
     "name": "#%%\n"
    }
   }
  },
  {
   "cell_type": "code",
   "execution_count": 11,
   "outputs": [
    {
     "name": "stdout",
     "output_type": "stream",
     "text": [
      "[0 1]\n",
      "[0 0 0 ... 0 0 0]\n",
      "1\n"
     ]
    }
   ],
   "source": [
    "print(np.unique(y_agg_single))\n",
    "# np.sum(y_agg_single[] == 0)\n",
    "print(y_agg_single)\n",
    "\n",
    "silhouette_values = silhouette_samples(\n",
    "        X,\n",
    "        y_agg_single,\n",
    "        metric='euclidean'\n",
    ")\n",
    "\n",
    "c_silhouette_values = silhouette_values[y_agg_single == 1]\n",
    "print(len(c_silhouette_values))"
   ],
   "metadata": {
    "collapsed": false,
    "pycharm": {
     "name": "#%%\n"
    }
   }
  },
  {
   "cell_type": "code",
   "execution_count": 22,
   "outputs": [
    {
     "data": {
      "text/plain": "<Figure size 576x396 with 1 Axes>",
      "image/png": "[encoded data removed]"
     },
     "metadata": {},
     "output_type": "display_data"
    }
   ],
   "source": [
    "display_silhouette_plot(X_data=X, agg_labels=y_agg_single)\n"
   ],
   "metadata": {
    "collapsed": false,
    "pycharm": {
     "name": "#%%\n"
    }
   }
  },
  {
   "cell_type": "code",
   "execution_count": 45,
   "outputs": [
    {
     "name": "stdout",
     "output_type": "stream",
     "text": [
      "9000\n"
     ]
    },
    {
     "data": {
      "text/plain": "<Figure size 576x396 with 1 Axes>",
      "image/png": "[encoded data removed]"
     },
     "metadata": {},
     "output_type": "display_data"
    }
   ],
   "source": [
    "import sys\n",
    "sys.setrecursionlimit(9000)\n",
    "print(sys.getrecursionlimit())\n",
    "\n",
    "display_dendrogram(X_standard, 'single')\n",
    "sys.setrecursionlimit(1000)\n"
   ],
   "metadata": {
    "collapsed": false,
    "pycharm": {
     "name": "#%%\n"
    }
   }
  },
  {
   "cell_type": "code",
   "execution_count": null,
   "outputs": [],
   "source": [
    "\n",
    "import sys\n",
    "sys.setrecursionlimit(10000)\n",
    "\n",
    "agg_single = AgglomerativeClustering(\n",
    "    linkage='single',\n",
    "    n_clusters=13\n",
    ")\n",
    "y_agg_single = agg_single.fit_predict(X)\n",
    "\n",
    "sys.setrecursionlimit(1000)\n"
   ],
   "metadata": {
    "collapsed": false,
    "pycharm": {
     "name": "#%%\n"
    }
   }
  },
  {
   "cell_type": "markdown",
   "source": [
    "## Complete linkage"
   ],
   "metadata": {
    "collapsed": false
   }
  },
  {
   "cell_type": "code",
   "execution_count": 26,
   "outputs": [
    {
     "data": {
      "text/plain": "<Figure size 576x396 with 1 Axes>",
      "image/png": "[encoded data removed]"
     },
     "metadata": {},
     "output_type": "display_data"
    }
   ],
   "source": [
    "display_dendrogram(X, 'complete')"
   ],
   "metadata": {
    "collapsed": false,
    "pycharm": {
     "name": "#%%\n"
    }
   }
  },
  {
   "cell_type": "code",
   "execution_count": 27,
   "outputs": [],
   "source": [
    "agg_complete = AgglomerativeClustering(\n",
    "    n_clusters=8,\n",
    "    linkage='complete'\n",
    ")\n",
    "y_agg_complete = agg_complete.fit_predict(X)"
   ],
   "metadata": {
    "collapsed": false,
    "pycharm": {
     "name": "#%%\n"
    }
   }
  },
  {
   "cell_type": "code",
   "execution_count": 14,
   "outputs": [],
   "source": [],
   "metadata": {
    "collapsed": false,
    "pycharm": {
     "name": "#%%\n"
    }
   }
  },
  {
   "cell_type": "code",
   "execution_count": 28,
   "outputs": [
    {
     "data": {
      "text/plain": "<Figure size 576x396 with 1 Axes>",
      "image/png": "[encoded data removed]"
     },
     "metadata": {},
     "output_type": "display_data"
    }
   ],
   "source": [
    "display_silhouette_plot(X_data=X, agg_labels=y_agg_complete)\n"
   ],
   "metadata": {
    "collapsed": false,
    "pycharm": {
     "name": "#%%\n"
    }
   }
  },
  {
   "cell_type": "code",
   "execution_count": 16,
   "outputs": [],
   "source": [
    "# cluster_labels = np.unique(y_agg_ward)\n",
    "# n_clusters = cluster_labels.shape[0]\n",
    "silhouette_values = silhouette_samples(\n",
    "    X,\n",
    "    y_agg_complete,\n",
    "    metric='euclidean'\n",
    ")"
   ],
   "metadata": {
    "collapsed": false,
    "pycharm": {
     "name": "#%%\n"
    }
   }
  },
  {
   "cell_type": "markdown",
   "source": [
    "seek silhouette values at core and boundary"
   ],
   "metadata": {
    "collapsed": false
   }
  },
  {
   "cell_type": "code",
   "execution_count": 16,
   "outputs": [],
   "source": [],
   "metadata": {
    "collapsed": false,
    "pycharm": {
     "name": "#%%\n"
    }
   }
  },
  {
   "cell_type": "markdown",
   "source": [
    "finding the actual samples that are core and boundary"
   ],
   "metadata": {
    "collapsed": false
   }
  },
  {
   "cell_type": "code",
   "execution_count": 16,
   "outputs": [],
   "source": [
    "\n"
   ],
   "metadata": {
    "collapsed": false,
    "pycharm": {
     "name": "#%%\n"
    }
   }
  },
  {
   "cell_type": "code",
   "execution_count": 17,
   "outputs": [
    {
     "name": "stdout",
     "output_type": "stream",
     "text": [
      "[151, 233, 56, 160, 309]\n"
     ]
    }
   ],
   "source": [
    "indices_at_core_0 = get_core_indices(silhouette_values, y_agg_complete, core=0)\n",
    "print(indices_at_core_0)\n"
   ],
   "metadata": {
    "collapsed": false,
    "pycharm": {
     "name": "#%%\n"
    }
   }
  },
  {
   "cell_type": "code",
   "execution_count": 18,
   "outputs": [
    {
     "ename": "NameError",
     "evalue": "name 'images' is not defined",
     "output_type": "error",
     "traceback": [
      "\u001B[0;31m---------------------------------------------------------------------------\u001B[0m",
      "\u001B[0;31mNameError\u001B[0m                                 Traceback (most recent call last)",
      "Input \u001B[0;32mIn [18]\u001B[0m, in \u001B[0;36m<module>\u001B[0;34m\u001B[0m\n\u001B[0;32m----> 1\u001B[0m display_images(\u001B[43mimages\u001B[49m, indices_at_core_0)\n",
      "\u001B[0;31mNameError\u001B[0m: name 'images' is not defined"
     ]
    }
   ],
   "source": [
    "\n",
    "display_images(images, indices_at_core_0)\n",
    "\n",
    "# display_images(images, boundary_indices)"
   ],
   "metadata": {
    "collapsed": false,
    "pycharm": {
     "name": "#%%\n"
    }
   }
  },
  {
   "cell_type": "code",
   "execution_count": null,
   "outputs": [],
   "source": [
    "indices_at_core_1 = get_core_indices(silhouette_values, y_agg_complete, core=1)\n",
    "print(indices_at_core_1)\n"
   ],
   "metadata": {
    "collapsed": false,
    "pycharm": {
     "name": "#%%\n"
    }
   }
  },
  {
   "cell_type": "code",
   "execution_count": null,
   "outputs": [],
   "source": [
    "display_images(images, indices_at_core_1)\n"
   ],
   "metadata": {
    "collapsed": false,
    "pycharm": {
     "name": "#%%\n"
    }
   }
  },
  {
   "cell_type": "code",
   "execution_count": null,
   "outputs": [],
   "source": [
    "indices_at_core_2 = get_core_indices(silhouette_values, y_agg_complete, core=2)\n",
    "print(indices_at_core_2)"
   ],
   "metadata": {
    "collapsed": false,
    "pycharm": {
     "name": "#%%\n"
    }
   }
  },
  {
   "cell_type": "code",
   "execution_count": null,
   "outputs": [],
   "source": [
    "display_images(images, indices_at_core_2)"
   ],
   "metadata": {
    "collapsed": false,
    "pycharm": {
     "name": "#%%\n"
    }
   }
  },
  {
   "cell_type": "code",
   "execution_count": null,
   "outputs": [],
   "source": [
    "indices_at_core_3 = get_core_indices(silhouette_values, y_agg_complete, core=3)\n",
    "print(indices_at_core_3)\n",
    "\n"
   ],
   "metadata": {
    "collapsed": false,
    "pycharm": {
     "name": "#%%\n"
    }
   }
  },
  {
   "cell_type": "code",
   "execution_count": null,
   "outputs": [],
   "source": [
    "display_images(images, indices_at_core_3)"
   ],
   "metadata": {
    "collapsed": false,
    "pycharm": {
     "name": "#%%\n"
    }
   }
  },
  {
   "cell_type": "code",
   "execution_count": null,
   "outputs": [],
   "source": [
    "indices_at_core_4 = get_core_indices(silhouette_values, y_agg_complete, core=4)\n",
    "print(indices_at_core_4)"
   ],
   "metadata": {
    "collapsed": false,
    "pycharm": {
     "name": "#%%\n"
    }
   }
  },
  {
   "cell_type": "code",
   "execution_count": null,
   "outputs": [],
   "source": [
    "display_images(images, indices_at_core_4)"
   ],
   "metadata": {
    "collapsed": false,
    "pycharm": {
     "name": "#%%\n"
    }
   }
  },
  {
   "cell_type": "code",
   "execution_count": null,
   "outputs": [],
   "source": [
    "indices_at_boundary_1 = get_boundary_indices(silhouette_values=silhouette_values, pred_labels=y_agg_complete, core=1)\n",
    "print(indices_at_boundary_1)"
   ],
   "metadata": {
    "collapsed": false,
    "pycharm": {
     "name": "#%%\n"
    }
   }
  },
  {
   "cell_type": "code",
   "execution_count": null,
   "outputs": [],
   "source": [
    "display_images(images, indices_at_boundary_1[5:10])\n"
   ],
   "metadata": {
    "collapsed": false,
    "pycharm": {
     "name": "#%%\n"
    }
   }
  },
  {
   "cell_type": "code",
   "execution_count": null,
   "outputs": [],
   "source": [
    "indices_at_boundary_0 = get_boundary_indices(silhouette_values=silhouette_values, pred_labels=y_agg_complete, core=0)\n",
    "print(indices_at_boundary_0)\n"
   ],
   "metadata": {
    "collapsed": false,
    "pycharm": {
     "name": "#%%\n"
    }
   }
  },
  {
   "cell_type": "code",
   "execution_count": null,
   "outputs": [],
   "source": [
    "display_images(images, indices_at_boundary_0[0:2])\n"
   ],
   "metadata": {
    "collapsed": false,
    "pycharm": {
     "name": "#%%\n"
    }
   }
  },
  {
   "cell_type": "code",
   "execution_count": null,
   "outputs": [],
   "source": [
    "indices_at_boundary_1 = get_boundary_indices(silhouette_values=silhouette_values, pred_labels=y_agg_complete, core=1)\n",
    "print(indices_at_boundary_1)\n"
   ],
   "metadata": {
    "collapsed": false,
    "pycharm": {
     "name": "#%%\n"
    }
   }
  },
  {
   "cell_type": "code",
   "execution_count": null,
   "outputs": [],
   "source": [
    "display_images(images, indices_at_boundary_1[0:5])"
   ],
   "metadata": {
    "collapsed": false,
    "pycharm": {
     "name": "#%%\n"
    }
   }
  },
  {
   "cell_type": "code",
   "execution_count": null,
   "outputs": [],
   "source": [
    "indices_at_boundary_3 = get_boundary_indices(silhouette_values=silhouette_values, pred_labels=y_agg_complete, core=3)\n",
    "print(indices_at_boundary_3)\n"
   ],
   "metadata": {
    "collapsed": false,
    "pycharm": {
     "name": "#%%\n"
    }
   }
  },
  {
   "cell_type": "code",
   "execution_count": null,
   "outputs": [],
   "source": [
    "display_images(images, indices_at_boundary_3[0:5])"
   ],
   "metadata": {
    "collapsed": false,
    "pycharm": {
     "name": "#%%\n"
    }
   }
  },
  {
   "cell_type": "code",
   "execution_count": null,
   "outputs": [],
   "source": [
    "indices_at_boundary_4 = get_boundary_indices(silhouette_values=silhouette_values, pred_labels=y_agg_complete, core=4)\n",
    "print(indices_at_boundary_4)\n"
   ],
   "metadata": {
    "collapsed": false,
    "pycharm": {
     "name": "#%%\n"
    }
   }
  },
  {
   "cell_type": "code",
   "execution_count": null,
   "outputs": [],
   "source": [
    "display_images(images, indices_at_boundary_4[0:5])"
   ],
   "metadata": {
    "collapsed": false,
    "pycharm": {
     "name": "#%%\n"
    }
   }
  },
  {
   "cell_type": "code",
   "execution_count": null,
   "outputs": [],
   "source": [
    "display_images(images, indices_at_boundary_4[5:10])"
   ],
   "metadata": {
    "collapsed": false,
    "pycharm": {
     "name": "#%%\n"
    }
   }
  },
  {
   "cell_type": "code",
   "execution_count": null,
   "outputs": [],
   "source": [],
   "metadata": {
    "collapsed": false,
    "pycharm": {
     "name": "#%%\n"
    }
   }
  }
 ],
 "metadata": {
  "kernelspec": {
   "display_name": "Python 3",
   "language": "python",
   "name": "python3"
  },
  "language_info": {
   "codemirror_mode": {
    "name": "ipython",
    "version": 2
   },
   "file_extension": ".py",
   "mimetype": "text/x-python",
   "name": "python",
   "nbconvert_exporter": "python",
   "pygments_lexer": "ipython2",
   "version": "2.7.6"
  }
 },
 "nbformat": 4,
 "nbformat_minor": 0
}
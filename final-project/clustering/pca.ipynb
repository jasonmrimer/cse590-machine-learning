{
 "cells": [
  {
   "cell_type": "code",
   "execution_count": 8,
   "metadata": {
    "collapsed": true
   },
   "outputs": [
    {
     "name": "stdout",
     "output_type": "stream",
     "text": [
      "Requirement already satisfied: numpy in /Users/engineer/workspace/cse590-machine-learning/venv/lib/python3.9/site-packages (1.22.1)\r\n",
      "Requirement already satisfied: scipy in /Users/engineer/workspace/cse590-machine-learning/venv/lib/python3.9/site-packages (1.7.3)\r\n",
      "Requirement already satisfied: scikit-learn in /Users/engineer/workspace/cse590-machine-learning/venv/lib/python3.9/site-packages (1.0.2)\r\n",
      "Requirement already satisfied: matplotlib in /Users/engineer/workspace/cse590-machine-learning/venv/lib/python3.9/site-packages (3.5.1)\r\n",
      "Requirement already satisfied: pandas in /Users/engineer/workspace/cse590-machine-learning/venv/lib/python3.9/site-packages (1.4.0)\r\n",
      "Requirement already satisfied: joblib>=0.11 in /Users/engineer/workspace/cse590-machine-learning/venv/lib/python3.9/site-packages (from scikit-learn) (1.1.0)\r\n",
      "Requirement already satisfied: threadpoolctl>=2.0.0 in /Users/engineer/workspace/cse590-machine-learning/venv/lib/python3.9/site-packages (from scikit-learn) (3.0.0)\r\n",
      "Requirement already satisfied: pyparsing>=2.2.1 in /Users/engineer/workspace/cse590-machine-learning/venv/lib/python3.9/site-packages (from matplotlib) (3.0.7)\r\n",
      "Requirement already satisfied: cycler>=0.10 in /Users/engineer/workspace/cse590-machine-learning/venv/lib/python3.9/site-packages (from matplotlib) (0.11.0)\r\n",
      "Requirement already satisfied: pillow>=6.2.0 in /Users/engineer/workspace/cse590-machine-learning/venv/lib/python3.9/site-packages (from matplotlib) (9.0.0)\r\n",
      "Requirement already satisfied: fonttools>=4.22.0 in /Users/engineer/workspace/cse590-machine-learning/venv/lib/python3.9/site-packages (from matplotlib) (4.29.0)\r\n",
      "Requirement already satisfied: python-dateutil>=2.7 in /Users/engineer/workspace/cse590-machine-learning/venv/lib/python3.9/site-packages (from matplotlib) (2.8.2)\r\n",
      "Requirement already satisfied: kiwisolver>=1.0.1 in /Users/engineer/workspace/cse590-machine-learning/venv/lib/python3.9/site-packages (from matplotlib) (1.3.2)\r\n",
      "Requirement already satisfied: packaging>=20.0 in /Users/engineer/workspace/cse590-machine-learning/venv/lib/python3.9/site-packages (from matplotlib) (21.3)\r\n",
      "Requirement already satisfied: pytz>=2020.1 in /Users/engineer/workspace/cse590-machine-learning/venv/lib/python3.9/site-packages (from pandas) (2021.3)\r\n",
      "Requirement already satisfied: six>=1.5 in /Users/engineer/workspace/cse590-machine-learning/venv/lib/python3.9/site-packages (from python-dateutil>=2.7->matplotlib) (1.16.0)\r\n",
      "\u001B[33mWARNING: You are using pip version 21.3.1; however, version 22.0.4 is available.\r\n",
      "You should consider upgrading via the '/Users/engineer/workspace/cse590-machine-learning/venv/bin/python -m pip install --upgrade pip' command.\u001B[0m\r\n"
     ]
    }
   ],
   "source": [
    "\n",
    "import matplotlib.pyplot as plt\n",
    "import np as np\n",
    "import numpy as np\n",
    "import pandas as pd\n",
    "from matplotlib import cm\n",
    "from scipy.cluster.hierarchy import dendrogram, linkage\n",
    "from sklearn.cluster import KMeans, AgglomerativeClustering\n",
    "from sklearn.decomposition import PCA\n",
    "from sklearn.metrics import silhouette_samples\n",
    "from sklearn.model_selection import train_test_split\n",
    "from sklearn.preprocessing import StandardScaler, RobustScaler, MinMaxScaler\n",
    "\n",
    "!pip install numpy scipy scikit-learn matplotlib pandas\n",
    "from sklearn.model_selection import GridSearchCV"
   ]
  },
  {
   "cell_type": "code",
   "execution_count": 3,
   "outputs": [],
   "source": [
    "X = pd.read_csv(\"../dataset/extracted_features.csv\").values\n",
    "y = pd.read_csv(\"../dataset/labels.csv\").values.ravel()\n",
    "# images = pd.read_csv(\"../dataset/raw_images.csv\").values\n",
    "# X_train, X_test, y_train, y_test = train_test_split(X, y, test_size=0.2, random_state=42, shuffle=True, stratify=y)\n",
    "# y_train = y_train.ravel()\n",
    "\n",
    "scaler_standard = StandardScaler().fit(X)\n",
    "X_standard = scaler_standard.transform(X)\n",
    "\n",
    "scaler_robust = RobustScaler().fit(X)\n",
    "X_robust = scaler_robust.transform(X)\n",
    "\n",
    "scaler_minmax = MinMaxScaler().fit(X)\n",
    "X_minmax = scaler_minmax.transform(X)"
   ],
   "metadata": {
    "collapsed": false,
    "pycharm": {
     "name": "#%%\n"
    }
   }
  },
  {
   "cell_type": "code",
   "execution_count": 5,
   "outputs": [
    {
     "name": "stdout",
     "output_type": "stream",
     "text": [
      "325\n",
      "99\n",
      "133\n",
      "154\n",
      "281\n",
      "283\n",
      "325\n",
      "318\n",
      "301\n"
     ]
    }
   ],
   "source": [
    "for i in range(9):\n",
    "    print(np.count_nonzero(y==i))"
   ],
   "metadata": {
    "collapsed": false,
    "pycharm": {
     "name": "#%%\n"
    }
   }
  },
  {
   "cell_type": "code",
   "execution_count": 7,
   "outputs": [],
   "source": [
    "cov_mat = np.cov(X_standard)\n",
    "eigen_vals, eigen_vecs = np.linalg.eig(cov_mat)\n",
    "eigen_pairs = [(np.abs(eigen_vals[i]), eigen_vecs[:,i]) for i in range(len(eigen_vals))]\n",
    "eigen_pairs.sort(key = lambda k: k[0], reverse=True)\n",
    "w = np.hstack((eigen_pairs[0][1][:,np.newaxis], eigen_pairs[1][1][:,np.newaxis]))\n",
    "# X_train_pca = X_standard.dot(w)\n"
   ],
   "metadata": {
    "collapsed": false,
    "pycharm": {
     "name": "#%%\n"
    }
   }
  },
  {
   "cell_type": "code",
   "execution_count": 15,
   "outputs": [
    {
     "data": {
      "text/plain": "<Figure size 432x288 with 1 Axes>",
      "image/png": "[encoded data removed]"
     },
     "metadata": {
      "needs_background": "light"
     },
     "output_type": "display_data"
    }
   ],
   "source": [
    "pca = PCA().fit(X_standard)\n",
    "plt.plot(np.cumsum(pca.explained_variance_ratio_))\n",
    "plt.plot(pca.explained_variance_ratio_)\n",
    "plt.xlabel('number of components')\n",
    "plt.ylabel('cumulative explained variance');"
   ],
   "metadata": {
    "collapsed": false,
    "pycharm": {
     "name": "#%%\n"
    }
   }
  },
  {
   "cell_type": "code",
   "execution_count": 13,
   "outputs": [
    {
     "name": "stdout",
     "output_type": "stream",
     "text": [
      "[0.04338011 0.08459697 0.1201401  0.152902   0.18377525 0.21291863\n",
      " 0.24136254 0.26952431 0.29638626 0.32200598 0.34686823 0.37090071\n",
      " 0.39423103 0.41695952 0.43837441 0.4593361  0.4800117  0.49994058\n",
      " 0.51943125 0.53863351 0.55745096 0.57579919 0.5939309  0.61168195\n",
      " 0.62927061 0.64640525 0.66336946 0.68018174 0.69677707 0.7129604\n",
      " 0.72888815 0.74420068 0.75939943 0.77446652 0.78861554 0.80261667\n",
      " 0.81564441 0.82857351 0.84128651 0.85357079 0.86560303 0.8772555\n",
      " 0.88861634 0.89931782 0.90970236 0.91993661 0.9298159  0.93920997\n",
      " 0.94810265 0.95674873 0.96482903 0.97272743 0.98029767 0.98756503\n",
      " 0.9941357  1.         1.         1.         1.         1.\n",
      " 1.         1.         1.         1.        ]\n"
     ]
    }
   ],
   "source": [
    "print(np.cumsum(pca.explained_variance_ratio_))\n"
   ],
   "metadata": {
    "collapsed": false,
    "pycharm": {
     "name": "#%%\n"
    }
   }
  },
  {
   "cell_type": "code",
   "execution_count": null,
   "outputs": [],
   "source": [
    "56 features = 100\n",
    "\n"
   ],
   "metadata": {
    "collapsed": false,
    "pycharm": {
     "name": "#%%\n"
    }
   }
  }
 ],
 "metadata": {
  "kernelspec": {
   "display_name": "Python 3",
   "language": "python",
   "name": "python3"
  },
  "language_info": {
   "codemirror_mode": {
    "name": "ipython",
    "version": 2
   },
   "file_extension": ".py",
   "mimetype": "text/x-python",
   "name": "python",
   "nbconvert_exporter": "python",
   "pygments_lexer": "ipython2",
   "version": "2.7.6"
  }
 },
 "nbformat": 4,
 "nbformat_minor": 0
}
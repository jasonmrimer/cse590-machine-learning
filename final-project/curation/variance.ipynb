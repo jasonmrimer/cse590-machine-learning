{
 "cells": [
  {
   "cell_type": "code",
   "execution_count": 59,
   "metadata": {
    "collapsed": true
   },
   "outputs": [],
   "source": [
    "import matplotlib.pyplot as plt\n",
    "import numpy as np\n",
    "import pandas as pd\n",
    "import matplotlib.pyplot as plt\n",
    "from sklearn.decomposition import PCA\n",
    "from sklearn.ensemble import RandomForestClassifier\n",
    "from sklearn.feature_selection import SelectPercentile, SelectFromModel, VarianceThreshold, f_classif,\n",
    "\n",
    "mutual_info_classif\n",
    "from sklearn.model_selection import train_test_split\n",
    "from sklearn.preprocessing import StandardScaler, RobustScaler, MinMaxScaler\n"
   ]
  },
  {
   "cell_type": "code",
   "execution_count": 90,
   "outputs": [],
   "source": [
    "\n",
    "\n",
    "X = pd.read_csv(\"../dataset/extracted_features.csv\").values\n",
    "y = pd.read_csv(\"../dataset/labels.csv\").values\n",
    "# images = pd.read_csv(\"../dataset/raw_images.csv\").values\n",
    "X_train, X_test, y_train, y_test = train_test_split(X, y, test_size=0.2, random_state=42, shuffle=True, stratify=y)\n",
    "y_train = y_train.ravel()\n",
    "\n",
    "scaler_standard = StandardScaler().fit(X_train)\n",
    "X_train_standard = scaler_standard.transform(X_train)\n",
    "X_test_standard = scaler_standard.transform(X_test)\n",
    "\n",
    "scaler_robust = RobustScaler().fit(X_train)\n",
    "X_train_robust = scaler_robust.transform(X_train)\n",
    "X_test_robust = scaler_robust.transform(X_test)\n",
    "\n",
    "scaler_minmax = MinMaxScaler().fit(X_train)\n",
    "X_train_minmax = scaler_minmax.transform(X_train)\n",
    "X_test_minmax = scaler_minmax.transform(X_test)\n",
    "\n",
    "pca = PCA(n_components=56, random_state=42)\n",
    "X_train_pca = pca.fit_transform(X_train_standard)\n",
    "X_test_pca = pca.transform(X_test_standard)"
   ],
   "metadata": {
    "collapsed": false,
    "pycharm": {
     "name": "#%%\n"
    }
   }
  },
  {
   "cell_type": "code",
   "execution_count": 68,
   "outputs": [
    {
     "data": {
      "text/plain": "(1775, 46)"
     },
     "execution_count": 68,
     "metadata": {},
     "output_type": "execute_result"
    }
   ],
   "source": [
    "variance_threshold = VarianceThreshold(threshold=1)\n",
    "variance_threshold.fit(X_train)\n",
    "X_train_vt = X_train[:, variance_threshold.get_support()]\n",
    "\n",
    "X_train_vt.shape"
   ],
   "metadata": {
    "collapsed": false,
    "pycharm": {
     "name": "#%%\n"
    }
   }
  },
  {
   "cell_type": "code",
   "execution_count": 71,
   "outputs": [
    {
     "data": {
      "text/plain": "      Variance\n20  402.396659\n48  336.534832\n30  154.799660\n45  141.528604\n21  135.324889\n..         ...\n14    0.000000\n25    0.000000\n26    0.000000\n39    0.000000\n0     0.000000\n\n[64 rows x 1 columns]",
      "text/html": "<div>\n<style scoped>\n    .dataframe tbody tr th:only-of-type {\n        vertical-align: middle;\n    }\n\n    .dataframe tbody tr th {\n        vertical-align: top;\n    }\n\n    .dataframe thead th {\n        text-align: right;\n    }\n</style>\n<table border=\"1\" class=\"dataframe\">\n  <thead>\n    <tr style=\"text-align: right;\">\n      <th></th>\n      <th>Variance</th>\n    </tr>\n  </thead>\n  <tbody>\n    <tr>\n      <th>20</th>\n      <td>402.396659</td>\n    </tr>\n    <tr>\n      <th>48</th>\n      <td>336.534832</td>\n    </tr>\n    <tr>\n      <th>30</th>\n      <td>154.799660</td>\n    </tr>\n    <tr>\n      <th>45</th>\n      <td>141.528604</td>\n    </tr>\n    <tr>\n      <th>21</th>\n      <td>135.324889</td>\n    </tr>\n    <tr>\n      <th>...</th>\n      <td>...</td>\n    </tr>\n    <tr>\n      <th>14</th>\n      <td>0.000000</td>\n    </tr>\n    <tr>\n      <th>25</th>\n      <td>0.000000</td>\n    </tr>\n    <tr>\n      <th>26</th>\n      <td>0.000000</td>\n    </tr>\n    <tr>\n      <th>39</th>\n      <td>0.000000</td>\n    </tr>\n    <tr>\n      <th>0</th>\n      <td>0.000000</td>\n    </tr>\n  </tbody>\n</table>\n<p>64 rows × 1 columns</p>\n</div>"
     },
     "execution_count": 71,
     "metadata": {},
     "output_type": "execute_result"
    }
   ],
   "source": [
    "pd.DataFrame(\n",
    "    {\n",
    "        'Variance': variance_threshold.variances_\n",
    "    }\n",
    ").sort_values(\n",
    "    'Variance', ascending=False\n",
    ")"
   ],
   "metadata": {
    "collapsed": false,
    "pycharm": {
     "name": "#%%\n"
    }
   }
  },
  {
   "cell_type": "code",
   "execution_count": 54,
   "outputs": [
    {
     "data": {
      "text/plain": "(1775, 56)"
     },
     "execution_count": 54,
     "metadata": {},
     "output_type": "execute_result"
    }
   ],
   "source": [
    "variance_threshold_standard = VarianceThreshold(threshold=0)\n",
    "variance_threshold_standard.fit(X_train_standard)\n",
    "X_train_vt_standard = X_train[:, variance_threshold_standard.get_support()]\n",
    "\n",
    "X_train_vt_standard.shape"
   ],
   "metadata": {
    "collapsed": false,
    "pycharm": {
     "name": "#%%\n"
    }
   }
  },
  {
   "cell_type": "code",
   "execution_count": null,
   "outputs": [],
   "source": [],
   "metadata": {
    "collapsed": false,
    "pycharm": {
     "name": "#%%\n"
    }
   }
  },
  {
   "cell_type": "code",
   "execution_count": 55,
   "outputs": [
    {
     "data": {
      "text/plain": "    Variance\n0        0.0\n25       0.0\n26       0.0\n59       0.0\n62       0.0\n..       ...\n55       1.0\n37       1.0\n19       1.0\n33       1.0\n23       1.0\n\n[64 rows x 1 columns]",
      "text/html": "<div>\n<style scoped>\n    .dataframe tbody tr th:only-of-type {\n        vertical-align: middle;\n    }\n\n    .dataframe tbody tr th {\n        vertical-align: top;\n    }\n\n    .dataframe thead th {\n        text-align: right;\n    }\n</style>\n<table border=\"1\" class=\"dataframe\">\n  <thead>\n    <tr style=\"text-align: right;\">\n      <th></th>\n      <th>Variance</th>\n    </tr>\n  </thead>\n  <tbody>\n    <tr>\n      <th>0</th>\n      <td>0.0</td>\n    </tr>\n    <tr>\n      <th>25</th>\n      <td>0.0</td>\n    </tr>\n    <tr>\n      <th>26</th>\n      <td>0.0</td>\n    </tr>\n    <tr>\n      <th>59</th>\n      <td>0.0</td>\n    </tr>\n    <tr>\n      <th>62</th>\n      <td>0.0</td>\n    </tr>\n    <tr>\n      <th>...</th>\n      <td>...</td>\n    </tr>\n    <tr>\n      <th>55</th>\n      <td>1.0</td>\n    </tr>\n    <tr>\n      <th>37</th>\n      <td>1.0</td>\n    </tr>\n    <tr>\n      <th>19</th>\n      <td>1.0</td>\n    </tr>\n    <tr>\n      <th>33</th>\n      <td>1.0</td>\n    </tr>\n    <tr>\n      <th>23</th>\n      <td>1.0</td>\n    </tr>\n  </tbody>\n</table>\n<p>64 rows × 1 columns</p>\n</div>"
     },
     "execution_count": 55,
     "metadata": {},
     "output_type": "execute_result"
    }
   ],
   "source": [
    "pd.DataFrame(\n",
    "    {\n",
    "        'Variance': variance_threshold_standard.variances_\n",
    "    }\n",
    ").sort_values(\n",
    "    'Variance', ascending=True\n",
    ")"
   ],
   "metadata": {
    "collapsed": false,
    "pycharm": {
     "name": "#%%\n"
    }
   }
  },
  {
   "cell_type": "code",
   "execution_count": 72,
   "outputs": [
    {
     "name": "stderr",
     "output_type": "stream",
     "text": [
      "/Users/engineer/workspace/cse590-machine-learning/venv/lib/python3.9/site-packages/sklearn/feature_selection/_univariate_selection.py:112: UserWarning: Features [ 0 14 25 26 35 39 59 62] are constant.\n",
      "  warnings.warn(\"Features %s are constant.\" % constant_features_idx, UserWarning)\n",
      "/Users/engineer/workspace/cse590-machine-learning/venv/lib/python3.9/site-packages/sklearn/feature_selection/_univariate_selection.py:113: RuntimeWarning: invalid value encountered in true_divide\n",
      "  f = msb / msw\n"
     ]
    }
   ],
   "source": [
    "f, p = f_classif(X_train, y_train)\n",
    "mi = mutual_info_classif(X_train, y_train)"
   ],
   "metadata": {
    "collapsed": false,
    "pycharm": {
     "name": "#%%\n"
    }
   }
  },
  {
   "cell_type": "code",
   "execution_count": 78,
   "outputs": [
    {
     "data": {
      "text/plain": "<pandas.io.formats.style.Styler at 0x139d2e160>",
      "text/html": "<style type=\"text/css\">\n#T_adec8_row0_col0, #T_adec8_row0_col1 {\n  width: 10em;\n  background: linear-gradient(90deg, grey 100.0%, transparent 100.0%);\n}\n#T_adec8_row1_col0 {\n  width: 10em;\n  background: linear-gradient(90deg, grey 44.9%, transparent 44.9%);\n}\n#T_adec8_row1_col1 {\n  width: 10em;\n  background: linear-gradient(90deg, grey 76.2%, transparent 76.2%);\n}\n#T_adec8_row2_col0 {\n  width: 10em;\n  background: linear-gradient(90deg, grey 28.0%, transparent 28.0%);\n}\n#T_adec8_row2_col1 {\n  width: 10em;\n  background: linear-gradient(90deg, grey 56.8%, transparent 56.8%);\n}\n#T_adec8_row3_col0 {\n  width: 10em;\n  background: linear-gradient(90deg, grey 48.6%, transparent 48.6%);\n}\n#T_adec8_row3_col1 {\n  width: 10em;\n  background: linear-gradient(90deg, grey 49.7%, transparent 49.7%);\n}\n#T_adec8_row4_col0 {\n  width: 10em;\n  background: linear-gradient(90deg, grey 29.6%, transparent 29.6%);\n}\n#T_adec8_row4_col1 {\n  width: 10em;\n  background: linear-gradient(90deg, grey 44.5%, transparent 44.5%);\n}\n#T_adec8_row5_col0 {\n  width: 10em;\n  background: linear-gradient(90deg, grey 24.2%, transparent 24.2%);\n}\n#T_adec8_row5_col1, #T_adec8_row6_col1 {\n  width: 10em;\n  background: linear-gradient(90deg, grey 41.8%, transparent 41.8%);\n}\n#T_adec8_row6_col0 {\n  width: 10em;\n  background: linear-gradient(90deg, grey 22.6%, transparent 22.6%);\n}\n#T_adec8_row7_col0 {\n  width: 10em;\n  background: linear-gradient(90deg, grey 24.5%, transparent 24.5%);\n}\n#T_adec8_row7_col1 {\n  width: 10em;\n  background: linear-gradient(90deg, grey 38.5%, transparent 38.5%);\n}\n#T_adec8_row8_col0 {\n  width: 10em;\n  background: linear-gradient(90deg, grey 17.8%, transparent 17.8%);\n}\n#T_adec8_row8_col1 {\n  width: 10em;\n  background: linear-gradient(90deg, grey 38.1%, transparent 38.1%);\n}\n#T_adec8_row9_col0 {\n  width: 10em;\n  background: linear-gradient(90deg, grey 21.1%, transparent 21.1%);\n}\n#T_adec8_row9_col1 {\n  width: 10em;\n  background: linear-gradient(90deg, grey 36.8%, transparent 36.8%);\n}\n#T_adec8_row10_col0, #T_adec8_row39_col1 {\n  width: 10em;\n  background: linear-gradient(90deg, grey 9.2%, transparent 9.2%);\n}\n#T_adec8_row10_col1 {\n  width: 10em;\n  background: linear-gradient(90deg, grey 34.8%, transparent 34.8%);\n}\n#T_adec8_row11_col0 {\n  width: 10em;\n  background: linear-gradient(90deg, grey 17.7%, transparent 17.7%);\n}\n#T_adec8_row11_col1 {\n  width: 10em;\n  background: linear-gradient(90deg, grey 34.5%, transparent 34.5%);\n}\n#T_adec8_row12_col0 {\n  width: 10em;\n  background: linear-gradient(90deg, grey 14.3%, transparent 14.3%);\n}\n#T_adec8_row12_col1 {\n  width: 10em;\n  background: linear-gradient(90deg, grey 32.1%, transparent 32.1%);\n}\n#T_adec8_row13_col0 {\n  width: 10em;\n  background: linear-gradient(90deg, grey 18.6%, transparent 18.6%);\n}\n#T_adec8_row13_col1 {\n  width: 10em;\n  background: linear-gradient(90deg, grey 32.0%, transparent 32.0%);\n}\n#T_adec8_row14_col0, #T_adec8_row26_col1 {\n  width: 10em;\n  background: linear-gradient(90deg, grey 19.8%, transparent 19.8%);\n}\n#T_adec8_row14_col1 {\n  width: 10em;\n  background: linear-gradient(90deg, grey 31.7%, transparent 31.7%);\n}\n#T_adec8_row15_col0, #T_adec8_row28_col0 {\n  width: 10em;\n  background: linear-gradient(90deg, grey 19.6%, transparent 19.6%);\n}\n#T_adec8_row15_col1 {\n  width: 10em;\n  background: linear-gradient(90deg, grey 29.5%, transparent 29.5%);\n}\n#T_adec8_row16_col0 {\n  width: 10em;\n  background: linear-gradient(90deg, grey 13.6%, transparent 13.6%);\n}\n#T_adec8_row16_col1 {\n  width: 10em;\n  background: linear-gradient(90deg, grey 28.9%, transparent 28.9%);\n}\n#T_adec8_row17_col0, #T_adec8_row25_col0 {\n  width: 10em;\n  background: linear-gradient(90deg, grey 10.3%, transparent 10.3%);\n}\n#T_adec8_row17_col1 {\n  width: 10em;\n  background: linear-gradient(90deg, grey 27.4%, transparent 27.4%);\n}\n#T_adec8_row18_col0 {\n  width: 10em;\n  background: linear-gradient(90deg, grey 16.3%, transparent 16.3%);\n}\n#T_adec8_row18_col1 {\n  width: 10em;\n  background: linear-gradient(90deg, grey 26.7%, transparent 26.7%);\n}\n#T_adec8_row19_col0 {\n  width: 10em;\n  background: linear-gradient(90deg, grey 13.7%, transparent 13.7%);\n}\n#T_adec8_row19_col1 {\n  width: 10em;\n  background: linear-gradient(90deg, grey 26.3%, transparent 26.3%);\n}\n#T_adec8_row20_col0 {\n  width: 10em;\n  background: linear-gradient(90deg, grey 18.1%, transparent 18.1%);\n}\n#T_adec8_row20_col1, #T_adec8_row21_col1 {\n  width: 10em;\n  background: linear-gradient(90deg, grey 24.9%, transparent 24.9%);\n}\n#T_adec8_row21_col0 {\n  width: 10em;\n  background: linear-gradient(90deg, grey 9.3%, transparent 9.3%);\n}\n#T_adec8_row22_col0, #T_adec8_row29_col1 {\n  width: 10em;\n  background: linear-gradient(90deg, grey 15.1%, transparent 15.1%);\n}\n#T_adec8_row22_col1 {\n  width: 10em;\n  background: linear-gradient(90deg, grey 24.8%, transparent 24.8%);\n}\n#T_adec8_row23_col0 {\n  width: 10em;\n  background: linear-gradient(90deg, grey 16.8%, transparent 16.8%);\n}\n#T_adec8_row23_col1 {\n  width: 10em;\n  background: linear-gradient(90deg, grey 24.7%, transparent 24.7%);\n}\n#T_adec8_row24_col0, #T_adec8_row31_col0 {\n  width: 10em;\n  background: linear-gradient(90deg, grey 6.1%, transparent 6.1%);\n}\n#T_adec8_row24_col1 {\n  width: 10em;\n  background: linear-gradient(90deg, grey 21.5%, transparent 21.5%);\n}\n#T_adec8_row25_col1 {\n  width: 10em;\n  background: linear-gradient(90deg, grey 20.1%, transparent 20.1%);\n}\n#T_adec8_row26_col0, #T_adec8_row33_col1 {\n  width: 10em;\n  background: linear-gradient(90deg, grey 13.5%, transparent 13.5%);\n}\n#T_adec8_row27_col0 {\n  width: 10em;\n  background: linear-gradient(90deg, grey 8.5%, transparent 8.5%);\n}\n#T_adec8_row27_col1 {\n  width: 10em;\n  background: linear-gradient(90deg, grey 19.4%, transparent 19.4%);\n}\n#T_adec8_row28_col1 {\n  width: 10em;\n  background: linear-gradient(90deg, grey 17.2%, transparent 17.2%);\n}\n#T_adec8_row29_col0 {\n  width: 10em;\n  background: linear-gradient(90deg, grey 7.9%, transparent 7.9%);\n}\n#T_adec8_row30_col0 {\n  width: 10em;\n  background: linear-gradient(90deg, grey 11.0%, transparent 11.0%);\n}\n#T_adec8_row30_col1 {\n  width: 10em;\n  background: linear-gradient(90deg, grey 14.7%, transparent 14.7%);\n}\n#T_adec8_row31_col1 {\n  width: 10em;\n  background: linear-gradient(90deg, grey 14.1%, transparent 14.1%);\n}\n#T_adec8_row32_col0 {\n  width: 10em;\n  background: linear-gradient(90deg, grey 11.2%, transparent 11.2%);\n}\n#T_adec8_row32_col1 {\n  width: 10em;\n  background: linear-gradient(90deg, grey 13.9%, transparent 13.9%);\n}\n#T_adec8_row33_col0 {\n  width: 10em;\n  background: linear-gradient(90deg, grey 10.8%, transparent 10.8%);\n}\n#T_adec8_row34_col0 {\n  width: 10em;\n  background: linear-gradient(90deg, grey 0.6%, transparent 0.6%);\n}\n#T_adec8_row34_col1 {\n  width: 10em;\n  background: linear-gradient(90deg, grey 10.7%, transparent 10.7%);\n}\n#T_adec8_row35_col0 {\n  width: 10em;\n  background: linear-gradient(90deg, grey 1.6%, transparent 1.6%);\n}\n#T_adec8_row35_col1 {\n  width: 10em;\n  background: linear-gradient(90deg, grey 10.2%, transparent 10.2%);\n}\n#T_adec8_row36_col0 {\n  width: 10em;\n  background: linear-gradient(90deg, grey 3.8%, transparent 3.8%);\n}\n#T_adec8_row36_col1 {\n  width: 10em;\n  background: linear-gradient(90deg, grey 9.9%, transparent 9.9%);\n}\n#T_adec8_row37_col0, #T_adec8_row39_col0, #T_adec8_row50_col0, #T_adec8_row52_col1, #T_adec8_row53_col1, #T_adec8_row54_col1, #T_adec8_row55_col1, #T_adec8_row56_col1, #T_adec8_row57_col1, #T_adec8_row58_col0, #T_adec8_row58_col1, #T_adec8_row59_col0, #T_adec8_row59_col1, #T_adec8_row60_col1, #T_adec8_row61_col0, #T_adec8_row61_col1, #T_adec8_row62_col0, #T_adec8_row62_col1, #T_adec8_row63_col0, #T_adec8_row63_col1 {\n  width: 10em;\n}\n#T_adec8_row37_col1 {\n  width: 10em;\n  background: linear-gradient(90deg, grey 9.7%, transparent 9.7%);\n}\n#T_adec8_row38_col0 {\n  width: 10em;\n  background: linear-gradient(90deg, grey 4.5%, transparent 4.5%);\n}\n#T_adec8_row38_col1 {\n  width: 10em;\n  background: linear-gradient(90deg, grey 9.6%, transparent 9.6%);\n}\n#T_adec8_row40_col0 {\n  width: 10em;\n  background: linear-gradient(90deg, grey 5.9%, transparent 5.9%);\n}\n#T_adec8_row40_col1 {\n  width: 10em;\n  background: linear-gradient(90deg, grey 9.0%, transparent 9.0%);\n}\n#T_adec8_row41_col0, #T_adec8_row49_col1, #T_adec8_row53_col0 {\n  width: 10em;\n  background: linear-gradient(90deg, grey 1.8%, transparent 1.8%);\n}\n#T_adec8_row41_col1 {\n  width: 10em;\n  background: linear-gradient(90deg, grey 8.7%, transparent 8.7%);\n}\n#T_adec8_row42_col0 {\n  width: 10em;\n  background: linear-gradient(90deg, grey 7.0%, transparent 7.0%);\n}\n#T_adec8_row42_col1 {\n  width: 10em;\n  background: linear-gradient(90deg, grey 7.8%, transparent 7.8%);\n}\n#T_adec8_row43_col0, #T_adec8_row57_col0 {\n  width: 10em;\n  background: linear-gradient(90deg, grey 3.0%, transparent 3.0%);\n}\n#T_adec8_row43_col1 {\n  width: 10em;\n  background: linear-gradient(90deg, grey 7.2%, transparent 7.2%);\n}\n#T_adec8_row44_col0 {\n  width: 10em;\n  background: linear-gradient(90deg, grey 2.3%, transparent 2.3%);\n}\n#T_adec8_row44_col1, #T_adec8_row45_col1 {\n  width: 10em;\n  background: linear-gradient(90deg, grey 6.5%, transparent 6.5%);\n}\n#T_adec8_row45_col0 {\n  width: 10em;\n  background: linear-gradient(90deg, grey 3.4%, transparent 3.4%);\n}\n#T_adec8_row46_col0 {\n  width: 10em;\n  background: linear-gradient(90deg, grey 6.3%, transparent 6.3%);\n}\n#T_adec8_row46_col1 {\n  width: 10em;\n  background: linear-gradient(90deg, grey 5.8%, transparent 5.8%);\n}\n#T_adec8_row47_col0 {\n  width: 10em;\n  background: linear-gradient(90deg, grey 4.0%, transparent 4.0%);\n}\n#T_adec8_row47_col1 {\n  width: 10em;\n  background: linear-gradient(90deg, grey 5.3%, transparent 5.3%);\n}\n#T_adec8_row48_col0 {\n  width: 10em;\n  background: linear-gradient(90deg, grey 1.9%, transparent 1.9%);\n}\n#T_adec8_row48_col1 {\n  width: 10em;\n  background: linear-gradient(90deg, grey 3.5%, transparent 3.5%);\n}\n#T_adec8_row49_col0 {\n  width: 10em;\n  background: linear-gradient(90deg, grey 0.7%, transparent 0.7%);\n}\n#T_adec8_row50_col1 {\n  width: 10em;\n  background: linear-gradient(90deg, grey 1.7%, transparent 1.7%);\n}\n#T_adec8_row51_col0 {\n  width: 10em;\n  background: linear-gradient(90deg, grey 0.4%, transparent 0.4%);\n}\n#T_adec8_row51_col1 {\n  width: 10em;\n  background: linear-gradient(90deg, grey 0.1%, transparent 0.1%);\n}\n#T_adec8_row52_col0 {\n  width: 10em;\n  background: linear-gradient(90deg, grey 1.0%, transparent 1.0%);\n}\n#T_adec8_row54_col0 {\n  width: 10em;\n  background: linear-gradient(90deg, grey 0.9%, transparent 0.9%);\n}\n#T_adec8_row55_col0 {\n  width: 10em;\n  background: linear-gradient(90deg, grey 0.8%, transparent 0.8%);\n}\n#T_adec8_row56_col0 {\n  width: 10em;\n  background: linear-gradient(90deg, grey 2.6%, transparent 2.6%);\n}\n#T_adec8_row60_col0 {\n  width: 10em;\n  background: linear-gradient(90deg, grey 0.3%, transparent 0.3%);\n}\n</style>\n<table id=\"T_adec8\">\n  <thead>\n    <tr>\n      <th class=\"blank level0\" >&nbsp;</th>\n      <th id=\"T_adec8_level0_col0\" class=\"col_heading level0 col0\" >F</th>\n      <th id=\"T_adec8_level0_col1\" class=\"col_heading level0 col1\" >MI</th>\n    </tr>\n  </thead>\n  <tbody>\n    <tr>\n      <th id=\"T_adec8_level0_row0\" class=\"row_heading level0 row0\" >48</th>\n      <td id=\"T_adec8_row0_col0\" class=\"data row0 col0\" >216.631785</td>\n      <td id=\"T_adec8_row0_col1\" class=\"data row0 col1\" >0.328062</td>\n    </tr>\n    <tr>\n      <th id=\"T_adec8_level0_row1\" class=\"row_heading level0 row1\" >20</th>\n      <td id=\"T_adec8_row1_col0\" class=\"data row1 col0\" >97.307211</td>\n      <td id=\"T_adec8_row1_col1\" class=\"data row1 col1\" >0.250142</td>\n    </tr>\n    <tr>\n      <th id=\"T_adec8_level0_row2\" class=\"row_heading level0 row2\" >21</th>\n      <td id=\"T_adec8_row2_col0\" class=\"data row2 col0\" >60.607487</td>\n      <td id=\"T_adec8_row2_col1\" class=\"data row2 col1\" >0.186436</td>\n    </tr>\n    <tr>\n      <th id=\"T_adec8_level0_row3\" class=\"row_heading level0 row3\" >1</th>\n      <td id=\"T_adec8_row3_col0\" class=\"data row3 col0\" >105.261469</td>\n      <td id=\"T_adec8_row3_col1\" class=\"data row3 col1\" >0.163162</td>\n    </tr>\n    <tr>\n      <th id=\"T_adec8_level0_row4\" class=\"row_heading level0 row4\" >45</th>\n      <td id=\"T_adec8_row4_col0\" class=\"data row4 col0\" >64.144029</td>\n      <td id=\"T_adec8_row4_col1\" class=\"data row4 col1\" >0.145862</td>\n    </tr>\n    <tr>\n      <th id=\"T_adec8_level0_row5\" class=\"row_heading level0 row5\" >55</th>\n      <td id=\"T_adec8_row5_col0\" class=\"data row5 col0\" >52.428225</td>\n      <td id=\"T_adec8_row5_col1\" class=\"data row5 col1\" >0.137174</td>\n    </tr>\n    <tr>\n      <th id=\"T_adec8_level0_row6\" class=\"row_heading level0 row6\" >16</th>\n      <td id=\"T_adec8_row6_col0\" class=\"data row6 col0\" >48.958271</td>\n      <td id=\"T_adec8_row6_col1\" class=\"data row6 col1\" >0.137046</td>\n    </tr>\n    <tr>\n      <th id=\"T_adec8_level0_row7\" class=\"row_heading level0 row7\" >51</th>\n      <td id=\"T_adec8_row7_col0\" class=\"data row7 col0\" >52.996222</td>\n      <td id=\"T_adec8_row7_col1\" class=\"data row7 col1\" >0.126159</td>\n    </tr>\n    <tr>\n      <th id=\"T_adec8_level0_row8\" class=\"row_heading level0 row8\" >50</th>\n      <td id=\"T_adec8_row8_col0\" class=\"data row8 col0\" >38.614052</td>\n      <td id=\"T_adec8_row8_col1\" class=\"data row8 col1\" >0.124906</td>\n    </tr>\n    <tr>\n      <th id=\"T_adec8_level0_row9\" class=\"row_heading level0 row9\" >34</th>\n      <td id=\"T_adec8_row9_col0\" class=\"data row9 col0\" >45.672884</td>\n      <td id=\"T_adec8_row9_col1\" class=\"data row9 col1\" >0.120583</td>\n    </tr>\n    <tr>\n      <th id=\"T_adec8_level0_row10\" class=\"row_heading level0 row10\" >13</th>\n      <td id=\"T_adec8_row10_col0\" class=\"data row10 col0\" >19.826299</td>\n      <td id=\"T_adec8_row10_col1\" class=\"data row10 col1\" >0.114222</td>\n    </tr>\n    <tr>\n      <th id=\"T_adec8_level0_row11\" class=\"row_heading level0 row11\" >22</th>\n      <td id=\"T_adec8_row11_col0\" class=\"data row11 col0\" >38.355292</td>\n      <td id=\"T_adec8_row11_col1\" class=\"data row11 col1\" >0.113285</td>\n    </tr>\n    <tr>\n      <th id=\"T_adec8_level0_row12\" class=\"row_heading level0 row12\" >3</th>\n      <td id=\"T_adec8_row12_col0\" class=\"data row12 col0\" >30.954219</td>\n      <td id=\"T_adec8_row12_col1\" class=\"data row12 col1\" >0.105330</td>\n    </tr>\n    <tr>\n      <th id=\"T_adec8_level0_row13\" class=\"row_heading level0 row13\" >36</th>\n      <td id=\"T_adec8_row13_col0\" class=\"data row13 col0\" >40.269482</td>\n      <td id=\"T_adec8_row13_col1\" class=\"data row13 col1\" >0.105077</td>\n    </tr>\n    <tr>\n      <th id=\"T_adec8_level0_row14\" class=\"row_heading level0 row14\" >44</th>\n      <td id=\"T_adec8_row14_col0\" class=\"data row14 col0\" >42.998885</td>\n      <td id=\"T_adec8_row14_col1\" class=\"data row14 col1\" >0.104083</td>\n    </tr>\n    <tr>\n      <th id=\"T_adec8_level0_row15\" class=\"row_heading level0 row15\" >54</th>\n      <td id=\"T_adec8_row15_col0\" class=\"data row15 col0\" >42.477285</td>\n      <td id=\"T_adec8_row15_col1\" class=\"data row15 col1\" >0.096815</td>\n    </tr>\n    <tr>\n      <th id=\"T_adec8_level0_row16\" class=\"row_heading level0 row16\" >40</th>\n      <td id=\"T_adec8_row16_col0\" class=\"data row16 col0\" >29.365845</td>\n      <td id=\"T_adec8_row16_col1\" class=\"data row16 col1\" >0.094768</td>\n    </tr>\n    <tr>\n      <th id=\"T_adec8_level0_row17\" class=\"row_heading level0 row17\" >30</th>\n      <td id=\"T_adec8_row17_col0\" class=\"data row17 col0\" >22.412850</td>\n      <td id=\"T_adec8_row17_col1\" class=\"data row17 col1\" >0.089790</td>\n    </tr>\n    <tr>\n      <th id=\"T_adec8_level0_row18\" class=\"row_heading level0 row18\" >28</th>\n      <td id=\"T_adec8_row18_col0\" class=\"data row18 col0\" >35.212536</td>\n      <td id=\"T_adec8_row18_col1\" class=\"data row18 col1\" >0.087675</td>\n    </tr>\n    <tr>\n      <th id=\"T_adec8_level0_row19\" class=\"row_heading level0 row19\" >61</th>\n      <td id=\"T_adec8_row19_col0\" class=\"data row19 col0\" >29.703630</td>\n      <td id=\"T_adec8_row19_col1\" class=\"data row19 col1\" >0.086221</td>\n    </tr>\n    <tr>\n      <th id=\"T_adec8_level0_row20\" class=\"row_heading level0 row20\" >29</th>\n      <td id=\"T_adec8_row20_col0\" class=\"data row20 col0\" >39.285469</td>\n      <td id=\"T_adec8_row20_col1\" class=\"data row20 col1\" >0.081839</td>\n    </tr>\n    <tr>\n      <th id=\"T_adec8_level0_row21\" class=\"row_heading level0 row21\" >5</th>\n      <td id=\"T_adec8_row21_col0\" class=\"data row21 col0\" >20.186118</td>\n      <td id=\"T_adec8_row21_col1\" class=\"data row21 col1\" >0.081542</td>\n    </tr>\n    <tr>\n      <th id=\"T_adec8_level0_row22\" class=\"row_heading level0 row22\" >7</th>\n      <td id=\"T_adec8_row22_col0\" class=\"data row22 col0\" >32.663389</td>\n      <td id=\"T_adec8_row22_col1\" class=\"data row22 col1\" >0.081213</td>\n    </tr>\n    <tr>\n      <th id=\"T_adec8_level0_row23\" class=\"row_heading level0 row23\" >56</th>\n      <td id=\"T_adec8_row23_col0\" class=\"data row23 col0\" >36.461917</td>\n      <td id=\"T_adec8_row23_col1\" class=\"data row23 col1\" >0.081159</td>\n    </tr>\n    <tr>\n      <th id=\"T_adec8_level0_row24\" class=\"row_heading level0 row24\" >53</th>\n      <td id=\"T_adec8_row24_col0\" class=\"data row24 col0\" >13.112082</td>\n      <td id=\"T_adec8_row24_col1\" class=\"data row24 col1\" >0.070381</td>\n    </tr>\n    <tr>\n      <th id=\"T_adec8_level0_row25\" class=\"row_heading level0 row25\" >38</th>\n      <td id=\"T_adec8_row25_col0\" class=\"data row25 col0\" >22.278956</td>\n      <td id=\"T_adec8_row25_col1\" class=\"data row25 col1\" >0.066002</td>\n    </tr>\n    <tr>\n      <th id=\"T_adec8_level0_row26\" class=\"row_heading level0 row26\" >57</th>\n      <td id=\"T_adec8_row26_col0\" class=\"data row26 col0\" >29.348942</td>\n      <td id=\"T_adec8_row26_col1\" class=\"data row26 col1\" >0.064860</td>\n    </tr>\n    <tr>\n      <th id=\"T_adec8_level0_row27\" class=\"row_heading level0 row27\" >46</th>\n      <td id=\"T_adec8_row27_col0\" class=\"data row27 col0\" >18.450237</td>\n      <td id=\"T_adec8_row27_col1\" class=\"data row27 col1\" >0.063704</td>\n    </tr>\n    <tr>\n      <th id=\"T_adec8_level0_row28\" class=\"row_heading level0 row28\" >6</th>\n      <td id=\"T_adec8_row28_col0\" class=\"data row28 col0\" >42.367438</td>\n      <td id=\"T_adec8_row28_col1\" class=\"data row28 col1\" >0.056478</td>\n    </tr>\n    <tr>\n      <th id=\"T_adec8_level0_row29\" class=\"row_heading level0 row29\" >4</th>\n      <td id=\"T_adec8_row29_col0\" class=\"data row29 col0\" >17.157698</td>\n      <td id=\"T_adec8_row29_col1\" class=\"data row29 col1\" >0.049560</td>\n    </tr>\n    <tr>\n      <th id=\"T_adec8_level0_row30\" class=\"row_heading level0 row30\" >37</th>\n      <td id=\"T_adec8_row30_col0\" class=\"data row30 col0\" >23.777108</td>\n      <td id=\"T_adec8_row30_col1\" class=\"data row30 col1\" >0.048269</td>\n    </tr>\n    <tr>\n      <th id=\"T_adec8_level0_row31\" class=\"row_heading level0 row31\" >41</th>\n      <td id=\"T_adec8_row31_col0\" class=\"data row31 col0\" >13.290057</td>\n      <td id=\"T_adec8_row31_col1\" class=\"data row31 col1\" >0.046136</td>\n    </tr>\n    <tr>\n      <th id=\"T_adec8_level0_row32\" class=\"row_heading level0 row32\" >60</th>\n      <td id=\"T_adec8_row32_col0\" class=\"data row32 col0\" >24.360081</td>\n      <td id=\"T_adec8_row32_col1\" class=\"data row32 col1\" >0.045472</td>\n    </tr>\n    <tr>\n      <th id=\"T_adec8_level0_row33\" class=\"row_heading level0 row33\" >58</th>\n      <td id=\"T_adec8_row33_col0\" class=\"data row33 col0\" >23.474640</td>\n      <td id=\"T_adec8_row33_col1\" class=\"data row33 col1\" >0.044382</td>\n    </tr>\n    <tr>\n      <th id=\"T_adec8_level0_row34\" class=\"row_heading level0 row34\" >11</th>\n      <td id=\"T_adec8_row34_col0\" class=\"data row34 col0\" >1.403496</td>\n      <td id=\"T_adec8_row34_col1\" class=\"data row34 col1\" >0.034973</td>\n    </tr>\n    <tr>\n      <th id=\"T_adec8_level0_row35\" class=\"row_heading level0 row35\" >2</th>\n      <td id=\"T_adec8_row35_col0\" class=\"data row35 col0\" >3.499265</td>\n      <td id=\"T_adec8_row35_col1\" class=\"data row35 col1\" >0.033353</td>\n    </tr>\n    <tr>\n      <th id=\"T_adec8_level0_row36\" class=\"row_heading level0 row36\" >31</th>\n      <td id=\"T_adec8_row36_col0\" class=\"data row36 col0\" >8.214356</td>\n      <td id=\"T_adec8_row36_col1\" class=\"data row36 col1\" >0.032630</td>\n    </tr>\n    <tr>\n      <th id=\"T_adec8_level0_row37\" class=\"row_heading level0 row37\" >39</th>\n      <td id=\"T_adec8_row37_col0\" class=\"data row37 col0\" >nan</td>\n      <td id=\"T_adec8_row37_col1\" class=\"data row37 col1\" >0.031806</td>\n    </tr>\n    <tr>\n      <th id=\"T_adec8_level0_row38\" class=\"row_heading level0 row38\" >9</th>\n      <td id=\"T_adec8_row38_col0\" class=\"data row38 col0\" >9.826099</td>\n      <td id=\"T_adec8_row38_col1\" class=\"data row38 col1\" >0.031417</td>\n    </tr>\n    <tr>\n      <th id=\"T_adec8_level0_row39\" class=\"row_heading level0 row39\" >0</th>\n      <td id=\"T_adec8_row39_col0\" class=\"data row39 col0\" >nan</td>\n      <td id=\"T_adec8_row39_col1\" class=\"data row39 col1\" >0.030266</td>\n    </tr>\n    <tr>\n      <th id=\"T_adec8_level0_row40\" class=\"row_heading level0 row40\" >63</th>\n      <td id=\"T_adec8_row40_col0\" class=\"data row40 col0\" >12.839676</td>\n      <td id=\"T_adec8_row40_col1\" class=\"data row40 col1\" >0.029485</td>\n    </tr>\n    <tr>\n      <th id=\"T_adec8_level0_row41\" class=\"row_heading level0 row41\" >12</th>\n      <td id=\"T_adec8_row41_col0\" class=\"data row41 col0\" >3.904243</td>\n      <td id=\"T_adec8_row41_col1\" class=\"data row41 col1\" >0.028679</td>\n    </tr>\n    <tr>\n      <th id=\"T_adec8_level0_row42\" class=\"row_heading level0 row42\" >19</th>\n      <td id=\"T_adec8_row42_col0\" class=\"data row42 col0\" >15.116077</td>\n      <td id=\"T_adec8_row42_col1\" class=\"data row42 col1\" >0.025657</td>\n    </tr>\n    <tr>\n      <th id=\"T_adec8_level0_row43\" class=\"row_heading level0 row43\" >27</th>\n      <td id=\"T_adec8_row43_col0\" class=\"data row43 col0\" >6.431425</td>\n      <td id=\"T_adec8_row43_col1\" class=\"data row43 col1\" >0.023518</td>\n    </tr>\n    <tr>\n      <th id=\"T_adec8_level0_row44\" class=\"row_heading level0 row44\" >43</th>\n      <td id=\"T_adec8_row44_col0\" class=\"data row44 col0\" >4.927774</td>\n      <td id=\"T_adec8_row44_col1\" class=\"data row44 col1\" >0.021259</td>\n    </tr>\n    <tr>\n      <th id=\"T_adec8_level0_row45\" class=\"row_heading level0 row45\" >47</th>\n      <td id=\"T_adec8_row45_col0\" class=\"data row45 col0\" >7.288586</td>\n      <td id=\"T_adec8_row45_col1\" class=\"data row45 col1\" >0.021238</td>\n    </tr>\n    <tr>\n      <th id=\"T_adec8_level0_row46\" class=\"row_heading level0 row46\" >8</th>\n      <td id=\"T_adec8_row46_col0\" class=\"data row46 col0\" >13.564295</td>\n      <td id=\"T_adec8_row46_col1\" class=\"data row46 col1\" >0.019186</td>\n    </tr>\n    <tr>\n      <th id=\"T_adec8_level0_row47\" class=\"row_heading level0 row47\" >32</th>\n      <td id=\"T_adec8_row47_col0\" class=\"data row47 col0\" >8.711713</td>\n      <td id=\"T_adec8_row47_col1\" class=\"data row47 col1\" >0.017241</td>\n    </tr>\n    <tr>\n      <th id=\"T_adec8_level0_row48\" class=\"row_heading level0 row48\" >33</th>\n      <td id=\"T_adec8_row48_col0\" class=\"data row48 col0\" >4.183407</td>\n      <td id=\"T_adec8_row48_col1\" class=\"data row48 col1\" >0.011573</td>\n    </tr>\n    <tr>\n      <th id=\"T_adec8_level0_row49\" class=\"row_heading level0 row49\" >52</th>\n      <td id=\"T_adec8_row49_col0\" class=\"data row49 col0\" >1.598398</td>\n      <td id=\"T_adec8_row49_col1\" class=\"data row49 col1\" >0.005777</td>\n    </tr>\n    <tr>\n      <th id=\"T_adec8_level0_row50\" class=\"row_heading level0 row50\" >14</th>\n      <td id=\"T_adec8_row50_col0\" class=\"data row50 col0\" >nan</td>\n      <td id=\"T_adec8_row50_col1\" class=\"data row50 col1\" >0.005738</td>\n    </tr>\n    <tr>\n      <th id=\"T_adec8_level0_row51\" class=\"row_heading level0 row51\" >17</th>\n      <td id=\"T_adec8_row51_col0\" class=\"data row51 col0\" >0.860570</td>\n      <td id=\"T_adec8_row51_col1\" class=\"data row51 col1\" >0.000304</td>\n    </tr>\n    <tr>\n      <th id=\"T_adec8_level0_row52\" class=\"row_heading level0 row52\" >24</th>\n      <td id=\"T_adec8_row52_col0\" class=\"data row52 col0\" >2.114928</td>\n      <td id=\"T_adec8_row52_col1\" class=\"data row52 col1\" >0.000000</td>\n    </tr>\n    <tr>\n      <th id=\"T_adec8_level0_row53\" class=\"row_heading level0 row53\" >23</th>\n      <td id=\"T_adec8_row53_col0\" class=\"data row53 col0\" >3.834320</td>\n      <td id=\"T_adec8_row53_col1\" class=\"data row53 col1\" >0.000000</td>\n    </tr>\n    <tr>\n      <th id=\"T_adec8_level0_row54\" class=\"row_heading level0 row54\" >42</th>\n      <td id=\"T_adec8_row54_col0\" class=\"data row54 col0\" >1.957008</td>\n      <td id=\"T_adec8_row54_col1\" class=\"data row54 col1\" >0.000000</td>\n    </tr>\n    <tr>\n      <th id=\"T_adec8_level0_row55\" class=\"row_heading level0 row55\" >49</th>\n      <td id=\"T_adec8_row55_col0\" class=\"data row55 col0\" >1.636885</td>\n      <td id=\"T_adec8_row55_col1\" class=\"data row55 col1\" >0.000000</td>\n    </tr>\n    <tr>\n      <th id=\"T_adec8_level0_row56\" class=\"row_heading level0 row56\" >18</th>\n      <td id=\"T_adec8_row56_col0\" class=\"data row56 col0\" >5.700341</td>\n      <td id=\"T_adec8_row56_col1\" class=\"data row56 col1\" >0.000000</td>\n    </tr>\n    <tr>\n      <th id=\"T_adec8_level0_row57\" class=\"row_heading level0 row57\" >15</th>\n      <td id=\"T_adec8_row57_col0\" class=\"data row57 col0\" >6.472643</td>\n      <td id=\"T_adec8_row57_col1\" class=\"data row57 col1\" >0.000000</td>\n    </tr>\n    <tr>\n      <th id=\"T_adec8_level0_row58\" class=\"row_heading level0 row58\" >25</th>\n      <td id=\"T_adec8_row58_col0\" class=\"data row58 col0\" >nan</td>\n      <td id=\"T_adec8_row58_col1\" class=\"data row58 col1\" >0.000000</td>\n    </tr>\n    <tr>\n      <th id=\"T_adec8_level0_row59\" class=\"row_heading level0 row59\" >59</th>\n      <td id=\"T_adec8_row59_col0\" class=\"data row59 col0\" >nan</td>\n      <td id=\"T_adec8_row59_col1\" class=\"data row59 col1\" >0.000000</td>\n    </tr>\n    <tr>\n      <th id=\"T_adec8_level0_row60\" class=\"row_heading level0 row60\" >10</th>\n      <td id=\"T_adec8_row60_col0\" class=\"data row60 col0\" >0.705293</td>\n      <td id=\"T_adec8_row60_col1\" class=\"data row60 col1\" >0.000000</td>\n    </tr>\n    <tr>\n      <th id=\"T_adec8_level0_row61\" class=\"row_heading level0 row61\" >26</th>\n      <td id=\"T_adec8_row61_col0\" class=\"data row61 col0\" >nan</td>\n      <td id=\"T_adec8_row61_col1\" class=\"data row61 col1\" >0.000000</td>\n    </tr>\n    <tr>\n      <th id=\"T_adec8_level0_row62\" class=\"row_heading level0 row62\" >62</th>\n      <td id=\"T_adec8_row62_col0\" class=\"data row62 col0\" >nan</td>\n      <td id=\"T_adec8_row62_col1\" class=\"data row62 col1\" >0.000000</td>\n    </tr>\n    <tr>\n      <th id=\"T_adec8_level0_row63\" class=\"row_heading level0 row63\" >35</th>\n      <td id=\"T_adec8_row63_col0\" class=\"data row63 col0\" >nan</td>\n      <td id=\"T_adec8_row63_col1\" class=\"data row63 col1\" >0.000000</td>\n    </tr>\n  </tbody>\n</table>\n"
     },
     "execution_count": 78,
     "metadata": {},
     "output_type": "execute_result"
    }
   ],
   "source": [
    "pd.DataFrame(\n",
    "    {\n",
    "        'F': f,\n",
    "        'MI': mi\n",
    "    }\n",
    ").sort_values(\n",
    "    'MI', ascending=False\n",
    ").style.bar(\n",
    "    subset=['F', 'MI'], color='grey'\n",
    ")"
   ],
   "metadata": {
    "collapsed": false,
    "pycharm": {
     "name": "#%%\n"
    }
   }
  },
  {
   "cell_type": "code",
   "execution_count": 76,
   "outputs": [
    {
     "name": "stdout",
     "output_type": "stream",
     "text": [
      "hw\n"
     ]
    }
   ],
   "source": [
    "print('hw')"
   ],
   "metadata": {
    "collapsed": false,
    "pycharm": {
     "name": "#%%\n"
    }
   }
  },
  {
   "cell_type": "code",
   "execution_count": 103,
   "outputs": [],
   "source": [
    "index_for_removal = np.array(\n",
    "    [\n",
    "        0, 10, 14, 17, 25, 26, 35, 39, 49, 59, 62,\n",
    "    ]\n",
    ")\n",
    "X_train_indexed = np.delete(X_train, index_for_removal, 1)\n",
    "X_test_indexed = np.delete(X_test, index_for_removal, 1)"
   ],
   "metadata": {
    "collapsed": false,
    "pycharm": {
     "name": "#%%\n"
    }
   }
  },
  {
   "cell_type": "code",
   "execution_count": 104,
   "outputs": [
    {
     "name": "stdout",
     "output_type": "stream",
     "text": [
      "(1775, 64)\n",
      "(1775, 53)\n",
      "(444, 53)\n"
     ]
    }
   ],
   "source": [
    "print(X_train.shape)\n",
    "print(X_train_indexed.shape)\n",
    "print(X_test_indexed.shape)"
   ],
   "metadata": {
    "collapsed": false,
    "pycharm": {
     "name": "#%%\n"
    }
   }
  },
  {
   "cell_type": "code",
   "execution_count": 100,
   "outputs": [],
   "source": [],
   "metadata": {
    "collapsed": false,
    "pycharm": {
     "name": "#%%\n"
    }
   }
  },
  {
   "cell_type": "code",
   "execution_count": null,
   "outputs": [],
   "source": [],
   "metadata": {
    "collapsed": false,
    "pycharm": {
     "name": "#%%\n"
    }
   }
  }
 ],
 "metadata": {
  "kernelspec": {
   "display_name": "Python 3",
   "language": "python",
   "name": "python3"
  },
  "language_info": {
   "codemirror_mode": {
    "name": "ipython",
    "version": 2
   },
   "file_extension": ".py",
   "mimetype": "text/x-python",
   "name": "python",
   "nbconvert_exporter": "python",
   "pygments_lexer": "ipython2",
   "version": "2.7.6"
  }
 },
 "nbformat": 4,
 "nbformat_minor": 0
}
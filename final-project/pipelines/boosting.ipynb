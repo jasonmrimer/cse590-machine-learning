{
 "cells": [
  {
   "cell_type": "code",
   "execution_count": 15,
   "metadata": {
    "collapsed": true
   },
   "outputs": [],
   "source": [
    "import numpy as np\n",
    "import pandas as pd\n",
    "from sklearn.decomposition import PCA\n",
    "from sklearn.ensemble import RandomForestClassifier, AdaBoostClassifier, GradientBoostingClassifier, VotingClassifier\n",
    "from sklearn.feature_selection import SelectPercentile, SelectFromModel, RFE\n",
    "from sklearn.linear_model import LogisticRegression\n",
    "from sklearn.model_selection import train_test_split\n",
    "from sklearn.naive_bayes import MultinomialNB\n",
    "from sklearn.neighbors import KNeighborsClassifier\n",
    "from sklearn.neural_network import MLPClassifier\n",
    "from sklearn.pipeline import make_pipeline\n",
    "from sklearn.preprocessing import StandardScaler, RobustScaler, MinMaxScaler\n",
    "from sklearn.svm import SVC, LinearSVC\n",
    "from sklearn.tree import DecisionTreeClassifier\n"
   ]
  },
  {
   "cell_type": "code",
   "execution_count": 1,
   "outputs": [],
   "source": [
    "\n",
    "X = pd.read_csv(\"../dataset/extracted_features.csv\").values\n",
    "index_for_removal = np.array(\n",
    "    [\n",
    "        0, 10, 14, 17, 25, 26, 35, 39, 49, 59, 62,\n",
    "    ]\n",
    ")\n",
    "X_indexed = np.delete(X, index_for_removal, 1)\n",
    "\n",
    "y = pd.read_csv(\"../dataset/labels.csv\").values\n",
    "# images = pd.read_csv(\"../dataset/raw_images.csv\").values\n",
    "X_train, X_test, y_train, y_test = train_test_split(\n",
    "    X_indexed, y, test_size=0.2, random_state=42, shuffle=True, stratify=y\n",
    ")\n",
    "y_train = y_train.ravel()\n",
    "\n",
    "select = SelectPercentile(percentile=90)\n",
    "select.fit(X_train, y_train)\n",
    "X_train = select.transform(X_train)\n",
    "X_test = select.transform(X_test)\n",
    "\n",
    "rf = RandomForestClassifier(\n",
    "    n_estimators=200,\n",
    "    max_features=3,\n",
    ").fit(X_train, y_train)\n",
    "\n",
    "select_sfm = SelectFromModel(\n",
    "    rf,\n",
    "    threshold='0.1*mean',\n",
    ")\n",
    "select_sfm.fit(X_train, y_train)\n",
    "X_train = select_sfm.transform(X_train)\n",
    "X_test = select_sfm.transform(X_test)\n",
    "\n",
    "select_rfe = RFE(\n",
    "    RandomForestClassifier(\n",
    "        n_estimators=200, random_state=42\n",
    "    ), n_features_to_select=40\n",
    ")\n",
    "\n",
    "select_rfe.fit(X_train, y_train)\n",
    "X_train = select_rfe.transform(X_train)\n",
    "X_test = select_rfe.transform(X_test)\n",
    "\n",
    "scaler_standard = StandardScaler().fit(X_train)\n",
    "X_train_standard = scaler_standard.transform(X_train)\n",
    "X_test_standard = scaler_standard.transform(X_test)\n",
    "\n",
    "scaler_robust = RobustScaler().fit(X_train)\n",
    "X_train_robust = scaler_robust.transform(X_train)\n",
    "X_test_robust = scaler_robust.transform(X_test)\n",
    "\n",
    "scaler_minmax = MinMaxScaler().fit(X_train)\n",
    "X_train_minmax = scaler_minmax.transform(X_train)\n",
    "X_test_minmax = scaler_minmax.transform(X_test)\n",
    "\n",
    "pca = PCA(n_components=37, random_state=42)\n",
    "X_train_pca = pca.fit_transform(X_train_standard)\n",
    "X_test_pca = pca.transform(X_test_standard)\n"
   ],
   "metadata": {
    "collapsed": false,
    "pycharm": {
     "name": "#%%\n"
    }
   }
  },
  {
   "cell_type": "code",
   "execution_count": 26,
   "outputs": [],
   "source": [
    "\n",
    "knn = KNeighborsClassifier(n_neighbors=5)\n",
    "knn_pipeline = make_pipeline(\n",
    "    MinMaxScaler(),\n",
    "    PCA(n_components=37),\n",
    "    knn\n",
    ")\n",
    "\n",
    "ksvm_pipeline = make_pipeline(\n",
    "    MinMaxScaler(),\n",
    "    SVC(\n",
    "        kernel='poly',\n",
    "        C=5,\n",
    "        degree=1,\n",
    "        random_state=42\n",
    "    )\n",
    ")\n",
    "\n",
    "logreg = LogisticRegression(C=4.817948717948719)\n",
    "logreg_pipeline = make_pipeline(\n",
    "    MinMaxScaler(),\n",
    "    logreg\n",
    ")\n",
    "\n",
    "lsvc = LinearSVC(C=0.4081632653061224)\n",
    "lsvc_pipeline = make_pipeline(\n",
    "    MinMaxScaler(),\n",
    "    lsvc\n",
    ")\n",
    "\n",
    "mnb = MultinomialNB(alpha=0.15789473684210525, )\n",
    "mnb_pipeline = make_pipeline(\n",
    "    MinMaxScaler(),\n",
    "    mnb\n",
    ")\n",
    "\n",
    "rf = RandomForestClassifier(n_estimators=500, max_features=5, random_state=42)\n",
    "rf_pipeline = make_pipeline(\n",
    "    rf\n",
    ")\n",
    "\n",
    "gbrt_pipeline = make_pipeline(\n",
    "    RobustScaler(),\n",
    "    GradientBoostingClassifier(\n",
    "        n_estimators=500,\n",
    "        max_depth=1,\n",
    "        learning_rate=0.1,\n",
    "        random_state=42\n",
    "    )\n",
    ")\n",
    "mlp_pipeline = make_pipeline(\n",
    "    MinMaxScaler(),\n",
    "    MLPClassifier(\n",
    "        activation='relu',\n",
    "        hidden_layer_sizes=256,\n",
    "        alpha=0.05,\n",
    "        random_state=42\n",
    "    )\n",
    ")\n",
    "\n"
   ],
   "metadata": {
    "collapsed": false,
    "pycharm": {
     "name": "#%%\n"
    }
   }
  },
  {
   "cell_type": "code",
   "execution_count": 9,
   "outputs": [],
   "source": [
    "knn = DecisionTreeClassifier(\n",
    "    criterion='entropy',\n",
    "    max_depth=1,\n",
    "    random_state=42\n",
    ")\n",
    "\n",
    "ada = AdaBoostClassifier(\n",
    "    base_estimator=knn,\n",
    "    n_estimators=1000,\n",
    "    learning_rate=0.1,\n",
    "    random_state=42\n",
    ").fit(X_train_pca, y_train)"
   ],
   "metadata": {
    "collapsed": false,
    "pycharm": {
     "name": "#%%\n"
    }
   }
  },
  {
   "cell_type": "code",
   "execution_count": 10,
   "outputs": [
    {
     "name": "stdout",
     "output_type": "stream",
     "text": [
      "0.6666666666666666\n"
     ]
    }
   ],
   "source": [
    "print(ada.score(X_test_pca, y_test))"
   ],
   "metadata": {
    "collapsed": false,
    "pycharm": {
     "name": "#%%\n"
    }
   }
  },
  {
   "cell_type": "code",
   "execution_count": 28,
   "outputs": [
    {
     "data": {
      "text/plain": "AdaBoostClassifier(base_estimator=VotingClassifier(estimators=[('clf1',\n                                                                LogisticRegression(C=4.817948717948719)),\n                                                               ('clf2',\n                                                                RandomForestClassifier(max_features=5,\n                                                                                       n_estimators=500,\n                                                                                       random_state=42))],\n                                                   voting='soft'))"
     },
     "execution_count": 28,
     "metadata": {},
     "output_type": "execute_result"
    }
   ],
   "source": [
    "votingClf = VotingClassifier(\n",
    "    [\n",
    "        ('clf1', logreg),\n",
    "        ('clf2', rf)\n",
    "    ],\n",
    "    voting='soft'\n",
    ")\n",
    "adaCombo = AdaBoostClassifier(base_estimator=votingClf)\n",
    "adaCombo.fit(X_train_pca, y_train)\n"
   ],
   "metadata": {
    "collapsed": false,
    "pycharm": {
     "name": "#%%\n"
    }
   }
  },
  {
   "cell_type": "code",
   "execution_count": 29,
   "outputs": [
    {
     "name": "stdout",
     "output_type": "stream",
     "text": [
      "0.8400900900900901\n"
     ]
    }
   ],
   "source": [
    "print(adaCombo.score(X_test_pca, y_test))"
   ],
   "metadata": {
    "collapsed": false,
    "pycharm": {
     "name": "#%%\n"
    }
   }
  },
  {
   "cell_type": "code",
   "execution_count": null,
   "outputs": [],
   "source": [],
   "metadata": {
    "collapsed": false,
    "pycharm": {
     "name": "#%%\n"
    }
   }
  }
 ],
 "metadata": {
  "kernelspec": {
   "display_name": "Python 3",
   "language": "python",
   "name": "python3"
  },
  "language_info": {
   "codemirror_mode": {
    "name": "ipython",
    "version": 2
   },
   "file_extension": ".py",
   "mimetype": "text/x-python",
   "name": "python",
   "nbconvert_exporter": "python",
   "pygments_lexer": "ipython2",
   "version": "2.7.6"
  }
 },
 "nbformat": 4,
 "nbformat_minor": 0
}
{
 "cells": [
  {
   "cell_type": "code",
   "execution_count": null,
   "metadata": {
    "collapsed": true
   },
   "outputs": [],
   "source": [
    "import mglearn as mglearn\n",
    "import np as np\n",
    "import pandas as pd\n",
    "import numpy as np\n",
    "import matplotlib.pyplot as plt\n",
    "import math\n",
    "from sklearn.svm import LinearSVC\n",
    "from sklearn.linear_model import LogisticRegression\n",
    "from sklearn.model_selection import cross_val_score\n",
    "\n",
    "!pip install numpy scipy scikit-learn matplotlib pandas\n",
    "from sklearn.model_selection import GridSearchCV\n"
   ]
  },
  {
   "cell_type": "markdown",
   "source": [
    "# Train the Classifiers"
   ],
   "metadata": {
    "collapsed": false,
    "pycharm": {
     "name": "#%% md\n"
    }
   }
  },
  {
   "cell_type": "markdown",
   "source": [
    "## Import data, setup models"
   ],
   "metadata": {
    "collapsed": false,
    "pycharm": {
     "name": "#%% md\n"
    }
   }
  },
  {
   "cell_type": "code",
   "execution_count": null,
   "outputs": [],
   "source": [
    "from sklearn.neighbors import KNeighborsClassifier\n",
    "import os\n",
    "import warnings\n",
    "import sys\n",
    "\n",
    "if not sys.warnoptions:\n",
    "    warnings.simplefilter(\"ignore\")\n",
    "    os.environ[\"PYTHONWARNINGS\"] = ('ignore::UserWarning,ignore::ConvergenceWarning,ignore::RuntimeWarning')\n",
    "train_set = pd.read_csv(\"./spam_train.csv\")\n",
    "test_set = pd.read_csv(\"./spam_test.csv\")\n",
    "\n",
    "X_train = np.array(train_set[list(train_set.columns[1:-1])])\n",
    "y_train = np.array(train_set[\"class\"])\n",
    "X_test = np.array(test_set[list(test_set.columns[1:-1])])\n",
    "y_test = np.array(test_set[\"class\"])\n",
    "\n",
    "np.random.seed(2)\n",
    "\n",
    "knn = KNeighborsClassifier(n_neighbors=1).fit(X_train, y_train)\n",
    "print(\"KNN Training score: {:.8f}\".format(knn.score(X_train, y_train)))\n",
    "print(\n",
    "    \"KNN Testing score: {:.8f}\".format(knn.score(X_test, y_test))\n",
    ")\n",
    "\n",
    "logreg = LogisticRegression().fit(X_train, y_train)\n",
    "print(\"Logistic Regression Training score: {:.8f}\".format(logreg.score(X_train, y_train)))\n",
    "print(\n",
    "    \"Logistic Regression Testing score: {:.8f}\".format(logreg.score(X_test, y_test))\n",
    ")\n",
    "\n",
    "lsvc = LinearSVC().fit(X_train, y_train)\n",
    "print(\"LinearSVC Training score: {:.8f}\".format(lsvc.score(X_train, y_train)))\n",
    "print(\"LinearSVC Testing score: {:.8f}\".format(lsvc.score(X_test, y_test)))"
   ],
   "metadata": {
    "collapsed": false,
    "pycharm": {
     "name": "#%%\n"
    }
   }
  },
  {
   "cell_type": "code",
   "execution_count": null,
   "outputs": [],
   "source": [],
   "metadata": {
    "collapsed": false,
    "pycharm": {
     "name": "#%%\n"
    }
   }
  },
  {
   "cell_type": "markdown",
   "source": [
    "## KNN Train"
   ],
   "metadata": {
    "collapsed": false,
    "pycharm": {
     "name": "#%% md\n"
    }
   }
  },
  {
   "cell_type": "code",
   "execution_count": null,
   "outputs": [],
   "source": [
    "knn = KNeighborsClassifier(n_neighbors=1).fit(X_train, y_train)\n",
    "print(\"KNN Training score: {:.8f}\".format(knn.score(X_train, y_train)))\n",
    "print(\"KNN Testing score: {:.8f}\".format(knn.score(X_test, y_test)))\n",
    "\n",
    "\n",
    "def knn_and_graph(neighbor_max):\n",
    "    plt.style.use('_mpl-gallery')\n",
    "    x = np.linspace(1, neighbor_max, neighbor_max)\n",
    "    results = []\n",
    "    for neighbor_count in x:\n",
    "        clf = KNeighborsClassifier(n_neighbors=int(neighbor_count))\n",
    "        clf.fit(X_train, y_train)\n",
    "        results.append(\n",
    "            [\n",
    "                neighbor_count,\n",
    "                clf.score(X_train, y_train),\n",
    "                clf.score(X_test, y_test)\n",
    "            ]\n",
    "        )\n",
    "\n",
    "    x = [neighbors[0] for neighbors in results]\n",
    "    plt.title(\"KNN\")\n",
    "    plt.xlabel(\"Neighbors\")\n",
    "    plt.ylabel(\"Accuracy (0 - 1)\")\n",
    "    plt.plot(x, [train[1] for train in results], label='Training Score')\n",
    "    plt.plot(x, [test[2] for test in results], label='Testing Score')\n",
    "    plt.legend()\n",
    "    # fig = plt.figure()\n",
    "    plt.show()\n",
    "    #\n",
    "\n",
    "    print(\"Test set predictions: {}\".format(clf.predict(X_test)))\n",
    "    print(\"Test set accuracy: {:.2f}\".format(clf.score(X_test, y_test)))\n",
    "    clf = KNeighborsClassifier(n_neighbors=int(5))\n",
    "    clf.fit(X_train, y_train)\n",
    "\n",
    "    print(clf.score(X_train, y_train))\n",
    "    print(clf.score(X_test, y_test))"
   ],
   "metadata": {
    "collapsed": false,
    "pycharm": {
     "name": "#%%\n"
    }
   }
  },
  {
   "cell_type": "markdown",
   "source": [
    "### KNN Train first view"
   ],
   "metadata": {
    "collapsed": false,
    "pycharm": {
     "name": "#%% md\n"
    }
   }
  },
  {
   "cell_type": "code",
   "execution_count": null,
   "outputs": [],
   "source": [
    "knn_and_graph(100)"
   ],
   "metadata": {
    "collapsed": false,
    "pycharm": {
     "name": "#%%\n"
    }
   }
  },
  {
   "cell_type": "markdown",
   "source": [
    "### KNN Train second view"
   ],
   "metadata": {
    "collapsed": false,
    "pycharm": {
     "name": "#%% md\n"
    }
   }
  },
  {
   "cell_type": "code",
   "execution_count": null,
   "outputs": [],
   "source": [
    "knn_and_graph(20)"
   ],
   "metadata": {
    "collapsed": false,
    "pycharm": {
     "name": "#%%\n"
    }
   }
  },
  {
   "cell_type": "markdown",
   "source": [
    "## KNN Validation"
   ],
   "metadata": {
    "collapsed": false,
    "pycharm": {
     "name": "#%% md\n"
    }
   }
  },
  {
   "cell_type": "code",
   "execution_count": null,
   "outputs": [],
   "source": [
    "print(\"KNN\")\n",
    "k_range = range(1, 20)\n",
    "k_scores = []\n",
    "knn = KNeighborsClassifier().fit(X_train, y_train)\n",
    "hyperparameters = dict(n_neighbors=k_range)\n",
    "clf = GridSearchCV(knn, hyperparameters, cv=5)\n",
    "clf.fit(X_train, y_train)\n",
    "scores_knn = clf.cv_results_['mean_test_score']\n",
    "std_scores = clf.cv_results_['std_test_score']\n",
    "optimal_k_val = clf.best_params_['n_neighbors']\n",
    "print(\"Best K: \", optimal_k_val)\n",
    "print(\"Train score: \", KNeighborsClassifier(n_neighbors=optimal_k_val).fit(X_train, y_train).score(X_train, y_train))\n",
    "print(std_scores)\n",
    "# for k in k_range:\n",
    "#     knn = KNeighborsClassifier(n_neighbors=k)\n",
    "#     scores = cross_val_score(knn, X_train, y_train, cv=5, scoring='accuracy')\n",
    "#     k_scores.append(scores.mean())\n",
    "# plot to see clearly\n",
    "fig, ax = plt.subplots()\n",
    "fig.set_figheight(4)\n",
    "fig.set_figwidth(4)\n",
    "plt.plot(k_range, scores_knn)\n",
    "plt.xlabel('Value of K for KNN')\n",
    "plt.ylabel('Cross-Validated Accuracy')\n",
    "plt.show()\n",
    "\n",
    "fig, ax = plt.subplots()\n",
    "fig.set_figheight(4)\n",
    "fig.set_figwidth(4)\n",
    "plt.plot(k_range, std_scores)\n",
    "plt.xlabel('C Value')\n",
    "plt.ylabel('Cross-Validated Standard Deviation')\n",
    "plt.show()"
   ],
   "metadata": {
    "collapsed": false,
    "pycharm": {
     "name": "#%%\n"
    }
   }
  },
  {
   "cell_type": "markdown",
   "source": [
    "# Logistic Regression"
   ],
   "metadata": {
    "collapsed": false,
    "pycharm": {
     "name": "#%% md\n"
    }
   }
  },
  {
   "cell_type": "markdown",
   "source": [
    "## Logreg Train"
   ],
   "metadata": {
    "collapsed": false
   }
  },
  {
   "cell_type": "code",
   "execution_count": null,
   "outputs": [],
   "source": [
    "logreg = LogisticRegression().fit(X_train, y_train)\n",
    "print(\"Logistic Regression Training score: {:.8f}\".format(logreg.score(X_train, y_train)))\n",
    "print(\"Logistic Regression Testing score: {:.8f}\".format(logreg.score(X_test, y_test)))\n",
    "\n",
    "\n",
    "def logreg_explore_and_graph(c_vals):\n",
    "    hyperparameters = dict(C=c_vals)\n",
    "    clf = GridSearchCV(logreg, hyperparameters, cv=5)\n",
    "    clf.fit(X_train, y_train)\n",
    "    scores_logreg = clf.cv_results_['mean_test_score']\n",
    "    std_scores = clf.cv_results_['std_test_score']\n",
    "    optimal_c_val = clf.best_params_['C']\n",
    "    print(\"Best C: \", optimal_c_val)\n",
    "    print(\"Train score: \", LogisticRegression(C=optimal_c_val).fit(X_train, y_train).score(X_train, y_train))\n",
    "    print(std_scores)\n",
    "    fig, ax = plt.subplots()\n",
    "    fig.set_figheight(4)\n",
    "    fig.set_figwidth(4)\n",
    "    plt.plot(c_vals, scores_logreg)\n",
    "    plt.xlabel('C Value')\n",
    "    plt.ylabel('Cross-Validated Accuracy')\n",
    "    plt.show()\n",
    "\n",
    "    fig, ax = plt.subplots()\n",
    "    fig.set_figheight(4)\n",
    "    fig.set_figwidth(4)\n",
    "    plt.plot(c_vals, std_scores)\n",
    "    plt.xlabel('C Value')\n",
    "    plt.ylabel('Cross-Validated Standard Deviation')\n",
    "    plt.show()"
   ],
   "metadata": {
    "collapsed": false,
    "pycharm": {
     "name": "#%%\n"
    }
   }
  },
  {
   "cell_type": "markdown",
   "source": [
    "## Logreg Validate first view"
   ],
   "metadata": {
    "collapsed": false,
    "pycharm": {
     "name": "#%% md\n"
    }
   }
  },
  {
   "cell_type": "code",
   "execution_count": null,
   "outputs": [],
   "source": [
    "logreg_explore_and_graph(np.logspace(0, 4, 10))"
   ],
   "metadata": {
    "collapsed": false,
    "pycharm": {
     "name": "#%%\n"
    }
   }
  },
  {
   "cell_type": "markdown",
   "source": [
    "## Logreg Validate second view"
   ],
   "metadata": {
    "collapsed": false,
    "pycharm": {
     "name": "#%% md\n"
    }
   }
  },
  {
   "cell_type": "code",
   "execution_count": null,
   "outputs": [],
   "source": [
    "logreg_explore_and_graph(np.logspace(1, 3.3, 20))"
   ],
   "metadata": {
    "collapsed": false,
    "pycharm": {
     "name": "#%%\n"
    }
   }
  },
  {
   "cell_type": "markdown",
   "source": [
    "## Logreg Validate first linspace view"
   ],
   "metadata": {
    "collapsed": false,
    "pycharm": {
     "name": "#%% md\n"
    }
   }
  },
  {
   "cell_type": "code",
   "execution_count": null,
   "outputs": [],
   "source": [
    "logreg_explore_and_graph(np.linspace(10, 40, 40))"
   ],
   "metadata": {
    "collapsed": false,
    "pycharm": {
     "name": "#%%\n"
    }
   }
  },
  {
   "cell_type": "markdown",
   "source": [
    "### Logreg final linspace"
   ],
   "metadata": {
    "collapsed": false,
    "pycharm": {
     "name": "#%% md\n"
    }
   }
  },
  {
   "cell_type": "code",
   "execution_count": null,
   "outputs": [],
   "source": [
    "logreg_explore_and_graph(np.linspace(25, 28, 50))"
   ],
   "metadata": {
    "collapsed": false,
    "pycharm": {
     "name": "#%%\n"
    }
   }
  },
  {
   "cell_type": "markdown",
   "source": [
    "### Logreg Test"
   ],
   "metadata": {
    "collapsed": false,
    "pycharm": {
     "name": "#%% md\n"
    }
   }
  },
  {
   "cell_type": "code",
   "execution_count": null,
   "outputs": [],
   "source": [
    "print(\n",
    "    \"Logreg best train score: \",\n",
    "    LogisticRegression(C=26.224489795918366)\n",
    "        .fit(X_train, y_train)\n",
    "        .score(X_train, y_train)\n",
    ")\n",
    "logreg = LogisticRegression(C=26.224489795918366).fit(X_test, y_test)\n",
    "print(\n",
    "    \"Logreg best test score: \",\n",
    "    logreg.score(X_test, y_test)\n",
    ")\n",
    "importance = logreg.coef_[0]\n",
    "print(len(importance))\n",
    "print(\"ingored: \", (importance == 0).sum())\n",
    "\n",
    "\n",
    "fig, ax = plt.subplots()\n",
    "fig.set_figheight(4)\n",
    "fig.set_figwidth(4)\n",
    "plt.bar([x for x in range(len(importance))], importance)\n",
    "plt.xlabel('Feature')\n",
    "plt.ylabel('Importance')\n",
    "plt.show()"
   ],
   "metadata": {
    "collapsed": false,
    "pycharm": {
     "name": "#%%\n"
    }
   }
  },
  {
   "cell_type": "markdown",
   "source": [],
   "metadata": {
    "collapsed": false
   }
  },
  {
   "cell_type": "markdown",
   "source": [
    "## 5-fold cv for linearSVC"
   ],
   "metadata": {
    "collapsed": false,
    "pycharm": {
     "name": "#%% md\n"
    }
   }
  },
  {
   "cell_type": "code",
   "execution_count": null,
   "outputs": [],
   "source": [
    "np.random.seed(42)\n",
    "\n",
    "lsvc = LinearSVC().fit(X_train, y_train)\n",
    "print(\"Linear SVC Training score: {:.8f}\".format(lsvc.score(X_train, y_train)))\n",
    "print(\"Linear SVC Testing score: {:.8f}\".format(lsvc.score(X_test, y_test)))\n",
    "\n",
    "\n",
    "def lsvc_explore_and_graph(c_vals):\n",
    "    hyperparameters = dict(C=c_vals)\n",
    "    clf = GridSearchCV(lsvc, hyperparameters, cv=5)\n",
    "    clf.fit(X_train, y_train)\n",
    "    cv_scores = clf.cv_results_['mean_test_score']\n",
    "    cv_standard_deviations = clf.cv_results_['std_test_score']\n",
    "    optimal_c_val = clf.best_params_['C']\n",
    "\n",
    "    print(\"Best C: \", optimal_c_val)\n",
    "    print(\"Train score: \", LinearSVC(C=optimal_c_val).fit(X_train, y_train).score(X_train, y_train))\n",
    "\n",
    "    fig, ax = plt.subplots()\n",
    "    fig.set_figheight(4)\n",
    "    fig.set_figwidth(4)\n",
    "    plt.plot(c_vals, cv_scores)\n",
    "    plt.xlabel('C Value')\n",
    "    plt.ylabel('Cross-Validated Accuracy')\n",
    "    plt.show()\n",
    "\n",
    "    fig, ax = plt.subplots()\n",
    "    fig.set_figheight(4)\n",
    "    fig.set_figwidth(4)\n",
    "    plt.plot(c_vals, cv_standard_deviations)\n",
    "    plt.xlabel('C Value')\n",
    "    plt.ylabel('Cross-Validated Standard Deviation')\n",
    "    plt.show()"
   ],
   "metadata": {
    "collapsed": false,
    "pycharm": {
     "name": "#%%\n"
    }
   }
  },
  {
   "cell_type": "markdown",
   "source": [],
   "metadata": {
    "collapsed": false,
    "pycharm": {
     "name": "#%% md\n"
    }
   }
  },
  {
   "cell_type": "code",
   "execution_count": null,
   "outputs": [],
   "source": [
    "lsvc_explore_and_graph(np.logspace(0, 4, 20))"
   ],
   "metadata": {
    "collapsed": false,
    "pycharm": {
     "name": "#%%\n"
    }
   }
  },
  {
   "cell_type": "markdown",
   "source": [
    "### LSVC Validate logspace 2"
   ],
   "metadata": {
    "collapsed": false,
    "pycharm": {
     "name": "#%% md\n"
    }
   }
  },
  {
   "cell_type": "code",
   "execution_count": null,
   "outputs": [],
   "source": [
    "lsvc_explore_and_graph(np.logspace(-4, 1, 20))"
   ],
   "metadata": {
    "collapsed": false,
    "pycharm": {
     "name": "#%%\n"
    }
   }
  },
  {
   "cell_type": "markdown",
   "source": [
    "### LSVC Validate linspace 1"
   ],
   "metadata": {
    "collapsed": false,
    "pycharm": {
     "name": "#%% md\n"
    }
   }
  },
  {
   "cell_type": "code",
   "execution_count": null,
   "outputs": [],
   "source": [
    "lsvc_explore_and_graph(np.linspace(0, 1, 50))"
   ],
   "metadata": {
    "collapsed": false,
    "pycharm": {
     "name": "#%%\n"
    }
   }
  },
  {
   "cell_type": "markdown",
   "source": [
    "### LSVC Validate linspace 2"
   ],
   "metadata": {
    "collapsed": false,
    "pycharm": {
     "name": "#%% md\n"
    }
   }
  },
  {
   "cell_type": "code",
   "execution_count": null,
   "outputs": [],
   "source": [
    "lsvc_explore_and_graph(np.linspace(0.01, 0.03, 50))"
   ],
   "metadata": {
    "collapsed": false,
    "pycharm": {
     "name": "#%%\n"
    }
   }
  },
  {
   "cell_type": "markdown",
   "source": [
    "### LSVC Test"
   ],
   "metadata": {
    "collapsed": false,
    "pycharm": {
     "name": "#%% md\n"
    }
   }
  },
  {
   "cell_type": "code",
   "execution_count": null,
   "outputs": [],
   "source": [],
   "metadata": {
    "collapsed": false,
    "pycharm": {
     "name": "#%%\n"
    }
   }
  },
  {
   "cell_type": "code",
   "execution_count": null,
   "outputs": [],
   "source": [
    "np.random.seed(42)\n",
    "\n",
    "print(\n",
    "    \"LSVC best training score: \",\n",
    "    LinearSVC(C=0.010816326530612244)\n",
    "        .fit(X_train, y_train)\n",
    "        .score(X_train, y_train)\n",
    ")\n",
    "lsvc = LinearSVC(C=0.010816326530612244).fit(X_test, y_test)\n",
    "print(\n",
    "    \"LSVC best test score: \",\n",
    "    lsvc.score(X_test, y_test)\n",
    ")\n",
    "features = lsvc.coef_[0]\n",
    "print((features == 0).sum())\n",
    "print(features)"
   ],
   "metadata": {
    "collapsed": false,
    "pycharm": {
     "name": "#%%\n"
    }
   }
  },
  {
   "cell_type": "code",
   "execution_count": null,
   "outputs": [],
   "source": [],
   "metadata": {
    "collapsed": false,
    "pycharm": {
     "name": "#%%\n"
    }
   }
  }
 ],
 "metadata": {
  "kernelspec": {
   "display_name": "Python 3",
   "language": "python",
   "name": "python3"
  },
  "language_info": {
   "codemirror_mode": {
    "name": "ipython",
    "version": 2
   },
   "file_extension": ".py",
   "mimetype": "text/x-python",
   "name": "python",
   "nbconvert_exporter": "python",
   "pygments_lexer": "ipython2",
   "version": "2.7.6"
  }
 },
 "nbformat": 4,
 "nbformat_minor": 0
}
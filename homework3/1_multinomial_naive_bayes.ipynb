{
 "cells": [
  {
   "cell_type": "code",
   "execution_count": 56,
   "metadata": {
    "collapsed": true
   },
   "outputs": [
    {
     "name": "stdout",
     "output_type": "stream",
     "text": [
      "Requirement already satisfied: numpy in ./venv/lib/python3.9/site-packages (1.22.1)\r\n",
      "Requirement already satisfied: scipy in ./venv/lib/python3.9/site-packages (1.7.3)\r\n",
      "Requirement already satisfied: scikit-learn in ./venv/lib/python3.9/site-packages (1.0.2)\r\n",
      "Requirement already satisfied: matplotlib in ./venv/lib/python3.9/site-packages (3.5.1)\r\n",
      "Requirement already satisfied: pandas in ./venv/lib/python3.9/site-packages (1.4.0)\r\n",
      "Requirement already satisfied: threadpoolctl>=2.0.0 in ./venv/lib/python3.9/site-packages (from scikit-learn) (3.0.0)\r\n",
      "Requirement already satisfied: joblib>=0.11 in ./venv/lib/python3.9/site-packages (from scikit-learn) (1.1.0)\r\n",
      "Requirement already satisfied: pyparsing>=2.2.1 in ./venv/lib/python3.9/site-packages (from matplotlib) (3.0.7)\r\n",
      "Requirement already satisfied: kiwisolver>=1.0.1 in ./venv/lib/python3.9/site-packages (from matplotlib) (1.3.2)\r\n",
      "Requirement already satisfied: fonttools>=4.22.0 in ./venv/lib/python3.9/site-packages (from matplotlib) (4.29.0)\r\n",
      "Requirement already satisfied: cycler>=0.10 in ./venv/lib/python3.9/site-packages (from matplotlib) (0.11.0)\r\n",
      "Requirement already satisfied: pillow>=6.2.0 in ./venv/lib/python3.9/site-packages (from matplotlib) (9.0.0)\r\n",
      "Requirement already satisfied: python-dateutil>=2.7 in ./venv/lib/python3.9/site-packages (from matplotlib) (2.8.2)\r\n",
      "Requirement already satisfied: packaging>=20.0 in ./venv/lib/python3.9/site-packages (from matplotlib) (21.3)\r\n",
      "Requirement already satisfied: pytz>=2020.1 in ./venv/lib/python3.9/site-packages (from pandas) (2021.3)\r\n",
      "Requirement already satisfied: six>=1.5 in ./venv/lib/python3.9/site-packages (from python-dateutil>=2.7->matplotlib) (1.16.0)\r\n",
      "\u001B[33mWARNING: You are using pip version 21.3.1; however, version 22.0.3 is available.\r\n",
      "You should consider upgrading via the '/Users/engineer/workspace/cse590-machine-learning/venv/bin/python -m pip install --upgrade pip' command.\u001B[0m\r\n"
     ]
    }
   ],
   "source": [
    "import mglearn as mglearn\n",
    "import np as np\n",
    "import pandas as pd\n",
    "import numpy as np\n",
    "import matplotlib.pyplot as plt\n",
    "import math\n",
    "\n",
    "from sklearn.neighbors import NearestNeighbors\n",
    "from sklearn.model_selection import cross_val_score\n",
    "\n",
    "!pip install numpy scipy scikit-learn matplotlib pandas\n",
    "from sklearn.model_selection import GridSearchCV\n",
    "from sklearn.ensemble import GradientBoostingClassifier, RandomForestClassifier\n",
    "from sklearn import metrics\n"
   ]
  },
  {
   "cell_type": "markdown",
   "source": [
    "class example"
   ],
   "metadata": {
    "collapsed": false,
    "pycharm": {
     "name": "#%% md\n"
    }
   }
  },
  {
   "cell_type": "code",
   "execution_count": 4,
   "outputs": [],
   "source": [
    "from sklearn import datasets\n",
    "from sklearn.naive_bayes import MultinomialNB\n",
    "\n",
    "X_train = pd.read_csv(\"./IMDB dataset/X_train.csv\").values\n",
    "y_train = pd.read_csv(\"./IMDB dataset/y_train.csv\").values.ravel()\n",
    "X_test = pd.read_csv(\"./IMDB dataset/X_test.csv\").values\n",
    "y_test = pd.read_csv(\"./IMDB dataset/y_test.csv\").values.ravel()"
   ],
   "metadata": {
    "collapsed": false,
    "pycharm": {
     "name": "#%%\n"
    }
   }
  },
  {
   "cell_type": "markdown",
   "source": [
    "# Multinomial Naive Bayes (MNB)"
   ],
   "metadata": {
    "collapsed": false,
    "pycharm": {
     "name": "#%% md\n"
    }
   }
  },
  {
   "cell_type": "code",
   "execution_count": 5,
   "outputs": [
    {
     "data": {
      "text/plain": "0.8322732909316373"
     },
     "execution_count": 5,
     "metadata": {},
     "output_type": "execute_result"
    }
   ],
   "source": [
    "\n",
    "mnb_classifier = MultinomialNB()\n",
    "mnb_classifier.fit(X_train, y_train)\n",
    "y_predictions = mnb_classifier.predict(X_test)\n",
    "metrics.accuracy_score(y_test, y_predictions)"
   ],
   "metadata": {
    "collapsed": false,
    "pycharm": {
     "name": "#%%\n"
    }
   }
  },
  {
   "cell_type": "markdown",
   "source": [
    "### mnb methods"
   ],
   "metadata": {
    "collapsed": false
   }
  },
  {
   "cell_type": "code",
   "execution_count": 48,
   "outputs": [],
   "source": [
    "def grid_search_MNB(alphas):\n",
    "    parameters = {'alpha': alphas}\n",
    "    classifier = MultinomialNB()\n",
    "    grid_search = GridSearchCV(\n",
    "        classifier,\n",
    "        parameters,\n",
    "        cv=4,\n",
    "        return_train_score=True\n",
    "    )\n",
    "    grid_search.fit(X_train, y_train)\n",
    "    print(\"Best alpha: \", grid_search.best_params_['alpha'])\n",
    "    predictions = grid_search.predict(X_test)\n",
    "    print(\"Accuracy: \", metrics.accuracy_score(y_test, predictions))\n",
    "    return grid_search\n",
    "\n",
    "\n",
    "def graph_grid_search(grid_search):\n",
    "    plt.title(\"MNB\")\n",
    "    plt.xlabel(\"Alpha\")\n",
    "    plt.ylabel(\"Accuracy (0 - 1)\")\n",
    "\n",
    "    # scores = [entry[1] for entry in grid_search.cv_results_['mean_test_score']]\n",
    "    train_scores = grid_search.cv_results_[\"mean_train_score\"]\n",
    "    test_scores = grid_search.cv_results_[\"mean_test_score\"]\n",
    "    print(test_scores)\n",
    "    # scores = np.array(scores).reshape(len(alphas), 1)\n",
    "    plt.plot(alphas, train_scores, 'b')\n",
    "    plt.plot(alphas, test_scores, 'r')\n",
    "    # for index, value in enumerate(alphas):\n",
    "    #     plt.plot(alphas[index], scores[index])\n",
    "    plt.legend()\n",
    "    # fig = plt.figure()\n",
    "    plt.show()"
   ],
   "metadata": {
    "collapsed": false,
    "pycharm": {
     "name": "#%%\n"
    }
   }
  },
  {
   "cell_type": "markdown",
   "source": [
    "## MNB parameter optimization\n",
    "### MNB log 1 to 10000"
   ],
   "metadata": {
    "collapsed": false
   }
  },
  {
   "cell_type": "code",
   "execution_count": 49,
   "outputs": [
    {
     "name": "stderr",
     "output_type": "stream",
     "text": [
      "No artists with labels found to put in legend.  Note that artists whose label start with an underscore are ignored when legend() is called with no argument.\n"
     ]
    },
    {
     "name": "stdout",
     "output_type": "stream",
     "text": [
      "Best alpha:  0.3593813663804626\n",
      "Accuracy:  0.8323132925317013\n",
      "CPU times: user 41 s, sys: 8.9 s, total: 49.9 s\n",
      "Wall time: 7.07 s\n",
      "[0.83231351 0.83231351 0.83231351 0.83231351 0.83231351 0.83231351\n",
      " 0.83231351 0.83231351 0.83243351 0.83239351]\n"
     ]
    },
    {
     "data": {
      "text/plain": "<Figure size 432x288 with 1 Axes>",
      "image/png": "[encoded data removed]"
     },
     "metadata": {
      "needs_background": "light"
     },
     "output_type": "display_data"
    }
   ],
   "source": [
    "alphas = np.logspace(-4, 0, 10)\n",
    "\n",
    "grid_search = % time grid_search_MNB(alphas)\n",
    "graph_grid_search(grid_search)"
   ],
   "metadata": {
    "collapsed": false,
    "pycharm": {
     "name": "#%%\n"
    }
   }
  },
  {
   "cell_type": "markdown",
   "source": [
    "### MNB log 0.1 to 100"
   ],
   "metadata": {
    "collapsed": false,
    "pycharm": {
     "name": "#%% md\n"
    }
   }
  },
  {
   "cell_type": "code",
   "execution_count": 44,
   "outputs": [
    {
     "name": "stderr",
     "output_type": "stream",
     "text": [
      "/Users/engineer/workspace/cse590-machine-learning/venv/lib/python3.9/site-packages/sklearn/naive_bayes.py:555: UserWarning: alpha too small will result in numeric errors, setting alpha = 1.0e-10\n",
      "  warnings.warn(\n",
      "/Users/engineer/workspace/cse590-machine-learning/venv/lib/python3.9/site-packages/sklearn/naive_bayes.py:555: UserWarning: alpha too small will result in numeric errors, setting alpha = 1.0e-10\n",
      "  warnings.warn(\n",
      "/Users/engineer/workspace/cse590-machine-learning/venv/lib/python3.9/site-packages/sklearn/naive_bayes.py:555: UserWarning: alpha too small will result in numeric errors, setting alpha = 1.0e-10\n",
      "  warnings.warn(\n",
      "/Users/engineer/workspace/cse590-machine-learning/venv/lib/python3.9/site-packages/sklearn/naive_bayes.py:555: UserWarning: alpha too small will result in numeric errors, setting alpha = 1.0e-10\n",
      "  warnings.warn(\n",
      "No artists with labels found to put in legend.  Note that artists whose label start with an underscore are ignored when legend() is called with no argument.\n"
     ]
    },
    {
     "name": "stdout",
     "output_type": "stream",
     "text": [
      "Best alpha:  0.3469387755102041\n",
      "Accuracy:  0.8323132925317013\n",
      "CPU times: user 3min 27s, sys: 48.3 s, total: 4min 15s\n",
      "Wall time: 36.4 s\n",
      "[0.83231351 0.83231351 0.83231351 0.83231351 0.83231351 0.83231351\n",
      " 0.83231351 0.83231351 0.83235351 0.83235351 0.83235351 0.83235351\n",
      " 0.83235351 0.83235351 0.83235351 0.83235351 0.83239351 0.83243351\n",
      " 0.83243351 0.83239351 0.83239351 0.83239351 0.83239351 0.83239351\n",
      " 0.83239351 0.83239351 0.83239351 0.83239351 0.83239351 0.83239351\n",
      " 0.83239351 0.83239351 0.83239351 0.83239351 0.83239351 0.83239351\n",
      " 0.83239351 0.83239351 0.83239351 0.83239351 0.83239351 0.83239351\n",
      " 0.83239351 0.83239351 0.83239351 0.83239351 0.83239351 0.83239351\n",
      " 0.83239351 0.83239351]\n"
     ]
    },
    {
     "data": {
      "text/plain": "<Figure size 432x288 with 1 Axes>",
      "image/png": "[encoded data removed]"
     },
     "metadata": {
      "needs_background": "light"
     },
     "output_type": "display_data"
    }
   ],
   "source": [
    "alphas = np.linspace(0, 1, 50)\n",
    "\n",
    "grid_search = % time grid_search_MNB(alphas)\n",
    "graph_grid_search(grid_search)"
   ],
   "metadata": {
    "collapsed": false,
    "pycharm": {
     "name": "#%%\n"
    }
   }
  },
  {
   "cell_type": "markdown",
   "source": [],
   "metadata": {
    "collapsed": false,
    "pycharm": {
     "name": "#%% md\n"
    }
   }
  },
  {
   "cell_type": "code",
   "execution_count": 73,
   "outputs": [
    {
     "name": "stdout",
     "output_type": "stream",
     "text": [
      "Best alpha:  20.122448979591837\n",
      "Accuracy:  0.8320332813312532\n",
      "CPU times: user 1min 53s, sys: 1min 3s, total: 2min 57s\n",
      "Wall time: 30.8 s\n"
     ]
    }
   ],
   "source": [
    "alphas = np.linspace(20, 22, 50)\n",
    "\n",
    "% time grid_search_MNB(alphas)"
   ],
   "metadata": {
    "collapsed": false,
    "pycharm": {
     "name": "#%%\n"
    }
   }
  },
  {
   "cell_type": "code",
   "execution_count": 47,
   "outputs": [
    {
     "name": "stderr",
     "output_type": "stream",
     "text": [
      "/Users/engineer/workspace/cse590-machine-learning/venv/lib/python3.9/site-packages/sklearn/utils/deprecation.py:103: FutureWarning: Attribute `coef_` was deprecated in version 0.24 and will be removed in 1.1 (renaming of 0.26).\n",
      "  warnings.warn(msg, category=FutureWarning)\n"
     ]
    },
    {
     "name": "stdout",
     "output_type": "stream",
     "text": [
      "1000\n",
      "ingored:  0\n"
     ]
    },
    {
     "data": {
      "text/plain": "<Figure size 288x288 with 1 Axes>",
      "image/png": "[encoded data removed]"
     },
     "metadata": {
      "needs_background": "light"
     },
     "output_type": "display_data"
    },
    {
     "data": {
      "text/plain": "1.0000000000000013"
     },
     "execution_count": 47,
     "metadata": {},
     "output_type": "execute_result"
    }
   ],
   "source": [
    "\n",
    "mnb_classifier = MultinomialNB(alpha=0.336734693877551)\n",
    "mnb_classifier.fit(X_train, y_train)\n",
    "importance = mnb_classifier.coef_[0]\n",
    "print(len(importance))\n",
    "print(\"ingored: \", (importance == 0).sum())\n",
    "\n",
    "fig, ax = plt.subplots()\n",
    "fig.set_figheight(4)\n",
    "fig.set_figwidth(4)\n",
    "plt.bar([x for x in range(len(importance))], importance)\n",
    "plt.xlabel('Feature')\n",
    "plt.ylabel('Importance')\n",
    "plt.show()\n",
    "sum([np.exp(1) ** x for x in mnb_classifier.coef_[0]])"
   ],
   "metadata": {
    "collapsed": false,
    "pycharm": {
     "name": "#%%\n"
    }
   }
  },
  {
   "cell_type": "code",
   "execution_count": 90,
   "outputs": [
    {
     "name": "stdout",
     "output_type": "stream",
     "text": [
      "0.8323132925317013\n",
      "24999\n",
      "4192\n",
      "1.0\n",
      "['Misclassified Test idx', 'True Class', 'Pred Class', 'Neigbor#1_idx', 'Neigbor#1_True Class', 'Neigbor#1_Distance', 'Neigbor#2_idx', 'Neigbor#2_True Class', 'Neigbor#2_Distance', 'Neigbor#3_idx', 'Neigbor#3_True Class', 'Neigbor#3_Distance']\n"
     ]
    },
    {
     "data": {
      "text/plain": "      Misclassified Test idx  True Class  Pred Class  Neigbor#1_idx  \\\n0                          3         1.0         0.0          10769   \n1                          4         1.0         0.0          22376   \n2                          7         0.0         1.0            418   \n3                         16         0.0         1.0            922   \n4                         24         1.0         0.0          14985   \n...                      ...         ...         ...            ...   \n4187                   24979         1.0         0.0            418   \n4188                   24984         1.0         0.0          10769   \n4189                   24987         1.0         0.0          22526   \n4190                   24992         0.0         1.0          13878   \n4191                   24998         0.0         1.0          17038   \n\n      Neigbor#1_True Class  Neigbor#1_Distance  Neigbor#2_idx  \\\n0                      1.0                7.14          14151   \n1                      1.0                7.28          18830   \n2                      1.0                7.28          24990   \n3                      1.0                8.43           6225   \n4                      0.0               10.20           2536   \n...                    ...                 ...            ...   \n4187                   1.0                8.00          17909   \n4188                   1.0                6.08          13509   \n4189                   0.0                8.60           5663   \n4190                   0.0                5.00           4695   \n4191                   0.0                8.19           4183   \n\n      Neigbor#2_True Class  Neigbor#2_Distance  Neigbor#3_idx  \\\n0                      1.0                7.21          15028   \n1                      0.0                7.35          22542   \n2                      1.0                7.35           4695   \n3                      1.0                8.43          23019   \n4                      0.0               10.30           8644   \n...                    ...                 ...            ...   \n4187                   1.0                8.06           9761   \n4188                   1.0                6.40           2176   \n4189                   1.0                8.66          18830   \n4190                   0.0                5.20          14169   \n4191                   0.0                8.31          11644   \n\n      Neigbor#3_True Class  Neigbor#3_Distance  \n0                      0.0                7.28  \n1                      0.0                7.35  \n2                      0.0                7.42  \n3                      0.0                8.43  \n4                      1.0               10.30  \n...                    ...                 ...  \n4187                   0.0                8.12  \n4188                   1.0                6.48  \n4189                   0.0                8.66  \n4190                   1.0                5.29  \n4191                   1.0                8.31  \n\n[4192 rows x 12 columns]",
      "text/html": "<div>\n<style scoped>\n    .dataframe tbody tr th:only-of-type {\n        vertical-align: middle;\n    }\n\n    .dataframe tbody tr th {\n        vertical-align: top;\n    }\n\n    .dataframe thead th {\n        text-align: right;\n    }\n</style>\n<table border=\"1\" class=\"dataframe\">\n  <thead>\n    <tr style=\"text-align: right;\">\n      <th></th>\n      <th>Misclassified Test idx</th>\n      <th>True Class</th>\n      <th>Pred Class</th>\n      <th>Neigbor#1_idx</th>\n      <th>Neigbor#1_True Class</th>\n      <th>Neigbor#1_Distance</th>\n      <th>Neigbor#2_idx</th>\n      <th>Neigbor#2_True Class</th>\n      <th>Neigbor#2_Distance</th>\n      <th>Neigbor#3_idx</th>\n      <th>Neigbor#3_True Class</th>\n      <th>Neigbor#3_Distance</th>\n    </tr>\n  </thead>\n  <tbody>\n    <tr>\n      <th>0</th>\n      <td>3</td>\n      <td>1.0</td>\n      <td>0.0</td>\n      <td>10769</td>\n      <td>1.0</td>\n      <td>7.14</td>\n      <td>14151</td>\n      <td>1.0</td>\n      <td>7.21</td>\n      <td>15028</td>\n      <td>0.0</td>\n      <td>7.28</td>\n    </tr>\n    <tr>\n      <th>1</th>\n      <td>4</td>\n      <td>1.0</td>\n      <td>0.0</td>\n      <td>22376</td>\n      <td>1.0</td>\n      <td>7.28</td>\n      <td>18830</td>\n      <td>0.0</td>\n      <td>7.35</td>\n      <td>22542</td>\n      <td>0.0</td>\n      <td>7.35</td>\n    </tr>\n    <tr>\n      <th>2</th>\n      <td>7</td>\n      <td>0.0</td>\n      <td>1.0</td>\n      <td>418</td>\n      <td>1.0</td>\n      <td>7.28</td>\n      <td>24990</td>\n      <td>1.0</td>\n      <td>7.35</td>\n      <td>4695</td>\n      <td>0.0</td>\n      <td>7.42</td>\n    </tr>\n    <tr>\n      <th>3</th>\n      <td>16</td>\n      <td>0.0</td>\n      <td>1.0</td>\n      <td>922</td>\n      <td>1.0</td>\n      <td>8.43</td>\n      <td>6225</td>\n      <td>1.0</td>\n      <td>8.43</td>\n      <td>23019</td>\n      <td>0.0</td>\n      <td>8.43</td>\n    </tr>\n    <tr>\n      <th>4</th>\n      <td>24</td>\n      <td>1.0</td>\n      <td>0.0</td>\n      <td>14985</td>\n      <td>0.0</td>\n      <td>10.20</td>\n      <td>2536</td>\n      <td>0.0</td>\n      <td>10.30</td>\n      <td>8644</td>\n      <td>1.0</td>\n      <td>10.30</td>\n    </tr>\n    <tr>\n      <th>...</th>\n      <td>...</td>\n      <td>...</td>\n      <td>...</td>\n      <td>...</td>\n      <td>...</td>\n      <td>...</td>\n      <td>...</td>\n      <td>...</td>\n      <td>...</td>\n      <td>...</td>\n      <td>...</td>\n      <td>...</td>\n    </tr>\n    <tr>\n      <th>4187</th>\n      <td>24979</td>\n      <td>1.0</td>\n      <td>0.0</td>\n      <td>418</td>\n      <td>1.0</td>\n      <td>8.00</td>\n      <td>17909</td>\n      <td>1.0</td>\n      <td>8.06</td>\n      <td>9761</td>\n      <td>0.0</td>\n      <td>8.12</td>\n    </tr>\n    <tr>\n      <th>4188</th>\n      <td>24984</td>\n      <td>1.0</td>\n      <td>0.0</td>\n      <td>10769</td>\n      <td>1.0</td>\n      <td>6.08</td>\n      <td>13509</td>\n      <td>1.0</td>\n      <td>6.40</td>\n      <td>2176</td>\n      <td>1.0</td>\n      <td>6.48</td>\n    </tr>\n    <tr>\n      <th>4189</th>\n      <td>24987</td>\n      <td>1.0</td>\n      <td>0.0</td>\n      <td>22526</td>\n      <td>0.0</td>\n      <td>8.60</td>\n      <td>5663</td>\n      <td>1.0</td>\n      <td>8.66</td>\n      <td>18830</td>\n      <td>0.0</td>\n      <td>8.66</td>\n    </tr>\n    <tr>\n      <th>4190</th>\n      <td>24992</td>\n      <td>0.0</td>\n      <td>1.0</td>\n      <td>13878</td>\n      <td>0.0</td>\n      <td>5.00</td>\n      <td>4695</td>\n      <td>0.0</td>\n      <td>5.20</td>\n      <td>14169</td>\n      <td>1.0</td>\n      <td>5.29</td>\n    </tr>\n    <tr>\n      <th>4191</th>\n      <td>24998</td>\n      <td>0.0</td>\n      <td>1.0</td>\n      <td>17038</td>\n      <td>0.0</td>\n      <td>8.19</td>\n      <td>4183</td>\n      <td>0.0</td>\n      <td>8.31</td>\n      <td>11644</td>\n      <td>1.0</td>\n      <td>8.31</td>\n    </tr>\n  </tbody>\n</table>\n<p>4192 rows × 12 columns</p>\n</div>"
     },
     "execution_count": 90,
     "metadata": {},
     "output_type": "execute_result"
    }
   ],
   "source": [
    "\n",
    "mnb_classifier = MultinomialNB(alpha=0.3469387755102041)\n",
    "mnb_classifier.fit(X_train, y_train)\n",
    "\n",
    "y_predictions = mnb_classifier.predict(X_test)\n",
    "print(metrics.accuracy_score(y_test, y_predictions))\n",
    "\n",
    "# y_predictions = mnb_classifier.predict(X_train)\n",
    "# print(metrics.accuracy_score(y_train, y_predictions))\n",
    "\n",
    "misclassified_indices = np.where((y_predictions != y_test))[0]\n",
    "print(len(y_test))\n",
    "print(len(misclassified_indices))\n",
    "\n",
    "k = 3\n",
    "nn = NearestNeighbors(n_neighbors=k)\n",
    "nn.fit(X_train)\n",
    "distances, indices = nn.kneighbors(X_test[misclassified_indices])\n",
    "\n",
    "print(y_test[misclassified_indices[0]])\n",
    "columns = [\"Misclassified Test idx\", \"True Class\", \"Pred Class\"]\n",
    "for i in range(3):\n",
    "    columns += [\"Neigbor#{}_idx\".format(i + 1), \"Neigbor#{}_True Class\".format(i + 1),\n",
    "        \"Neigbor#{}_Distance\".format(i + 1)]\n",
    "\n",
    "print(columns)\n",
    "df = pd.DataFrame(columns=columns)\n",
    "\n",
    "df[\"Misclassified Test idx\"] = misclassified_indices\n",
    "df[\"True Class\"] = y_test[misclassified_indices]\n",
    "df[\"Pred Class\"] = y_predictions[misclassified_indices]\n",
    "for i in range(3):\n",
    "    df[\"Neigbor#{}_idx\".format(i + 1)] = indices[:, i]\n",
    "    df[\"Neigbor#{}_True Class\".format(i + 1)] = y_train[indices[:, i]]\n",
    "    df[\"Neigbor#{}_Distance\".format(i + 1)] = np.around(distances[:, i], decimals=2)\n",
    "\n",
    "df"
   ],
   "metadata": {
    "collapsed": false,
    "pycharm": {
     "name": "#%%\n"
    }
   }
  },
  {
   "cell_type": "code",
   "execution_count": null,
   "outputs": [],
   "source": [],
   "metadata": {
    "collapsed": false,
    "pycharm": {
     "name": "#%%\n"
    }
   }
  }
 ],
 "metadata": {
  "kernelspec": {
   "display_name": "Python 3",
   "language": "python",
   "name": "python3"
  },
  "language_info": {
   "codemirror_mode": {
    "name": "ipython",
    "version": 2
   },
   "file_extension": ".py",
   "mimetype": "text/x-python",
   "name": "python",
   "nbconvert_exporter": "python",
   "pygments_lexer": "ipython2",
   "version": "2.7.6"
  }
 },
 "nbformat": 4,
 "nbformat_minor": 0
}
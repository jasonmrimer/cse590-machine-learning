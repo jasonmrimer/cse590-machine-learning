{
 "cells": [
  {
   "cell_type": "code",
   "execution_count": 1,
   "metadata": {
    "collapsed": true
   },
   "outputs": [
    {
     "name": "stdout",
     "output_type": "stream",
     "text": [
      "Requirement already satisfied: numpy in /Users/engineer/workspace/cse590-machine-learning/venv/lib/python3.9/site-packages (1.22.1)\r\n",
      "Requirement already satisfied: scipy in /Users/engineer/workspace/cse590-machine-learning/venv/lib/python3.9/site-packages (1.7.3)\r\n",
      "Requirement already satisfied: scikit-learn in /Users/engineer/workspace/cse590-machine-learning/venv/lib/python3.9/site-packages (1.0.2)\r\n",
      "Requirement already satisfied: matplotlib in /Users/engineer/workspace/cse590-machine-learning/venv/lib/python3.9/site-packages (3.5.1)\r\n",
      "Requirement already satisfied: pandas in /Users/engineer/workspace/cse590-machine-learning/venv/lib/python3.9/site-packages (1.4.0)\r\n",
      "Requirement already satisfied: threadpoolctl>=2.0.0 in /Users/engineer/workspace/cse590-machine-learning/venv/lib/python3.9/site-packages (from scikit-learn) (3.0.0)\r\n",
      "Requirement already satisfied: joblib>=0.11 in /Users/engineer/workspace/cse590-machine-learning/venv/lib/python3.9/site-packages (from scikit-learn) (1.1.0)\r\n",
      "Requirement already satisfied: fonttools>=4.22.0 in /Users/engineer/workspace/cse590-machine-learning/venv/lib/python3.9/site-packages (from matplotlib) (4.29.0)\r\n",
      "Requirement already satisfied: packaging>=20.0 in /Users/engineer/workspace/cse590-machine-learning/venv/lib/python3.9/site-packages (from matplotlib) (21.3)\r\n",
      "Requirement already satisfied: python-dateutil>=2.7 in /Users/engineer/workspace/cse590-machine-learning/venv/lib/python3.9/site-packages (from matplotlib) (2.8.2)\r\n",
      "Requirement already satisfied: pyparsing>=2.2.1 in /Users/engineer/workspace/cse590-machine-learning/venv/lib/python3.9/site-packages (from matplotlib) (3.0.7)\r\n",
      "Requirement already satisfied: pillow>=6.2.0 in /Users/engineer/workspace/cse590-machine-learning/venv/lib/python3.9/site-packages (from matplotlib) (9.0.0)\r\n",
      "Requirement already satisfied: cycler>=0.10 in /Users/engineer/workspace/cse590-machine-learning/venv/lib/python3.9/site-packages (from matplotlib) (0.11.0)\r\n",
      "Requirement already satisfied: kiwisolver>=1.0.1 in /Users/engineer/workspace/cse590-machine-learning/venv/lib/python3.9/site-packages (from matplotlib) (1.3.2)\r\n",
      "Requirement already satisfied: pytz>=2020.1 in /Users/engineer/workspace/cse590-machine-learning/venv/lib/python3.9/site-packages (from pandas) (2021.3)\r\n",
      "Requirement already satisfied: six>=1.5 in /Users/engineer/workspace/cse590-machine-learning/venv/lib/python3.9/site-packages (from python-dateutil>=2.7->matplotlib) (1.16.0)\r\n",
      "\u001B[33mWARNING: You are using pip version 21.3.1; however, version 22.0.3 is available.\r\n",
      "You should consider upgrading via the '/Users/engineer/workspace/cse590-machine-learning/venv/bin/python -m pip install --upgrade pip' command.\u001B[0m\r\n"
     ]
    }
   ],
   "source": [
    "import heapq\n",
    "\n",
    "import mglearn as mglearn\n",
    "import np as np\n",
    "import pandas as pd\n",
    "import numpy as np\n",
    "import matplotlib.pyplot as plt\n",
    "import math\n",
    "\n",
    "from sklearn.neighbors import NearestNeighbors\n",
    "from sklearn.model_selection import cross_val_score\n",
    "\n",
    "!pip install numpy scipy scikit-learn matplotlib pandas\n",
    "from sklearn.model_selection import GridSearchCV\n",
    "from sklearn.ensemble import GradientBoostingClassifier, RandomForestClassifier\n",
    "from sklearn import metrics\n",
    "from sklearn import datasets\n",
    "from sklearn.naive_bayes import MultinomialNB\n"
   ]
  },
  {
   "cell_type": "markdown",
   "source": [
    "class example"
   ],
   "metadata": {
    "collapsed": false,
    "pycharm": {
     "name": "#%% md\n"
    }
   }
  },
  {
   "cell_type": "code",
   "execution_count": 2,
   "outputs": [],
   "source": [
    "X_train = pd.read_csv(\"./IMDB dataset/X_train.csv\").values\n",
    "y_train = pd.read_csv(\"./IMDB dataset/y_train.csv\").values.ravel()\n",
    "X_test = pd.read_csv(\"./IMDB dataset/X_test.csv\").values\n",
    "y_test = pd.read_csv(\"./IMDB dataset/y_test.csv\").values.ravel()"
   ],
   "metadata": {
    "collapsed": false,
    "pycharm": {
     "name": "#%%\n"
    }
   }
  },
  {
   "cell_type": "markdown",
   "source": [
    "# Multinomial Naive Bayes (MNB)"
   ],
   "metadata": {
    "collapsed": false,
    "pycharm": {
     "name": "#%% md\n"
    }
   }
  },
  {
   "cell_type": "code",
   "execution_count": 3,
   "outputs": [
    {
     "data": {
      "text/plain": "0.8322732909316373"
     },
     "execution_count": 3,
     "metadata": {},
     "output_type": "execute_result"
    }
   ],
   "source": [
    "\n",
    "mnb_classifier = MultinomialNB()\n",
    "mnb_classifier.fit(X_train, y_train)\n",
    "y_predictions = mnb_classifier.predict(X_test)\n",
    "metrics.accuracy_score(y_test, y_predictions)"
   ],
   "metadata": {
    "collapsed": false,
    "pycharm": {
     "name": "#%%\n"
    }
   }
  },
  {
   "cell_type": "markdown",
   "source": [
    "### mnb methods"
   ],
   "metadata": {
    "collapsed": false
   }
  },
  {
   "cell_type": "code",
   "execution_count": 4,
   "outputs": [],
   "source": [
    "def grid_search_MNB(alphas):\n",
    "    parameters = {'alpha': alphas}\n",
    "    classifier = MultinomialNB()\n",
    "    grid_search = GridSearchCV(\n",
    "        classifier,\n",
    "        parameters,\n",
    "        cv=4,\n",
    "        return_train_score=True\n",
    "    )\n",
    "    grid_search.fit(X_train, y_train)\n",
    "    print(\"Best alpha: \", grid_search.best_params_['alpha'])\n",
    "    predictions = grid_search.predict(X_test)\n",
    "    print(\"Accuracy: \", metrics.accuracy_score(y_test, predictions))\n",
    "    return grid_search\n",
    "\n",
    "\n",
    "def graph_grid_search(grid_search):\n",
    "    plt.title(\"MNB\")\n",
    "    plt.xlabel(\"Alpha\")\n",
    "    plt.ylabel(\"Accuracy (0 - 1)\")\n",
    "\n",
    "    # scores = [entry[1] for entry in grid_search.cv_results_['mean_test_score']]\n",
    "    train_scores = grid_search.cv_results_[\"mean_train_score\"]\n",
    "    test_scores = grid_search.cv_results_[\"mean_test_score\"]\n",
    "    print(test_scores)\n",
    "    # scores = np.array(scores).reshape(len(alphas), 1)\n",
    "    plt.plot(alphas, train_scores, 'b')\n",
    "    plt.plot(alphas, test_scores, 'r')\n",
    "    # for index, value in enumerate(alphas):\n",
    "    #     plt.plot(alphas[index], scores[index])\n",
    "    plt.legend()\n",
    "    # fig = plt.figure()\n",
    "    plt.show()"
   ],
   "metadata": {
    "collapsed": false,
    "pycharm": {
     "name": "#%%\n"
    }
   }
  },
  {
   "cell_type": "markdown",
   "source": [
    "## MNB parameter optimization\n",
    "### MNB log 1 to 10000"
   ],
   "metadata": {
    "collapsed": false
   }
  },
  {
   "cell_type": "code",
   "execution_count": 5,
   "outputs": [
    {
     "name": "stderr",
     "output_type": "stream",
     "text": [
      "UsageError: Line magic function `%` not found.\n"
     ]
    }
   ],
   "source": [
    "alphas = np.logspace(-4, 0, 10)\n",
    "\n",
    "grid_search = % time grid_search_MNB(alphas)\n",
    "graph_grid_search(grid_search)"
   ],
   "metadata": {
    "collapsed": false,
    "pycharm": {
     "name": "#%%\n"
    }
   }
  },
  {
   "cell_type": "markdown",
   "source": [
    "### MNB log 0.1 to 100"
   ],
   "metadata": {
    "collapsed": false,
    "pycharm": {
     "name": "#%% md\n"
    }
   }
  },
  {
   "cell_type": "code",
   "execution_count": null,
   "outputs": [],
   "source": [
    "alphas = np.linspace(0, 1, 50)\n",
    "\n",
    "grid_search = % time grid_search_MNB(alphas)\n",
    "graph_grid_search(grid_search)"
   ],
   "metadata": {
    "collapsed": false,
    "pycharm": {
     "name": "#%%\n"
    }
   }
  },
  {
   "cell_type": "markdown",
   "source": [],
   "metadata": {
    "collapsed": false,
    "pycharm": {
     "name": "#%% md\n"
    }
   }
  },
  {
   "cell_type": "code",
   "execution_count": null,
   "outputs": [],
   "source": [
    "alphas = np.linspace(20, 22, 50)\n",
    "\n",
    "% time grid_search_MNB(alphas)"
   ],
   "metadata": {
    "collapsed": false,
    "pycharm": {
     "name": "#%%\n"
    }
   }
  },
  {
   "cell_type": "code",
   "execution_count": null,
   "outputs": [],
   "source": [
    "\n",
    "mnb_classifier = MultinomialNB(alpha=0.336734693877551)\n",
    "mnb_classifier.fit(X_train, y_train)\n",
    "feature_importances = mnb_classifier.coef_[0]\n",
    "print(len(feature_importances))\n",
    "print(\"ingored: \", (feature_importances == 0).sum())\n",
    "\n",
    "print(\"Train score: {:3f}\".format(mnb_classifier.score(X_train, y_train)))\n",
    "print(\"Test score: {:3f}\".format(mnb_classifier.score(X_test, y_test)))"
   ],
   "metadata": {
    "collapsed": false,
    "pycharm": {
     "name": "#%%\n"
    }
   }
  },
  {
   "cell_type": "code",
   "execution_count": null,
   "outputs": [],
   "source": [
    "fig, ax = plt.subplots()\n",
    "fig.set_figheight(4)\n",
    "fig.set_figwidth(4)\n",
    "plt.bar([x for x in range(len(feature_importances))], feature_importances)\n",
    "plt.xlabel('Feature')\n",
    "plt.ylabel('Importance')\n",
    "plt.show()\n",
    "\n",
    "fig, ax = plt.subplots()\n",
    "fig.set_figheight(4)\n",
    "fig.set_figwidth(4)\n",
    "plt.bar([x for x in range(5)], feature_importances[:5])\n",
    "plt.xlabel('Feature')\n",
    "plt.ylabel('Importance')\n",
    "plt.show()"
   ],
   "metadata": {
    "collapsed": false,
    "pycharm": {
     "name": "#%%\n"
    }
   }
  },
  {
   "cell_type": "code",
   "execution_count": null,
   "outputs": [],
   "source": [
    "top_10_feature_importances = heapq.nsmallest(11, feature_importances)\n",
    "top_10_importances_indices = []\n",
    "for item in top_10_feature_importances:\n",
    "    correct_actual_item_index = np.argwhere(feature_importances == item)\n",
    "    top_10_importances_indices.append(correct_actual_item_index[0][0])\n",
    "\n",
    "top_10_importances_indices[1] = 3\n",
    "top_10_importances_indices.sort()\n",
    "print(top_10_importances_indices)"
   ],
   "metadata": {
    "collapsed": false,
    "pycharm": {
     "name": "#%%\n"
    }
   }
  },
  {
   "cell_type": "code",
   "execution_count": null,
   "outputs": [],
   "source": [
    "\n",
    "mnb_classifier = MultinomialNB(alpha=0.3469387755102041)\n",
    "mnb_classifier.fit(X_train, y_train)\n",
    "\n",
    "y_predictions = mnb_classifier.predict(X_test)\n",
    "print(metrics.accuracy_score(y_test, y_predictions))\n",
    "\n",
    "# y_predictions = mnb_classifier.predict(X_train)\n",
    "# print(metrics.accuracy_score(y_train, y_predictions))\n",
    "\n",
    "misclassified_indices = np.where((y_predictions != y_test))[0]\n",
    "print(len(y_test))\n",
    "print(len(misclassified_indices))\n",
    "\n",
    "k = 3\n",
    "nn = NearestNeighbors(n_neighbors=k)\n",
    "nn.fit(X_train)\n",
    "distances, indices = nn.kneighbors(X_test[misclassified_indices])\n",
    "\n",
    "print(y_test[misclassified_indices[0]])\n",
    "columns = [\"Misclassified Test idx\", \"True Class\", \"Pred Class\"]\n",
    "for i in range(3):\n",
    "    columns += [\"Neigbor#{}_idx\".format(i + 1), \"Neigbor#{}_True Class\".format(i + 1),\n",
    "        \"Neigbor#{}_Distance\".format(i + 1)]\n",
    "\n",
    "print(columns)\n",
    "df = pd.DataFrame(columns=columns)\n",
    "\n",
    "df[\"Misclassified Test idx\"] = misclassified_indices\n",
    "df[\"True Class\"] = y_test[misclassified_indices]\n",
    "df[\"Pred Class\"] = y_predictions[misclassified_indices]\n",
    "for i in range(3):\n",
    "    df[\"Neigbor#{}_idx\".format(i + 1)] = indices[:, i]\n",
    "    df[\"Neigbor#{}_True Class\".format(i + 1)] = y_train[indices[:, i]]\n",
    "    df[\"Neigbor#{}_Distance\".format(i + 1)] = np.around(distances[:, i], decimals=2)\n",
    "\n",
    "df"
   ],
   "metadata": {
    "collapsed": false,
    "pycharm": {
     "name": "#%%\n"
    }
   }
  },
  {
   "cell_type": "code",
   "execution_count": null,
   "outputs": [],
   "source": [
    "item_misclassed = X_test[139]\n",
    "item_neighbor = X_test[5340]\n",
    "item_misclassed_top = []\n",
    "item_neighbor_top = []\n",
    "\n",
    "top_10_importances_indices.sort()\n",
    "for i in top_10_importances_indices:\n",
    "    item_misclassed_top.append(\n",
    "        item_misclassed[i]\n",
    "    )\n",
    "\n",
    "for i in top_10_importances_indices:\n",
    "    item_neighbor_top.append(\n",
    "        item_neighbor[i]\n",
    "    )\n",
    "print(top_10_importances_indices)\n",
    "print(item_misclassed_top)\n",
    "print(item_neighbor_top)"
   ],
   "metadata": {
    "collapsed": false,
    "pycharm": {
     "name": "#%%\n"
    }
   }
  },
  {
   "cell_type": "markdown",
   "source": [
    "of the most important features, which one is the first to mismatch"
   ],
   "metadata": {
    "collapsed": false
   }
  },
  {
   "cell_type": "code",
   "execution_count": null,
   "outputs": [],
   "source": [
    "feature_indices = pd.DataFrame(range(0, 1000), columns=['feature'])\n",
    "feature_df = pd.DataFrame(feature_importances, columns=['importance'])\n",
    "sorted_features = pd.concat((feature_indices, feature_df), axis=1)\n",
    "sorted_features = sorted_features.sort_values('importance')\n",
    "print(sorted_features)\n",
    "# print(feature_df)\n",
    "# make all indices in order\n",
    "# all_importances_indices_sorted = []\n",
    "# for item in feature_df:\n",
    "#     print(item)\n",
    "#     correct_actual_item_index = np.argwhere(feature_importances == item)\n",
    "#     all_importances_indices_sorted.append(correct_actual_item_index[0])\n",
    "#\n",
    "# print(all_importances_indices_sorted)\n",
    "\n",
    "count = 0\n",
    "for feature in sorted_features.iterrows():\n",
    "    count = count + 1\n",
    "    feature_index = feature[0]\n",
    "    print(feature_index)\n",
    "    if (item_neighbor[feature_index] != item_misclassed[feature_index]):\n",
    "        break\n",
    "\n",
    "print('first difference at ranked feature: ', count)\n",
    "\n",
    "different = 0\n",
    "for i in range(0,1000):\n",
    "    if item_neighbor[i] != item_misclassed[i]:\n",
    "        different = different + 1\n",
    "\n",
    "print('total feature diff: ', different)"
   ],
   "metadata": {
    "collapsed": false,
    "pycharm": {
     "name": "#%%\n"
    }
   }
  },
  {
   "cell_type": "code",
   "execution_count": null,
   "outputs": [],
   "source": [],
   "metadata": {
    "collapsed": false,
    "pycharm": {
     "name": "#%%\n"
    }
   }
  }
 ],
 "metadata": {
  "kernelspec": {
   "display_name": "Python 3",
   "language": "python",
   "name": "python3"
  },
  "language_info": {
   "codemirror_mode": {
    "name": "ipython",
    "version": 2
   },
   "file_extension": ".py",
   "mimetype": "text/x-python",
   "name": "python",
   "nbconvert_exporter": "python",
   "pygments_lexer": "ipython2",
   "version": "2.7.6"
  }
 },
 "nbformat": 4,
 "nbformat_minor": 0
}
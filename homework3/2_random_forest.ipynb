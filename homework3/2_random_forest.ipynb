{
 "cells": [
  {
   "cell_type": "code",
   "execution_count": 38,
   "metadata": {
    "collapsed": true
   },
   "outputs": [
    {
     "name": "stdout",
     "output_type": "stream",
     "text": [
      "Requirement already satisfied: numpy in /Users/engineer/workspace/cse590-machine-learning/venv/lib/python3.9/site-packages (1.22.1)\r\n",
      "Requirement already satisfied: scipy in /Users/engineer/workspace/cse590-machine-learning/venv/lib/python3.9/site-packages (1.7.3)\r\n",
      "Requirement already satisfied: scikit-learn in /Users/engineer/workspace/cse590-machine-learning/venv/lib/python3.9/site-packages (1.0.2)\r\n",
      "Requirement already satisfied: matplotlib in /Users/engineer/workspace/cse590-machine-learning/venv/lib/python3.9/site-packages (3.5.1)\r\n",
      "Requirement already satisfied: pandas in /Users/engineer/workspace/cse590-machine-learning/venv/lib/python3.9/site-packages (1.4.0)\r\n",
      "Requirement already satisfied: joblib>=0.11 in /Users/engineer/workspace/cse590-machine-learning/venv/lib/python3.9/site-packages (from scikit-learn) (1.1.0)\r\n",
      "Requirement already satisfied: threadpoolctl>=2.0.0 in /Users/engineer/workspace/cse590-machine-learning/venv/lib/python3.9/site-packages (from scikit-learn) (3.0.0)\r\n",
      "Requirement already satisfied: python-dateutil>=2.7 in /Users/engineer/workspace/cse590-machine-learning/venv/lib/python3.9/site-packages (from matplotlib) (2.8.2)\r\n",
      "Requirement already satisfied: cycler>=0.10 in /Users/engineer/workspace/cse590-machine-learning/venv/lib/python3.9/site-packages (from matplotlib) (0.11.0)\r\n",
      "Requirement already satisfied: fonttools>=4.22.0 in /Users/engineer/workspace/cse590-machine-learning/venv/lib/python3.9/site-packages (from matplotlib) (4.29.0)\r\n",
      "Requirement already satisfied: pyparsing>=2.2.1 in /Users/engineer/workspace/cse590-machine-learning/venv/lib/python3.9/site-packages (from matplotlib) (3.0.7)\r\n",
      "Requirement already satisfied: packaging>=20.0 in /Users/engineer/workspace/cse590-machine-learning/venv/lib/python3.9/site-packages (from matplotlib) (21.3)\r\n",
      "Requirement already satisfied: kiwisolver>=1.0.1 in /Users/engineer/workspace/cse590-machine-learning/venv/lib/python3.9/site-packages (from matplotlib) (1.3.2)\r\n",
      "Requirement already satisfied: pillow>=6.2.0 in /Users/engineer/workspace/cse590-machine-learning/venv/lib/python3.9/site-packages (from matplotlib) (9.0.0)\r\n",
      "Requirement already satisfied: pytz>=2020.1 in /Users/engineer/workspace/cse590-machine-learning/venv/lib/python3.9/site-packages (from pandas) (2021.3)\r\n",
      "Requirement already satisfied: six>=1.5 in /Users/engineer/workspace/cse590-machine-learning/venv/lib/python3.9/site-packages (from python-dateutil>=2.7->matplotlib) (1.16.0)\r\n",
      "\u001B[33mWARNING: You are using pip version 21.3.1; however, version 22.0.3 is available.\r\n",
      "You should consider upgrading via the '/Users/engineer/workspace/cse590-machine-learning/venv/bin/python -m pip install --upgrade pip' command.\u001B[0m\r\n"
     ]
    }
   ],
   "source": [
    "import heapq\n",
    "\n",
    "import mglearn as mglearn\n",
    "import np as np\n",
    "import pandas as pd\n",
    "import numpy as np\n",
    "import matplotlib.pyplot as plt\n",
    "import math\n",
    "\n",
    "from sklearn.neighbors import NearestNeighbors\n",
    "from sklearn.model_selection import cross_val_score\n",
    "import heapq\n",
    "\n",
    "!pip install numpy scipy scikit-learn matplotlib pandas\n",
    "from sklearn.model_selection import GridSearchCV\n",
    "from sklearn.ensemble import GradientBoostingClassifier, RandomForestClassifier\n",
    "from sklearn import metrics\n"
   ]
  },
  {
   "cell_type": "markdown",
   "source": [
    "class example"
   ],
   "metadata": {
    "collapsed": false,
    "pycharm": {
     "name": "#%% md\n"
    }
   }
  },
  {
   "cell_type": "code",
   "execution_count": 8,
   "outputs": [],
   "source": [
    "X_train = pd.read_csv(\"./IMDB dataset/X_train.csv\").values\n",
    "y_train = pd.read_csv(\"./IMDB dataset/y_train.csv\").values.ravel()\n",
    "X_test = pd.read_csv(\"./IMDB dataset/X_test.csv\").values\n",
    "y_test = pd.read_csv(\"./IMDB dataset/y_test.csv\").values.ravel()"
   ],
   "metadata": {
    "collapsed": false,
    "pycharm": {
     "name": "#%%\n"
    }
   }
  },
  {
   "cell_type": "markdown",
   "source": [
    "# Random Forest"
   ],
   "metadata": {
    "collapsed": false
   }
  },
  {
   "cell_type": "code",
   "execution_count": 14,
   "outputs": [
    {
     "name": "stdout",
     "output_type": "stream",
     "text": [
      "CPU times: user 7.98 s, sys: 63.5 ms, total: 8.04 s\n",
      "Wall time: 8.08 s\n",
      "Accuracy on training: 1.000000\n",
      "Accuracy on test: 0.818193\n",
      "Features:  1000\n"
     ]
    },
    {
     "name": "stderr",
     "output_type": "stream",
     "text": [
      "/Users/engineer/workspace/cse590-machine-learning/venv/lib/python3.9/site-packages/sklearn/utils/deprecation.py:103: FutureWarning: Attribute `n_features_` was deprecated in version 1.0 and will be removed in 1.2. Use `n_features_in_` instead.\n",
      "  warnings.warn(msg, category=FutureWarning)\n"
     ]
    }
   ],
   "source": [
    "random_forest = RandomForestClassifier(n_estimators=60)\n",
    "% time random_forest.fit(X_train, y_train)\n",
    "print(\"Accuracy on training: {:3f}\".format(random_forest.score(X_train, y_train)))\n",
    "print(\"Accuracy on test: {:3f}\".format(random_forest.score(X_test, y_test)))\n",
    "print('Features: ', random_forest.n_features_)"
   ],
   "metadata": {
    "collapsed": false,
    "pycharm": {
     "name": "#%%\n"
    }
   }
  },
  {
   "cell_type": "code",
   "execution_count": 23,
   "outputs": [],
   "source": [
    "import sklearn_evaluation\n",
    "\n",
    "\n",
    "def grid_search_random_forest(max_features, max_depth):\n",
    "    parameters = {\n",
    "        'max_features': max_features,\n",
    "        'max_depth': max_depth,\n",
    "    }\n",
    "    classifier = RandomForestClassifier(\n",
    "        n_estimators=40,\n",
    "        random_state=2\n",
    "    )\n",
    "\n",
    "    grid_search = GridSearchCV(\n",
    "        classifier,\n",
    "        parameters,\n",
    "        cv=4,\n",
    "        return_train_score=True,\n",
    "    )\n",
    "    grid_search.fit(X_train, y_train)\n",
    "\n",
    "    print_grid_search_results(grid_search, parameters)\n",
    "\n",
    "    return grid_search\n",
    "\n",
    "\n",
    "def print_grid_search_results(grid_search, parameters):\n",
    "    for parameter in parameters:\n",
    "        print(f'Best {parameter}:', grid_search.best_params_[parameter])\n",
    "    predictions = grid_search.predict(X_test)\n",
    "    print(\"Accuracy: \", metrics.accuracy_score(y_test, predictions))\n",
    "\n",
    "\n",
    "def graph_grid_search_random_forest(grid_search):\n",
    "    plt.title(\"Random Forest\")\n",
    "    plt.xlabel(\"max_features\")\n",
    "    plt.ylabel(\"max_depth\")\n",
    "\n",
    "    sklearn_evaluation.evaluator.plot.grid_search(\n",
    "        grid_search.cv_results_,\n",
    "        change=( \"max_depth\", \"max_features\")\n",
    "    )\n",
    "\n",
    "    # for index, value in enumerate(alphas):\n",
    "    #     plt.plot(alphas[index], scores[index])\n",
    "    plt.legend()\n",
    "    # fig = plt.figure()\n",
    "    plt.show()"
   ],
   "metadata": {
    "collapsed": false,
    "pycharm": {
     "name": "#%%\n"
    }
   }
  },
  {
   "cell_type": "markdown",
   "source": [
    "trial 1"
   ],
   "metadata": {
    "collapsed": false
   }
  },
  {
   "cell_type": "code",
   "execution_count": 16,
   "outputs": [
    {
     "name": "stdout",
     "output_type": "stream",
     "text": [
      "Best max_depth: 18\n",
      "Best max_features: 10\n",
      "Accuracy:  0.8067522700908036\n",
      "CPU times: user 1min 45s, sys: 5.94 s, total: 1min 51s\n",
      "Wall time: 1min 52s\n"
     ]
    }
   ],
   "source": [
    "max_depth = np.linspace(1, 10, 5, dtype=int)\n",
    "max_features = np.linspace(1, 35, 5, dtype=int)\n",
    "\n",
    "grid_search_t1 = %time grid_search_random_forest( max_depth, max_features )"
   ],
   "metadata": {
    "collapsed": false,
    "pycharm": {
     "name": "#%%\n"
    }
   }
  },
  {
   "cell_type": "code",
   "execution_count": 21,
   "outputs": [
    {
     "name": "stderr",
     "output_type": "stream",
     "text": [
      "No artists with labels found to put in legend.  Note that artists whose label start with an underscore are ignored when legend() is called with no argument.\n"
     ]
    },
    {
     "data": {
      "text/plain": "<Figure size 432x288 with 2 Axes>",
      "image/png": "[encoded data removed]"
     },
     "metadata": {
      "needs_background": "light"
     },
     "output_type": "display_data"
    }
   ],
   "source": [
    "graph_grid_search_random_forest(grid_search_t1)"
   ],
   "metadata": {
    "collapsed": false,
    "pycharm": {
     "name": "#%%\n"
    }
   }
  },
  {
   "cell_type": "markdown",
   "source": [
    "trial 2"
   ],
   "metadata": {
    "collapsed": false
   }
  },
  {
   "cell_type": "code",
   "execution_count": 24,
   "outputs": [
    {
     "name": "stdout",
     "output_type": "stream",
     "text": [
      "Best max_features: 18\n",
      "Best max_depth: 25\n",
      "Accuracy:  0.8105524220968838\n",
      "CPU times: user 3min 57s, sys: 9.44 s, total: 4min 6s\n",
      "Wall time: 4min 8s\n"
     ]
    }
   ],
   "source": [
    "max_features = np.linspace(8, 18, 5, dtype=int)\n",
    "max_depth = np.linspace(25, 50, 5, dtype=int)\n",
    "\n",
    "grid_search_t2 = %time grid_search_random_forest( max_features, max_depth )"
   ],
   "metadata": {
    "collapsed": false,
    "pycharm": {
     "name": "#%%\n"
    }
   }
  },
  {
   "cell_type": "code",
   "execution_count": 28,
   "outputs": [
    {
     "name": "stderr",
     "output_type": "stream",
     "text": [
      "No artists with labels found to put in legend.  Note that artists whose label start with an underscore are ignored when legend() is called with no argument.\n"
     ]
    },
    {
     "data": {
      "text/plain": "<Figure size 432x288 with 2 Axes>",
      "image/png": "[encoded data removed]"
     },
     "metadata": {
      "needs_background": "light"
     },
     "output_type": "display_data"
    },
    {
     "name": "stdout",
     "output_type": "stream",
     "text": [
      "train:  0.9915585929774032\n"
     ]
    }
   ],
   "source": [
    "graph_grid_search_random_forest(grid_search_t2)\n",
    "print('train: ', np.mean(grid_search_t2.cv_results_['mean_train_score']))"
   ],
   "metadata": {
    "collapsed": false,
    "pycharm": {
     "name": "#%%\n"
    }
   }
  },
  {
   "cell_type": "markdown",
   "source": [
    "trial 3"
   ],
   "metadata": {
    "collapsed": false
   }
  },
  {
   "cell_type": "code",
   "execution_count": 29,
   "outputs": [
    {
     "name": "stdout",
     "output_type": "stream",
     "text": [
      "CPU times: user 3min 25s, sys: 4.67 s, total: 3min 30s\n",
      "Wall time: 3min 31s\n"
     ]
    },
    {
     "data": {
      "text/plain": "GridSearchCV(cv=4, estimator=RandomForestClassifier(random_state=2),\n             param_grid={'n_estimators': array([ 40,  65,  90, 115, 140])},\n             return_train_score=True)"
     },
     "execution_count": 29,
     "metadata": {},
     "output_type": "execute_result"
    }
   ],
   "source": [
    "rf_t3 = RandomForestClassifier(random_state=2)\n",
    "n_estimators_t3 = np.linspace(40, 140, 5, dtype=int)\n",
    "hyperparams = {'n_estimators': n_estimators_t3}\n",
    "grid_search_t3 = GridSearchCV(\n",
    "    rf_t3,\n",
    "    hyperparams,\n",
    "    cv=4,\n",
    "    return_train_score=True,\n",
    ")\n",
    "%time grid_search_t3.fit(X_train, y_train)"
   ],
   "metadata": {
    "collapsed": false,
    "pycharm": {
     "name": "#%%\n"
    }
   }
  },
  {
   "cell_type": "code",
   "execution_count": 32,
   "outputs": [
    {
     "name": "stdout",
     "output_type": "stream",
     "text": [
      "Best n_estimators: 140\n",
      "Accuracy:  0.8299931997279891\n",
      "train:  0.9915585929774032\n"
     ]
    }
   ],
   "source": [
    "print_grid_search_results(grid_search_t3, hyperparams)\n",
    "print('train: ', np.mean(grid_search_t2.cv_results_['mean_train_score']))"
   ],
   "metadata": {
    "collapsed": false,
    "pycharm": {
     "name": "#%%\n"
    }
   }
  },
  {
   "cell_type": "code",
   "execution_count": 33,
   "outputs": [
    {
     "name": "stdout",
     "output_type": "stream",
     "text": [
      "[ 40  65  90 115 140]\n",
      "      Train      Test\n",
      "0  0.999960  0.808352\n",
      "1  1.000000  0.819073\n",
      "2  0.999987  0.822833\n",
      "3  1.000000  0.824833\n",
      "4  1.000000  0.826553\n"
     ]
    },
    {
     "data": {
      "text/plain": "<AxesSubplot:>"
     },
     "execution_count": 33,
     "metadata": {},
     "output_type": "execute_result"
    },
    {
     "data": {
      "text/plain": "<Figure size 432x288 with 1 Axes>",
      "image/png": "[encoded data removed]"
     },
     "metadata": {
      "needs_background": "light"
     },
     "output_type": "display_data"
    }
   ],
   "source": [
    "n_estimators = pd.DataFrame(grid_search_t3.cv_results_['params'])\n",
    "train_scores = pd.DataFrame(grid_search_t3.cv_results_['mean_train_score'], columns=['Train'])\n",
    "test_scores = pd.DataFrame(grid_search_t3.cv_results_['mean_test_score'],  columns=['Test'])\n",
    "display_frame = pd.concat([train_scores, test_scores], axis=1)\n",
    "print(n_estimators.values.flatten())\n",
    "print(display_frame)\n",
    "display_frame.index = n_estimators.values.flatten()\n",
    "display_frame.plot()\n"
   ],
   "metadata": {
    "collapsed": false,
    "pycharm": {
     "name": "#%%\n"
    }
   }
  },
  {
   "cell_type": "markdown",
   "source": [
    "## Accuracy Comparison"
   ],
   "metadata": {
    "collapsed": false,
    "pycharm": {
     "name": "#%% md\n"
    }
   }
  },
  {
   "cell_type": "markdown",
   "source": [
    "create optimal rf"
   ],
   "metadata": {
    "collapsed": false
   }
  },
  {
   "cell_type": "code",
   "execution_count": 35,
   "outputs": [
    {
     "name": "stdout",
     "output_type": "stream",
     "text": [
      "Train Score:  0.9749589983599344\n",
      "Test Score:  0.8294731789271571\n"
     ]
    }
   ],
   "source": [
    "optimal_rf = RandomForestClassifier(\n",
    "    n_estimators=140,\n",
    "    max_features=18,\n",
    "    max_depth=25,\n",
    "    random_state=2\n",
    ")\n",
    "optimal_rf.fit(X_train, y_train)\n",
    "print(\"Train Score: \", optimal_rf.score(X_train, y_train))\n",
    "print(\"Test Score: \", optimal_rf.score(X_test, y_test))\n"
   ],
   "metadata": {
    "collapsed": false,
    "pycharm": {
     "name": "#%%\n"
    }
   }
  },
  {
   "cell_type": "code",
   "execution_count": 40,
   "outputs": [
    {
     "name": "stdout",
     "output_type": "stream",
     "text": [
      "0.8294731789271571\n"
     ]
    },
    {
     "data": {
      "text/plain": "<Figure size 432x288 with 1 Axes>",
      "image/png": "[encoded data removed]"
     },
     "metadata": {
      "needs_background": "light"
     },
     "output_type": "display_data"
    }
   ],
   "source": [
    "print(optimal_rf.score(X_test, y_test))\n",
    "feature_importances_rf = optimal_rf.feature_importances_\n",
    "plt.bar(\n",
    "    range(0, 1000),\n",
    "    feature_importances_rf,\n",
    ")\n",
    "plt.ylabel('importance')\n",
    "plt.xlabel('feature')\n",
    "plt.show()"
   ],
   "metadata": {
    "collapsed": false,
    "pycharm": {
     "name": "#%%\n"
    }
   }
  },
  {
   "cell_type": "code",
   "execution_count": 43,
   "outputs": [
    {
     "data": {
      "text/plain": "[78, 249, 87, 437, 373, 394, 118, 321, 389, 357]"
     },
     "execution_count": 43,
     "metadata": {},
     "output_type": "execute_result"
    }
   ],
   "source": [
    "top_10_rf_importances = heapq.nlargest(10, feature_importances_rf)\n",
    "top_10_rf_importances\n",
    "top_10_rf_importances_indices = []\n",
    "for item in top_10_rf_importances:\n",
    "    correct_actual_item_index = np.argwhere(feature_importances_rf == item)\n",
    "    top_10_rf_importances_indices.append(correct_actual_item_index[0][0])\n",
    "\n",
    "top_10_rf_importances_indices"
   ],
   "metadata": {
    "collapsed": false,
    "pycharm": {
     "name": "#%%\n"
    }
   }
  },
  {
   "cell_type": "code",
   "execution_count": 51,
   "outputs": [
    {
     "name": "stdout",
     "output_type": "stream",
     "text": [
      "sum of top:  0.14499814767543767\n",
      "sum of bottom:  0.14166437914241056\n"
     ]
    }
   ],
   "source": [
    "print('sum of top: ', sum(top_10_rf_importances))\n",
    "\n",
    "least_rf = heapq.nsmallest(360, feature_importances_rf)\n",
    "print('sum of bottom: ', sum(least_rf))"
   ],
   "metadata": {
    "collapsed": false,
    "pycharm": {
     "name": "#%%\n"
    }
   }
  },
  {
   "cell_type": "markdown",
   "source": [
    "misclassifieds"
   ],
   "metadata": {
    "collapsed": false
   }
  },
  {
   "cell_type": "code",
   "execution_count": 53,
   "outputs": [
    {
     "name": "stdout",
     "output_type": "stream",
     "text": [
      "0.8294731789271571\n"
     ]
    },
    {
     "data": {
      "text/plain": "4263"
     },
     "execution_count": 53,
     "metadata": {},
     "output_type": "execute_result"
    }
   ],
   "source": [
    "y_predictions = optimal_rf.predict(X_test)\n",
    "print(metrics.accuracy_score(y_predictions, y_test))\n",
    "misclassified_indices = np.where((y_predictions != y_test))[0]\n",
    "len(misclassified_indices)"
   ],
   "metadata": {
    "collapsed": false,
    "pycharm": {
     "name": "#%%\n"
    }
   }
  },
  {
   "cell_type": "markdown",
   "source": [
    "knn for misclassified"
   ],
   "metadata": {
    "collapsed": false
   }
  },
  {
   "cell_type": "code",
   "execution_count": 54,
   "outputs": [
    {
     "name": "stdout",
     "output_type": "stream",
     "text": [
      "1.0\n",
      "['Misclassified Test idx', 'True Class', 'Pred Class', 'Neigbor#1_idx', 'Neigbor#1_True Class', 'Neigbor#1_Distance', 'Neigbor#2_idx', 'Neigbor#2_True Class', 'Neigbor#2_Distance', 'Neigbor#3_idx', 'Neigbor#3_True Class', 'Neigbor#3_Distance']\n"
     ]
    },
    {
     "data": {
      "text/plain": "      Misclassified Test idx  True Class  Pred Class  Neigbor#1_idx  \\\n0                          1         1.0         0.0           9179   \n1                          2         0.0         1.0           5459   \n2                          7         0.0         1.0            418   \n3                         16         0.0         1.0            922   \n4                         25         0.0         1.0           9989   \n...                      ...         ...         ...            ...   \n4258                   24974         1.0         0.0          22526   \n4259                   24977         1.0         0.0           9079   \n4260                   24978         1.0         0.0           1072   \n4261                   24979         1.0         0.0            418   \n4262                   24980         1.0         0.0          13354   \n\n      Neigbor#1_True Class  Neigbor#1_Distance  Neigbor#2_idx  \\\n0                      1.0               11.75          12101   \n1                      0.0                9.22           2176   \n2                      1.0                7.28          24990   \n3                      1.0                8.43           6225   \n4                      1.0                9.59            690   \n...                    ...                 ...            ...   \n4258                   0.0                7.48           6004   \n4259                   1.0                8.77           9761   \n4260                   1.0               12.53            928   \n4261                   1.0                8.00          17909   \n4262                   1.0               11.45          15970   \n\n      Neigbor#2_True Class  Neigbor#2_Distance  Neigbor#3_idx  \\\n0                      1.0               11.79           3978   \n1                      1.0                9.27          10811   \n2                      1.0                7.35           4695   \n3                      1.0                8.43          23019   \n4                      1.0                9.75           8003   \n...                    ...                 ...            ...   \n4258                   0.0                7.75           9778   \n4259                   0.0                8.77           4834   \n4260                   1.0               12.61           5008   \n4261                   1.0                8.06           9761   \n4262                   1.0               11.45           2361   \n\n      Neigbor#3_True Class  Neigbor#3_Distance  \n0                      0.0               11.83  \n1                      1.0                9.27  \n2                      0.0                7.42  \n3                      0.0                8.43  \n4                      1.0                9.75  \n...                    ...                 ...  \n4258                   0.0                7.87  \n4259                   1.0                8.83  \n4260                   1.0               12.61  \n4261                   0.0                8.12  \n4262                   1.0               11.49  \n\n[4263 rows x 12 columns]",
      "text/html": "<div>\n<style scoped>\n    .dataframe tbody tr th:only-of-type {\n        vertical-align: middle;\n    }\n\n    .dataframe tbody tr th {\n        vertical-align: top;\n    }\n\n    .dataframe thead th {\n        text-align: right;\n    }\n</style>\n<table border=\"1\" class=\"dataframe\">\n  <thead>\n    <tr style=\"text-align: right;\">\n      <th></th>\n      <th>Misclassified Test idx</th>\n      <th>True Class</th>\n      <th>Pred Class</th>\n      <th>Neigbor#1_idx</th>\n      <th>Neigbor#1_True Class</th>\n      <th>Neigbor#1_Distance</th>\n      <th>Neigbor#2_idx</th>\n      <th>Neigbor#2_True Class</th>\n      <th>Neigbor#2_Distance</th>\n      <th>Neigbor#3_idx</th>\n      <th>Neigbor#3_True Class</th>\n      <th>Neigbor#3_Distance</th>\n    </tr>\n  </thead>\n  <tbody>\n    <tr>\n      <th>0</th>\n      <td>1</td>\n      <td>1.0</td>\n      <td>0.0</td>\n      <td>9179</td>\n      <td>1.0</td>\n      <td>11.75</td>\n      <td>12101</td>\n      <td>1.0</td>\n      <td>11.79</td>\n      <td>3978</td>\n      <td>0.0</td>\n      <td>11.83</td>\n    </tr>\n    <tr>\n      <th>1</th>\n      <td>2</td>\n      <td>0.0</td>\n      <td>1.0</td>\n      <td>5459</td>\n      <td>0.0</td>\n      <td>9.22</td>\n      <td>2176</td>\n      <td>1.0</td>\n      <td>9.27</td>\n      <td>10811</td>\n      <td>1.0</td>\n      <td>9.27</td>\n    </tr>\n    <tr>\n      <th>2</th>\n      <td>7</td>\n      <td>0.0</td>\n      <td>1.0</td>\n      <td>418</td>\n      <td>1.0</td>\n      <td>7.28</td>\n      <td>24990</td>\n      <td>1.0</td>\n      <td>7.35</td>\n      <td>4695</td>\n      <td>0.0</td>\n      <td>7.42</td>\n    </tr>\n    <tr>\n      <th>3</th>\n      <td>16</td>\n      <td>0.0</td>\n      <td>1.0</td>\n      <td>922</td>\n      <td>1.0</td>\n      <td>8.43</td>\n      <td>6225</td>\n      <td>1.0</td>\n      <td>8.43</td>\n      <td>23019</td>\n      <td>0.0</td>\n      <td>8.43</td>\n    </tr>\n    <tr>\n      <th>4</th>\n      <td>25</td>\n      <td>0.0</td>\n      <td>1.0</td>\n      <td>9989</td>\n      <td>1.0</td>\n      <td>9.59</td>\n      <td>690</td>\n      <td>1.0</td>\n      <td>9.75</td>\n      <td>8003</td>\n      <td>1.0</td>\n      <td>9.75</td>\n    </tr>\n    <tr>\n      <th>...</th>\n      <td>...</td>\n      <td>...</td>\n      <td>...</td>\n      <td>...</td>\n      <td>...</td>\n      <td>...</td>\n      <td>...</td>\n      <td>...</td>\n      <td>...</td>\n      <td>...</td>\n      <td>...</td>\n      <td>...</td>\n    </tr>\n    <tr>\n      <th>4258</th>\n      <td>24974</td>\n      <td>1.0</td>\n      <td>0.0</td>\n      <td>22526</td>\n      <td>0.0</td>\n      <td>7.48</td>\n      <td>6004</td>\n      <td>0.0</td>\n      <td>7.75</td>\n      <td>9778</td>\n      <td>0.0</td>\n      <td>7.87</td>\n    </tr>\n    <tr>\n      <th>4259</th>\n      <td>24977</td>\n      <td>1.0</td>\n      <td>0.0</td>\n      <td>9079</td>\n      <td>1.0</td>\n      <td>8.77</td>\n      <td>9761</td>\n      <td>0.0</td>\n      <td>8.77</td>\n      <td>4834</td>\n      <td>1.0</td>\n      <td>8.83</td>\n    </tr>\n    <tr>\n      <th>4260</th>\n      <td>24978</td>\n      <td>1.0</td>\n      <td>0.0</td>\n      <td>1072</td>\n      <td>1.0</td>\n      <td>12.53</td>\n      <td>928</td>\n      <td>1.0</td>\n      <td>12.61</td>\n      <td>5008</td>\n      <td>1.0</td>\n      <td>12.61</td>\n    </tr>\n    <tr>\n      <th>4261</th>\n      <td>24979</td>\n      <td>1.0</td>\n      <td>0.0</td>\n      <td>418</td>\n      <td>1.0</td>\n      <td>8.00</td>\n      <td>17909</td>\n      <td>1.0</td>\n      <td>8.06</td>\n      <td>9761</td>\n      <td>0.0</td>\n      <td>8.12</td>\n    </tr>\n    <tr>\n      <th>4262</th>\n      <td>24980</td>\n      <td>1.0</td>\n      <td>0.0</td>\n      <td>13354</td>\n      <td>1.0</td>\n      <td>11.45</td>\n      <td>15970</td>\n      <td>1.0</td>\n      <td>11.45</td>\n      <td>2361</td>\n      <td>1.0</td>\n      <td>11.49</td>\n    </tr>\n  </tbody>\n</table>\n<p>4263 rows × 12 columns</p>\n</div>"
     },
     "execution_count": 54,
     "metadata": {},
     "output_type": "execute_result"
    }
   ],
   "source": [
    "\n",
    "k = 3\n",
    "nn = NearestNeighbors(n_neighbors=k)\n",
    "nn.fit(X_train)\n",
    "distances, indices = nn.kneighbors(X_test[misclassified_indices])\n",
    "\n",
    "print(y_test[misclassified_indices[0]])\n",
    "columns = [\"Misclassified Test idx\", \"True Class\", \"Pred Class\"]\n",
    "for i in range(3):\n",
    "    columns += [\"Neigbor#{}_idx\".format(i + 1), \"Neigbor#{}_True Class\".format(i + 1),\n",
    "        \"Neigbor#{}_Distance\".format(i + 1)]\n",
    "\n",
    "print(columns)\n",
    "df = pd.DataFrame(columns=columns)\n",
    "\n",
    "df[\"Misclassified Test idx\"] = misclassified_indices\n",
    "df[\"True Class\"] = y_test[misclassified_indices]\n",
    "df[\"Pred Class\"] = y_predictions[misclassified_indices]\n",
    "for i in range(3):\n",
    "    df[\"Neigbor#{}_idx\".format(i + 1)] = indices[:, i]\n",
    "    df[\"Neigbor#{}_True Class\".format(i + 1)] = y_train[indices[:, i]]\n",
    "    df[\"Neigbor#{}_Distance\".format(i + 1)] = np.around(distances[:, i], decimals=2)\n",
    "\n",
    "df"
   ],
   "metadata": {
    "collapsed": false,
    "pycharm": {
     "name": "#%%\n"
    }
   }
  },
  {
   "cell_type": "code",
   "execution_count": 60,
   "outputs": [
    {
     "name": "stdout",
     "output_type": "stream",
     "text": [
      "[78, 87, 118, 249, 321, 357, 373, 389, 394, 437]\n",
      "[0.0, 1.0, 0.0, 0.0, 0.0, 0.0, 0.0, 0.0, 0.0, 0.0]\n",
      "[1.0, 0.0, 1.0, 0.0, 0.0, 0.0, 0.0, 0.0, 0.0, 0.0]\n"
     ]
    }
   ],
   "source": [
    "item_misclassed = X_test[25]\n",
    "item_neighbor = X_test[9989]\n",
    "item_misclassed_top = []\n",
    "item_neighbor_top = []\n",
    "\n",
    "top_10_rf_importances_indices.sort()\n",
    "for i in top_10_rf_importances_indices:\n",
    "    item_misclassed_top.append(\n",
    "        item_misclassed[i]\n",
    "    )\n",
    "\n",
    "\n",
    "for i in top_10_rf_importances_indices:\n",
    "    item_neighbor_top.append(\n",
    "        item_neighbor[i]\n",
    "    )\n",
    "print(top_10_rf_importances_indices)\n",
    "print(item_misclassed_top)\n",
    "print(item_neighbor_top)"
   ],
   "metadata": {
    "collapsed": false,
    "pycharm": {
     "name": "#%%\n"
    }
   }
  },
  {
   "cell_type": "code",
   "execution_count": null,
   "outputs": [],
   "source": [],
   "metadata": {
    "collapsed": false,
    "pycharm": {
     "name": "#%%\n"
    }
   }
  }
 ],
 "metadata": {
  "kernelspec": {
   "display_name": "Python 3",
   "language": "python",
   "name": "python3"
  },
  "language_info": {
   "codemirror_mode": {
    "name": "ipython",
    "version": 2
   },
   "file_extension": ".py",
   "mimetype": "text/x-python",
   "name": "python",
   "nbconvert_exporter": "python",
   "pygments_lexer": "ipython2",
   "version": "2.7.6"
  }
 },
 "nbformat": 4,
 "nbformat_minor": 0
}
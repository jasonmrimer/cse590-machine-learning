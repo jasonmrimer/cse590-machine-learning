{
 "cells": [
  {
   "cell_type": "markdown",
   "source": [],
   "metadata": {
    "collapsed": false,
    "pycharm": {
     "is_executing": true
    }
   },
   "outputs": []
  },
  {
   "cell_type": "code",
   "execution_count": null,
   "metadata": {
    "collapsed": true
   },
   "outputs": [],
   "source": [
    "import heapq\n",
    "\n",
    "import mglearn as mglearn\n",
    "import np as np\n",
    "import pandas as pd\n",
    "import numpy as np\n",
    "import matplotlib.pyplot as plt\n",
    "import math\n",
    "\n",
    "import sklearn_evaluation\n",
    "from sklearn.neighbors import NearestNeighbors\n",
    "from sklearn.model_selection import cross_val_score\n",
    "from sklearn.neural_network import MLPClassifier\n",
    "from sklearn.preprocessing import StandardScaler, RobustScaler, MinMaxScaler\n",
    "from sklearn.svm import SVC\n",
    "\n",
    "!pip install numpy scipy scikit-learn matplotlib pandas\n",
    "from sklearn.model_selection import GridSearchCV\n",
    "from sklearn.ensemble import GradientBoostingClassifier, RandomForestClassifier\n",
    "from sklearn import metrics\n",
    "from sklearn.decomposition import PCA\n",
    "\n",
    "import heapq"
   ]
  },
  {
   "cell_type": "code",
   "execution_count": null,
   "outputs": [],
   "source": [
    "def shape_params_mlp(layer_values, alpha_values):\n",
    "    hyper_params = dict(\n",
    "        hidden_layer_sizes=layer_values,\n",
    "        alpha=alpha_values\n",
    "    )\n",
    "    return hyper_params\n",
    "\n",
    "def shape_params_mlp_activation(layer_values, activations):\n",
    "    hyper_params = dict(\n",
    "        hidden_layer_sizes=layer_values,\n",
    "        activation=activations\n",
    "    )\n",
    "    return hyper_params\n",
    "\n",
    "def run_grid_mlp(hyper_parameters, X_data):\n",
    "    classifier = MLPClassifier(\n",
    "        random_state=42\n",
    "    )\n",
    "    grid_search = GridSearchCV(\n",
    "        classifier,\n",
    "        hyper_parameters,\n",
    "        cv=4,\n",
    "        return_train_score=True\n",
    "    )\n",
    "    grid_search.fit(X_data, y_train)\n",
    "\n",
    "    print_grid_search_results(grid_search, hyper_parameters)\n",
    "    return grid_search\n",
    "\n",
    "\n",
    "def print_grid_search_results(grid_search, parameters):\n",
    "    for parameter in parameters:\n",
    "        print(f'Best {parameter}:', grid_search.best_params_[parameter])\n",
    "    print(\"Train score: \", grid_search.cv_results_['mean_train_score'])\n",
    "    print(\"Test score: \", grid_search.cv_results_['mean_test_score'])\n",
    "\n",
    "\n",
    "def fit_and_scale(scaler, X_data):\n",
    "    return scaler.fit(X_data).transform(X_data)\n"
   ],
   "metadata": {
    "collapsed": false,
    "pycharm": {
     "name": "#%%\n"
    }
   }
  },
  {
   "cell_type": "code",
   "execution_count": null,
   "outputs": [],
   "source": [
    "X_train = pd.read_csv(\"./dataset/X_train.csv\").values\n",
    "y_train = pd.read_csv(\"./dataset/y_train.csv\").values.ravel()\n",
    "X_test = pd.read_csv(\"./dataset/X_test.csv\").values\n",
    "y_test = pd.read_csv(\"./dataset/y_test.csv\").values.ravel()\n",
    "\n",
    "scaler_standard = StandardScaler().fit(X_train)\n",
    "X_train_standard = scaler_standard.transform(X_train)\n",
    "X_test_standard = scaler_standard.transform(X_test)\n",
    "\n",
    "scaler_robust = RobustScaler().fit(X_train)\n",
    "X_train_robust = scaler_robust.transform(X_train)\n",
    "X_test_robust = scaler_robust.transform(X_test)\n",
    "\n",
    "scaler_minmax = MinMaxScaler().fit(X_train)\n",
    "X_train_minmax = scaler_minmax.transform(X_train)\n",
    "X_test_minmax = scaler_minmax.transform(X_test)"
   ],
   "metadata": {
    "collapsed": false,
    "pycharm": {
     "name": "#%%\n"
    }
   }
  },
  {
   "cell_type": "code",
   "execution_count": null,
   "outputs": [],
   "source": [
    "mlp = MLPClassifier(random_state=42)\n",
    "%time mlp.fit(X_train, y_train)\n",
    "print(mlp.score(X_test,y_test))"
   ],
   "metadata": {
    "collapsed": false,
    "pycharm": {
     "name": "#%%\n"
    }
   }
  },
  {
   "cell_type": "code",
   "source": [
    "print(MLPClassifier().get_params().keys())\n",
    "print(len(X_train))"
   ],
   "metadata": {
    "collapsed": false,
    "pycharm": {
     "name": "#%%\n"
    }
   },
   "execution_count": null,
   "outputs": []
  },
  {
   "cell_type": "code",
   "execution_count": null,
   "outputs": [],
   "source": [
    "grid_results_mlp = run_grid_mlp(shape_params_mlp([2, 4, 8, 16],[0.01, 0.1, 0.25, 0.75]), X_train)\n"
   ],
   "metadata": {
    "collapsed": false,
    "pycharm": {
     "name": "#%%\n"
    }
   }
  },
  {
   "cell_type": "code",
   "execution_count": null,
   "outputs": [],
   "source": [
    "grid_results_mlp = run_grid_mlp(shape_params_mlp([16, 32, 64],[0.001, 0.005, 0.01]), X_train)\n"
   ],
   "metadata": {
    "collapsed": false,
    "pycharm": {
     "name": "#%%\n"
    }
   }
  },
  {
   "cell_type": "code",
   "execution_count": null,
   "outputs": [],
   "source": [
    "grid_results_mlp_none_adam = run_grid_mlp(shape_params_mlp_activation([32, 128, 256],['adam']), X_train)\n"
   ],
   "metadata": {
    "collapsed": false,
    "pycharm": {
     "name": "#%%\n"
    }
   }
  },
  {
   "cell_type": "markdown",
   "source": [
    "# relu"
   ],
   "metadata": {
    "collapsed": false
   }
  },
  {
   "cell_type": "code",
   "execution_count": null,
   "outputs": [],
   "source": [
    "grid_results_mlp_none_adam = run_grid_mlp(shape_params_mlp_activation([32, 128, 256],['relu']), X_train)\n"
   ],
   "metadata": {
    "collapsed": false,
    "pycharm": {
     "name": "#%%\n"
    }
   }
  },
  {
   "cell_type": "code",
   "execution_count": null,
   "outputs": [],
   "source": [
    "grid_results_mlp_relu_standard = run_grid_mlp(shape_params_mlp_activation([32, 128, 256],['relu']), X_train_standard)\n"
   ],
   "metadata": {
    "collapsed": false,
    "pycharm": {
     "name": "#%%\n"
    }
   }
  },
  {
   "cell_type": "code",
   "execution_count": null,
   "outputs": [],
   "source": [
    "grid_results_mlp_relu_robust = run_grid_mlp(shape_params_mlp_activation([32, 128, 256],['relu']), X_train_robust)\n"
   ],
   "metadata": {
    "collapsed": false,
    "pycharm": {
     "name": "#%%\n"
    }
   }
  },
  {
   "cell_type": "code",
   "execution_count": null,
   "outputs": [],
   "source": [
    "grid_results_mlp_relu_minmax = run_grid_mlp(shape_params_mlp_activation([32, 128, 256],['relu']), X_train_minmax)\n"
   ],
   "metadata": {
    "collapsed": false,
    "pycharm": {
     "name": "#%%\n"
    }
   }
  },
  {
   "cell_type": "markdown",
   "source": [
    "# logistic"
   ],
   "metadata": {
    "collapsed": false
   }
  },
  {
   "cell_type": "code",
   "execution_count": null,
   "outputs": [],
   "source": [
    "grid_results_mlp_logistic_none = run_grid_mlp(shape_params_mlp_activation([32, 128, 256],['logistic']), X_train)\n"
   ],
   "metadata": {
    "collapsed": false,
    "pycharm": {
     "name": "#%%\n"
    }
   }
  },
  {
   "cell_type": "code",
   "execution_count": null,
   "outputs": [],
   "source": [
    "grid_results_mlp_logistic_standard = run_grid_mlp(shape_params_mlp_activation([32, 128, 256],['logistic']), X_train_standard)\n"
   ],
   "metadata": {
    "collapsed": false,
    "pycharm": {
     "name": "#%%\n"
    }
   }
  },
  {
   "cell_type": "code",
   "execution_count": null,
   "outputs": [],
   "source": [
    "grid_results_mlp_logistic_robust = run_grid_mlp(shape_params_mlp_activation([32, 128, 256],['logistic']), X_train_robust)\n"
   ],
   "metadata": {
    "collapsed": false,
    "pycharm": {
     "name": "#%%\n"
    }
   }
  },
  {
   "cell_type": "code",
   "execution_count": null,
   "outputs": [],
   "source": [
    "grid_results_mlp_logistic_minmax = run_grid_mlp(shape_params_mlp_activation([32, 128, 256],['logistic']), X_train_minmax)\n"
   ],
   "metadata": {
    "collapsed": false,
    "pycharm": {
     "name": "#%%\n"
    }
   }
  },
  {
   "cell_type": "markdown",
   "source": [
    "# tanh"
   ],
   "metadata": {
    "collapsed": false
   }
  },
  {
   "cell_type": "code",
   "execution_count": null,
   "outputs": [],
   "source": [
    "grid_results_mlp_tanh_none = run_grid_mlp(shape_params_mlp_activation([32, 128, 256],['tanh']), X_train)\n"
   ],
   "metadata": {
    "collapsed": false,
    "pycharm": {
     "name": "#%%\n"
    }
   }
  },
  {
   "cell_type": "code",
   "execution_count": null,
   "outputs": [],
   "source": [
    "grid_results_mlp_tanh_standard = run_grid_mlp(shape_params_mlp_activation([32, 128, 256],['tanh']), X_train_standard)\n"
   ],
   "metadata": {
    "collapsed": false,
    "pycharm": {
     "name": "#%%\n"
    }
   }
  },
  {
   "cell_type": "code",
   "execution_count": null,
   "outputs": [],
   "source": [
    "grid_results_mlp_tanh_robust = run_grid_mlp(shape_params_mlp_activation([32, 128, 256],['tanh']), X_train_robust)\n"
   ],
   "metadata": {
    "collapsed": false,
    "pycharm": {
     "name": "#%%\n"
    }
   }
  },
  {
   "cell_type": "code",
   "execution_count": null,
   "outputs": [],
   "source": [
    "grid_results_mlp_tanh_minmax = run_grid_mlp(shape_params_mlp_activation([32, 128, 256],['tanh']), X_train_minmax)\n"
   ],
   "metadata": {
    "collapsed": false,
    "pycharm": {
     "name": "#%%\n"
    }
   }
  },
  {
   "cell_type": "markdown",
   "source": [
    "# Preprocess"
   ],
   "metadata": {
    "collapsed": false
   }
  },
  {
   "cell_type": "code",
   "execution_count": null,
   "outputs": [],
   "source": [
    "mlp_vanilla = MLPClassifier(hidden_layer_sizes=32, alpha=0.05)\n",
    "mlp_vanilla.fit(X_train, y_train)\n",
    "print(mlp_vanilla.score(X_train, y_train))\n",
    "print(mlp_vanilla.score(X_test, y_test))"
   ],
   "metadata": {
    "collapsed": false,
    "pycharm": {
     "name": "#%%\n"
    }
   }
  },
  {
   "cell_type": "code",
   "execution_count": null,
   "outputs": [],
   "source": [
    "mlp_standard = MLPClassifier(hidden_layer_sizes=32, alpha=0.05)\n",
    "mlp_standard.fit(X_train_standard, y_train)\n",
    "\n",
    "print(mlp_standard.score(X_train_standard, y_train))\n",
    "print(mlp_standard.score(X_test_standard, y_test))"
   ],
   "metadata": {
    "collapsed": false,
    "pycharm": {
     "name": "#%%\n"
    }
   }
  },
  {
   "cell_type": "code",
   "execution_count": null,
   "outputs": [],
   "source": [
    "mlp_robust = MLPClassifier(hidden_layer_sizes=32, alpha=0.05)\n",
    "mlp_robust.fit(X_train_robust, y_train)\n",
    "\n",
    "print(mlp_robust.score(X_train_robust, y_train))\n",
    "print(mlp_robust.score(X_test_robust, y_test))"
   ],
   "metadata": {
    "collapsed": false,
    "pycharm": {
     "name": "#%%\n"
    }
   }
  },
  {
   "cell_type": "code",
   "execution_count": null,
   "outputs": [],
   "source": [
    "mlp_minmax = MLPClassifier(hidden_layer_sizes=32, alpha=0.05)\n",
    "mlp_minmax.fit(X_train_minmax, y_train)\n",
    "\n",
    "print(mlp_minmax.score(X_train_minmax, y_train))\n",
    "print(mlp_minmax.score(X_test_minmax, y_test))"
   ],
   "metadata": {
    "collapsed": false,
    "pycharm": {
     "name": "#%%\n"
    }
   }
  },
  {
   "cell_type": "code",
   "execution_count": null,
   "outputs": [],
   "source": [],
   "metadata": {
    "collapsed": false,
    "pycharm": {
     "name": "#%%\n"
    }
   }
  }
 ],
 "metadata": {
  "kernelspec": {
   "display_name": "Python 3",
   "language": "python",
   "name": "python3"
  },
  "language_info": {
   "codemirror_mode": {
    "name": "ipython",
    "version": 2
   },
   "file_extension": ".py",
   "mimetype": "text/x-python",
   "name": "python",
   "nbconvert_exporter": "python",
   "pygments_lexer": "ipython2",
   "version": "2.7.6"
  }
 },
 "nbformat": 4,
 "nbformat_minor": 0
}
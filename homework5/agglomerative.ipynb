{
 "cells": [
  {
   "cell_type": "code",
   "execution_count": null,
   "metadata": {
    "collapsed": true
   },
   "outputs": [],
   "source": [
    "import numpy as np\n",
    "import pandas as pd\n",
    "from matplotlib import pyplot as plt, cm\n",
    "from sklearn.cluster import KMeans, AgglomerativeClustering\n",
    "from sklearn.metrics import silhouette_samples\n",
    "from sklearn.model_selection import GridSearchCV\n",
    "from yellowbrick.cluster import silhouette_visualizer\n",
    "from scipy.cluster.hierarchy import dendrogram, ward, linkage"
   ]
  },
  {
   "cell_type": "code",
   "execution_count": null,
   "outputs": [],
   "source": [
    "X = pd.read_csv(\"./dataset/X.csv\").values\n",
    "y = pd.read_csv(\"./dataset/y.csv\").values\n",
    "images = pd.read_csv(\"./dataset/images.csv\").values\n"
   ],
   "metadata": {
    "collapsed": false,
    "pycharm": {
     "name": "#%%\n"
    }
   }
  },
  {
   "cell_type": "code",
   "execution_count": null,
   "outputs": [],
   "source": [
    "def shape_parameters(n_clusters):\n",
    "    return dict(n_clusters=n_clusters)\n",
    "\n",
    "\n",
    "def run_grid_kmeans(hyper_parameters, X_data):\n",
    "    clusterer = KMeans()\n",
    "    grid_search = GridSearchCV(\n",
    "        estimator=clusterer,\n",
    "        param_grid=hyper_parameters,\n",
    "        cv=2\n",
    "    )\n",
    "    grid_search.fit(X_data)\n",
    "\n",
    "    return grid_search\n",
    "\n",
    "\n",
    "def display_dendrogram(X_data, linkage_type):\n",
    "    linkage_array = linkage(X_data, linkage_type)\n",
    "    # fig = plt.figure(figsize=(128, 32))\n",
    "    dendro = dendrogram(linkage_array, truncate_mode='level', p=10)\n",
    "    plt.show(dendro)\n",
    "\n",
    "\n",
    "def display_images(image_collection, image_indices):\n",
    "    fig, axes = plt.subplots(ncols=len(image_indices))\n",
    "    for i in range(0, len(image_indices)):\n",
    "        ax = axes[i]\n",
    "        ax.imshow(image_collection[image_indices[i]].reshape(32, 32, 3))\n",
    "        for spine in ax.spines.values():\n",
    "            spine.set_visible(False)\n",
    "        ax.tick_params(\n",
    "            bottom=False, labelbottom=False,\n",
    "            left=False, labelleft=False\n",
    "        )\n",
    "        ax.grid(False)\n",
    "    plt.show()\n",
    "\n",
    "\n",
    "def display_silhouette_plot(X_data, agg_labels):\n",
    "    cluster_labels = np.unique(agg_labels)\n",
    "    n_clusters = cluster_labels.shape[0]\n",
    "    silhouette_values = silhouette_samples(\n",
    "        X_data,\n",
    "        agg_labels,\n",
    "        metric='euclidean'\n",
    "    )\n",
    "    y_ax_lower, y_ax_upper = 0, 0\n",
    "    y_ticks = []\n",
    "\n",
    "    for i, c in enumerate(cluster_labels):\n",
    "        c_silhouette_values = silhouette_values[agg_labels == c]\n",
    "        c_silhouette_values.sort()\n",
    "        y_ax_upper += len(c_silhouette_values)\n",
    "        color = cm.jet(float(i) / n_clusters)\n",
    "        plt.barh(\n",
    "            range(y_ax_lower, y_ax_upper),\n",
    "            c_silhouette_values,\n",
    "            height=1.0,\n",
    "            edgecolor='none',\n",
    "            color=color\n",
    "        )\n",
    "        y_ticks.append((y_ax_lower + y_ax_upper) / 2.)\n",
    "        y_ax_lower += len(c_silhouette_values)\n",
    "    silhouette_average = np.mean(silhouette_values)\n",
    "    plt.axvline(silhouette_average, color='red', linestyle='--')\n",
    "    plt.yticks(y_ticks, cluster_labels + 1)\n",
    "    plt.ylabel('Cluster')\n",
    "    plt.xlabel('Silhouette Coefficient')\n",
    "    plt.tight_layout()\n",
    "    plt.show()\n",
    "\n",
    "\n",
    "def index_from_value(value_list_primary, value_list_refined):\n",
    "    indices = []\n",
    "    for val in value_list_refined:\n",
    "        indices.append(np.where(value_list_primary == val)[0][0])\n",
    "    return indices\n",
    "\n",
    "def get_core_indices(silhouette_values, pred_labels, core):\n",
    "    core_silhouettes = silhouette_values[pred_labels == core]\n",
    "    core_silhouettes = np.sort(core_silhouettes)[::-1][0:5]\n",
    "    return index_from_value(silhouette_values, core_silhouettes)\n",
    "\n",
    "def get_boundary_indices(silhouette_values, pred_labels, core):\n",
    "    core_silhouettes = silhouette_values[pred_labels == core]\n",
    "    boundary_silhouettes = list(filter(lambda _silhouette: -.001 < _silhouette < 0.001, core_silhouettes))\n",
    "    return index_from_value(silhouette_values, boundary_silhouettes)"
   ],
   "metadata": {
    "collapsed": false,
    "pycharm": {
     "name": "#%%\n"
    }
   }
  },
  {
   "cell_type": "markdown",
   "source": [
    "## Ward linkage"
   ],
   "metadata": {
    "collapsed": false
   }
  },
  {
   "cell_type": "markdown",
   "source": [
    "ward dendrogram"
   ],
   "metadata": {
    "collapsed": false
   }
  },
  {
   "cell_type": "code",
   "execution_count": null,
   "outputs": [],
   "source": [
    "display_dendrogram(X, 'ward')\n"
   ],
   "metadata": {
    "collapsed": false,
    "pycharm": {
     "name": "#%%\n",
     "is_executing": true
    }
   }
  },
  {
   "cell_type": "markdown",
   "source": [
    "wrad silhouette"
   ],
   "metadata": {
    "collapsed": false
   }
  },
  {
   "cell_type": "code",
   "execution_count": null,
   "outputs": [],
   "source": [
    "agg_ward = AgglomerativeClustering(\n",
    "    n_clusters=5,\n",
    "    linkage='ward'\n",
    ")\n",
    "y_agg_ward = agg_ward.fit_predict(X)\n"
   ],
   "metadata": {
    "collapsed": false,
    "pycharm": {
     "name": "#%%\n"
    }
   }
  },
  {
   "cell_type": "code",
   "execution_count": null,
   "outputs": [],
   "source": [
    "display_silhouette_plot(X_data=X, agg_labels=y_agg_ward)\n"
   ],
   "metadata": {
    "collapsed": false,
    "pycharm": {
     "name": "#%%\n",
     "is_executing": true
    }
   }
  },
  {
   "cell_type": "markdown",
   "source": [
    "## Singe-link\n",
    "dendrogram"
   ],
   "metadata": {
    "collapsed": false
   }
  },
  {
   "cell_type": "code",
   "execution_count": null,
   "outputs": [],
   "source": [
    "import sys\n",
    "sys.setrecursionlimit(9000)\n",
    "print(sys.getrecursionlimit())\n",
    "\n",
    "display_dendrogram(X, 'single')\n",
    "sys.setrecursionlimit(1000)\n"
   ],
   "metadata": {
    "collapsed": false,
    "pycharm": {
     "name": "#%%\n",
     "is_executing": true
    }
   }
  },
  {
   "cell_type": "code",
   "execution_count": null,
   "outputs": [],
   "source": [],
   "metadata": {
    "collapsed": false,
    "pycharm": {
     "name": "#%%\n"
    }
   }
  },
  {
   "cell_type": "code",
   "execution_count": null,
   "outputs": [],
   "source": [],
   "metadata": {
    "collapsed": false,
    "pycharm": {
     "name": "#%%\n"
    }
   }
  },
  {
   "cell_type": "markdown",
   "source": [
    "single silhouette"
   ],
   "metadata": {
    "collapsed": false
   }
  },
  {
   "cell_type": "code",
   "execution_count": null,
   "outputs": [],
   "source": [
    "import sys\n",
    "sys.setrecursionlimit(10000)\n",
    "\n",
    "agg_single = AgglomerativeClustering(\n",
    "    linkage='single'\n",
    ")\n",
    "y_agg_single = agg_single.fit_predict(X)\n",
    "\n",
    "sys.setrecursionlimit(1000)\n"
   ],
   "metadata": {
    "collapsed": false,
    "pycharm": {
     "name": "#%%\n"
    }
   }
  },
  {
   "cell_type": "code",
   "execution_count": null,
   "outputs": [],
   "source": [
    "print(np.unique(y_agg_single))\n",
    "# np.sum(y_agg_single[] == 0)\n",
    "print(y_agg_single)\n",
    "\n",
    "silhouette_values = silhouette_samples(\n",
    "        X,\n",
    "        y_agg_single,\n",
    "        metric='euclidean'\n",
    ")\n",
    "\n",
    "c_silhouette_values = silhouette_values[y_agg_single == 1]\n",
    "print(len(c_silhouette_values))"
   ],
   "metadata": {
    "collapsed": false,
    "pycharm": {
     "name": "#%%\n"
    }
   }
  },
  {
   "cell_type": "code",
   "execution_count": null,
   "outputs": [],
   "source": [
    "display_silhouette_plot(X_data=X, agg_labels=y_agg_single)\n"
   ],
   "metadata": {
    "collapsed": false,
    "pycharm": {
     "name": "#%%\n"
    }
   }
  },
  {
   "cell_type": "markdown",
   "source": [
    "## Complete linkage"
   ],
   "metadata": {
    "collapsed": false
   }
  },
  {
   "cell_type": "code",
   "execution_count": null,
   "outputs": [],
   "source": [
    "display_dendrogram(X, 'complete')"
   ],
   "metadata": {
    "collapsed": false,
    "pycharm": {
     "name": "#%%\n",
     "is_executing": true
    }
   }
  },
  {
   "cell_type": "code",
   "execution_count": null,
   "outputs": [],
   "source": [
    "agg_complete = AgglomerativeClustering(\n",
    "    n_clusters=5,\n",
    "    linkage='complete'\n",
    ")\n",
    "y_agg_complete = agg_complete.fit_predict(X)"
   ],
   "metadata": {
    "collapsed": false,
    "pycharm": {
     "name": "#%%\n"
    }
   }
  },
  {
   "cell_type": "code",
   "execution_count": null,
   "outputs": [],
   "source": [],
   "metadata": {
    "collapsed": false,
    "pycharm": {
     "name": "#%%\n"
    }
   }
  },
  {
   "cell_type": "code",
   "execution_count": null,
   "outputs": [],
   "source": [
    "display_silhouette_plot(X_data=X, agg_labels=y_agg_complete)\n"
   ],
   "metadata": {
    "collapsed": false,
    "pycharm": {
     "name": "#%%\n",
     "is_executing": true
    }
   }
  },
  {
   "cell_type": "code",
   "execution_count": null,
   "outputs": [],
   "source": [
    "# cluster_labels = np.unique(y_agg_ward)\n",
    "# n_clusters = cluster_labels.shape[0]\n",
    "silhouette_values = silhouette_samples(\n",
    "    X,\n",
    "    y_agg_complete,\n",
    "    metric='euclidean'\n",
    ")"
   ],
   "metadata": {
    "collapsed": false,
    "pycharm": {
     "name": "#%%\n"
    }
   }
  },
  {
   "cell_type": "markdown",
   "source": [
    "seek silhouette values at core and boundary"
   ],
   "metadata": {
    "collapsed": false
   }
  },
  {
   "cell_type": "code",
   "execution_count": null,
   "outputs": [],
   "source": [],
   "metadata": {
    "collapsed": false,
    "pycharm": {
     "name": "#%%\n"
    }
   }
  },
  {
   "cell_type": "markdown",
   "source": [
    "finding the actual samples that are core and boundary"
   ],
   "metadata": {
    "collapsed": false
   }
  },
  {
   "cell_type": "code",
   "execution_count": null,
   "outputs": [],
   "source": [
    "\n"
   ],
   "metadata": {
    "collapsed": false,
    "pycharm": {
     "name": "#%%\n"
    }
   }
  },
  {
   "cell_type": "code",
   "execution_count": null,
   "outputs": [],
   "source": [
    "indices_at_core_0 = get_core_indices(silhouette_values, y_agg_complete, core=0)\n",
    "print(indices_at_core_0)\n"
   ],
   "metadata": {
    "collapsed": false,
    "pycharm": {
     "name": "#%%\n"
    }
   }
  },
  {
   "cell_type": "code",
   "execution_count": null,
   "outputs": [],
   "source": [
    "\n",
    "display_images(images, indices_at_core_0)\n",
    "\n",
    "# display_images(images, boundary_indices)"
   ],
   "metadata": {
    "collapsed": false,
    "pycharm": {
     "name": "#%%\n"
    }
   }
  },
  {
   "cell_type": "code",
   "execution_count": null,
   "outputs": [],
   "source": [
    "indices_at_core_1 = get_core_indices(silhouette_values, y_agg_complete, core=1)\n",
    "print(indices_at_core_1)\n"
   ],
   "metadata": {
    "collapsed": false,
    "pycharm": {
     "name": "#%%\n"
    }
   }
  },
  {
   "cell_type": "code",
   "execution_count": null,
   "outputs": [],
   "source": [
    "display_images(images, indices_at_core_1)\n"
   ],
   "metadata": {
    "collapsed": false,
    "pycharm": {
     "name": "#%%\n"
    }
   }
  },
  {
   "cell_type": "code",
   "execution_count": null,
   "outputs": [],
   "source": [
    "indices_at_core_2 = get_core_indices(silhouette_values, y_agg_complete, core=2)\n",
    "print(indices_at_core_2)"
   ],
   "metadata": {
    "collapsed": false,
    "pycharm": {
     "name": "#%%\n"
    }
   }
  },
  {
   "cell_type": "code",
   "execution_count": null,
   "outputs": [],
   "source": [
    "display_images(images, indices_at_core_2)"
   ],
   "metadata": {
    "collapsed": false,
    "pycharm": {
     "name": "#%%\n"
    }
   }
  },
  {
   "cell_type": "code",
   "execution_count": null,
   "outputs": [],
   "source": [
    "indices_at_core_3 = get_core_indices(silhouette_values, y_agg_complete, core=3)\n",
    "print(indices_at_core_3)\n",
    "\n"
   ],
   "metadata": {
    "collapsed": false,
    "pycharm": {
     "name": "#%%\n"
    }
   }
  },
  {
   "cell_type": "code",
   "execution_count": null,
   "outputs": [],
   "source": [
    "display_images(images, indices_at_core_3)"
   ],
   "metadata": {
    "collapsed": false,
    "pycharm": {
     "name": "#%%\n"
    }
   }
  },
  {
   "cell_type": "code",
   "execution_count": null,
   "outputs": [],
   "source": [
    "indices_at_core_4 = get_core_indices(silhouette_values, y_agg_complete, core=4)\n",
    "print(indices_at_core_4)"
   ],
   "metadata": {
    "collapsed": false,
    "pycharm": {
     "name": "#%%\n"
    }
   }
  },
  {
   "cell_type": "code",
   "execution_count": null,
   "outputs": [],
   "source": [
    "display_images(images, indices_at_core_4)"
   ],
   "metadata": {
    "collapsed": false,
    "pycharm": {
     "name": "#%%\n"
    }
   }
  },
  {
   "cell_type": "code",
   "execution_count": null,
   "outputs": [],
   "source": [
    "indices_at_boundary_1 = get_boundary_indices(silhouette_values=silhouette_values, pred_labels=y_agg_complete, core=1)\n",
    "print(indices_at_boundary_1)"
   ],
   "metadata": {
    "collapsed": false,
    "pycharm": {
     "name": "#%%\n"
    }
   }
  },
  {
   "cell_type": "code",
   "execution_count": null,
   "outputs": [],
   "source": [
    "display_images(images, indices_at_boundary_1[5:10])\n"
   ],
   "metadata": {
    "collapsed": false,
    "pycharm": {
     "name": "#%%\n"
    }
   }
  },
  {
   "cell_type": "code",
   "execution_count": null,
   "outputs": [],
   "source": [
    "indices_at_boundary_0 = get_boundary_indices(silhouette_values=silhouette_values, pred_labels=y_agg_complete, core=0)\n",
    "print(indices_at_boundary_0)\n"
   ],
   "metadata": {
    "collapsed": false,
    "pycharm": {
     "name": "#%%\n"
    }
   }
  },
  {
   "cell_type": "code",
   "execution_count": null,
   "outputs": [],
   "source": [
    "display_images(images, indices_at_boundary_0[0:2])\n"
   ],
   "metadata": {
    "collapsed": false,
    "pycharm": {
     "name": "#%%\n"
    }
   }
  },
  {
   "cell_type": "code",
   "execution_count": null,
   "outputs": [],
   "source": [
    "indices_at_boundary_1 = get_boundary_indices(silhouette_values=silhouette_values, pred_labels=y_agg_complete, core=1)\n",
    "print(indices_at_boundary_1)\n"
   ],
   "metadata": {
    "collapsed": false,
    "pycharm": {
     "name": "#%%\n"
    }
   }
  },
  {
   "cell_type": "code",
   "execution_count": null,
   "outputs": [],
   "source": [
    "display_images(images, indices_at_boundary_1[0:5])"
   ],
   "metadata": {
    "collapsed": false,
    "pycharm": {
     "name": "#%%\n"
    }
   }
  },
  {
   "cell_type": "code",
   "execution_count": null,
   "outputs": [],
   "source": [
    "indices_at_boundary_3 = get_boundary_indices(silhouette_values=silhouette_values, pred_labels=y_agg_complete, core=3)\n",
    "print(indices_at_boundary_3)\n"
   ],
   "metadata": {
    "collapsed": false,
    "pycharm": {
     "name": "#%%\n"
    }
   }
  },
  {
   "cell_type": "code",
   "execution_count": null,
   "outputs": [],
   "source": [
    "display_images(images, indices_at_boundary_3[0:5])"
   ],
   "metadata": {
    "collapsed": false,
    "pycharm": {
     "name": "#%%\n"
    }
   }
  },
  {
   "cell_type": "code",
   "execution_count": null,
   "outputs": [],
   "source": [
    "indices_at_boundary_4 = get_boundary_indices(silhouette_values=silhouette_values, pred_labels=y_agg_complete, core=4)\n",
    "print(indices_at_boundary_4)\n"
   ],
   "metadata": {
    "collapsed": false,
    "pycharm": {
     "name": "#%%\n"
    }
   }
  },
  {
   "cell_type": "code",
   "execution_count": null,
   "outputs": [],
   "source": [
    "display_images(images, indices_at_boundary_4[0:5])"
   ],
   "metadata": {
    "collapsed": false,
    "pycharm": {
     "name": "#%%\n"
    }
   }
  },
  {
   "cell_type": "code",
   "execution_count": null,
   "outputs": [],
   "source": [
    "display_images(images, indices_at_boundary_4[5:10])"
   ],
   "metadata": {
    "collapsed": false,
    "pycharm": {
     "name": "#%%\n"
    }
   }
  },
  {
   "cell_type": "code",
   "execution_count": null,
   "outputs": [],
   "source": [],
   "metadata": {
    "collapsed": false,
    "pycharm": {
     "name": "#%%\n"
    }
   }
  }
 ],
 "metadata": {
  "kernelspec": {
   "display_name": "Python 3",
   "language": "python",
   "name": "python3"
  },
  "language_info": {
   "codemirror_mode": {
    "name": "ipython",
    "version": 2
   },
   "file_extension": ".py",
   "mimetype": "text/x-python",
   "name": "python",
   "nbconvert_exporter": "python",
   "pygments_lexer": "ipython2",
   "version": "2.7.6"
  }
 },
 "nbformat": 4,
 "nbformat_minor": 0
}
{
 "cells": [
  {
   "cell_type": "code",
   "execution_count": null,
   "metadata": {
    "collapsed": true
   },
   "outputs": [],
   "source": [
    "import numpy as np\n",
    "import pandas as pd\n",
    "from matplotlib import pyplot as plt, cm\n",
    "from sklearn.cluster import KMeans, AgglomerativeClustering\n",
    "from sklearn.metrics import silhouette_samples\n",
    "from sklearn.model_selection import GridSearchCV\n",
    "from yellowbrick.cluster import silhouette_visualizer\n",
    "from scipy.cluster.hierarchy import dendrogram, ward, linkage\n",
    "from sklearn.metrics.cluster import adjusted_rand_score"
   ]
  },
  {
   "cell_type": "code",
   "execution_count": null,
   "outputs": [],
   "source": [
    "X = pd.read_csv(\"./dataset/X.csv\").values\n",
    "y = pd.read_csv(\"./dataset/y.csv\").values\n",
    "images = pd.read_csv(\"./dataset/images.csv\").values"
   ],
   "metadata": {
    "collapsed": false,
    "pycharm": {
     "name": "#%%\n"
    }
   }
  },
  {
   "cell_type": "code",
   "execution_count": null,
   "outputs": [],
   "source": [],
   "metadata": {
    "collapsed": false,
    "pycharm": {
     "name": "#%%\n"
    }
   }
  },
  {
   "cell_type": "code",
   "execution_count": null,
   "outputs": [],
   "source": [
    "km_final = KMeans(\n",
    "    n_clusters=5,\n",
    "    init='k-means++'\n",
    ")\n",
    "y_km = km_final.fit_predict(X)"
   ],
   "metadata": {
    "collapsed": false,
    "pycharm": {
     "name": "#%%\n"
    }
   }
  },
  {
   "cell_type": "code",
   "execution_count": null,
   "outputs": [],
   "source": [
    "\n",
    "agg_complete = AgglomerativeClustering(\n",
    "    n_clusters=5,\n",
    "    linkage='complete'\n",
    ")\n",
    "y_agg_complete = agg_complete.fit_predict(X)"
   ],
   "metadata": {
    "collapsed": false,
    "pycharm": {
     "name": "#%%\n"
    }
   }
  },
  {
   "cell_type": "code",
   "execution_count": null,
   "outputs": [],
   "source": [
    "\n",
    "agg_ward = AgglomerativeClustering(\n",
    "    n_clusters=5,\n",
    "    linkage='ward'\n",
    ")\n",
    "y_agg_ward = agg_ward.fit_predict(X)"
   ],
   "metadata": {
    "collapsed": false,
    "pycharm": {
     "name": "#%%\n"
    }
   }
  },
  {
   "cell_type": "code",
   "execution_count": null,
   "outputs": [],
   "source": [
    "print(y.flatten())\n",
    "print(y_km)\n",
    "print(y_agg_complete)\n",
    "\n",
    "ari_km = adjusted_rand_score(y.flatten(), y_km)\n",
    "ari_agg = adjusted_rand_score(y.flatten(), y_agg_complete)\n",
    "ari_agg_ward = adjusted_rand_score(y.flatten(), y_agg_ward)\n",
    "\n",
    "print(f'KM ari {ari_km}')\n",
    "print(f'Agg ari {ari_agg}')\n",
    "print(f'Agg ari ward {ari_agg_ward}')"
   ],
   "metadata": {
    "collapsed": false,
    "pycharm": {
     "name": "#%%\n"
    }
   }
  },
  {
   "cell_type": "code",
   "execution_count": null,
   "outputs": [],
   "source": [],
   "metadata": {
    "collapsed": false,
    "pycharm": {
     "name": "#%%\n"
    }
   }
  }
 ],
 "metadata": {
  "kernelspec": {
   "display_name": "Python 3",
   "language": "python",
   "name": "python3"
  },
  "language_info": {
   "codemirror_mode": {
    "name": "ipython",
    "version": 2
   },
   "file_extension": ".py",
   "mimetype": "text/x-python",
   "name": "python",
   "nbconvert_exporter": "python",
   "pygments_lexer": "ipython2",
   "version": "2.7.6"
  }
 },
 "nbformat": 4,
 "nbformat_minor": 0
}
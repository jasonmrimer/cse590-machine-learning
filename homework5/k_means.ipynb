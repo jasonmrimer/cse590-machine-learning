{
 "cells": [
  {
   "cell_type": "code",
   "execution_count": null,
   "metadata": {
    "collapsed": true
   },
   "outputs": [],
   "source": [
    "import numpy as np\n",
    "import pandas as pd\n",
    "from matplotlib import pyplot as plt, cm\n",
    "from sklearn.cluster import KMeans\n",
    "from sklearn.metrics import silhouette_samples\n",
    "from sklearn.model_selection import GridSearchCV\n",
    "from yellowbrick.cluster import silhouette_visualizer"
   ]
  },
  {
   "cell_type": "code",
   "execution_count": null,
   "outputs": [],
   "source": [
    "X = pd.read_csv(\"./dataset/X.csv\").values\n",
    "y = pd.read_csv(\"./dataset/y.csv\").values\n",
    "images = pd.read_csv(\"./dataset/images.csv\").values\n"
   ],
   "metadata": {
    "collapsed": false,
    "pycharm": {
     "name": "#%%\n"
    }
   }
  },
  {
   "cell_type": "code",
   "execution_count": null,
   "outputs": [],
   "source": [
    "def shape_parameters(n_clusters):\n",
    "    return dict(n_clusters=n_clusters)\n",
    "\n",
    "\n",
    "def run_grid_kmeans(hyper_parameters, X_data):\n",
    "    clusterer = KMeans()\n",
    "    grid_search = GridSearchCV(\n",
    "        estimator=clusterer,\n",
    "        param_grid=hyper_parameters,\n",
    "        cv=2\n",
    "    )\n",
    "    grid_search.fit(X_data)\n",
    "\n",
    "    return grid_search\n",
    "\n",
    "\n",
    "def index_from_value(value_list_primary, value_list_refined):\n",
    "    indices = []\n",
    "    for val in value_list_refined:\n",
    "        indices.append(np.where(value_list_primary == val)[0][0])\n",
    "    return indices\n",
    "\n",
    "\n",
    "def get_core_indices(silhouette_values, pred_labels, core):\n",
    "    core_silhouettes = silhouette_values[pred_labels == core]\n",
    "    core_silhouettes = np.sort(core_silhouettes)[::-1][0:5]\n",
    "    return index_from_value(silhouette_values, core_silhouettes)\n",
    "\n",
    "\n",
    "def get_boundary_indices(silhouette_values, pred_labels, core):\n",
    "    core_silhouettes = silhouette_values[pred_labels == core]\n",
    "    boundary_silhouettes = list(filter(lambda _silhouette: -.001 < _silhouette < 0.001, core_silhouettes))\n",
    "    return index_from_value(silhouette_values, boundary_silhouettes)\n"
   ],
   "metadata": {
    "collapsed": false,
    "pycharm": {
     "name": "#%%\n"
    }
   }
  },
  {
   "cell_type": "code",
   "execution_count": null,
   "outputs": [],
   "source": [
    "\n",
    "kmeans_params = shape_parameters(\n",
    "    n_clusters=range(2, 4)\n",
    ")\n",
    "grid_results = run_grid_kmeans(kmeans_params, X)\n"
   ],
   "metadata": {
    "collapsed": false,
    "pycharm": {
     "name": "#%%\n"
    }
   }
  },
  {
   "cell_type": "code",
   "execution_count": null,
   "outputs": [],
   "source": [
    "labels = grid_results.predict(X)\n",
    "print(grid_results.best_params_)\n",
    "print(grid_results.get_params())\n"
   ],
   "metadata": {
    "collapsed": false,
    "pycharm": {
     "name": "#%%\n"
    }
   }
  },
  {
   "cell_type": "code",
   "execution_count": null,
   "outputs": [],
   "source": [
    "distortions = []\n",
    "for i in range(2, 20):\n",
    "    km = KMeans(n_clusters=i, init='k-means++')\n",
    "    km.fit(X)\n",
    "    distortions.append(km.inertia_)\n",
    "\n",
    "plt.plot(range(2, 20), distortions, marker='o')\n",
    "plt.show()"
   ],
   "metadata": {
    "collapsed": false,
    "pycharm": {
     "name": "#%%\n"
    }
   }
  },
  {
   "cell_type": "markdown",
   "source": [
    "silhouette"
   ],
   "metadata": {
    "collapsed": false
   }
  },
  {
   "cell_type": "code",
   "execution_count": null,
   "outputs": [],
   "source": [
    "km_final = KMeans(\n",
    "    n_clusters=5,\n",
    "    init='k-means++'\n",
    ")\n",
    "y_km = km_final.fit_predict(X)\n"
   ],
   "metadata": {
    "collapsed": false,
    "pycharm": {
     "name": "#%%\n"
    }
   }
  },
  {
   "cell_type": "code",
   "execution_count": null,
   "outputs": [],
   "source": [
    "\n",
    "cluster_labels = np.unique(y_km)\n",
    "n_clusters = cluster_labels.shape[0]\n",
    "silhouette_values = silhouette_samples(\n",
    "    X,\n",
    "    y_km,\n",
    "    metric='euclidean'\n",
    ")\n",
    "y_ax_lower, y_ax_upper = 0, 0\n",
    "yticks = []\n",
    "for i, c in enumerate(cluster_labels):\n",
    "    c_silhouette_values = silhouette_values[y_km == c]\n",
    "    c_silhouette_values.sort()\n",
    "    y_ax_upper += len(c_silhouette_values)\n",
    "    color = cm.jet(float(i) / n_clusters)\n",
    "    plt.barh(\n",
    "        range(y_ax_lower, y_ax_upper),\n",
    "        c_silhouette_values,\n",
    "        height=1.0,\n",
    "        edgecolor='none',\n",
    "        color=color\n",
    "    )\n",
    "\n",
    "yticks.append((y_ax_lower + y_ax_upper) / 2.)\n",
    "y_ax_lower += len(silhouette_values)\n",
    "silhouette_average = np.mean(silhouette_values)\n",
    "plt.axvline(silhouette_average, color='red', linestyle='--')\n",
    "plt.yticks(yticks, cluster_labels + 1)\n",
    "plt.ylabel('Cluster')\n",
    "plt.xlabel('Silhouette Coefficient')\n",
    "plt.tight_layout()\n",
    "plt.show()\n"
   ],
   "metadata": {
    "collapsed": false,
    "pycharm": {
     "name": "#%%\n"
    }
   }
  },
  {
   "cell_type": "code",
   "execution_count": null,
   "outputs": [],
   "source": [
    "silhouette_visualizer(KMeans(5, random_state=42), X, colors='yellowbrick')\n"
   ],
   "metadata": {
    "collapsed": false,
    "pycharm": {
     "name": "#%%\n"
    }
   }
  },
  {
   "cell_type": "code",
   "execution_count": null,
   "outputs": [],
   "source": [
    "silhouette_visualizer(KMeans(10, random_state=42), X, colors='yellowbrick')"
   ],
   "metadata": {
    "collapsed": false,
    "pycharm": {
     "name": "#%%\n"
    }
   }
  },
  {
   "cell_type": "code",
   "execution_count": null,
   "outputs": [],
   "source": [
    "cluster_labels = np.unique(y_km)\n",
    "n_clusters = cluster_labels.shape[0]\n",
    "silhouette_values = silhouette_samples(\n",
    "    X,\n",
    "    y_km,\n",
    "    metric='euclidean'\n",
    ")"
   ],
   "metadata": {
    "collapsed": false,
    "pycharm": {
     "name": "#%%\n"
    }
   }
  },
  {
   "cell_type": "markdown",
   "source": [
    "seek silhouette values at core and boundary"
   ],
   "metadata": {
    "collapsed": false
   }
  },
  {
   "cell_type": "code",
   "execution_count": null,
   "outputs": [],
   "source": [
    "core_silhouettes = np.sort(silhouette_values)[::-1][0:5]\n",
    "print(core_silhouettes)\n",
    "\n",
    "boundary_silhouettes = list(filter(lambda _silhouette: -.0001 < _silhouette < 0.0001, silhouette_values))\n",
    "print(boundary_silhouettes)"
   ],
   "metadata": {
    "collapsed": false,
    "pycharm": {
     "name": "#%%\n"
    }
   }
  },
  {
   "cell_type": "markdown",
   "source": [
    "finding the actual samples that are core and boundary"
   ],
   "metadata": {
    "collapsed": false
   }
  },
  {
   "cell_type": "code",
   "execution_count": null,
   "outputs": [],
   "source": [
    "core_indices = []\n",
    "for silhouette in core_silhouettes:\n",
    "    core_indices.append(np.where(silhouette_values == silhouette)[0][0])\n",
    "\n",
    "print(core_indices)\n",
    "\n",
    "boundary_indices = []\n",
    "for silhouette in boundary_silhouettes:\n",
    "    boundary_indices.append(np.where(silhouette_values == silhouette)[0][0])\n",
    "\n",
    "print(boundary_indices)"
   ],
   "metadata": {
    "collapsed": false,
    "pycharm": {
     "name": "#%%\n"
    }
   }
  },
  {
   "cell_type": "code",
   "execution_count": null,
   "outputs": [],
   "source": [
    "def display_images(image_collection, image_indices):\n",
    "    fig, axes = plt.subplots(ncols=len(image_indices))\n",
    "    for i in range(0, len(image_indices)):\n",
    "        ax = axes[i]\n",
    "        ax.imshow(image_collection[image_indices[i]].reshape(32, 32, 3))\n",
    "        for spine in ax.spines.values():\n",
    "            spine.set_visible(False)\n",
    "        ax.tick_params(\n",
    "            bottom=False, labelbottom=False,\n",
    "            left=False, labelleft=False\n",
    "        )\n",
    "        ax.grid(False)\n",
    "    plt.show()\n",
    "\n",
    "\n",
    "display_images(images, core_indices)\n",
    "display_images(images, boundary_indices)"
   ],
   "metadata": {
    "collapsed": false,
    "pycharm": {
     "name": "#%%\n",
     "is_executing": true
    }
   }
  },
  {
   "cell_type": "code",
   "execution_count": null,
   "outputs": [],
   "source": [
    "silhouette_values = silhouette_samples(\n",
    "    X,\n",
    "    y_km,\n",
    "    metric='euclidean'\n",
    ")\n"
   ],
   "metadata": {
    "collapsed": false,
    "pycharm": {
     "name": "#%%\n"
    }
   }
  },
  {
   "cell_type": "code",
   "execution_count": null,
   "outputs": [],
   "source": [
    "indices_at_core_0 = get_core_indices(silhouette_values, y_km, core=0)\n",
    "print(indices_at_core_0)"
   ],
   "metadata": {
    "collapsed": false,
    "pycharm": {
     "name": "#%%\n"
    }
   }
  },
  {
   "cell_type": "code",
   "execution_count": null,
   "outputs": [],
   "source": [
    "\n",
    "display_images(images, indices_at_core_0)"
   ],
   "metadata": {
    "collapsed": false,
    "pycharm": {
     "name": "#%%\n"
    }
   }
  },
  {
   "cell_type": "code",
   "execution_count": null,
   "outputs": [],
   "source": [
    "indices_at_core_1 = get_core_indices(silhouette_values, y_km, core=1)\n",
    "print(indices_at_core_1)"
   ],
   "metadata": {
    "collapsed": false,
    "pycharm": {
     "name": "#%%\n"
    }
   }
  },
  {
   "cell_type": "code",
   "execution_count": null,
   "outputs": [],
   "source": [
    "\n",
    "display_images(images, indices_at_core_1)"
   ],
   "metadata": {
    "collapsed": false,
    "pycharm": {
     "name": "#%%\n"
    }
   }
  },
  {
   "cell_type": "code",
   "execution_count": null,
   "outputs": [],
   "source": [
    "\n",
    "indices_at_core_2 = get_core_indices(silhouette_values, y_km, core=2)\n",
    "print(indices_at_core_2)"
   ],
   "metadata": {
    "collapsed": false,
    "pycharm": {
     "name": "#%%\n"
    }
   }
  },
  {
   "cell_type": "code",
   "execution_count": null,
   "outputs": [],
   "source": [
    "\n",
    "display_images(images, indices_at_core_2)"
   ],
   "metadata": {
    "collapsed": false,
    "pycharm": {
     "name": "#%%\n"
    }
   }
  },
  {
   "cell_type": "code",
   "execution_count": null,
   "outputs": [],
   "source": [
    "\n",
    "indices_at_core_3 = get_core_indices(silhouette_values, y_km, core=3)\n",
    "print(indices_at_core_3)"
   ],
   "metadata": {
    "collapsed": false,
    "pycharm": {
     "name": "#%%\n"
    }
   }
  },
  {
   "cell_type": "code",
   "execution_count": null,
   "outputs": [],
   "source": [
    "\n",
    "display_images(images, indices_at_core_3)"
   ],
   "metadata": {
    "collapsed": false,
    "pycharm": {
     "name": "#%%\n"
    }
   }
  },
  {
   "cell_type": "code",
   "execution_count": null,
   "outputs": [],
   "source": [
    "\n",
    "indices_at_core_4 = get_core_indices(silhouette_values, y_km, core=4)\n",
    "print(indices_at_core_4)"
   ],
   "metadata": {
    "collapsed": false,
    "pycharm": {
     "name": "#%%\n"
    }
   }
  },
  {
   "cell_type": "code",
   "execution_count": null,
   "outputs": [],
   "source": [
    "\n",
    "display_images(images, indices_at_core_4)"
   ],
   "metadata": {
    "collapsed": false,
    "pycharm": {
     "name": "#%%\n"
    }
   }
  },
  {
   "cell_type": "code",
   "execution_count": null,
   "outputs": [],
   "source": [
    "indices_at_boundary_1 = get_boundary_indices(silhouette_values=silhouette_values, pred_labels=y_km, core=1)\n",
    "print(indices_at_boundary_1)"
   ],
   "metadata": {
    "collapsed": false,
    "pycharm": {
     "name": "#%%\n"
    }
   }
  },
  {
   "cell_type": "code",
   "execution_count": null,
   "outputs": [],
   "source": [
    "\n",
    "display_images(images, indices_at_boundary_1[0:2])"
   ],
   "metadata": {
    "collapsed": false,
    "pycharm": {
     "name": "#%%\n"
    }
   }
  },
  {
   "cell_type": "code",
   "execution_count": null,
   "outputs": [],
   "source": [],
   "metadata": {
    "collapsed": false,
    "pycharm": {
     "name": "#%%\n"
    }
   }
  }
 ],
 "metadata": {
  "kernelspec": {
   "display_name": "Python 3",
   "language": "python",
   "name": "python3"
  },
  "language_info": {
   "codemirror_mode": {
    "name": "ipython",
    "version": 2
   },
   "file_extension": ".py",
   "mimetype": "text/x-python",
   "name": "python",
   "nbconvert_exporter": "python",
   "pygments_lexer": "ipython2",
   "version": "2.7.6"
  }
 },
 "nbformat": 4,
 "nbformat_minor": 0
}
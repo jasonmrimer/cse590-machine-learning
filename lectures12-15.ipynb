{
 "cells": [
  {
   "cell_type": "code",
   "execution_count": 17,
   "metadata": {
    "collapsed": true
   },
   "outputs": [
    {
     "name": "stdout",
     "output_type": "stream",
     "text": [
      "Requirement already satisfied: numpy in ./venv/lib/python3.9/site-packages (1.22.1)\r\n",
      "Requirement already satisfied: scipy in ./venv/lib/python3.9/site-packages (1.7.3)\r\n",
      "Requirement already satisfied: scikit-learn in ./venv/lib/python3.9/site-packages (1.0.2)\r\n",
      "Requirement already satisfied: matplotlib in ./venv/lib/python3.9/site-packages (3.5.1)\r\n",
      "Requirement already satisfied: pandas in ./venv/lib/python3.9/site-packages (1.4.0)\r\n",
      "Requirement already satisfied: joblib>=0.11 in ./venv/lib/python3.9/site-packages (from scikit-learn) (1.1.0)\r\n",
      "Requirement already satisfied: threadpoolctl>=2.0.0 in ./venv/lib/python3.9/site-packages (from scikit-learn) (3.0.0)\r\n",
      "Requirement already satisfied: pillow>=6.2.0 in ./venv/lib/python3.9/site-packages (from matplotlib) (9.0.0)\r\n",
      "Requirement already satisfied: pyparsing>=2.2.1 in ./venv/lib/python3.9/site-packages (from matplotlib) (3.0.7)\r\n",
      "Requirement already satisfied: cycler>=0.10 in ./venv/lib/python3.9/site-packages (from matplotlib) (0.11.0)\r\n",
      "Requirement already satisfied: python-dateutil>=2.7 in ./venv/lib/python3.9/site-packages (from matplotlib) (2.8.2)\r\n",
      "Requirement already satisfied: packaging>=20.0 in ./venv/lib/python3.9/site-packages (from matplotlib) (21.3)\r\n",
      "Requirement already satisfied: kiwisolver>=1.0.1 in ./venv/lib/python3.9/site-packages (from matplotlib) (1.3.2)\r\n",
      "Requirement already satisfied: fonttools>=4.22.0 in ./venv/lib/python3.9/site-packages (from matplotlib) (4.29.0)\r\n",
      "Requirement already satisfied: pytz>=2020.1 in ./venv/lib/python3.9/site-packages (from pandas) (2021.3)\r\n",
      "Requirement already satisfied: six>=1.5 in ./venv/lib/python3.9/site-packages (from python-dateutil>=2.7->matplotlib) (1.16.0)\r\n",
      "\u001B[33mWARNING: You are using pip version 21.3.1; however, version 22.0.3 is available.\r\n",
      "You should consider upgrading via the '/Users/engineer/workspace/cse590-machine-learning/venv/bin/python -m pip install --upgrade pip' command.\u001B[0m\r\n"
     ]
    }
   ],
   "source": [
    "import mglearn as mglearn\n",
    "import np as np\n",
    "import pandas as pd\n",
    "import numpy as np\n",
    "import matplotlib.pyplot as plt\n",
    "import math\n",
    "from sklearn.svm import LinearSVC\n",
    "from sklearn.linear_model import LogisticRegression\n",
    "from sklearn.model_selection import cross_val_score\n",
    "\n",
    "!pip install numpy scipy scikit-learn matplotlib pandas\n",
    "from sklearn.model_selection import GridSearchCV"
   ]
  },
  {
   "cell_type": "markdown",
   "source": [
    "class example"
   ],
   "metadata": {
    "collapsed": false,
    "pycharm": {
     "name": "#%% md\n"
    }
   }
  },
  {
   "cell_type": "code",
   "execution_count": 18,
   "outputs": [
    {
     "data": {
      "text/plain": "array([1])"
     },
     "execution_count": 18,
     "metadata": {},
     "output_type": "execute_result"
    }
   ],
   "source": [
    "from sklearn import datasets\n",
    "from sklearn.naive_bayes import GaussianNB\n",
    "\n",
    "iris_dataset = datasets.load_iris()\n",
    "features = iris_dataset.data\n",
    "target = iris_dataset.target\n",
    "classifier = GaussianNB()\n",
    "\n",
    "model=classifier.fit(features, target)\n",
    "new_observation = [[4, 4, 4, 0.4]]\n",
    "model.predict(new_observation)\n",
    "# array([1])"
   ],
   "metadata": {
    "collapsed": false,
    "pycharm": {
     "name": "#%%\n"
    }
   }
  },
  {
   "cell_type": "markdown",
   "source": [
    "lecture 14 decision tree"
   ],
   "metadata": {
    "collapsed": false,
    "pycharm": {
     "name": "#%% md\n"
    }
   }
  },
  {
   "cell_type": "code",
   "execution_count": 19,
   "outputs": [
    {
     "ename": "ValueError",
     "evalue": "Filler values must be provided when X has more than 2 training features.",
     "output_type": "error",
     "traceback": [
      "\u001B[0;31m---------------------------------------------------------------------------\u001B[0m",
      "\u001B[0;31mValueError\u001B[0m                                Traceback (most recent call last)",
      "Input \u001B[0;32mIn [19]\u001B[0m, in \u001B[0;36m<module>\u001B[0;34m\u001B[0m\n\u001B[1;32m     17\u001B[0m X_combined \u001B[38;5;241m=\u001B[39m np\u001B[38;5;241m.\u001B[39mvstack((X_train, X_test))\n\u001B[1;32m     18\u001B[0m y_combined \u001B[38;5;241m=\u001B[39m np\u001B[38;5;241m.\u001B[39mhstack((y_train, y_test))\n\u001B[0;32m---> 19\u001B[0m \u001B[43mplot_decision_regions\u001B[49m\u001B[43m(\u001B[49m\n\u001B[1;32m     20\u001B[0m \u001B[43m    \u001B[49m\u001B[43mX_combined\u001B[49m\u001B[43m,\u001B[49m\n\u001B[1;32m     21\u001B[0m \u001B[43m    \u001B[49m\u001B[43my_combined\u001B[49m\u001B[43m,\u001B[49m\n\u001B[1;32m     22\u001B[0m \u001B[43m    \u001B[49m\u001B[43mclf\u001B[49m\u001B[38;5;241;43m=\u001B[39;49m\u001B[43mtree_model\u001B[49m\u001B[43m,\u001B[49m\n\u001B[1;32m     23\u001B[0m \u001B[43m    \u001B[49m\u001B[38;5;66;43;03m# filler_feature_values=range(105,150)\u001B[39;49;00m\n\u001B[1;32m     24\u001B[0m \u001B[43m)\u001B[49m\n\u001B[1;32m     26\u001B[0m plt\u001B[38;5;241m.\u001B[39mxlabel(\u001B[38;5;124m'\u001B[39m\u001B[38;5;124mpetal length\u001B[39m\u001B[38;5;124m'\u001B[39m)\n\u001B[1;32m     27\u001B[0m plt\u001B[38;5;241m.\u001B[39mylabel(\u001B[38;5;124m'\u001B[39m\u001B[38;5;124mpetal width\u001B[39m\u001B[38;5;124m'\u001B[39m)\n",
      "File \u001B[0;32m~/workspace/cse590-machine-learning/venv/lib/python3.9/site-packages/mlxtend/plotting/decision_regions.py:177\u001B[0m, in \u001B[0;36mplot_decision_regions\u001B[0;34m(X, y, clf, feature_index, filler_feature_values, filler_feature_ranges, ax, X_highlight, zoom_factor, legend, hide_spines, markers, colors, scatter_kwargs, contourf_kwargs, scatter_highlight_kwargs)\u001B[0m\n\u001B[1;32m    175\u001B[0m \u001B[38;5;28;01mif\u001B[39;00m dim \u001B[38;5;241m>\u001B[39m \u001B[38;5;241m2\u001B[39m:\n\u001B[1;32m    176\u001B[0m     \u001B[38;5;28;01mif\u001B[39;00m filler_feature_values \u001B[38;5;129;01mis\u001B[39;00m \u001B[38;5;28;01mNone\u001B[39;00m:\n\u001B[0;32m--> 177\u001B[0m         \u001B[38;5;28;01mraise\u001B[39;00m \u001B[38;5;167;01mValueError\u001B[39;00m(\u001B[38;5;124m'\u001B[39m\u001B[38;5;124mFiller values must be provided when \u001B[39m\u001B[38;5;124m'\u001B[39m\n\u001B[1;32m    178\u001B[0m                          \u001B[38;5;124m'\u001B[39m\u001B[38;5;124mX has more than 2 training features.\u001B[39m\u001B[38;5;124m'\u001B[39m)\n\u001B[1;32m    180\u001B[0m     \u001B[38;5;28;01mif\u001B[39;00m filler_feature_ranges \u001B[38;5;129;01mis\u001B[39;00m \u001B[38;5;129;01mnot\u001B[39;00m \u001B[38;5;28;01mNone\u001B[39;00m:\n\u001B[1;32m    181\u001B[0m         \u001B[38;5;28;01mif\u001B[39;00m \u001B[38;5;129;01mnot\u001B[39;00m \u001B[38;5;28mset\u001B[39m(filler_feature_values) \u001B[38;5;241m==\u001B[39m \u001B[38;5;28mset\u001B[39m(filler_feature_ranges):\n",
      "\u001B[0;31mValueError\u001B[0m: Filler values must be provided when X has more than 2 training features."
     ]
    },
    {
     "data": {
      "text/plain": "<Figure size 432x288 with 1 Axes>",
      "image/png": "[encoded data removed]"
     },
     "metadata": {
      "needs_background": "light"
     },
     "output_type": "display_data"
    }
   ],
   "source": [
    "from mlxtend.plotting import plot_decision_regions\n",
    "from sklearn.tree import DecisionTreeClassifier\n",
    "from sklearn.model_selection import train_test_split\n",
    "\n",
    "iris_dataset = datasets.load_iris()\n",
    "\n",
    "X_train, X_test, y_train, y_test = train_test_split(\n",
    "    iris_dataset['data'], iris_dataset['target'], random_state=0\n",
    ")\n",
    "\n",
    "tree_model = DecisionTreeClassifier(\n",
    "    criterion='gini',\n",
    "    max_depth=4,\n",
    "    random_state=1\n",
    ")\n",
    "tree_model.fit(X_train, y_train)\n",
    "X_combined = np.vstack((X_train, X_test))\n",
    "y_combined = np.hstack((y_train, y_test))\n",
    "plot_decision_regions(\n",
    "    X_combined,\n",
    "    y_combined,\n",
    "    clf=tree_model,\n",
    "    # filler_feature_values=range(105,150)\n",
    ")\n",
    "\n",
    "plt.xlabel('petal length')\n",
    "plt.ylabel('petal width')\n",
    "plt.legend(loc='upper left')\n",
    "plt.tight_layout()\n",
    "plt.show()"
   ],
   "metadata": {
    "collapsed": false,
    "pycharm": {
     "name": "#%%\n"
    }
   }
  },
  {
   "cell_type": "code",
   "execution_count": null,
   "outputs": [],
   "source": [],
   "metadata": {
    "collapsed": false,
    "pycharm": {
     "name": "#%%\n"
    }
   }
  },
  {
   "cell_type": "markdown",
   "source": [
    "Breast Cancer"
   ],
   "metadata": {
    "collapsed": false,
    "pycharm": {
     "name": "#%% md\n"
    }
   }
  },
  {
   "cell_type": "code",
   "execution_count": 22,
   "outputs": [
    {
     "name": "stdout",
     "output_type": "stream",
     "text": [
      "Accuracy training: {:.3f} 0.9882629107981221\n",
      "Accuracy test: {:.3f} 0.951048951048951\n"
     ]
    },
    {
     "data": {
      "text/plain": "[Text(0.5735294117647058, 0.9, 'X[20] <= 16.795\\ngini = 0.468\\nsamples = 426\\nvalue = [159, 267]'),\n Text(0.3235294117647059, 0.7, 'X[27] <= 0.136\\ngini = 0.161\\nsamples = 284\\nvalue = [25, 259]'),\n Text(0.17647058823529413, 0.5, 'X[10] <= 1.048\\ngini = 0.031\\nsamples = 252\\nvalue = [4, 248]'),\n Text(0.11764705882352941, 0.3, 'X[14] <= 0.003\\ngini = 0.024\\nsamples = 251\\nvalue = [3, 248]'),\n Text(0.058823529411764705, 0.1, 'gini = 0.375\\nsamples = 4\\nvalue = [1, 3]'),\n Text(0.17647058823529413, 0.1, 'gini = 0.016\\nsamples = 247\\nvalue = [2, 245]'),\n Text(0.23529411764705882, 0.3, 'gini = 0.0\\nsamples = 1\\nvalue = [1, 0]'),\n Text(0.47058823529411764, 0.5, 'X[21] <= 25.62\\ngini = 0.451\\nsamples = 32\\nvalue = [21, 11]'),\n Text(0.35294117647058826, 0.3, 'X[24] <= 0.179\\ngini = 0.375\\nsamples = 12\\nvalue = [3, 9]'),\n Text(0.29411764705882354, 0.1, 'gini = 0.18\\nsamples = 10\\nvalue = [1, 9]'),\n Text(0.4117647058823529, 0.1, 'gini = 0.0\\nsamples = 2\\nvalue = [2, 0]'),\n Text(0.5882352941176471, 0.3, 'X[28] <= 0.268\\ngini = 0.18\\nsamples = 20\\nvalue = [18, 2]'),\n Text(0.5294117647058824, 0.1, 'gini = 0.444\\nsamples = 3\\nvalue = [1, 2]'),\n Text(0.6470588235294118, 0.1, 'gini = 0.0\\nsamples = 17\\nvalue = [17, 0]'),\n Text(0.8235294117647058, 0.7, 'X[11] <= 0.473\\ngini = 0.106\\nsamples = 142\\nvalue = [134, 8]'),\n Text(0.7647058823529411, 0.5, 'gini = 0.0\\nsamples = 5\\nvalue = [0, 5]'),\n Text(0.8823529411764706, 0.5, 'X[26] <= 0.191\\ngini = 0.043\\nsamples = 137\\nvalue = [134, 3]'),\n Text(0.8235294117647058, 0.3, 'X[21] <= 30.975\\ngini = 0.48\\nsamples = 5\\nvalue = [2, 3]'),\n Text(0.7647058823529411, 0.1, 'gini = 0.0\\nsamples = 3\\nvalue = [0, 3]'),\n Text(0.8823529411764706, 0.1, 'gini = 0.0\\nsamples = 2\\nvalue = [2, 0]'),\n Text(0.9411764705882353, 0.3, 'gini = 0.0\\nsamples = 132\\nvalue = [132, 0]')]"
     },
     "execution_count": 22,
     "metadata": {},
     "output_type": "execute_result"
    },
    {
     "data": {
      "text/plain": "<Figure size 432x288 with 1 Axes>",
      "image/png": "[encoded data removed]"
     },
     "metadata": {
      "needs_background": "light"
     },
     "output_type": "display_data"
    }
   ],
   "source": [
    "from sklearn.tree import DecisionTreeClassifier, plot_tree\n",
    "\n",
    "cancer_dataset = datasets.load_breast_cancer()\n",
    "X_train, X_test, y_train, y_test = train_test_split(\n",
    "    cancer_dataset.data,\n",
    "    cancer_dataset.target,\n",
    "    stratify=cancer_dataset.target,\n",
    "    random_state=42\n",
    ")\n",
    "tree_clf = DecisionTreeClassifier(max_depth=4, random_state=0)\n",
    "tree_clf.fit(X_train, y_train)\n",
    "print(\"Accuracy training: {:.3f}\",format(tree_clf.score(X_train, y_train)))\n",
    "print(\"Accuracy test: {:.3f}\",format(tree_clf.score(X_test, y_test)))\n",
    "\n",
    "plot_tree(tree_clf)"
   ],
   "metadata": {
    "collapsed": false,
    "pycharm": {
     "name": "#%%\n"
    }
   }
  },
  {
   "cell_type": "markdown",
   "source": [],
   "metadata": {
    "collapsed": false,
    "pycharm": {
     "name": "#%% md\n"
    }
   }
  },
  {
   "cell_type": "code",
   "execution_count": 21,
   "outputs": [
    {
     "ename": "ExecutableNotFound",
     "evalue": "failed to execute PosixPath('dot'), make sure the Graphviz executables are on your systems' PATH",
     "output_type": "error",
     "traceback": [
      "\u001B[0;31m---------------------------------------------------------------------------\u001B[0m",
      "\u001B[0;31mFileNotFoundError\u001B[0m                         Traceback (most recent call last)",
      "File \u001B[0;32m~/workspace/cse590-machine-learning/venv/lib/python3.9/site-packages/graphviz/backend/execute.py:83\u001B[0m, in \u001B[0;36mrun_check\u001B[0;34m(cmd, input_lines, encoding, capture_output, quiet, **kwargs)\u001B[0m\n\u001B[1;32m     82\u001B[0m     \u001B[38;5;28;01massert\u001B[39;00m \u001B[38;5;28miter\u001B[39m(input_lines) \u001B[38;5;129;01mis\u001B[39;00m input_lines\n\u001B[0;32m---> 83\u001B[0m     proc \u001B[38;5;241m=\u001B[39m \u001B[43m_run_input_lines\u001B[49m\u001B[43m(\u001B[49m\u001B[43mcmd\u001B[49m\u001B[43m,\u001B[49m\u001B[43m \u001B[49m\u001B[43minput_lines\u001B[49m\u001B[43m,\u001B[49m\u001B[43m \u001B[49m\u001B[43mkwargs\u001B[49m\u001B[38;5;241;43m=\u001B[39;49m\u001B[43mkwargs\u001B[49m\u001B[43m)\u001B[49m\n\u001B[1;32m     84\u001B[0m \u001B[38;5;28;01melse\u001B[39;00m:\n",
      "File \u001B[0;32m~/workspace/cse590-machine-learning/venv/lib/python3.9/site-packages/graphviz/backend/execute.py:103\u001B[0m, in \u001B[0;36m_run_input_lines\u001B[0;34m(cmd, input_lines, kwargs)\u001B[0m\n\u001B[1;32m    102\u001B[0m \u001B[38;5;28;01mdef\u001B[39;00m \u001B[38;5;21m_run_input_lines\u001B[39m(cmd, input_lines, \u001B[38;5;241m*\u001B[39m, kwargs):\n\u001B[0;32m--> 103\u001B[0m     popen \u001B[38;5;241m=\u001B[39m \u001B[43msubprocess\u001B[49m\u001B[38;5;241;43m.\u001B[39;49m\u001B[43mPopen\u001B[49m\u001B[43m(\u001B[49m\u001B[43mcmd\u001B[49m\u001B[43m,\u001B[49m\u001B[43m \u001B[49m\u001B[43mstdin\u001B[49m\u001B[38;5;241;43m=\u001B[39;49m\u001B[43msubprocess\u001B[49m\u001B[38;5;241;43m.\u001B[39;49m\u001B[43mPIPE\u001B[49m\u001B[43m,\u001B[49m\u001B[43m \u001B[49m\u001B[38;5;241;43m*\u001B[39;49m\u001B[38;5;241;43m*\u001B[39;49m\u001B[43mkwargs\u001B[49m\u001B[43m)\u001B[49m\n\u001B[1;32m    105\u001B[0m     stdin_write \u001B[38;5;241m=\u001B[39m popen\u001B[38;5;241m.\u001B[39mstdin\u001B[38;5;241m.\u001B[39mwrite\n",
      "File \u001B[0;32m/usr/local/Cellar/python@3.9/3.9.7/Frameworks/Python.framework/Versions/3.9/lib/python3.9/subprocess.py:951\u001B[0m, in \u001B[0;36mPopen.__init__\u001B[0;34m(self, args, bufsize, executable, stdin, stdout, stderr, preexec_fn, close_fds, shell, cwd, env, universal_newlines, startupinfo, creationflags, restore_signals, start_new_session, pass_fds, user, group, extra_groups, encoding, errors, text, umask)\u001B[0m\n\u001B[1;32m    948\u001B[0m             \u001B[38;5;28mself\u001B[39m\u001B[38;5;241m.\u001B[39mstderr \u001B[38;5;241m=\u001B[39m io\u001B[38;5;241m.\u001B[39mTextIOWrapper(\u001B[38;5;28mself\u001B[39m\u001B[38;5;241m.\u001B[39mstderr,\n\u001B[1;32m    949\u001B[0m                     encoding\u001B[38;5;241m=\u001B[39mencoding, errors\u001B[38;5;241m=\u001B[39merrors)\n\u001B[0;32m--> 951\u001B[0m     \u001B[38;5;28;43mself\u001B[39;49m\u001B[38;5;241;43m.\u001B[39;49m\u001B[43m_execute_child\u001B[49m\u001B[43m(\u001B[49m\u001B[43margs\u001B[49m\u001B[43m,\u001B[49m\u001B[43m \u001B[49m\u001B[43mexecutable\u001B[49m\u001B[43m,\u001B[49m\u001B[43m \u001B[49m\u001B[43mpreexec_fn\u001B[49m\u001B[43m,\u001B[49m\u001B[43m \u001B[49m\u001B[43mclose_fds\u001B[49m\u001B[43m,\u001B[49m\n\u001B[1;32m    952\u001B[0m \u001B[43m                        \u001B[49m\u001B[43mpass_fds\u001B[49m\u001B[43m,\u001B[49m\u001B[43m \u001B[49m\u001B[43mcwd\u001B[49m\u001B[43m,\u001B[49m\u001B[43m \u001B[49m\u001B[43menv\u001B[49m\u001B[43m,\u001B[49m\n\u001B[1;32m    953\u001B[0m \u001B[43m                        \u001B[49m\u001B[43mstartupinfo\u001B[49m\u001B[43m,\u001B[49m\u001B[43m \u001B[49m\u001B[43mcreationflags\u001B[49m\u001B[43m,\u001B[49m\u001B[43m \u001B[49m\u001B[43mshell\u001B[49m\u001B[43m,\u001B[49m\n\u001B[1;32m    954\u001B[0m \u001B[43m                        \u001B[49m\u001B[43mp2cread\u001B[49m\u001B[43m,\u001B[49m\u001B[43m \u001B[49m\u001B[43mp2cwrite\u001B[49m\u001B[43m,\u001B[49m\n\u001B[1;32m    955\u001B[0m \u001B[43m                        \u001B[49m\u001B[43mc2pread\u001B[49m\u001B[43m,\u001B[49m\u001B[43m \u001B[49m\u001B[43mc2pwrite\u001B[49m\u001B[43m,\u001B[49m\n\u001B[1;32m    956\u001B[0m \u001B[43m                        \u001B[49m\u001B[43merrread\u001B[49m\u001B[43m,\u001B[49m\u001B[43m \u001B[49m\u001B[43merrwrite\u001B[49m\u001B[43m,\u001B[49m\n\u001B[1;32m    957\u001B[0m \u001B[43m                        \u001B[49m\u001B[43mrestore_signals\u001B[49m\u001B[43m,\u001B[49m\n\u001B[1;32m    958\u001B[0m \u001B[43m                        \u001B[49m\u001B[43mgid\u001B[49m\u001B[43m,\u001B[49m\u001B[43m \u001B[49m\u001B[43mgids\u001B[49m\u001B[43m,\u001B[49m\u001B[43m \u001B[49m\u001B[43muid\u001B[49m\u001B[43m,\u001B[49m\u001B[43m \u001B[49m\u001B[43mumask\u001B[49m\u001B[43m,\u001B[49m\n\u001B[1;32m    959\u001B[0m \u001B[43m                        \u001B[49m\u001B[43mstart_new_session\u001B[49m\u001B[43m)\u001B[49m\n\u001B[1;32m    960\u001B[0m \u001B[38;5;28;01mexcept\u001B[39;00m:\n\u001B[1;32m    961\u001B[0m     \u001B[38;5;66;03m# Cleanup if the child failed starting.\u001B[39;00m\n",
      "File \u001B[0;32m/usr/local/Cellar/python@3.9/3.9.7/Frameworks/Python.framework/Versions/3.9/lib/python3.9/subprocess.py:1821\u001B[0m, in \u001B[0;36mPopen._execute_child\u001B[0;34m(self, args, executable, preexec_fn, close_fds, pass_fds, cwd, env, startupinfo, creationflags, shell, p2cread, p2cwrite, c2pread, c2pwrite, errread, errwrite, restore_signals, gid, gids, uid, umask, start_new_session)\u001B[0m\n\u001B[1;32m   1820\u001B[0m         err_msg \u001B[38;5;241m=\u001B[39m os\u001B[38;5;241m.\u001B[39mstrerror(errno_num)\n\u001B[0;32m-> 1821\u001B[0m     \u001B[38;5;28;01mraise\u001B[39;00m child_exception_type(errno_num, err_msg, err_filename)\n\u001B[1;32m   1822\u001B[0m \u001B[38;5;28;01mraise\u001B[39;00m child_exception_type(err_msg)\n",
      "\u001B[0;31mFileNotFoundError\u001B[0m: [Errno 2] No such file or directory: PosixPath('dot')",
      "\nThe above exception was the direct cause of the following exception:\n",
      "\u001B[0;31mExecutableNotFound\u001B[0m                        Traceback (most recent call last)",
      "File \u001B[0;32m~/workspace/cse590-machine-learning/venv/lib/python3.9/site-packages/IPython/core/formatters.py:973\u001B[0m, in \u001B[0;36mMimeBundleFormatter.__call__\u001B[0;34m(self, obj, include, exclude)\u001B[0m\n\u001B[1;32m    970\u001B[0m     method \u001B[38;5;241m=\u001B[39m get_real_method(obj, \u001B[38;5;28mself\u001B[39m\u001B[38;5;241m.\u001B[39mprint_method)\n\u001B[1;32m    972\u001B[0m     \u001B[38;5;28;01mif\u001B[39;00m method \u001B[38;5;129;01mis\u001B[39;00m \u001B[38;5;129;01mnot\u001B[39;00m \u001B[38;5;28;01mNone\u001B[39;00m:\n\u001B[0;32m--> 973\u001B[0m         \u001B[38;5;28;01mreturn\u001B[39;00m \u001B[43mmethod\u001B[49m\u001B[43m(\u001B[49m\u001B[43minclude\u001B[49m\u001B[38;5;241;43m=\u001B[39;49m\u001B[43minclude\u001B[49m\u001B[43m,\u001B[49m\u001B[43m \u001B[49m\u001B[43mexclude\u001B[49m\u001B[38;5;241;43m=\u001B[39;49m\u001B[43mexclude\u001B[49m\u001B[43m)\u001B[49m\n\u001B[1;32m    974\u001B[0m     \u001B[38;5;28;01mreturn\u001B[39;00m \u001B[38;5;28;01mNone\u001B[39;00m\n\u001B[1;32m    975\u001B[0m \u001B[38;5;28;01melse\u001B[39;00m:\n",
      "File \u001B[0;32m~/workspace/cse590-machine-learning/venv/lib/python3.9/site-packages/graphviz/jupyter_integration.py:98\u001B[0m, in \u001B[0;36mJupyterIntegration._repr_mimebundle_\u001B[0;34m(self, include, exclude, **_)\u001B[0m\n\u001B[1;32m     96\u001B[0m include \u001B[38;5;241m=\u001B[39m \u001B[38;5;28mset\u001B[39m(include) \u001B[38;5;28;01mif\u001B[39;00m include \u001B[38;5;129;01mis\u001B[39;00m \u001B[38;5;129;01mnot\u001B[39;00m \u001B[38;5;28;01mNone\u001B[39;00m \u001B[38;5;28;01melse\u001B[39;00m {\u001B[38;5;28mself\u001B[39m\u001B[38;5;241m.\u001B[39m_jupyter_mimetype}\n\u001B[1;32m     97\u001B[0m include \u001B[38;5;241m-\u001B[39m\u001B[38;5;241m=\u001B[39m \u001B[38;5;28mset\u001B[39m(exclude \u001B[38;5;129;01mor\u001B[39;00m [])\n\u001B[0;32m---> 98\u001B[0m \u001B[38;5;28;01mreturn\u001B[39;00m {mimetype: \u001B[38;5;28mgetattr\u001B[39m(\u001B[38;5;28mself\u001B[39m, method_name)()\n\u001B[1;32m     99\u001B[0m         \u001B[38;5;28;01mfor\u001B[39;00m mimetype, method_name \u001B[38;5;129;01min\u001B[39;00m MIME_TYPES\u001B[38;5;241m.\u001B[39mitems()\n\u001B[1;32m    100\u001B[0m         \u001B[38;5;28;01mif\u001B[39;00m mimetype \u001B[38;5;129;01min\u001B[39;00m include}\n",
      "File \u001B[0;32m~/workspace/cse590-machine-learning/venv/lib/python3.9/site-packages/graphviz/jupyter_integration.py:98\u001B[0m, in \u001B[0;36m<dictcomp>\u001B[0;34m(.0)\u001B[0m\n\u001B[1;32m     96\u001B[0m include \u001B[38;5;241m=\u001B[39m \u001B[38;5;28mset\u001B[39m(include) \u001B[38;5;28;01mif\u001B[39;00m include \u001B[38;5;129;01mis\u001B[39;00m \u001B[38;5;129;01mnot\u001B[39;00m \u001B[38;5;28;01mNone\u001B[39;00m \u001B[38;5;28;01melse\u001B[39;00m {\u001B[38;5;28mself\u001B[39m\u001B[38;5;241m.\u001B[39m_jupyter_mimetype}\n\u001B[1;32m     97\u001B[0m include \u001B[38;5;241m-\u001B[39m\u001B[38;5;241m=\u001B[39m \u001B[38;5;28mset\u001B[39m(exclude \u001B[38;5;129;01mor\u001B[39;00m [])\n\u001B[0;32m---> 98\u001B[0m \u001B[38;5;28;01mreturn\u001B[39;00m {mimetype: \u001B[38;5;28;43mgetattr\u001B[39;49m\u001B[43m(\u001B[49m\u001B[38;5;28;43mself\u001B[39;49m\u001B[43m,\u001B[49m\u001B[43m \u001B[49m\u001B[43mmethod_name\u001B[49m\u001B[43m)\u001B[49m\u001B[43m(\u001B[49m\u001B[43m)\u001B[49m\n\u001B[1;32m     99\u001B[0m         \u001B[38;5;28;01mfor\u001B[39;00m mimetype, method_name \u001B[38;5;129;01min\u001B[39;00m MIME_TYPES\u001B[38;5;241m.\u001B[39mitems()\n\u001B[1;32m    100\u001B[0m         \u001B[38;5;28;01mif\u001B[39;00m mimetype \u001B[38;5;129;01min\u001B[39;00m include}\n",
      "File \u001B[0;32m~/workspace/cse590-machine-learning/venv/lib/python3.9/site-packages/graphviz/jupyter_integration.py:112\u001B[0m, in \u001B[0;36mJupyterIntegration._repr_image_svg_xml\u001B[0;34m(self)\u001B[0m\n\u001B[1;32m    110\u001B[0m \u001B[38;5;28;01mdef\u001B[39;00m \u001B[38;5;21m_repr_image_svg_xml\u001B[39m(\u001B[38;5;28mself\u001B[39m) \u001B[38;5;241m-\u001B[39m\u001B[38;5;241m>\u001B[39m \u001B[38;5;28mstr\u001B[39m:\n\u001B[1;32m    111\u001B[0m     \u001B[38;5;124;03m\"\"\"Return the rendered graph as SVG string.\"\"\"\u001B[39;00m\n\u001B[0;32m--> 112\u001B[0m     \u001B[38;5;28;01mreturn\u001B[39;00m \u001B[38;5;28;43mself\u001B[39;49m\u001B[38;5;241;43m.\u001B[39;49m\u001B[43mpipe\u001B[49m\u001B[43m(\u001B[49m\u001B[38;5;28;43mformat\u001B[39;49m\u001B[38;5;241;43m=\u001B[39;49m\u001B[38;5;124;43m'\u001B[39;49m\u001B[38;5;124;43msvg\u001B[39;49m\u001B[38;5;124;43m'\u001B[39;49m\u001B[43m,\u001B[49m\u001B[43m \u001B[49m\u001B[43mencoding\u001B[49m\u001B[38;5;241;43m=\u001B[39;49m\u001B[43mSVG_ENCODING\u001B[49m\u001B[43m)\u001B[49m\n",
      "File \u001B[0;32m~/workspace/cse590-machine-learning/venv/lib/python3.9/site-packages/graphviz/piping.py:99\u001B[0m, in \u001B[0;36mPipe.pipe\u001B[0;34m(self, format, renderer, formatter, quiet, engine, encoding)\u001B[0m\n\u001B[1;32m     52\u001B[0m \u001B[38;5;28;01mdef\u001B[39;00m \u001B[38;5;21mpipe\u001B[39m(\u001B[38;5;28mself\u001B[39m,\n\u001B[1;32m     53\u001B[0m          \u001B[38;5;28mformat\u001B[39m: typing\u001B[38;5;241m.\u001B[39mOptional[\u001B[38;5;28mstr\u001B[39m] \u001B[38;5;241m=\u001B[39m \u001B[38;5;28;01mNone\u001B[39;00m,\n\u001B[1;32m     54\u001B[0m          renderer: typing\u001B[38;5;241m.\u001B[39mOptional[\u001B[38;5;28mstr\u001B[39m] \u001B[38;5;241m=\u001B[39m \u001B[38;5;28;01mNone\u001B[39;00m,\n\u001B[0;32m   (...)\u001B[0m\n\u001B[1;32m     57\u001B[0m          engine: typing\u001B[38;5;241m.\u001B[39mOptional[\u001B[38;5;28mstr\u001B[39m] \u001B[38;5;241m=\u001B[39m \u001B[38;5;28;01mNone\u001B[39;00m,\n\u001B[1;32m     58\u001B[0m          encoding: typing\u001B[38;5;241m.\u001B[39mOptional[\u001B[38;5;28mstr\u001B[39m] \u001B[38;5;241m=\u001B[39m \u001B[38;5;28;01mNone\u001B[39;00m) \u001B[38;5;241m-\u001B[39m\u001B[38;5;241m>\u001B[39m typing\u001B[38;5;241m.\u001B[39mUnion[\u001B[38;5;28mbytes\u001B[39m, \u001B[38;5;28mstr\u001B[39m]:\n\u001B[1;32m     59\u001B[0m     \u001B[38;5;124;03m\"\"\"Return the source piped through the Graphviz layout command.\u001B[39;00m\n\u001B[1;32m     60\u001B[0m \n\u001B[1;32m     61\u001B[0m \u001B[38;5;124;03m    Args:\u001B[39;00m\n\u001B[0;32m   (...)\u001B[0m\n\u001B[1;32m     97\u001B[0m \u001B[38;5;124;03m        '<?xml version='\u001B[39;00m\n\u001B[1;32m     98\u001B[0m \u001B[38;5;124;03m    \"\"\"\u001B[39;00m\n\u001B[0;32m---> 99\u001B[0m     \u001B[38;5;28;01mreturn\u001B[39;00m \u001B[38;5;28;43mself\u001B[39;49m\u001B[38;5;241;43m.\u001B[39;49m\u001B[43m_pipe_legacy\u001B[49m\u001B[43m(\u001B[49m\u001B[38;5;28;43mformat\u001B[39;49m\u001B[43m,\u001B[49m\n\u001B[1;32m    100\u001B[0m \u001B[43m                             \u001B[49m\u001B[43mrenderer\u001B[49m\u001B[38;5;241;43m=\u001B[39;49m\u001B[43mrenderer\u001B[49m\u001B[43m,\u001B[49m\n\u001B[1;32m    101\u001B[0m \u001B[43m                             \u001B[49m\u001B[43mformatter\u001B[49m\u001B[38;5;241;43m=\u001B[39;49m\u001B[43mformatter\u001B[49m\u001B[43m,\u001B[49m\n\u001B[1;32m    102\u001B[0m \u001B[43m                             \u001B[49m\u001B[43mquiet\u001B[49m\u001B[38;5;241;43m=\u001B[39;49m\u001B[43mquiet\u001B[49m\u001B[43m,\u001B[49m\n\u001B[1;32m    103\u001B[0m \u001B[43m                             \u001B[49m\u001B[43mengine\u001B[49m\u001B[38;5;241;43m=\u001B[39;49m\u001B[43mengine\u001B[49m\u001B[43m,\u001B[49m\n\u001B[1;32m    104\u001B[0m \u001B[43m                             \u001B[49m\u001B[43mencoding\u001B[49m\u001B[38;5;241;43m=\u001B[39;49m\u001B[43mencoding\u001B[49m\u001B[43m)\u001B[49m\n",
      "File \u001B[0;32m~/workspace/cse590-machine-learning/venv/lib/python3.9/site-packages/graphviz/_tools.py:172\u001B[0m, in \u001B[0;36mdeprecate_positional_args.<locals>.decorator.<locals>.wrapper\u001B[0;34m(*args, **kwargs)\u001B[0m\n\u001B[1;32m    163\u001B[0m     wanted \u001B[38;5;241m=\u001B[39m \u001B[38;5;124m'\u001B[39m\u001B[38;5;124m, \u001B[39m\u001B[38;5;124m'\u001B[39m\u001B[38;5;241m.\u001B[39mjoin(\u001B[38;5;124mf\u001B[39m\u001B[38;5;124m'\u001B[39m\u001B[38;5;132;01m{\u001B[39;00mname\u001B[38;5;132;01m}\u001B[39;00m\u001B[38;5;124m=\u001B[39m\u001B[38;5;132;01m{\u001B[39;00mvalue\u001B[38;5;132;01m!r}\u001B[39;00m\u001B[38;5;124m'\u001B[39m\n\u001B[1;32m    164\u001B[0m                        \u001B[38;5;28;01mfor\u001B[39;00m name, value \u001B[38;5;129;01min\u001B[39;00m deprecated\u001B[38;5;241m.\u001B[39mitems())\n\u001B[1;32m    165\u001B[0m     warnings\u001B[38;5;241m.\u001B[39mwarn(\u001B[38;5;124mf\u001B[39m\u001B[38;5;124m'\u001B[39m\u001B[38;5;124mThe signature of \u001B[39m\u001B[38;5;132;01m{\u001B[39;00mfunc\u001B[38;5;241m.\u001B[39m\u001B[38;5;18m__name__\u001B[39m\u001B[38;5;132;01m}\u001B[39;00m\u001B[38;5;124m will be reduced\u001B[39m\u001B[38;5;124m'\u001B[39m\n\u001B[1;32m    166\u001B[0m                   \u001B[38;5;124mf\u001B[39m\u001B[38;5;124m'\u001B[39m\u001B[38;5;124m to \u001B[39m\u001B[38;5;132;01m{\u001B[39;00msupported_number\u001B[38;5;132;01m}\u001B[39;00m\u001B[38;5;124m positional args\u001B[39m\u001B[38;5;124m'\u001B[39m\n\u001B[1;32m    167\u001B[0m                   \u001B[38;5;124mf\u001B[39m\u001B[38;5;124m'\u001B[39m\u001B[38;5;124m \u001B[39m\u001B[38;5;132;01m{\u001B[39;00m\u001B[38;5;28mlist\u001B[39m(supported)\u001B[38;5;132;01m}\u001B[39;00m\u001B[38;5;124m: pass \u001B[39m\u001B[38;5;132;01m{\u001B[39;00mwanted\u001B[38;5;132;01m}\u001B[39;00m\u001B[38;5;124m'\u001B[39m\n\u001B[1;32m    168\u001B[0m                   \u001B[38;5;124m'\u001B[39m\u001B[38;5;124m as keyword arg(s)\u001B[39m\u001B[38;5;124m'\u001B[39m,\n\u001B[1;32m    169\u001B[0m                   stacklevel\u001B[38;5;241m=\u001B[39mstacklevel,\n\u001B[1;32m    170\u001B[0m                   category\u001B[38;5;241m=\u001B[39mcategory)\n\u001B[0;32m--> 172\u001B[0m \u001B[38;5;28;01mreturn\u001B[39;00m \u001B[43mfunc\u001B[49m\u001B[43m(\u001B[49m\u001B[38;5;241;43m*\u001B[39;49m\u001B[43margs\u001B[49m\u001B[43m,\u001B[49m\u001B[43m \u001B[49m\u001B[38;5;241;43m*\u001B[39;49m\u001B[38;5;241;43m*\u001B[39;49m\u001B[43mkwargs\u001B[49m\u001B[43m)\u001B[49m\n",
      "File \u001B[0;32m~/workspace/cse590-machine-learning/venv/lib/python3.9/site-packages/graphviz/piping.py:114\u001B[0m, in \u001B[0;36mPipe._pipe_legacy\u001B[0;34m(self, format, renderer, formatter, quiet, engine, encoding)\u001B[0m\n\u001B[1;32m    106\u001B[0m \u001B[38;5;129m@_tools\u001B[39m\u001B[38;5;241m.\u001B[39mdeprecate_positional_args(supported_number\u001B[38;5;241m=\u001B[39m\u001B[38;5;241m2\u001B[39m)\n\u001B[1;32m    107\u001B[0m \u001B[38;5;28;01mdef\u001B[39;00m \u001B[38;5;21m_pipe_legacy\u001B[39m(\u001B[38;5;28mself\u001B[39m,\n\u001B[1;32m    108\u001B[0m                  \u001B[38;5;28mformat\u001B[39m: typing\u001B[38;5;241m.\u001B[39mOptional[\u001B[38;5;28mstr\u001B[39m] \u001B[38;5;241m=\u001B[39m \u001B[38;5;28;01mNone\u001B[39;00m,\n\u001B[0;32m   (...)\u001B[0m\n\u001B[1;32m    112\u001B[0m                  engine: typing\u001B[38;5;241m.\u001B[39mOptional[\u001B[38;5;28mstr\u001B[39m] \u001B[38;5;241m=\u001B[39m \u001B[38;5;28;01mNone\u001B[39;00m,\n\u001B[1;32m    113\u001B[0m                  encoding: typing\u001B[38;5;241m.\u001B[39mOptional[\u001B[38;5;28mstr\u001B[39m] \u001B[38;5;241m=\u001B[39m \u001B[38;5;28;01mNone\u001B[39;00m) \u001B[38;5;241m-\u001B[39m\u001B[38;5;241m>\u001B[39m typing\u001B[38;5;241m.\u001B[39mUnion[\u001B[38;5;28mbytes\u001B[39m, \u001B[38;5;28mstr\u001B[39m]:\n\u001B[0;32m--> 114\u001B[0m     \u001B[38;5;28;01mreturn\u001B[39;00m \u001B[38;5;28;43mself\u001B[39;49m\u001B[38;5;241;43m.\u001B[39;49m\u001B[43m_pipe_future\u001B[49m\u001B[43m(\u001B[49m\u001B[38;5;28;43mformat\u001B[39;49m\u001B[43m,\u001B[49m\n\u001B[1;32m    115\u001B[0m \u001B[43m                             \u001B[49m\u001B[43mrenderer\u001B[49m\u001B[38;5;241;43m=\u001B[39;49m\u001B[43mrenderer\u001B[49m\u001B[43m,\u001B[49m\n\u001B[1;32m    116\u001B[0m \u001B[43m                             \u001B[49m\u001B[43mformatter\u001B[49m\u001B[38;5;241;43m=\u001B[39;49m\u001B[43mformatter\u001B[49m\u001B[43m,\u001B[49m\n\u001B[1;32m    117\u001B[0m \u001B[43m                             \u001B[49m\u001B[43mquiet\u001B[49m\u001B[38;5;241;43m=\u001B[39;49m\u001B[43mquiet\u001B[49m\u001B[43m,\u001B[49m\n\u001B[1;32m    118\u001B[0m \u001B[43m                             \u001B[49m\u001B[43mengine\u001B[49m\u001B[38;5;241;43m=\u001B[39;49m\u001B[43mengine\u001B[49m\u001B[43m,\u001B[49m\n\u001B[1;32m    119\u001B[0m \u001B[43m                             \u001B[49m\u001B[43mencoding\u001B[49m\u001B[38;5;241;43m=\u001B[39;49m\u001B[43mencoding\u001B[49m\u001B[43m)\u001B[49m\n",
      "File \u001B[0;32m~/workspace/cse590-machine-learning/venv/lib/python3.9/site-packages/graphviz/piping.py:139\u001B[0m, in \u001B[0;36mPipe._pipe_future\u001B[0;34m(self, format, renderer, formatter, quiet, engine, encoding)\u001B[0m\n\u001B[1;32m    136\u001B[0m \u001B[38;5;28;01mif\u001B[39;00m encoding \u001B[38;5;129;01mis\u001B[39;00m \u001B[38;5;129;01mnot\u001B[39;00m \u001B[38;5;28;01mNone\u001B[39;00m:\n\u001B[1;32m    137\u001B[0m     \u001B[38;5;28;01mif\u001B[39;00m codecs\u001B[38;5;241m.\u001B[39mlookup(encoding) \u001B[38;5;129;01mis\u001B[39;00m codecs\u001B[38;5;241m.\u001B[39mlookup(\u001B[38;5;28mself\u001B[39m\u001B[38;5;241m.\u001B[39mencoding):\n\u001B[1;32m    138\u001B[0m         \u001B[38;5;66;03m# common case: both stdin and stdout need the same encoding\u001B[39;00m\n\u001B[0;32m--> 139\u001B[0m         \u001B[38;5;28;01mreturn\u001B[39;00m \u001B[38;5;28;43mself\u001B[39;49m\u001B[38;5;241;43m.\u001B[39;49m\u001B[43m_pipe_lines_string\u001B[49m\u001B[43m(\u001B[49m\u001B[38;5;241;43m*\u001B[39;49m\u001B[43margs\u001B[49m\u001B[43m,\u001B[49m\u001B[43m \u001B[49m\u001B[43mencoding\u001B[49m\u001B[38;5;241;43m=\u001B[39;49m\u001B[43mencoding\u001B[49m\u001B[43m,\u001B[49m\u001B[43m \u001B[49m\u001B[38;5;241;43m*\u001B[39;49m\u001B[38;5;241;43m*\u001B[39;49m\u001B[43mkwargs\u001B[49m\u001B[43m)\u001B[49m\n\u001B[1;32m    140\u001B[0m     \u001B[38;5;28;01mtry\u001B[39;00m:\n\u001B[1;32m    141\u001B[0m         raw \u001B[38;5;241m=\u001B[39m \u001B[38;5;28mself\u001B[39m\u001B[38;5;241m.\u001B[39m_pipe_lines(\u001B[38;5;241m*\u001B[39margs, input_encoding\u001B[38;5;241m=\u001B[39m\u001B[38;5;28mself\u001B[39m\u001B[38;5;241m.\u001B[39mencoding, \u001B[38;5;241m*\u001B[39m\u001B[38;5;241m*\u001B[39mkwargs)\n",
      "File \u001B[0;32m~/workspace/cse590-machine-learning/venv/lib/python3.9/site-packages/graphviz/backend/piping.py:196\u001B[0m, in \u001B[0;36mpipe_lines_string\u001B[0;34m(engine, format, input_lines, encoding, renderer, formatter, quiet)\u001B[0m\n\u001B[1;32m    192\u001B[0m cmd \u001B[38;5;241m=\u001B[39m dot_command\u001B[38;5;241m.\u001B[39mcommand(engine, \u001B[38;5;28mformat\u001B[39m,\n\u001B[1;32m    193\u001B[0m                           renderer\u001B[38;5;241m=\u001B[39mrenderer, formatter\u001B[38;5;241m=\u001B[39mformatter)\n\u001B[1;32m    194\u001B[0m kwargs \u001B[38;5;241m=\u001B[39m {\u001B[38;5;124m'\u001B[39m\u001B[38;5;124minput_lines\u001B[39m\u001B[38;5;124m'\u001B[39m: input_lines, \u001B[38;5;124m'\u001B[39m\u001B[38;5;124mencoding\u001B[39m\u001B[38;5;124m'\u001B[39m: encoding}\n\u001B[0;32m--> 196\u001B[0m proc \u001B[38;5;241m=\u001B[39m \u001B[43mexecute\u001B[49m\u001B[38;5;241;43m.\u001B[39;49m\u001B[43mrun_check\u001B[49m\u001B[43m(\u001B[49m\u001B[43mcmd\u001B[49m\u001B[43m,\u001B[49m\u001B[43m \u001B[49m\u001B[43mcapture_output\u001B[49m\u001B[38;5;241;43m=\u001B[39;49m\u001B[38;5;28;43;01mTrue\u001B[39;49;00m\u001B[43m,\u001B[49m\u001B[43m \u001B[49m\u001B[43mquiet\u001B[49m\u001B[38;5;241;43m=\u001B[39;49m\u001B[43mquiet\u001B[49m\u001B[43m,\u001B[49m\u001B[43m \u001B[49m\u001B[38;5;241;43m*\u001B[39;49m\u001B[38;5;241;43m*\u001B[39;49m\u001B[43mkwargs\u001B[49m\u001B[43m)\u001B[49m\n\u001B[1;32m    197\u001B[0m \u001B[38;5;28;01mreturn\u001B[39;00m proc\u001B[38;5;241m.\u001B[39mstdout\n",
      "File \u001B[0;32m~/workspace/cse590-machine-learning/venv/lib/python3.9/site-packages/graphviz/backend/execute.py:88\u001B[0m, in \u001B[0;36mrun_check\u001B[0;34m(cmd, input_lines, encoding, capture_output, quiet, **kwargs)\u001B[0m\n\u001B[1;32m     86\u001B[0m \u001B[38;5;28;01mexcept\u001B[39;00m \u001B[38;5;167;01mOSError\u001B[39;00m \u001B[38;5;28;01mas\u001B[39;00m e:\n\u001B[1;32m     87\u001B[0m     \u001B[38;5;28;01mif\u001B[39;00m e\u001B[38;5;241m.\u001B[39merrno \u001B[38;5;241m==\u001B[39m errno\u001B[38;5;241m.\u001B[39mENOENT:\n\u001B[0;32m---> 88\u001B[0m         \u001B[38;5;28;01mraise\u001B[39;00m ExecutableNotFound(cmd) \u001B[38;5;28;01mfrom\u001B[39;00m \u001B[38;5;21;01me\u001B[39;00m\n\u001B[1;32m     89\u001B[0m     \u001B[38;5;28;01mraise\u001B[39;00m\n\u001B[1;32m     91\u001B[0m \u001B[38;5;28;01mif\u001B[39;00m \u001B[38;5;129;01mnot\u001B[39;00m quiet \u001B[38;5;129;01mand\u001B[39;00m proc\u001B[38;5;241m.\u001B[39mstderr:\n",
      "\u001B[0;31mExecutableNotFound\u001B[0m: failed to execute PosixPath('dot'), make sure the Graphviz executables are on your systems' PATH"
     ]
    },
    {
     "data": {
      "text/plain": "<graphviz.sources.Source at 0x13cb96df0>"
     },
     "metadata": {},
     "output_type": "display_data"
    }
   ],
   "source": [
    "from IPython.core.display_functions import display\n",
    "from sklearn.tree import export_graphviz\n",
    "\n",
    "export_graphviz(\n",
    "    tree_clf,\n",
    "    out_file=\"tree.dot\",\n",
    "    class_names=[\"malignant\", \"benign\"],\n",
    "    feature_names=cancer_dataset.feature_names,\n",
    "    impurity=False,\n",
    "    filled=True\n",
    ")\n",
    "\n",
    "import graphviz\n",
    "with open(\"tree.dot\") as f:\n",
    "    dot_graph = f.read()\n",
    "display(graphviz.Source(dot_graph))"
   ],
   "metadata": {
    "collapsed": false,
    "pycharm": {
     "name": "#%%\n"
    }
   }
  },
  {
   "cell_type": "code",
   "execution_count": null,
   "outputs": [],
   "source": [],
   "metadata": {
    "collapsed": false,
    "pycharm": {
     "name": "#%%\n"
    }
   }
  }
 ],
 "metadata": {
  "kernelspec": {
   "display_name": "Python 3",
   "language": "python",
   "name": "python3"
  },
  "language_info": {
   "codemirror_mode": {
    "name": "ipython",
    "version": 2
   },
   "file_extension": ".py",
   "mimetype": "text/x-python",
   "name": "python",
   "nbconvert_exporter": "python",
   "pygments_lexer": "ipython2",
   "version": "2.7.6"
  }
 },
 "nbformat": 4,
 "nbformat_minor": 0
}
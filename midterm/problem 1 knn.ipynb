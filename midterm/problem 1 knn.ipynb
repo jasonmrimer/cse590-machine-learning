{
 "cells": [
  {
   "cell_type": "markdown",
   "source": [
    "# Problem 1: K-Nearest Neighbors\n",
    "Create  a 2-dimensional  data set  with  30  samples that  has the following  properties\n",
    "1. Samples  should belong to  2  classes (15  samples per  class)\n",
    "2. Using  a Logistic Regression  classifier,  all  samples from  both  classes can  be correctly  classified\n",
    "3. Using  a K-NN classifier,  with  K=3,  two  samples from  each  class  will  always be misclassified. The remaining  26  can  be classified correctly.\n",
    "\n",
    "Generate a scatter  plot  of  your  data.  Use a different  color/symbol  for  each  class.  Indicate  the  4  samples that  cannot  be  classified  correctly  using  the  KNN  and explain the  reasons.\n",
    "\n",
    "Note:  This  data  should  be  generated  manually  and  you  do not  need to run  any  code  on  it\n"
   ],
   "metadata": {
    "collapsed": false,
    "pycharm": {
     "name": "#%% md\n"
    }
   }
  },
  {
   "cell_type": "code",
   "execution_count": 198,
   "metadata": {
    "collapsed": true
   },
   "outputs": [],
   "source": [
    "import matplotlib.pyplot as plt\n",
    "import mglearn\n",
    "import numpy as np\n",
    "import pandas\n",
    "import pandas as pd\n",
    "import sns as sns\n",
    "from numpy import random\n",
    "from sklearn.linear_model import LogisticRegression\n",
    "from sklearn.model_selection import GridSearchCV\n",
    "from sklearn.neighbors import KNeighborsClassifier\n",
    "\n",
    "random.seed(42)\n",
    "\n",
    "\n",
    "def generate_neighborhood_in_rectangle(\n",
    "        class_name,\n",
    "        neighbor_count,\n",
    "        x_min,\n",
    "        x_max,\n",
    "        y_min,\n",
    "        y_max,\n",
    "):\n",
    "    items = []\n",
    "    X_set = []\n",
    "    y_set = []\n",
    "    for i in range(0, neighbor_count):\n",
    "        feature_1 = random.uniform(x_min, x_max)\n",
    "        feature_2 = random.uniform(y_min, y_max)\n",
    "        # item = {'class': class_name, 'x': x, 'y': y}\n",
    "        item = [class_name, feature_1, feature_2]\n",
    "        X_set.append([feature_1, feature_2])\n",
    "        y_set.append(class_name)\n",
    "\n",
    "    neighborhood = pd.DataFrame(items, columns=['Class', 'f1', 'f2'])\n",
    "\n",
    "    return np.array(X_set), np.array(y_set)\n",
    "\n",
    "\n",
    "def split_X_y(neighborhood):\n",
    "    y = pd.DataFrame(neighborhood.Class, columns=['Class'])\n",
    "    X = pd.DataFrame(\n",
    "        [\n",
    "            neighborhood,\n",
    "            neighborhood.f2\n",
    "        ], columns=['f1', 'f2']\n",
    "    )\n",
    "    return X, y"
   ]
  },
  {
   "cell_type": "code",
   "execution_count": 82,
   "outputs": [
    {
     "name": "stdout",
     "output_type": "stream",
     "text": [
      "[[6 3]\n",
      " [7 4]\n",
      " [6 9]\n",
      " [2 6]\n",
      " [7 4]\n",
      " [3 7]\n",
      " [7 2]\n",
      " [5 4]\n",
      " [1 7]\n",
      " [5 1]\n",
      " [4 0]\n",
      " [9 5]\n",
      " [8 0]]\n",
      "['alpha' 'alpha' 'alpha' 'alpha' 'alpha' 'alpha' 'alpha' 'alpha' 'alpha'\n",
      " 'alpha' 'alpha' 'alpha' 'alpha']\n",
      "[]\n",
      "[[6 3]]\n"
     ]
    },
    {
     "data": {
      "text/plain": "Text(0, 0.5, 'Feature: Y')"
     },
     "execution_count": 82,
     "metadata": {},
     "output_type": "execute_result"
    },
    {
     "data": {
      "text/plain": "<Figure size 432x288 with 1 Axes>",
      "image/png": "[encoded data removed]"
     },
     "metadata": {
      "needs_background": "light"
     },
     "output_type": "display_data"
    }
   ],
   "source": [
    "random.seed(42)\n",
    "\n",
    "X, y = generate_neighborhood_in_rectangle('alpha', 13, 0, 10, 0, 10)\n",
    "print(X)\n",
    "print(y)\n",
    "\n",
    "print(X[:0])\n",
    "print(X[:1])\n",
    "mglearn.discrete_scatter(X[:, 0], X[:, 1], y)\n",
    "plt.legend(['Alpha'])\n",
    "plt.xlabel('Feature: X')\n",
    "plt.ylabel('Feature: Y')"
   ],
   "metadata": {
    "collapsed": false,
    "pycharm": {
     "name": "#%%\n"
    }
   }
  },
  {
   "cell_type": "code",
   "execution_count": 220,
   "outputs": [
    {
     "data": {
      "text/plain": "Text(0, 0.5, 'Feature 2')"
     },
     "execution_count": 220,
     "metadata": {},
     "output_type": "execute_result"
    },
    {
     "data": {
      "text/plain": "<Figure size 432x288 with 1 Axes>",
      "image/png": "[encoded data removed]"
     },
     "metadata": {
      "needs_background": "light"
     },
     "output_type": "display_data"
    }
   ],
   "source": [
    "random.seed(42)\n",
    "\n",
    "class_A_X, class_A_y = generate_neighborhood_in_rectangle('alpha', 11, 9.5, 10, 15, 20)\n",
    "class_B_X, class_B_y = generate_neighborhood_in_rectangle('beta', 11, 11, 11.5, 0, 5)\n",
    "X_train = np.concatenate((class_A_X, class_B_X))\n",
    "y_train = np.concatenate((class_A_y, class_B_y))\n",
    "\n",
    "# create the misclassified examples\n",
    "border_alpha_1 = [10, 20]\n",
    "border_alpha_2 = [10, 19]\n",
    "border_beta_1 = [11, 1]\n",
    "border_beta_2 = [11, 2]\n",
    "misclassified_alpha_1 = [10.4, 2]\n",
    "misclassified_alpha_2 = [10.4, 3]\n",
    "misclassified_beta_1 = [10.6, 18]\n",
    "misclassified_beta_2 = [10.6, 19]\n",
    "X_train = np.append(\n",
    "    X_train,\n",
    "    [\n",
    "        border_alpha_1, border_alpha_2,\n",
    "        border_beta_1, border_beta_2,\n",
    "        misclassified_alpha_1, misclassified_alpha_2,\n",
    "        misclassified_beta_1, misclassified_beta_2,\n",
    "    ],\n",
    "    axis=0\n",
    ")\n",
    "# np.append(X_train, misclassified_beta_2)\n",
    "y_train = np.append(\n",
    "    y_train, [\n",
    "        'alpha', 'alpha',\n",
    "        'beta', 'beta',\n",
    "        'alpha', 'alpha',\n",
    "        'beta', 'beta',\n",
    "    ]\n",
    ")\n",
    "\n",
    "mglearn.discrete_scatter(X_train[:, 0], X_train[:, 1], y_train)\n",
    "plt.legend(['Alpha', 'Beta'])\n",
    "plt.xlabel('Feature 1')\n",
    "plt.ylabel('Feature 2')"
   ],
   "metadata": {
    "collapsed": false,
    "pycharm": {
     "name": "#%%\n"
    }
   }
  },
  {
   "cell_type": "code",
   "execution_count": 221,
   "outputs": [
    {
     "name": "stdout",
     "output_type": "stream",
     "text": [
      "0.8666666666666667\n"
     ]
    }
   ],
   "source": [
    "knn = KNeighborsClassifier(n_neighbors=3)\n",
    "knn.fit(X_train, y_train)\n",
    "print(knn.score(X_train, y_train))"
   ],
   "metadata": {
    "collapsed": false,
    "pycharm": {
     "name": "#%%\n"
    }
   }
  },
  {
   "cell_type": "code",
   "execution_count": 222,
   "outputs": [
    {
     "name": "stdout",
     "output_type": "stream",
     "text": [
      "30\n",
      "4\n",
      "[26 27 28 29]\n",
      "[10.4  2. ]\n",
      "[10.4  3. ]\n",
      "[10.6 18. ]\n",
      "[10.6 19. ]\n"
     ]
    }
   ],
   "source": [
    "y_predictions = knn.predict(X_train)\n",
    "\n",
    "misclassified_indices = np.where((y_predictions != y_train))[0]\n",
    "print(len(y_train))\n",
    "print(len(misclassified_indices))\n",
    "print(misclassified_indices)\n",
    "for i in misclassified_indices:\n",
    "    print(X_train[i])"
   ],
   "metadata": {
    "collapsed": false,
    "pycharm": {
     "name": "#%%\n"
    }
   }
  },
  {
   "cell_type": "code",
   "execution_count": 223,
   "outputs": [],
   "source": [
    "def logreg_explore_and_graph(c_vals):\n",
    "    hyperparameters = dict(C=c_vals)\n",
    "    clf = GridSearchCV(clf, hyperparameters, cv=5)\n",
    "    clf.fit(X_train, y_train)\n",
    "    scores_logreg = clf.cv_results_['mean_test_score']\n",
    "    std_scores = clf.cv_results_['std_test_score']\n",
    "    optimal_c_val = clf.best_params_['C']\n",
    "    print(\"Best C: \", optimal_c_val)\n",
    "    print(\"Train score: \", LogisticRegression(C=optimal_c_val).fit(X_train, y_train).score(X_train, y_train))\n",
    "    print(std_scores)\n",
    "    fig, ax = plt.subplots()\n",
    "    fig.set_figheight(4)\n",
    "    fig.set_figwidth(4)\n",
    "    plt.plot(c_vals, scores_logreg)\n",
    "    plt.xlabel('C Value')\n",
    "    plt.ylabel('Cross-Validated Accuracy')\n",
    "    plt.show()"
   ],
   "metadata": {
    "collapsed": false,
    "pycharm": {
     "name": "#%%\n"
    }
   }
  },
  {
   "cell_type": "code",
   "execution_count": 290,
   "outputs": [
    {
     "name": "stdout",
     "output_type": "stream",
     "text": [
      "1.0\n",
      "30\n",
      "0\n",
      "[]\n",
      "            x         y\n",
      "0    9.687270  0.049127\n",
      "1    9.865997  0.091225\n",
      "2    9.578009  0.037175\n",
      "3    9.529042  0.029143\n",
      "4    9.800558  0.073118\n",
      "5    9.510292  0.027034\n",
      "6    9.916221  0.111110\n",
      "7    9.590912  0.038706\n",
      "8    9.652121  0.045768\n",
      "9    9.715973  0.057988\n",
      "10   9.805926  0.078974\n",
      "11  11.146072  0.926845\n",
      "12  11.228035  0.941467\n",
      "13  11.099837  0.913798\n",
      "14  11.296207  0.956889\n",
      "15  11.303772  0.957394\n",
      "16  11.032526  0.888592\n",
      "17  11.482816  0.975036\n",
      "18  11.152307  0.930313\n",
      "19  11.342117  0.961413\n",
      "20  11.061019  0.902693\n",
      "21  11.017194  0.883643\n",
      "22  10.000000  0.132804\n",
      "23  10.000000  0.135444\n",
      "24  11.000000  0.885741\n",
      "25  11.000000  0.883420\n",
      "26  10.400000  0.482447\n",
      "27  10.400000  0.476774\n",
      "28  10.600000  0.565753\n",
      "29  10.600000  0.560160\n"
     ]
    },
    {
     "data": {
      "text/plain": "<AxesSubplot:xlabel='x', ylabel='y'>"
     },
     "execution_count": 290,
     "metadata": {},
     "output_type": "execute_result"
    },
    {
     "data": {
      "text/plain": "<Figure size 432x288 with 1 Axes>",
      "image/png": "[encoded data removed]"
     },
     "metadata": {
      "needs_background": "light"
     },
     "output_type": "display_data"
    }
   ],
   "source": [
    "from scipy.special import expit\n",
    "import seaborn as sns\n",
    "\n",
    "# logreg_explore_and_graph(np.linspace(0, 3, 20))\n",
    "\n",
    "clf = LogisticRegression(C=2.5)\n",
    "clf.fit(X_train, y_train)\n",
    "print(clf.score(X_train, y_train))\n",
    "\n",
    "y_predictions = clf.predict(X_train)\n",
    "\n",
    "misclassified_indices = np.where((y_predictions != y_train))[0]\n",
    "print(len(y_train))\n",
    "print(len(misclassified_indices))\n",
    "print(misclassified_indices)\n",
    "for i in misclassified_indices:\n",
    "    print(X_train[i])\n",
    "\n",
    "data = {\n",
    "    'x': X_train[:, 0],\n",
    "    'y': clf.predict_proba(X_train)[:, 1]\n",
    "}\n",
    "data_frame = pd.DataFrame(data, columns=['x', 'y'])\n",
    "print(data_frame)\n",
    "# mglearn.discrete_scatter(X_train[:, 0], X_train[:, 1], y_train)\n",
    "sns.regplot(x='x', y='y', data=data_frame, logistic=True)\n",
    "\n",
    "#\n",
    "# loss = expit(X_train * clf.coef_ + clf.intercept_).ravel()\n",
    "# plt.plot(X_train, loss, color=\"red\", linewidth=3)\n",
    "# plt.scatter(X_train[:,0], X_train[:,1]/20)\n",
    "# plt.figure(1, figsize=(4, 3))\n",
    "# plt.clf()\n",
    "# plt.scatter(X.ravel(), y, color=\"black\", zorder=20)\n",
    "# plt.legend(['Alpha', 'Beta'])\n",
    "# plt.xlabel('Feature 1')\n",
    "# plt.ylabel('Feature 2')"
   ],
   "metadata": {
    "collapsed": false,
    "pycharm": {
     "name": "#%%\n"
    }
   }
  },
  {
   "cell_type": "markdown",
   "source": [],
   "metadata": {
    "collapsed": false,
    "pycharm": {
     "name": "#%% md\n"
    }
   }
  }
 ],
 "metadata": {
  "kernelspec": {
   "display_name": "Python 3",
   "language": "python",
   "name": "python3"
  },
  "language_info": {
   "codemirror_mode": {
    "name": "ipython",
    "version": 2
   },
   "file_extension": ".py",
   "mimetype": "text/x-python",
   "name": "python",
   "nbconvert_exporter": "python",
   "pygments_lexer": "ipython2",
   "version": "2.7.6"
  }
 },
 "nbformat": 4,
 "nbformat_minor": 0
}
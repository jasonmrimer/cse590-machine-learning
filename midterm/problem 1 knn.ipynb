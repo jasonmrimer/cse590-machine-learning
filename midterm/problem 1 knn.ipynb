{
 "cells": [
  {
   "cell_type": "markdown",
   "source": [
    "# Problem 1: K-Nearest Neighbors\n",
    "Create  a 2-dimensional  data set  with  30  samples that  has the following  properties\n",
    "1. Samples  should belong to  2  classes (15  samples per  class)\n",
    "2. Using  a Logistic Regression  classifier,  all  samples from  both  classes can  be correctly  classified\n",
    "3. Using  a K-NN classifier,  with  K=3,  two  samples from  each  class  will  always be misclassified. The remaining  26  can  be classified correctly.\n",
    "\n",
    "Generate a scatter  plot  of  your  data.  Use a different  color/symbol  for  each  class.  Indicate  the  4  samples that  cannot  be  classified  correctly  using  the  KNN  and explain the  reasons.\n",
    "\n",
    "Note:  This  data  should  be  generated  manually  and  you  do not  need to run  any  code  on  it\n"
   ],
   "metadata": {
    "collapsed": false,
    "pycharm": {
     "name": "#%% md\n"
    }
   }
  },
  {
   "cell_type": "code",
   "execution_count": 157,
   "metadata": {
    "collapsed": true
   },
   "outputs": [],
   "source": [
    "import matplotlib.pyplot as plt\n",
    "import mglearn\n",
    "import numpy as np\n",
    "import pandas as pd\n",
    "from numpy import random\n",
    "from sklearn.linear_model import LogisticRegression\n",
    "from sklearn.neighbors import KNeighborsClassifier\n",
    "\n",
    "random.seed(42)\n",
    "\n",
    "\n",
    "def generate_neighborhood_in_rectangle(\n",
    "        class_name,\n",
    "        neighbor_count,\n",
    "        x_min,\n",
    "        x_max,\n",
    "        y_min,\n",
    "        y_max,\n",
    "):\n",
    "    items = []\n",
    "    X_set = []\n",
    "    y_set = []\n",
    "    for i in range(0, neighbor_count):\n",
    "        feature_1 = random.randint(x_min, x_max)\n",
    "        feature_2 = random.randint(y_min, y_max)\n",
    "        # item = {'class': class_name, 'x': x, 'y': y}\n",
    "        item = [class_name, feature_1, feature_2]\n",
    "        X_set.append([feature_1, feature_2])\n",
    "        y_set.append(class_name)\n",
    "\n",
    "    neighborhood = pd.DataFrame(items, columns=['Class', 'f1', 'f2'])\n",
    "\n",
    "    return np.array(X_set), np.array(y_set)\n",
    "\n",
    "\n",
    "def split_X_y(neighborhood):\n",
    "    y = pd.DataFrame(neighborhood.Class, columns=['Class'])\n",
    "    X = pd.DataFrame(\n",
    "        [\n",
    "            neighborhood,\n",
    "            neighborhood.f2\n",
    "        ], columns=['f1', 'f2']\n",
    "    )\n",
    "    return X, y"
   ]
  },
  {
   "cell_type": "code",
   "execution_count": 82,
   "outputs": [
    {
     "name": "stdout",
     "output_type": "stream",
     "text": [
      "[[6 3]\n",
      " [7 4]\n",
      " [6 9]\n",
      " [2 6]\n",
      " [7 4]\n",
      " [3 7]\n",
      " [7 2]\n",
      " [5 4]\n",
      " [1 7]\n",
      " [5 1]\n",
      " [4 0]\n",
      " [9 5]\n",
      " [8 0]]\n",
      "['alpha' 'alpha' 'alpha' 'alpha' 'alpha' 'alpha' 'alpha' 'alpha' 'alpha'\n",
      " 'alpha' 'alpha' 'alpha' 'alpha']\n",
      "[]\n",
      "[[6 3]]\n"
     ]
    },
    {
     "data": {
      "text/plain": "Text(0, 0.5, 'Feature: Y')"
     },
     "execution_count": 82,
     "metadata": {},
     "output_type": "execute_result"
    },
    {
     "data": {
      "text/plain": "<Figure size 432x288 with 1 Axes>",
      "image/png": "[encoded data removed]"
     },
     "metadata": {
      "needs_background": "light"
     },
     "output_type": "display_data"
    }
   ],
   "source": [
    "random.seed(42)\n",
    "\n",
    "X, y = generate_neighborhood_in_rectangle('alpha', 13, 0, 10, 0, 10)\n",
    "print(X)\n",
    "print(y)\n",
    "\n",
    "print(X[:0])\n",
    "print(X[:1])\n",
    "mglearn.discrete_scatter(X[:, 0], X[:, 1], y)\n",
    "plt.legend(['Alpha'])\n",
    "plt.xlabel('Feature: X')\n",
    "plt.ylabel('Feature: Y')"
   ],
   "metadata": {
    "collapsed": false,
    "pycharm": {
     "name": "#%%\n"
    }
   }
  },
  {
   "cell_type": "code",
   "execution_count": 154,
   "outputs": [
    {
     "data": {
      "text/plain": "Text(0, 0.5, 'Feature 2')"
     },
     "execution_count": 154,
     "metadata": {},
     "output_type": "execute_result"
    },
    {
     "data": {
      "text/plain": "<Figure size 432x288 with 1 Axes>",
      "image/png": "[encoded data removed]"
     },
     "metadata": {
      "needs_background": "light"
     },
     "output_type": "display_data"
    }
   ],
   "source": [
    "random.seed(42)\n",
    "\n",
    "class_A_X, class_A_y = generate_neighborhood_in_rectangle('alpha', 13, 0, 10, 0, 10)\n",
    "class_B_X, class_B_y = generate_neighborhood_in_rectangle('beta', 13, 10, 20, 10, 20)\n",
    "X_train = np.concatenate((class_A_X, class_B_X))\n",
    "y_train = np.concatenate((class_A_y, class_B_y))\n",
    "\n",
    "# create the misclassified examples\n",
    "misclassified_beta_1 = [10, 8]\n",
    "misclassified_beta_2 = [7, 12] # done\n",
    "misclassified_alpha_1 = [9, 10] # done\n",
    "misclassified_alpha_2 = [12, 8] # done\n",
    "X_train = np.append(\n",
    "    X_train,\n",
    "    [misclassified_beta_1, misclassified_beta_2,\n",
    "        misclassified_alpha_1, misclassified_alpha_2],\n",
    "    axis=0\n",
    ")\n",
    "# np.append(X_train, misclassified_beta_2)\n",
    "y_train = np.append(y_train, 'beta')\n",
    "y_train = np.append(y_train, 'beta')\n",
    "y_train = np.append(y_train, 'alpha')\n",
    "y_train = np.append(y_train, 'alpha')\n",
    "\n",
    "mglearn.discrete_scatter(X_train[:, 0], X_train[:, 1], y_train)\n",
    "plt.legend(['Alpha', 'Beta'])\n",
    "plt.xlabel('Feature 1')\n",
    "plt.ylabel('Feature 2')"
   ],
   "metadata": {
    "collapsed": false,
    "pycharm": {
     "name": "#%%\n"
    }
   }
  },
  {
   "cell_type": "code",
   "execution_count": 155,
   "outputs": [
    {
     "name": "stdout",
     "output_type": "stream",
     "text": [
      "0.8666666666666667\n"
     ]
    }
   ],
   "source": [
    "knn = KNeighborsClassifier(n_neighbors=3)\n",
    "knn.fit(X_train, y_train)\n",
    "print(knn.score(X_train, y_train))"
   ],
   "metadata": {
    "collapsed": false,
    "pycharm": {
     "name": "#%%\n"
    }
   }
  },
  {
   "cell_type": "code",
   "execution_count": 156,
   "outputs": [
    {
     "name": "stdout",
     "output_type": "stream",
     "text": [
      "30\n",
      "4\n",
      "[26 27 28 29]\n",
      "[10  8]\n",
      "[ 7 12]\n",
      "[ 9 10]\n",
      "[12  8]\n"
     ]
    }
   ],
   "source": [
    "y_predictions = knn.predict(X_train)\n",
    "\n",
    "misclassified_indices = np.where((y_predictions != y_train))[0]\n",
    "print(len(y_train))\n",
    "print(len(misclassified_indices))\n",
    "print(misclassified_indices)\n",
    "for i in misclassified_indices:\n",
    "    print(X_train[i])"
   ],
   "metadata": {
    "collapsed": false,
    "pycharm": {
     "name": "#%%\n"
    }
   }
  },
  {
   "cell_type": "code",
   "execution_count": 159,
   "outputs": [
    {
     "name": "stdout",
     "output_type": "stream",
     "text": [
      "0.9333333333333333\n"
     ]
    }
   ],
   "source": [
    "logreg = LogisticRegression()\n",
    "logreg.fit(X_train, y_train)\n",
    "print(logreg.score(X_train, y_train))"
   ],
   "metadata": {
    "collapsed": false,
    "pycharm": {
     "name": "#%%\n"
    }
   }
  },
  {
   "cell_type": "markdown",
   "source": [],
   "metadata": {
    "collapsed": false,
    "pycharm": {
     "name": "#%% md\n"
    }
   }
  }
 ],
 "metadata": {
  "kernelspec": {
   "display_name": "Python 3",
   "language": "python",
   "name": "python3"
  },
  "language_info": {
   "codemirror_mode": {
    "name": "ipython",
    "version": 2
   },
   "file_extension": ".py",
   "mimetype": "text/x-python",
   "name": "python",
   "nbconvert_exporter": "python",
   "pygments_lexer": "ipython2",
   "version": "2.7.6"
  }
 },
 "nbformat": 4,
 "nbformat_minor": 0
}
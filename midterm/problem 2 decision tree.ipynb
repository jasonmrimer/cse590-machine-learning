{
 "cells": [
  {
   "cell_type": "markdown",
   "source": [
    "# Problem 2: Decision Tree\n",
    "Create a 2-dimensional data set with 30 samples that has the following properties\n",
    "1. Samples should belong to 2 classes (15 samples per class)\n",
    "2. All samples can be correctly classified using a decision tree classifier with only 2 levels\n",
    "3. The data cannot be perfectly classified using a linear classifier.\n",
    "\n",
    "If it is not possible to generate such data, explain why. Otherwise, generate a scatter plot of your data using a different color/symbol for each class. Indicate the samples that cannot be classified correctly using a linear classifier.\n",
    "\n",
    "Display your 2-level decision tree indicating the feature/threshold used at each non-leaf node and\n",
    "the number of samples at each leaf node.\n",
    "\n",
    "Note: This data should be generated manually and you do not need to run any code on it\n",
    "\n",
    "\n"
   ],
   "metadata": {
    "collapsed": false,
    "pycharm": {
     "name": "#%% md\n"
    }
   }
  },
  {
   "cell_type": "code",
   "execution_count": null,
   "metadata": {
    "collapsed": true
   },
   "outputs": [],
   "source": [
    "import matplotlib.pyplot as plt\n",
    "import mglearn\n",
    "import numpy as np\n",
    "import pandas\n",
    "import pandas as pd\n",
    "import sns as sns\n",
    "from numpy import random\n",
    "from sklearn.linear_model import LogisticRegression\n",
    "from sklearn.model_selection import GridSearchCV\n",
    "from sklearn.neighbors import KNeighborsClassifier\n",
    "\n",
    "random.seed(42)\n",
    "\n",
    "\n",
    "def generate_neighborhood_in_rectangle(\n",
    "        class_name,\n",
    "        neighbor_count,\n",
    "        x_min,\n",
    "        x_max,\n",
    "        y_min,\n",
    "        y_max,\n",
    "):\n",
    "    items = []\n",
    "    X_set = []\n",
    "    y_set = []\n",
    "    for i in range(0, neighbor_count):\n",
    "        feature_1 = random.uniform(x_min, x_max)\n",
    "        feature_2 = random.uniform(y_min, y_max)\n",
    "        # item = {'class': class_name, 'x': x, 'y': y}\n",
    "        item = [class_name, feature_1, feature_2]\n",
    "        X_set.append([feature_1, feature_2])\n",
    "        y_set.append(class_name)\n",
    "\n",
    "    neighborhood = pd.DataFrame(items, columns=['Class', 'f1', 'f2'])\n",
    "\n",
    "    return np.array(X_set), np.array(y_set)\n",
    "\n",
    "\n",
    "def split_X_y(neighborhood):\n",
    "    y = pd.DataFrame(neighborhood.Class, columns=['Class'])\n",
    "    X = pd.DataFrame(\n",
    "        [\n",
    "            neighborhood,\n",
    "            neighborhood.f2\n",
    "        ], columns=['f1', 'f2']\n",
    "    )\n",
    "    return X, y"
   ]
  },
  {
   "cell_type": "code",
   "execution_count": null,
   "outputs": [],
   "source": [
    "random.seed(42)\n",
    "\n",
    "quadrant_1_X, quadrant_1_y = generate_neighborhood_in_rectangle(1, 15, 10, 20, 10, 20)\n",
    "quadrant_2_X, quadrant_2_y = generate_neighborhood_in_rectangle(0, 5, 10, 20, 0, 10)\n",
    "quadrant_3_X, quadrant_3_y = generate_neighborhood_in_rectangle(0, 5, 0, 10, 0, 10)\n",
    "quadrant_4_X, quadrant_4_y = generate_neighborhood_in_rectangle(0, 5, 0, 10, 10, 20)\n",
    "X_train = np.concatenate((quadrant_1_X, quadrant_2_X, quadrant_3_X,quadrant_4_X))\n",
    "print(X_train)\n",
    "y_train = np.concatenate((quadrant_1_y, quadrant_2_y, quadrant_3_y,quadrant_4_y))\n",
    "print(y_train)\n",
    "\n",
    "mglearn.discrete_scatter(X_train[:, 0], X_train[:, 1], y_train)\n",
    "plt.legend(['Alpha', 'Beta'])\n",
    "plt.xlabel('Feature 1')\n",
    "plt.ylabel('Feature 2')"
   ],
   "metadata": {
    "collapsed": false,
    "pycharm": {
     "name": "#%%\n"
    }
   }
  },
  {
   "cell_type": "code",
   "execution_count": null,
   "outputs": [],
   "source": [
    "from mlxtend.plotting import plot_decision_regions\n",
    "from sklearn.tree import DecisionTreeClassifier\n",
    "from sklearn.model_selection import train_test_split\n",
    "\n",
    "# iris_dataset = datasets.load_iris()\n",
    "#\n",
    "# X_train, X_test, y_train, y_test = train_test_split(\n",
    "#     iris_dataset['data'], iris_dataset['target'], random_state=0\n",
    "# )\n",
    "\n",
    "decision_tree = DecisionTreeClassifier(\n",
    "    criterion='gini',\n",
    "    max_depth=2,\n",
    "    random_state=1\n",
    ")\n",
    "decision_tree.fit(X_train, y_train)\n",
    "\n",
    "mglearn.plots.plot_tree_partition(\n",
    "    X_train,\n",
    "    y_train,\n",
    "    decision_tree\n",
    ")\n",
    "\n",
    "print(decision_tree.score(X_train, y_train))"
   ],
   "metadata": {
    "collapsed": false,
    "pycharm": {
     "name": "#%%\n"
    }
   }
  },
  {
   "cell_type": "code",
   "execution_count": null,
   "outputs": [],
   "source": [
    "clf = LogisticRegression()\n",
    "clf.fit(X_train, y_train)\n",
    "print(clf.score(X_train, y_train))"
   ],
   "metadata": {
    "collapsed": false,
    "pycharm": {
     "name": "#%%\n"
    }
   }
  },
  {
   "cell_type": "code",
   "execution_count": null,
   "outputs": [],
   "source": [
    "from IPython.core.display_functions import display\n",
    "from sklearn.tree import export_graphviz\n",
    "\n",
    "export_graphviz(\n",
    "    decision_tree,\n",
    "    out_file=\"tree.dot\",\n",
    "    class_names=[\"alpha\", \"beta\"],\n",
    "    feature_names=['feature 1', 'feature 2'],\n",
    "    impurity=False,\n",
    "    filled=True\n",
    ")\n",
    "\n",
    "import graphviz\n",
    "with open(\"tree.dot\") as f:\n",
    "    dot_graph = f.read()\n",
    "display(graphviz.Source(dot_graph))"
   ],
   "metadata": {
    "collapsed": false,
    "pycharm": {
     "name": "#%%\n"
    }
   }
  }
 ],
 "metadata": {
  "kernelspec": {
   "display_name": "Python 3",
   "language": "python",
   "name": "python3"
  },
  "language_info": {
   "codemirror_mode": {
    "name": "ipython",
    "version": 2
   },
   "file_extension": ".py",
   "mimetype": "text/x-python",
   "name": "python",
   "nbconvert_exporter": "python",
   "pygments_lexer": "ipython2",
   "version": "2.7.6"
  }
 },
 "nbformat": 4,
 "nbformat_minor": 0
}
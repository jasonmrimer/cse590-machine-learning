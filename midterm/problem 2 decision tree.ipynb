{
 "cells": [
  {
   "cell_type": "markdown",
   "source": [
    "# Problem 2: Decision Tree\n",
    "Create a 2-dimensional data set with 30 samples that has the following properties\n",
    "1. Samples should belong to 2 classes (15 samples per class)\n",
    "2. All samples can be correctly classified using a decision tree classifier with only 2 levels\n",
    "3. The data cannot be perfectly classified using a linear classifier.\n",
    "\n",
    "If it is not possible to generate such data, explain why. Otherwise, generate a scatter plot of your data using a different color/symbol for each class. Indicate the samples that cannot be classified correctly using a linear classifier.\n",
    "\n",
    "Display your 2-level decision tree indicating the feature/threshold used at each non-leaf node and\n",
    "the number of samples at each leaf node.\n",
    "\n",
    "Note: This data should be generated manually and you do not need to run any code on it\n",
    "\n",
    "\n"
   ],
   "metadata": {
    "collapsed": false,
    "pycharm": {
     "name": "#%% md\n"
    }
   }
  },
  {
   "cell_type": "code",
   "execution_count": 2,
   "metadata": {
    "collapsed": true
   },
   "outputs": [],
   "source": [
    "import matplotlib.pyplot as plt\n",
    "import mglearn\n",
    "import numpy as np\n",
    "import pandas\n",
    "import pandas as pd\n",
    "import sns as sns\n",
    "from numpy import random\n",
    "from sklearn.linear_model import LogisticRegression\n",
    "from sklearn.model_selection import GridSearchCV\n",
    "from sklearn.neighbors import KNeighborsClassifier\n",
    "\n",
    "random.seed(42)\n",
    "\n",
    "\n",
    "def generate_neighborhood_in_rectangle(\n",
    "        class_name,\n",
    "        neighbor_count,\n",
    "        x_min,\n",
    "        x_max,\n",
    "        y_min,\n",
    "        y_max,\n",
    "):\n",
    "    items = []\n",
    "    X_set = []\n",
    "    y_set = []\n",
    "    for i in range(0, neighbor_count):\n",
    "        feature_1 = random.uniform(x_min, x_max)\n",
    "        feature_2 = random.uniform(y_min, y_max)\n",
    "        # item = {'class': class_name, 'x': x, 'y': y}\n",
    "        item = [class_name, feature_1, feature_2]\n",
    "        X_set.append([feature_1, feature_2])\n",
    "        y_set.append(class_name)\n",
    "\n",
    "    neighborhood = pd.DataFrame(items, columns=['Class', 'f1', 'f2'])\n",
    "\n",
    "    return np.array(X_set), np.array(y_set)\n",
    "\n",
    "\n",
    "def split_X_y(neighborhood):\n",
    "    y = pd.DataFrame(neighborhood.Class, columns=['Class'])\n",
    "    X = pd.DataFrame(\n",
    "        [\n",
    "            neighborhood,\n",
    "            neighborhood.f2\n",
    "        ], columns=['f1', 'f2']\n",
    "    )\n",
    "    return X, y"
   ]
  },
  {
   "cell_type": "code",
   "execution_count": 8,
   "outputs": [
    {
     "name": "stdout",
     "output_type": "stream",
     "text": [
      "[[13.74540119 19.50714306]\n",
      " [17.31993942 15.98658484]\n",
      " [11.5601864  11.5599452 ]\n",
      " [10.58083612 18.66176146]\n",
      " [16.01115012 17.08072578]\n",
      " [10.20584494 19.69909852]\n",
      " [18.32442641 12.12339111]\n",
      " [11.81824967 11.8340451 ]\n",
      " [13.04242243 15.24756432]\n",
      " [14.31945019 12.9122914 ]\n",
      " [16.11852895 11.39493861]\n",
      " [12.92144649 13.66361843]\n",
      " [14.56069984 17.85175961]\n",
      " [11.99673782 15.14234438]\n",
      " [15.92414569 10.46450413]\n",
      " [16.07544852  1.70524124]\n",
      " [10.65051593  9.48885537]\n",
      " [19.65632033  8.08397348]\n",
      " [13.04613769  0.97672114]\n",
      " [16.84233027  4.40152494]\n",
      " [ 1.22038235  4.9517691 ]\n",
      " [ 0.34388521  9.09320402]\n",
      " [ 2.58779982  6.62522284]\n",
      " [ 3.11711076  5.20068021]\n",
      " [ 5.46710279  1.84854456]\n",
      " [ 9.69584628 17.75132823]\n",
      " [ 9.39498942 18.9482735 ]\n",
      " [ 5.97899979 19.21874235]\n",
      " [ 0.88492502 11.95982862]\n",
      " [ 0.45227289 13.25330331]]\n",
      "[1 1 1 1 1 1 1 1 1 1 1 1 1 1 1 0 0 0 0 0 0 0 0 0 0 0 0 0 0 0]\n"
     ]
    },
    {
     "data": {
      "text/plain": "Text(0, 0.5, 'Feature 2')"
     },
     "execution_count": 8,
     "metadata": {},
     "output_type": "execute_result"
    },
    {
     "data": {
      "text/plain": "<Figure size 432x288 with 1 Axes>",
      "image/png": "[encoded data removed]"
     },
     "metadata": {
      "needs_background": "light"
     },
     "output_type": "display_data"
    }
   ],
   "source": [
    "random.seed(42)\n",
    "\n",
    "quadrant_1_X, quadrant_1_y = generate_neighborhood_in_rectangle(1, 15, 10, 20, 10, 20)\n",
    "quadrant_2_X, quadrant_2_y = generate_neighborhood_in_rectangle(0, 5, 10, 20, 0, 10)\n",
    "quadrant_3_X, quadrant_3_y = generate_neighborhood_in_rectangle(0, 5, 0, 10, 0, 10)\n",
    "quadrant_4_X, quadrant_4_y = generate_neighborhood_in_rectangle(0, 5, 0, 10, 10, 20)\n",
    "X_train = np.concatenate((quadrant_1_X, quadrant_2_X, quadrant_3_X,quadrant_4_X))\n",
    "print(X_train)\n",
    "y_train = np.concatenate((quadrant_1_y, quadrant_2_y, quadrant_3_y,quadrant_4_y))\n",
    "print(y_train)\n",
    "\n",
    "mglearn.discrete_scatter(X_train[:, 0], X_train[:, 1], y_train)\n",
    "plt.legend(['Alpha', 'Beta'])\n",
    "plt.xlabel('Feature 1')\n",
    "plt.ylabel('Feature 2')"
   ],
   "metadata": {
    "collapsed": false,
    "pycharm": {
     "name": "#%%\n"
    }
   }
  },
  {
   "cell_type": "code",
   "execution_count": 10,
   "outputs": [
    {
     "name": "stdout",
     "output_type": "stream",
     "text": [
      "1.0\n"
     ]
    },
    {
     "data": {
      "text/plain": "<Figure size 432x288 with 1 Axes>",
      "image/png": "[encoded data removed]"
     },
     "metadata": {},
     "output_type": "display_data"
    }
   ],
   "source": [
    "from mlxtend.plotting import plot_decision_regions\n",
    "from sklearn.tree import DecisionTreeClassifier\n",
    "from sklearn.model_selection import train_test_split\n",
    "\n",
    "# iris_dataset = datasets.load_iris()\n",
    "#\n",
    "# X_train, X_test, y_train, y_test = train_test_split(\n",
    "#     iris_dataset['data'], iris_dataset['target'], random_state=0\n",
    "# )\n",
    "\n",
    "decision_tree = DecisionTreeClassifier(\n",
    "    criterion='gini',\n",
    "    max_depth=2,\n",
    "    random_state=1\n",
    ")\n",
    "decision_tree.fit(X_train, y_train)\n",
    "\n",
    "mglearn.plots.plot_tree_partition(\n",
    "    X_train,\n",
    "    y_train,\n",
    "    decision_tree\n",
    ")\n",
    "\n",
    "print(decision_tree.score(X_train, y_train))"
   ],
   "metadata": {
    "collapsed": false,
    "pycharm": {
     "name": "#%%\n"
    }
   }
  },
  {
   "cell_type": "code",
   "execution_count": 11,
   "outputs": [
    {
     "name": "stdout",
     "output_type": "stream",
     "text": [
      "0.8333333333333334\n"
     ]
    }
   ],
   "source": [
    "clf = LogisticRegression()\n",
    "clf.fit(X_train, y_train)\n",
    "print(clf.score(X_train, y_train))"
   ],
   "metadata": {
    "collapsed": false,
    "pycharm": {
     "name": "#%%\n"
    }
   }
  },
  {
   "cell_type": "code",
   "execution_count": 12,
   "outputs": [
    {
     "data": {
      "image/svg+xml": "<?xml version=\"1.0\" encoding=\"UTF-8\" standalone=\"no\"?>\n<!DOCTYPE svg PUBLIC \"-//W3C//DTD SVG 1.1//EN\"\n \"http://www.w3.org/Graphics/SVG/1.1/DTD/svg11.dtd\">\n<!-- Generated by graphviz version 2.50.0 (20211204.2007)\n -->\n<!-- Title: Tree Pages: 1 -->\n<svg width=\"301pt\" height=\"269pt\"\n viewBox=\"0.00 0.00 301.00 269.00\" xmlns=\"http://www.w3.org/2000/svg\" xmlns:xlink=\"http://www.w3.org/1999/xlink\">\n<g id=\"graph0\" class=\"graph\" transform=\"scale(1 1) rotate(0) translate(4 265)\">\n<title>Tree</title>\n<polygon fill=\"white\" stroke=\"transparent\" points=\"-4,4 -4,-265 297,-265 297,4 -4,4\"/>\n<!-- 0 -->\n<g id=\"node1\" class=\"node\">\n<title>0</title>\n<polygon fill=\"#ffffff\" stroke=\"black\" points=\"181,-261 53,-261 53,-193 181,-193 181,-261\"/>\n<text text-anchor=\"middle\" x=\"117\" y=\"-245.8\" font-family=\"Helvetica,sans-Serif\" font-size=\"14.00\">feature 2 &lt;= 9.977</text>\n<text text-anchor=\"middle\" x=\"117\" y=\"-230.8\" font-family=\"Helvetica,sans-Serif\" font-size=\"14.00\">samples = 30</text>\n<text text-anchor=\"middle\" x=\"117\" y=\"-215.8\" font-family=\"Helvetica,sans-Serif\" font-size=\"14.00\">value = [15, 15]</text>\n<text text-anchor=\"middle\" x=\"117\" y=\"-200.8\" font-family=\"Helvetica,sans-Serif\" font-size=\"14.00\">class = alpha</text>\n</g>\n<!-- 1 -->\n<g id=\"node2\" class=\"node\">\n<title>1</title>\n<polygon fill=\"#e58139\" stroke=\"black\" points=\"102,-149.5 0,-149.5 0,-96.5 102,-96.5 102,-149.5\"/>\n<text text-anchor=\"middle\" x=\"51\" y=\"-134.3\" font-family=\"Helvetica,sans-Serif\" font-size=\"14.00\">samples = 10</text>\n<text text-anchor=\"middle\" x=\"51\" y=\"-119.3\" font-family=\"Helvetica,sans-Serif\" font-size=\"14.00\">value = [10, 0]</text>\n<text text-anchor=\"middle\" x=\"51\" y=\"-104.3\" font-family=\"Helvetica,sans-Serif\" font-size=\"14.00\">class = alpha</text>\n</g>\n<!-- 0&#45;&gt;1 -->\n<g id=\"edge1\" class=\"edge\">\n<title>0&#45;&gt;1</title>\n<path fill=\"none\" stroke=\"black\" d=\"M95.57,-192.88C88.38,-181.78 80.36,-169.37 73.12,-158.18\"/>\n<polygon fill=\"black\" stroke=\"black\" points=\"75.88,-156.01 67.51,-149.52 70.01,-159.82 75.88,-156.01\"/>\n<text text-anchor=\"middle\" x=\"62.27\" y=\"-170.26\" font-family=\"Helvetica,sans-Serif\" font-size=\"14.00\">True</text>\n</g>\n<!-- 2 -->\n<g id=\"node3\" class=\"node\">\n<title>2</title>\n<polygon fill=\"#7bbeee\" stroke=\"black\" points=\"248,-157 120,-157 120,-89 248,-89 248,-157\"/>\n<text text-anchor=\"middle\" x=\"184\" y=\"-141.8\" font-family=\"Helvetica,sans-Serif\" font-size=\"14.00\">feature 1 &lt;= 9.951</text>\n<text text-anchor=\"middle\" x=\"184\" y=\"-126.8\" font-family=\"Helvetica,sans-Serif\" font-size=\"14.00\">samples = 20</text>\n<text text-anchor=\"middle\" x=\"184\" y=\"-111.8\" font-family=\"Helvetica,sans-Serif\" font-size=\"14.00\">value = [5, 15]</text>\n<text text-anchor=\"middle\" x=\"184\" y=\"-96.8\" font-family=\"Helvetica,sans-Serif\" font-size=\"14.00\">class = beta</text>\n</g>\n<!-- 0&#45;&gt;2 -->\n<g id=\"edge2\" class=\"edge\">\n<title>0&#45;&gt;2</title>\n<path fill=\"none\" stroke=\"black\" d=\"M138.75,-192.88C144.43,-184.24 150.62,-174.82 156.55,-165.79\"/>\n<polygon fill=\"black\" stroke=\"black\" points=\"159.56,-167.58 162.13,-157.3 153.71,-163.74 159.56,-167.58\"/>\n<text text-anchor=\"middle\" x=\"167.2\" y=\"-178.08\" font-family=\"Helvetica,sans-Serif\" font-size=\"14.00\">False</text>\n</g>\n<!-- 3 -->\n<g id=\"node4\" class=\"node\">\n<title>3</title>\n<polygon fill=\"#e58139\" stroke=\"black\" points=\"173,-53 77,-53 77,0 173,0 173,-53\"/>\n<text text-anchor=\"middle\" x=\"125\" y=\"-37.8\" font-family=\"Helvetica,sans-Serif\" font-size=\"14.00\">samples = 5</text>\n<text text-anchor=\"middle\" x=\"125\" y=\"-22.8\" font-family=\"Helvetica,sans-Serif\" font-size=\"14.00\">value = [5, 0]</text>\n<text text-anchor=\"middle\" x=\"125\" y=\"-7.8\" font-family=\"Helvetica,sans-Serif\" font-size=\"14.00\">class = alpha</text>\n</g>\n<!-- 2&#45;&gt;3 -->\n<g id=\"edge3\" class=\"edge\">\n<title>2&#45;&gt;3</title>\n<path fill=\"none\" stroke=\"black\" d=\"M163.36,-88.95C157.88,-80.17 151.95,-70.66 146.42,-61.82\"/>\n<polygon fill=\"black\" stroke=\"black\" points=\"149.33,-59.87 141.07,-53.24 143.4,-63.57 149.33,-59.87\"/>\n</g>\n<!-- 4 -->\n<g id=\"node5\" class=\"node\">\n<title>4</title>\n<polygon fill=\"#399de5\" stroke=\"black\" points=\"293,-53 191,-53 191,0 293,0 293,-53\"/>\n<text text-anchor=\"middle\" x=\"242\" y=\"-37.8\" font-family=\"Helvetica,sans-Serif\" font-size=\"14.00\">samples = 15</text>\n<text text-anchor=\"middle\" x=\"242\" y=\"-22.8\" font-family=\"Helvetica,sans-Serif\" font-size=\"14.00\">value = [0, 15]</text>\n<text text-anchor=\"middle\" x=\"242\" y=\"-7.8\" font-family=\"Helvetica,sans-Serif\" font-size=\"14.00\">class = beta</text>\n</g>\n<!-- 2&#45;&gt;4 -->\n<g id=\"edge4\" class=\"edge\">\n<title>2&#45;&gt;4</title>\n<path fill=\"none\" stroke=\"black\" d=\"M204.29,-88.95C209.68,-80.17 215.51,-70.66 220.94,-61.82\"/>\n<polygon fill=\"black\" stroke=\"black\" points=\"223.96,-63.59 226.2,-53.24 217.99,-59.93 223.96,-63.59\"/>\n</g>\n</g>\n</svg>\n",
      "text/plain": "<graphviz.sources.Source at 0x13b2cb850>"
     },
     "metadata": {},
     "output_type": "display_data"
    }
   ],
   "source": [
    "from IPython.core.display_functions import display\n",
    "from sklearn.tree import export_graphviz\n",
    "\n",
    "export_graphviz(\n",
    "    decision_tree,\n",
    "    out_file=\"tree.dot\",\n",
    "    class_names=[\"alpha\", \"beta\"],\n",
    "    feature_names=['feature 1', 'feature 2'],\n",
    "    impurity=False,\n",
    "    filled=True\n",
    ")\n",
    "\n",
    "import graphviz\n",
    "with open(\"tree.dot\") as f:\n",
    "    dot_graph = f.read()\n",
    "display(graphviz.Source(dot_graph))"
   ],
   "metadata": {
    "collapsed": false,
    "pycharm": {
     "name": "#%%\n"
    }
   }
  }
 ],
 "metadata": {
  "kernelspec": {
   "display_name": "Python 3",
   "language": "python",
   "name": "python3"
  },
  "language_info": {
   "codemirror_mode": {
    "name": "ipython",
    "version": 2
   },
   "file_extension": ".py",
   "mimetype": "text/x-python",
   "name": "python",
   "nbconvert_exporter": "python",
   "pygments_lexer": "ipython2",
   "version": "2.7.6"
  }
 },
 "nbformat": 4,
 "nbformat_minor": 0
}
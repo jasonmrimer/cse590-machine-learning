{
 "cells": [
  {
   "cell_type": "markdown",
   "metadata": {
    "collapsed": true,
    "pycharm": {
     "name": "#%% md\n"
    }
   },
   "source": [
    "# Problem 3: Regression\n",
    "For this problem, you need to use the built-in sklearn California Housing dataset. You can load this data using\n",
    "-- from sklearn.datasets import fetch_california_housing\n",
    "-- cal_housing = fetch_california_housing()\n",
    "\n",
    "Divide the data into training and test sets using train_test_split and random_state=38\n",
    "\n",
    "The goal is to experiment with few regression algorithms and compare their performance on this data.\n",
    "1. Build and train a LASSO Regression model. Vary the constraint parameter α and analyze the results by identifying cases of overfitting and underfitting. Select the optimal value of α and justify your choice.\n",
    "2. Build and train a Decision Tree regression model. Vary the pruning parameter and analyze the results by identifying cases of overfitting and underfitting. Select the optimal pruning and justify your choice.\n",
    "3. Compare the accuracy of the 2 methods and the relevant features identified by each method and comment on the results."
   ]
  },
  {
   "cell_type": "markdown",
   "source": [
    "import libraries"
   ],
   "metadata": {
    "collapsed": false
   }
  },
  {
   "cell_type": "code",
   "execution_count": null,
   "outputs": [],
   "source": [
    "import operator\n",
    "\n",
    "import matplotlib.pyplot as plt\n",
    "import mglearn\n",
    "import numpy as np\n",
    "import pandas\n",
    "import pandas as pd\n",
    "import sklearn_evaluation\n",
    "import sns as sns\n",
    "from numpy import random\n",
    "from sklearn import metrics\n",
    "from sklearn.linear_model import LogisticRegression, Lasso\n",
    "from sklearn.model_selection import GridSearchCV, train_test_split\n",
    "from sklearn.neighbors import KNeighborsClassifier\n",
    "from sklearn.tree import DecisionTreeRegressor\n",
    "\n",
    "random.seed(38)\n",
    "np.random.seed(38)"
   ],
   "metadata": {
    "collapsed": false,
    "pycharm": {
     "name": "#%%\n"
    }
   }
  },
  {
   "cell_type": "markdown",
   "source": [
    "import data"
   ],
   "metadata": {
    "collapsed": false
   }
  },
  {
   "cell_type": "code",
   "execution_count": null,
   "outputs": [],
   "source": [
    "from sklearn.datasets import fetch_california_housing\n",
    "\n",
    "cal_housing = fetch_california_housing()\n",
    "\n",
    "X_train, X_test, y_train, y_test = train_test_split(\n",
    "    cal_housing['data'],\n",
    "    cal_housing['target'],\n",
    "    random_state=38,\n",
    ")\n",
    "\n",
    "print(len(X_train))\n",
    "print(len(X_test))"
   ],
   "metadata": {
    "collapsed": false,
    "pycharm": {
     "name": "#%%\n"
    }
   }
  },
  {
   "cell_type": "markdown",
   "source": [
    "## LASSO"
   ],
   "metadata": {
    "collapsed": false
   }
  },
  {
   "cell_type": "code",
   "execution_count": null,
   "outputs": [],
   "source": [
    "\n",
    "def grid_search_lasso(alphas):\n",
    "    lasso_reg = Lasso(random_state=38)\n",
    "    hyperparameters = {'alpha': alphas}\n",
    "    grid_search = GridSearchCV(\n",
    "        lasso_reg,\n",
    "        hyperparameters,\n",
    "        cv=4,\n",
    "        return_train_score=True\n",
    "    )\n",
    "    grid_search.fit(X_train, y_train)\n",
    "\n",
    "    print_grid_search_results(grid_search, hyperparameters)\n",
    "    return grid_search\n",
    "\n",
    "\n",
    "def print_grid_search_results(grid_search, parameters):\n",
    "    for parameter in parameters:\n",
    "        print(f'Best {parameter}:', grid_search.best_params_[parameter])\n",
    "    print(\"Train Score: \", grid_search.score(X_train, y_train))\n",
    "    print(\"Test Score: \", grid_search.score(X_test, y_test))\n",
    "\n",
    "\n",
    "def graph_grid_results_lasso(grid_results, scale):\n",
    "    alphas = pd.DataFrame(grid_results.cv_results_['params'])\n",
    "    train_scores = pd.DataFrame(grid_results.cv_results_['mean_train_score'], columns=['Train'])\n",
    "    test_scores = pd.DataFrame(grid_results.cv_results_['mean_test_score'],  columns=['Test'])\n",
    "    display_frame = pd.concat([train_scores, test_scores], axis=1)\n",
    "    print(alphas.values.flatten())\n",
    "    print(display_frame)\n",
    "    display_frame.index = alphas.values.flatten()\n",
    "    # display_test = pd.concat([alphas, test_scores], axis=1)\n",
    "    if scale=='log':\n",
    "        display_frame.plot(logx=True)\n",
    "    else:\n",
    "        display_frame.plot()\n",
    "\n",
    "    # display_test.plot()\n",
    "    # fig, ax = plt.subplots()\n",
    "    # ax.set_xscale('log')\n",
    "    # ax.plot([alpha[0] for alpha in results], [train[1] for train in results])\n",
    "    # ax.plot([alpha[0] for alpha in results], [test[2] for test in results])\n",
    "    # plt.show()\n",
    "\n",
    "# test_scores_frame = alphas_frame.append(\n",
    "#     pd.DataFrame(grid_results.cv_results_['mean_test_score'])\n",
    "# )\n",
    "# train_scores_frame.plot\n",
    "# ax.set_xscale(scale)"
   ],
   "metadata": {
    "collapsed": false,
    "pycharm": {
     "name": "#%%\n"
    }
   }
  },
  {
   "cell_type": "markdown",
   "source": [
    "Trial 1"
   ],
   "metadata": {
    "collapsed": false
   }
  },
  {
   "cell_type": "code",
   "execution_count": null,
   "outputs": [],
   "source": [
    "alphas = np.logspace(0, 4, 20)\n",
    "grid_search_lasso_t1 = grid_search_lasso(alphas)"
   ],
   "metadata": {
    "collapsed": false,
    "pycharm": {
     "name": "#%%\n"
    }
   }
  },
  {
   "cell_type": "code",
   "execution_count": null,
   "outputs": [],
   "source": [
    "graph_grid_results_lasso(grid_search_lasso_t1, 'log')"
   ],
   "metadata": {
    "collapsed": false,
    "pycharm": {
     "name": "#%%\n"
    }
   }
  },
  {
   "cell_type": "markdown",
   "source": [
    "Trial 2"
   ],
   "metadata": {
    "collapsed": false
   }
  },
  {
   "cell_type": "code",
   "execution_count": null,
   "outputs": [],
   "source": [
    "alphas = np.logspace(-4, 0, 20)\n",
    "grid_search_lasso_t2 = grid_search_lasso(alphas)"
   ],
   "metadata": {
    "collapsed": false,
    "pycharm": {
     "name": "#%%\n"
    }
   }
  },
  {
   "cell_type": "code",
   "execution_count": null,
   "outputs": [],
   "source": [
    "graph_grid_results_lasso(grid_search_lasso_t2, 'log')"
   ],
   "metadata": {
    "collapsed": false,
    "pycharm": {
     "name": "#%%\n"
    }
   }
  },
  {
   "cell_type": "code",
   "execution_count": null,
   "outputs": [],
   "source": [
    "alphas = np.linspace(0.0001, 0.002, 200)\n",
    "grid_search_lasso_t3 = grid_search_lasso(alphas)"
   ],
   "metadata": {
    "collapsed": false,
    "pycharm": {
     "name": "#%%\n"
    }
   }
  },
  {
   "cell_type": "code",
   "execution_count": null,
   "outputs": [],
   "source": [
    "graph_grid_results_lasso(grid_search_lasso_t3, 'linear')"
   ],
   "metadata": {
    "collapsed": false,
    "pycharm": {
     "name": "#%%\n"
    }
   }
  },
  {
   "cell_type": "markdown",
   "source": [
    "optimal lasso"
   ],
   "metadata": {
    "collapsed": false
   }
  },
  {
   "cell_type": "code",
   "execution_count": null,
   "outputs": [],
   "source": [
    "optimal_lasso = Lasso(alpha=1)\n",
    "optimal_lasso.fit(X_train, y_train)\n",
    "\n",
    "print(\"Train Score: \", optimal_lasso.score(X_train, y_train))\n",
    "print(\"Test Score: \", optimal_lasso.score(X_test, y_test))"
   ],
   "metadata": {
    "collapsed": false,
    "pycharm": {
     "name": "#%%\n"
    }
   }
  },
  {
   "cell_type": "markdown",
   "source": [
    "## Decision Tree regression"
   ],
   "metadata": {
    "collapsed": false
   }
  },
  {
   "cell_type": "code",
   "execution_count": null,
   "outputs": [],
   "source": [
    "default_dt = DecisionTreeRegressor(random_state=38)\n",
    "default_dt.fit(X_train, y_train)\n",
    "print(\"Train Score: \", default_dt.score(X_train, y_train))\n",
    "print(\"Test Score: \", default_dt.score(X_test, y_test))\n",
    "print(default_dt.get_depth())"
   ],
   "metadata": {
    "collapsed": false,
    "pycharm": {
     "name": "#%%\n"
    }
   }
  },
  {
   "cell_type": "markdown",
   "source": [
    "general functions"
   ],
   "metadata": {
    "collapsed": false
   }
  },
  {
   "cell_type": "code",
   "execution_count": null,
   "outputs": [],
   "source": [
    "def grid_search_decision_tree(\n",
    "        max_depths,\n",
    "        min_samples_splits,\n",
    "        min_samples_leafs=None\n",
    "):\n",
    "    decision_tree = DecisionTreeRegressor(random_state=38)\n",
    "    hyperparameters = {\n",
    "        'max_depth': max_depths,\n",
    "        'min_samples_split': min_samples_splits,\n",
    "    }\n",
    "    include_additional_parameters(min_samples_leafs, hyperparameters)\n",
    "\n",
    "    grid_search = GridSearchCV(\n",
    "        decision_tree,\n",
    "        hyperparameters,\n",
    "        cv=4\n",
    "    )\n",
    "    grid_search.fit(X_train, y_train)\n",
    "\n",
    "    print_grid_search_results(grid_search, hyperparameters)\n",
    "    return grid_search\n",
    "\n",
    "\n",
    "def include_additional_parameters(min_sample_leafs, parameters):\n",
    "    if min_sample_leafs is not None:\n",
    "        parameters.update({'min_samples_leaf': min_sample_leafs})\n",
    "\n",
    "\n",
    "def print_grid_search_results(grid_search, parameters):\n",
    "    for parameter in parameters:\n",
    "        print(f'Best {parameter}:', grid_search.best_params_[parameter])\n",
    "    print(\"Train Score: \", grid_search.score(X_train, y_train))\n",
    "    print(\"Test Score: \", grid_search.score(X_test, y_test))\n",
    "\n",
    "\n",
    "def graph_grid_search_decision_tree(grid_search):\n",
    "    plt.figure(figsize=(16, 16), dpi=80)\n",
    "    sklearn_evaluation.evaluator.plot.grid_search(\n",
    "        grid_search.cv_results_,\n",
    "        change=('max_depth', 'min_samples_split'),\n",
    "        # subset={\n",
    "        #     'max_depth': [3, 5],\n",
    "        #     'min_samples_split': [3, 5]\n",
    "        # }\n",
    "    )\n",
    "\n",
    "    plt.title(\"Decision Tree\")\n",
    "    plt.xlabel(\"max_depth\")\n",
    "    plt.ylabel(\"min_samples_split\")\n",
    "    # plt.legend()\n",
    "    plt.show()"
   ],
   "metadata": {
    "collapsed": false,
    "pycharm": {
     "name": "#%%\n"
    }
   }
  },
  {
   "cell_type": "markdown",
   "source": [
    "Trial 1 max_depth and min_samples_splits"
   ],
   "metadata": {
    "collapsed": false
   }
  },
  {
   "cell_type": "code",
   "execution_count": null,
   "outputs": [],
   "source": [
    "max_depths = np.logspace(0, 3, 20, dtype=int)\n",
    "min_samples_splits = np.logspace(0, 3, 20, dtype=int)\n",
    "\n",
    "grid_results_t1 = % time grid_search_decision_tree(max_depths, min_samples_splits)"
   ],
   "metadata": {
    "collapsed": false,
    "pycharm": {
     "name": "#%%\n"
    }
   }
  },
  {
   "cell_type": "code",
   "execution_count": null,
   "outputs": [],
   "source": [
    "print(grid_results_t1)\n",
    "graph_grid_search_decision_tree(grid_results_t1)\n"
   ],
   "metadata": {
    "collapsed": false,
    "pycharm": {
     "name": "#%%\n"
    }
   }
  },
  {
   "cell_type": "code",
   "execution_count": null,
   "outputs": [],
   "source": [
    "max_depths = np.linspace(0, 20, 20, dtype=int)\n",
    "min_samples_splits = np.linspace(0, 100, 20, dtype=int)\n",
    "\n",
    "grid_results_t2 = grid_search_decision_tree(max_depths, min_samples_splits)"
   ],
   "metadata": {
    "collapsed": false,
    "pycharm": {
     "name": "#%%\n"
    }
   }
  },
  {
   "cell_type": "code",
   "execution_count": null,
   "outputs": [],
   "source": [
    "graph_grid_search_decision_tree(grid_results_t2)"
   ],
   "metadata": {
    "collapsed": false,
    "pycharm": {
     "name": "#%%\n"
    }
   }
  },
  {
   "cell_type": "code",
   "execution_count": null,
   "outputs": [],
   "source": [
    "max_depths = np.linspace(15, 25, 10, dtype=int)\n",
    "min_samples_splits = np.linspace(30, 60, 10, dtype=int)\n",
    "\n",
    "grid_results_t3 = grid_search_decision_tree(max_depths, min_samples_splits)"
   ],
   "metadata": {
    "collapsed": false,
    "pycharm": {
     "name": "#%%\n"
    }
   }
  },
  {
   "cell_type": "code",
   "execution_count": null,
   "outputs": [],
   "source": [
    "graph_grid_search_decision_tree(grid_results_t3)"
   ],
   "metadata": {
    "collapsed": false,
    "pycharm": {
     "name": "#%%\n"
    }
   }
  },
  {
   "cell_type": "markdown",
   "source": [
    "trial with 3 variables"
   ],
   "metadata": {
    "collapsed": false
   }
  },
  {
   "cell_type": "code",
   "execution_count": null,
   "outputs": [],
   "source": [],
   "metadata": {
    "collapsed": false,
    "pycharm": {
     "name": "#%%\n"
    }
   }
  },
  {
   "cell_type": "code",
   "execution_count": null,
   "outputs": [],
   "source": [
    "max_depths = np.linspace(10, 20, 5, dtype=int)\n",
    "min_samples_splits = np.linspace(50, 60, 5, dtype=int)\n",
    "min_samples_leafs = np.linspace(1, 10, 5, dtype=int)\n",
    "\n",
    "grid_results_t4 = grid_search_decision_tree(\n",
    "    max_depths,\n",
    "    min_samples_splits,\n",
    "    min_samples_leafs\n",
    ")"
   ],
   "metadata": {
    "collapsed": false,
    "pycharm": {
     "name": "#%%\n"
    }
   }
  },
  {
   "cell_type": "markdown",
   "source": [
    "trial 6"
   ],
   "metadata": {
    "collapsed": false
   }
  },
  {
   "cell_type": "code",
   "execution_count": null,
   "outputs": [],
   "source": [
    "max_depths = np.linspace(10, 30, 10, dtype=int)\n",
    "min_samples_splits = np.linspace(40, 60, 10, dtype=int)\n",
    "min_samples_leafs = np.linspace(1, 20, 10, dtype=int)\n",
    "\n",
    "grid_results_t6 = grid_search_decision_tree(\n",
    "    max_depths,\n",
    "    min_samples_splits,\n",
    "    min_samples_leafs\n",
    ")"
   ],
   "metadata": {
    "collapsed": false,
    "pycharm": {
     "name": "#%%\n"
    }
   }
  },
  {
   "cell_type": "markdown",
   "source": [
    "plot all 3 vars"
   ],
   "metadata": {
    "collapsed": false
   }
  },
  {
   "cell_type": "code",
   "execution_count": null,
   "outputs": [],
   "source": [
    "def plot_3d_heatmap(grid_results):\n",
    "    result_params = grid_results.cv_results_['params']\n",
    "    df = pd.DataFrame(result_params)\n",
    "    fig = plt.figure()\n",
    "    ax = fig.add_subplot(111, projection='3d')\n",
    "    x = df.loc[:, 'max_depth']\n",
    "    y = df.loc[:, 'min_samples_split']\n",
    "    z = df.loc[:, 'min_samples_leaf']\n",
    "    c = grid_results.cv_results_['mean_test_score']\n",
    "    img = ax.scatter(x, y, z, c=c, cmap=plt.hot())\n",
    "    fig.colorbar(img)\n",
    "    plt.show()\n",
    "\n",
    "\n",
    "plot_3d_heatmap(grid_results_t6)\n"
   ],
   "metadata": {
    "collapsed": false,
    "pycharm": {
     "name": "#%%\n"
    }
   }
  },
  {
   "cell_type": "code",
   "execution_count": null,
   "outputs": [],
   "source": [
    "max_depths = np.linspace(1, 60, 10, dtype=int)\n",
    "min_samples_splits = np.linspace(1, 60, 10, dtype=int)\n",
    "min_samples_leafs = np.linspace(1, 60, 10, dtype=int)\n",
    "\n",
    "grid_results_t7 = grid_search_decision_tree(\n",
    "    max_depths,\n",
    "    min_samples_splits,\n",
    "    min_samples_leafs\n",
    ")"
   ],
   "metadata": {
    "collapsed": false,
    "pycharm": {
     "name": "#%%\n"
    }
   }
  },
  {
   "cell_type": "code",
   "execution_count": null,
   "outputs": [],
   "source": [
    "plot_3d_heatmap(grid_results_t7)"
   ],
   "metadata": {
    "collapsed": false,
    "pycharm": {
     "name": "#%%\n"
    }
   }
  },
  {
   "cell_type": "markdown",
   "source": [
    "t2"
   ],
   "metadata": {
    "collapsed": false,
    "pycharm": {
     "name": "#%% md\n"
    }
   }
  },
  {
   "cell_type": "code",
   "execution_count": null,
   "outputs": [],
   "source": [
    "max_depths = np.linspace(10, 30, 10, dtype=int)\n",
    "min_samples_splits = np.linspace(30, 60, 10, dtype=int)\n",
    "min_samples_leafs = np.linspace(5, 25, 10, dtype=int)\n",
    "\n",
    "grid_results_t9 = grid_search_decision_tree(\n",
    "    max_depths,\n",
    "    min_samples_splits,\n",
    "    min_samples_leafs\n",
    ")"
   ],
   "metadata": {
    "collapsed": false,
    "pycharm": {
     "name": "#%%\n"
    }
   }
  },
  {
   "cell_type": "code",
   "execution_count": null,
   "outputs": [],
   "source": [
    "plot_3d_heatmap(grid_results_t9)"
   ],
   "metadata": {
    "collapsed": false,
    "pycharm": {
     "name": "#%%\n"
    }
   }
  },
  {
   "cell_type": "markdown",
   "source": [
    "trial 3"
   ],
   "metadata": {
    "collapsed": false
   }
  },
  {
   "cell_type": "code",
   "execution_count": null,
   "outputs": [],
   "source": [
    "max_depths = np.linspace(10, 18, 8, dtype=int)\n",
    "min_samples_splits = np.linspace(32, 40, 8, dtype=int)\n",
    "min_samples_leafs = np.linspace(7, 15, 8, dtype=int)\n",
    "\n",
    "grid_results_t10 = grid_search_decision_tree(\n",
    "    max_depths,\n",
    "    min_samples_splits,\n",
    "    min_samples_leafs\n",
    ")"
   ],
   "metadata": {
    "collapsed": false,
    "pycharm": {
     "name": "#%%\n"
    }
   }
  },
  {
   "cell_type": "code",
   "execution_count": null,
   "outputs": [],
   "source": [
    "plot_3d_heatmap(grid_results_t10)"
   ],
   "metadata": {
    "collapsed": false,
    "pycharm": {
     "name": "#%%\n"
    }
   }
  },
  {
   "cell_type": "code",
   "execution_count": null,
   "outputs": [],
   "source": [
    "max_depths = np.linspace(8, 16, 8, dtype=int)\n",
    "min_samples_splits = np.linspace(46, 54, 8, dtype=int)\n",
    "min_samples_leafs = np.linspace(20, 28, 8, dtype=int)\n",
    "\n",
    "grid_results_11 = grid_search_decision_tree(\n",
    "    max_depths,\n",
    "    min_samples_splits,\n",
    "    min_samples_leafs\n",
    ")"
   ],
   "metadata": {
    "collapsed": false,
    "pycharm": {
     "name": "#%%\n"
    }
   }
  },
  {
   "cell_type": "code",
   "execution_count": null,
   "outputs": [],
   "source": [],
   "metadata": {
    "collapsed": false,
    "pycharm": {
     "name": "#%%\n"
    }
   }
  },
  {
   "cell_type": "markdown",
   "source": [
    "Optimal Decision Tree after training"
   ],
   "metadata": {
    "collapsed": false
   }
  },
  {
   "cell_type": "code",
   "execution_count": null,
   "outputs": [],
   "source": [
    "optimal_decision_tree = DecisionTreeRegressor(\n",
    "    max_depth=13,\n",
    "    min_samples_split=48,\n",
    "    min_samples_leaf=11,\n",
    "    random_state=38\n",
    ")\n",
    "optimal_decision_tree.fit(X_train, y_train)\n",
    "\n",
    "print(\"Train Score: \", optimal_decision_tree.score(X_train, y_train))\n",
    "print(\"Test Score: \", optimal_decision_tree.score(X_test, y_test))\n",
    "print('depth', optimal_decision_tree.get_depth())"
   ],
   "metadata": {
    "collapsed": false,
    "pycharm": {
     "name": "#%%\n"
    }
   }
  },
  {
   "cell_type": "markdown",
   "source": [
    "## Feature Importance"
   ],
   "metadata": {
    "collapsed": false
   }
  },
  {
   "cell_type": "markdown",
   "source": [
    "### Lasso feature importance"
   ],
   "metadata": {
    "collapsed": false
   }
  },
  {
   "cell_type": "code",
   "execution_count": null,
   "outputs": [],
   "source": [
    "lasso_coefficients = optimal_lasso.coef_\n",
    "print(lasso_coefficients)"
   ],
   "metadata": {
    "collapsed": false,
    "pycharm": {
     "name": "#%%\n"
    }
   }
  },
  {
   "cell_type": "code",
   "execution_count": null,
   "outputs": [],
   "source": [
    "from sklearn.linear_model import LassoCV\n",
    "\n",
    "lasso_cv = LassoCV(random_state=38, cv=4)\n",
    "lasso_cv.fit(X_train, y_train)\n",
    "print(lasso_cv.alpha_)\n",
    "print(\"Train Score: \", lasso_cv.score(X_train, y_train))\n",
    "print(\"Test Score: \", lasso_cv.score(X_test, y_test))\n",
    "\n",
    "optimal_lasso_from_cv = Lasso(alpha=lasso_cv.alpha_)\n",
    "optimal_lasso_from_cv.fit(X_train, y_train)\n",
    "print(\"Train Score: \", optimal_lasso_from_cv.score(X_train, y_train))\n",
    "print(\"Test Score: \", optimal_lasso_from_cv.score(X_test, y_test))\n"
   ],
   "metadata": {
    "collapsed": false,
    "pycharm": {
     "name": "#%%\n"
    }
   }
  },
  {
   "cell_type": "code",
   "execution_count": null,
   "outputs": [],
   "source": [
    "# fig, ax = plt.subplots()\n",
    "# fig.set_figheight(4)\n",
    "# fig.set_figwidth(4)\n",
    "# plt.bar([x for x in range(len(lasso_coefficients))], lasso_coefficients)\n",
    "# plt.xlabel('Feature')\n",
    "# plt.ylabel('Importance')\n",
    "# plt.show()\n",
    "\n",
    "lasso_importance_frame = pd.DataFrame(\n",
    "    [lasso_coefficients],\n",
    ")\n",
    "lasso_importance_frame.transpose()\n",
    "lasso_importance_frame.columns = cal_housing.feature_names\n",
    "lasso_importance_frame.plot.bar()"
   ],
   "metadata": {
    "collapsed": false,
    "pycharm": {
     "name": "#%%\n"
    }
   }
  },
  {
   "cell_type": "markdown",
   "source": [
    "### Decision tree fetaure importance"
   ],
   "metadata": {
    "collapsed": false
   }
  },
  {
   "cell_type": "code",
   "execution_count": null,
   "outputs": [],
   "source": [
    "decision_tree_importances = optimal_decision_tree.feature_importances_\n",
    "\n",
    "dt_importance_frame = pd.DataFrame(\n",
    "    [decision_tree_importances],\n",
    ")\n",
    "dt_importance_frame.transpose()\n",
    "dt_importance_frame.columns = cal_housing.feature_names\n",
    "dt_importance_frame.plot.bar()"
   ],
   "metadata": {
    "collapsed": false,
    "pycharm": {
     "name": "#%%\n"
    }
   }
  },
  {
   "cell_type": "code",
   "execution_count": null,
   "outputs": [],
   "source": [],
   "metadata": {
    "collapsed": false,
    "pycharm": {
     "name": "#%%\n"
    }
   }
  },
  {
   "cell_type": "code",
   "execution_count": null,
   "outputs": [],
   "source": [
    "from IPython.core.display_functions import display\n",
    "from sklearn.tree import export_graphviz\n",
    "\n",
    "export_graphviz(\n",
    "    optimal_decision_tree,\n",
    "    out_file=\"tree.dot\",\n",
    "    feature_names=cal_housing.feature_names,\n",
    "    impurity=False,\n",
    "    filled=True\n",
    ")\n",
    "\n",
    "import graphviz\n",
    "with open(\"tree.dot\") as f:\n",
    "    dot_graph = f.read()\n",
    "display(graphviz.Source(dot_graph))"
   ],
   "metadata": {
    "collapsed": false,
    "pycharm": {
     "name": "#%%\n"
    }
   }
  },
  {
   "cell_type": "code",
   "execution_count": null,
   "outputs": [],
   "source": [],
   "metadata": {
    "collapsed": false,
    "pycharm": {
     "name": "#%%\n"
    }
   }
  }
 ],
 "metadata": {
  "kernelspec": {
   "display_name": "Python 3",
   "language": "python",
   "name": "python3"
  },
  "language_info": {
   "codemirror_mode": {
    "name": "ipython",
    "version": 2
   },
   "file_extension": ".py",
   "mimetype": "text/x-python",
   "name": "python",
   "nbconvert_exporter": "python",
   "pygments_lexer": "ipython2",
   "version": "2.7.6"
  }
 },
 "nbformat": 4,
 "nbformat_minor": 0
}
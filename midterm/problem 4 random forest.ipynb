{
 "cells": [
  {
   "cell_type": "markdown",
   "source": [
    "# Problem 4\n",
    "For this problem, you need to use the built-in sklearn digits dataset. You can load this data using Sklearn.datasets.load_digits (*, n_class=10,return_X_y=False, as_frame=False) Divide the data into training and test sets using train_test_split and random_state=0 The goal is to train a Random Forest classifier and optimize its performance on this data.\n",
    "1. Identify the most important parameters that affect the performance of the Random Forest classifier and outline your experimental design (using 4-fold cross validation) to learn the optimal values for these parameters.\n",
    "2. Analyze the results of the classifier using its optimal parameters and comment on its generalization capability.\n",
    "3. Visualize and explain the relevant features identified by the Random Forest classifier.\n",
    "+ Create a white 8x8 image that represents the original 64 features. Map each identified relevant feature to this 2D image and display it using a grey scale that reflects its importance (e.g. 0 most relevant feature and 255  least relevant feature).\n",
    "4. Identify one misclassified sample from each class (if they exist). Visualize each misclassified sample as an 8x8 image, and use its nearest neighbors and the learned important features to explain why it was misclassified.\n",
    "\n",
    "Hint: for examples on how to read this data and visualize it, check\n",
    "https://scikit-learn.org/stable/auto_examples/classification/plot_digits_classification.html#sphx-glrauto-examples-classification-plot-digits-classification-py"
   ],
   "metadata": {
    "collapsed": false,
    "pycharm": {
     "name": "#%% md\n"
    }
   }
  },
  {
   "cell_type": "markdown",
   "source": [
    "## Import and setup data"
   ],
   "metadata": {
    "collapsed": false
   }
  },
  {
   "cell_type": "code",
   "execution_count": 150,
   "metadata": {
    "collapsed": true
   },
   "outputs": [
    {
     "name": "stdout",
     "output_type": "stream",
     "text": [
      "1347\n",
      "450\n"
     ]
    }
   ],
   "source": [
    "import heapq\n",
    "\n",
    "import numpy as np\n",
    "import pandas as pd\n",
    "import sklearn.datasets\n",
    "import sklearn_evaluation\n",
    "from matplotlib import pyplot as plt\n",
    "from sklearn import metrics\n",
    "from sklearn.ensemble import RandomForestClassifier\n",
    "from sklearn.model_selection import train_test_split, GridSearchCV\n",
    "\n",
    "digits = sklearn.datasets.load_digits(n_class=10, return_X_y=False, as_frame=False)\n",
    "n_samples = len(digits.images)\n",
    "data = digits.images.reshape((n_samples, -1))\n",
    "\n",
    "X_train, X_test, y_train, y_test = train_test_split(\n",
    "    data,\n",
    "    digits.target,\n",
    "    random_state=0\n",
    ")\n",
    "print(len(X_train))\n",
    "print(len(X_test))"
   ]
  },
  {
   "cell_type": "markdown",
   "source": [
    "## Train Random Forest classifier"
   ],
   "metadata": {
    "collapsed": false,
    "pycharm": {
     "name": "#%% md\n"
    }
   }
  },
  {
   "cell_type": "code",
   "execution_count": 136,
   "outputs": [],
   "source": [
    "np.random.seed(42)\n",
    "\n",
    "\n",
    "def grid_search_random_forest(\n",
    "        n_estimators,\n",
    "        max_features,\n",
    "        max_depth=None,\n",
    "        max_leaf_nodes=None\n",
    "):\n",
    "    parameters = {\n",
    "        'n_estimators': n_estimators,\n",
    "        'max_features': max_features,\n",
    "    }\n",
    "    if max_depth is not None:\n",
    "        parameters.update({'max_depth': max_depth, })\n",
    "    if max_leaf_nodes is not None:\n",
    "        parameters.update({'max_leaf_nodes': max_leaf_nodes})\n",
    "    classifier = RandomForestClassifier(random_state=0)\n",
    "\n",
    "    grid_search = GridSearchCV(\n",
    "        classifier,\n",
    "        parameters,\n",
    "        cv=4,\n",
    "        return_train_score=True,\n",
    "\n",
    "    )\n",
    "\n",
    "    grid_search.fit(X_train, y_train)\n",
    "    print(\"Best n_estimators: \", grid_search.best_params_['n_estimators'])\n",
    "    print(\"Best max_features: \", grid_search.best_params_['max_features'])\n",
    "    if max_depth is not None:\n",
    "        print(\"Best max_depth: \", grid_search.best_params_['max_depth'])\n",
    "    if max_leaf_nodes is not None:\n",
    "        print(\"Best max_leaf_nodes: \", grid_search.best_params_['max_leaf_nodes'])\n",
    "    predictions = grid_search.predict(X_test)\n",
    "    print(\"Accuracy: \", metrics.accuracy_score(y_test, predictions))\n",
    "    return grid_search\n",
    "\n",
    "\n",
    "def graph_grid_search_random_forest(grid_search):\n",
    "    sklearn_evaluation.evaluator.plot.grid_search(\n",
    "        grid_search.cv_results_,\n",
    "        change=(\"n_estimators\", \"max_features\")\n",
    "    )\n",
    "\n",
    "    plt.title(\"Random Forest\")\n",
    "    plt.xlabel(\"n_estimators\")\n",
    "    plt.ylabel(\"max_features\")\n",
    "    plt.legend()\n",
    "    plt.show()"
   ],
   "metadata": {
    "collapsed": false,
    "pycharm": {
     "name": "#%%\n"
    }
   }
  },
  {
   "cell_type": "code",
   "execution_count": 137,
   "outputs": [
    {
     "name": "stdout",
     "output_type": "stream",
     "text": [
      "Best n_estimators:  40\n",
      "Best max_features:  3\n",
      "Accuracy:  0.9622222222222222\n",
      "CPU times: user 4.48 s, sys: 41.8 ms, total: 4.52 s\n",
      "Wall time: 4.53 s\n"
     ]
    }
   ],
   "source": [
    "np.random.seed(42)\n",
    "\n",
    "n_estimators = np.linspace(20, 40, 3, dtype=int)\n",
    "max_features = np.linspace(1, 12, 6, dtype=int)\n",
    "\n",
    "grid_search = % time grid_search_random_forest( n_estimators, max_features )"
   ],
   "metadata": {
    "collapsed": false,
    "pycharm": {
     "name": "#%%\n"
    }
   }
  },
  {
   "cell_type": "code",
   "execution_count": 138,
   "outputs": [
    {
     "name": "stderr",
     "output_type": "stream",
     "text": [
      "No artists with labels found to put in legend.  Note that artists whose label start with an underscore are ignored when legend() is called with no argument.\n"
     ]
    },
    {
     "data": {
      "text/plain": "<Figure size 432x288 with 2 Axes>",
      "image/png": "[encoded data removed]"
     },
     "metadata": {
      "needs_background": "light"
     },
     "output_type": "display_data"
    }
   ],
   "source": [
    "graph_grid_search_random_forest(grid_search)\n"
   ],
   "metadata": {
    "collapsed": false,
    "pycharm": {
     "name": "#%%\n"
    }
   }
  },
  {
   "cell_type": "code",
   "execution_count": 139,
   "outputs": [
    {
     "name": "stdout",
     "output_type": "stream",
     "text": [
      "Best n_estimators:  100\n",
      "Best max_features:  8\n",
      "Accuracy:  0.9755555555555555\n",
      "CPU times: user 11.8 s, sys: 68.8 ms, total: 11.8 s\n",
      "Wall time: 11.9 s\n"
     ]
    }
   ],
   "source": [
    "np.random.seed(42)\n",
    "\n",
    "n_estimators = np.linspace(40, 100, 3, dtype=int)\n",
    "max_features = np.linspace(7, 16, 6, dtype=int)\n",
    "\n",
    "grid_search = % time grid_search_random_forest( n_estimators, max_features )"
   ],
   "metadata": {
    "collapsed": false,
    "pycharm": {
     "name": "#%%\n"
    }
   }
  },
  {
   "cell_type": "code",
   "execution_count": 140,
   "outputs": [
    {
     "name": "stderr",
     "output_type": "stream",
     "text": [
      "No artists with labels found to put in legend.  Note that artists whose label start with an underscore are ignored when legend() is called with no argument.\n"
     ]
    },
    {
     "data": {
      "text/plain": "<Figure size 432x288 with 2 Axes>",
      "image/png": "[encoded data removed]"
     },
     "metadata": {
      "needs_background": "light"
     },
     "output_type": "display_data"
    }
   ],
   "source": [
    "graph_grid_search_random_forest(grid_search)\n"
   ],
   "metadata": {
    "collapsed": false,
    "pycharm": {
     "name": "#%%\n"
    }
   }
  },
  {
   "cell_type": "code",
   "execution_count": 141,
   "outputs": [
    {
     "name": "stdout",
     "output_type": "stream",
     "text": [
      "Best n_estimators:  80\n",
      "Best max_features:  11\n",
      "Accuracy:  0.98\n",
      "CPU times: user 17.4 s, sys: 114 ms, total: 17.5 s\n",
      "Wall time: 17.6 s\n"
     ]
    }
   ],
   "source": [
    "np.random.seed(42)\n",
    "\n",
    "n_estimators = np.linspace(50, 90, 5, dtype=int)\n",
    "max_features = np.linspace(10, 14, 5, dtype=int)\n",
    "\n",
    "grid_search = % time grid_search_random_forest( n_estimators, max_features )"
   ],
   "metadata": {
    "collapsed": false,
    "pycharm": {
     "name": "#%%\n"
    }
   }
  },
  {
   "cell_type": "code",
   "execution_count": 142,
   "outputs": [
    {
     "name": "stderr",
     "output_type": "stream",
     "text": [
      "No artists with labels found to put in legend.  Note that artists whose label start with an underscore are ignored when legend() is called with no argument.\n"
     ]
    },
    {
     "data": {
      "text/plain": "<Figure size 432x288 with 2 Axes>",
      "image/png": "[encoded data removed]"
     },
     "metadata": {
      "needs_background": "light"
     },
     "output_type": "display_data"
    }
   ],
   "source": [
    "graph_grid_search_random_forest(grid_search)"
   ],
   "metadata": {
    "collapsed": false,
    "pycharm": {
     "name": "#%%\n"
    }
   }
  },
  {
   "cell_type": "code",
   "execution_count": 143,
   "outputs": [
    {
     "name": "stdout",
     "output_type": "stream",
     "text": [
      "Best n_estimators:  40\n",
      "Best max_features:  3\n",
      "Best max_depth:  27\n",
      "Accuracy:  0.9622222222222222\n",
      "CPU times: user 20.7 s, sys: 223 ms, total: 20.9 s\n",
      "Wall time: 21 s\n"
     ]
    }
   ],
   "source": [
    "np.random.seed(42)\n",
    "\n",
    "n_estimators = np.linspace(20, 40, 3, dtype=int)\n",
    "max_features = np.linspace(1, 12, 6, dtype=int)\n",
    "max_depth = np.linspace(5, 50, 5, dtype=int)\n",
    "\n",
    "grid_search = % time grid_search_random_forest(n_estimators, max_features, max_depth)"
   ],
   "metadata": {
    "collapsed": false,
    "pycharm": {
     "name": "#%%\n"
    }
   }
  },
  {
   "cell_type": "code",
   "execution_count": 144,
   "outputs": [
    {
     "name": "stdout",
     "output_type": "stream",
     "text": [
      "Best n_estimators:  80\n",
      "Best max_features:  11\n",
      "Best max_depth:  16\n",
      "Accuracy:  0.98\n",
      "CPU times: user 1min 7s, sys: 504 ms, total: 1min 7s\n",
      "Wall time: 1min 8s\n"
     ]
    }
   ],
   "source": [
    "np.random.seed(42)\n",
    "\n",
    "n_estimators = np.linspace(60, 100, 3, dtype=int)\n",
    "max_features = np.linspace(9, 15, 6, dtype=int)\n",
    "max_depth = np.linspace(5, 50, 5, dtype=int)\n",
    "\n",
    "grid_search = % time grid_search_random_forest(n_estimators, max_features, max_depth)"
   ],
   "metadata": {
    "collapsed": false,
    "pycharm": {
     "name": "#%%\n"
    }
   }
  },
  {
   "cell_type": "code",
   "execution_count": 145,
   "outputs": [
    {
     "name": "stdout",
     "output_type": "stream",
     "text": [
      "Best n_estimators:  80\n",
      "Best max_features:  9\n",
      "Best max_depth:  20\n",
      "Best max_leaf_nodes:  50\n",
      "Accuracy:  0.9533333333333334\n",
      "CPU times: user 1min 9s, sys: 352 ms, total: 1min 10s\n",
      "Wall time: 1min 10s\n"
     ]
    },
    {
     "name": "stderr",
     "output_type": "stream",
     "text": [
      "/Users/engineer/workspace/cse590-machine-learning/venv/lib/python3.9/site-packages/sklearn/model_selection/_validation.py:372: FitFailedWarning: \n",
      "108 fits failed out of a total of 540.\n",
      "The score on these train-test partitions for these parameters will be set to nan.\n",
      "If these failures are not expected, you can try to debug them by setting error_score='raise'.\n",
      "\n",
      "Below are more details about the failures:\n",
      "--------------------------------------------------------------------------------\n",
      "108 fits failed with the following error:\n",
      "Traceback (most recent call last):\n",
      "  File \"/Users/engineer/workspace/cse590-machine-learning/venv/lib/python3.9/site-packages/sklearn/model_selection/_validation.py\", line 680, in _fit_and_score\n",
      "    estimator.fit(X_train, y_train, **fit_params)\n",
      "  File \"/Users/engineer/workspace/cse590-machine-learning/venv/lib/python3.9/site-packages/sklearn/ensemble/_forest.py\", line 450, in fit\n",
      "    trees = Parallel(\n",
      "  File \"/Users/engineer/workspace/cse590-machine-learning/venv/lib/python3.9/site-packages/joblib/parallel.py\", line 1043, in __call__\n",
      "    if self.dispatch_one_batch(iterator):\n",
      "  File \"/Users/engineer/workspace/cse590-machine-learning/venv/lib/python3.9/site-packages/joblib/parallel.py\", line 861, in dispatch_one_batch\n",
      "    self._dispatch(tasks)\n",
      "  File \"/Users/engineer/workspace/cse590-machine-learning/venv/lib/python3.9/site-packages/joblib/parallel.py\", line 779, in _dispatch\n",
      "    job = self._backend.apply_async(batch, callback=cb)\n",
      "  File \"/Users/engineer/workspace/cse590-machine-learning/venv/lib/python3.9/site-packages/joblib/_parallel_backends.py\", line 208, in apply_async\n",
      "    result = ImmediateResult(func)\n",
      "  File \"/Users/engineer/workspace/cse590-machine-learning/venv/lib/python3.9/site-packages/joblib/_parallel_backends.py\", line 572, in __init__\n",
      "    self.results = batch()\n",
      "  File \"/Users/engineer/workspace/cse590-machine-learning/venv/lib/python3.9/site-packages/joblib/parallel.py\", line 262, in __call__\n",
      "    return [func(*args, **kwargs)\n",
      "  File \"/Users/engineer/workspace/cse590-machine-learning/venv/lib/python3.9/site-packages/joblib/parallel.py\", line 262, in <listcomp>\n",
      "    return [func(*args, **kwargs)\n",
      "  File \"/Users/engineer/workspace/cse590-machine-learning/venv/lib/python3.9/site-packages/sklearn/utils/fixes.py\", line 216, in __call__\n",
      "    return self.function(*args, **kwargs)\n",
      "  File \"/Users/engineer/workspace/cse590-machine-learning/venv/lib/python3.9/site-packages/sklearn/ensemble/_forest.py\", line 185, in _parallel_build_trees\n",
      "    tree.fit(X, y, sample_weight=curr_sample_weight, check_input=False)\n",
      "  File \"/Users/engineer/workspace/cse590-machine-learning/venv/lib/python3.9/site-packages/sklearn/tree/_classes.py\", line 937, in fit\n",
      "    super().fit(\n",
      "  File \"/Users/engineer/workspace/cse590-machine-learning/venv/lib/python3.9/site-packages/sklearn/tree/_classes.py\", line 314, in fit\n",
      "    raise ValueError(\n",
      "ValueError: max_leaf_nodes 1 must be either None or larger than 1\n",
      "\n",
      "  warnings.warn(some_fits_failed_message, FitFailedWarning)\n",
      "/Users/engineer/workspace/cse590-machine-learning/venv/lib/python3.9/site-packages/sklearn/model_selection/_search.py:969: UserWarning: One or more of the test scores are non-finite: [       nan        nan        nan 0.9034946  0.90646416 0.91240992\n",
      " 0.93467394 0.93765013 0.93765455 0.94804031 0.95027245 0.94804472\n",
      " 0.95397944 0.95843269 0.95694901        nan        nan        nan\n",
      " 0.90350784 0.90128232 0.90275938 0.93170438 0.93615983 0.93467615\n",
      " 0.94729626 0.9443289  0.94655663 0.9554587  0.95471907 0.95471907\n",
      "        nan        nan        nan 0.89459693 0.89831055 0.89608061\n",
      " 0.92206046 0.92725555 0.92503003 0.93839197 0.93988007 0.94136154\n",
      " 0.94878656 0.94878435 0.94952619        nan        nan        nan\n",
      " 0.9034946  0.90646416 0.91240992 0.93467394 0.93765013 0.93765455\n",
      " 0.94952399 0.95027245 0.95101429 0.95546091 0.96066483 0.95992078\n",
      "        nan        nan        nan 0.90350784 0.90128232 0.90275938\n",
      " 0.93170438 0.93615983 0.93467615 0.94581037 0.94358706 0.94729626\n",
      " 0.95471907 0.95471907 0.95249135        nan        nan        nan\n",
      " 0.89459693 0.89831055 0.89608061 0.92206046 0.92725555 0.92503003\n",
      " 0.93690829 0.93913823 0.9406197  0.94730067 0.94878435 0.95100987\n",
      "        nan        nan        nan 0.9034946  0.90646416 0.91240992\n",
      " 0.93467394 0.93765013 0.93765455 0.94952399 0.95027245 0.95101429\n",
      " 0.95546091 0.96066483 0.95992078        nan        nan        nan\n",
      " 0.90350784 0.90128232 0.90275938 0.93170438 0.93615983 0.93467615\n",
      " 0.94581037 0.94358706 0.94729626 0.95471907 0.95471907 0.95249135\n",
      "        nan        nan        nan 0.89459693 0.89831055 0.89608061\n",
      " 0.92206046 0.92725555 0.92503003 0.93690829 0.93913823 0.9406197\n",
      " 0.94730067 0.94878435 0.95100987]\n",
      "  warnings.warn(\n",
      "/Users/engineer/workspace/cse590-machine-learning/venv/lib/python3.9/site-packages/sklearn/model_selection/_search.py:969: UserWarning: One or more of the train scores are non-finite: [       nan        nan        nan 0.93170104 0.93491764 0.93442283\n",
      " 0.9663452  0.96857195 0.96956229 0.98094451 0.98317174 0.9836663\n",
      " 0.99158587 0.99084281 0.99183291        nan        nan        nan\n",
      " 0.91957625 0.92106164 0.9225463  0.96065434 0.96114914 0.96263282\n",
      " 0.97896652 0.97995588 0.9797086  0.99133884 0.99183389 0.99232894\n",
      "        nan        nan        nan 0.91289406 0.916852   0.91635744\n",
      " 0.95644495 0.95842515 0.95793083 0.97723384 0.97995539 0.98069772\n",
      " 0.99307078 0.99480296 0.99381286        nan        nan        nan\n",
      " 0.93170104 0.93491764 0.93442283 0.9663452  0.96857195 0.96956229\n",
      " 0.98119179 0.98366655 0.98292422 0.99133835 0.99158538 0.99208019\n",
      "        nan        nan        nan 0.91957625 0.92106164 0.9225463\n",
      " 0.96040681 0.96114914 0.96263282 0.97896652 0.98020341 0.98020316\n",
      " 0.99059651 0.99158661 0.99232894        nan        nan        nan\n",
      " 0.91289406 0.916852   0.91635744 0.95669247 0.95842515 0.95842588\n",
      " 0.97698632 0.97995539 0.98094525 0.99257573 0.99356558 0.99406039\n",
      "        nan        nan        nan 0.93170104 0.93491764 0.93442283\n",
      " 0.9663452  0.96857195 0.96956229 0.98119179 0.98366655 0.98292422\n",
      " 0.99133835 0.99158538 0.99208019        nan        nan        nan\n",
      " 0.91957625 0.92106164 0.9225463  0.96040681 0.96114914 0.96263282\n",
      " 0.97896652 0.98020341 0.98020316 0.99059651 0.99158661 0.99232894\n",
      "        nan        nan        nan 0.91289406 0.916852   0.91635744\n",
      " 0.95669247 0.95842515 0.95842588 0.97698632 0.97995539 0.98094525\n",
      " 0.99257573 0.99356558 0.99406039]\n",
      "  warnings.warn(\n"
     ]
    }
   ],
   "source": [
    "np.random.seed(42)\n",
    "\n",
    "n_estimators = np.linspace(60, 100, 3, dtype=int)\n",
    "max_features = np.linspace(9, 15, 3, dtype=int)\n",
    "max_depth = np.linspace(10, 30, 3, dtype=int)\n",
    "max_leaf_nodes = np.linspace(1, 50, 5, dtype=int)\n",
    "\n",
    "grid_search = % time grid_search_random_forest(n_estimators, max_features, max_depth, max_leaf_nodes)"
   ],
   "metadata": {
    "collapsed": false,
    "pycharm": {
     "name": "#%%\n"
    }
   }
  },
  {
   "cell_type": "code",
   "execution_count": 146,
   "outputs": [
    {
     "name": "stdout",
     "output_type": "stream",
     "text": [
      "Best n_estimators:  100\n",
      "Best max_features:  15\n",
      "Best max_depth:  15\n",
      "Best max_leaf_nodes:  115\n",
      "Accuracy:  0.9711111111111111\n",
      "CPU times: user 1min 36s, sys: 454 ms, total: 1min 36s\n",
      "Wall time: 1min 36s\n"
     ]
    }
   ],
   "source": [
    "np.random.seed(42)\n",
    "\n",
    "n_estimators = np.linspace(60, 100, 3, dtype=int)\n",
    "max_features = np.linspace(12, 18, 3, dtype=int)\n",
    "max_depth = np.linspace(5, 15, 3, dtype=int)\n",
    "max_leaf_nodes = np.linspace(40, 140, 5, dtype=int)\n",
    "\n",
    "grid_search = % time grid_search_random_forest(n_estimators, max_features, max_depth, max_leaf_nodes)"
   ],
   "metadata": {
    "collapsed": false,
    "pycharm": {
     "name": "#%%\n"
    }
   }
  },
  {
   "cell_type": "code",
   "execution_count": 146,
   "outputs": [],
   "source": [],
   "metadata": {
    "collapsed": false,
    "pycharm": {
     "name": "#%%\n"
    }
   }
  },
  {
   "cell_type": "markdown",
   "source": [
    "## Test the trained model"
   ],
   "metadata": {
    "collapsed": false
   }
  },
  {
   "cell_type": "code",
   "execution_count": 205,
   "outputs": [
    {
     "name": "stdout",
     "output_type": "stream",
     "text": [
      "Train:  1.0\n",
      "Test:  0.9755555555555555\n"
     ]
    },
    {
     "data": {
      "text/plain": "0.9755555555555555"
     },
     "execution_count": 205,
     "metadata": {},
     "output_type": "execute_result"
    }
   ],
   "source": [
    "np.random.seed(42)\n",
    "\n",
    "rf = RandomForestClassifier(\n",
    "    n_estimators=100,\n",
    "    max_features=12,\n",
    "    max_depth=15,\n",
    "    max_leaf_nodes=140\n",
    ")\n",
    "rf.fit(X_train, y_train)\n",
    "print(\"Train: \", rf.score(X_train, y_train))\n",
    "print(\"Test: \", rf.score(X_test, y_test))\n",
    "y_predictions = rf.predict(X_test)\n",
    "metrics.accuracy_score(y_test, y_predictions)"
   ],
   "metadata": {
    "collapsed": false,
    "pycharm": {
     "name": "#%%\n"
    }
   }
  },
  {
   "cell_type": "code",
   "execution_count": 148,
   "outputs": [
    {
     "data": {
      "text/plain": "<Figure size 720x216 with 4 Axes>",
      "image/png": "[encoded data removed]"
     },
     "metadata": {
      "needs_background": "light"
     },
     "output_type": "display_data"
    }
   ],
   "source": [
    "\n",
    "\n",
    "_, axes = plt.subplots(nrows=1, ncols=4, figsize=(10, 3))\n",
    "for ax, importance_mask, actual in zip(axes, X_test, y_predictions):\n",
    "    ax.set_axis_off()\n",
    "    importance_mask = importance_mask.reshape(8, 8)\n",
    "    ax.imshow(importance_mask, cmap=plt.cm.gray_r, interpolation=\"nearest\")\n",
    "    ax.set_title(f\"Prediction: {actual}\")"
   ],
   "metadata": {
    "collapsed": false,
    "pycharm": {
     "name": "#%%\n"
    }
   }
  },
  {
   "cell_type": "code",
   "execution_count": 159,
   "outputs": [
    {
     "data": {
      "text/plain": "<Figure size 432x288 with 1 Axes>",
      "image/png": "[encoded data removed]"
     },
     "metadata": {
      "needs_background": "light"
     },
     "output_type": "display_data"
    }
   ],
   "source": [
    "importances = rf.feature_importances_\n",
    "std = np.std([tree.feature_importances_ for tree in rf.estimators_], axis=0)\n",
    "forest_importances = pd.Series(importances)\n",
    "\n",
    "fig, ax = plt.subplots()\n",
    "forest_importances.plot.bar(yerr=std, ax=ax)\n",
    "# ax.set_title(\"Feature importances using MDI\")\n",
    "ax.set_ylabel(\"Mean decrease in impurity\")\n",
    "fig.tight_layout()\n"
   ],
   "metadata": {
    "collapsed": false,
    "pycharm": {
     "name": "#%%\n"
    }
   }
  },
  {
   "cell_type": "code",
   "execution_count": 213,
   "outputs": [
    {
     "name": "stdout",
     "output_type": "stream",
     "text": [
      "[0.00000000e+00 2.10431396e-03 1.83677547e-02 9.28261338e-03\n",
      " 7.62547717e-03 2.04760689e-02 7.76879160e-03 9.71854074e-04\n",
      " 4.79455581e-05 9.31581744e-03 2.86981284e-02 5.32971226e-03\n",
      " 1.57540036e-02 2.53920980e-02 3.70290358e-03 5.51274648e-04\n",
      " 4.72724558e-05 5.58527198e-03 1.88612380e-02 2.98262272e-02\n",
      " 3.35185789e-02 5.75705884e-02 6.99603212e-03 2.46715506e-04\n",
      " 0.00000000e+00 1.12406353e-02 4.72709690e-02 2.77831321e-02\n",
      " 2.78898289e-02 2.29308660e-02 3.28928989e-02 0.00000000e+00\n",
      " 0.00000000e+00 3.49809541e-02 2.66032318e-02 1.53846975e-02\n",
      " 5.15379765e-02 1.65790929e-02 2.22232425e-02 0.00000000e+00\n",
      " 1.33363291e-05 1.15630480e-02 3.76816889e-02 4.67359721e-02\n",
      " 2.29311594e-02 1.94013799e-02 1.20364324e-02 1.05682425e-04\n",
      " 2.49311163e-05 2.38779896e-03 1.52652612e-02 2.02712641e-02\n",
      " 1.05509169e-02 2.37479677e-02 2.18940785e-02 8.84142791e-04\n",
      " 0.00000000e+00 2.36952765e-03 1.93137507e-02 8.98137671e-03\n",
      " 3.19250184e-02 2.91298517e-02 1.42562368e-02 3.17097011e-03]\n",
      "[0.05757058837460065, 0.05153797648309216, 0.04727096895049076, 0.04673597214888809, 0.03768168888813024, 0.034980954063166834, 0.03351857888265411, 0.03289289888795128, 0.0319250183868602]\n",
      "9\n",
      "[21, 36, 26, 43, 42, 33, 20, 30, 60]\n"
     ]
    }
   ],
   "source": [
    "import heapq\n",
    "\n",
    "print(importances)\n",
    "most_important = heapq.nlargest(9, importances)\n",
    "print(most_important)\n",
    "\n",
    "count_over_threshold = sum(map(lambda x: x >= 0.03, importances))\n",
    "print(count_over_threshold)\n",
    "\n",
    "indices_of_most_important_features = []\n",
    "for item in most_important:\n",
    "    item_index = np.argwhere(importances == item)\n",
    "    indices_of_most_important_features.append(item_index[0][0])\n",
    "\n",
    "print(indices_of_most_important_features)"
   ],
   "metadata": {
    "collapsed": false,
    "pycharm": {
     "name": "#%%\n"
    }
   }
  },
  {
   "cell_type": "code",
   "execution_count": 181,
   "outputs": [
    {
     "name": "stdout",
     "output_type": "stream",
     "text": [
      "Confusion matrix:\n",
      "[[37  0  0  0  0  0  0  0  0  0]\n",
      " [ 0 43  0  0  0  0  0  0  0  0]\n",
      " [ 1  1 42  0  0  0  0  0  0  0]\n",
      " [ 0  0  0 44  0  0  0  0  1  0]\n",
      " [ 0  0  0  0 37  0  0  1  0  0]\n",
      " [ 0  0  0  0  0 46  0  0  0  2]\n",
      " [ 0  0  0  0  0  0 52  0  0  0]\n",
      " [ 0  0  0  0  0  0  0 48  0  0]\n",
      " [ 0  2  0  1  0  0  0  1 44  0]\n",
      " [ 0  0  0  0  0  1  0  0  0 46]]\n"
     ]
    },
    {
     "data": {
      "text/plain": "<Figure size 432x288 with 2 Axes>",
      "image/png": "[encoded data removed]"
     },
     "metadata": {
      "needs_background": "light"
     },
     "output_type": "display_data"
    }
   ],
   "source": [
    "disp = metrics.ConfusionMatrixDisplay.from_predictions(y_test, y_predictions)\n",
    "disp.figure_.suptitle(\"Confusion Matrix\")\n",
    "print(f\"Confusion matrix:\\n{disp.confusion_matrix}\")\n",
    "\n",
    "plt.show()"
   ],
   "metadata": {
    "collapsed": false,
    "pycharm": {
     "name": "#%%\n"
    }
   }
  },
  {
   "cell_type": "code",
   "execution_count": 204,
   "outputs": [
    {
     "name": "stdout",
     "output_type": "stream",
     "text": [
      "(array([ 56, 117, 122, 124, 130, 158, 167, 181, 275, 315, 378]),)\n"
     ]
    }
   ],
   "source": [
    "misclassified_indices = np.where((y_predictions != y_test))\n",
    "print(misclassified_indices)"
   ],
   "metadata": {
    "collapsed": false,
    "pycharm": {
     "name": "#%%\n"
    }
   }
  },
  {
   "cell_type": "code",
   "execution_count": 206,
   "outputs": [
    {
     "name": "stdout",
     "output_type": "stream",
     "text": [
      "Expected:  5\n",
      "Actual:  9\n",
      "[ 0.  0.  4. 12. 16. 16. 11.  2.  0.  0. 15. 13.  8. 11.  8.  1.  0.  2.\n",
      " 15. 13. 16.  8.  0.  0.  0.  6. 16. 13. 13. 16.  2.  0.  0.  7. 11.  2.\n",
      "  2. 16.  6.  0.  0.  0.  0.  0.  5. 15.  2.  0.  0.  0.  9.  6. 13. 10.\n",
      "  0.  0.  0.  0.  7. 14. 13.  1.  0.  0.]\n"
     ]
    }
   ],
   "source": [
    "print('Expected: ', y_test[56])\n",
    "print('Actual: ', y_predictions[56])\n",
    "print(X_test[56])"
   ],
   "metadata": {
    "collapsed": false,
    "pycharm": {
     "name": "#%%\n"
    }
   }
  },
  {
   "cell_type": "code",
   "execution_count": 208,
   "outputs": [
    {
     "data": {
      "text/plain": "<Figure size 720x216 with 2 Axes>",
      "image/png": "[encoded data removed]"
     },
     "metadata": {
      "needs_background": "light"
     },
     "output_type": "display_data"
    }
   ],
   "source": [
    "\n",
    "misclassified_items = np.array([X_test[56], X_test[117]])\n",
    "expected_values = np.array([y_test[56], y_test[117]])\n",
    "actual_values = np.array([y_predictions[56], y_predictions[117]])\n",
    "_, axes = plt.subplots(nrows=1, ncols=2, figsize=(10, 3))\n",
    "for ax, importance_mask, expected, actual in zip(\n",
    "        axes,\n",
    "        misclassified_items,\n",
    "        expected_values,\n",
    "        actual_values\n",
    "):\n",
    "    ax.set_axis_off()\n",
    "    importance_mask = importance_mask.reshape(8, 8)\n",
    "    ax.imshow(importance_mask, cmap=plt.cm.gray_r, interpolation=\"nearest\")\n",
    "    ax.set_title(f\"Expected: {expected}\\nActual: {actual}\")\n"
   ],
   "metadata": {
    "collapsed": false,
    "pycharm": {
     "name": "#%%\n"
    }
   }
  },
  {
   "cell_type": "code",
   "execution_count": 219,
   "outputs": [
    {
     "name": "stdout",
     "output_type": "stream",
     "text": [
      "[0 0 0 0 0 0 0 0 0 0 0 0 0 0 0 0 0 0 0 0 1 1 0 0 0 0 1 0 0 0 1 0 0 1 0 0 1\n",
      " 0 0 0 0 0 1 1 0 0 0 0 0 0 0 0 0 0 0 0 0 0 0 0 1 0 0 0]\n"
     ]
    }
   ],
   "source": [
    "importance_image = []\n",
    "for i in range(0, 64):\n",
    "    importance_image.append(0)\n",
    "    if indices_of_most_important_features.__contains__(i):\n",
    "        importance_image[i] = 1\n",
    "\n",
    "importance_image = np.array(importance_image)\n",
    "print(importance_image)"
   ],
   "metadata": {
    "collapsed": false,
    "pycharm": {
     "name": "#%%\n"
    }
   }
  },
  {
   "cell_type": "code",
   "execution_count": 254,
   "outputs": [],
   "source": [
    "import matplotlib.pyplot as plt\n",
    "\n",
    "\n",
    "def map_importance_mask_over_digit_image(\n",
    "        misclassified_image,\n",
    "        importance_mask,\n",
    "        expected_result,\n",
    "        actual_result\n",
    "):\n",
    "    _, axes = plt.subplots(nrows=1, ncols=1, figsize=(10, 3))\n",
    "    ax = axes\n",
    "    ax.set_axis_off()\n",
    "    ax.imshow(\n",
    "        misclassified_image,\n",
    "        cmap=plt.cm.gray_r,\n",
    "        interpolation=\"nearest\",\n",
    "    )\n",
    "    ax.set_title(f\"Expected: {expected_result}\\nActual: {actual_result}\")\n",
    "\n",
    "    im = plt.imshow(\n",
    "        importance_mask,\n",
    "        cmap=plt.cm.gray_r,\n",
    "        interpolation='none',\n",
    "        vmin=0,\n",
    "        vmax=1,\n",
    "        aspect='equal',\n",
    "        alpha=0\n",
    "    )\n",
    "\n",
    "    def rect(pos):\n",
    "        r = plt.Rectangle(pos - 0.5, 1, 1, facecolor=\"none\", edgecolor=\"cyan\", linewidth=2)\n",
    "        plt.gca().add_patch(r)\n",
    "\n",
    "    x, y = np.meshgrid(np.arange(importance_mask.shape[1]), np.arange(importance_mask.shape[0]))\n",
    "    m = np.c_[x[importance_mask.astype(bool)], y[importance_mask.astype(bool)]]\n",
    "\n",
    "    for pos in m:\n",
    "        rect(pos)\n",
    "\n",
    "    plt.show()"
   ],
   "metadata": {
    "collapsed": false,
    "pycharm": {
     "name": "#%%\n"
    }
   }
  },
  {
   "cell_type": "code",
   "execution_count": 256,
   "outputs": [
    {
     "data": {
      "text/plain": "<Figure size 720x216 with 1 Axes>",
      "image/png": "[encoded data removed]"
     },
     "metadata": {
      "needs_background": "light"
     },
     "output_type": "display_data"
    },
    {
     "data": {
      "text/plain": "<Figure size 720x216 with 1 Axes>",
      "image/png": "[encoded data removed]"
     },
     "metadata": {
      "needs_background": "light"
     },
     "output_type": "display_data"
    }
   ],
   "source": [
    "_, axes = plt.subplots(nrows=1, ncols=1, figsize=(10, 3))\n",
    "ax = axes\n",
    "ax.set_axis_off()\n",
    "misclassified_image = X_test[56].reshape(8, 8)\n",
    "importance_mask = importance_image.reshape(8, 8)\n",
    "ax.imshow(\n",
    "    misclassified_image,\n",
    "    cmap=plt.cm.gray_r,\n",
    "    interpolation=\"nearest\",\n",
    ")\n",
    "ax.set_title(f\"Expected: {y_test[56]}\\nActual: {y_predictions[56]}\")\n",
    "\n",
    "import matplotlib.pyplot as plt\n",
    "import numpy as np\n",
    "\n",
    "im = plt.imshow(importance_mask, cmap=plt.cm.gray_r, interpolation='none', vmin=0, vmax=1, aspect='equal', alpha=0)\n",
    "\n",
    "\n",
    "def rect(pos):\n",
    "    r = plt.Rectangle(pos - 0.5, 1, 1, facecolor=\"none\", edgecolor=\"cyan\", linewidth=2)\n",
    "    plt.gca().add_patch(r)\n",
    "\n",
    "\n",
    "x, y = np.meshgrid(np.arange(importance_mask.shape[1]), np.arange(importance_mask.shape[0]))\n",
    "m = np.c_[x[importance_mask.astype(bool)], y[importance_mask.astype(bool)]]\n",
    "\n",
    "for pos in m:\n",
    "    rect(pos)\n",
    "\n",
    "plt.show()\n",
    "\n",
    "map_importance_mask_over_digit_image(\n",
    "    X_test[117].reshape(8, 8),\n",
    "    importance_image.reshape(8, 8),\n",
    "    y_test[117],\n",
    "    y_predictions[117]\n",
    ")"
   ],
   "metadata": {
    "collapsed": false,
    "pycharm": {
     "name": "#%%\n"
    }
   }
  },
  {
   "cell_type": "code",
   "execution_count": 225,
   "outputs": [
    {
     "data": {
      "text/plain": "0.37411464506583425"
     },
     "execution_count": 225,
     "metadata": {},
     "output_type": "execute_result"
    }
   ],
   "source": [
    "sum(most_important)"
   ],
   "metadata": {
    "collapsed": false,
    "pycharm": {
     "name": "#%%\n"
    }
   }
  },
  {
   "cell_type": "code",
   "execution_count": null,
   "outputs": [],
   "source": [
    "sum(most_important)\n"
   ],
   "metadata": {
    "collapsed": false,
    "pycharm": {
     "name": "#%%\n"
    }
   }
  }
 ],
 "metadata": {
  "kernelspec": {
   "display_name": "Python 3",
   "language": "python",
   "name": "python3"
  },
  "language_info": {
   "codemirror_mode": {
    "name": "ipython",
    "version": 2
   },
   "file_extension": ".py",
   "mimetype": "text/x-python",
   "name": "python",
   "nbconvert_exporter": "python",
   "pygments_lexer": "ipython2",
   "version": "2.7.6"
  }
 },
 "nbformat": 4,
 "nbformat_minor": 0
}
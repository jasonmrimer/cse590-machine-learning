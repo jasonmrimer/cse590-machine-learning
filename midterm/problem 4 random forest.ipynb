{
 "cells": [
  {
   "cell_type": "markdown",
   "source": [
    "# Problem 4\n",
    "For this problem, you need to use the built-in sklearn digits dataset. You can load this data using Sklearn.datasets.load_digits (*, n_class=10,return_X_y=False, as_frame=False) Divide the data into training and test sets using train_test_split and random_state=0 The goal is to train a Random Forest classifier and optimize its performance on this data.\n",
    "1. Identify the most important parameters that affect the performance of the Random Forest classifier and outline your experimental design (using 4-fold cross validation) to learn the optimal values for these parameters.\n",
    "2. Analyze the results of the classifier using its optimal parameters and comment on its generalization capability.\n",
    "3. Visualize and explain the relevant features identified by the Random Forest classifier.\n",
    "+ Create a white 8x8 image that represents the original 64 features. Map each identified relevant feature to this 2D image and display it using a grey scale that reflects its importance (e.g. 0 most relevant feature and 255  least relevant feature).\n",
    "4. Identify one misclassified sample from each class (if they exist). Visualize each misclassified sample as an 8x8 image, and use its nearest neighbors and the learned important features to explain why it was misclassified.\n",
    "\n",
    "Hint: for examples on how to read this data and visualize it, check\n",
    "https://scikit-learn.org/stable/auto_examples/classification/plot_digits_classification.html#sphx-glrauto-examples-classification-plot-digits-classification-py"
   ],
   "metadata": {
    "collapsed": false,
    "pycharm": {
     "name": "#%% md\n"
    }
   }
  },
  {
   "cell_type": "markdown",
   "source": [
    "## Import and setup data"
   ],
   "metadata": {
    "collapsed": false
   }
  },
  {
   "cell_type": "code",
   "execution_count": 298,
   "metadata": {
    "collapsed": true
   },
   "outputs": [
    {
     "name": "stdout",
     "output_type": "stream",
     "text": [
      "1347\n",
      "450\n"
     ]
    }
   ],
   "source": [
    "import heapq\n",
    "\n",
    "import numpy as np\n",
    "import pandas as pd\n",
    "import sklearn.datasets\n",
    "import sklearn_evaluation\n",
    "from matplotlib import pyplot as plt\n",
    "from sklearn import metrics\n",
    "from sklearn.ensemble import RandomForestClassifier\n",
    "from sklearn.model_selection import train_test_split, GridSearchCV\n",
    "from sklearn.neighbors import KNeighborsClassifier\n",
    "\n",
    "digits = sklearn.datasets.load_digits(n_class=10, return_X_y=False, as_frame=False)\n",
    "n_samples = len(digits.images)\n",
    "data = digits.images.reshape((n_samples, -1))\n",
    "\n",
    "X_train, X_test, y_train, y_test = train_test_split(\n",
    "    data,\n",
    "    digits.target,\n",
    "    random_state=0\n",
    ")\n",
    "print(len(X_train))\n",
    "print(len(X_test))"
   ]
  },
  {
   "cell_type": "markdown",
   "source": [
    "## Train Random Forest classifier"
   ],
   "metadata": {
    "collapsed": false,
    "pycharm": {
     "name": "#%% md\n"
    }
   }
  },
  {
   "cell_type": "code",
   "execution_count": 467,
   "outputs": [],
   "source": [
    "np.random.seed(42)\n",
    "\n",
    "\n",
    "def grid_search_random_forest(\n",
    "        n_estimators,\n",
    "        max_features,\n",
    "        max_depth=None,\n",
    "        max_leaf_nodes=None\n",
    "):\n",
    "    parameters = {\n",
    "        'n_estimators': n_estimators,\n",
    "        'max_features': max_features,\n",
    "    }\n",
    "    if max_depth is not None:\n",
    "        parameters.update({'max_depth': max_depth, })\n",
    "    if max_leaf_nodes is not None:\n",
    "        parameters.update({'max_leaf_nodes': max_leaf_nodes})\n",
    "    classifier = RandomForestClassifier(random_state=0)\n",
    "\n",
    "    grid_search = GridSearchCV(\n",
    "        classifier,\n",
    "        parameters,\n",
    "        cv=4,\n",
    "        return_train_score=True,\n",
    "\n",
    "    )\n",
    "\n",
    "    grid_search.fit(X_train, y_train)\n",
    "    print(\"Best n_estimators: \", grid_search.best_params_['n_estimators'])\n",
    "    print(\"Best max_features: \", grid_search.best_params_['max_features'])\n",
    "    if max_depth is not None:\n",
    "        print(\"Best max_depth: \", grid_search.best_params_['max_depth'])\n",
    "    if max_leaf_nodes is not None:\n",
    "        print(\"Best max_leaf_nodes: \", grid_search.best_params_['max_leaf_nodes'])\n",
    "    predictions = grid_search.predict(X_test)\n",
    "    print(\"Accuracy: \", metrics.accuracy_score(y_test, predictions))\n",
    "    return grid_search\n",
    "\n",
    "\n",
    "def graph_grid_search_random_forest(grid_search):\n",
    "    sklearn_evaluation.evaluator.plot.grid_search(\n",
    "        grid_search.cv_results_,\n",
    "        change=(\"n_estimators\", \"max_features\")\n",
    "    )\n",
    "\n",
    "    plt.title(\"Random Forest\")\n",
    "    plt.xlabel(\"n_estimators\")\n",
    "    plt.ylabel(\"max_features\")\n",
    "    plt.legend()\n",
    "    plt.show()"
   ],
   "metadata": {
    "collapsed": false,
    "pycharm": {
     "name": "#%%\n"
    }
   }
  },
  {
   "cell_type": "code",
   "execution_count": 137,
   "outputs": [
    {
     "name": "stdout",
     "output_type": "stream",
     "text": [
      "Best n_estimators:  40\n",
      "Best max_features:  3\n",
      "Accuracy:  0.9622222222222222\n",
      "CPU times: user 4.48 s, sys: 41.8 ms, total: 4.52 s\n",
      "Wall time: 4.53 s\n"
     ]
    }
   ],
   "source": [
    "np.random.seed(42)\n",
    "\n",
    "n_estimators = np.linspace(20, 40, 3, dtype=int)\n",
    "max_features = np.linspace(1, 12, 6, dtype=int)\n",
    "\n",
    "grid_search = % time grid_search_random_forest( n_estimators, max_features )"
   ],
   "metadata": {
    "collapsed": false,
    "pycharm": {
     "name": "#%%\n"
    }
   }
  },
  {
   "cell_type": "code",
   "execution_count": 138,
   "outputs": [
    {
     "name": "stderr",
     "output_type": "stream",
     "text": [
      "No artists with labels found to put in legend.  Note that artists whose label start with an underscore are ignored when legend() is called with no argument.\n"
     ]
    },
    {
     "data": {
      "text/plain": "<Figure size 432x288 with 2 Axes>",
      "image/png": "[encoded data removed]"
     },
     "metadata": {
      "needs_background": "light"
     },
     "output_type": "display_data"
    }
   ],
   "source": [
    "graph_grid_search_random_forest(grid_search)\n"
   ],
   "metadata": {
    "collapsed": false,
    "pycharm": {
     "name": "#%%\n"
    }
   }
  },
  {
   "cell_type": "code",
   "execution_count": 139,
   "outputs": [
    {
     "name": "stdout",
     "output_type": "stream",
     "text": [
      "Best n_estimators:  100\n",
      "Best max_features:  8\n",
      "Accuracy:  0.9755555555555555\n",
      "CPU times: user 11.8 s, sys: 68.8 ms, total: 11.8 s\n",
      "Wall time: 11.9 s\n"
     ]
    }
   ],
   "source": [
    "np.random.seed(42)\n",
    "\n",
    "n_estimators = np.linspace(40, 100, 3, dtype=int)\n",
    "max_features = np.linspace(7, 16, 6, dtype=int)\n",
    "\n",
    "grid_search = % time grid_search_random_forest( n_estimators, max_features )"
   ],
   "metadata": {
    "collapsed": false,
    "pycharm": {
     "name": "#%%\n"
    }
   }
  },
  {
   "cell_type": "code",
   "execution_count": 140,
   "outputs": [
    {
     "name": "stderr",
     "output_type": "stream",
     "text": [
      "No artists with labels found to put in legend.  Note that artists whose label start with an underscore are ignored when legend() is called with no argument.\n"
     ]
    },
    {
     "data": {
      "text/plain": "<Figure size 432x288 with 2 Axes>",
      "image/png": "[encoded data removed]"
     },
     "metadata": {
      "needs_background": "light"
     },
     "output_type": "display_data"
    }
   ],
   "source": [
    "graph_grid_search_random_forest(grid_search)\n"
   ],
   "metadata": {
    "collapsed": false,
    "pycharm": {
     "name": "#%%\n"
    }
   }
  },
  {
   "cell_type": "code",
   "execution_count": 141,
   "outputs": [
    {
     "name": "stdout",
     "output_type": "stream",
     "text": [
      "Best n_estimators:  80\n",
      "Best max_features:  11\n",
      "Accuracy:  0.98\n",
      "CPU times: user 17.4 s, sys: 114 ms, total: 17.5 s\n",
      "Wall time: 17.6 s\n"
     ]
    }
   ],
   "source": [
    "np.random.seed(42)\n",
    "\n",
    "n_estimators = np.linspace(50, 90, 5, dtype=int)\n",
    "max_features = np.linspace(10, 14, 5, dtype=int)\n",
    "\n",
    "grid_search = % time grid_search_random_forest( n_estimators, max_features )"
   ],
   "metadata": {
    "collapsed": false,
    "pycharm": {
     "name": "#%%\n"
    }
   }
  },
  {
   "cell_type": "code",
   "execution_count": 142,
   "outputs": [
    {
     "name": "stderr",
     "output_type": "stream",
     "text": [
      "No artists with labels found to put in legend.  Note that artists whose label start with an underscore are ignored when legend() is called with no argument.\n"
     ]
    },
    {
     "data": {
      "text/plain": "<Figure size 432x288 with 2 Axes>",
      "image/png": "[encoded data removed]"
     },
     "metadata": {
      "needs_background": "light"
     },
     "output_type": "display_data"
    }
   ],
   "source": [
    "graph_grid_search_random_forest(grid_search)"
   ],
   "metadata": {
    "collapsed": false,
    "pycharm": {
     "name": "#%%\n"
    }
   }
  },
  {
   "cell_type": "code",
   "execution_count": 459,
   "outputs": [
    {
     "name": "stdout",
     "output_type": "stream",
     "text": [
      "Best n_estimators:  80\n",
      "Best max_features:  11\n",
      "Best max_depth:  16\n",
      "Accuracy:  0.98\n",
      "CPU times: user 1min 18s, sys: 593 ms, total: 1min 18s\n",
      "Wall time: 1min 22s\n"
     ]
    }
   ],
   "source": [
    "np.random.seed(42)\n",
    "\n",
    "n_estimators = np.linspace(50, 90, 5, dtype=int)\n",
    "max_features = np.linspace(10, 14, 5, dtype=int)\n",
    "max_depth = np.linspace(5, 50, 5, dtype=int)\n",
    "\n",
    "grid_search = %time grid_search_random_forest(n_estimators, max_features, max_depth)"
   ],
   "metadata": {
    "collapsed": false,
    "pycharm": {
     "name": "#%%\n"
    }
   }
  },
  {
   "cell_type": "code",
   "execution_count": 470,
   "outputs": [
    {
     "name": "stdout",
     "output_type": "stream",
     "text": [
      "Best n_estimators:  120\n",
      "Best max_features:  11\n",
      "Best max_depth:  16\n",
      "Accuracy:  0.9777777777777777\n"
     ]
    }
   ],
   "source": [
    "np.random.seed(42)\n",
    "\n",
    "n_estimators = np.linspace(80, 160, 5, dtype=int)\n",
    "max_features = np.linspace(10, 14, 5, dtype=int)\n",
    "max_depth = np.linspace(16, 16, 1, dtype=int)\n",
    "\n",
    "grid_search = grid_search_random_forest(n_estimators, max_features, max_depth)\n"
   ],
   "metadata": {
    "collapsed": false,
    "pycharm": {
     "name": "#%%\n"
    }
   }
  },
  {
   "cell_type": "code",
   "execution_count": 471,
   "outputs": [
    {
     "name": "stderr",
     "output_type": "stream",
     "text": [
      "No artists with labels found to put in legend.  Note that artists whose label start with an underscore are ignored when legend() is called with no argument.\n"
     ]
    },
    {
     "data": {
      "text/plain": "<Figure size 432x288 with 2 Axes>",
      "image/png": "[encoded data removed]"
     },
     "metadata": {
      "needs_background": "light"
     },
     "output_type": "display_data"
    }
   ],
   "source": [
    "graph_grid_search_random_forest(grid_search)"
   ],
   "metadata": {
    "collapsed": false,
    "pycharm": {
     "name": "#%%\n"
    }
   }
  },
  {
   "cell_type": "code",
   "execution_count": 144,
   "outputs": [
    {
     "name": "stdout",
     "output_type": "stream",
     "text": [
      "Best n_estimators:  80\n",
      "Best max_features:  11\n",
      "Best max_depth:  16\n",
      "Accuracy:  0.98\n",
      "CPU times: user 1min 7s, sys: 504 ms, total: 1min 7s\n",
      "Wall time: 1min 8s\n"
     ]
    }
   ],
   "source": [
    "np.random.seed(42)\n",
    "\n",
    "n_estimators = np.linspace(60, 100, 3, dtype=int)\n",
    "max_features = np.linspace(9, 15, 6, dtype=int)\n",
    "max_depth = np.linspace(5, 50, 5, dtype=int)\n",
    "\n",
    "grid_search = % time grid_search_random_forest(n_estimators, max_features, max_depth)"
   ],
   "metadata": {
    "collapsed": false,
    "pycharm": {
     "name": "#%%\n"
    }
   }
  },
  {
   "cell_type": "code",
   "execution_count": 145,
   "outputs": [
    {
     "name": "stdout",
     "output_type": "stream",
     "text": [
      "Best n_estimators:  80\n",
      "Best max_features:  9\n",
      "Best max_depth:  20\n",
      "Best max_leaf_nodes:  50\n",
      "Accuracy:  0.9533333333333334\n",
      "CPU times: user 1min 9s, sys: 352 ms, total: 1min 10s\n",
      "Wall time: 1min 10s\n"
     ]
    },
    {
     "name": "stderr",
     "output_type": "stream",
     "text": [
      "/Users/engineer/workspace/cse590-machine-learning/venv/lib/python3.9/site-packages/sklearn/model_selection/_validation.py:372: FitFailedWarning: \n",
      "108 fits failed out of a total of 540.\n",
      "The score on these train-test partitions for these parameters will be set to nan.\n",
      "If these failures are not expected, you can try to debug them by setting error_score='raise'.\n",
      "\n",
      "Below are more details about the failures:\n",
      "--------------------------------------------------------------------------------\n",
      "108 fits failed with the following error:\n",
      "Traceback (most recent call last):\n",
      "  File \"/Users/engineer/workspace/cse590-machine-learning/venv/lib/python3.9/site-packages/sklearn/model_selection/_validation.py\", line 680, in _fit_and_score\n",
      "    estimator.fit(X_train, y_train, **fit_params)\n",
      "  File \"/Users/engineer/workspace/cse590-machine-learning/venv/lib/python3.9/site-packages/sklearn/ensemble/_forest.py\", line 450, in fit\n",
      "    trees = Parallel(\n",
      "  File \"/Users/engineer/workspace/cse590-machine-learning/venv/lib/python3.9/site-packages/joblib/parallel.py\", line 1043, in __call__\n",
      "    if self.dispatch_one_batch(iterator):\n",
      "  File \"/Users/engineer/workspace/cse590-machine-learning/venv/lib/python3.9/site-packages/joblib/parallel.py\", line 861, in dispatch_one_batch\n",
      "    self._dispatch(tasks)\n",
      "  File \"/Users/engineer/workspace/cse590-machine-learning/venv/lib/python3.9/site-packages/joblib/parallel.py\", line 779, in _dispatch\n",
      "    job = self._backend.apply_async(batch, callback=cb)\n",
      "  File \"/Users/engineer/workspace/cse590-machine-learning/venv/lib/python3.9/site-packages/joblib/_parallel_backends.py\", line 208, in apply_async\n",
      "    result = ImmediateResult(func)\n",
      "  File \"/Users/engineer/workspace/cse590-machine-learning/venv/lib/python3.9/site-packages/joblib/_parallel_backends.py\", line 572, in __init__\n",
      "    self.results = batch()\n",
      "  File \"/Users/engineer/workspace/cse590-machine-learning/venv/lib/python3.9/site-packages/joblib/parallel.py\", line 262, in __call__\n",
      "    return [func(*args, **kwargs)\n",
      "  File \"/Users/engineer/workspace/cse590-machine-learning/venv/lib/python3.9/site-packages/joblib/parallel.py\", line 262, in <listcomp>\n",
      "    return [func(*args, **kwargs)\n",
      "  File \"/Users/engineer/workspace/cse590-machine-learning/venv/lib/python3.9/site-packages/sklearn/utils/fixes.py\", line 216, in __call__\n",
      "    return self.function(*args, **kwargs)\n",
      "  File \"/Users/engineer/workspace/cse590-machine-learning/venv/lib/python3.9/site-packages/sklearn/ensemble/_forest.py\", line 185, in _parallel_build_trees\n",
      "    tree.fit(X, y, sample_weight=curr_sample_weight, check_input=False)\n",
      "  File \"/Users/engineer/workspace/cse590-machine-learning/venv/lib/python3.9/site-packages/sklearn/tree/_classes.py\", line 937, in fit\n",
      "    super().fit(\n",
      "  File \"/Users/engineer/workspace/cse590-machine-learning/venv/lib/python3.9/site-packages/sklearn/tree/_classes.py\", line 314, in fit\n",
      "    raise ValueError(\n",
      "ValueError: max_leaf_nodes 1 must be either None or larger than 1\n",
      "\n",
      "  warnings.warn(some_fits_failed_message, FitFailedWarning)\n",
      "/Users/engineer/workspace/cse590-machine-learning/venv/lib/python3.9/site-packages/sklearn/model_selection/_search.py:969: UserWarning: One or more of the test scores are non-finite: [       nan        nan        nan 0.9034946  0.90646416 0.91240992\n",
      " 0.93467394 0.93765013 0.93765455 0.94804031 0.95027245 0.94804472\n",
      " 0.95397944 0.95843269 0.95694901        nan        nan        nan\n",
      " 0.90350784 0.90128232 0.90275938 0.93170438 0.93615983 0.93467615\n",
      " 0.94729626 0.9443289  0.94655663 0.9554587  0.95471907 0.95471907\n",
      "        nan        nan        nan 0.89459693 0.89831055 0.89608061\n",
      " 0.92206046 0.92725555 0.92503003 0.93839197 0.93988007 0.94136154\n",
      " 0.94878656 0.94878435 0.94952619        nan        nan        nan\n",
      " 0.9034946  0.90646416 0.91240992 0.93467394 0.93765013 0.93765455\n",
      " 0.94952399 0.95027245 0.95101429 0.95546091 0.96066483 0.95992078\n",
      "        nan        nan        nan 0.90350784 0.90128232 0.90275938\n",
      " 0.93170438 0.93615983 0.93467615 0.94581037 0.94358706 0.94729626\n",
      " 0.95471907 0.95471907 0.95249135        nan        nan        nan\n",
      " 0.89459693 0.89831055 0.89608061 0.92206046 0.92725555 0.92503003\n",
      " 0.93690829 0.93913823 0.9406197  0.94730067 0.94878435 0.95100987\n",
      "        nan        nan        nan 0.9034946  0.90646416 0.91240992\n",
      " 0.93467394 0.93765013 0.93765455 0.94952399 0.95027245 0.95101429\n",
      " 0.95546091 0.96066483 0.95992078        nan        nan        nan\n",
      " 0.90350784 0.90128232 0.90275938 0.93170438 0.93615983 0.93467615\n",
      " 0.94581037 0.94358706 0.94729626 0.95471907 0.95471907 0.95249135\n",
      "        nan        nan        nan 0.89459693 0.89831055 0.89608061\n",
      " 0.92206046 0.92725555 0.92503003 0.93690829 0.93913823 0.9406197\n",
      " 0.94730067 0.94878435 0.95100987]\n",
      "  warnings.warn(\n",
      "/Users/engineer/workspace/cse590-machine-learning/venv/lib/python3.9/site-packages/sklearn/model_selection/_search.py:969: UserWarning: One or more of the train scores are non-finite: [       nan        nan        nan 0.93170104 0.93491764 0.93442283\n",
      " 0.9663452  0.96857195 0.96956229 0.98094451 0.98317174 0.9836663\n",
      " 0.99158587 0.99084281 0.99183291        nan        nan        nan\n",
      " 0.91957625 0.92106164 0.9225463  0.96065434 0.96114914 0.96263282\n",
      " 0.97896652 0.97995588 0.9797086  0.99133884 0.99183389 0.99232894\n",
      "        nan        nan        nan 0.91289406 0.916852   0.91635744\n",
      " 0.95644495 0.95842515 0.95793083 0.97723384 0.97995539 0.98069772\n",
      " 0.99307078 0.99480296 0.99381286        nan        nan        nan\n",
      " 0.93170104 0.93491764 0.93442283 0.9663452  0.96857195 0.96956229\n",
      " 0.98119179 0.98366655 0.98292422 0.99133835 0.99158538 0.99208019\n",
      "        nan        nan        nan 0.91957625 0.92106164 0.9225463\n",
      " 0.96040681 0.96114914 0.96263282 0.97896652 0.98020341 0.98020316\n",
      " 0.99059651 0.99158661 0.99232894        nan        nan        nan\n",
      " 0.91289406 0.916852   0.91635744 0.95669247 0.95842515 0.95842588\n",
      " 0.97698632 0.97995539 0.98094525 0.99257573 0.99356558 0.99406039\n",
      "        nan        nan        nan 0.93170104 0.93491764 0.93442283\n",
      " 0.9663452  0.96857195 0.96956229 0.98119179 0.98366655 0.98292422\n",
      " 0.99133835 0.99158538 0.99208019        nan        nan        nan\n",
      " 0.91957625 0.92106164 0.9225463  0.96040681 0.96114914 0.96263282\n",
      " 0.97896652 0.98020341 0.98020316 0.99059651 0.99158661 0.99232894\n",
      "        nan        nan        nan 0.91289406 0.916852   0.91635744\n",
      " 0.95669247 0.95842515 0.95842588 0.97698632 0.97995539 0.98094525\n",
      " 0.99257573 0.99356558 0.99406039]\n",
      "  warnings.warn(\n"
     ]
    }
   ],
   "source": [
    "np.random.seed(42)\n",
    "\n",
    "n_estimators = np.linspace(60, 100, 3, dtype=int)\n",
    "max_features = np.linspace(9, 15, 3, dtype=int)\n",
    "max_depth = np.linspace(10, 30, 3, dtype=int)\n",
    "max_leaf_nodes = np.linspace(1, 50, 5, dtype=int)\n",
    "\n",
    "grid_search = % time grid_search_random_forest(n_estimators, max_features, max_depth, max_leaf_nodes)"
   ],
   "metadata": {
    "collapsed": false,
    "pycharm": {
     "name": "#%%\n"
    }
   }
  },
  {
   "cell_type": "code",
   "execution_count": 146,
   "outputs": [
    {
     "name": "stdout",
     "output_type": "stream",
     "text": [
      "Best n_estimators:  100\n",
      "Best max_features:  15\n",
      "Best max_depth:  15\n",
      "Best max_leaf_nodes:  115\n",
      "Accuracy:  0.9711111111111111\n",
      "CPU times: user 1min 36s, sys: 454 ms, total: 1min 36s\n",
      "Wall time: 1min 36s\n"
     ]
    }
   ],
   "source": [
    "np.random.seed(42)\n",
    "\n",
    "n_estimators = np.linspace(60, 100, 3, dtype=int)\n",
    "max_features = np.linspace(12, 18, 3, dtype=int)\n",
    "max_depth = np.linspace(5, 15, 3, dtype=int)\n",
    "max_leaf_nodes = np.linspace(40, 140, 5, dtype=int)\n",
    "\n",
    "grid_search = % time grid_search_random_forest(n_estimators, max_features, max_depth, max_leaf_nodes)"
   ],
   "metadata": {
    "collapsed": false,
    "pycharm": {
     "name": "#%%\n"
    }
   }
  },
  {
   "cell_type": "code",
   "execution_count": 146,
   "outputs": [],
   "source": [],
   "metadata": {
    "collapsed": false,
    "pycharm": {
     "name": "#%%\n"
    }
   }
  },
  {
   "cell_type": "markdown",
   "source": [
    "## Test the trained model"
   ],
   "metadata": {
    "collapsed": false
   }
  },
  {
   "cell_type": "code",
   "execution_count": 493,
   "outputs": [
    {
     "name": "stdout",
     "output_type": "stream",
     "text": [
      "Train:  1.0\n",
      "Test:  0.9777777777777777\n",
      "acc score:  0.9777777777777777\n",
      "max features: 64\n",
      "Train:  1.0\n",
      "Test:  0.86\n",
      "acc score:  0.86\n"
     ]
    },
    {
     "name": "stderr",
     "output_type": "stream",
     "text": [
      "/Users/engineer/workspace/cse590-machine-learning/venv/lib/python3.9/site-packages/sklearn/utils/deprecation.py:103: FutureWarning: Attribute `n_features_` was deprecated in version 1.0 and will be removed in 1.2. Use `n_features_in_` instead.\n",
      "  warnings.warn(msg, category=FutureWarning)\n"
     ]
    },
    {
     "data": {
      "text/plain": "450"
     },
     "execution_count": 493,
     "metadata": {},
     "output_type": "execute_result"
    }
   ],
   "source": [
    "from sklearn.tree import DecisionTreeClassifier\n",
    "\n",
    "np.random.seed(42)\n",
    "\n",
    "rf = RandomForestClassifier(\n",
    "    # n_estimators=120,\n",
    "    # max_features=11,\n",
    "    # max_depth=16,\n",
    "    # oob_score=True\n",
    ")\n",
    "rf.fit(X_train, y_train)\n",
    "print(\"Train: \", rf.score(X_train, y_train))\n",
    "print(\"Test: \", rf.score(X_test, y_test))\n",
    "y_predictions = rf.predict(X_test)\n",
    "print('acc score: ', metrics.accuracy_score(y_test, y_predictions))\n",
    "print('max features:', rf.n_features_)\n",
    "# print('Mean Absolute Error:', metrics.mean_absolute_error(y_test, y_predictions))\n",
    "# print('Mean Squared Error:', metrics.mean_squared_error(y_test, y_predictions))\n",
    "# print('Root Mean Squared Error:', np.sqrt(metrics.mean_squared_error(y_test, y_predictions)))\n",
    "# print('Out of bag score:', 1 - rf.oob_score_)\n",
    "dt = DecisionTreeClassifier()\n",
    "dt.fit(X_train, y_train)\n",
    "print(\"Train: \", dt.score(X_train, y_train))\n",
    "print(\"Test: \", dt.score(X_test, y_test))\n",
    "y_predictions = dt.predict(X_test)\n",
    "print('acc score: ', metrics.accuracy_score(y_test, y_predictions))\n",
    "len(y_test)"
   ],
   "metadata": {
    "collapsed": false,
    "pycharm": {
     "name": "#%%\n"
    }
   }
  },
  {
   "cell_type": "code",
   "execution_count": 148,
   "outputs": [
    {
     "data": {
      "text/plain": "<Figure size 720x216 with 4 Axes>",
      "image/png": "[encoded data removed]"
     },
     "metadata": {
      "needs_background": "light"
     },
     "output_type": "display_data"
    }
   ],
   "source": [
    "\n",
    "\n",
    "_, axes = plt.subplots(nrows=1, ncols=4, figsize=(10, 3))\n",
    "for ax, importance_mask, actual in zip(axes, X_test, y_predictions):\n",
    "    ax.set_axis_off()\n",
    "    importance_mask = importance_mask.reshape(8, 8)\n",
    "    ax.imshow(importance_mask, cmap=plt.cm.gray_r, interpolation=\"nearest\")\n",
    "    ax.set_title(f\"Prediction: {actual}\")"
   ],
   "metadata": {
    "collapsed": false,
    "pycharm": {
     "name": "#%%\n"
    }
   }
  },
  {
   "cell_type": "code",
   "execution_count": 473,
   "outputs": [
    {
     "data": {
      "text/plain": "<Figure size 432x288 with 1 Axes>",
      "image/png": "[encoded data removed]"
     },
     "metadata": {
      "needs_background": "light"
     },
     "output_type": "display_data"
    },
    {
     "data": {
      "text/plain": "<Figure size 288x288 with 1 Axes>",
      "image/png": "[encoded data removed]"
     },
     "metadata": {
      "needs_background": "light"
     },
     "output_type": "display_data"
    }
   ],
   "source": [
    "importances = rf.feature_importances_\n",
    "std = np.std([tree.feature_importances_ for tree in rf.estimators_], axis=0)\n",
    "forest_importances = pd.Series(importances)\n",
    "\n",
    "fig, ax = plt.subplots()\n",
    "forest_importances.plot.bar(yerr=std, ax=ax)\n",
    "# ax.set_title(\"Feature importances using MDI\")\n",
    "ax.set_ylabel(\"Mean decrease in impurity\")\n",
    "fig.tight_layout()\n",
    "\n",
    "fig, ax = plt.subplots()\n",
    "fig.set_figheight(4)\n",
    "fig.set_figwidth(4)\n",
    "plt.bar([x for x in range(len(importances))], importances)\n",
    "plt.xlabel('Feature')\n",
    "plt.ylabel('Importance')\n",
    "plt.show()"
   ],
   "metadata": {
    "collapsed": false,
    "pycharm": {
     "name": "#%%\n"
    }
   }
  },
  {
   "cell_type": "code",
   "execution_count": 474,
   "outputs": [
    {
     "name": "stdout",
     "output_type": "stream",
     "text": [
      "7\n",
      "[21, 43, 36, 26]\n",
      "Least 45 sum: 0.3768717793217001\n"
     ]
    }
   ],
   "source": [
    "import heapq\n",
    "\n",
    "# print(importances)\n",
    "most_important = heapq.nlargest(4, importances)\n",
    "# print(most_important)\n",
    "\n",
    "count_over_threshold = sum(map(lambda x: x >= 0.03, importances))\n",
    "print(count_over_threshold)\n",
    "\n",
    "indices_of_most_important_features = []\n",
    "for item in most_important:\n",
    "    correct_actual_item_index = np.argwhere(importances == item)\n",
    "    indices_of_most_important_features.append(correct_actual_item_index[0][0])\n",
    "\n",
    "print(indices_of_most_important_features)\n",
    "\n",
    "least_important = heapq.nsmallest(45,importances)\n",
    "print('Least 45 sum:', sum(least_important))"
   ],
   "metadata": {
    "collapsed": false,
    "pycharm": {
     "name": "#%%\n"
    }
   }
  },
  {
   "cell_type": "code",
   "execution_count": 475,
   "outputs": [
    {
     "name": "stdout",
     "output_type": "stream",
     "text": [
      "Confusion matrix:\n",
      "[[37  0  0  0  0  0  0  0  0  0]\n",
      " [ 0 42  0  0  0  1  0  0  0  0]\n",
      " [ 1  0 42  1  0  0  0  0  0  0]\n",
      " [ 0  0  0 44  0  0  0  0  1  0]\n",
      " [ 0  0  0  0 37  0  0  1  0  0]\n",
      " [ 0  0  0  0  0 47  0  0  0  1]\n",
      " [ 0  0  0  0  0  0 52  0  0  0]\n",
      " [ 0  0  0  0  0  0  0 48  0  0]\n",
      " [ 0  1  0  1  0  0  0  0 46  0]\n",
      " [ 0  0  0  0  0  1  0  0  0 46]]\n"
     ]
    },
    {
     "data": {
      "text/plain": "<Figure size 432x288 with 2 Axes>",
      "image/png": "[encoded data removed]"
     },
     "metadata": {
      "needs_background": "light"
     },
     "output_type": "display_data"
    }
   ],
   "source": [
    "disp = metrics.ConfusionMatrixDisplay.from_predictions(y_test, y_predictions)\n",
    "disp.figure_.suptitle(\"Confusion Matrix\")\n",
    "print(f\"Confusion matrix:\\n{disp.confusion_matrix}\")\n",
    "\n",
    "plt.show()"
   ],
   "metadata": {
    "collapsed": false,
    "pycharm": {
     "name": "#%%\n"
    }
   }
  },
  {
   "cell_type": "code",
   "execution_count": 476,
   "outputs": [
    {
     "name": "stdout",
     "output_type": "stream",
     "text": [
      "(array([117, 122, 124, 130, 181, 275, 315, 331, 378]),)\n"
     ]
    }
   ],
   "source": [
    "misclassified_indices = np.where((y_predictions != y_test))\n",
    "print(misclassified_indices)"
   ],
   "metadata": {
    "collapsed": false,
    "pycharm": {
     "name": "#%%\n"
    }
   }
  },
  {
   "cell_type": "code",
   "execution_count": 206,
   "outputs": [
    {
     "name": "stdout",
     "output_type": "stream",
     "text": [
      "Expected:  5\n",
      "Actual:  9\n",
      "[ 0.  0.  4. 12. 16. 16. 11.  2.  0.  0. 15. 13.  8. 11.  8.  1.  0.  2.\n",
      " 15. 13. 16.  8.  0.  0.  0.  6. 16. 13. 13. 16.  2.  0.  0.  7. 11.  2.\n",
      "  2. 16.  6.  0.  0.  0.  0.  0.  5. 15.  2.  0.  0.  0.  9.  6. 13. 10.\n",
      "  0.  0.  0.  0.  7. 14. 13.  1.  0.  0.]\n"
     ]
    }
   ],
   "source": [
    "print('Expected: ', y_test[56])\n",
    "print('Actual: ', y_predictions[56])\n",
    "print(X_test[56])"
   ],
   "metadata": {
    "collapsed": false,
    "pycharm": {
     "name": "#%%\n"
    }
   }
  },
  {
   "cell_type": "code",
   "execution_count": 208,
   "outputs": [
    {
     "data": {
      "text/plain": "<Figure size 720x216 with 2 Axes>",
      "image/png": "[encoded data removed]"
     },
     "metadata": {
      "needs_background": "light"
     },
     "output_type": "display_data"
    }
   ],
   "source": [
    "\n",
    "misclassified_items = np.array([X_test[56], X_test[117]])\n",
    "expected_values = np.array([y_test[56], y_test[117]])\n",
    "actual_values = np.array([y_predictions[56], y_predictions[117]])\n",
    "_, axes = plt.subplots(nrows=1, ncols=2, figsize=(10, 3))\n",
    "for ax, importance_mask, expected, actual in zip(\n",
    "        axes,\n",
    "        misclassified_items,\n",
    "        expected_values,\n",
    "        actual_values\n",
    "):\n",
    "    ax.set_axis_off()\n",
    "    importance_mask = importance_mask.reshape(8, 8)\n",
    "    ax.imshow(importance_mask, cmap=plt.cm.gray_r, interpolation=\"nearest\")\n",
    "    ax.set_title(f\"Expected: {expected}\\nActual: {actual}\")\n"
   ],
   "metadata": {
    "collapsed": false,
    "pycharm": {
     "name": "#%%\n"
    }
   }
  },
  {
   "cell_type": "code",
   "execution_count": 479,
   "outputs": [
    {
     "name": "stdout",
     "output_type": "stream",
     "text": [
      "[0, 0, 0, 0, 0, 0, 0, 0, 0, 0, 0, 0, 0, 0, 0, 0, 0, 0, 0, 0, 0, 1, 0, 0, 0, 0, 1, 0, 0, 0, 0, 0, 0, 0, 0, 0, 1, 0, 0, 0, 0, 0, 0, 1, 0, 0, 0, 0, 0, 0, 0, 0, 0, 0, 0, 0, 0, 0, 0, 0, 0, 0, 0, 0]\n"
     ]
    }
   ],
   "source": [
    "importance_image = []\n",
    "for i in range(0, 64):\n",
    "    importance_image.append(0)\n",
    "    if indices_of_most_important_features.__contains__(i):\n",
    "        importance_image[i] = 1\n",
    "\n",
    "importance_item = np.array(importance_image)\n",
    "print(importance_image)"
   ],
   "metadata": {
    "collapsed": false,
    "pycharm": {
     "name": "#%%\n"
    }
   }
  },
  {
   "cell_type": "code",
   "execution_count": 457,
   "outputs": [],
   "source": [
    "import matplotlib.pyplot as plt\n",
    "\n",
    "\n",
    "def map_importance_mask_over_digit_image(\n",
    "        misclassified_item,\n",
    "        importance_item,\n",
    "        expected_result,\n",
    "        actual_result\n",
    "):\n",
    "    misclassified_image = misclassified_item.reshape(8, 8)\n",
    "    importance_mask = importance_item.reshape(8, 8)\n",
    "    _, axes = plt.subplots(nrows=1, ncols=1, figsize=(10, 3))\n",
    "    ax = axes\n",
    "    ax.set_axis_off()\n",
    "    ax.imshow(\n",
    "        misclassified_image,\n",
    "        cmap=plt.cm.gray_r,\n",
    "        interpolation=\"nearest\",\n",
    "    )\n",
    "    ax.set_title(f\"Expected: {expected_result}\\nActual: {actual_result}\")\n",
    "\n",
    "    im = plt.imshow(\n",
    "        importance_mask,\n",
    "        cmap=plt.cm.gray_r,\n",
    "        interpolation='none',\n",
    "        vmin=0,\n",
    "        vmax=1,\n",
    "        aspect='equal',\n",
    "        alpha=0\n",
    "    )\n",
    "\n",
    "    def rect(pos):\n",
    "        r = plt.Rectangle(pos - 0.5, 1, 1, facecolor=\"none\", edgecolor=\"magenta\", linewidth=2)\n",
    "        plt.gca().add_patch(r)\n",
    "\n",
    "    x, y = np.meshgrid(np.arange(importance_mask.shape[1]), np.arange(importance_mask.shape[0]))\n",
    "    m = np.c_[x[importance_mask.astype(bool)], y[importance_mask.astype(bool)]]\n",
    "\n",
    "    for pos in m:\n",
    "        rect(pos)\n",
    "\n",
    "    plt.show()"
   ],
   "metadata": {
    "collapsed": false,
    "pycharm": {
     "name": "#%%\n"
    }
   }
  },
  {
   "cell_type": "code",
   "execution_count": 288,
   "outputs": [
    {
     "data": {
      "text/plain": "<Figure size 720x216 with 1 Axes>",
      "image/png": "[encoded data removed]"
     },
     "metadata": {
      "needs_background": "light"
     },
     "output_type": "display_data"
    },
    {
     "data": {
      "text/plain": "<Figure size 720x216 with 1 Axes>",
      "image/png": "[encoded data removed]"
     },
     "metadata": {
      "needs_background": "light"
     },
     "output_type": "display_data"
    },
    {
     "data": {
      "text/plain": "<Figure size 720x216 with 1 Axes>",
      "image/png": "[encoded data removed]"
     },
     "metadata": {
      "needs_background": "light"
     },
     "output_type": "display_data"
    }
   ],
   "source": [
    "correct_expected_item_index = 25\n",
    "map_importance_mask_over_digit_image(\n",
    "    X_test[correct_expected_item_index],\n",
    "    importance_item,\n",
    "    y_test[correct_expected_item_index],\n",
    "    y_predictions[correct_expected_item_index]\n",
    ")\n",
    "\n",
    "misclassifed_item_index = 56\n",
    "map_importance_mask_over_digit_image(\n",
    "    X_test[misclassifed_item_index],\n",
    "    importance_item,\n",
    "    y_test[misclassifed_item_index],\n",
    "    y_predictions[misclassifed_item_index]\n",
    ")\n",
    "\n",
    "correct_actual_item_index = 27\n",
    "map_importance_mask_over_digit_image(\n",
    "    X_test[correct_actual_item_index],\n",
    "    importance_item,\n",
    "    y_test[correct_actual_item_index],\n",
    "    y_predictions[correct_actual_item_index]\n",
    ")"
   ],
   "metadata": {
    "collapsed": false,
    "pycharm": {
     "name": "#%%\n"
    }
   }
  },
  {
   "cell_type": "code",
   "execution_count": 453,
   "outputs": [
    {
     "data": {
      "text/plain": "0.20311550595707165"
     },
     "execution_count": 453,
     "metadata": {},
     "output_type": "execute_result"
    }
   ],
   "source": [
    "sum(most_important)"
   ],
   "metadata": {
    "collapsed": false,
    "pycharm": {
     "name": "#%%\n"
    }
   }
  },
  {
   "cell_type": "code",
   "execution_count": 277,
   "outputs": [
    {
     "name": "stdout",
     "output_type": "stream",
     "text": [
      "(array([  9,  18,  25,  72,  84,  87,  98, 100, 101, 103, 119, 121, 129,\n",
      "       133, 136, 138, 146, 148, 152, 163, 191, 200, 210, 247, 248, 250,\n",
      "       256, 257, 263, 283, 286, 293, 314, 326, 333, 340, 344, 355, 361,\n",
      "       373, 403, 417, 418, 428, 446, 447]),)\n",
      "(array([  7,  27,  29,  34,  50,  53,  65,  68,  78,  90,  91, 104, 113,\n",
      "       115, 131, 132, 134, 135, 143, 149, 150, 157, 168, 197, 209, 211,\n",
      "       219, 222, 231, 242, 260, 264, 291, 299, 305, 312, 324, 332, 346,\n",
      "       353, 370, 399, 419, 429, 436, 449]),)\n"
     ]
    }
   ],
   "source": [
    "indices_of_correct_5 = np.where((y_predictions == y_test) & (y_predictions == 5))\n",
    "print(indices_of_correct_5)\n",
    "\n",
    "indices_of_correct_9 = np.where((y_predictions == y_test) & (y_predictions == 9))\n",
    "print(indices_of_correct_9)"
   ],
   "metadata": {
    "collapsed": false,
    "pycharm": {
     "name": "#%%\n"
    }
   }
  },
  {
   "cell_type": "code",
   "execution_count": 284,
   "outputs": [
    {
     "name": "stdout",
     "output_type": "stream",
     "text": [
      "(array([  0,   2,  10,  28,  48,  61,  66,  74,  76,  77,  80,  89, 102,\n",
      "       120, 140, 212, 215, 220, 226, 235, 236, 244, 251, 254, 284, 288,\n",
      "       298, 303, 309, 317, 322, 330, 336, 338, 374, 391, 395, 405, 406,\n",
      "       415, 440, 443]),)\n",
      "(array([ 17,  38,  45,  54,  55,  60,  83, 105, 126, 165, 172, 184, 188,\n",
      "       194, 201, 208, 237, 259, 269, 300, 304, 307, 310, 328, 345, 351,\n",
      "       354, 369, 376, 383, 384, 387, 392, 412, 423, 424, 426]),)\n"
     ]
    }
   ],
   "source": [
    "indices_of_correct_2 = np.where((y_predictions == y_test) & (y_predictions == 2))\n",
    "print(indices_of_correct_2)\n",
    "\n",
    "indices_of_correct_0 = np.where((y_predictions == y_test) & (y_predictions == 0))\n",
    "print(indices_of_correct_0)"
   ],
   "metadata": {
    "collapsed": false,
    "pycharm": {
     "name": "#%%\n"
    }
   }
  },
  {
   "cell_type": "code",
   "execution_count": 285,
   "outputs": [
    {
     "data": {
      "text/plain": "<Figure size 720x216 with 1 Axes>",
      "image/png": "[encoded data removed]"
     },
     "metadata": {
      "needs_background": "light"
     },
     "output_type": "display_data"
    },
    {
     "data": {
      "text/plain": "<Figure size 720x216 with 1 Axes>",
      "image/png": "[encoded data removed]"
     },
     "metadata": {
      "needs_background": "light"
     },
     "output_type": "display_data"
    },
    {
     "data": {
      "text/plain": "<Figure size 720x216 with 1 Axes>",
      "image/png": "[encoded data removed]"
     },
     "metadata": {
      "needs_background": "light"
     },
     "output_type": "display_data"
    }
   ],
   "source": [
    "\n",
    "correct_expected_item_index = 0\n",
    "map_importance_mask_over_digit_image(\n",
    "    X_test[correct_expected_item_index],\n",
    "    importance_item,\n",
    "    y_test[correct_expected_item_index],\n",
    "    y_predictions[correct_expected_item_index]\n",
    ")\n",
    "\n",
    "misclassifed_item_index = 117\n",
    "map_importance_mask_over_digit_image(\n",
    "    X_test[misclassifed_item_index],\n",
    "    importance_item,\n",
    "    y_test[misclassifed_item_index],\n",
    "    y_predictions[misclassifed_item_index]\n",
    ")\n",
    "\n",
    "correct_actual_item_index = 17\n",
    "map_importance_mask_over_digit_image(\n",
    "    X_test[correct_actual_item_index],\n",
    "    importance_item,\n",
    "    y_test[correct_actual_item_index],\n",
    "    y_predictions[correct_actual_item_index]\n",
    ")"
   ],
   "metadata": {
    "collapsed": false,
    "pycharm": {
     "name": "#%%\n"
    }
   }
  },
  {
   "cell_type": "code",
   "execution_count": 292,
   "outputs": [
    {
     "name": "stdout",
     "output_type": "stream",
     "text": [
      "(array([  1,   8,  11,  19,  20,  22,  33,  40,  70,  75,  97,  99, 112,\n",
      "       116, 141, 156, 166, 169, 177, 193, 196, 218, 246, 268, 277, 278,\n",
      "       279, 313, 316, 318, 329, 335, 352, 358, 359, 366, 367, 377, 398,\n",
      "       400, 402, 411, 435, 437]),)\n",
      "(array([  6,  16,  37,  39,  44,  49,  57,  64,  69,  73,  88,  93, 107,\n",
      "       128, 145, 147, 151, 155, 171, 174, 202, 213, 216, 229, 240, 241,\n",
      "       261, 301, 325, 327, 331, 339, 341, 348, 349, 380, 408, 416, 420,\n",
      "       434, 441, 444, 448]),)\n"
     ]
    }
   ],
   "source": [
    "indices_of_correct_8 = np.where((y_predictions == y_test) & (y_predictions == 8))\n",
    "print(indices_of_correct_8)\n",
    "\n",
    "indices_of_correct_1 = np.where((y_predictions == y_test) & (y_predictions == 1))\n",
    "print(indices_of_correct_1)"
   ],
   "metadata": {
    "collapsed": false,
    "pycharm": {
     "name": "#%%\n"
    }
   }
  },
  {
   "cell_type": "code",
   "execution_count": 297,
   "outputs": [
    {
     "data": {
      "text/plain": "<Figure size 720x216 with 1 Axes>",
      "image/png": "[encoded data removed]"
     },
     "metadata": {
      "needs_background": "light"
     },
     "output_type": "display_data"
    },
    {
     "data": {
      "text/plain": "<Figure size 720x216 with 1 Axes>",
      "image/png": "[encoded data removed]"
     },
     "metadata": {
      "needs_background": "light"
     },
     "output_type": "display_data"
    },
    {
     "data": {
      "text/plain": "<Figure size 720x216 with 1 Axes>",
      "image/png": "[encoded data removed]"
     },
     "metadata": {
      "needs_background": "light"
     },
     "output_type": "display_data"
    }
   ],
   "source": [
    "correct_expected_item_index = 20\n",
    "map_importance_mask_over_digit_image(\n",
    "    X_test[correct_expected_item_index],\n",
    "    importance_item,\n",
    "    y_test[correct_expected_item_index],\n",
    "    y_predictions[correct_expected_item_index]\n",
    ")\n",
    "\n",
    "misclassifed_item_index = 124\n",
    "map_importance_mask_over_digit_image(\n",
    "    X_test[misclassifed_item_index],\n",
    "    importance_item,\n",
    "    y_test[misclassifed_item_index],\n",
    "    y_predictions[misclassifed_item_index]\n",
    ")\n",
    "\n",
    "correct_actual_item_index = 6\n",
    "map_importance_mask_over_digit_image(\n",
    "    X_test[correct_actual_item_index],\n",
    "    importance_item,\n",
    "    y_test[correct_actual_item_index],\n",
    "    y_predictions[correct_actual_item_index]\n",
    ")"
   ],
   "metadata": {
    "collapsed": false,
    "pycharm": {
     "name": "#%%\n"
    }
   }
  },
  {
   "cell_type": "code",
   "execution_count": null,
   "outputs": [],
   "source": [],
   "metadata": {
    "collapsed": false,
    "pycharm": {
     "name": "#%%\n"
    }
   }
  },
  {
   "cell_type": "code",
   "execution_count": 477,
   "outputs": [
    {
     "name": "stdout",
     "output_type": "stream",
     "text": [
      "Train:  0.991833704528582\n",
      "Test:  0.9866666666666667\n",
      "[[1127 1051  325]\n",
      " [ 365  942 1286]\n",
      " [1192  345  765]\n",
      " [ 215 1275  135]\n",
      " [1145 1084 1076]\n",
      " [ 926 1267 1141]\n",
      " [1190  887  418]\n",
      " [ 454   94  787]\n",
      " [ 398  120 1236]]\n",
      "[[117]\n",
      " [122]\n",
      " [124]\n",
      " [130]\n",
      " [181]\n",
      " [275]\n",
      " [315]\n",
      " [331]\n",
      " [378]]\n"
     ]
    },
    {
     "data": {
      "text/plain": "array([[ 117, 1127, 1051,  325],\n       [ 122,  365,  942, 1286],\n       [ 124, 1192,  345,  765],\n       [ 130,  215, 1275,  135],\n       [ 181, 1145, 1084, 1076],\n       [ 275,  926, 1267, 1141],\n       [ 315, 1190,  887,  418],\n       [ 331,  454,   94,  787],\n       [ 378,  398,  120, 1236]])"
     },
     "execution_count": 477,
     "metadata": {},
     "output_type": "execute_result"
    }
   ],
   "source": [
    "np.random.seed(42)\n",
    "\n",
    "knn = KNeighborsClassifier(n_neighbors=3)\n",
    "knn.fit(X_train, y_train)\n",
    "print('Train: ', knn.score(X_train, y_train))\n",
    "print('Test: ', knn.score(X_test, y_test))\n",
    "\n",
    "# knn_predictions = knn.predict(X_test, y_test)\n",
    "\n",
    "distances, neighbor_indices = knn.kneighbors(X_test[misclassified_indices[0]])\n",
    "\n",
    "print(neighbor_indices)\n",
    "# print(misclassified_indices[0])\n",
    "v_misclass = np.vstack(misclassified_indices[0])\n",
    "print(v_misclass)\n",
    "# neighbor_indices = np.array(neighbor_indices)\n",
    "# print(neighbor_indices)\n",
    "# misclass = np.array(misclassified_indices[0])\n",
    "# print(misclass)\n",
    "neighbor_map = np.concatenate((v_misclass, neighbor_indices), 1)\n",
    "neighbor_map"
   ],
   "metadata": {
    "collapsed": false,
    "pycharm": {
     "name": "#%%\n"
    }
   }
  },
  {
   "cell_type": "code",
   "execution_count": 382,
   "outputs": [
    {
     "name": "stdout",
     "output_type": "stream",
     "text": [
      "(array([130]),)\n"
     ]
    }
   ],
   "source": [
    "indices_of_misclassified_by_number = np.where(\n",
    "    (y_predictions != y_test) & (y_test == 9)\n",
    ")\n",
    "print(indices_of_misclassified_by_number)"
   ],
   "metadata": {
    "collapsed": false,
    "pycharm": {
     "name": "#%%\n"
    }
   }
  },
  {
   "cell_type": "code",
   "execution_count": 480,
   "outputs": [
    {
     "data": {
      "text/plain": "<Figure size 720x216 with 1 Axes>",
      "image/png": "[encoded data removed]"
     },
     "metadata": {
      "needs_background": "light"
     },
     "output_type": "display_data"
    },
    {
     "data": {
      "text/plain": "<Figure size 720x216 with 1 Axes>",
      "image/png": "[encoded data removed]"
     },
     "metadata": {
      "needs_background": "light"
     },
     "output_type": "display_data"
    }
   ],
   "source": [
    "\n",
    "map_importance_mask_over_digit_image(\n",
    "    importances,\n",
    "    np.array(np.zeros(64)),\n",
    "    '0-9',\n",
    "    '0-9'\n",
    ")\n",
    "\n",
    "map_importance_mask_over_digit_image(\n",
    "    importances,\n",
    "    importance_item,\n",
    "    '0-9',\n",
    "    '0-9'\n",
    ")"
   ],
   "metadata": {
    "collapsed": false,
    "pycharm": {
     "name": "#%%\n"
    }
   }
  },
  {
   "cell_type": "code",
   "execution_count": 404,
   "outputs": [
    {
     "name": "stdout",
     "output_type": "stream",
     "text": [
      "[5 2 8 8 9 8 8 5 2 4 3]\n",
      "['Misclassified Test idx', 'True Class', 'Pred Class', 'Neigbor#1_idx', 'Neigbor#1_True Class', 'Neigbor#1_Distance', 'Neigbor#2_idx', 'Neigbor#2_True Class', 'Neigbor#2_Distance', 'Neigbor#3_idx', 'Neigbor#3_True Class', 'Neigbor#3_Distance']\n"
     ]
    },
    {
     "data": {
      "text/plain": "    Misclassified Test idx  True Class  Pred Class  Neigbor#1_idx  \\\n0                       56           5           9            157   \n1                      117           2           0           1127   \n2                      122           8           3            365   \n3                      124           8           1           1192   \n4                      130           9           5            215   \n5                      158           8           7            862   \n6                      167           8           1            791   \n7                      181           5           9           1145   \n8                      275           2           1            926   \n9                      315           4           7           1190   \n10                     378           3           8            398   \n\n    Neigbor#1_True Class  Neigbor#1_Distance  Neigbor#2_idx  \\\n0                      5               25.51            350   \n1                      2               26.68           1051   \n2                      8               23.60            942   \n3                      8               23.45            345   \n4                      3               25.26           1275   \n5                      8               24.25            564   \n6                      8               16.55            142   \n7                      9               22.20           1084   \n8                      2               19.77           1267   \n9                      4               20.59            887   \n10                     3               24.21            120   \n\n    Neigbor#2_True Class  Neigbor#2_Distance  Neigbor#3_idx  \\\n0                      5               26.66            498   \n1                      2               27.73            325   \n2                      3               26.46           1286   \n3                      8               25.28            765   \n4                      9               26.13            135   \n5                      8               26.81            868   \n6                      1               19.54            347   \n7                      9               22.65           1076   \n8                      2               21.33           1141   \n9                      7               24.88            418   \n10                     8               31.48           1236   \n\n    Neigbor#3_True Class  Neigbor#3_Distance  \n0                      5               26.70  \n1                      2               29.82  \n2                      6               27.11  \n3                      1               28.88  \n4                      9               26.15  \n5                      7               27.64  \n6                      8               19.82  \n7                      9               24.06  \n8                      2               25.75  \n9                      7               25.10  \n10                     3               31.72  ",
      "text/html": "<div>\n<style scoped>\n    .dataframe tbody tr th:only-of-type {\n        vertical-align: middle;\n    }\n\n    .dataframe tbody tr th {\n        vertical-align: top;\n    }\n\n    .dataframe thead th {\n        text-align: right;\n    }\n</style>\n<table border=\"1\" class=\"dataframe\">\n  <thead>\n    <tr style=\"text-align: right;\">\n      <th></th>\n      <th>Misclassified Test idx</th>\n      <th>True Class</th>\n      <th>Pred Class</th>\n      <th>Neigbor#1_idx</th>\n      <th>Neigbor#1_True Class</th>\n      <th>Neigbor#1_Distance</th>\n      <th>Neigbor#2_idx</th>\n      <th>Neigbor#2_True Class</th>\n      <th>Neigbor#2_Distance</th>\n      <th>Neigbor#3_idx</th>\n      <th>Neigbor#3_True Class</th>\n      <th>Neigbor#3_Distance</th>\n    </tr>\n  </thead>\n  <tbody>\n    <tr>\n      <th>0</th>\n      <td>56</td>\n      <td>5</td>\n      <td>9</td>\n      <td>157</td>\n      <td>5</td>\n      <td>25.51</td>\n      <td>350</td>\n      <td>5</td>\n      <td>26.66</td>\n      <td>498</td>\n      <td>5</td>\n      <td>26.70</td>\n    </tr>\n    <tr>\n      <th>1</th>\n      <td>117</td>\n      <td>2</td>\n      <td>0</td>\n      <td>1127</td>\n      <td>2</td>\n      <td>26.68</td>\n      <td>1051</td>\n      <td>2</td>\n      <td>27.73</td>\n      <td>325</td>\n      <td>2</td>\n      <td>29.82</td>\n    </tr>\n    <tr>\n      <th>2</th>\n      <td>122</td>\n      <td>8</td>\n      <td>3</td>\n      <td>365</td>\n      <td>8</td>\n      <td>23.60</td>\n      <td>942</td>\n      <td>3</td>\n      <td>26.46</td>\n      <td>1286</td>\n      <td>6</td>\n      <td>27.11</td>\n    </tr>\n    <tr>\n      <th>3</th>\n      <td>124</td>\n      <td>8</td>\n      <td>1</td>\n      <td>1192</td>\n      <td>8</td>\n      <td>23.45</td>\n      <td>345</td>\n      <td>8</td>\n      <td>25.28</td>\n      <td>765</td>\n      <td>1</td>\n      <td>28.88</td>\n    </tr>\n    <tr>\n      <th>4</th>\n      <td>130</td>\n      <td>9</td>\n      <td>5</td>\n      <td>215</td>\n      <td>3</td>\n      <td>25.26</td>\n      <td>1275</td>\n      <td>9</td>\n      <td>26.13</td>\n      <td>135</td>\n      <td>9</td>\n      <td>26.15</td>\n    </tr>\n    <tr>\n      <th>5</th>\n      <td>158</td>\n      <td>8</td>\n      <td>7</td>\n      <td>862</td>\n      <td>8</td>\n      <td>24.25</td>\n      <td>564</td>\n      <td>8</td>\n      <td>26.81</td>\n      <td>868</td>\n      <td>7</td>\n      <td>27.64</td>\n    </tr>\n    <tr>\n      <th>6</th>\n      <td>167</td>\n      <td>8</td>\n      <td>1</td>\n      <td>791</td>\n      <td>8</td>\n      <td>16.55</td>\n      <td>142</td>\n      <td>1</td>\n      <td>19.54</td>\n      <td>347</td>\n      <td>8</td>\n      <td>19.82</td>\n    </tr>\n    <tr>\n      <th>7</th>\n      <td>181</td>\n      <td>5</td>\n      <td>9</td>\n      <td>1145</td>\n      <td>9</td>\n      <td>22.20</td>\n      <td>1084</td>\n      <td>9</td>\n      <td>22.65</td>\n      <td>1076</td>\n      <td>9</td>\n      <td>24.06</td>\n    </tr>\n    <tr>\n      <th>8</th>\n      <td>275</td>\n      <td>2</td>\n      <td>1</td>\n      <td>926</td>\n      <td>2</td>\n      <td>19.77</td>\n      <td>1267</td>\n      <td>2</td>\n      <td>21.33</td>\n      <td>1141</td>\n      <td>2</td>\n      <td>25.75</td>\n    </tr>\n    <tr>\n      <th>9</th>\n      <td>315</td>\n      <td>4</td>\n      <td>7</td>\n      <td>1190</td>\n      <td>4</td>\n      <td>20.59</td>\n      <td>887</td>\n      <td>7</td>\n      <td>24.88</td>\n      <td>418</td>\n      <td>7</td>\n      <td>25.10</td>\n    </tr>\n    <tr>\n      <th>10</th>\n      <td>378</td>\n      <td>3</td>\n      <td>8</td>\n      <td>398</td>\n      <td>3</td>\n      <td>24.21</td>\n      <td>120</td>\n      <td>8</td>\n      <td>31.48</td>\n      <td>1236</td>\n      <td>3</td>\n      <td>31.72</td>\n    </tr>\n  </tbody>\n</table>\n</div>"
     },
     "execution_count": 404,
     "metadata": {},
     "output_type": "execute_result"
    }
   ],
   "source": [
    "indices = neighbor_indices\n",
    "\n",
    "print(y_test[misclassified_indices[0]])\n",
    "columns = [\"Misclassified Test idx\", \"True Class\", \"Pred Class\"]\n",
    "for i in range(3):\n",
    "    columns += [\"Neigbor#{}_idx\".format(i + 1), \"Neigbor#{}_True Class\".format(i + 1),\n",
    "        \"Neigbor#{}_Distance\".format(i + 1)]\n",
    "\n",
    "print(columns)\n",
    "df = pd.DataFrame(columns=columns)\n",
    "\n",
    "df[\"Misclassified Test idx\"] = misclassified_indices[0]\n",
    "df[\"True Class\"] = y_test[misclassified_indices[0]]\n",
    "df[\"Pred Class\"] = y_predictions[misclassified_indices[0]]\n",
    "for i in range(3):\n",
    "    df[\"Neigbor#{}_idx\".format(i + 1)] = indices[:, i]\n",
    "    df[\"Neigbor#{}_True Class\".format(i + 1)] = y_train[indices[:, i]]\n",
    "    df[\"Neigbor#{}_Distance\".format(i + 1)] = np.around(distances[:, i], decimals=2)\n",
    "\n",
    "df"
   ],
   "metadata": {
    "collapsed": false,
    "pycharm": {
     "name": "#%%\n"
    }
   }
  },
  {
   "cell_type": "code",
   "execution_count": 409,
   "outputs": [],
   "source": [
    "# (expect_true_neighbor, actual_false, actual_neighbor)\n",
    "def map_misclassification_analysis(\n",
    "        correct_expected_item_index,\n",
    "        misclassifed_item_index,\n",
    "        correct_actual_item_index,\n",
    "):\n",
    "\n",
    "    map_importance_mask_over_digit_image(\n",
    "        X_train[correct_expected_item_index],\n",
    "        importance_item,\n",
    "        y_train[correct_expected_item_index],\n",
    "        y_train[correct_expected_item_index]\n",
    "    )\n",
    "\n",
    "    map_importance_mask_over_digit_image(\n",
    "        X_test[misclassifed_item_index],\n",
    "        importance_item,\n",
    "        y_test[misclassifed_item_index],\n",
    "        y_predictions[misclassifed_item_index]\n",
    "    )\n",
    "\n",
    "    map_importance_mask_over_digit_image(\n",
    "        X_train[correct_actual_item_index],\n",
    "        importance_item,\n",
    "        y_train[correct_actual_item_index],\n",
    "        y_train[correct_actual_item_index]\n",
    "    )"
   ],
   "metadata": {
    "collapsed": false,
    "pycharm": {
     "name": "#%%\n"
    }
   }
  },
  {
   "cell_type": "code",
   "execution_count": 410,
   "outputs": [
    {
     "name": "stdout",
     "output_type": "stream",
     "text": [
      "(array([  18,   21,   32,   43,   48,   61,   78,   86,  104,  108,  129,\n",
      "        138,  195,  199,  206,  227,  240,  241,  243,  244,  254,  259,\n",
      "        261,  272,  278,  279,  290,  292,  294,  297,  298,  304,  306,\n",
      "        309,  311,  316,  323,  336,  348,  358,  362,  363,  366,  371,\n",
      "        382,  383,  385,  412,  413,  424,  436,  437,  452,  472,  487,\n",
      "        488,  493,  503,  506,  509,  521,  539,  546,  578,  582,  597,\n",
      "        603,  617,  624,  627,  634,  644,  648,  649,  676,  685,  692,\n",
      "        694,  707,  722,  727,  734,  736,  737,  744,  745,  753,  756,\n",
      "        773,  778,  782,  805,  814,  823,  834,  847,  858,  867,  891,\n",
      "        892,  895,  897,  903,  910,  913,  919,  943,  950,  958,  970,\n",
      "        991, 1006, 1025, 1038, 1057, 1064, 1098, 1103, 1105, 1115, 1117,\n",
      "       1120, 1121, 1146, 1175, 1184, 1186, 1198, 1199, 1201, 1203, 1206,\n",
      "       1210, 1213, 1230, 1246, 1264, 1273, 1278, 1283, 1318]),)\n"
     ]
    },
    {
     "data": {
      "text/plain": "<Figure size 720x216 with 1 Axes>",
      "image/png": "[encoded data removed]"
     },
     "metadata": {
      "needs_background": "light"
     },
     "output_type": "display_data"
    },
    {
     "data": {
      "text/plain": "<Figure size 720x216 with 1 Axes>",
      "image/png": "[encoded data removed]"
     },
     "metadata": {
      "needs_background": "light"
     },
     "output_type": "display_data"
    },
    {
     "data": {
      "text/plain": "<Figure size 720x216 with 1 Axes>",
      "image/png": "[encoded data removed]"
     },
     "metadata": {
      "needs_background": "light"
     },
     "output_type": "display_data"
    }
   ],
   "source": [
    "# (expect_true_neighbor, actual_false, actual_neighbor)\n",
    "indices_of_correct_number = np.where(y_train == 0)\n",
    "print(indices_of_correct_number)\n",
    "\n",
    "map_misclassification_analysis(1051, 117, 18)"
   ],
   "metadata": {
    "collapsed": false,
    "pycharm": {
     "name": "#%%\n"
    }
   }
  },
  {
   "cell_type": "code",
   "execution_count": 413,
   "outputs": [
    {
     "name": "stdout",
     "output_type": "stream",
     "text": [
      "(array([   8,   29,   36,   40,   47,   59,   60,   67,   82,   91,  156,\n",
      "        163,  169,  173,  183,  184,  196,  197,  207,  214,  215,  232,\n",
      "        238,  245,  248,  271,  283,  296,  302,  307,  312,  313,  318,\n",
      "        320,  339,  342,  344,  346,  349,  355,  376,  387,  397,  398,\n",
      "        419,  429,  431,  433,  462,  477,  490,  511,  516,  529,  530,\n",
      "        540,  554,  567,  570,  572,  573,  587,  593,  601,  608,  611,\n",
      "        615,  621,  625,  628,  632,  638,  654,  671,  684,  696,  697,\n",
      "        731,  748,  761,  772,  775,  777,  783,  820,  825,  833,  843,\n",
      "        857,  863,  876,  878,  881,  883,  884,  888,  911,  933,  937,\n",
      "        938,  942,  960,  965,  966,  974,  995,  997,  999, 1023, 1027,\n",
      "       1055, 1072, 1078, 1090, 1091, 1092, 1116, 1130, 1131, 1136, 1156,\n",
      "       1158, 1164, 1211, 1214, 1231, 1236, 1253, 1259, 1263, 1266, 1305,\n",
      "       1311, 1323, 1328, 1334, 1342, 1343]),)\n"
     ]
    },
    {
     "data": {
      "text/plain": "<Figure size 720x216 with 1 Axes>",
      "image/png": "[encoded data removed]"
     },
     "metadata": {
      "needs_background": "light"
     },
     "output_type": "display_data"
    },
    {
     "data": {
      "text/plain": "<Figure size 720x216 with 1 Axes>",
      "image/png": "[encoded data removed]"
     },
     "metadata": {
      "needs_background": "light"
     },
     "output_type": "display_data"
    },
    {
     "data": {
      "text/plain": "<Figure size 720x216 with 1 Axes>",
      "image/png": "[encoded data removed]"
     },
     "metadata": {
      "needs_background": "light"
     },
     "output_type": "display_data"
    }
   ],
   "source": [
    "indices_of_correct_number = np.where(y_train == 3)\n",
    "print(indices_of_correct_number)\n",
    "\n",
    "map_misclassification_analysis(120, 378, 36)"
   ],
   "metadata": {
    "collapsed": false,
    "pycharm": {
     "name": "#%%\n"
    }
   }
  },
  {
   "cell_type": "markdown",
   "source": [],
   "metadata": {
    "collapsed": false
   }
  },
  {
   "cell_type": "code",
   "execution_count": 436,
   "outputs": [
    {
     "name": "stdout",
     "output_type": "stream",
     "text": [
      "(array([   6,   24,   28,   30,   33,   41,   58,   71,   75,   76,   99,\n",
      "        118,  153,  154,  160,  175,  176,  180,  186,  191,  193,  213,\n",
      "        228,  231,  249,  277,  284,  300,  310,  324,  364,  400,  401,\n",
      "        410,  416,  417,  425,  439,  450,  453,  459,  466,  475,  478,\n",
      "        480,  489,  495,  501,  510,  517,  524,  526,  532,  533,  542,\n",
      "        545,  558,  566,  568,  569,  574,  584,  604,  629,  652,  666,\n",
      "        672,  683,  705,  728,  743,  755,  767,  769,  771,  774,  780,\n",
      "        792,  793,  796,  798,  806,  822,  852,  859,  864,  880,  882,\n",
      "        886,  900,  906,  912,  916,  917,  921,  944,  949,  951,  977,\n",
      "        989, 1011, 1012, 1022, 1041, 1042, 1058, 1059, 1065, 1079, 1080,\n",
      "       1082, 1083, 1106, 1112, 1119, 1125, 1132, 1133, 1140, 1162, 1165,\n",
      "       1171, 1173, 1182, 1190, 1212, 1219, 1232, 1240, 1255, 1276, 1280,\n",
      "       1281, 1284, 1290, 1291, 1295, 1304, 1307, 1325, 1335, 1338, 1340]),)\n"
     ]
    },
    {
     "data": {
      "text/plain": "<Figure size 720x216 with 1 Axes>",
      "image/png": "[encoded data removed]"
     },
     "metadata": {
      "needs_background": "light"
     },
     "output_type": "display_data"
    },
    {
     "data": {
      "text/plain": "<Figure size 720x216 with 1 Axes>",
      "image/png": "[encoded data removed]"
     },
     "metadata": {
      "needs_background": "light"
     },
     "output_type": "display_data"
    },
    {
     "data": {
      "text/plain": "<Figure size 720x216 with 1 Axes>",
      "image/png": "[encoded data removed]"
     },
     "metadata": {
      "needs_background": "light"
     },
     "output_type": "display_data"
    }
   ],
   "source": [
    "indices_of_correct_number = np.where(y_train == 4)\n",
    "print(indices_of_correct_number)\n",
    "\n",
    "map_misclassification_analysis(41, 315, 418)"
   ],
   "metadata": {
    "collapsed": false,
    "pycharm": {
     "name": "#%%\n"
    }
   }
  },
  {
   "cell_type": "code",
   "execution_count": 437,
   "outputs": [
    {
     "name": "stdout",
     "output_type": "stream",
     "text": [
      "(array([  12,   15,   22,   34,   42,   45,   52,   68,   69,   94,  112,\n",
      "        124,  128,  131,  132,  136,  139,  148,  149,  157,  164,  167,\n",
      "        168,  171,  174,  178,  204,  209,  212,  224,  235,  236,  237,\n",
      "        239,  242,  246,  251,  253,  258,  260,  265,  270,  288,  301,\n",
      "        317,  322,  329,  350,  351,  353,  361,  367,  370,  373,  381,\n",
      "        411,  430,  442,  446,  448,  456,  473,  485,  498,  502,  507,\n",
      "        508,  519,  525,  547,  559,  561,  571,  595,  616,  620,  635,\n",
      "        653,  657,  665,  681,  686,  693,  698,  700,  706,  741,  746,\n",
      "        747,  787,  797,  799,  813,  831,  841,  842,  846,  853,  885,\n",
      "        932,  935,  964,  978,  983,  984, 1015, 1026, 1029, 1046, 1068,\n",
      "       1075, 1099, 1143, 1177, 1187, 1202, 1204, 1215, 1221, 1224, 1225,\n",
      "       1239, 1242, 1258, 1260, 1268, 1301, 1303, 1310, 1314, 1315, 1326,\n",
      "       1330, 1341]),)\n"
     ]
    },
    {
     "data": {
      "text/plain": "<Figure size 720x216 with 1 Axes>",
      "image/png": "[encoded data removed]"
     },
     "metadata": {
      "needs_background": "light"
     },
     "output_type": "display_data"
    },
    {
     "data": {
      "text/plain": "<Figure size 720x216 with 1 Axes>",
      "image/png": "[encoded data removed]"
     },
     "metadata": {
      "needs_background": "light"
     },
     "output_type": "display_data"
    },
    {
     "data": {
      "text/plain": "<Figure size 720x216 with 1 Axes>",
      "image/png": "[encoded data removed]"
     },
     "metadata": {
      "needs_background": "light"
     },
     "output_type": "display_data"
    }
   ],
   "source": [
    "indices_of_correct_number = np.where(y_train == 5)\n",
    "print(indices_of_correct_number)\n",
    "\n",
    "map_misclassification_analysis(12, 56, 1145)"
   ],
   "metadata": {
    "collapsed": false,
    "pycharm": {
     "name": "#%%\n"
    }
   }
  },
  {
   "cell_type": "code",
   "execution_count": 424,
   "outputs": [
    {
     "name": "stdout",
     "output_type": "stream",
     "text": [
      "(array([   5,   25,   38,   51,   55,   65,   66,   79,   84,   93,   95,\n",
      "        100,  107,  110,  117,  126,  141,  142,  147,  152,  155,  166,\n",
      "        179,  181,  185,  222,  223,  226,  229,  257,  281,  282,  285,\n",
      "        289,  328,  332,  337,  338,  354,  356,  357,  359,  391,  392,\n",
      "        394,  420,  421,  449,  454,  455,  458,  484,  492,  504,  531,\n",
      "        537,  538,  551,  555,  565,  580,  585,  598,  614,  622,  630,\n",
      "        633,  655,  670,  678,  699,  701,  708,  740,  751,  757,  764,\n",
      "        765,  776,  801,  807,  811,  819,  826,  836,  838,  839,  855,\n",
      "        861,  866,  873,  877,  893,  894,  904,  908,  928,  936,  939,\n",
      "        945,  956,  969,  975,  982,  994,  996, 1002, 1005, 1014, 1016,\n",
      "       1017, 1024, 1031, 1037, 1069, 1073, 1097, 1123, 1144, 1152, 1169,\n",
      "       1172, 1176, 1191, 1205, 1226, 1227, 1237, 1247, 1249, 1252, 1271,\n",
      "       1293, 1306, 1309, 1317, 1320, 1336, 1337]),)\n"
     ]
    },
    {
     "data": {
      "text/plain": "<Figure size 720x216 with 1 Axes>",
      "image/png": "[encoded data removed]"
     },
     "metadata": {
      "needs_background": "light"
     },
     "output_type": "display_data"
    },
    {
     "data": {
      "text/plain": "<Figure size 720x216 with 1 Axes>",
      "image/png": "[encoded data removed]"
     },
     "metadata": {
      "needs_background": "light"
     },
     "output_type": "display_data"
    },
    {
     "data": {
      "text/plain": "<Figure size 720x216 with 1 Axes>",
      "image/png": "[encoded data removed]"
     },
     "metadata": {
      "needs_background": "light"
     },
     "output_type": "display_data"
    }
   ],
   "source": [
    "indices_of_correct_number = np.where(y_train == 1)\n",
    "print(indices_of_correct_number)\n",
    "\n",
    "map_misclassification_analysis(1192, 124, 25)"
   ],
   "metadata": {
    "collapsed": false,
    "pycharm": {
     "name": "#%%\n"
    }
   }
  },
  {
   "cell_type": "code",
   "execution_count": 426,
   "outputs": [
    {
     "name": "stdout",
     "output_type": "stream",
     "text": [
      "(array([  12,   15,   22,   34,   42,   45,   52,   68,   69,   94,  112,\n",
      "        124,  128,  131,  132,  136,  139,  148,  149,  157,  164,  167,\n",
      "        168,  171,  174,  178,  204,  209,  212,  224,  235,  236,  237,\n",
      "        239,  242,  246,  251,  253,  258,  260,  265,  270,  288,  301,\n",
      "        317,  322,  329,  350,  351,  353,  361,  367,  370,  373,  381,\n",
      "        411,  430,  442,  446,  448,  456,  473,  485,  498,  502,  507,\n",
      "        508,  519,  525,  547,  559,  561,  571,  595,  616,  620,  635,\n",
      "        653,  657,  665,  681,  686,  693,  698,  700,  706,  741,  746,\n",
      "        747,  787,  797,  799,  813,  831,  841,  842,  846,  853,  885,\n",
      "        932,  935,  964,  978,  983,  984, 1015, 1026, 1029, 1046, 1068,\n",
      "       1075, 1099, 1143, 1177, 1187, 1202, 1204, 1215, 1221, 1224, 1225,\n",
      "       1239, 1242, 1258, 1260, 1268, 1301, 1303, 1310, 1314, 1315, 1326,\n",
      "       1330, 1341]),)\n"
     ]
    },
    {
     "data": {
      "text/plain": "<Figure size 720x216 with 1 Axes>",
      "image/png": "[encoded data removed]"
     },
     "metadata": {
      "needs_background": "light"
     },
     "output_type": "display_data"
    },
    {
     "data": {
      "text/plain": "<Figure size 720x216 with 1 Axes>",
      "image/png": "[encoded data removed]"
     },
     "metadata": {
      "needs_background": "light"
     },
     "output_type": "display_data"
    },
    {
     "data": {
      "text/plain": "<Figure size 720x216 with 1 Axes>",
      "image/png": "[encoded data removed]"
     },
     "metadata": {
      "needs_background": "light"
     },
     "output_type": "display_data"
    }
   ],
   "source": [
    "indices_of_correct_number = np.where(y_train == 5)\n",
    "print(indices_of_correct_number)\n",
    "\n",
    "map_misclassification_analysis(1275, 130, 12)"
   ],
   "metadata": {
    "collapsed": false,
    "pycharm": {
     "name": "#%%\n"
    }
   }
  },
  {
   "cell_type": "code",
   "execution_count": null,
   "outputs": [],
   "source": [],
   "metadata": {
    "collapsed": false,
    "pycharm": {
     "name": "#%%\n"
    }
   }
  }
 ],
 "metadata": {
  "kernelspec": {
   "display_name": "Python 3",
   "language": "python",
   "name": "python3"
  },
  "language_info": {
   "codemirror_mode": {
    "name": "ipython",
    "version": 2
   },
   "file_extension": ".py",
   "mimetype": "text/x-python",
   "name": "python",
   "nbconvert_exporter": "python",
   "pygments_lexer": "ipython2",
   "version": "2.7.6"
  }
 },
 "nbformat": 4,
 "nbformat_minor": 0
}